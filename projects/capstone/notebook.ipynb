{
 "cells": [
  {
   "cell_type": "markdown",
   "metadata": {
    "_cell_guid": "8c7b3825-1d60-479a-8a64-1b2887ff8dae",
    "_uuid": "a82e2ad6a19c9ce75530f0b3a3c4a21c8c82a006"
   },
   "source": [
    "The following groups of cells is an adaptation from the quick-start guide provided by the Competition Organizers for a \n",
    "quick initial EDA and to set a benchmark.\n",
    "\n",
    "Reference: https://www.kaggle.com/skleinfeld/getting-started-with-the-donorschoose-data-set/notebook"
   ]
  },
  {
   "cell_type": "markdown",
   "metadata": {
    "_cell_guid": "fa3052cd-3b4c-4ba7-b9d2-d18959163aea",
    "_uuid": "2c2fb7b184624a65c9f7481225c5b1eeff3fe402"
   },
   "source": [
    "# About the DonorsChoose Data Set\n",
    "\n",
    "The goal of the DonorsChoose competition is to build a model that can accurately predict whether a teacher's project proposal was accepted, based on the data they provided in their application. The `train.csv` data set provided by DonorsChoose contains the following features:\n",
    "\n",
    "Feature | Description | Data Type\n",
    "----------|---------------|------------\n",
    "**`project_id`** | A unique identifier for the proposed project. **Example:** `p036502`   | string\n",
    "**`project_title`**    | Title of the project. **Examples:**<br><ul><li><code>Art Will Make You Happy!</code></li><li><code>First Grade Fun</code></li></ul> | string\n",
    "**`project_grade_category`** | Grade level of students for which the project is targeted. One of the following enumerated values: <br/><ul><li><code>Grades PreK-2</code></li><li><code>Grades 3-5</code></li><li><code>Grades 6-8</code></li><li><code>Grades 9-12</code></li></ul>  | string\n",
    " **`project_subject_categories`** | One or more (comma-separated) subject categories for the project from the following enumerated list of values:  <br/><ul><li><code>Applied Learning</code></li><li><code>Care &amp; Hunger</code></li><li><code>Health &amp; Sports</code></li><li><code>History &amp; Civics</code></li><li><code>Literacy &amp; Language</code></li><li><code>Math &amp; Science</code></li><li><code>Music &amp; The Arts</code></li><li><code>Special Needs</code></li><li><code>Warmth</code></li></ul><br/> **Examples:** <br/><ul><li><code>Music &amp; The Arts</code></li><li><code>Literacy &amp; Language, Math &amp; Science</code></li>  | string\n",
    "  **`school_state`** | State where school is located ([Two-letter U.S. postal code](https://en.wikipedia.org/wiki/List_of_U.S._state_abbreviations#Postal_codes)). **Example:** `WY`| string\n",
    "**`project_subject_subcategories`** | One or more (comma-separated) subject subcategories for the project. **Examples:** <br/><ul><li><code>Literacy</code></li><li><code>Literature &amp; Writing, Social Sciences</code></li></ul> | string\n",
    "**`project_resource_summary`** | An explanation of the resources needed for the project. **Example:** <br/><ul><li><code>My students need hands on literacy materials to manage sensory needs!</code</li></ul> | string\n",
    "**`project_essay_1`**    | First paragraph of application essay.<sup>*</sup>  | string\n",
    "**`project_essay_2`**    | Second paragraph of application essay.<sup>*</sup> | string\n",
    "**`project_essay_3`**    | Third paragraph of application essay.<sup>*</sup> | string\n",
    "**`project_essay_4`**    | Fourth paragraph of application essay.<sup>*</sup> | string\n",
    "**`project_submitted_datetime`** | Datetime when project application was submitted. **Example:** `2016-04-28 12:43:56.245`   | int64\n",
    "**`teacher_id`** | A unique identifier for the teacher of the proposed project. **Example:** `bdf8baa8fedef6bfeec7ae4ff1c15c56`  | string\n",
    "**`teacher_prefix`** | Teacher's title. One of the following enumerated values: <br/><ul><li><code>nan</code></li><li><code>Dr.</code></li><li><code>Mr.</code></li><li><code>Mrs.</code></li><li><code>Ms.</code></li><li><code>Teacher.</code></li></ul>  | string\n",
    "**`teacher_number_of_previously_posted_projects`** | Number of project applications previously submitted by the same teacher. **Example:** `2` | int64\n",
    "\n",
    "<sup>\\*</sup> See **A Note on Essay Data** for some important details about changes to the application essay prompts in February 2010 that affect the values of `project_essay_1`, `project_essay_2`, `project_essay_3`, and `project_essay_4`.\n",
    "\n",
    "Additionally, the `resources.csv` data set provides more data about the resources required for each project. Each line in this file represents a resource required by a project:\n",
    "\n",
    "Feature | Description | Data Type\n",
    "----------|---------------|------------\n",
    "**`id`** | A `project_id` value from the `train.csv` file.  **Example:** `p036502`   | string\n",
    "**`description`** | Desciption of the resource. **Example:** `Tenor Saxophone Reeds, Box of 25`   | string\n",
    "**`quantity`** | Quantity of the resource required. **Example:** `3`   | string\n",
    "**`price`** | Price of the resource required. **Example:** `9.95`   | string\n",
    "\n",
    "**Note:** Many projects require multiple resources. The `id` value corresponds to a `project_id` in train.csv, so you use it as a key to retrieve all resources needed for a project:\n",
    "\n",
    "The data set contains the following label (the value you will attempt to predict):\n",
    "\n",
    "Label | Description | Data Type\n",
    "----------|---------------|------------\n",
    "`project_is_approved` | A binary flag indicating whether DonorsChoose approved the project. A value of `0` indicates the project was not approved, and a value of `1` indicates the project was approved. | int64"
   ]
  },
  {
   "cell_type": "markdown",
   "metadata": {
    "_cell_guid": "55d29c9a-9f20-40e3-9100-04e8f1796e07",
    "_uuid": "a4a00b075593184fc464e62f6f99758076b16041"
   },
   "source": [
    "### A Note on Essay Data\n",
    "\n",
    "Prior to February 18th, 2010, for their DonorsChoose application, teachers had the option of writing either a free-form essay (split into `project_essay_1`, `project_essay_2`, `project_essay_3`, and `project_essay_4`) or writing free-form answers to the following four prompts:\n",
    "\n",
    "1. Introduce your classroom (`project_essay_1`)\n",
    "2. Describe the situation (`project_essay_2`)\n",
    "3. Describe the solution (`project_essay_3`)\n",
    "4. Empower your donors (`project_essay_4`) \n",
    "\n",
    "Effective February 18th, 2010, the option to write a free-form essay was removed, and all teachers were required to respond to the following four prompts:\n",
    "\n",
    "1. Open with the challenge facing your students (`project_essay_1`)\n",
    "2. Tell us more about your students (`project_essay_2`)\n",
    "3. Inspire your potential donors with an overview of the resources you're requesting (`project_essay_3`)\n",
    "4. Close by sharing why your project is so important (`project_essay_4`) \n",
    "\n",
    "When using essay data from `project_essay_1`, `project_essay_2`, `project_essay_3`, and `project_essay_4`, make sure to take into account that the nature of the text content in these fields is different for examples with a `project_submitted_datetime` prior to February 18th, 2010."
   ]
  },
  {
   "cell_type": "markdown",
   "metadata": {
    "_cell_guid": "b19a0e22-beb7-41fa-9f5b-a64bb7098731",
    "_uuid": "66c4d0182b4651c30127ff56914a01ecdcc808db"
   },
   "source": [
    "## Explore the DonorsChoose Data\n",
    "\n",
    "Let's explore our data using [pandas](https://pandas.pydata.org/), an open source Python data analysis library. (For more practice using pandas, see the  [Quick Introduction to pandas](https://colab.research.google.com/notebooks/mlcc/intro_to_pandas.ipynb) workbook. We'll also import [matplotlib](https://matplotlib.org/) to do some data visualizations.\n",
    "\n",
    "First, run the following cell to import pandas and matplotlib:"
   ]
  },
  {
   "cell_type": "code",
   "execution_count": 2,
   "metadata": {
    "_cell_guid": "6496b8ea-0669-4060-8e74-9781a3b83990",
    "_uuid": "6be9c6287dc01cd729308266b16a5ef61c999923",
    "collapsed": true
   },
   "outputs": [],
   "source": [
    "import pandas as pd\n",
    "from matplotlib import pyplot as plt"
   ]
  },
  {
   "cell_type": "markdown",
   "metadata": {
    "_cell_guid": "f5ada641-2a72-473b-85e6-8bdfc53233ca",
    "_uuid": "2e7c9da2bb8e57e7d3d6300ef4a6c7362e1a10d4"
   },
   "source": [
    "Next, read the DonorsChoose training data into a `DataFrame`:"
   ]
  },
  {
   "cell_type": "code",
   "execution_count": 3,
   "metadata": {
    "_cell_guid": "98fcf917-cda3-4596-b538-3df27f9f5f0e",
    "_uuid": "0889eefe3df46fff71f8442d6607ee52e8f491f9",
    "collapsed": true
   },
   "outputs": [],
   "source": [
    "# Filepath to main training dataset.\n",
    "train_file_path = 'data/train.csv'\n",
    "\n",
    "# Read data and store in DataFrame.\n",
    "train_data = pd.read_csv(train_file_path, sep=',')"
   ]
  },
  {
   "cell_type": "markdown",
   "metadata": {
    "_cell_guid": "0aec80ec-9bdb-476f-b002-311bc9e2adc6",
    "_uuid": "06a16246878db2b231650de036e89fca65c5ee09"
   },
   "source": [
    "List all the fields in the data set:"
   ]
  },
  {
   "cell_type": "code",
   "execution_count": 4,
   "metadata": {
    "_cell_guid": "98dbc86c-316f-4b0e-b78e-617b35f2da98",
    "_uuid": "790077ba2f255af655d17b33b767d30c5a66a224",
    "collapsed": true
   },
   "outputs": [
    {
     "data": {
      "text/plain": [
       "Index(['id', 'teacher_id', 'teacher_prefix', 'school_state',\n",
       "       'project_submitted_datetime', 'project_grade_category',\n",
       "       'project_subject_categories', 'project_subject_subcategories',\n",
       "       'project_title', 'project_essay_1', 'project_essay_2',\n",
       "       'project_essay_3', 'project_essay_4', 'project_resource_summary',\n",
       "       'teacher_number_of_previously_posted_projects', 'project_is_approved'],\n",
       "      dtype='object')"
      ]
     },
     "execution_count": 4,
     "metadata": {},
     "output_type": "execute_result"
    }
   ],
   "source": [
    "train_data.columns"
   ]
  },
  {
   "cell_type": "markdown",
   "metadata": {
    "_cell_guid": "56a1d80d-5d37-4a80-a23f-bca5ebe7e4db",
    "_uuid": "3ec8da52fd1edce18862905e624747acad2a6aed"
   },
   "source": [
    "Retrieve the first three examples:"
   ]
  },
  {
   "cell_type": "code",
   "execution_count": 5,
   "metadata": {
    "_cell_guid": "465ba7bc-f80c-440a-8f47-16c404cd2187",
    "_uuid": "fb44ce4af7d24d6cee0ef95f54e6a05eda7e3e57",
    "collapsed": true
   },
   "outputs": [
    {
     "data": {
      "text/html": [
       "<div>\n",
       "<style scoped>\n",
       "    .dataframe tbody tr th:only-of-type {\n",
       "        vertical-align: middle;\n",
       "    }\n",
       "\n",
       "    .dataframe tbody tr th {\n",
       "        vertical-align: top;\n",
       "    }\n",
       "\n",
       "    .dataframe thead th {\n",
       "        text-align: right;\n",
       "    }\n",
       "</style>\n",
       "<table border=\"1\" class=\"dataframe\">\n",
       "  <thead>\n",
       "    <tr style=\"text-align: right;\">\n",
       "      <th></th>\n",
       "      <th>id</th>\n",
       "      <th>teacher_id</th>\n",
       "      <th>teacher_prefix</th>\n",
       "      <th>school_state</th>\n",
       "      <th>project_submitted_datetime</th>\n",
       "      <th>project_grade_category</th>\n",
       "      <th>project_subject_categories</th>\n",
       "      <th>project_subject_subcategories</th>\n",
       "      <th>project_title</th>\n",
       "      <th>project_essay_1</th>\n",
       "      <th>project_essay_2</th>\n",
       "      <th>project_essay_3</th>\n",
       "      <th>project_essay_4</th>\n",
       "      <th>project_resource_summary</th>\n",
       "      <th>teacher_number_of_previously_posted_projects</th>\n",
       "      <th>project_is_approved</th>\n",
       "    </tr>\n",
       "  </thead>\n",
       "  <tbody>\n",
       "    <tr>\n",
       "      <th>0</th>\n",
       "      <td>p036502</td>\n",
       "      <td>484aaf11257089a66cfedc9461c6bd0a</td>\n",
       "      <td>Ms.</td>\n",
       "      <td>NV</td>\n",
       "      <td>2016-11-18 14:45:59</td>\n",
       "      <td>Grades PreK-2</td>\n",
       "      <td>Literacy &amp; Language</td>\n",
       "      <td>Literacy</td>\n",
       "      <td>Super Sight Word Centers</td>\n",
       "      <td>Most of my kindergarten students come from low...</td>\n",
       "      <td>I currently have a differentiated sight word c...</td>\n",
       "      <td>NaN</td>\n",
       "      <td>NaN</td>\n",
       "      <td>My students need 6 Ipod Nano's to create and d...</td>\n",
       "      <td>26</td>\n",
       "      <td>1</td>\n",
       "    </tr>\n",
       "    <tr>\n",
       "      <th>1</th>\n",
       "      <td>p039565</td>\n",
       "      <td>df72a3ba8089423fa8a94be88060f6ed</td>\n",
       "      <td>Mrs.</td>\n",
       "      <td>GA</td>\n",
       "      <td>2017-04-26 15:57:28</td>\n",
       "      <td>Grades 3-5</td>\n",
       "      <td>Music &amp; The Arts, Health &amp; Sports</td>\n",
       "      <td>Performing Arts, Team Sports</td>\n",
       "      <td>Keep Calm and Dance On</td>\n",
       "      <td>Our elementary school is a culturally rich sch...</td>\n",
       "      <td>We strive to provide our diverse population of...</td>\n",
       "      <td>NaN</td>\n",
       "      <td>NaN</td>\n",
       "      <td>My students need matching shirts to wear for d...</td>\n",
       "      <td>1</td>\n",
       "      <td>0</td>\n",
       "    </tr>\n",
       "    <tr>\n",
       "      <th>2</th>\n",
       "      <td>p233823</td>\n",
       "      <td>a9b876a9252e08a55e3d894150f75ba3</td>\n",
       "      <td>Ms.</td>\n",
       "      <td>UT</td>\n",
       "      <td>2017-01-01 22:57:44</td>\n",
       "      <td>Grades 3-5</td>\n",
       "      <td>Math &amp; Science, Literacy &amp; Language</td>\n",
       "      <td>Applied Sciences, Literature &amp; Writing</td>\n",
       "      <td>Lets 3Doodle to Learn</td>\n",
       "      <td>Hello;\\r\\nMy name is Mrs. Brotherton. I teach ...</td>\n",
       "      <td>We are looking to add some 3Doodler to our cla...</td>\n",
       "      <td>NaN</td>\n",
       "      <td>NaN</td>\n",
       "      <td>My students need the 3doodler. We are an SEM s...</td>\n",
       "      <td>5</td>\n",
       "      <td>1</td>\n",
       "    </tr>\n",
       "  </tbody>\n",
       "</table>\n",
       "</div>"
      ],
      "text/plain": [
       "        id                        teacher_id teacher_prefix school_state  \\\n",
       "0  p036502  484aaf11257089a66cfedc9461c6bd0a            Ms.           NV   \n",
       "1  p039565  df72a3ba8089423fa8a94be88060f6ed           Mrs.           GA   \n",
       "2  p233823  a9b876a9252e08a55e3d894150f75ba3            Ms.           UT   \n",
       "\n",
       "  project_submitted_datetime project_grade_category  \\\n",
       "0        2016-11-18 14:45:59          Grades PreK-2   \n",
       "1        2017-04-26 15:57:28             Grades 3-5   \n",
       "2        2017-01-01 22:57:44             Grades 3-5   \n",
       "\n",
       "            project_subject_categories  \\\n",
       "0                  Literacy & Language   \n",
       "1    Music & The Arts, Health & Sports   \n",
       "2  Math & Science, Literacy & Language   \n",
       "\n",
       "            project_subject_subcategories             project_title  \\\n",
       "0                                Literacy  Super Sight Word Centers   \n",
       "1            Performing Arts, Team Sports    Keep Calm and Dance On   \n",
       "2  Applied Sciences, Literature & Writing     Lets 3Doodle to Learn   \n",
       "\n",
       "                                     project_essay_1  \\\n",
       "0  Most of my kindergarten students come from low...   \n",
       "1  Our elementary school is a culturally rich sch...   \n",
       "2  Hello;\\r\\nMy name is Mrs. Brotherton. I teach ...   \n",
       "\n",
       "                                     project_essay_2 project_essay_3  \\\n",
       "0  I currently have a differentiated sight word c...             NaN   \n",
       "1  We strive to provide our diverse population of...             NaN   \n",
       "2  We are looking to add some 3Doodler to our cla...             NaN   \n",
       "\n",
       "  project_essay_4                           project_resource_summary  \\\n",
       "0             NaN  My students need 6 Ipod Nano's to create and d...   \n",
       "1             NaN  My students need matching shirts to wear for d...   \n",
       "2             NaN  My students need the 3doodler. We are an SEM s...   \n",
       "\n",
       "   teacher_number_of_previously_posted_projects  project_is_approved  \n",
       "0                                            26                    1  \n",
       "1                                             1                    0  \n",
       "2                                             5                    1  "
      ]
     },
     "execution_count": 5,
     "metadata": {},
     "output_type": "execute_result"
    }
   ],
   "source": [
    "train_data.head(3)"
   ]
  },
  {
   "cell_type": "markdown",
   "metadata": {
    "_cell_guid": "f297bfa3-fd11-4cd8-9600-fc1cb26e82a9",
    "_uuid": "e68fbacc7118bf981c2510b4f3f6e36894fe2c42"
   },
   "source": [
    "Let's take a closer look at our one numeric feature, `teacher_number_of_previously_posted_projects`. Print some key stats using the  `describe()` method:"
   ]
  },
  {
   "cell_type": "code",
   "execution_count": 6,
   "metadata": {
    "_cell_guid": "e390e904-3ce4-436c-8d6a-2d4fc2511f8c",
    "_uuid": "f77ce659218fbdc0faf25d5cd485ddb9a5c3e919",
    "collapsed": true
   },
   "outputs": [
    {
     "data": {
      "text/plain": [
       "count    182080.000000\n",
       "mean         11.237055\n",
       "std          28.016086\n",
       "min           0.000000\n",
       "25%           0.000000\n",
       "50%           2.000000\n",
       "75%           9.000000\n",
       "max         451.000000\n",
       "Name: teacher_number_of_previously_posted_projects, dtype: float64"
      ]
     },
     "execution_count": 6,
     "metadata": {},
     "output_type": "execute_result"
    }
   ],
   "source": [
    "# Describe data set and retrieve data for teacher_number_of_previously_posted_projects\n",
    "train_data.describe()[\"teacher_number_of_previously_posted_projects\"]"
   ]
  },
  {
   "cell_type": "markdown",
   "metadata": {
    "_cell_guid": "358086a1-a3e1-40de-96da-b2ad68827b90",
    "_uuid": "e94c8fd19bf6637e1fcd3d7c6d7285af15f6c29c"
   },
   "source": [
    "We can see that the minumum number of previously posted projects for a teacher is 0, the maximum number is 451, and the mean (average) number is 11.23. Let's visualize the distribution using a histogram, to get a better sense of the spread."
   ]
  },
  {
   "cell_type": "code",
   "execution_count": 7,
   "metadata": {
    "_cell_guid": "9c9550e1-c071-4087-9c26-f0a680eba26f",
    "_uuid": "6c05409387f112fd1e3ea016583a408f2a8e097a",
    "collapsed": true
   },
   "outputs": [
    {
     "data": {
      "image/png": "[encoded data removed]",
      "text/plain": [
       "<Figure size 432x288 with 1 Axes>"
      ]
     },
     "metadata": {},
     "output_type": "display_data"
    }
   ],
   "source": [
    "# Plot histogram with 45 bins; each bin representing a range of 10\n",
    "plt.hist(train_data[\"teacher_number_of_previously_posted_projects\"], bins=45)\n",
    "plt.xticks(range(0, 500, 50))\n",
    "plt.show()"
   ]
  },
  {
   "cell_type": "markdown",
   "metadata": {
    "_cell_guid": "131cfeaf-316f-4497-98b3-0e1539dc74c5",
    "_uuid": "dc317c7818e43c18058b9610c6a13064a8cdacef"
   },
   "source": [
    "We can see that the vast majority of examples have a `teacher_number_previously_posted_projects` value between 0 and 10, with a sharp dropoff thereafter. However, if we rebucket our data into two bins (&lt; 10 and &ge; 10), we can see that there's a substantial long tail of examples with previously-posted-project values greater than 10:"
   ]
  },
  {
   "cell_type": "code",
   "execution_count": 8,
   "metadata": {
    "_cell_guid": "1759ab1f-6cfc-4d59-ab66-0d21040bf955",
    "_uuid": "2b00fb5cc71d2f09c7c65727b092cc1496e47dad",
    "collapsed": true
   },
   "outputs": [
    {
     "data": {
      "image/png": "[encoded data removed]",
      "text/plain": [
       "<Figure size 432x288 with 1 Axes>"
      ]
     },
     "metadata": {},
     "output_type": "display_data"
    }
   ],
   "source": [
    "# Plot histogram with 45 bins; each bin representing a range of 10\n",
    "plt.hist(train_data[\"teacher_number_of_previously_posted_projects\"], bins=[0, 10, 450])\n",
    "plt.xticks(range(0, 500, 50))\n",
    "plt.show()"
   ]
  },
  {
   "cell_type": "markdown",
   "metadata": {
    "_cell_guid": "d40d917a-405e-446a-88c5-ff843c071c67",
    "_uuid": "78839e4e8e5b045b74d036f77fc457a13c9b3703"
   },
   "source": [
    "## Build an Initial Linear Classification Model (Benchmark)\n",
    "\n",
    "Perhaps `teacher_number_of_previously_posted_projects` might provide a good signal as to whether a DonorsChoose application will be accepted? We can hypothesize that teachers who have submitted a large number of previous projects may be more familiar with the ins and outs of the application process and less likely to make errors that would lead to a rejection.\n",
    "\n",
    "Let's test that theory by building a simple linear classification model that predicts the `project_is_approved` value solely from the `teacher_number_of_previously_posted_projects` feature. We'll build our model in TensorFlow using a `LinearClassifier` from the high-level [Estimators API](https://www.tensorflow.org/programmers_guide/estimators). \n",
    "\n",
    "First, import the modules we'll use, which include TensorFlow, the TensorFlow [Datasets API](https://www.tensorflow.org/get_started/datasets_quickstart), [numpy](http://www.numpy.org/), and [scikit-learn](http://scikit-learn.org/) (for some convenience functions for metrics):"
   ]
  },
  {
   "cell_type": "code",
   "execution_count": 11,
   "metadata": {
    "_cell_guid": "e3c45ba3-a75e-4a45-b155-37802e9c0fbc",
    "_uuid": "1e27554fb69de6781ce4c7d94141fd23f4273aca",
    "collapsed": true
   },
   "outputs": [
    {
     "ename": "ModuleNotFoundError",
     "evalue": "No module named 'tensorflowgpu'",
     "output_type": "error",
     "traceback": [
      "\u001b[0;31m---------------------------------------------------------------------------\u001b[0m",
      "\u001b[0;31mModuleNotFoundError\u001b[0m                       Traceback (most recent call last)",
      "\u001b[0;32m<ipython-input-11-2d1950715f9b>\u001b[0m in \u001b[0;36m<module>\u001b[0;34m()\u001b[0m\n\u001b[0;32m----> 1\u001b[0;31m \u001b[0;32mimport\u001b[0m \u001b[0mtensorflowgpu\u001b[0m \u001b[0;32mas\u001b[0m \u001b[0mtf\u001b[0m\u001b[0;34m\u001b[0m\u001b[0m\n\u001b[0m\u001b[1;32m      2\u001b[0m \u001b[0;32mfrom\u001b[0m \u001b[0mtensorflow\u001b[0m\u001b[0;34m.\u001b[0m\u001b[0mpython\u001b[0m\u001b[0;34m.\u001b[0m\u001b[0mdata\u001b[0m \u001b[0;32mimport\u001b[0m \u001b[0mDataset\u001b[0m\u001b[0;34m\u001b[0m\u001b[0m\n\u001b[1;32m      3\u001b[0m \u001b[0;32mimport\u001b[0m \u001b[0mnumpy\u001b[0m \u001b[0;32mas\u001b[0m \u001b[0mnp\u001b[0m\u001b[0;34m\u001b[0m\u001b[0m\n\u001b[1;32m      4\u001b[0m \u001b[0;32mimport\u001b[0m \u001b[0msklearn\u001b[0m\u001b[0;34m.\u001b[0m\u001b[0mmetrics\u001b[0m \u001b[0;32mas\u001b[0m \u001b[0mmetrics\u001b[0m\u001b[0;34m\u001b[0m\u001b[0m\n",
      "\u001b[0;31mModuleNotFoundError\u001b[0m: No module named 'tensorflowgpu'"
     ]
    }
   ],
   "source": [
    "import tensorflow as tf\n",
    "from tensorflow.python.data import Dataset\n",
    "import numpy as np\n",
    "import sklearn.metrics as metrics"
   ]
  },
  {
   "cell_type": "code",
   "execution_count": 33,
   "metadata": {},
   "outputs": [
    {
     "ename": "SystemError",
     "evalue": "Bad call flags in PyCFunction_Call. METH_OLDARGS is no longer supported!",
     "output_type": "error",
     "traceback": [
      "\u001b[0;31m---------------------------------------------------------------------------\u001b[0m",
      "\u001b[0;31mSystemError\u001b[0m                               Traceback (most recent call last)",
      "\u001b[0;32m<ipython-input-33-af8381cd43f5>\u001b[0m in \u001b[0;36m<module>\u001b[0;34m()\u001b[0m\n\u001b[1;32m      1\u001b[0m \u001b[0;31m# Creates a graph.\u001b[0m\u001b[0;34m\u001b[0m\u001b[0;34m\u001b[0m\u001b[0m\n\u001b[0;32m----> 2\u001b[0;31m \u001b[0ma\u001b[0m \u001b[0;34m=\u001b[0m \u001b[0mtf\u001b[0m\u001b[0;34m.\u001b[0m\u001b[0mconstant\u001b[0m\u001b[0;34m(\u001b[0m\u001b[0;34m[\u001b[0m\u001b[0;36m1.0\u001b[0m\u001b[0;34m,\u001b[0m \u001b[0;36m2.0\u001b[0m\u001b[0;34m,\u001b[0m \u001b[0;36m3.0\u001b[0m\u001b[0;34m,\u001b[0m \u001b[0;36m4.0\u001b[0m\u001b[0;34m,\u001b[0m \u001b[0;36m5.0\u001b[0m\u001b[0;34m,\u001b[0m \u001b[0;36m6.0\u001b[0m\u001b[0;34m]\u001b[0m\u001b[0;34m,\u001b[0m \u001b[0mshape\u001b[0m\u001b[0;34m=\u001b[0m\u001b[0;34m[\u001b[0m\u001b[0;36m2\u001b[0m\u001b[0;34m,\u001b[0m \u001b[0;36m3\u001b[0m\u001b[0;34m]\u001b[0m\u001b[0;34m,\u001b[0m \u001b[0mname\u001b[0m\u001b[0;34m=\u001b[0m\u001b[0;34m'a'\u001b[0m\u001b[0;34m)\u001b[0m\u001b[0;34m\u001b[0m\u001b[0m\n\u001b[0m\u001b[1;32m      3\u001b[0m \u001b[0mb\u001b[0m \u001b[0;34m=\u001b[0m \u001b[0mtf\u001b[0m\u001b[0;34m.\u001b[0m\u001b[0mconstant\u001b[0m\u001b[0;34m(\u001b[0m\u001b[0;34m[\u001b[0m\u001b[0;36m1.0\u001b[0m\u001b[0;34m,\u001b[0m \u001b[0;36m2.0\u001b[0m\u001b[0;34m,\u001b[0m \u001b[0;36m3.0\u001b[0m\u001b[0;34m,\u001b[0m \u001b[0;36m4.0\u001b[0m\u001b[0;34m,\u001b[0m \u001b[0;36m5.0\u001b[0m\u001b[0;34m,\u001b[0m \u001b[0;36m6.0\u001b[0m\u001b[0;34m]\u001b[0m\u001b[0;34m,\u001b[0m \u001b[0mshape\u001b[0m\u001b[0;34m=\u001b[0m\u001b[0;34m[\u001b[0m\u001b[0;36m3\u001b[0m\u001b[0;34m,\u001b[0m \u001b[0;36m2\u001b[0m\u001b[0;34m]\u001b[0m\u001b[0;34m,\u001b[0m \u001b[0mname\u001b[0m\u001b[0;34m=\u001b[0m\u001b[0;34m'b'\u001b[0m\u001b[0;34m)\u001b[0m\u001b[0;34m\u001b[0m\u001b[0m\n\u001b[1;32m      4\u001b[0m \u001b[0mc\u001b[0m \u001b[0;34m=\u001b[0m \u001b[0mtf\u001b[0m\u001b[0;34m.\u001b[0m\u001b[0mmatmul\u001b[0m\u001b[0;34m(\u001b[0m\u001b[0ma\u001b[0m\u001b[0;34m,\u001b[0m \u001b[0mb\u001b[0m\u001b[0;34m)\u001b[0m\u001b[0;34m\u001b[0m\u001b[0m\n\u001b[1;32m      5\u001b[0m \u001b[0;31m# Creates a session with log_device_placement set to True.\u001b[0m\u001b[0;34m\u001b[0m\u001b[0;34m\u001b[0m\u001b[0m\n",
      "\u001b[0;32m~/anaconda3/envs/fastai/lib/python3.6/site-packages/tensorflow/python/framework/constant_op.py\u001b[0m in \u001b[0;36mconstant\u001b[0;34m(value, dtype, shape, name, verify_shape)\u001b[0m\n\u001b[1;32m    216\u001b[0m   const_tensor = g.create_op(\n\u001b[1;32m    217\u001b[0m       \u001b[0;34m\"Const\"\u001b[0m\u001b[0;34m,\u001b[0m \u001b[0;34m[\u001b[0m\u001b[0;34m]\u001b[0m\u001b[0;34m,\u001b[0m \u001b[0;34m[\u001b[0m\u001b[0mdtype_value\u001b[0m\u001b[0;34m.\u001b[0m\u001b[0mtype\u001b[0m\u001b[0;34m]\u001b[0m\u001b[0;34m,\u001b[0m\u001b[0;34m\u001b[0m\u001b[0m\n\u001b[0;32m--> 218\u001b[0;31m       attrs={\"value\": tensor_value,\n\u001b[0m\u001b[1;32m    219\u001b[0m              \"dtype\": dtype_value},\n\u001b[1;32m    220\u001b[0m       name=name).outputs[0]\n",
      "\u001b[0;32m~/anaconda3/envs/fastai/lib/python3.6/site-packages/tensorflow/python/framework/ops.py\u001b[0m in \u001b[0;36mcreate_op\u001b[0;34m(self, op_type, inputs, dtypes, input_types, name, attrs, op_def, compute_shapes, compute_device)\u001b[0m\n\u001b[1;32m   3158\u001b[0m         \u001b[0;32mwith\u001b[0m \u001b[0merrors\u001b[0m\u001b[0;34m.\u001b[0m\u001b[0mraise_exception_on_not_ok_status\u001b[0m\u001b[0;34m(\u001b[0m\u001b[0;34m)\u001b[0m \u001b[0;32mas\u001b[0m \u001b[0mstatus\u001b[0m\u001b[0;34m:\u001b[0m\u001b[0;34m\u001b[0m\u001b[0m\n\u001b[1;32m   3159\u001b[0m           \u001b[0mserialized\u001b[0m \u001b[0;34m=\u001b[0m \u001b[0mfunction\u001b[0m\u001b[0;34m.\u001b[0m\u001b[0mdefinition\u001b[0m\u001b[0;34m.\u001b[0m\u001b[0mSerializeToString\u001b[0m\u001b[0;34m(\u001b[0m\u001b[0;34m)\u001b[0m\u001b[0;34m\u001b[0m\u001b[0m\n\u001b[0;32m-> 3160\u001b[0;31m           function._c_func = c_api.TF_FunctionImportFunctionDef(\n\u001b[0m\u001b[1;32m   3161\u001b[0m               serialized, status)\n\u001b[1;32m   3162\u001b[0m       \u001b[0;32mwith\u001b[0m \u001b[0merrors\u001b[0m\u001b[0;34m.\u001b[0m\u001b[0mraise_exception_on_not_ok_status\u001b[0m\u001b[0;34m(\u001b[0m\u001b[0;34m)\u001b[0m \u001b[0;32mas\u001b[0m \u001b[0mstatus\u001b[0m\u001b[0;34m:\u001b[0m\u001b[0;34m\u001b[0m\u001b[0m\n",
      "\u001b[0;32m~/anaconda3/envs/fastai/lib/python3.6/site-packages/tensorflow/python/framework/ops.py\u001b[0m in \u001b[0;36m__init__\u001b[0;34m(self, node_def, g, inputs, output_types, control_inputs, input_types, original_op, op_def)\u001b[0m\n\u001b[1;32m   1664\u001b[0m           op_def, inputs, node_def.attr)\n\u001b[1;32m   1665\u001b[0m       self._c_op = _create_c_op(self._graph, node_def, grouped_inputs,\n\u001b[0;32m-> 1666\u001b[0;31m                                 control_input_ops)\n\u001b[0m\u001b[1;32m   1667\u001b[0m     \u001b[0;32melse\u001b[0m\u001b[0;34m:\u001b[0m\u001b[0;34m\u001b[0m\u001b[0m\n\u001b[1;32m   1668\u001b[0m       \u001b[0mself\u001b[0m\u001b[0;34m.\u001b[0m\u001b[0m_c_op\u001b[0m \u001b[0;34m=\u001b[0m \u001b[0;32mNone\u001b[0m\u001b[0;34m\u001b[0m\u001b[0m\n",
      "\u001b[0;32m~/anaconda3/envs/fastai/lib/python3.6/site-packages/tensorflow/python/framework/ops.py\u001b[0m in \u001b[0;36m<listcomp>\u001b[0;34m(.0)\u001b[0m\n\u001b[1;32m   1664\u001b[0m           op_def, inputs, node_def.attr)\n\u001b[1;32m   1665\u001b[0m       self._c_op = _create_c_op(self._graph, node_def, grouped_inputs,\n\u001b[0;32m-> 1666\u001b[0;31m                                 control_input_ops)\n\u001b[0m\u001b[1;32m   1667\u001b[0m     \u001b[0;32melse\u001b[0m\u001b[0;34m:\u001b[0m\u001b[0;34m\u001b[0m\u001b[0m\n\u001b[1;32m   1668\u001b[0m       \u001b[0mself\u001b[0m\u001b[0;34m.\u001b[0m\u001b[0m_c_op\u001b[0m \u001b[0;34m=\u001b[0m \u001b[0;32mNone\u001b[0m\u001b[0;34m\u001b[0m\u001b[0m\n",
      "\u001b[0;32m~/anaconda3/envs/fastai/lib/python3.6/site-packages/tensorflow/python/framework/ops.py\u001b[0m in \u001b[0;36m__init__\u001b[0;34m(self, op, value_index, dtype)\u001b[0m\n\u001b[1;32m    303\u001b[0m     \u001b[0;32mreturn\u001b[0m \u001b[0mself\u001b[0m\u001b[0;34m.\u001b[0m\u001b[0m_op\u001b[0m\u001b[0;34m\u001b[0m\u001b[0m\n\u001b[1;32m    304\u001b[0m \u001b[0;34m\u001b[0m\u001b[0m\n\u001b[0;32m--> 305\u001b[0;31m   \u001b[0;34m@\u001b[0m\u001b[0mproperty\u001b[0m\u001b[0;34m\u001b[0m\u001b[0m\n\u001b[0m\u001b[1;32m    306\u001b[0m   \u001b[0;32mdef\u001b[0m \u001b[0mdtype\u001b[0m\u001b[0;34m(\u001b[0m\u001b[0mself\u001b[0m\u001b[0;34m)\u001b[0m\u001b[0;34m:\u001b[0m\u001b[0;34m\u001b[0m\u001b[0m\n\u001b[1;32m    307\u001b[0m     \u001b[0;34m\"\"\"The `DType` of elements in this tensor.\"\"\"\u001b[0m\u001b[0;34m\u001b[0m\u001b[0m\n",
      "\u001b[0;32m~/anaconda3/envs/fastai/lib/python3.6/site-packages/tensorflow/python/framework/ops.py\u001b[0m in \u001b[0;36muid\u001b[0;34m()\u001b[0m\n\u001b[1;32m    181\u001b[0m     \u001b[0mtext\u001b[0m \u001b[0;34m=\u001b[0m \u001b[0mrepr\u001b[0m\u001b[0;34m(\u001b[0m\u001b[0mtensor\u001b[0m\u001b[0;34m.\u001b[0m\u001b[0mnumpy\u001b[0m\u001b[0;34m(\u001b[0m\u001b[0;34m)\u001b[0m\u001b[0;34m)\u001b[0m \u001b[0;32mif\u001b[0m \u001b[0mis_repr\u001b[0m \u001b[0;32melse\u001b[0m \u001b[0mstr\u001b[0m\u001b[0;34m(\u001b[0m\u001b[0mtensor\u001b[0m\u001b[0;34m.\u001b[0m\u001b[0mnumpy\u001b[0m\u001b[0;34m(\u001b[0m\u001b[0;34m)\u001b[0m\u001b[0;34m)\u001b[0m\u001b[0;34m\u001b[0m\u001b[0m\n\u001b[1;32m    182\u001b[0m   \u001b[0;32melse\u001b[0m\u001b[0;34m:\u001b[0m\u001b[0;34m\u001b[0m\u001b[0m\n\u001b[0;32m--> 183\u001b[0;31m     \u001b[0mtext\u001b[0m \u001b[0;34m=\u001b[0m \u001b[0;34m\"<unprintable>\"\u001b[0m\u001b[0;34m\u001b[0m\u001b[0m\n\u001b[0m\u001b[1;32m    184\u001b[0m   \u001b[0;32mif\u001b[0m \u001b[0;34m\"\\n\"\u001b[0m \u001b[0;32min\u001b[0m \u001b[0mtext\u001b[0m\u001b[0;34m:\u001b[0m\u001b[0;34m\u001b[0m\u001b[0m\n\u001b[1;32m    185\u001b[0m     \u001b[0mtext\u001b[0m \u001b[0;34m=\u001b[0m \u001b[0;34m\"\\n\"\u001b[0m \u001b[0;34m+\u001b[0m \u001b[0mtext\u001b[0m\u001b[0;34m\u001b[0m\u001b[0m\n",
      "\u001b[0;31mSystemError\u001b[0m: Bad call flags in PyCFunction_Call. METH_OLDARGS is no longer supported!"
     ]
    }
   ],
   "source": [
    "# Creates a graph.\n",
    "a = tf.constant([1.0, 2.0, 3.0, 4.0, 5.0, 6.0], shape=[2, 3], name='a')\n",
    "b = tf.constant([1.0, 2.0, 3.0, 4.0, 5.0, 6.0], shape=[3, 2], name='b')\n",
    "c = tf.matmul(a, b)\n",
    "# Creates a session with log_device_placement set to True.\n",
    "sess = tf.Session(config=tf.ConfigProto(log_device_placement=True))\n",
    "# Runs the op.\n",
    "print(sess.run(c))\n"
   ]
  },
  {
   "cell_type": "markdown",
   "metadata": {
    "_cell_guid": "6a360330-0e71-4758-95a9-2a647bcbfdda",
    "_uuid": "54cc1d8081817f9d9c0f73d0b18a0765042984fe"
   },
   "source": [
    "If you didn't import the DonorsChoose training data above, do so now:"
   ]
  },
  {
   "cell_type": "code",
   "execution_count": 9,
   "metadata": {
    "_cell_guid": "db507783-fad3-484c-86a9-2b971a2da955",
    "_uuid": "7f2ddeae8035bf8c0bd8c9389f6e047a02572e38",
    "collapsed": true
   },
   "outputs": [],
   "source": [
    "import pandas as pd\n",
    "\n",
    "# Filepath to main training dataset.\n",
    "train_file_path = 'data/train.csv'\n",
    "\n",
    "# Read data and store in DataFrame.\n",
    "train_data = pd.read_csv(train_file_path, sep=',')"
   ]
  },
  {
   "cell_type": "markdown",
   "metadata": {
    "_cell_guid": "015ce368-dcc7-4429-b52c-b3c56335cee5",
    "_uuid": "1944287a177b1cf23d21e3d098cbc2282ae7dab3"
   },
   "source": [
    "Next, define the feature (`teacher_number_of_previously_posted_projects`) and label (`project_is_approved`):"
   ]
  },
  {
   "cell_type": "code",
   "execution_count": 10,
   "metadata": {
    "_cell_guid": "5f8b0af9-1269-4246-b9ec-14505d0778cd",
    "_uuid": "fcf4bf7f41d76540be09af3f402946b1e2a2b568",
    "collapsed": true
   },
   "outputs": [],
   "source": [
    "# Define predictor feature(s); start with a simple example with one feature.\n",
    "my_feature_name = 'teacher_number_of_previously_posted_projects'\n",
    "my_feature = train_data[[my_feature_name]]\n",
    "\n",
    "# Specify the label to predict.\n",
    "my_target_name = 'project_is_approved'"
   ]
  },
  {
   "cell_type": "markdown",
   "metadata": {
    "_cell_guid": "c1dad132-7ed5-45ec-8182-9c3e7dcdf956",
    "_uuid": "2c2e671984d51a1c726149645c95d66fa4659dbf"
   },
   "source": [
    "Then split the data into training and validation sets:"
   ]
  },
  {
   "cell_type": "code",
   "execution_count": 11,
   "metadata": {
    "_cell_guid": "c26689d6-1d0d-4afb-9414-6c5b716a9c38",
    "_uuid": "cd56bb7fbf648a21a90c4a9175d567d0811c5d78",
    "collapsed": true
   },
   "outputs": [],
   "source": [
    "# Prepare training and validation sets.\n",
    "N_TRAINING = 160000\n",
    "N_VALIDATION = 100000\n",
    "\n",
    "# Choose examples and targets for training.\n",
    "training_examples = train_data.head(N_TRAINING)[[my_feature_name]].copy()\n",
    "training_targets = train_data.head(N_TRAINING)[[my_target_name]].copy()\n",
    "\n",
    "# Choose examples and targets for validation.\n",
    "validation_examples = train_data.tail(N_VALIDATION)[[my_feature_name]].copy()\n",
    "validation_targets = train_data.tail(N_VALIDATION)[[my_target_name]].copy()"
   ]
  },
  {
   "cell_type": "markdown",
   "metadata": {
    "_cell_guid": "e0fe0bf5-bbc7-4c09-b073-be937d8f3ebd",
    "_uuid": "3f89a2ed6e3517854791ab266e5681d7aa7c07ba"
   },
   "source": [
    "Then set up the input function to feed data into the model using the [Datasets API](https://www.tensorflow.org/get_started/datasets_quickstart):"
   ]
  },
  {
   "cell_type": "code",
   "execution_count": 12,
   "metadata": {
    "_cell_guid": "bcb3e9f3-5403-400a-8f09-39783ec88f79",
    "_uuid": "66434d85cfecbdcf67c191acc2f39bbd42282df6",
    "collapsed": true
   },
   "outputs": [],
   "source": [
    "def my_input_fn(features, targets, batch_size=1, shuffle=True, num_epochs=None):\n",
    "    \"\"\"Trains a linear regression model of one feature.\n",
    "  \n",
    "    Args:\n",
    "      features: pandas DataFrame of features\n",
    "      targets: pandas DataFrame of targets\n",
    "      batch_size: Size of batches to be passed to the model\n",
    "      shuffle: True or False. Whether to shuffle the data.\n",
    "      num_epochs: Number of epochs for which data should be repeated. None = repeat indefinitely\n",
    "    Returns:\n",
    "      Tuple of (features, labels) for next data batch\n",
    "    \"\"\"\n",
    "    \n",
    "    # Convert pandas data into a dict of np arrays.\n",
    "    features = {key:np.array(value) for key,value in dict(features).items()}                                           \n",
    " \n",
    "    # Construct a dataset, and configure batching/repeating\n",
    "    ds = Dataset.from_tensor_slices((features,targets)) # warning: 2GB limit\n",
    "    ds = ds.batch(batch_size).repeat(num_epochs)\n",
    "    \n",
    "    # Shuffle the data, if specified\n",
    "    if shuffle:\n",
    "      # Shuffle with a buffer size of 10000\n",
    "      ds = ds.shuffle(10000)\n",
    "    \n",
    "    # Return the next batch of data\n",
    "    features, labels = ds.make_one_shot_iterator().get_next()\n",
    "    return features, labels"
   ]
  },
  {
   "cell_type": "markdown",
   "metadata": {
    "_cell_guid": "50c2c0f9-9d2b-4d9f-90f0-7008ffff2471",
    "_uuid": "87794482c969cf79a656a2738b3a90012a96ae84"
   },
   "source": [
    "Next, construct the `LinearClassifier`:"
   ]
  },
  {
   "cell_type": "code",
   "execution_count": 13,
   "metadata": {
    "_cell_guid": "a14e210f-ebf6-49de-ac4d-5320cb7abc9d",
    "_uuid": "b80465e3ca528f7f7d7f0337e8ac4fd9033b86c5",
    "collapsed": true
   },
   "outputs": [
    {
     "name": "stdout",
     "output_type": "stream",
     "text": [
      "INFO:tensorflow:Using default config.\n",
      "WARNING:tensorflow:Using temporary folder as model directory: /tmp/tmpoa2__lhd\n",
      "INFO:tensorflow:Using config: {'_model_dir': '/tmp/tmpoa2__lhd', '_tf_random_seed': None, '_save_summary_steps': 100, '_save_checkpoints_steps': None, '_save_checkpoints_secs': 600, '_session_config': None, '_keep_checkpoint_max': 5, '_keep_checkpoint_every_n_hours': 10000, '_log_step_count_steps': 100, '_service': None, '_cluster_spec': <tensorflow.python.training.server_lib.ClusterSpec object at 0x7ff72c0114a8>, '_task_type': 'worker', '_task_id': 0, '_master': '', '_is_chief': True, '_num_ps_replicas': 0, '_num_worker_replicas': 1}\n"
     ]
    }
   ],
   "source": [
    "# Learning rate for training.\n",
    "learning_rate = 0.00001\n",
    "\n",
    "# Function for constructing feature columns from input features\n",
    "def construct_feature_columns(input_features):\n",
    "  \"\"\"Construct the TensorFlow Feature Columns.\n",
    "  Args:\n",
    "    input_features: The names of the numerical input features to use.\n",
    "  Returns:\n",
    "    A set of feature columns\n",
    "  \"\"\"\n",
    "  return set([tf.feature_column.numeric_column(my_feature)\n",
    "              for my_feature in input_features])\n",
    "\n",
    "# Create a linear classifier object.\n",
    "my_optimizer = tf.train.GradientDescentOptimizer(learning_rate=learning_rate)\n",
    "# Set a clipping ratio of 5.0\n",
    "my_optimizer = tf.contrib.estimator.clip_gradients_by_norm(my_optimizer, 5.0)  \n",
    "linear_classifier = tf.estimator.LinearClassifier(\n",
    "    feature_columns=construct_feature_columns(training_examples),\n",
    "    optimizer=my_optimizer\n",
    ")"
   ]
  },
  {
   "cell_type": "markdown",
   "metadata": {
    "_cell_guid": "5d4ac88b-c9c7-4bf4-b8a8-7a66b6a8edf3",
    "_uuid": "539ae2d007b484f026fd9f636432b7a6291c0aaf"
   },
   "source": [
    "Create input functions for training the model, predicting on the prediction data, and predicting on the validation data:"
   ]
  },
  {
   "cell_type": "code",
   "execution_count": 14,
   "metadata": {
    "_cell_guid": "131694ac-5538-4d3f-913c-07217af970c2",
    "_uuid": "296e8531a15de6b433654f9782c034d154ff2d58",
    "collapsed": true
   },
   "outputs": [],
   "source": [
    "batch_size = 10\n",
    "\n",
    "# Create input function for training\n",
    "training_input_fn = lambda: my_input_fn(training_examples, \n",
    "                                        training_targets[my_target_name],\n",
    "                                        batch_size=batch_size)\n",
    "\n",
    "# Create input function for predicting on training data\n",
    "predict_training_input_fn = lambda: my_input_fn(training_examples,\n",
    "                                                training_targets[my_target_name],\n",
    "                                                num_epochs=1, \n",
    "                                                shuffle=False)\n",
    "\n",
    "# Create input function for predicting on validation data\n",
    "predict_validation_input_fn = lambda: my_input_fn(validation_examples,\n",
    "                                                  validation_targets[my_target_name],\n",
    "                                                  num_epochs=1, \n",
    "                                                  shuffle=False)"
   ]
  },
  {
   "cell_type": "markdown",
   "metadata": {
    "_cell_guid": "ddd78749-3264-44a0-9692-20c4db287284",
    "_uuid": "93bb6e339a7c98f9b542d07efdf75820c56325d8"
   },
   "source": [
    "Finally, train the model. This may take a few minutes. When training is complete, the training and validation log losses will be output:"
   ]
  },
  {
   "cell_type": "code",
   "execution_count": null,
   "metadata": {
    "_cell_guid": "dc2fe166-20ca-452d-8def-570b1d09846b",
    "_uuid": "d504895bbc171585c764173e9d3d3157ad844492",
    "collapsed": true
   },
   "outputs": [],
   "source": [
    "# Train for 200 steps\n",
    "linear_classifier.train(\n",
    "  input_fn=training_input_fn,\n",
    "  steps=200\n",
    ")\n",
    "\n",
    "# Compute predictions.    \n",
    "training_probabilities = linear_classifier.predict(\n",
    "    input_fn=predict_training_input_fn)\n",
    "training_probabilities = np.array(\n",
    "      [item['probabilities'] for item in training_probabilities])\n",
    "    \n",
    "validation_probabilities = linear_classifier.predict(\n",
    "    input_fn=predict_validation_input_fn)\n",
    "validation_probabilities = np.array(\n",
    "    [item['probabilities'] for item in validation_probabilities])\n",
    "    \n",
    "training_log_loss = metrics.log_loss(\n",
    "    training_targets, training_probabilities)\n",
    "validation_log_loss = metrics.log_loss(\n",
    "    validation_targets, validation_probabilities)\n",
    "  \n",
    "# Print the training and validation log loss.\n",
    "print(\"Training Loss: %0.2f\" % training_log_loss)\n",
    "print(\"Validation Loss: %0.2f\" % validation_log_loss)\n",
    "\n",
    "auc = metrics.auc"
   ]
  },
  {
   "cell_type": "markdown",
   "metadata": {
    "_cell_guid": "18052754-7207-4a94-a648-5685bfdcc485",
    "_uuid": "7b9bf9c7d30be5969464a01cefa21b5cae3e8034"
   },
   "source": [
    "Next, let's calculate the [AUC (area under the curve)](https://developers.google.com/machine-learning/glossary#AUC), which is the metric this competition uses to assess the accuracy of prediction. This may take a few minutes. When calculation is complete, the training and validation AUC values will be output:"
   ]
  },
  {
   "cell_type": "code",
   "execution_count": null,
   "metadata": {
    "_cell_guid": "e2efa7b9-2108-4a62-bf35-de6e555a8314",
    "_uuid": "2cd1d81085ac1ddd60f54c2ffd032873ef2d1127",
    "collapsed": true
   },
   "outputs": [],
   "source": [
    "training_metrics = linear_classifier.evaluate(input_fn=predict_training_input_fn)\n",
    "validation_metrics = linear_classifier.evaluate(input_fn=predict_validation_input_fn)\n",
    "\n",
    "print(\"AUC on the training set: %0.2f\" % training_metrics['auc'])\n",
    "print(\"AUC on the validation set: %0.2f\" % validation_metrics['auc'])"
   ]
  },
  {
   "cell_type": "markdown",
   "metadata": {
    "_cell_guid": "47634480-fc44-4054-bc3b-aa4d9295e35f",
    "_uuid": "615410917a05455fb83e3f375008b0d512d7ec81"
   },
   "source": [
    "We've achieved AUC values of 0.56, which is slightly better than random. This is a good start, but can you improve the model to achieve better results?"
   ]
  },
  {
   "cell_type": "markdown",
   "metadata": {
    "_cell_guid": "9ac45f65-1fb3-4e99-803e-e48109b17a89",
    "_uuid": "d98cae3eb1cf7b4681fcc76b41460134f4ccca0b"
   },
   "source": [
    "## What to Try Next\n",
    "\n",
    "A couple ideas for model refinements you can try to see if you can improve model accuracy:\n",
    "\n",
    "* Try adjusting the `learning_rate` and `steps` hyperparameters on the existing model.\n",
    "* Try adding some text features to the model, such as the content of the project essays (`project_essay_1`, `project_essay_2`, `project_essay_3`, `project_essay_4`). You may want to try building a vocabulary from these strings; see the Machine Learning Crash Course [Intro to Sparse Data and Embeddings exercise](https://colab.research.google.com/notebooks/mlcc/intro_to_sparse_data_and_embeddings.ipynb) for some practice on working with text data and vocabularies.  "
   ]
  },
  {
   "cell_type": "markdown",
   "metadata": {
    "_cell_guid": "6ddce170-e244-4500-9698-df592b33269c",
    "_uuid": "c7b2493328aed953d41e5a3bdd82290bfa34b938"
   },
   "source": [
    "## Submitting a Kaggle Entry\n",
    "\n",
    "Once you're satisfied with your model performance, you can make predictions on the test set as follows (this may take a few minutes to run):"
   ]
  },
  {
   "cell_type": "code",
   "execution_count": null,
   "metadata": {
    "_cell_guid": "6841ed06-9490-4cc2-8b8d-8737ff445d74",
    "_uuid": "1b10151e274bbae0d29d436f478e718d3c452c24",
    "collapsed": true
   },
   "outputs": [],
   "source": [
    "# Filepath to main test dataset.\n",
    "test_file_path = '../input/test.csv'\n",
    "\n",
    "# Read data and store in DataFrame.\n",
    "test_data = pd.read_csv(test_file_path, sep=',')\n",
    "\n",
    "my_feature_name = 'teacher_number_of_previously_posted_projects'\n",
    "\n",
    "# Get test features\n",
    "test_examples = test_data[[my_feature_name]].copy()\n",
    "\n",
    "# No labels in data set, so generate some placeholder values\n",
    "placeholder_label_vals = [0 for i in range(0, 78035)]\n",
    "test_labels = pd.DataFrame({\"project_is_approved\": placeholder_label_vals})\n",
    "\n",
    "predict_test_input_fn = lambda: my_input_fn(test_examples,\n",
    "                                            test_labels, # unused for prediction\n",
    "                                            num_epochs=1, \n",
    "                                            shuffle=False)\n",
    "\n",
    "# Make predictions\n",
    "predictions_generator = linear_classifier.predict(input_fn=predict_test_input_fn)\n",
    "predictions_list = list(predictions_generator)\n",
    "\n",
    "# Extract probabilities\n",
    "probabilities = [p[\"probabilities\"][1] for p in predictions_list]\n",
    "print(\"Done extracting probabilities\")"
   ]
  },
  {
   "cell_type": "markdown",
   "metadata": {
    "_cell_guid": "00359193-3d73-4581-83d3-0719d96327fc",
    "_uuid": "f80792ff0418734b93c365b1c464367e3f164d89"
   },
   "source": [
    "We want to format our submission as a CSV with two fields for each example: `id` and our prediction for `project_is_approved`, e.g.:"
   ]
  },
  {
   "cell_type": "markdown",
   "metadata": {
    "_cell_guid": "48f2793c-7491-46a5-b1ed-ed33fb5e4b93",
    "_uuid": "05d72bb9c705bf49b608ce709880c9ac4062f60b"
   },
   "source": [
    "```\n",
    "id,project_is_approved\n",
    "p233245,0.54\n",
    "p096795,0.14\n",
    "p236235,0.94\n",
    "```"
   ]
  },
  {
   "cell_type": "markdown",
   "metadata": {
    "_cell_guid": "3d26533e-8da6-4a8b-a42a-ed3f8f8bb863",
    "_uuid": "72a0a86fac985490c1f60856c69f132005724a8d"
   },
   "source": [
    "Run the following code to create a `DataFrame` in the required format:"
   ]
  },
  {
   "cell_type": "code",
   "execution_count": null,
   "metadata": {
    "_cell_guid": "f581f01c-310c-477d-9fcc-9e27d49dc40b",
    "_uuid": "1f6c30bf8029a37e3aa70e0d12d9f819d3c43b59",
    "collapsed": true
   },
   "outputs": [],
   "source": [
    "my_submission = pd.DataFrame({'id': test_data[\"id\"], 'project_is_approved': probabilities})\n",
    "print(my_submission.values)"
   ]
  },
  {
   "cell_type": "markdown",
   "metadata": {
    "_cell_guid": "4676bc39-1d6b-4bbe-be44-ac4365a41aa4",
    "_uuid": "b6ef81d70456f42ec3f73ee73a8c4dc06d44e980"
   },
   "source": [
    "Then write your output to CSV:"
   ]
  },
  {
   "cell_type": "code",
   "execution_count": null,
   "metadata": {
    "_cell_guid": "a2780929-98b9-4548-bdd6-c69223fe2cb8",
    "_uuid": "20f77cdd51262a69babd7cf13c9c639250b3c3eb",
    "collapsed": true
   },
   "outputs": [],
   "source": [
    "my_submission.to_csv('my_submission.csv', index=False)"
   ]
  },
  {
   "cell_type": "markdown",
   "metadata": {
    "_cell_guid": "cc951577-4e91-48b8-bbfd-b5afbcfae7de",
    "_uuid": "a182f503abc4b5923ec66f87049cd1f81340bbb1"
   },
   "source": [
    "Next, click the **Commit & Run** button to execute the entire Kaggle kernel. This will take ~10 minutes to run. \n",
    "\n",
    "When it's finished, you'll see the navigation bar at the top of your screen has an **Output** tab. Click on the **Output** tab, and click on the **Submit to Competition** button to submit to Kaggle."
   ]
  }
 ],
 "metadata": {
  "kernelspec": {
   "display_name": "Python 3",
   "language": "python",
   "name": "python3"
  },
  "language_info": {
   "codemirror_mode": {
    "name": "ipython",
    "version": 3
   },
   "file_extension": ".py",
   "mimetype": "text/x-python",
   "name": "python",
   "nbconvert_exporter": "python",
   "pygments_lexer": "ipython3",
   "version": "3.6.4"
  }
 },
 "nbformat": 4,
 "nbformat_minor": 2
}
