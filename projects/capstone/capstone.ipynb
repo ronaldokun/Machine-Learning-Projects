{
 "cells": [
  {
   "cell_type": "markdown",
   "metadata": {
    "colab_type": "text",
    "id": "Zc-4PyxpfqVD"
   },
   "source": [
    "# [DonorsChoose.org Application Screening](https://www.kaggle.com/c/donorschoose-application-screening)"
   ]
  },
  {
   "cell_type": "markdown",
   "metadata": {
    "toc": true
   },
   "source": [
    "<h1>Table of Contents<span class=\"tocSkip\"></span></h1>\n",
    "<div class=\"toc\"><ul class=\"toc-item\"><li><span><a href=\"#Introduction\" data-toc-modified-id=\"Introduction-1\"><span class=\"toc-item-num\">1&nbsp;&nbsp;</span>Introduction</a></span><ul class=\"toc-item\"><li><span><a href=\"#Background\" data-toc-modified-id=\"Background-1.1\"><span class=\"toc-item-num\">1.1&nbsp;&nbsp;</span>Background</a></span></li><li><span><a href=\"#Problem-Statement\" data-toc-modified-id=\"Problem-Statement-1.2\"><span class=\"toc-item-num\">1.2&nbsp;&nbsp;</span>Problem Statement</a></span></li></ul></li><li><span><a href=\"#Preparations\" data-toc-modified-id=\"Preparations-2\"><span class=\"toc-item-num\">2&nbsp;&nbsp;</span>Preparations</a></span><ul class=\"toc-item\"><li><span><a href=\"#Load-Libraries\" data-toc-modified-id=\"Load-Libraries-2.1\"><span class=\"toc-item-num\">2.1&nbsp;&nbsp;</span>Load Libraries</a></span></li><li><span><a href=\"#Load-Data\" data-toc-modified-id=\"Load-Data-2.2\"><span class=\"toc-item-num\">2.2&nbsp;&nbsp;</span>Load Data</a></span></li></ul></li><li><span><a href=\"#Overview:-File-Structure-and-Content\" data-toc-modified-id=\"Overview:-File-Structure-and-Content-3\"><span class=\"toc-item-num\">3&nbsp;&nbsp;</span>Overview: File Structure and Content</a></span><ul class=\"toc-item\"><li><span><a href=\"#Training-and-Test-Data\" data-toc-modified-id=\"Training-and-Test-Data-3.1\"><span class=\"toc-item-num\">3.1&nbsp;&nbsp;</span>Training and Test Data</a></span><ul class=\"toc-item\"><li><span><a href=\"#A-Note-on-Essay-Data\" data-toc-modified-id=\"A-Note-on-Essay-Data-3.1.1\"><span class=\"toc-item-num\">3.1.1&nbsp;&nbsp;</span>A Note on Essay Data</a></span></li><li><span><a href=\"#Let's-take-a-closer-look-at-the-distribution,-statistics-and-various-counts-on-the-data:\" data-toc-modified-id=\"Let's-take-a-closer-look-at-the-distribution,-statistics-and-various-counts-on-the-data:-3.1.2\"><span class=\"toc-item-num\">3.1.2&nbsp;&nbsp;</span>Let's take a closer look at the distribution, statistics and various counts on the data:</a></span></li></ul></li><li><span><a href=\"#Resources-Data\" data-toc-modified-id=\"Resources-Data-3.2\"><span class=\"toc-item-num\">3.2&nbsp;&nbsp;</span>Resources Data</a></span></li></ul></li><li><span><a href=\"#Individual-Feature-Visualizations\" data-toc-modified-id=\"Individual-Feature-Visualizations-4\"><span class=\"toc-item-num\">4&nbsp;&nbsp;</span>Individual Feature Visualizations</a></span><ul class=\"toc-item\"><li><span><a href=\"#Space\" data-toc-modified-id=\"Space-4.1\"><span class=\"toc-item-num\">4.1&nbsp;&nbsp;</span>Space</a></span></li><li><span><a href=\"#Teachers\" data-toc-modified-id=\"Teachers-4.2\"><span class=\"toc-item-num\">4.2&nbsp;&nbsp;</span>Teachers</a></span></li><li><span><a href=\"#Project-Categories-&amp;-Grades\" data-toc-modified-id=\"Project-Categories-&amp;-Grades-4.3\"><span class=\"toc-item-num\">4.3&nbsp;&nbsp;</span>Project Categories &amp; Grades</a></span></li></ul></li><li><span><a href=\"#Feature-Engineering\" data-toc-modified-id=\"Feature-Engineering-5\"><span class=\"toc-item-num\">5&nbsp;&nbsp;</span>Feature Engineering</a></span><ul class=\"toc-item\"><li><span><a href=\"#Joining-of-Resources-Data-to-Train-Data\" data-toc-modified-id=\"Joining-of-Resources-Data-to-Train-Data-5.1\"><span class=\"toc-item-num\">5.1&nbsp;&nbsp;</span>Joining of Resources Data to Train Data</a></span></li><li><span><a href=\"#Create-Additional-categories-in-Resources\" data-toc-modified-id=\"Create-Additional-categories-in-Resources-5.2\"><span class=\"toc-item-num\">5.2&nbsp;&nbsp;</span>Create Additional categories in Resources</a></span></li><li><span><a href=\"#Timestamps\" data-toc-modified-id=\"Timestamps-5.3\"><span class=\"toc-item-num\">5.3&nbsp;&nbsp;</span>Timestamps</a></span></li><li><span><a href=\"#Project-Categories\" data-toc-modified-id=\"Project-Categories-5.4\"><span class=\"toc-item-num\">5.4&nbsp;&nbsp;</span>Project Categories</a></span></li><li><span><a href=\"#Concatenating-of-Text-Features\" data-toc-modified-id=\"Concatenating-of-Text-Features-5.5\"><span class=\"toc-item-num\">5.5&nbsp;&nbsp;</span>Concatenating of Text Features</a></span></li><li><span><a href=\"#Feature-Scaling-of-Numerical-Variables\" data-toc-modified-id=\"Feature-Scaling-of-Numerical-Variables-5.6\"><span class=\"toc-item-num\">5.6&nbsp;&nbsp;</span>Feature Scaling of Numerical Variables</a></span></li><li><span><a href=\"#Encoding-of-Categorical-Variables\" data-toc-modified-id=\"Encoding-of-Categorical-Variables-5.7\"><span class=\"toc-item-num\">5.7&nbsp;&nbsp;</span>Encoding of Categorical Variables</a></span></li><li><span><a href=\"#NLP-Processing-on-text-features\" data-toc-modified-id=\"NLP-Processing-on-text-features-5.8\"><span class=\"toc-item-num\">5.8&nbsp;&nbsp;</span>NLP Processing on text features</a></span><ul class=\"toc-item\"><li><span><a href=\"#Let's-apply-Term-Frequency-versus-Inverse-Document-Frequency---TF-IDF\" data-toc-modified-id=\"Let's-apply-Term-Frequency-versus-Inverse-Document-Frequency---TF-IDF-5.8.1\"><span class=\"toc-item-num\">5.8.1&nbsp;&nbsp;</span>Let's apply Term Frequency versus Inverse Document Frequency - TF-IDF</a></span></li></ul></li><li><span><a href=\"#Fine-Tuning-Model\" data-toc-modified-id=\"Fine-Tuning-Model-5.9\"><span class=\"toc-item-num\">5.9&nbsp;&nbsp;</span>Fine-Tuning Model</a></span></li><li><span><a href=\"#Cross-Validation\" data-toc-modified-id=\"Cross-Validation-5.10\"><span class=\"toc-item-num\">5.10&nbsp;&nbsp;</span>Cross Validation</a></span></li></ul></li><li><span><a href=\"#Submitting-a-Kaggle-Entry\" data-toc-modified-id=\"Submitting-a-Kaggle-Entry-6\"><span class=\"toc-item-num\">6&nbsp;&nbsp;</span>Submitting a Kaggle Entry</a></span></li></ul></div>"
   ]
  },
  {
   "cell_type": "markdown",
   "metadata": {
    "colab_type": "text",
    "id": "8lcd4vxIfqVG"
   },
   "source": [
    "## Introduction"
   ]
  },
  {
   "cell_type": "markdown",
   "metadata": {
    "colab_type": "text",
    "id": "WvVdkH9tfqVH"
   },
   "source": [
    "\n",
    "### Background\n",
    "\n",
    "Founded in 2000 by a high school teacher in the Bronx, [DonorsChoose.org](www.donorschoose.org) empowers public school teachers from across the country to request much-needed materials and experiences for their students. At any given time, there are thousands of classroom requests that can be brought to life with a gift of any amount.\n",
    "\n",
    "DonorsChoose.org receives hundreds of thousands of project proposals each year for classroom projects in need of funding. Right now, a large number of volunteers is needed to manually screen each submission before it's approved to be posted on the DonorsChoose.org website. \n",
    "\n",
    "I intend to apply Data Science skills to help NGO's connected to poverty alleviation that's why this project is of interest to me, we need a lot more than food to achieve a just and prosper society and education is an immensely important asset for this goal.\n",
    "\n",
    "### Problem Statement\n",
    "\n",
    "Next year, DonorsChoose.org expects to receive close to 500,000 project proposals. As a result, there are three main problems they need to solve:\n",
    "\n",
    "1. How to scale current manual processes and resources to screen 500,000 projects so that they can be posted as quickly and as efficiently as possible\n",
    "2. How to increase the consistency of project vetting across different volunteers to improve the experience for teachers\n",
    "3. How to focus volunteer time on the applications that need the most assistance\n",
    "\n",
    "The goal is to predict whether or not a DonorsChoose.org project proposal submitted by a teacher will be approved, using the text of project descriptions as well as additional metadata about the project, teacher, and school. DonorsChoose.org can then use this information to identify projects most likely to need further review before approval.\n",
    "With an algorithm to pre-screen applications, DonorsChoose.org can auto-approve some applications quickly so that volunteers can spend their time on more nuanced and detailed project ​vetting processes, including doing more to help teachers develop projects that qualify for specific funding opportunities.\n",
    "The machine learning algorithm can help more teachers get funded more quickly, and with less cost to DonorsChoose.org, allowing them to channel even more funding directly to classrooms across the country. \n"
   ]
  },
  {
   "cell_type": "markdown",
   "metadata": {
    "colab_type": "text",
    "id": "pBuazUqDfqVI"
   },
   "source": [
    "## Preparations"
   ]
  },
  {
   "cell_type": "markdown",
   "metadata": {
    "colab_type": "text",
    "id": "sO-d-_Lx6Vet"
   },
   "source": [
    "### Load Libraries"
   ]
  },
  {
   "cell_type": "code",
   "execution_count": 1,
   "metadata": {
    "ExecuteTime": {
     "end_time": "2018-04-16T00:00:50.647640Z",
     "start_time": "2018-04-16T00:00:47.740997Z"
    },
    "colab": {
     "autoexec": {
      "startup": false,
      "wait_interval": 0
     },
     "base_uri": "https://localhost:8080/",
     "height": 21,
     "output_extras": [
      {
       "item_id": 1
      }
     ]
    },
    "colab_type": "code",
    "executionInfo": {
     "elapsed": 851,
     "status": "ok",
     "timestamp": 1521071411292,
     "user": {
      "displayName": "Ronaldo da Silva Alves Batista",
      "photoUrl": "https://lh3.googleusercontent.com/a/default-user=s128",
      "userId": "109737138984022669792"
     },
     "user_tz": 180
    },
    "id": "OuVfalUNfqVI",
    "outputId": "8345fde5-e58f-44a7-d02e-cfd269ef4157"
   },
   "outputs": [
    {
     "name": "stdout",
     "output_type": "stream",
     "text": [
      "[nltk_data] Downloading package stopwords to\n",
      "[nltk_data]     /home/ronaldo/nltk_data...\n",
      "[nltk_data]   Package stopwords is already up-to-date!\n",
      "[nltk_data] Downloading package wordnet to /home/ronaldo/nltk_data...\n",
      "[nltk_data]   Package wordnet is already up-to-date!\n"
     ]
    },
    {
     "data": {
      "text/html": [
       "<script>requirejs.config({paths: { 'plotly': ['https://cdn.plot.ly/plotly-latest.min']},});if(!window.Plotly) {{require(['plotly'],function(plotly) {window.Plotly=plotly;});}}</script>"
      ],
      "text/vnd.plotly.v1+html": [
       "<script>requirejs.config({paths: { 'plotly': ['https://cdn.plot.ly/plotly-latest.min']},});if(!window.Plotly) {{require(['plotly'],function(plotly) {window.Plotly=plotly;});}}</script>"
      ]
     },
     "metadata": {},
     "output_type": "display_data"
    }
   ],
   "source": [
    "# Basic Libraries\n",
    "import numpy as np\n",
    "import pandas as pd\n",
    "import os\n",
    "import gc\n",
    "import datetime\n",
    "import pandas_profiling as pp\n",
    "#from collections import Counter\n",
    "from pprint import pprint \n",
    "import pickle\n",
    "\n",
    "# Stats and other\n",
    "from scipy import stats, interp\n",
    "from scipy.sparse import hstack, csr_matrix\n",
    "\n",
    "# CV and K-Fold\n",
    "from sklearn.model_selection import StratifiedKFold, GridSearchCV, RandomizedSearchCV, train_test_split\n",
    "# Metric\n",
    "from sklearn.metrics import roc_auc_score, roc_curve, accuracy_score \n",
    "# Preprocessing\n",
    "from sklearn.preprocessing import LabelEncoder, MinMaxScaler \n",
    "                                  \n",
    "\n",
    "# To visualize progress\n",
    "from tqdm import tqdm_notebook\n",
    "\n",
    "\n",
    "# nlp Libraries\n",
    "\n",
    "import nltk\n",
    "nltk.download('stopwords')\n",
    "nltk.download('wordnet')\n",
    "# from wordcloud import WordCloud\n",
    "from nltk.tokenize import WhitespaceTokenizer\n",
    "from nltk.stem import WordNetLemmatizer\n",
    "from nltk.corpus import stopwords\n",
    "#from nltk.util import ngrams\n",
    "from sklearn.feature_extraction.text import TfidfVectorizer\n",
    "stop = set(stopwords.words('english'))\n",
    "\n",
    "# Boosted tree libraries\n",
    "import xgboost as xgb\n",
    "from xgboost.sklearn import XGBClassifier\n",
    "\n",
    "# To make output stable across runs\n",
    "np.random.seed(42)\n",
    "\n",
    "\n",
    "# To plot pretty figures\n",
    "import matplotlib.pyplot as plt\n",
    "import seaborn as sns\n",
    "sns.set(style=\"whitegrid\", color_codes=True)\n",
    "plt.rcParams['axes.labelsize'] = 14\n",
    "plt.rcParams['xtick.labelsize'] = 12\n",
    "plt.rcParams['ytick.labelsize'] = 12\n",
    "\n",
    "# Plot maps\n",
    "import plotly.offline as py\n",
    "py.init_notebook_mode(connected=True)\n",
    "import plotly.graph_objs as go\n",
    "import plotly.tools as tls\n",
    "\n",
    "pd.options.mode.chained_assignment = None\n",
    "pd.options.display.max_columns = 999\n",
    "\n",
    "from IPython.display import display  # Allows the use of display() for DataFrames\n",
    "\n",
    "%reload_ext autoreload\n",
    "%autoreload 2\n",
    "%matplotlib inline"
   ]
  },
  {
   "cell_type": "markdown",
   "metadata": {
    "colab_type": "text",
    "id": "a5PoAfPSfqVQ"
   },
   "source": [
    "### Load Data"
   ]
  },
  {
   "cell_type": "code",
   "execution_count": 2,
   "metadata": {
    "ExecuteTime": {
     "end_time": "2018-04-16T00:01:02.123887Z",
     "start_time": "2018-04-16T00:00:50.651176Z"
    },
    "colab": {
     "autoexec": {
      "startup": false,
      "wait_interval": 0
     }
    },
    "colab_type": "code",
    "id": "EuWB7GL0fqVR"
   },
   "outputs": [],
   "source": [
    "PATH = \"data/\"\n",
    "\n",
    "# To prevent errors in loading, we defined all data as string, except the boolean target\n",
    "dtype = {\n",
    "    'id': str,\n",
    "    'teacher_id': str,\n",
    "    'teacher_prefix': str,\n",
    "    'school_state': str,\n",
    "    'project_submitted_datetime': str,\n",
    "    'project_grade_category': str,\n",
    "    'project_subject_categories': str,\n",
    "    'project_subject_subcategories': str,\n",
    "    'project_title': str,\n",
    "    'project_essay_1': str,\n",
    "    'project_essay_2': str,\n",
    "    'project_essay_3': str,\n",
    "    'project_essay_4': str,\n",
    "    'project_resource_summary': str,\n",
    "    'teacher_number_of_previously_posted_projects': int,\n",
    "    'project_is_approved': np.uint8,\n",
    "}\n",
    "\n",
    "# Read data and store in DataFrame.\n",
    "train = pd.read_csv(os.path.join(PATH, 'train.csv'),\n",
    "                    dtype=dtype,\n",
    "                    parse_dates=['project_submitted_datetime'],\n",
    "                    low_memory=True)\n",
    "\n",
    "test = pd.read_csv(os.path.join(PATH, 'test.csv'),\n",
    "                   dtype=dtype,\n",
    "                   parse_dates=['project_submitted_datetime'],\n",
    "                   low_memory=True)\n",
    "\n",
    "target = train[\"project_is_approved\"]\n",
    "\n",
    "resources = pd.read_csv(os.path.join(PATH, 'resources.csv'))\n",
    "\n",
    "sample_submit = pd.read_csv(os.path.join(PATH, 'sample_submission.csv'))\n",
    "\n",
    "del dtype"
   ]
  },
  {
   "cell_type": "markdown",
   "metadata": {
    "colab_type": "text",
    "id": "2ebq3r0lfqVM"
   },
   "source": [
    "**Note:** *The following couple of cells on section 3 is an adaptation from the quick-start guide provided by the Competition Organizers for a quick initial EDA and to set a benchmark.*\n",
    "\n",
    "Reference: https://www.kaggle.com/skleinfeld/getting-started-with-the-donorschoose-data-set/notebook"
   ]
  },
  {
   "cell_type": "markdown",
   "metadata": {
    "colab_type": "text",
    "heading_collapsed": true,
    "id": "QCIdwZJ9fqVN"
   },
   "source": [
    "## Overview: File Structure and Content\n",
    "\n",
    "### Training and Test Data\n",
    "\n",
    "The goal of the DonorsChoose competition is to build a model that can accurately predict whether a teacher's project proposal was accepted, based on the data they provided in their application. The `train.csv` data set provided by DonorsChoose contains the following features:\n",
    "\n",
    "Feature | Description | Data Type\n",
    "----------|---------------|------------\n",
    "**`project_id`** | A unique identifier for the proposed project. **Example:** `p036502`   | string\n",
    "**`project_title`**    | Title of the project. **Examples:**<br><ul><li><code>Art Will Make You Happy!</code></li><li><code>First Grade Fun</code></li></ul> | string\n",
    "**`project_grade_category`** | Grade level of students for which the project is targeted. One of the following enumerated values: <br/><ul><li><code>Grades PreK-2</code></li><li><code>Grades 3-5</code></li><li><code>Grades 6-8</code></li><li><code>Grades 9-12</code></li></ul>  | string\n",
    " **`project_subject_categories`** | One or more (comma-separated) subject categories for the project from the following enumerated list of values:  <br/><ul><li><code>Applied Learning</code></li><li><code>Care &amp; Hunger</code></li><li><code>Health &amp; Sports</code></li><li><code>History &amp; Civics</code></li><li><code>Literacy &amp; Language</code></li><li><code>Math &amp; Science</code></li><li><code>Music &amp; The Arts</code></li><li><code>Special Needs</code></li><li><code>Warmth</code></li></ul><br/> **Examples:** <br/><ul><li><code>Music &amp; The Arts</code></li><li><code>Literacy &amp; Language, Math &amp; Science</code></li>  | string\n",
    "  **`school_state`** | State where school is located ([Two-letter U.S. postal code](https://en.wikipedia.org/wiki/List_of_U.S._state_abbreviations#Postal_codes)). **Example:** `WY`| string\n",
    "**`project_subject_subcategories`** | One or more (comma-separated) subject subcategories for the project. **Examples:** <br/><ul><li><code>Literacy</code></li><li><code>Literature &amp; Writing, Social Sciences</code></li></ul> | string\n",
    "**`project_resource_summary`** | An explanation of the resources needed for the project. **Example:** <br/><ul><li><code>My students need hands on literacy materials to manage sensory needs!</code</li></ul> | string\n",
    "**`project_essay_1`**    | First paragraph of application essay.<sup>*</sup>  | string\n",
    "**`project_essay_2`**    | Second paragraph of application essay.<sup>*</sup> | string\n",
    "**`project_essay_3`**    | Third paragraph of application essay.<sup>*</sup> | string\n",
    "**`project_essay_4`**    | Fourth paragraph of application essay.<sup>*</sup> | string\n",
    "**`project_submitted_datetime`** | Datetime when project application was submitted. **Example:** `2016-04-28 12:43:56.245`   | int64\n",
    "**`teacher_id`** | A unique identifier for the teacher of the proposed project. **Example:** `bdf8baa8fedef6bfeec7ae4ff1c15c56`  | string\n",
    "**`teacher_prefix`** | Teacher's title. One of the following enumerated values: <br/><ul><li><code>nan</code></li><li><code>Dr.</code></li><li><code>Mr.</code></li><li><code>Mrs.</code></li><li><code>Ms.</code></li><li><code>Teacher.</code></li></ul>  | string\n",
    "**`teacher_number_of_previously_posted_projects`** | Number of project applications previously submitted by the same teacher. **Example:** `2` | int64\n",
    "\n",
    "<sup>\\*</sup> See **A Note on Essay Data** for some important details about changes to the application essay prompts in February 2010 that affect the values of `project_essay_1`, `project_essay_2`, `project_essay_3`, and `project_essay_4`.\n",
    "\n",
    "The data set contains the following label (the value you will attempt to predict):\n",
    "\n",
    "Label | Description | Data Type\n",
    "----------|---------------|------------\n",
    "`project_is_approved` | A binary flag indicating whether DonorsChoose approved the project. A value of `0` indicates the project was not approved, and a value of `1` indicates the project was approved. | int64"
   ]
  },
  {
   "cell_type": "code",
   "execution_count": 3,
   "metadata": {
    "ExecuteTime": {
     "end_time": "2018-04-16T00:01:02.466945Z",
     "start_time": "2018-04-16T00:01:02.126797Z"
    },
    "hidden": true
   },
   "outputs": [
    {
     "name": "stdout",
     "output_type": "stream",
     "text": [
      "<class 'pandas.core.frame.DataFrame'>\n",
      "RangeIndex: 182080 entries, 0 to 182079\n",
      "Data columns (total 16 columns):\n",
      "id                                              182080 non-null object\n",
      "teacher_id                                      182080 non-null object\n",
      "teacher_prefix                                  182076 non-null object\n",
      "school_state                                    182080 non-null object\n",
      "project_submitted_datetime                      182080 non-null datetime64[ns]\n",
      "project_grade_category                          182080 non-null object\n",
      "project_subject_categories                      182080 non-null object\n",
      "project_subject_subcategories                   182080 non-null object\n",
      "project_title                                   182080 non-null object\n",
      "project_essay_1                                 182080 non-null object\n",
      "project_essay_2                                 182080 non-null object\n",
      "project_essay_3                                 6374 non-null object\n",
      "project_essay_4                                 6374 non-null object\n",
      "project_resource_summary                        182080 non-null object\n",
      "teacher_number_of_previously_posted_projects    182080 non-null int64\n",
      "project_is_approved                             182080 non-null uint8\n",
      "dtypes: datetime64[ns](1), int64(1), object(13), uint8(1)\n",
      "memory usage: 21.0+ MB\n"
     ]
    },
    {
     "data": {
      "text/plain": [
       "None"
      ]
     },
     "metadata": {},
     "output_type": "display_data"
    }
   ],
   "source": [
    "display(train.info(null_counts=True))"
   ]
  },
  {
   "cell_type": "markdown",
   "metadata": {
    "colab_type": "text",
    "hidden": true,
    "id": "AXc7EItwfqVO"
   },
   "source": [
    "#### A Note on Essay Data\n",
    "\n",
    "Prior to February 18th, 2010, for their DonorsChoose application, teachers had the option of writing either a free-form essay (split into `project_essay_1`, `project_essay_2`, `project_essay_3`, and `project_essay_4`) or writing free-form answers to the following four prompts:\n",
    "\n",
    "1. Introduce your classroom (`project_essay_1`)\n",
    "2. Describe the situation (`project_essay_2`)\n",
    "3. Describe the solution (`project_essay_3`)\n",
    "4. Empower your donors (`project_essay_4`) \n",
    "\n",
    "Effective February 18th, 2010, the option to write a free-form essay was removed, and all teachers were required to respond to the following four prompts:\n",
    "\n",
    "1. Open with the challenge facing your students (`project_essay_1`)\n",
    "2. Tell us more about your students (`project_essay_2`)\n",
    "3. Inspire your potential donors with an overview of the resources you're requesting (`project_essay_3`)\n",
    "4. Close by sharing why your project is so important (`project_essay_4`) \n",
    "\n",
    "When using essay data from `project_essay_1`, `project_essay_2`, `project_essay_3`, and `project_essay_4`, make sure to take into account that the nature of the text content in these fields is different for examples with a `project_submitted_datetime` prior to February 18th, 2010."
   ]
  },
  {
   "cell_type": "markdown",
   "metadata": {
    "colab_type": "text",
    "hidden": true,
    "id": "JnYWb5GCfqVX"
   },
   "source": [
    "List all the fields in the data set:"
   ]
  },
  {
   "cell_type": "code",
   "execution_count": 4,
   "metadata": {
    "ExecuteTime": {
     "end_time": "2018-04-16T00:01:02.535305Z",
     "start_time": "2018-04-16T00:01:02.470295Z"
    },
    "hidden": true
   },
   "outputs": [
    {
     "data": {
      "text/html": [
       "<div>\n",
       "<style scoped>\n",
       "    .dataframe tbody tr th:only-of-type {\n",
       "        vertical-align: middle;\n",
       "    }\n",
       "\n",
       "    .dataframe tbody tr th {\n",
       "        vertical-align: top;\n",
       "    }\n",
       "\n",
       "    .dataframe thead th {\n",
       "        text-align: right;\n",
       "    }\n",
       "</style>\n",
       "<table border=\"1\" class=\"dataframe\">\n",
       "  <thead>\n",
       "    <tr style=\"text-align: right;\">\n",
       "      <th></th>\n",
       "      <th>id</th>\n",
       "      <th>teacher_id</th>\n",
       "      <th>teacher_prefix</th>\n",
       "      <th>school_state</th>\n",
       "      <th>project_submitted_datetime</th>\n",
       "      <th>project_grade_category</th>\n",
       "      <th>project_subject_categories</th>\n",
       "      <th>project_subject_subcategories</th>\n",
       "      <th>project_title</th>\n",
       "      <th>project_essay_1</th>\n",
       "      <th>project_essay_2</th>\n",
       "      <th>project_essay_3</th>\n",
       "      <th>project_essay_4</th>\n",
       "      <th>project_resource_summary</th>\n",
       "      <th>teacher_number_of_previously_posted_projects</th>\n",
       "      <th>project_is_approved</th>\n",
       "    </tr>\n",
       "  </thead>\n",
       "  <tbody>\n",
       "    <tr>\n",
       "      <th>0</th>\n",
       "      <td>p036502</td>\n",
       "      <td>484aaf11257089a66cfedc9461c6bd0a</td>\n",
       "      <td>Ms.</td>\n",
       "      <td>NV</td>\n",
       "      <td>2016-11-18 14:45:59</td>\n",
       "      <td>Grades PreK-2</td>\n",
       "      <td>Literacy &amp; Language</td>\n",
       "      <td>Literacy</td>\n",
       "      <td>Super Sight Word Centers</td>\n",
       "      <td>Most of my kindergarten students come from low...</td>\n",
       "      <td>I currently have a differentiated sight word c...</td>\n",
       "      <td>NaN</td>\n",
       "      <td>NaN</td>\n",
       "      <td>My students need 6 Ipod Nano's to create and d...</td>\n",
       "      <td>26</td>\n",
       "      <td>1</td>\n",
       "    </tr>\n",
       "    <tr>\n",
       "      <th>1</th>\n",
       "      <td>p039565</td>\n",
       "      <td>df72a3ba8089423fa8a94be88060f6ed</td>\n",
       "      <td>Mrs.</td>\n",
       "      <td>GA</td>\n",
       "      <td>2017-04-26 15:57:28</td>\n",
       "      <td>Grades 3-5</td>\n",
       "      <td>Music &amp; The Arts, Health &amp; Sports</td>\n",
       "      <td>Performing Arts, Team Sports</td>\n",
       "      <td>Keep Calm and Dance On</td>\n",
       "      <td>Our elementary school is a culturally rich sch...</td>\n",
       "      <td>We strive to provide our diverse population of...</td>\n",
       "      <td>NaN</td>\n",
       "      <td>NaN</td>\n",
       "      <td>My students need matching shirts to wear for d...</td>\n",
       "      <td>1</td>\n",
       "      <td>0</td>\n",
       "    </tr>\n",
       "    <tr>\n",
       "      <th>2</th>\n",
       "      <td>p233823</td>\n",
       "      <td>a9b876a9252e08a55e3d894150f75ba3</td>\n",
       "      <td>Ms.</td>\n",
       "      <td>UT</td>\n",
       "      <td>2017-01-01 22:57:44</td>\n",
       "      <td>Grades 3-5</td>\n",
       "      <td>Math &amp; Science, Literacy &amp; Language</td>\n",
       "      <td>Applied Sciences, Literature &amp; Writing</td>\n",
       "      <td>Lets 3Doodle to Learn</td>\n",
       "      <td>Hello;\\r\\nMy name is Mrs. Brotherton. I teach ...</td>\n",
       "      <td>We are looking to add some 3Doodler to our cla...</td>\n",
       "      <td>NaN</td>\n",
       "      <td>NaN</td>\n",
       "      <td>My students need the 3doodler. We are an SEM s...</td>\n",
       "      <td>5</td>\n",
       "      <td>1</td>\n",
       "    </tr>\n",
       "    <tr>\n",
       "      <th>3</th>\n",
       "      <td>p185307</td>\n",
       "      <td>525fdbb6ec7f538a48beebaa0a51b24f</td>\n",
       "      <td>Mr.</td>\n",
       "      <td>NC</td>\n",
       "      <td>2016-08-12 15:42:11</td>\n",
       "      <td>Grades 3-5</td>\n",
       "      <td>Health &amp; Sports</td>\n",
       "      <td>Health &amp; Wellness</td>\n",
       "      <td>\\\"Kid Inspired\\\" Equipment to Increase Activit...</td>\n",
       "      <td>My students are the greatest students but are ...</td>\n",
       "      <td>The student's project which is totally \\\"kid-i...</td>\n",
       "      <td>NaN</td>\n",
       "      <td>NaN</td>\n",
       "      <td>My students need balls and other activity equi...</td>\n",
       "      <td>16</td>\n",
       "      <td>0</td>\n",
       "    </tr>\n",
       "    <tr>\n",
       "      <th>4</th>\n",
       "      <td>p013780</td>\n",
       "      <td>a63b5547a7239eae4c1872670848e61a</td>\n",
       "      <td>Mr.</td>\n",
       "      <td>CA</td>\n",
       "      <td>2016-08-06 09:09:11</td>\n",
       "      <td>Grades 6-8</td>\n",
       "      <td>Health &amp; Sports</td>\n",
       "      <td>Health &amp; Wellness</td>\n",
       "      <td>We need clean water for our culinary arts class!</td>\n",
       "      <td>My students are athletes and students who are ...</td>\n",
       "      <td>For some reason in our kitchen the water comes...</td>\n",
       "      <td>NaN</td>\n",
       "      <td>NaN</td>\n",
       "      <td>My students need a water filtration system for...</td>\n",
       "      <td>42</td>\n",
       "      <td>1</td>\n",
       "    </tr>\n",
       "  </tbody>\n",
       "</table>\n",
       "</div>"
      ],
      "text/plain": [
       "        id                        teacher_id teacher_prefix school_state  \\\n",
       "0  p036502  484aaf11257089a66cfedc9461c6bd0a            Ms.           NV   \n",
       "1  p039565  df72a3ba8089423fa8a94be88060f6ed           Mrs.           GA   \n",
       "2  p233823  a9b876a9252e08a55e3d894150f75ba3            Ms.           UT   \n",
       "3  p185307  525fdbb6ec7f538a48beebaa0a51b24f            Mr.           NC   \n",
       "4  p013780  a63b5547a7239eae4c1872670848e61a            Mr.           CA   \n",
       "\n",
       "  project_submitted_datetime project_grade_category  \\\n",
       "0        2016-11-18 14:45:59          Grades PreK-2   \n",
       "1        2017-04-26 15:57:28             Grades 3-5   \n",
       "2        2017-01-01 22:57:44             Grades 3-5   \n",
       "3        2016-08-12 15:42:11             Grades 3-5   \n",
       "4        2016-08-06 09:09:11             Grades 6-8   \n",
       "\n",
       "            project_subject_categories  \\\n",
       "0                  Literacy & Language   \n",
       "1    Music & The Arts, Health & Sports   \n",
       "2  Math & Science, Literacy & Language   \n",
       "3                      Health & Sports   \n",
       "4                      Health & Sports   \n",
       "\n",
       "            project_subject_subcategories  \\\n",
       "0                                Literacy   \n",
       "1            Performing Arts, Team Sports   \n",
       "2  Applied Sciences, Literature & Writing   \n",
       "3                       Health & Wellness   \n",
       "4                       Health & Wellness   \n",
       "\n",
       "                                       project_title  \\\n",
       "0                           Super Sight Word Centers   \n",
       "1                             Keep Calm and Dance On   \n",
       "2                              Lets 3Doodle to Learn   \n",
       "3  \\\"Kid Inspired\\\" Equipment to Increase Activit...   \n",
       "4   We need clean water for our culinary arts class!   \n",
       "\n",
       "                                     project_essay_1  \\\n",
       "0  Most of my kindergarten students come from low...   \n",
       "1  Our elementary school is a culturally rich sch...   \n",
       "2  Hello;\\r\\nMy name is Mrs. Brotherton. I teach ...   \n",
       "3  My students are the greatest students but are ...   \n",
       "4  My students are athletes and students who are ...   \n",
       "\n",
       "                                     project_essay_2 project_essay_3  \\\n",
       "0  I currently have a differentiated sight word c...             NaN   \n",
       "1  We strive to provide our diverse population of...             NaN   \n",
       "2  We are looking to add some 3Doodler to our cla...             NaN   \n",
       "3  The student's project which is totally \\\"kid-i...             NaN   \n",
       "4  For some reason in our kitchen the water comes...             NaN   \n",
       "\n",
       "  project_essay_4                           project_resource_summary  \\\n",
       "0             NaN  My students need 6 Ipod Nano's to create and d...   \n",
       "1             NaN  My students need matching shirts to wear for d...   \n",
       "2             NaN  My students need the 3doodler. We are an SEM s...   \n",
       "3             NaN  My students need balls and other activity equi...   \n",
       "4             NaN  My students need a water filtration system for...   \n",
       "\n",
       "   teacher_number_of_previously_posted_projects  project_is_approved  \n",
       "0                                            26                    1  \n",
       "1                                             1                    0  \n",
       "2                                             5                    1  \n",
       "3                                            16                    0  \n",
       "4                                            42                    1  "
      ]
     },
     "metadata": {},
     "output_type": "display_data"
    }
   ],
   "source": [
    "display(train.head(5))"
   ]
  },
  {
   "cell_type": "markdown",
   "metadata": {
    "colab_type": "text",
    "hidden": true,
    "id": "ZSL5_0JJfqVh"
   },
   "source": [
    "#### Let's take a closer look at the distribution, statistics and various counts on the data:\n",
    "\n",
    "*Huge thanks to [Andrew Lukyanenko](https://www.kaggle.com/artgor) to present the library [`pandas_profiling`](https://github.com/pandas-profiling/pandas-profiling) which handles automatically a lot of the EDA necessary for all ML projects*\n"
   ]
  },
  {
   "cell_type": "code",
   "execution_count": 5,
   "metadata": {
    "ExecuteTime": {
     "end_time": "2018-04-16T00:01:05.078470Z",
     "start_time": "2018-04-16T00:01:02.539191Z"
    },
    "hidden": true
   },
   "outputs": [
    {
     "name": "stdout",
     "output_type": "stream",
     "text": [
      "Training Data: \n",
      "\n",
      "id | 182080 | object\n",
      "teacher_id | 104414 | object\n",
      "teacher_prefix | 6 | object\n",
      "school_state | 51 | object\n",
      "project_submitted_datetime | 180439 | datetime64[ns]\n",
      "project_grade_category | 4 | object\n",
      "project_subject_categories | 51 | object\n",
      "project_subject_subcategories | 407 | object\n",
      "project_title | 164282 | object\n",
      "project_essay_1 | 147689 | object\n",
      "project_essay_2 | 180984 | object\n",
      "project_essay_3 | 6360 | object\n",
      "project_essay_4 | 6337 | object\n",
      "project_resource_summary | 179730 | object\n",
      "teacher_number_of_previously_posted_projects | 401 | int64\n",
      "project_is_approved | 2 | uint8\n",
      "================================================================================\n",
      "Test Data: \n",
      "\n",
      "id | 78035 | object\n",
      "teacher_id | 55508 | object\n",
      "teacher_prefix | 6 | object\n",
      "school_state | 51 | object\n",
      "project_submitted_datetime | 77646 | datetime64[ns]\n",
      "project_grade_category | 4 | object\n",
      "project_subject_categories | 51 | object\n",
      "project_subject_subcategories | 390 | object\n",
      "project_title | 72755 | object\n",
      "project_essay_1 | 69435 | object\n",
      "project_essay_2 | 77826 | object\n",
      "project_essay_3 | 2703 | object\n",
      "project_essay_4 | 2693 | object\n",
      "project_resource_summary | 77531 | object\n",
      "teacher_number_of_previously_posted_projects | 352 | int64\n"
     ]
    }
   ],
   "source": [
    "def unique_col_values(df):\n",
    "    for column in df:\n",
    "        print(\"{} | {} | {}\".format(df[column].name, \n",
    "                                    len(df[column].unique()),\n",
    "                                    df[column].dtype))\n",
    "\n",
    "print(\"Training Data: \\n\")\n",
    "unique_col_values(train)\n",
    "print(80 * \"=\")\n",
    "print(\"Test Data: \\n\")\n",
    "unique_col_values(test)\n",
    "\n",
    "# TODO: Distributions"
   ]
  },
  {
   "cell_type": "markdown",
   "metadata": {
    "hidden": true
   },
   "source": [
    "Additional Observations:\n",
    "\n",
    " * There is about 182k observations in our training set and 78k in our test set\n",
    " * **Teachers and School Information**: We have three categorical variables about the teachers and the school`teacher_id` uniquely identify an individual teacher anonimously, `teacher_prefix` is probably an important categorical feature identifying gender and `school_state` is also categorical\n",
    " * **Project Information**: *3 Categorical Variables*, `project_grade_subcategory`, `project_subject_categories`, `project_subject_subcategories`, describing the grade and subjects, and *2 textual ones*, `project_title` and `project_resource_summary`. The former doesn't seem to be very useful in predicting the outcome, but the latter do, let's see.\n",
    " * **Project Essay**: This 4 additional textual features are the proposal's core and probably the most important variables. We'll need to make use of some nlp processing to make those useful.\n",
    " * The only numerical variable is `teacher_number_of_previously_posted_projects`\n",
    " * The null values are significant only in the columns `project_essay_3` and `project_essay_4`\n",
    " * There isn't a strong correlation between the number of previously submitted projects by a teacher and the rate of approval\n",
    " * California is the leader state from where projects are submitted, followed by Texas and New York\n",
    " "
   ]
  },
  {
   "cell_type": "markdown",
   "metadata": {
    "hidden": true
   },
   "source": [
    "### Resources Data\n",
    "\n",
    "Additionally, the `resources.csv` data set provides more data about the resources required for each project. Each line in this file represents a resource required by a project:\n",
    "\n",
    "Feature | Description | Data Type\n",
    "----------|---------------|------------\n",
    "**`id`** | A `project_id` value from the `train.csv` file.  **Example:** `p036502`   | string\n",
    "**`description`** | Desciption of the resource. **Example:** `Tenor Saxophone Reeds, Box of 25`   | string\n",
    "**`quantity`** | Quantity of the resource required. **Example:** `3`   | string\n",
    "**`price`** | Price of the resource required. **Example:** `9.95`   | string\n",
    "\n",
    "**Note:** Many projects require multiple resources. The `id` value corresponds to a `project_id` in train.csv, so you use it as a key to retrieve all resources needed for a project:"
   ]
  },
  {
   "cell_type": "code",
   "execution_count": 6,
   "metadata": {
    "ExecuteTime": {
     "end_time": "2018-04-16T00:01:06.050388Z",
     "start_time": "2018-04-16T00:01:05.082510Z"
    },
    "hidden": true
   },
   "outputs": [
    {
     "name": "stdout",
     "output_type": "stream",
     "text": [
      "Resources Data: \n",
      "\n",
      "id | 260115 | object\n",
      "description | 332929 | object\n",
      "quantity | 208 | int64\n",
      "price | 26890 | float64\n"
     ]
    }
   ],
   "source": [
    "print(\"Resources Data: \\n\")\n",
    "unique_col_values(resources)"
   ]
  },
  {
   "cell_type": "code",
   "execution_count": 7,
   "metadata": {
    "ExecuteTime": {
     "end_time": "2018-04-16T00:01:06.129999Z",
     "start_time": "2018-04-16T00:01:06.054477Z"
    },
    "hidden": true
   },
   "outputs": [
    {
     "data": {
      "text/html": [
       "<div>\n",
       "<style scoped>\n",
       "    .dataframe tbody tr th:only-of-type {\n",
       "        vertical-align: middle;\n",
       "    }\n",
       "\n",
       "    .dataframe tbody tr th {\n",
       "        vertical-align: top;\n",
       "    }\n",
       "\n",
       "    .dataframe thead th {\n",
       "        text-align: right;\n",
       "    }\n",
       "</style>\n",
       "<table border=\"1\" class=\"dataframe\">\n",
       "  <thead>\n",
       "    <tr style=\"text-align: right;\">\n",
       "      <th></th>\n",
       "      <th>id</th>\n",
       "      <th>description</th>\n",
       "      <th>quantity</th>\n",
       "      <th>price</th>\n",
       "    </tr>\n",
       "  </thead>\n",
       "  <tbody>\n",
       "    <tr>\n",
       "      <th>0</th>\n",
       "      <td>p233245</td>\n",
       "      <td>LC652 - Lakeshore Double-Space Mobile Drying Rack</td>\n",
       "      <td>1</td>\n",
       "      <td>149.00</td>\n",
       "    </tr>\n",
       "    <tr>\n",
       "      <th>1</th>\n",
       "      <td>p069063</td>\n",
       "      <td>Bouncy Bands for Desks (Blue support pipes)</td>\n",
       "      <td>3</td>\n",
       "      <td>14.95</td>\n",
       "    </tr>\n",
       "    <tr>\n",
       "      <th>2</th>\n",
       "      <td>p069063</td>\n",
       "      <td>Cory Stories: A Kid's Book About Living With Adhd</td>\n",
       "      <td>1</td>\n",
       "      <td>8.45</td>\n",
       "    </tr>\n",
       "    <tr>\n",
       "      <th>3</th>\n",
       "      <td>p069063</td>\n",
       "      <td>Dixon Ticonderoga Wood-Cased #2 HB Pencils, Bo...</td>\n",
       "      <td>2</td>\n",
       "      <td>13.59</td>\n",
       "    </tr>\n",
       "    <tr>\n",
       "      <th>4</th>\n",
       "      <td>p069063</td>\n",
       "      <td>EDUCATIONAL INSIGHTS FLUORESCENT LIGHT FILTERS...</td>\n",
       "      <td>3</td>\n",
       "      <td>24.95</td>\n",
       "    </tr>\n",
       "  </tbody>\n",
       "</table>\n",
       "</div>"
      ],
      "text/plain": [
       "        id                                        description  quantity  \\\n",
       "0  p233245  LC652 - Lakeshore Double-Space Mobile Drying Rack         1   \n",
       "1  p069063        Bouncy Bands for Desks (Blue support pipes)         3   \n",
       "2  p069063  Cory Stories: A Kid's Book About Living With Adhd         1   \n",
       "3  p069063  Dixon Ticonderoga Wood-Cased #2 HB Pencils, Bo...         2   \n",
       "4  p069063  EDUCATIONAL INSIGHTS FLUORESCENT LIGHT FILTERS...         3   \n",
       "\n",
       "    price  \n",
       "0  149.00  \n",
       "1   14.95  \n",
       "2    8.45  \n",
       "3   13.59  \n",
       "4   24.95  "
      ]
     },
     "metadata": {},
     "output_type": "display_data"
    }
   ],
   "source": [
    "display(resources.head())"
   ]
  },
  {
   "cell_type": "markdown",
   "metadata": {},
   "source": [
    "## Individual Feature Visualizations "
   ]
  },
  {
   "cell_type": "code",
   "execution_count": 8,
   "metadata": {
    "ExecuteTime": {
     "end_time": "2018-04-16T00:01:06.202305Z",
     "start_time": "2018-04-16T00:01:06.138521Z"
    }
   },
   "outputs": [],
   "source": [
    "# Helper function \n",
    "\n",
    "def agg_count(df: pd.DataFrame, group_field: str)-> pd.DataFrame:\n",
    "    \"\"\"\n",
    "    Receives a DataFrame, group by the column group_field\n",
    "    aggregate it by size of each of the group field\n",
    "    \n",
    "    Returns a DataFrame with 2 columns: group_fields and counts\n",
    "    \n",
    "    \"\"\"\n",
    "    grouped = df.groupby(group_field, as_index=False).size()\n",
    "    grouped = pd.DataFrame(grouped).reset_index()\n",
    "    grouped.columns = [group_field, 'count']\n",
    "    grouped = grouped.sort_values(by='count', ascending=False)\n",
    "      \n",
    "    return grouped"
   ]
  },
  {
   "cell_type": "markdown",
   "metadata": {},
   "source": [
    "### Space\n",
    "\n",
    "Let's visualize the number of proposals accros the various US states.\n",
    "\n",
    "Code for creating map from borrowed from: https://www.kaggle.com/hoonkeng/how-to-get-81-gru-att-lgbm-tf-idf-eda"
   ]
  },
  {
   "cell_type": "code",
   "execution_count": 9,
   "metadata": {
    "ExecuteTime": {
     "end_time": "2018-04-16T00:01:06.404776Z",
     "start_time": "2018-04-16T00:01:06.206345Z"
    },
    "cell_style": "center"
   },
   "outputs": [
    {
     "data": {
      "text/html": [
       "<div>\n",
       "<style scoped>\n",
       "    .dataframe tbody tr th:only-of-type {\n",
       "        vertical-align: middle;\n",
       "    }\n",
       "\n",
       "    .dataframe tbody tr th {\n",
       "        vertical-align: top;\n",
       "    }\n",
       "\n",
       "    .dataframe thead th {\n",
       "        text-align: right;\n",
       "    }\n",
       "</style>\n",
       "<table border=\"1\" class=\"dataframe\">\n",
       "  <thead>\n",
       "    <tr style=\"text-align: right;\">\n",
       "      <th></th>\n",
       "      <th>school_state</th>\n",
       "      <th>total_approvals</th>\n",
       "    </tr>\n",
       "  </thead>\n",
       "  <tbody>\n",
       "    <tr>\n",
       "      <th>4</th>\n",
       "      <td>CA</td>\n",
       "      <td>22006</td>\n",
       "    </tr>\n",
       "    <tr>\n",
       "      <th>34</th>\n",
       "      <td>NY</td>\n",
       "      <td>10377</td>\n",
       "    </tr>\n",
       "    <tr>\n",
       "      <th>43</th>\n",
       "      <td>TX</td>\n",
       "      <td>10036</td>\n",
       "    </tr>\n",
       "    <tr>\n",
       "      <th>9</th>\n",
       "      <td>FL</td>\n",
       "      <td>8541</td>\n",
       "    </tr>\n",
       "    <tr>\n",
       "      <th>27</th>\n",
       "      <td>NC</td>\n",
       "      <td>7223</td>\n",
       "    </tr>\n",
       "  </tbody>\n",
       "</table>\n",
       "</div>"
      ],
      "text/plain": [
       "   school_state  total_approvals\n",
       "4            CA            22006\n",
       "34           NY            10377\n",
       "43           TX            10036\n",
       "9            FL             8541\n",
       "27           NC             7223"
      ]
     },
     "execution_count": 9,
     "metadata": {},
     "output_type": "execute_result"
    }
   ],
   "source": [
    "# DataFrame to store the approved projects by state\n",
    "#approved_by_state = train.groupby('school_state')['project_is_approved'].agg('sum').reset_index().sort_values('school_state').reset_index()\n",
    "\n",
    "approved_by_state = agg_count(train.loc[train[\"project_is_approved\"] == 1], \"school_state\")\n",
    "\n",
    "approved_by_state.columns = [\"school_state\", \"total_approvals\"]\n",
    "\n",
    "approved_by_state.head()\n"
   ]
  },
  {
   "cell_type": "code",
   "execution_count": 10,
   "metadata": {
    "ExecuteTime": {
     "end_time": "2018-04-16T00:01:06.491722Z",
     "start_time": "2018-04-16T00:01:06.409654Z"
    }
   },
   "outputs": [
    {
     "data": {
      "text/html": [
       "<div>\n",
       "<style scoped>\n",
       "    .dataframe tbody tr th:only-of-type {\n",
       "        vertical-align: middle;\n",
       "    }\n",
       "\n",
       "    .dataframe tbody tr th {\n",
       "        vertical-align: top;\n",
       "    }\n",
       "\n",
       "    .dataframe thead th {\n",
       "        text-align: right;\n",
       "    }\n",
       "</style>\n",
       "<table border=\"1\" class=\"dataframe\">\n",
       "  <thead>\n",
       "    <tr style=\"text-align: right;\">\n",
       "      <th></th>\n",
       "      <th>school_state</th>\n",
       "      <th>total_submissions</th>\n",
       "    </tr>\n",
       "  </thead>\n",
       "  <tbody>\n",
       "    <tr>\n",
       "      <th>4</th>\n",
       "      <td>CA</td>\n",
       "      <td>25695</td>\n",
       "    </tr>\n",
       "    <tr>\n",
       "      <th>43</th>\n",
       "      <td>TX</td>\n",
       "      <td>12304</td>\n",
       "    </tr>\n",
       "    <tr>\n",
       "      <th>34</th>\n",
       "      <td>NY</td>\n",
       "      <td>12157</td>\n",
       "    </tr>\n",
       "    <tr>\n",
       "      <th>9</th>\n",
       "      <td>FL</td>\n",
       "      <td>10359</td>\n",
       "    </tr>\n",
       "    <tr>\n",
       "      <th>27</th>\n",
       "      <td>NC</td>\n",
       "      <td>8463</td>\n",
       "    </tr>\n",
       "  </tbody>\n",
       "</table>\n",
       "</div>"
      ],
      "text/plain": [
       "   school_state  total_submissions\n",
       "4            CA              25695\n",
       "43           TX              12304\n",
       "34           NY              12157\n",
       "9            FL              10359\n",
       "27           NC               8463"
      ]
     },
     "execution_count": 10,
     "metadata": {},
     "output_type": "execute_result"
    }
   ],
   "source": [
    "# Create a DataFrame to store the sum of submissions by state\n",
    "#submitted_by_state = train['school_state'].value_counts().reset_index()\n",
    "submitted_by_state = agg_count(train, 'school_state')\n",
    "\n",
    "submitted_by_state.columns = ['school_state', \"total_submissions\"]\n",
    "\n",
    "submitted_by_state.head()"
   ]
  },
  {
   "cell_type": "code",
   "execution_count": 11,
   "metadata": {
    "ExecuteTime": {
     "end_time": "2018-04-16T00:01:06.634050Z",
     "start_time": "2018-04-16T00:01:06.500620Z"
    }
   },
   "outputs": [
    {
     "data": {
      "application/vnd.plotly.v1+json": {
       "data": [
        {
         "autocolorscale": false,
         "colorbar": {
          "title": "Number of Proposals"
         },
         "colorscale": [
          [
           0,
           "rgb(242,240,247)"
          ],
          [
           0.2,
           "rgb(218,218,235)"
          ],
          [
           0.4,
           "rgb(188,189,220)"
          ],
          [
           0.6,
           "rgb(158,154,200)"
          ],
          [
           0.8,
           "rgb(117,107,177)"
          ],
          [
           1,
           "rgb(84,39,143)"
          ]
         ],
         "locationmode": "USA-states",
         "locations": [
          "CA",
          "TX",
          "NY",
          "FL",
          "NC",
          "IL",
          "GA",
          "SC",
          "MI",
          "PA",
          "IN",
          "MO",
          "OH",
          "MA",
          "LA",
          "WA",
          "OK",
          "NJ",
          "AZ",
          "VA",
          "WI",
          "AL",
          "TN",
          "UT",
          "CT",
          "MD",
          "NV",
          "MS",
          "KY",
          "OR",
          "MN",
          "CO",
          "AR",
          "ID",
          "IA",
          "KS",
          "NM",
          "DC",
          "HI",
          "WV",
          "ME",
          "DE",
          "NH",
          "AK",
          "SD",
          "NE",
          "RI",
          "MT",
          "ND",
          "WY",
          "VT"
         ],
         "marker": {
          "line": {
           "color": "rgb(255,255,255)",
           "width": 2
          }
         },
         "type": "choropleth",
         "z": [
          25695,
          12304,
          12157,
          10359,
          8463,
          7332,
          6636,
          6463,
          5324,
          5093,
          4314,
          4247,
          4139,
          4054,
          3946,
          3903,
          3829,
          3671,
          3614,
          3446,
          2983,
          2955,
          2836,
          2814,
          2766,
          2480,
          2297,
          2222,
          2172,
          2119,
          2055,
          1887,
          1757,
          1113,
          1079,
          1060,
          916,
          902,
          869,
          839,
          827,
          589,
          587,
          557,
          494,
          493,
          475,
          384,
          248,
          177,
          139
         ]
        }
       ],
       "layout": {
        "geo": {
         "lakecolor": "rgb(255, 255, 255)",
         "projection": {
          "type": "albers usa"
         },
         "scope": "usa",
         "showlakes": true
        },
        "title": "DonorChoose Submitted Proposals by State in US"
       }
      },
      "text/html": [
       "<div id=\"cf87935c-d8ff-4b39-9a4d-d5073a01c714\" style=\"height: 525px; width: 100%;\" class=\"plotly-graph-div\"></div><script type=\"text/javascript\">require([\"plotly\"], function(Plotly) { window.PLOTLYENV=window.PLOTLYENV || {};window.PLOTLYENV.BASE_URL=\"https://plot.ly\";Plotly.newPlot(\"cf87935c-d8ff-4b39-9a4d-d5073a01c714\", [{\"type\": \"choropleth\", \"colorscale\": [[0.0, \"rgb(242,240,247)\"], [0.2, \"rgb(218,218,235)\"], [0.4, \"rgb(188,189,220)\"], [0.6, \"rgb(158,154,200)\"], [0.8, \"rgb(117,107,177)\"], [1.0, \"rgb(84,39,143)\"]], \"autocolorscale\": false, \"locations\": [\"CA\", \"TX\", \"NY\", \"FL\", \"NC\", \"IL\", \"GA\", \"SC\", \"MI\", \"PA\", \"IN\", \"MO\", \"OH\", \"MA\", \"LA\", \"WA\", \"OK\", \"NJ\", \"AZ\", \"VA\", \"WI\", \"AL\", \"TN\", \"UT\", \"CT\", \"MD\", \"NV\", \"MS\", \"KY\", \"OR\", \"MN\", \"CO\", \"AR\", \"ID\", \"IA\", \"KS\", \"NM\", \"DC\", \"HI\", \"WV\", \"ME\", \"DE\", \"NH\", \"AK\", \"SD\", \"NE\", \"RI\", \"MT\", \"ND\", \"WY\", \"VT\"], \"z\": [25695, 12304, 12157, 10359, 8463, 7332, 6636, 6463, 5324, 5093, 4314, 4247, 4139, 4054, 3946, 3903, 3829, 3671, 3614, 3446, 2983, 2955, 2836, 2814, 2766, 2480, 2297, 2222, 2172, 2119, 2055, 1887, 1757, 1113, 1079, 1060, 916, 902, 869, 839, 827, 589, 587, 557, 494, 493, 475, 384, 248, 177, 139], \"locationmode\": \"USA-states\", \"marker\": {\"line\": {\"color\": \"rgb(255,255,255)\", \"width\": 2}}, \"colorbar\": {\"title\": \"Number of Proposals\"}}], {\"title\": \"DonorChoose Submitted Proposals by State in US\", \"geo\": {\"scope\": \"usa\", \"projection\": {\"type\": \"albers usa\"}, \"showlakes\": true, \"lakecolor\": \"rgb(255, 255, 255)\"}}, {\"showLink\": true, \"linkText\": \"Export to plot.ly\"})});</script>"
      ],
      "text/vnd.plotly.v1+html": [
       "<div id=\"cf87935c-d8ff-4b39-9a4d-d5073a01c714\" style=\"height: 525px; width: 100%;\" class=\"plotly-graph-div\"></div><script type=\"text/javascript\">require([\"plotly\"], function(Plotly) { window.PLOTLYENV=window.PLOTLYENV || {};window.PLOTLYENV.BASE_URL=\"https://plot.ly\";Plotly.newPlot(\"cf87935c-d8ff-4b39-9a4d-d5073a01c714\", [{\"type\": \"choropleth\", \"colorscale\": [[0.0, \"rgb(242,240,247)\"], [0.2, \"rgb(218,218,235)\"], [0.4, \"rgb(188,189,220)\"], [0.6, \"rgb(158,154,200)\"], [0.8, \"rgb(117,107,177)\"], [1.0, \"rgb(84,39,143)\"]], \"autocolorscale\": false, \"locations\": [\"CA\", \"TX\", \"NY\", \"FL\", \"NC\", \"IL\", \"GA\", \"SC\", \"MI\", \"PA\", \"IN\", \"MO\", \"OH\", \"MA\", \"LA\", \"WA\", \"OK\", \"NJ\", \"AZ\", \"VA\", \"WI\", \"AL\", \"TN\", \"UT\", \"CT\", \"MD\", \"NV\", \"MS\", \"KY\", \"OR\", \"MN\", \"CO\", \"AR\", \"ID\", \"IA\", \"KS\", \"NM\", \"DC\", \"HI\", \"WV\", \"ME\", \"DE\", \"NH\", \"AK\", \"SD\", \"NE\", \"RI\", \"MT\", \"ND\", \"WY\", \"VT\"], \"z\": [25695, 12304, 12157, 10359, 8463, 7332, 6636, 6463, 5324, 5093, 4314, 4247, 4139, 4054, 3946, 3903, 3829, 3671, 3614, 3446, 2983, 2955, 2836, 2814, 2766, 2480, 2297, 2222, 2172, 2119, 2055, 1887, 1757, 1113, 1079, 1060, 916, 902, 869, 839, 827, 589, 587, 557, 494, 493, 475, 384, 248, 177, 139], \"locationmode\": \"USA-states\", \"marker\": {\"line\": {\"color\": \"rgb(255,255,255)\", \"width\": 2}}, \"colorbar\": {\"title\": \"Number of Proposals\"}}], {\"title\": \"DonorChoose Submitted Proposals by State in US\", \"geo\": {\"scope\": \"usa\", \"projection\": {\"type\": \"albers usa\"}, \"showlakes\": true, \"lakecolor\": \"rgb(255, 255, 255)\"}}, {\"showLink\": true, \"linkText\": \"Export to plot.ly\"})});</script>"
      ]
     },
     "metadata": {},
     "output_type": "display_data"
    }
   ],
   "source": [
    "# Create map in plotly\n",
    "colorscale = [[0.0, 'rgb(242,240,247)'],[0.2, 'rgb(218,218,235)'],[0.4, 'rgb(188,189,220)'],\\\n",
    "              [0.6, 'rgb(158,154,200)'],[0.8, 'rgb(117,107,177)'],[1.0, 'rgb(84,39,143)']]\n",
    "\n",
    "line = {'color': 'rgb(255,255,255)', 'width': 2}\n",
    "\n",
    "data = [{'type': 'choropleth', \n",
    "         'colorscale' : colorscale, \n",
    "         'autocolorscale': False, \n",
    "         'locations': submitted_by_state['school_state'], \n",
    "         'z' : submitted_by_state['total_submissions'].astype(int),\n",
    "         'locationmode' : 'USA-states',\n",
    "         'marker' : dict(line = line),\n",
    "         'colorbar': dict(title = 'Number of Proposals')\n",
    "        }]\n",
    "\n",
    "layout = {'title': 'DonorChoose Submitted Proposals by State in US',\n",
    "          'geo': dict(scope='usa', \n",
    "                      projection=dict(type='albers usa'), \n",
    "                      showlakes=True, \n",
    "                      lakecolor='rgb(255, 255, 255)')}\n",
    "\n",
    "fig = dict(data=data, layout=layout)\n",
    "\n",
    "py.iplot(fig, filename='submission_distribution_by_state')\n",
    "\n",
    "del colorscale, line, data, layout"
   ]
  },
  {
   "cell_type": "code",
   "execution_count": 12,
   "metadata": {
    "ExecuteTime": {
     "end_time": "2018-04-16T00:01:08.383117Z",
     "start_time": "2018-04-16T00:01:06.639487Z"
    }
   },
   "outputs": [
    {
     "data": {
      "image/png": "[encoded data removed]",
      "text/plain": [
       "<Figure size 1152x720 with 1 Axes>"
      ]
     },
     "metadata": {},
     "output_type": "display_data"
    }
   ],
   "source": [
    "# Initialize the figure with a logarithmic x axis\n",
    "f, ax = plt.subplots(figsize=(16, 10))\n",
    "ax.set_yscale(\"log\")\n",
    "\n",
    "ax = sns.barplot(submitted_by_state['school_state'], submitted_by_state['total_submissions'])\n",
    "\n",
    "ax.set(xlabel=\"State\", \n",
    "       ylabel=\"Total Submissions\",\n",
    "       title = \"Number of Submitted Project Proposals per US state ( log axis )\")\n",
    "\n",
    "ax.yaxis.grid(True)\n",
    "\n",
    "plt.xticks(rotation=90)\n",
    "\n",
    "plt.show()\n",
    "\n",
    "del f, ax"
   ]
  },
  {
   "cell_type": "code",
   "execution_count": 13,
   "metadata": {
    "ExecuteTime": {
     "end_time": "2018-04-16T00:01:09.667765Z",
     "start_time": "2018-04-16T00:01:08.385451Z"
    }
   },
   "outputs": [
    {
     "data": {
      "image/png": "[encoded data removed]",
      "text/plain": [
       "<Figure size 1152x720 with 1 Axes>"
      ]
     },
     "metadata": {},
     "output_type": "display_data"
    }
   ],
   "source": [
    "# Initialize the figure with a logarithmic x axis\n",
    "f, ax = plt.subplots(figsize=(16, 10))\n",
    "ax.set_yscale(\"log\")\n",
    "\n",
    "ax = sns.barplot(approved_by_state['school_state'], approved_by_state['total_approvals'])\n",
    "\n",
    "ax.set(xlabel=\"State\", \n",
    "       ylabel=\"Total Approvals\",\n",
    "       title = \"Number of Approved Project Proposals per US state ( log axis )\")\n",
    "\n",
    "ax.yaxis.grid(True)\n",
    "\n",
    "plt.xticks(rotation=90)\n",
    "\n",
    "plt.show()\n",
    "\n",
    "del f, ax"
   ]
  },
  {
   "cell_type": "markdown",
   "metadata": {},
   "source": [
    "* California (CA) has the biggest number of proposals `25.695k`, followed by Texas (TX) with `12.304k` and New York with `12.157k`    "
   ]
  },
  {
   "cell_type": "markdown",
   "metadata": {},
   "source": [
    "### Teachers"
   ]
  },
  {
   "cell_type": "code",
   "execution_count": 14,
   "metadata": {
    "ExecuteTime": {
     "end_time": "2018-04-16T00:01:10.686578Z",
     "start_time": "2018-04-16T00:01:09.670985Z"
    }
   },
   "outputs": [
    {
     "data": {
      "image/png": "[encoded data removed]",
      "text/plain": [
       "<Figure size 1152x864 with 2 Axes>"
      ]
     },
     "metadata": {},
     "output_type": "display_data"
    }
   ],
   "source": [
    "prefix_counts = agg_count(train, \"teacher_prefix\")\n",
    "\n",
    "male = [\"Mr.\"]\n",
    "female = [\"Mrs.\", \"Ms.\"]\n",
    "\n",
    "train.loc[train[\"teacher_prefix\"].isin(male), \"teacher_gender\"] = \"Male\"\n",
    "train.loc[train[\"teacher_prefix\"].isin(female), \"teacher_gender\"] = \"Female\"\n",
    "\n",
    "gender_counts = agg_count(train, \"teacher_gender\")\n",
    "\n",
    "fig, (ax1, ax2) = plt.subplots(figsize=(16,12), ncols=2)\n",
    "\n",
    "plt.subplot(221)\n",
    "\n",
    "ax1 = sns.barplot(data=prefix_counts, x=\"teacher_prefix\", y=\"count\")\n",
    "\n",
    "ax1 = ax1.set(title=\"Teachers Prefix\",\n",
    "        xlabel=\"Prefix\")\n",
    "\n",
    "plt.subplot(222)\n",
    "\n",
    "ax2 = sns.barplot(data=gender_counts, x=\"teacher_gender\", y=\"count\")\n",
    "\n",
    "ax2 = ax2.set(title=\"Teachers Gender\",\n",
    "              xlabel=\"Gender\", \n",
    "              ylabel=\"Count\")\n",
    "\n",
    "train = train.drop(\"teacher_gender\", axis=1)\n",
    "\n",
    "del prefix_counts, male, female, gender_counts, fig, ax1, ax2"
   ]
  },
  {
   "cell_type": "markdown",
   "metadata": {
    "ExecuteTime": {
     "end_time": "2018-04-03T18:35:45.541943Z",
     "start_time": "2018-04-03T18:35:44.805093Z"
    }
   },
   "source": [
    "* There is a considerate dominance by women, around 90%\n",
    "\n",
    "* Note: Since we can't determine the gender in `Dr.` and `\"Teacher` we'll left those one out.\n",
    "\n",
    "* Only 4 teachers in the `training`set doesnt have a Prefix. Let's set those 4 to the most common prefix"
   ]
  },
  {
   "cell_type": "code",
   "execution_count": 15,
   "metadata": {
    "ExecuteTime": {
     "end_time": "2018-04-16T00:01:10.771980Z",
     "start_time": "2018-04-16T00:01:10.690211Z"
    }
   },
   "outputs": [],
   "source": [
    "train['teacher_prefix'].fillna('Mrs.', inplace=True)\n",
    "test['teacher_prefix'].fillna(\"Mrs.\", inplace=True)"
   ]
  },
  {
   "cell_type": "code",
   "execution_count": 16,
   "metadata": {
    "ExecuteTime": {
     "end_time": "2018-04-16T00:01:10.912127Z",
     "start_time": "2018-04-16T00:01:10.774248Z"
    }
   },
   "outputs": [
    {
     "data": {
      "text/html": [
       "<div>\n",
       "<style scoped>\n",
       "    .dataframe tbody tr th:only-of-type {\n",
       "        vertical-align: middle;\n",
       "    }\n",
       "\n",
       "    .dataframe tbody tr th {\n",
       "        vertical-align: top;\n",
       "    }\n",
       "\n",
       "    .dataframe thead th {\n",
       "        text-align: right;\n",
       "    }\n",
       "</style>\n",
       "<table border=\"1\" class=\"dataframe\">\n",
       "  <thead>\n",
       "    <tr style=\"text-align: right;\">\n",
       "      <th>project_is_approved</th>\n",
       "      <th>0</th>\n",
       "      <th>1</th>\n",
       "    </tr>\n",
       "    <tr>\n",
       "      <th>teacher_prefix</th>\n",
       "      <th></th>\n",
       "      <th></th>\n",
       "    </tr>\n",
       "  </thead>\n",
       "  <tbody>\n",
       "    <tr>\n",
       "      <th>Dr.</th>\n",
       "      <td>0.192308</td>\n",
       "      <td>0.807692</td>\n",
       "    </tr>\n",
       "    <tr>\n",
       "      <th>Mr.</th>\n",
       "      <td>0.157978</td>\n",
       "      <td>0.842022</td>\n",
       "    </tr>\n",
       "    <tr>\n",
       "      <th>Mrs.</th>\n",
       "      <td>0.145909</td>\n",
       "      <td>0.854091</td>\n",
       "    </tr>\n",
       "    <tr>\n",
       "      <th>Ms.</th>\n",
       "      <td>0.156948</td>\n",
       "      <td>0.843052</td>\n",
       "    </tr>\n",
       "    <tr>\n",
       "      <th>Teacher</th>\n",
       "      <td>0.205777</td>\n",
       "      <td>0.794223</td>\n",
       "    </tr>\n",
       "  </tbody>\n",
       "</table>\n",
       "</div>"
      ],
      "text/plain": [
       "project_is_approved         0         1\n",
       "teacher_prefix                         \n",
       "Dr.                  0.192308  0.807692\n",
       "Mr.                  0.157978  0.842022\n",
       "Mrs.                 0.145909  0.854091\n",
       "Ms.                  0.156948  0.843052\n",
       "Teacher              0.205777  0.794223"
      ]
     },
     "execution_count": 16,
     "metadata": {},
     "output_type": "execute_result"
    }
   ],
   "source": [
    "pd.crosstab(train.teacher_prefix, train.project_is_approved, dropna=False, normalize='index')"
   ]
  },
  {
   "cell_type": "markdown",
   "metadata": {},
   "source": [
    "Ideally the approval of a project should be independent of gender, this case seems to hold on this data."
   ]
  },
  {
   "cell_type": "markdown",
   "metadata": {},
   "source": [
    "### Project Categories & Grades"
   ]
  },
  {
   "cell_type": "code",
   "execution_count": 17,
   "metadata": {
    "ExecuteTime": {
     "end_time": "2018-04-16T00:01:11.451105Z",
     "start_time": "2018-04-16T00:01:10.916234Z"
    }
   },
   "outputs": [
    {
     "data": {
      "image/png": "[encoded data removed]",
      "text/plain": [
       "<Figure size 1152x720 with 1 Axes>"
      ]
     },
     "metadata": {},
     "output_type": "display_data"
    }
   ],
   "source": [
    "categories = agg_count(train, \"project_subject_categories\")\n",
    "\n",
    "categories = categories.sort_values(by=\"count\", ascending=False)[:10]\n",
    "\n",
    "subcategories = agg_count(train, \"project_subject_subcategories\")\n",
    "\n",
    "subcategories = subcategories.sort_values(by=\"count\", ascending=False)[:10]\n",
    "\n",
    "f, ax = plt.subplots(figsize=(16, 10))\n",
    "\n",
    "\n",
    "ax = sns.barplot(data=categories, y='project_subject_categories', x=\"count\")\n",
    "_ = ax.set_title(\"Project Subject Categories\")\n",
    "_ = ax.set(xlabel=\"Count\")\n",
    "_ = ax.set(ylabel=\"Subject Categories\")\n",
    "\n",
    "del f, ax"
   ]
  },
  {
   "cell_type": "markdown",
   "metadata": {},
   "source": [
    "* We only showed the top 10 categories to keep the plot readable.\n",
    "* The `subject_categories`are dominated by `Literary & language` and `Math & Science` or a combination of one of them. `Health & Sports`, `Music & The Arts` and `Special Needs`are also numerous "
   ]
  },
  {
   "cell_type": "code",
   "execution_count": 18,
   "metadata": {
    "ExecuteTime": {
     "end_time": "2018-04-16T00:01:11.890099Z",
     "start_time": "2018-04-16T00:01:11.454601Z"
    }
   },
   "outputs": [
    {
     "data": {
      "image/png": "[encoded data removed]",
      "text/plain": [
       "<Figure size 1152x720 with 1 Axes>"
      ]
     },
     "metadata": {},
     "output_type": "display_data"
    }
   ],
   "source": [
    "f, ax = plt.subplots(figsize=(16, 10))\n",
    "\n",
    "\n",
    "ax = sns.barplot(data=subcategories, y='project_subject_subcategories', x=\"count\")\n",
    "_ = ax.set_title(\"Project Subject Subcategories\")\n",
    "_ = ax.set(xlabel=\"Count\")\n",
    "_ = ax.set(ylabel=\"Subject Subcategories\")\n",
    "\n",
    "del f, ax"
   ]
  },
  {
   "cell_type": "markdown",
   "metadata": {},
   "source": [
    "* The subcategories doesn't seem to add much information in relation to their parent category "
   ]
  },
  {
   "cell_type": "code",
   "execution_count": 19,
   "metadata": {
    "ExecuteTime": {
     "end_time": "2018-04-16T00:01:12.158354Z",
     "start_time": "2018-04-16T00:01:11.893618Z"
    }
   },
   "outputs": [
    {
     "data": {
      "image/png": "[encoded data removed]",
      "text/plain": [
       "<Figure size 576x360 with 1 Axes>"
      ]
     },
     "metadata": {},
     "output_type": "display_data"
    }
   ],
   "source": [
    "grades = agg_count(train, \"project_grade_category\")\n",
    "\n",
    "f, ax = plt.subplots(figsize=(8, 5))\n",
    "\n",
    "\n",
    "ax = sns.barplot(data=grades, x='project_grade_category', y=\"count\")\n",
    "_ = ax.set_title(\"Project Grades\")\n",
    "_ = ax.set(ylabel=\"Count\")\n",
    "_ = ax.set(xlabel=\"Grade Categories\")\n",
    "\n",
    "del f, ax"
   ]
  },
  {
   "cell_type": "markdown",
   "metadata": {},
   "source": [
    "* There are more project proposals for younger students"
   ]
  },
  {
   "cell_type": "code",
   "execution_count": 20,
   "metadata": {
    "ExecuteTime": {
     "end_time": "2018-04-16T00:01:12.190995Z",
     "start_time": "2018-04-16T00:01:12.161221Z"
    }
   },
   "outputs": [],
   "source": [
    "del approved_by_state, categories, subcategories, grades, submitted_by_state"
   ]
  },
  {
   "cell_type": "markdown",
   "metadata": {},
   "source": [
    "## Feature Engineering\n",
    "\n"
   ]
  },
  {
   "cell_type": "markdown",
   "metadata": {},
   "source": [
    "### Joining of Resources Data to Train Data\n"
   ]
  },
  {
   "cell_type": "code",
   "execution_count": 21,
   "metadata": {
    "ExecuteTime": {
     "end_time": "2018-04-16T00:01:18.594227Z",
     "start_time": "2018-04-16T00:01:12.194459Z"
    }
   },
   "outputs": [
    {
     "data": {
      "text/html": [
       "<meta charset=\"UTF-8\">\n",
       "\n",
       "<style>\n",
       "\n",
       "        .variablerow {\n",
       "            border: 1px solid #e1e1e8;\n",
       "            border-top: hidden;\n",
       "            padding-top: 2em;\n",
       "            padding-bottom: 2em;\n",
       "            padding-left: 1em;\n",
       "            padding-right: 1em;\n",
       "        }\n",
       "\n",
       "        .headerrow {\n",
       "            border: 1px solid #e1e1e8;\n",
       "            background-color: #f5f5f5;\n",
       "            padding: 2em;\n",
       "        }\n",
       "        .namecol {\n",
       "            margin-top: -1em;\n",
       "            overflow-x: auto;\n",
       "        }\n",
       "\n",
       "        .dl-horizontal dt {\n",
       "            text-align: left;\n",
       "            padding-right: 1em;\n",
       "            white-space: normal;\n",
       "        }\n",
       "\n",
       "        .dl-horizontal dd {\n",
       "            margin-left: 0;\n",
       "        }\n",
       "\n",
       "        .ignore {\n",
       "            opacity: 0.4;\n",
       "        }\n",
       "\n",
       "        .container.pandas-profiling {\n",
       "            max-width:975px;\n",
       "        }\n",
       "\n",
       "        .col-md-12 {\n",
       "            padding-left: 2em;\n",
       "        }\n",
       "\n",
       "        .indent {\n",
       "            margin-left: 1em;\n",
       "        }\n",
       "\n",
       "        .center-img {\n",
       "            margin-left: auto !important;\n",
       "            margin-right: auto !important;\n",
       "            display: block;\n",
       "        }\n",
       "\n",
       "        /* Table example_values */\n",
       "            table.example_values {\n",
       "                border: 0;\n",
       "            }\n",
       "\n",
       "            .example_values th {\n",
       "                border: 0;\n",
       "                padding: 0 ;\n",
       "                color: #555;\n",
       "                font-weight: 600;\n",
       "            }\n",
       "\n",
       "            .example_values tr, .example_values td{\n",
       "                border: 0;\n",
       "                padding: 0;\n",
       "                color: #555;\n",
       "            }\n",
       "\n",
       "        /* STATS */\n",
       "            table.stats {\n",
       "                border: 0;\n",
       "            }\n",
       "\n",
       "            .stats th {\n",
       "                border: 0;\n",
       "                padding: 0 2em 0 0;\n",
       "                color: #555;\n",
       "                font-weight: 600;\n",
       "            }\n",
       "\n",
       "            .stats tr {\n",
       "                border: 0;\n",
       "            }\n",
       "\n",
       "            .stats td{\n",
       "                color: #555;\n",
       "                padding: 1px;\n",
       "                border: 0;\n",
       "            }\n",
       "\n",
       "\n",
       "        /* Sample table */\n",
       "            table.sample {\n",
       "                border: 0;\n",
       "                margin-bottom: 2em;\n",
       "                margin-left:1em;\n",
       "            }\n",
       "            .sample tr {\n",
       "                border:0;\n",
       "            }\n",
       "            .sample td, .sample th{\n",
       "                padding: 0.5em;\n",
       "                white-space: nowrap;\n",
       "                border: none;\n",
       "\n",
       "            }\n",
       "\n",
       "            .sample thead {\n",
       "                border-top: 0;\n",
       "                border-bottom: 2px solid #ddd;\n",
       "            }\n",
       "\n",
       "            .sample td {\n",
       "                width:100%;\n",
       "            }\n",
       "\n",
       "\n",
       "        /* There is no good solution available to make the divs equal height and then center ... */\n",
       "            .histogram {\n",
       "                margin-top: 3em;\n",
       "            }\n",
       "        /* Freq table */\n",
       "\n",
       "            table.freq {\n",
       "                margin-bottom: 2em;\n",
       "                border: 0;\n",
       "            }\n",
       "            table.freq th, table.freq tr, table.freq td {\n",
       "                border: 0;\n",
       "                padding: 0;\n",
       "            }\n",
       "\n",
       "            .freq thead {\n",
       "                font-weight: 600;\n",
       "                white-space: nowrap;\n",
       "                overflow: hidden;\n",
       "                text-overflow: ellipsis;\n",
       "\n",
       "            }\n",
       "\n",
       "            td.fillremaining{\n",
       "                width:auto;\n",
       "                max-width: none;\n",
       "            }\n",
       "\n",
       "            td.number, th.number {\n",
       "                text-align:right ;\n",
       "            }\n",
       "\n",
       "        /* Freq mini */\n",
       "            .freq.mini td{\n",
       "                width: 50%;\n",
       "                padding: 1px;\n",
       "                font-size: 12px;\n",
       "\n",
       "            }\n",
       "            table.freq.mini {\n",
       "                 width:100%;\n",
       "            }\n",
       "            .freq.mini th {\n",
       "                overflow: hidden;\n",
       "                text-overflow: ellipsis;\n",
       "                white-space: nowrap;\n",
       "                max-width: 5em;\n",
       "                font-weight: 400;\n",
       "                text-align:right;\n",
       "                padding-right: 0.5em;\n",
       "            }\n",
       "\n",
       "            .missing {\n",
       "                color: #a94442;\n",
       "            }\n",
       "            .alert, .alert > th, .alert > td {\n",
       "                color: #a94442;\n",
       "            }\n",
       "\n",
       "\n",
       "        /* Bars in tables */\n",
       "            .freq .bar{\n",
       "                float: left;\n",
       "                width: 0;\n",
       "                height: 100%;\n",
       "                line-height: 20px;\n",
       "                color: #fff;\n",
       "                text-align: center;\n",
       "                background-color: #337ab7;\n",
       "                border-radius: 3px;\n",
       "                margin-right: 4px;\n",
       "            }\n",
       "            .other .bar {\n",
       "                background-color: #999;\n",
       "            }\n",
       "            .missing .bar{\n",
       "                background-color: #a94442;\n",
       "            }\n",
       "            .tooltip-inner {\n",
       "                width: 100%;\n",
       "                white-space: nowrap;\n",
       "                text-align:left;\n",
       "            }\n",
       "\n",
       "            .extrapadding{\n",
       "                padding: 2em;\n",
       "            }\n",
       "\n",
       "            .pp-anchor{\n",
       "\n",
       "            }\n",
       "\n",
       "</style>\n",
       "\n",
       "<div class=\"container pandas-profiling\">\n",
       "    <div class=\"row headerrow highlight\">\n",
       "        <h1>Overview</h1>\n",
       "    </div>\n",
       "    <div class=\"row variablerow\">\n",
       "    <div class=\"col-md-6 namecol\">\n",
       "        <p class=\"h4\">Dataset info</p>\n",
       "        <table class=\"stats\" style=\"margin-left: 1em;\">\n",
       "            <tbody>\n",
       "            <tr>\n",
       "                <th>Number of variables</th>\n",
       "                <td>2 </td>\n",
       "            </tr>\n",
       "            <tr>\n",
       "                <th>Number of observations</th>\n",
       "                <td>1541272 </td>\n",
       "            </tr>\n",
       "            <tr>\n",
       "                <th>Total Missing (%)</th>\n",
       "                <td>0.0% </td>\n",
       "            </tr>\n",
       "            <tr>\n",
       "                <th>Total size in memory</th>\n",
       "                <td>23.5 MiB </td>\n",
       "            </tr>\n",
       "            <tr>\n",
       "                <th>Average record size in memory</th>\n",
       "                <td>16.0 B </td>\n",
       "            </tr>\n",
       "            </tbody>\n",
       "        </table>\n",
       "    </div>\n",
       "    <div class=\"col-md-6 namecol\">\n",
       "        <p class=\"h4\">Variables types</p>\n",
       "        <table class=\"stats\" style=\"margin-left: 1em;\">\n",
       "            <tbody>\n",
       "            <tr>\n",
       "                <th>Numeric</th>\n",
       "                <td>2 </td>\n",
       "            </tr>\n",
       "            <tr>\n",
       "                <th>Categorical</th>\n",
       "                <td>0 </td>\n",
       "            </tr>\n",
       "            <tr>\n",
       "                <th>Boolean</th>\n",
       "                <td>0 </td>\n",
       "            </tr>\n",
       "            <tr>\n",
       "                <th>Date</th>\n",
       "                <td>0 </td>\n",
       "            </tr>\n",
       "            <tr>\n",
       "                <th>Text (Unique)</th>\n",
       "                <td>0 </td>\n",
       "            </tr>\n",
       "            <tr>\n",
       "                <th>Rejected</th>\n",
       "                <td>0 </td>\n",
       "            </tr>\n",
       "            <tr>\n",
       "                <th>Unsupported</th>\n",
       "                <td>0 </td>\n",
       "            </tr>\n",
       "            </tbody>\n",
       "        </table>\n",
       "    </div>\n",
       "    <div class=\"col-md-12\" style=\"padding-left: 1em;\">\n",
       "        \n",
       "        <p class=\"h4\">Warnings</p>\n",
       "        <ul class=\"list-unstyled\"><li><a href=\"#pp_var_price\"><code>price</code></a> is highly skewed (γ1 = 23.464)  <span class=\"label label-info\">Skewed</span></li><li><a href=\"#pp_var_quantity\"><code>quantity</code></a> is highly skewed (γ1 = 21.383)  <span class=\"label label-info\">Skewed</span></li><li>Dataset has 1451107 duplicate rows <span class=\"label label-warning\">Warning</span></li> </ul>\n",
       "    </div>\n",
       "</div>\n",
       "    <div class=\"row headerrow highlight\">\n",
       "        <h1>Variables</h1>\n",
       "    </div>\n",
       "    <div class=\"row variablerow\">\n",
       "    <div class=\"col-md-3 namecol\">\n",
       "        <p class=\"h4 pp-anchor\" id=\"pp_var_price\">price<br/>\n",
       "            <small>Numeric</small>\n",
       "        </p>\n",
       "    </div><div class=\"col-md-6\">\n",
       "    <div class=\"row\">\n",
       "        <div class=\"col-sm-6\">\n",
       "            <table class=\"stats \">\n",
       "                <tr>\n",
       "                    <th>Distinct count</th>\n",
       "                    <td>26890</td>\n",
       "                </tr>\n",
       "                <tr>\n",
       "                    <th>Unique (%)</th>\n",
       "                    <td>1.7%</td>\n",
       "                </tr>\n",
       "                <tr class=\"ignore\">\n",
       "                    <th>Missing (%)</th>\n",
       "                    <td>0.0%</td>\n",
       "                </tr>\n",
       "                <tr class=\"ignore\">\n",
       "                    <th>Missing (n)</th>\n",
       "                    <td>0</td>\n",
       "                </tr>\n",
       "                <tr class=\"ignore\">\n",
       "                    <th>Infinite (%)</th>\n",
       "                    <td>0.0%</td>\n",
       "                </tr>\n",
       "                <tr class=\"ignore\">\n",
       "                    <th>Infinite (n)</th>\n",
       "                    <td>0</td>\n",
       "                </tr>\n",
       "            </table>\n",
       "\n",
       "        </div>\n",
       "        <div class=\"col-sm-6\">\n",
       "            <table class=\"stats \">\n",
       "\n",
       "                <tr>\n",
       "                    <th>Mean</th>\n",
       "                    <td>50.284</td>\n",
       "                </tr>\n",
       "                <tr>\n",
       "                    <th>Minimum</th>\n",
       "                    <td>0</td>\n",
       "                </tr>\n",
       "                <tr>\n",
       "                    <th>Maximum</th>\n",
       "                    <td>9999</td>\n",
       "                </tr>\n",
       "                <tr class=\"ignore\">\n",
       "                    <th>Zeros (%)</th>\n",
       "                    <td>0.4%</td>\n",
       "                </tr>\n",
       "            </table>\n",
       "        </div>\n",
       "    </div>\n",
       "</div>\n",
       "<div class=\"col-md-3 collapse in\" id=\"minihistogram-6722312233808571715\">\n",
       "    <img src=\"data:image/png;base64,iVBORw0KGgoAAAANSUhEUgAAAMgAAABLCAYAAAA1fMjoAAAABHNCSVQICAgIfAhkiAAAAAlwSFlzAAAPYQAAD2EBqD%2BnaQAAADl0RVh0U29mdHdhcmUAbWF0cGxvdGxpYiB2ZXJzaW9uIDIuMi4yLCBodHRwOi8vbWF0cGxvdGxpYi5vcmcvhp/UCwAAAPtJREFUeJzt1bEJAlEQRVFXLGmLsCdje7IIexpzkQsbyN/gnHzgJZfZZmYuwE/X1QPgzG6rB3zbH6/DN%2B/n/Q9LwAeBJBAIAoEgEAgCgSAQCAKBIBAIAoEgEAgCgSAQCAKBIBAIAoEgEAgCgSAQCAKBIBAIAoEgEAgCgSAQCAKBIBAIAoEgEAgCgSAQCAKBIBAIAoEgEAgCgSAQCAKBIBAIAoEgEAgCgSAQCAKBIBAIAoEgEAjbzMzqEXBWPggEgUAQCASBQBAIBIFAEAgEgUAQCASBQBAIBIFAEAgEgUAQCASBQBAIBIFAEAgEgUAQCASBQBAIBIFAEAiED9obC49m6JdFAAAAAElFTkSuQmCC\">\n",
       "\n",
       "</div>\n",
       "<div class=\"col-md-12 text-right\">\n",
       "    <a role=\"button\" data-toggle=\"collapse\" data-target=\"#descriptives-6722312233808571715,#minihistogram-6722312233808571715\"\n",
       "       aria-expanded=\"false\" aria-controls=\"collapseExample\">\n",
       "        Toggle details\n",
       "    </a>\n",
       "</div>\n",
       "<div class=\"row collapse col-md-12\" id=\"descriptives-6722312233808571715\">\n",
       "    <ul class=\"nav nav-tabs\" role=\"tablist\">\n",
       "        <li role=\"presentation\" class=\"active\"><a href=\"#quantiles-6722312233808571715\"\n",
       "                                                  aria-controls=\"quantiles-6722312233808571715\" role=\"tab\"\n",
       "                                                  data-toggle=\"tab\">Statistics</a></li>\n",
       "        <li role=\"presentation\"><a href=\"#histogram-6722312233808571715\" aria-controls=\"histogram-6722312233808571715\"\n",
       "                                   role=\"tab\" data-toggle=\"tab\">Histogram</a></li>\n",
       "        <li role=\"presentation\"><a href=\"#common-6722312233808571715\" aria-controls=\"common-6722312233808571715\"\n",
       "                                   role=\"tab\" data-toggle=\"tab\">Common Values</a></li>\n",
       "        <li role=\"presentation\"><a href=\"#extreme-6722312233808571715\" aria-controls=\"extreme-6722312233808571715\"\n",
       "                                   role=\"tab\" data-toggle=\"tab\">Extreme Values</a></li>\n",
       "\n",
       "    </ul>\n",
       "\n",
       "    <div class=\"tab-content\">\n",
       "        <div role=\"tabpanel\" class=\"tab-pane active row\" id=\"quantiles-6722312233808571715\">\n",
       "            <div class=\"col-md-4 col-md-offset-1\">\n",
       "                <p class=\"h4\">Quantile statistics</p>\n",
       "                <table class=\"stats indent\">\n",
       "                    <tr>\n",
       "                        <th>Minimum</th>\n",
       "                        <td>0</td>\n",
       "                    </tr>\n",
       "                    <tr>\n",
       "                        <th>5-th percentile</th>\n",
       "                        <td>3.46</td>\n",
       "                    </tr>\n",
       "                    <tr>\n",
       "                        <th>Q1</th>\n",
       "                        <td>7.9</td>\n",
       "                    </tr>\n",
       "                    <tr>\n",
       "                        <th>Median</th>\n",
       "                        <td>14.99</td>\n",
       "                    </tr>\n",
       "                    <tr>\n",
       "                        <th>Q3</th>\n",
       "                        <td>39.8</td>\n",
       "                    </tr>\n",
       "                    <tr>\n",
       "                        <th>95-th percentile</th>\n",
       "                        <td>210.82</td>\n",
       "                    </tr>\n",
       "                    <tr>\n",
       "                        <th>Maximum</th>\n",
       "                        <td>9999</td>\n",
       "                    </tr>\n",
       "                    <tr>\n",
       "                        <th>Range</th>\n",
       "                        <td>9999</td>\n",
       "                    </tr>\n",
       "                    <tr>\n",
       "                        <th>Interquartile range</th>\n",
       "                        <td>31.9</td>\n",
       "                    </tr>\n",
       "                </table>\n",
       "            </div>\n",
       "            <div class=\"col-md-4 col-md-offset-2\">\n",
       "                <p class=\"h4\">Descriptive statistics</p>\n",
       "                <table class=\"stats indent\">\n",
       "                    <tr>\n",
       "                        <th>Standard deviation</th>\n",
       "                        <td>144.73</td>\n",
       "                    </tr>\n",
       "                    <tr>\n",
       "                        <th>Coef of variation</th>\n",
       "                        <td>2.8783</td>\n",
       "                    </tr>\n",
       "                    <tr>\n",
       "                        <th>Kurtosis</th>\n",
       "                        <td>1174.2</td>\n",
       "                    </tr>\n",
       "                    <tr>\n",
       "                        <th>Mean</th>\n",
       "                        <td>50.284</td>\n",
       "                    </tr>\n",
       "                    <tr>\n",
       "                        <th>MAD</th>\n",
       "                        <td>55.669</td>\n",
       "                    </tr>\n",
       "                    <tr class=\"alert\">\n",
       "                        <th>Skewness</th>\n",
       "                        <td>23.464</td>\n",
       "                    </tr>\n",
       "                    <tr>\n",
       "                        <th>Sum</th>\n",
       "                        <td>77501000</td>\n",
       "                    </tr>\n",
       "                    <tr>\n",
       "                        <th>Variance</th>\n",
       "                        <td>20948</td>\n",
       "                    </tr>\n",
       "                    <tr>\n",
       "                        <th>Memory size</th>\n",
       "                        <td>11.8 MiB</td>\n",
       "                    </tr>\n",
       "                </table>\n",
       "            </div>\n",
       "        </div>\n",
       "        <div role=\"tabpanel\" class=\"tab-pane col-md-8 col-md-offset-2\" id=\"histogram-6722312233808571715\">\n",
       "            <img src=\"data:image/png;base64,iVBORw0KGgoAAAANSUhEUgAAAlgAAAGQCAYAAAByNR6YAAAABHNCSVQICAgIfAhkiAAAAAlwSFlzAAAPYQAAD2EBqD%2BnaQAAADl0RVh0U29mdHdhcmUAbWF0cGxvdGxpYiB2ZXJzaW9uIDIuMi4yLCBodHRwOi8vbWF0cGxvdGxpYi5vcmcvhp/UCwAAIABJREFUeJzs3Xt0VPW9//9XkjkEEjLJRAkoKoc7CYGIiMFICRcBy0UREYi1VEE8hkCEQivpAUGxoggeinBApCXCsYpJEQSLejg0gIirXmEYQAsCck%2BQmdwI4Ez29w9%2BzM%2BRSEbZm3Hi87GWq8vPe%2B/P5zPvNukre%2B/sRBiGYQgAAACmiQz1BgAAAOoaAhYAAIDJCFgAAAAmI2ABAACYjIAFAABgMgIWAACAyQhYAAAAJiNgAQAAmIyABQAAYDICFgAAgMkIWAAAACYjYAEAAJiMgAUAAGAyAhYAAIDJCFgAAAAmI2ABAACYjIAFAABgMgIWAACAyQhYAAAAJiNgAQAAmIyABQAAYDICFgAAgMkIWAAAACYjYAEAAJiMgAUAAGAyAhYAAIDJCFgAAAAmI2ABAACYjIAFAABgMgIWAACAyQhYAAAAJiNgAQAAmIyABQAAYDICFgAAgMkIWAAAACYjYAEAAJiMgAUAAGAySwPWli1blJGRoYkTJ15UO3HihLKzs3XjjTcqIyNDc%2BfOlc/nkyRVV1dr7ty56t27t7p06aLRo0fr4MGD/nPdbrceffRRZWRkqFu3bsrLy1NVVZW/7nK5dP/996tz587q27evli5dGrD2unXrNGjQIHXq1ElDhgzR5s2b/bXa1gYAAKiNZQHrpZde0lNPPaVmzZpdVDMMQ%2BPGjdM111yj9957TytWrNC2bdv0z3/%2BU5K0YsUKvfXWW1qyZImKiorUokULjRs3ToZhSJKmTp2qM2fOaN26dVq1apUOHjyo5557TpJ05swZPfLII%2Bratau2bNmiefPmaenSpXr77bclSbt27VJeXp4mT56sDz74QKNGjdL48eN17NixoNYGAACojc2qiaOjo1VYWKg//vGPOnv2bEDtww8/1FdffaVXXnlF9erVU8OGDVVYWOivFxQU6IEHHlDLli0lSRMmTFB6erq2b9%2Bu6667Ths3btQbb7yhxMRESVJ2drZyc3OVl5enoqIieb1eZWdnKyoqSikpKbr33ntVUFCgO%2B64Q4WFhcrMzFRmZqYkaeDAgVqxYoXWrl2rhx9%2B%2BJJr33jjjT%2B6HyUl5T/63O8TGRmhxMRYnTpVqepqAqCZ6K116K216K916K11rOxto0Zxps4XLMuuYI0cOVJxcTV/qI8//lht27bVvHnzlJ6ert69eys/P1/S%2BStQe/fuVUpKiv/42NhY3XDDDXI6ndq9e7eioqLUtm1bfz0lJUWnT5/Wl19%2BKZfLpbZt2yoqKspfT05O1s6dOyWdv3347bkv1J1OZ61r/9RERkYoIiJCkZERod5KnUNvrUNvrUV/rUNvrVMXe2vZFaxLOX78uLZv367u3burqKhIH374ocaNG6frr79eqampMgxD8fHxAefEx8fL7XYrISFBDRs2VEREREBNOv9slsfjkd1uDzg3ISFBHo9H1dXV8ng8Nc69d%2B9elZaWXnLtYBUXF6ukpCRgzGaLUVJSUtBzBCMqKjLgP2Eeemsdemst%2BmsdemudutjbkAQswzDkcDj00EMPSZK6d%2B%2BuPn366O9//7tSU1O/95xvh6qafF/9cs4N9vxvW7lypRYsWBAwlpOTo9zc3KDn%2BCHs9gaWzAt6ayV6ay36ax16a5261NuQBKxGjRpddPvw2muv1fbt25WQkKDIyMiLrhiVlpYqMTFRiYmJKi8vl8/n898G9Hg8kuSvHzhw4KJzL8zrcDgumtvj8cjhcNS6drCGDx%2BuXr16BYzZbDFyuyuDniMYUVGRstsbqKysSj5ftalz/9zRW%2BvQW2vRX%2BvQW%2BtY2VuHI9bU%2BYIVkoCVnJysP//5z6qsrFRs7PkPfuTIETVt2lTR0dFq3bq1XC6XbrnlFklSWVmZvvrqK3Xs2FFNmzaVYRjas2eP2rdvL0lyOp2y2%2B1q3ry5UlNT9eqrr8rr9cpms/nraWlpkqTU1FT/81gXOJ1ODRgwoNa1g5WUlHTR7cCSknJ5vdZ8Qfp81ZbN/XNHb61Db61Ff61Db61Tl3obkpudPXv2VGJiombPnq3Tp09r27Zt2rBhg4YMGSJJysrK0vLly7Vv3z5VVFRozpw5Sk5OVocOHZSYmKh%2B/fpp3rx5OnXqlI4fP66FCxdq6NChstlsyszMVMOGDbVo0SJVVVVp%2B/btKiwsVFZWliRp2LBhev/991VUVKSzZ8%2BqsLBQBw4c0J133lnr2gAAAMGIMCx6wdOFQOL1eiUp4GqSJP3rX//S448/LpfLpcTERD366KO6%2B%2B67JZ1/5mnBggV64403VFlZqU6dOmnGjBlq0qSJJKm8vFwzZszQtm3bZLPZdPvtt2vKlCmqV6%2BeJOmLL77QzJkztWvXLjVq1EgjR47Ufffd59/bu%2B%2B%2BqwULFujw4cNq1aqVfve736lLly5Brf1jWfGaBpstUg5HrNzuyjqT%2BH8q6K116K216K916K11rOxtqF7TYFnAQiACVniht9aht9aiv9aht9apiwGr7vw%2BJAAAwE8EAQsAAMBkBCwAAACTEbAAAABMRsACAAAwGQELAADAZCF5kzvMc/N/vh3qLQRt/YTbQr0FAACuCK5gAQAAmIyABQAAYDICFgAAgMkIWAAAACYjYAEAAJiMgAUAAGAyAhYAAIDJCFgAAAAmI2ABAACYjIAFAABgMgIWAACAyQhYAAAAJiNgAQAAmIyABQAAYDICFgAAgMkIWAAAACYjYAEAAJiMgAUAAGAyAhYAAIDJCFgAAAAmI2ABAACYjIAFAABgMksD1pYtW5SRkaGJEyd%2B7zGVlZXKzMzUlClT/GPV1dWaO3euevfurS5dumj06NE6ePCgv%2B52u/Xoo48qIyND3bp1U15enqqqqvx1l8ul%2B%2B%2B/X507d1bfvn21dOnSgDXXrVunQYMGqVOnThoyZIg2b94c9NoAAAC1sSxgvfTSS3rqqafUrFmzSx73wgsvqKKiImBsxYoVeuutt7RkyRIVFRWpRYsWGjdunAzDkCRNnTpVZ86c0bp167Rq1SodPHhQzz33nCTpzJkzeuSRR9S1a1dt2bJF8%2BbN09KlS/X2229Lknbt2qW8vDxNnjxZH3zwgUaNGqXx48fr2LFjQa0NAABQG8sCVnR0tAoLCy8ZsPbs2aO1a9fq7rvvDhgvKCjQAw88oJYtWyo2NlYTJkzQ/v37tX37dp08eVIbN27UxIkTlZiYqKSkJGVnZ%2BuNN97QN998o6KiInm9XmVnZysmJkYpKSm69957VVBQIEkqLCxUZmamMjMzFR0drYEDB6pdu3Zau3ZtrWsDAAAEw2bVxCNHjrxk3TAMzZgxQxMnTtSxY8f8V7HOnDmjvXv3KiUlxX9sbGysbrjhBjmdTpWXlysqKkpt27b111NSUnT69Gl9%2BeWXcrlcatu2raKiovz15ORkvf7665LO3z7MzMwM2EtycrKcTmeta994441Bffbi4mKVlJQEjNlsMUpKSgrq/GBFRYXXI3Q2W/js90Jvw63H4YDeWov%2BWofeWqcu9taygFWblStXKiIiQvfcc48WLFjgHy8tLZVhGIqPjw84Pj4%2BXm63WwkJCWrYsKEiIiICatL5Z7M8Ho/sdnvAuQkJCfJ4PKqurpbH46lx7r1799a69g/5bN/%2BTJKUk5Oj3NzcoOeoixyO2FBv4Qez2xuEegt1Fr21Fv21Dr21Tl3qbUgC1tdff6358%2Bdr2bJlAUHpUgzDqPXY76tfzrnBnv9tw4cPV69evQLGbLYYud2VQc8RjHBL%2BmZ/fitFRUXKbm%2BgsrIq%2BXzVod5OnUJvrUV/rUNvrWNlb0P1w31IAtYzzzyju%2B66K%2BA23wUJCQmKjIy86IpRaWmpEhMTlZiYqPLycvl8Pv9tQI/HI0n%2B%2BoEDBy4698K8Dofjork9Ho8cDketawcrKSnpotuBJSXl8np/3l%2BQ4fj5fb7qsNx3OKC31qK/1qG31qlLvQ3JJZA333xThYWFSk9PV3p6upYuXaq33npL6enpio6OVuvWreVyufzHl5WV6auvvlLHjh2VnJwswzC0Z88ef93pdMput6t58%2BZKTU3V559/Lq/XG1BPS0uTJKWmpmrnzp0B%2B7lQr21tAACAYIQkYG3atElr167VmjVrtGbNGo0YMUK9evXSmjVrJElZWVlavny59u3bp4qKCs2ZM0fJycnq0KGDEhMT1a9fP82bN0%2BnTp3S8ePHtXDhQg0dOlQ2m02ZmZlq2LChFi1apKqqKm3fvl2FhYXKysqSJA0bNkzvv/%2B%2BioqKdPbsWRUWFurAgQO68847a10bAAAgGJbdIrwQSC5cSdqwYYOk81eLmjRpEnBsw4YN1aBBA//4iBEjdPLkSY0ZM0aVlZXq1KlTwEPjTz75pGbMmKGBAwfKZrPp9ttv97/MtF69elq8eLFmzpyp/Px8NWrUSBMnTlSPHj0kSW3atNGcOXP0/PPP6/Dhw2rVqpVefPFFNWrUKKi1AQAAahNh8AbNK6KkpNz0OW22SPWZs8X0ea2yfsJtod5C0Gy2SDkcsXK7K%2BvM8wA/FfTWWvTXOvTWOlb2tlGjOFPnC1Z4/RoaAABAGCBgAQAAmIyABQAAYDICFgAAgMkIWAAAACYjYAEAAJiMgAUAAGAyAhYAAIDJCFgAAAAmI2ABAACYjIAFAABgMgIWAACAyQhYAAAAJiNgAQAAmIyABQAAYDICFgAAgMkIWAAAACYjYAEAAJiMgAUAAGAyAhYAAIDJCFgAAAAmI2ABAACYjIAFAABgMgIWAACAyQhYAAAAJiNgAQAAmIyABQAAYDICFgAAgMkIWAAAACazNGBt2bJFGRkZmjhx4kW1d999V3feeac6deqkPn36aOXKlQH1/Px89evXT507d1ZWVpZ27Njhr509e1bTpk1T9%2B7d1bVrV40fP16nTp3y1w8dOqQxY8YoPT1dPXv21LPPPiufz%2Bevb926VUOHDtVNN92kAQMGaPXq1UGvDQAAUBvLAtZLL72kp556Ss2aNbuo5nQ6NXnyZOXm5uqjjz7S9OnTNXPmTH300UeSpA0bNmjhwoWaPXu2tm7dqt69eys7O1uVlZWSpLlz52rXrl1auXKl3nnnHUVERCgvL88/f25urpo0aaINGzYoPz9fGzduVH5%2BviTpxIkTysnJ0YgRI7Rt2zZNnTpV06dP94eo2tYGAACojWUBKzo6WoWFhTUGLLfbrf/4j//Q7bffrqioKHXr1k1t2rTxB6yCggINGTJEaWlpql%2B/vkaPHq3IyEgVFRXJ5/Np1apVGjt2rK655hrFx8drwoQJ2rRpk06cOCGn06nPP/9ckydPVlxcnJo1a6YHH3xQBQUFkqR169apefPmGjp0qKKjo3Xrrbeqd%2B/eKiwsrHVtAACAYNismnjkyJHfW%2Bvevbu6d%2B/u/3ev16uSkhI1btxYkuRyudS/f39/PSIiQu3atZPT6VRycrLKy8vVvn17f71FixaqX7%2B%2BXC6XiouL1bRpU8XHx/vrKSkp2r9/vyoqKuRyuZSSkhKwn%2BTkZK1fv77WtQcMGBDUZy8uLlZJSUnAmM0Wo6SkpKDOD1ZUVHg9Qmezhc9%2BL/Q23HocDuitteivdeitdepiby0LWD/EnDlzFBMT4w82Ho8nICBJUnx8vNxutzwejyTJbrcH1O12u7/%2B3dqFuS7ULwS5CxISEuR2u2tdO1grV67UggULAsZycnKUm5sb9Bx1kcMRG%2Bot/GB2e4NQb6HOorfWor/WobfWqUu9DWnAMgxDc%2BbM0bp167R8%2BXJFR0df8tiIiIgfVTcMQ5IuWf%2Bxc9dk%2BPDh6tWrV8CYzRYjt9vc57jCLemb/fmtFBUVKbu9gcrKquTzVYd6O3UKvbUW/bUOvbWOlb0N1Q/3IQtY1dXVysvL044dO/Tqq6/q%2Buuv99ccDsdFV4xKS0vVunVrJSYmSjp/NSomJsZfLysrU2Jiorxeb43nRkREyOFwyOFw%2BK%2BCXeDxeORwOGpdO1hJSUkX3Q4sKSmX1/vz/oIMx8/v81WH5b7DAb21Fv21Dr21Tl3qbcgugTz99NP617/%2BdVG4kqTU1FS5XC7/v/t8Pu3atUtpaWm6/vrrFR8fH1D/4osvdO7cOaWmpio1NVVHjx4NeG2D0%2BlUq1atFBsbqw4dOmjnzp0B6%2B3cuVNpaWm1rg0AABCMkASsjz/%2BWG%2B%2B%2BaaWLFmihISEi%2BpZWVlavXq1PvvsM1VVVWnRokWqV6%2BeevTooaioKA0bNkyLFy/WsWPH5Ha79fzzz6tPnz66%2BuqrlZKSoo4dO2ru3LmqqKjQvn37tGzZMmVlZUmSBg0apCNHjqigoEBnz57Vpk2btGnTJg0bNqzWtQEAAIJh2S3CDh06SDr/G4LS%2BfdLSeevJv3tb39TeXm5evbsGXBOly5d9Je//EXdu3fXb3/7W02ZMkUlJSVq3769lixZovr160s6/56r06dPa/jw4fJ6vcrIyND06dP988yfP18zZsxQr169FBcXp8GDB%2Bu%2B%2B%2B6TJF111VV68cUXNXv2bM2aNUvXXXednnvuObVr106Sal0bAACgNhHGhSfAYamSknLT57TZItVnzhbT57XK%2Bgm3hXoLQbPZIuVwxMrtrqwzzwP8VNBba9Ff69Bb61jZ20aN4kydL1jh9WtoAAAAYYCABQAAYDICFgAAgMkIWAAAACYjYAEAAJiMgAUAAGAyAhYAAIDJCFgAAAAmI2ABAACYjIAFAABgMgIWAACAyQhYAAAAJiNgAQAAmIyABQAAYDICFgAAgMkIWAAAACYjYAEAAJiMgAUAAGAyAhYAAIDJCFgAAAAmI2ABAACYjIAFAABgMgIWAACAyQhYAAAAJiNgAQAAmIyABQAAYDICFgAAgMkIWAAAACazNGBt2bJFGRkZmjhx4kW1devWadCgQerUqZOGDBmizZs3%2B2vV1dWaO3euevfurS5dumj06NE6ePCgv%2B52u/Xoo48qIyND3bp1U15enqqqqvx1l8ul%2B%2B%2B/X507d1bfvn21dOlS09YGAACojWUB66WXXtJTTz2lZs2aXVTbtWuX8vLyNHnyZH3wwQcaNWqUxo8fr2PHjkmSVqxYobfeektLlixRUVGRWrRooXHjxskwDEnS1KlTdebMGa1bt06rVq3SwYMH9dxzz0mSzpw5o0ceeURdu3bVli1bNG/ePC1dulRvv/22KWsDAADUxrKAFR0drcLCwhoDVmFhoTIzM5WZmano6GgNHDhQ7dq109q1ayVJBQUFeuCBB9SyZUvFxsZqwoQJ2r9/v7Zv366TJ09q48aNmjhxohITE5WUlKTs7Gy98cYb%2Buabb1RUVCSv16vs7GzFxMQoJSVF9957rwoKCi57bQAAgGBYFrBGjhypuLi4Gmsul0spKSkBY8nJyXI6nTpz5oz27t0bUI%2BNjdUNN9wgp9Op3bt3KyoqSm3btvXXU1JSdPr0aX355ZdyuVxq27atoqKiAubeuXPnZa8NAAAQDFsoFvV4PIqPjw8Yi4%2BP1969e1VaWirDMGqsu91uJSQkqGHDhoqIiAioSeefzfJ4PLLb7QHnJiQkyOPxqLq6%2BrLWDlZxcbFKSkoCxmy2GCUlJQU9RzCiosLrdxRstvDZ74XehluPwwG9tRb9tQ69tU5d7G1IAtb3%2BXZo%2Bi7DMC5Zv9T5l3NusOd/28qVK7VgwYKAsZycHOXm5gY9R13kcMSGegs/mN3eINRbqLPorbXor3XorXXqUm9DErAcDsdFV4Q8Ho8cDocSEhIUGRl5Ub20tFSJiYlKTExUeXm5fD6f/zagx%2BORJH/9wIEDF517Yd7LWTtYw4cPV69evQLGbLYYud2VQc8RjHBL%2BmZ/fitFRUXKbm%2BgsrIq%2BXzVod5OnUJvrUV/rUNvrWNlb0P1w31IAlZqaqr/magLnE6nBgwYoOjoaLVu3Voul0u33HKLJKmsrExfffWVOnbsqKZNm8owDO3Zs0ft27f3n2u329W8eXOlpqbq1Vdfldfrlc1m89fT0tIue%2B1gJSUlXXQ7sKSkXF7vz/sLMhw/v89XHZb7Dgf01lr01zr01jp1qbchuQQybNgwvf/%2B%2ByoqKtLZs2dVWFioAwcO6M4775QkZWVlafny5dq3b58qKio0Z84cJScnq0OHDkpMTFS/fv00b948nTp1SsePH9fChQs1dOhQ2Ww2ZWZmqmHDhlq0aJGqqqq0fft2FRYWKisr67LXBgAACEaNV7DKy8u/9zcAg3UhkHi9XknShg0bJJ2/WtSmTRvNmTNHzz//vA4fPqxWrVrpxRdfVKNGjSRJI0aM0MmTJzVmzBhVVlaqU6dOAc80Pfnkk5oxY4YGDhwom82m22%2B/3f8y03r16mnx4sWaOXOm8vPz1ahRI02cOFE9evSQpMteGwAAoDYRRg1v0ExLS9Mdd9yhe%2B%2B9VzfffHMo9lXnlJSUmz6nzRapPnO2mD6vVdZPuC3UWwiazRYphyNWbndlnblc/VNBb61Ff61Db61jZW8bNbq8C0Y/Vo23CJ944gl9/fXXeuCBB/TLX/5Sy5Yt06lTp6703gAAAMJSjQFr8ODBWrp0qTZv3qxf/epXevfdd9WjRw9NnDhR27Ztu9J7BAAACCuXfMg9MTFR999/v1599VXNmjVL7733nkaNGqX%2B/fvr3XffvVJ7BAAACCuXfE3DqVOntGrVKv3tb3/TV199pdtuu03Dhw9XcXGxHn/8cR05ckQPPvjgldorAABAWKgxYG3ZskUFBQXauHGjEhISdM8992jYsGFq2rSp/5j27dsrJyeHgAUAAPAdNQashx9%2BWOnp6ZozZ45uv/12/ws7v61jx46X/SoHAACAuqjGgPX222%2BrWbNmOnfunD9cVVRUqGHDhgHH/f3vf7d%2BhwAAAGGmxofcIyMj1b9/f23cuNE/9vrrr6t///46dOjQFdscAABAOKoxYP3xj39U27Zt1blzZ//YnXfeqY4dO2rWrFlXbHMAAADhqMZbhJ9%2B%2BqmKiorUoEED/9jVV1%2Btxx9/XD179rximwMAAAhHNV7BMgxD586du2i8oqJCPp/P8k0BAACEsxoD1i9%2B8Qs99thj2rNnjyoqKlRWVqZPPvlEkyZN8v/RZAAAANSsxluEf/jDH5STk6PBgwcrIiLCP37zzTdr%2BvTpV2xzAAAA4ajGgHXVVVfptdde0549e3Tw4EFFRUXp3//939WqVasrvT8AAICwc8k/ldOuXTu1a9fuSu0FAACgTqgxYDmdTj311FP64osvdObMmYvqu3fvtnxjAAAA4arGgDVt2jTFxMRo/PjxiomJudJ7AgAACGs1BqwDBw7ovffeu%2BhP4wAAAKB2Nb6m4dprr73S%2BwAAAKgzagxYEydO1NNPP62KioorvR8AAICwV%2BMtwkWLFunw4cNavXq1EhISFBkZmMPee%2B%2B9K7I5AACAcFRjwOrVq9eV3gcAAECdUWPAGjdu3JXeBwAAQJ1R4zNYkvTJJ5/oscce069//WtJUnV1tf7%2B979fsY0BAACEqxoD1ltvvaVf//rXKi0t1WeffSZJOn78uKZPn67CwsIrukEAAIBwU2PAevHFFzVnzhwtXrzY/8eer732Ws2fP18vv/zyFd0gAABAuKkxYH311Vfq27evJPkDliSlp6fr8OHDV2ZnAAAAYarGgOVwOHTq1KmLxvfv36/69etbvikAAIBwVmPA6tq1q/7zP/9T%2B/btkyR5PB699957mjBhgnr06HEl9wcAABB2agxYjz32mKqqqjRgwACdPXtWt956qx566CE1bdpUU6ZMMW3x3bt3a%2BTIkbr55pt12223afLkyf4rZ1u3btXQoUN10003acCAAVq9enXAufn5%2BerXr586d%2B6srKws7dixw187e/aspk2bpu7du6tr164aP358wBW5Q4cOacyYMUpPT1fPnj317LPPyufz%2Beu1rQ0AAHApNQashIQErVixQqtXr9bzzz%2BvhQsXav369Vq8eLHi4%2BNNWdjn82nMmDHq0KGD3nvvPb355ps6efKkZsyYoRMnTignJ0cjRozQtm3bNHXqVE2fPt0fojZs2KCFCxdq9uzZ2rp1q3r37q3s7GxVVlZKkubOnatdu3Zp5cqVeueddxQREaG8vDz/2rm5uWrSpIk2bNig/Px8bdy4Ufn5%2BZJU69oAAAC1%2Bd73YElSu3bt1L9/f/Xq1UvNmzc3deHi4mKVlJRoyJAhql%2B/vq666ir169dPu3fv1rp169S8eXMNHTpU0dHRuvXWW9W7d2//KyIKCgo0ZMgQpaWlqX79%2Bho9erQiIyNVVFQkn8%2BnVatWaezYsbrmmmsUHx%2BvCRMmaNOmTTpx4oScTqc%2B//xzTZ48WXFxcWrWrJkefPBBFRQUSFKtawMAANSmxje5t2vXLuC3B79r9%2B7dl71w48aNlZycrNdee00TJkzQmTNn9M4776hHjx5yuVxKSUkJOD45OVnr16%2BXJLlcLvXv399fi4iIULt27eR0OpWcnKzy8nK1b9/eX2/RooXq168vl8ul4uJiNW3aNOBKXEpKivbv36%2BKiopa1w7GhfD4bTZbjJKSkoKeIxhRUZfMxz85Nlv47PdCb8Otx%2BGA3lqL/lqH3lqnLva2xoA1ffr0gIDl8/m0f/9%2Bbd68WdnZ2aYsHBkZqfnz52vUqFFavny5JKlLly6aNGmSxo4dq8aNGwccn5CQILfbLen8Q/ffvVUZHx8vt9stj8cjSbLb7QF1u93ur3%2B3dmGuC/VLrR2MlStXasGCBQFjOTk5ys3NDXqOusjhiA31Fn4wu71BqLdQZ9Fba9Ff69Bb69Sl3tYYsLKysmo8%2BJ///KdWrlypu%2B%2B%2B%2B7IXPnfunLKzs9WvXz898sgjOn36tJ544glNnjy5xuMNw7jkVbXLqRuGIUmXrF9q7u8aPnz4RX8w22aLkdtdGfQcwQi3pG/257dSVFSk7PYGKiurks9XHert1Cn01lr01zr01jpW9jZUP9zXGLC%2BT5cuXTSr82y5AAAgAElEQVR27FhTFt62bZsOHz6s3/72t4qKilJcXJxyc3N111136Re/%2BIX/StQFHo9HDodD0vn3dH33ilJpaalat26txMRESeevRsXExPjrZWVlSkxMlNfrrfHciIgIORwOORyOS64djKSkpItuB5aUlMvr/Xl/QYbj5/f5qsNy3%2BGA3lqL/lqH3lqnLvX2B10C2bhxo2y2H5TJvpfP51N1dbX/6pEkeb1eSVJGRoZ27twZcPzOnTuVlpYmSUpNTZXL5QqYa9euXUpLS9P111%2Bv%2BPj4gPoXX3yhc%2BfOKTU1VampqTp69GjAaxucTqdatWql2NhYdejQ4ZJrAwAA1KbGgNWtW7eL/unSpYvGjRsX8HD55ejUqZNiYmL0wgsvqKqqSm63W4sXL1aXLl1011136ciRIyooKNDZs2e1adMmbdq0ScOGDZN0/hbm6tWr9dlnn6mqqkqLFi1SvXr11KNHD0VFRWnYsGFavHixjh07Jrfbreeff159%2BvTR1VdfrZSUFHXs2FFz585VRUWF9u3bp2XLlvlviw4aNOiSawMAANQmwvj2JaT/zwsvvHDRM0fR0dFq2bLlRc8WXY6dO3fq2Wef1Z49e1SvXj3dcsstmjJliho3bqwPP/xQs2fP1r59%2B3Tddddp3Lhx/r%2BPKEl//etftXz5cpWUlKh9%2B/aaOnWq2rRpI%2Bn8813PPPOMNmzYIK/Xq4yMDE2fPl1xcXGSpOPHj2vGjBn65JNPFBcXp8GDB2vcuHH%2Bz1zb2j9GSUn5ZZ1fE5stUn3mbDF9Xqusn3BbqLcQNJstUg5HrNzuyjpzufqngt5ai/5ah95ax8reNmoUZ%2Bp8waoxYMF8BCwCFs6jt9aiv9aht9apiwGrxgeqvvuKge8TERGhnJwcUzcEAAAQ7moMWG%2B88YZOnjyps2fPqkGDBrLZbCovL1f9%2BvXVsGHDgGMJWAAAAIFqDFiTJk3S//3f/%2Bl3v/udmjRpIun8H0h%2B7rnn9Mtf/lK//OUvr%2BgmAQAAwkmNAetPf/qTXn/99YC3pV9//fWaMWOGhg8fTsACAAC4hBpf03Ds2DFFRUVdNP5v//ZvOnnypOWbAgAACGc1BqzWrVvrsccek8vlUllZmSoqKrRnzx794Q9/UNu2ba/0HgEAAMJKjbcIZ86cqUmTJumee%2B7xvxvKMAxde%2B21%2Bu///u8rukEAAIBwU2PASklJ0fr167Vz504dO3ZMhmGoSZMmSk1NVWRkeP2BYQAAgCvtkn9YMD4%2BXuXl5br11luv1H4AAADCXo2Xo06dOqXRo0erT58%2BGjNmjCSppKREAwcO1PHjx6/oBgEAAMJNjQHrmWeeUXV1tQoKCvy3BOPi4pSSkqJnnnnmim4QAAAg3NR4i3Dz5s1as2aNGjdu7H/IvX79%2BsrLy9OgQYOu6AYBAADCTY1XsL755hslJSVdNF6/fn1VVFRYvikAAIBwVmPAatmypd59992LxleuXKnmzZtbvikAAIBwVuMtwlGjRul3v/ud1q9fL5/Pp5kzZ8rlcmnHjh2aN2/eld4jAABAWKnxCtYdd9yhF198UV6vVzfccIM%2B/fRTNW3aVK%2B99pr69u17pfcIAAAQVmq8guV0OnXrrbfy/isAAIAfocYrWCNHjpTP57vSewEAAKgTagxYAwYMUH5%2BvgzDuNL7AQAACHs13iI8efKkNm7cqJdeeknXXnut6tWrF1B/7bXXrsjmAAAAwlGNAcvhcCgzM/NK7wUAAKBOCAhYubm5mj9/vmbNmuUfmz9/vnJzc6/4xgAAAMJVwDNYmzZtuuiAP//5z1dsMwAAAHVBjQ%2B5fxsPugMAAPwwtQasC3/sGQAAAMGpNWABAADghyFgAQAAmCzgtwi/%2BeYbTZo0SbWNzZ071/qdAQAAhKmAgNW5c2cVFxertjEAAAB8v4CAtWLFiiu%2BgUWLFumVV15RRUWFbrzxRs2cOVPXX3%2B9tm7dqv/6r//Sl19%2BqWuuuUZjxozR4MGD/efl5%2Bfr1Vdf1cmTJ9WmTRvl5eWpY8eOkqSzZ8/qqaee0qZNm3Tu3Dl16dJFTzzxhBITEyVJhw4d0pNPPqkdO3YoJiZGd9xxhyZPnqyoqChJqnVtAACASwnpM1ivvPKKVq9erZdffllbtmxRy5YtlZ%2BfrxMnTignJ0cjRozQtm3bNHXqVE2fPl07duyQJG3YsEELFy7U7NmztXXrVvXu3VvZ2dmqrKyUdP4W5q5du7Ry5Uq98847ioiIUF5enn/d3NxcNWnSRBs2bFB%2Bfr42btyo/Px8Sap1bQAAgNqENGD95S9/0cSJE9WyZUvFxcVp2rRpmjZtmtatW6fmzZtr6NChio6O1q233qrevXursLBQklRQUKAhQ4YoLS1N9evX1%2BjRoxUZGamioiL5fD6tWrVKY8eO1TXXXKP4%2BHhNmDBBmzZt0okTJ%2BR0OvX5559r8uTJiouLU7NmzfTggw%2BqoKBAkmpdGwAAoDY1/i3CK%2BHEiRM6fPiwKioq1L9/f3399ddKT0/XjBkz5HK5lJKSEnB8cnKy1q9fL0lyuVzq37%2B/vxYREaF27drJ6XQqOTlZ5eXlat%2B%2Bvb/eokUL1a9fXy6XS8XFxWratKni4%2BP99ZSUFO3fv18VFRW1rh2M4uJilZSUBIzZbDFKSkoKeo5gREWF1y%2BB2mzhs98LvQ23HocDemst%2BmsdemudutjbkAWs48ePS5LWr1%2BvZcuWyTAMTZgwQY8//rhOnz6txo0bBxyfkJAgt9stSfJ4PAEBSZLi4%2BPldrvl8XgkSXa7PaBut9v99e/WLsx1oX6ptYOxcuVKLViwIGAsJyfnZ/83HR2O2FBv4Qez2xuEegt1Fr21Fv21Dr21Tl3qbcgC1oU/wfPQQw/5A824ceM0ZswY3XrrrTUef6m3yl9O/cJeLlX/IW%2B0Hz58uHr16hUwZrPFyO2uDHqOYIRb0jf781spKipSdnsDlZVVyeerDvV26hR6ay36ax16ax0rexuqH%2B5DFrCuvvpqSYFXmq699lpVV1frm2%2B%2B8V%2BJusDj8cjhcEiSHA7HRVeUSktL1bp1a/9vCrrdbsXExPjrZWVlSkxMlNfrrfHciIgIORwOORyOS64djKSkpItuB5aUlMvr/Xl/QYbj5/f5qsNy3%2BGA3lqL/lqH3lqnLvU2ZJdAmjRposTERO3evds/duTIEf3bv/2bMjMztXPnzoDjd%2B7cqbS0NElSamqqXC6Xv%2Bbz%2BbRr1y6lpaXp%2BuuvV3x8fED9iy%2B%2B0Llz55SamqrU1FQdPXpUp06d8tedTqdatWql2NhYdejQ4ZJrAwAA1CZkActms2n48OFavHixDh48qK%2B//loLFy7UoEGDdPfdd%2BvIkSMqKCjQ2bNntWnTJm3atEnDhg2TJGVlZWn16tX67LPPVFVVpUWLFqlevXrq0aOHoqKiNGzYMC1evFjHjh2T2%2B3W888/rz59%2Bujqq69WSkqKOnbsqLlz56qiokL79u3TsmXLlJWVJUkaNGjQJdcGAACoTYRx4QGkEDh37pxmzZqlt956S99884369eunadOmKTY2Vh9%2B%2BKFmz56tffv26brrrtO4cePUt29f/7l//etftXz5cpWUlKh9%2B/aaOnWq2rRp45/3mWee0YYNG%2BT1epWRkaHp06crLi5O0vkH7GfMmKFPPvlEcXFxGjx4sMaNG%2Bd/zqq2tX%2BMkpLyyzq/JjZbpPrM2WL6vFZZP%2BG2UG8haDZbpByOWLndlXXmcvVPBb21Fv21Dr21jpW9bdQoztT5ghXSgPVzQsAiYOE8emst%2BmsdemuduhiwwuvX0AAAAMIAAQsAAMBkBCwAAACTEbAAAABMRsACAAAwGQELAADAZAQsAAAAkxGwAAAATEbAAgAAMBkBCwAAwGQELAAAAJMRsAAAAExGwAIAADAZAQsAAMBkBCwAAACTEbAAAABMRsACAAAwGQELAADAZAQsAAAAkxGwAAAATEbAAgAAMBkBCwAAwGQELAAAAJMRsAAAAExGwAIAADAZAQsAAMBkBCwAAACTEbAAAABM9pMIWE8//bTatm3r//etW7dq6NChuummmzRgwACtXr064Pj8/Hz169dPnTt3VlZWlnbs2OGvnT17VtOmTVP37t3VtWtXjR8/XqdOnfLXDx06pDFjxig9PV09e/bUs88%2BK5/PF/TaAAAAtQl5wNq9e3dAiDlx4oRycnI0YsQIbdu2TVOnTtX06dP9IWrDhg1auHChZs%2Bera1bt6p3797Kzs5WZWWlJGnu3LnatWuXVq5cqXfeeUcRERHKy8vzz5%2Bbm6smTZpow4YNys/P18aNG5Wfnx/U2gAAAMEIacCqrq7W9OnT9Zvf/MY/tm7dOjVv3lxDhw5VdHS0br31VvXu3VuFhYWSpIKCAg0ZMkRpaWmqX7%2B%2BRo8ercjISBUVFcnn82nVqlUaO3asrrnmGsXHx2vChAnatGmTTpw4IafTqc8//1yTJ09WXFycmjVrpgcffFAFBQVBrQ0AABCMkAas1157TfXq1dNdd93lH3O5XEpJSQk4Ljk5WTt37qyxHhERoXbt2snpdOrgwYMqLy9X%2B/bt/fUWLVqofv36crlccrlcatq0qeLj4/31lJQU7d%2B/XxUVFbWuDQAAEAxbqBY%2BefKkXnjhBS1fvjxg3OPxqHHjxgFjCQkJcrvd/vq3A5IkxcfHy%2B12y%2BPxSJLsdntA3W63%2B%2BvfrV2Y60L9UmsHq7i4WCUlJQFjNluMkpKSftA8tYmKCvkd3h/EZguf/V7obbj1OBzQW2vRX%2BvQW%2BvUxd6GLGDNmjVL99xzj1q3bq3Dhw9f8ljDMBQREWFJ3TAMSbpk/VJz12TlypVasGBBwFhOTo5yc3N/0Dx1jcMRG%2Bot/GB2e4NQb6HOorfWor/WobfWqUu9DUnA2rZtmz799FM99dRTF9UcDof/StQFHo9HDofDX//uFaXS0lK1bt1aiYmJks5fjYqJifHXy8rKlJiYKK/XW%2BO5ERERcjgcta4drOHDh6tXr14BYzZbjNzuyh80T23CLemb/fmtFBUVKbu9gcrKquTzVYd6O3UKvbUW/bUOvbWOlb0N1Q/3IQlYb775pr7%2B%2Bmv16NFD0v9/FSk9PV2jRo3SunXrAo7fuXOn0tLSJEmpqalyuVy6%2B%2B67JUk%2Bn0%2B7du3S0KFDdf311ys%2BPt7/rJUkffHFFzp37pxSU1NVXFyso0eP6tSpU/4w5nQ61apVK8XGxqpDhw7629/%2B9r1rByspKemi24ElJeXyen/eX5Dh%2BPl9vuqw3Hc4oLfWor/WobfWqUu9DcklkClTpuidd97RmjVrtGbNGi1ZskSStGbNGg0aNEhHjhxRQUGBzp49q02bNmnTpk0aNmyYJCkrK0urV6/WZ599pqqqKi1atEj16tVTjx49FBUVpWHDhmnx4sU6duyY3G63nn/%2BefXp00dXX321UlJS1LFjR82dO1cVFRXat2%2Bfli1bpqysLEmqdW0AAIBghOQKVnx8fMCD6l6vV5LUpEkTSdKLL76o2bNna9asWbruuuv03HPPqV27dpKk7t2767e//a2mTJmikpIStW/fXkuWLFH9%2BvUlnX/P1enTpzV8%2BHB5vV5lZGRo%2BvTp/rXmz5%2BvGTNmqFevXoqLi9PgwYN13333SZKuuuqqS64NAAAQjAjjwv05WKqkpNz0OW22SPWZs8X0ea2yfsJtod5C0Gy2SDkcsXK7K%2BvM5eqfCnprLfprHXprHSt726hRnKnzBSu8npIGAAAIAwQsAAAAkxGwAAAATEbAAgAAMBkBCwAAwGQELAAAAJMRsAAAAExGwAIAADAZAQsAAMBkBCwAAACTEbAAAABMRsACAAAwGQELAADAZAQsAAAAkxGwAAAATEbAAgAAMBkBCwAAwGQELAAAAJMRsAAAAExGwAIAADAZAQsAAMBkBCwAAACTEbAAAABMRsACAAAwGQELAADAZAQsAAAAkxGwAAAATEbAAgAAMBkBCwAAwGQhDVhHjhxRTk6O0tPT1bVrV/3%2B979XWVmZJMnlcun%2B%2B%2B9X586d1bdvXy1dujTg3HXr1mnQoEHq1KmThgwZos2bN/tr1dXVmjt3rnr37q0uXbpo9OjROnjwoL/udrv16KOPKiMjQ926dVNeXp6qqqr89drWBgAAuJSQBqyxY8fKbrdr48aNWrt2rb788ks9%2B%2ByzOnPmjB555BF17dpVW7Zs0bx587R06VK9/fbbkqRdu3YpLy9PkydP1gcffKBRo0Zp/PjxOnbsmCRpxYoVeuutt7RkyRIVFRWpRYsWGjdunAzDkCRNnTpVZ86c0bp167Rq1SodPHhQzz33nCTVujYAAEBtQhawysrKlJKSokmTJik2NlaNGjXS4MGD9dFHH6moqEher1fZ2dmKiYlRSkqK7r33XhUUFEiSCgsLlZmZqczMTEVHR2vgwIFq166d1q5dK0kqKCjQAw88oJYtWyo2NlYTJkzQ/v37tX37dp08eVIbN27UxIkTlZiYqKSkJGVnZ%2BuNN97QN998U%2BvaAAAAtbGFamG73a5Zs2YFjB09elRJSUlyuVxq27atoqKi/LXk5GS9/vrrks7fwsvMzAw4Nzk5WU6nU2fOnNHevXuVkpLir8XGxuqGG26Q0%2BlUeXm5oqKi1LZtW389JSVFp0%2Bf1pdfflnr2sEoLi5WSUlJwJjNFqOkpKSg5whGVFR4PUJns4XPfi/0Ntx6HA7orbXor3XorXXqYm9DFrC%2By%2Bl06pVXXtGiRYu0fv162e32gHpCQoI8Ho%2Bqq6vl8XgUHx8fUI%2BPj9fevXtVWloqwzBqrLvdbiUkJKhhw4aKiIgIqEnnn83yeDyXXDsysvb/8leuXKkFCxYEjOXk5Cg3N7f2RtRhDkdsqLfwg9ntDUK9hTqL3lqL/lqH3lqnLvX2JxGwPv74Y2VnZ2vSpEnKyMjQ%2BvXrLzrGMIyAUFSTS9Uv5/xgzv224cOHq1evXgFjNluM3O7KoOcIRrglfbM/v5WioiJltzdQWVmVfL7qUG%2BnTqG31qK/1qG31rGyt6H64T7kAesf//iHJk%2BerGnTpmnw4MGSpMTERB04cCDguNLSUiUkJCgyMlIOh0Nutzug7vF45HA4/Md8t15aWqrExEQlJiaqvLxcPp/PfxvQ4/H4161t7WAkJSVddDuwpKRcXu/P%2BwsyHD%2B/z1cdlvsOB/TWWvTXOvTWOnWptyG9BPLJJ5/o97//vf70pz/5w5Ukpaam6vPPP5fX6/WPOZ1OpaWl%2Bes7d%2B4MmOtCPTo6Wq1bt5bL5fLXysrK9NVXX6ljx45KTk6WYRjas2dPwLl2u13NmzevdW0AAIDahCxgeb1eTZ06VZMnT1a3bt0CapmZmWrYsKEWLVqkqqoqbd%2B%2BXYWFhcrKypIkDRs2TO%2B//76Kiop09uxZFRYW6sCBA7rzzjslSVlZWVq%2BfLn27duniooKzZkzR8nJyerQoYMSExPVr18/zZs3T6dOndLx48e1cOFCDR06VDabrda1AQAAahNhXHg51BX20Ucf6Ve/%2BpXq1at3Ue3tt99WZWWlZs6cqV27dqlRo0YaOXKk7rvvPv8x7777rhYsWKDDhw%2BrVatW%2Bt3vfqcuXbpIOv/M1IIFC/TGG2%2BosrJSnTp10owZM9SkSRNJUnl5uWbMmKFt27bJZrPp9ttv15QpU/x7%2BeKLLy659o9RUlJ%2BWefXxGaLVJ85W0yf1yrrJ9wW6i0EzWaLlMMRK7e7ss5crv6poLfWor/WobfWsbK3jRrFmTpfsEIWsH5uCFgELJxHb61Ff61Db61TFwNWeP0aGgAAQBggYAEAAJiMgAUAAGAyAhYAAIDJCFgAAAAmI2ABAACYjIAFAABgMgIWAACAyQhYAAAAJiNgAQAAmIyABQAAYDICFgAAgMkIWAAAACYjYAEAAJiMgAUAAGAyAhYAAIDJCFgAAAAmI2ABAACYjIAFAABgMgIWAACAyQhYAAAAJiNgAQAAmIyABQAAYDICFgAAgMkIWAAAACYjYAEAAJiMgAUAAGAyAhYAAIDJCFgAAAAmI2DV4NChQxozZozS09PVs2dPPfvss/L5fKHeFgAACBMErBrk5uaqSZMm2rBhg/Lz87Vx40bl5%2BeHelsAACBMELC%2Bw%2Bl06vPPP9fkyZMVFxenZs2a6cEHH1RBQUGotwYAAMKELdQb%2BKlxuVxq2rSp4uPj/WMpKSnav3%2B/Kioq1LBhw1rnKC4uVklJScCYzRajpKQkU/caFRVe%2BfiX87aGegs/yEd/vCPsehwOLvSU3lqD/lqH3lqnLvaWgPUdHo9Hdrs9YOxC2HK73UEFrJUrV2rBggUBY%2BPGjdP48ePN26jOB7nfNPmXhg8fbnp4%2B7krLi7WCy%2B8QG8tUFxcrJdfXkpvLUJ/rUNvrVMXe1t3oqKFDMOQJEVERAR1/PDhw7Vq1aqAf4YPH276vkpKSrRgwYKLrpbh8tFb69Bba9Ff69Bb69TF3nIF6zsSExPldrsDxkpLSxURESGHwxHUHElJSXUmgQMAgB%2BOK1jfkZqaqqNHj%2BrUqVP%2BMafTqVatWik2NjaEOwMAAOGCgPUdKSkp6tixo%2BbOnauKigrt27dPy5YtU1ZWVqi3BgAAwkTUjBkzZoR6Ez81v/jFL7R%2B/Xo988wzevfddzV48GCNHj066GewrqTY2FjdcsstXF2zAL21Dr21Fv21Dr21Tl3rbYRx4QluAAAAmIJbhAAAACYjYAEAAJiMgAUAAGAyAhYAAIDJCFgAAAAmI2ABAACYjIAFAABgMgIWAACAyQhYAAAAJiNghaFDhw5pzJgxSk9PV8%2BePfXss8/K5/OFels/WUeOHFFOTo7S09PVtWtX/f73v1dZWZkkyeVy6f7771fnzp3Vt29fLV26NODcdevWadCgQerUqZOGDBmizZs3%2B2vV1dWaO3euevfurS5dumj06NE6ePDgFf1sPyVPP/202rZt6//3rVu3aujQobrppps0YMAArV69OuD4/Px89evXT507d1ZWVpZ27Njhr509e1bTpk1T9%2B7d1bVrV40fPz7gD7D/nCxatEjdunXTjTfeqAceeECHDh2SRH8v1%2B7duzVy5EjdfPPNuu222zR58mR/D%2BjtD7dlyxZlZGRo4sSJF9Uu5/uo2%2B3Wo48%2BqoyMDHXr1k15eXmqqqry12v7Hh5SBsLO4MGDjalTpxplZWXGgQMHjL59%2BxpLly4N9bZ%2Bsu68805jypQpRkVFhVFcXGzcc889xh/%2B8AejqqrK6Natm/HCCy8YlZWVhsvlMtLT043169cbhmEYLpfLSE1NNYqKiowzZ84Ya9euNTp27GgcPXrUMAzDyM/PN3r27Gns3bvXqKioMJ566ilj4MCBRnV1dSg/bkjs2rXL6NKli9GmTRvDMAzj%2BPHjRlpamlFQUGCcOXPGeP/9942OHTsa27dvNwzDMP73f//XuPnmm43PPvvMqKqqMl566SUjIyPDqKioMAzDMP74xz8aQ4YMMY4ePWp4PB5j/PjxxsMPPxyyzxcq//M//2P07dvX2Lt3r1FWVmY8%2BeSTxpNPPkl/L5PX6zVuu%2B02Y/bs2UZVVZVx8uRJ4ze/%2BY0xfvx4evsjLFmyxOjbt68xYsQIY8KECQG1y/0%2BOnbsWOPhhx82vv76a%2BPEiRNGVlaW8cQTTxiGYdT6PTzUCFhhZseOHUZycrLh8Xj8Y6%2B%2B%2BqrRr1%2B/EO7qp6u0tNSYMmWKUVJS4h9bsWKF0bdvX2P9%2BvVG165dDa/X66/NmTPHGDVqlGEYhvHEE08YOTk5AfMNGzbMePHFFw3DMIwBAwYYL7/8sr9WUVFhtG/f3vj000%2Bt/Eg/OT6fz7j33nuNBQsW%2BAPW0qVLjcGDBwccN3HiRGPatGmGYRjGww8/bDz99NP%2BWnV1tdGtWzdj3bp1htfrNTp37mxs2LDBX9%2B3b5/Rtm1b4/jx41fgE/109OrVq8b/s6C/l%2Bfo0aNGmzZtjL179/rH/vrXvxq33347vf0RXn75ZaOsrMx47LHHLgpYl/N9tKSkxGjXrp2xe/duf33z5s3GjTfeaJw7d67W7%2BGhxi3CMONyudS0aVPFx8f7x1JSUrR//35VVFSEcGc/TXa7XbNmzdLVV1/tHzt69KiSkpLkcrnUtm1bRUVF%2BWvJycnauXOnpPO9TklJCZgvOTlZTqdTZ86c0d69ewPqsbGxuuGGG%2BR0Oi3%2BVD8tr732murVq6e77rrLP/Z9vfu%2B3kZERKhdu3ZyOp06ePCgysvL1b59e3%2B9RYsWql%2B/vlwul8Wf5qfjxIkTOnz4sCoqKtS/f3%2Blp6crNzdXp06dor%2BXqXHjxkpOTtZrr72myspKff3113rnnXfUo0cPevsjjBw5UnFxcTXWLuf76O7duxUVFRXw6EFKSopOnz6tL7/8stbv4aFGwAozHo9Hdrs9YOxC2HK73aHYUlhxOp165ZVXlJ2dXWMvExIS5PF4VF1dLY/HExBkpfO9drvdKi0tlWEY31v/uTh58qReeOEFTZ8%2BPWD8%2B3p7oTeX6q3H45Gki8632%2B0/q94eP35ckrR%2B/XotW7ZMa9asUXFxsR5//HH6e5kiIyM1f/58/eMf/9BNN92kjIwMeb1eTZo0id6a7HK%2Bj3o8HjVs2FAREREBNUn%2B%2BqW%2Bh4caAasOMAxDkgL%2BR4iLffzxxxo9erQmTZqkjIyMGo8xDKPWPl6qHsz5dcmsWbN0zz33qHXr1rUeW1tvLrde11z4un7ooYfUuHFjNWnS5P%2B1cy8vbbRRGMCPgrgoXiabFsGFoEEhXuIVBfG2CC4Er7hQuxJD0YrYoiIUdCcIivFfUBDduRORqBtBixEiasSFtOpA0WATSI3WPF18ZDBVP1syNSl9fpCFc2Zg3kc4nElmRnp6emRlZeXR/Znvr7m%2BvpY3b96IxWKRjx8/yvr6uiQmJsr79%2B8f3J/Z6i/cvB6rR1PWHLD%2BMgaD4d6V0NevXyUmJoxafyIAAAQPSURBVEYURYnQWUU/u90uXV1dMjw8LK9fvxaRx7NMTk6W2NhYURTlXv3y8lIURdH2eeh4g8HwZxcTJTY2NsThcEh3d/e9mqIo2tV8UDC7YP2h7BRF0fL7ue7xeP6ZbEVE%2B1n77hV6SkqKBAIBubm5Yb5h2NjYkJOTE%2Bnv75eEhAR5%2BfKl9Pb2yvLyssTGxjJbHYXTRw0Gg3i93pCn5IP/m2D9/3p4pEX%2BDOi3mEwmOTs7C3ns1%2Bl0Snp6urx48SKCZxa9tre3ZWBgQKampqS%2Bvl7bbjKZxOVyyffv37VtTqdTcnNztfrPv%2BUH6/Hx8ZKRkRFyX4XH45FPnz5JTk7OH15RdFhcXJSLiwuprKyUkpISaWxsFBGRkpISMRqN97Lb3d0NyfZudre3t7K3tye5ubmSmpoqSUlJIfXDw0O5vr4Wk8n0DCuLDq9evRKDwSD7%2B/vattPTU4mLi5OKigrmG4bb21sJBALat4QiovWBsrIyZqujcPpoVlaWAJCDg4OQYxMTEyUtLe3JHh5xz3xTPemgpaUFw8PD8Hq9ODo6QnV1NWZmZiJ9WlHp5uYGtbW1mJubu1fz%2B/2oqqqCzWaDz%2BfDzs4OCgsLYbfbAQAulwvZ2dmw2%2B24urrCwsICzGYzvnz5AuC/p44qKytxdHQEr9eLDx8%2BoKmp6TmXF1GXl5dQVVX7OBwOGI1GqKqK09NTmM1mzM/P4%2BrqCqurq8jJydGeBlpbW0NBQQEcDgd8Ph%2Bmp6dRUVGBb9%2B%2BAQDGx8fR0NCAs7MzuN1uWK1WvH37NpLLjYjJyUnU1NTg%2BPgY5%2BfnaG1txdDQEM7Pz5lvGNxuN4qLizExMQGfzwe3243u7m60tbUx2zA89BRhuH20r68PnZ2duLi4gKqqaGpqwtjYGICne3ikccD6C6mqCqvViqKiIlRXV8Nms/2T7176FVtbWzAajTCZTPc%2BJycncLlcaG9vR35%2BPiwWC2ZnZ0OOX1paQl1dHcxmM1paWrC5uanVAoEAbDYbqqqqUFxcDKvVClVVn3uJUePz58/aaxoAYHNzE83NzTCbzairq8PS0lLI/rOzs7BYLMjPz0dHRwdcLpdW8/v9GB0dRXl5OUpLS/Hu3Tt4PJ5nW0u08Pv9GBkZQVFREfLy8jA4OKi9b4n5hsfpdKK9vR2FhYUoKytDX1%2Bf9ioFZvt7gj01MzMTmZmZ2t9B4fRRj8eD/v5%2BlJaWory8HKOjo/D7/Vr9qR4eSTHAne9IiYiIiChsvAeLiIiISGccsIiIiIh0xgGLiIiISGccsIiIiIh0xgGLiIiISGccsIiIiIh0xgGLiIiISGccsIiIiIh0xgGLiIiISGccsIiIiIh0xgGLiIiISGccsIiIiIh0xgGLiIiISGc/AIqSgY7LOCI%2BAAAAAElFTkSuQmCC\"/>\n",
       "        </div>\n",
       "        <div role=\"tabpanel\" class=\"tab-pane col-md-12\" id=\"common-6722312233808571715\">\n",
       "            \n",
       "<table class=\"freq table table-hover\">\n",
       "    <thead>\n",
       "    <tr>\n",
       "        <td class=\"fillremaining\">Value</td>\n",
       "        <td class=\"number\">Count</td>\n",
       "        <td class=\"number\">Frequency (%)</td>\n",
       "        <td style=\"min-width:200px\">&nbsp;</td>\n",
       "    </tr>\n",
       "    </thead>\n",
       "    <tr class=\"\">\n",
       "        <td class=\"fillremaining\">29.99</td>\n",
       "        <td class=\"number\">29890</td>\n",
       "        <td class=\"number\">1.9%</td>\n",
       "        <td>\n",
       "            <div class=\"bar\" style=\"width:3%\">&nbsp;</div>\n",
       "        </td>\n",
       "</tr><tr class=\"\">\n",
       "        <td class=\"fillremaining\">19.99</td>\n",
       "        <td class=\"number\">24729</td>\n",
       "        <td class=\"number\">1.6%</td>\n",
       "        <td>\n",
       "            <div class=\"bar\" style=\"width:2%\">&nbsp;</div>\n",
       "        </td>\n",
       "</tr><tr class=\"\">\n",
       "        <td class=\"fillremaining\">9.99</td>\n",
       "        <td class=\"number\">21408</td>\n",
       "        <td class=\"number\">1.4%</td>\n",
       "        <td>\n",
       "            <div class=\"bar\" style=\"width:2%\">&nbsp;</div>\n",
       "        </td>\n",
       "</tr><tr class=\"\">\n",
       "        <td class=\"fillremaining\">49.99</td>\n",
       "        <td class=\"number\">20916</td>\n",
       "        <td class=\"number\">1.4%</td>\n",
       "        <td>\n",
       "            <div class=\"bar\" style=\"width:2%\">&nbsp;</div>\n",
       "        </td>\n",
       "</tr><tr class=\"\">\n",
       "        <td class=\"fillremaining\">14.99</td>\n",
       "        <td class=\"number\">19429</td>\n",
       "        <td class=\"number\">1.3%</td>\n",
       "        <td>\n",
       "            <div class=\"bar\" style=\"width:2%\">&nbsp;</div>\n",
       "        </td>\n",
       "</tr><tr class=\"\">\n",
       "        <td class=\"fillremaining\">6.99</td>\n",
       "        <td class=\"number\">17968</td>\n",
       "        <td class=\"number\">1.2%</td>\n",
       "        <td>\n",
       "            <div class=\"bar\" style=\"width:2%\">&nbsp;</div>\n",
       "        </td>\n",
       "</tr><tr class=\"\">\n",
       "        <td class=\"fillremaining\">7.99</td>\n",
       "        <td class=\"number\">16954</td>\n",
       "        <td class=\"number\">1.1%</td>\n",
       "        <td>\n",
       "            <div class=\"bar\" style=\"width:2%\">&nbsp;</div>\n",
       "        </td>\n",
       "</tr><tr class=\"\">\n",
       "        <td class=\"fillremaining\">39.99</td>\n",
       "        <td class=\"number\">15889</td>\n",
       "        <td class=\"number\">1.0%</td>\n",
       "        <td>\n",
       "            <div class=\"bar\" style=\"width:2%\">&nbsp;</div>\n",
       "        </td>\n",
       "</tr><tr class=\"\">\n",
       "        <td class=\"fillremaining\">12.99</td>\n",
       "        <td class=\"number\">14391</td>\n",
       "        <td class=\"number\">0.9%</td>\n",
       "        <td>\n",
       "            <div class=\"bar\" style=\"width:2%\">&nbsp;</div>\n",
       "        </td>\n",
       "</tr><tr class=\"\">\n",
       "        <td class=\"fillremaining\">3.99</td>\n",
       "        <td class=\"number\">13634</td>\n",
       "        <td class=\"number\">0.9%</td>\n",
       "        <td>\n",
       "            <div class=\"bar\" style=\"width:2%\">&nbsp;</div>\n",
       "        </td>\n",
       "</tr><tr class=\"other\">\n",
       "        <td class=\"fillremaining\">Other values (26880)</td>\n",
       "        <td class=\"number\">1346064</td>\n",
       "        <td class=\"number\">87.3%</td>\n",
       "        <td>\n",
       "            <div class=\"bar\" style=\"width:100%\">&nbsp;</div>\n",
       "        </td>\n",
       "</tr>\n",
       "</table>\n",
       "        </div>\n",
       "        <div role=\"tabpanel\" class=\"tab-pane col-md-12\"  id=\"extreme-6722312233808571715\">\n",
       "            <p class=\"h4\">Minimum 5 values</p>\n",
       "            \n",
       "<table class=\"freq table table-hover\">\n",
       "    <thead>\n",
       "    <tr>\n",
       "        <td class=\"fillremaining\">Value</td>\n",
       "        <td class=\"number\">Count</td>\n",
       "        <td class=\"number\">Frequency (%)</td>\n",
       "        <td style=\"min-width:200px\">&nbsp;</td>\n",
       "    </tr>\n",
       "    </thead>\n",
       "    <tr class=\"\">\n",
       "        <td class=\"fillremaining\">0.0</td>\n",
       "        <td class=\"number\">6802</td>\n",
       "        <td class=\"number\">0.4%</td>\n",
       "        <td>\n",
       "            <div class=\"bar\" style=\"width:100%\">&nbsp;</div>\n",
       "        </td>\n",
       "</tr><tr class=\"\">\n",
       "        <td class=\"fillremaining\">0.01</td>\n",
       "        <td class=\"number\">3</td>\n",
       "        <td class=\"number\">0.0%</td>\n",
       "        <td>\n",
       "            <div class=\"bar\" style=\"width:1%\">&nbsp;</div>\n",
       "        </td>\n",
       "</tr><tr class=\"\">\n",
       "        <td class=\"fillremaining\">0.06</td>\n",
       "        <td class=\"number\">1</td>\n",
       "        <td class=\"number\">0.0%</td>\n",
       "        <td>\n",
       "            <div class=\"bar\" style=\"width:1%\">&nbsp;</div>\n",
       "        </td>\n",
       "</tr><tr class=\"\">\n",
       "        <td class=\"fillremaining\">0.09</td>\n",
       "        <td class=\"number\">1</td>\n",
       "        <td class=\"number\">0.0%</td>\n",
       "        <td>\n",
       "            <div class=\"bar\" style=\"width:1%\">&nbsp;</div>\n",
       "        </td>\n",
       "</tr><tr class=\"\">\n",
       "        <td class=\"fillremaining\">0.16</td>\n",
       "        <td class=\"number\">1</td>\n",
       "        <td class=\"number\">0.0%</td>\n",
       "        <td>\n",
       "            <div class=\"bar\" style=\"width:1%\">&nbsp;</div>\n",
       "        </td>\n",
       "</tr>\n",
       "</table>\n",
       "            <p class=\"h4\">Maximum 5 values</p>\n",
       "            \n",
       "<table class=\"freq table table-hover\">\n",
       "    <thead>\n",
       "    <tr>\n",
       "        <td class=\"fillremaining\">Value</td>\n",
       "        <td class=\"number\">Count</td>\n",
       "        <td class=\"number\">Frequency (%)</td>\n",
       "        <td style=\"min-width:200px\">&nbsp;</td>\n",
       "    </tr>\n",
       "    </thead>\n",
       "    <tr class=\"\">\n",
       "        <td class=\"fillremaining\">8693.69</td>\n",
       "        <td class=\"number\">9</td>\n",
       "        <td class=\"number\">0.0%</td>\n",
       "        <td>\n",
       "            <div class=\"bar\" style=\"width:18%\">&nbsp;</div>\n",
       "        </td>\n",
       "</tr><tr class=\"\">\n",
       "        <td class=\"fillremaining\">8969.99</td>\n",
       "        <td class=\"number\">3</td>\n",
       "        <td class=\"number\">0.0%</td>\n",
       "        <td>\n",
       "            <div class=\"bar\" style=\"width:6%\">&nbsp;</div>\n",
       "        </td>\n",
       "</tr><tr class=\"\">\n",
       "        <td class=\"fillremaining\">9284.99</td>\n",
       "        <td class=\"number\">1</td>\n",
       "        <td class=\"number\">0.0%</td>\n",
       "        <td>\n",
       "            <div class=\"bar\" style=\"width:2%\">&nbsp;</div>\n",
       "        </td>\n",
       "</tr><tr class=\"\">\n",
       "        <td class=\"fillremaining\">9584.99</td>\n",
       "        <td class=\"number\">1</td>\n",
       "        <td class=\"number\">0.0%</td>\n",
       "        <td>\n",
       "            <div class=\"bar\" style=\"width:2%\">&nbsp;</div>\n",
       "        </td>\n",
       "</tr><tr class=\"\">\n",
       "        <td class=\"fillremaining\">9999.0</td>\n",
       "        <td class=\"number\">51</td>\n",
       "        <td class=\"number\">0.0%</td>\n",
       "        <td>\n",
       "            <div class=\"bar\" style=\"width:100%\">&nbsp;</div>\n",
       "        </td>\n",
       "</tr>\n",
       "</table>\n",
       "        </div>\n",
       "    </div>\n",
       "</div>\n",
       "</div><div class=\"row variablerow\">\n",
       "    <div class=\"col-md-3 namecol\">\n",
       "        <p class=\"h4 pp-anchor\" id=\"pp_var_quantity\">quantity<br/>\n",
       "            <small>Numeric</small>\n",
       "        </p>\n",
       "    </div><div class=\"col-md-6\">\n",
       "    <div class=\"row\">\n",
       "        <div class=\"col-sm-6\">\n",
       "            <table class=\"stats \">\n",
       "                <tr>\n",
       "                    <th>Distinct count</th>\n",
       "                    <td>208</td>\n",
       "                </tr>\n",
       "                <tr>\n",
       "                    <th>Unique (%)</th>\n",
       "                    <td>0.0%</td>\n",
       "                </tr>\n",
       "                <tr class=\"ignore\">\n",
       "                    <th>Missing (%)</th>\n",
       "                    <td>0.0%</td>\n",
       "                </tr>\n",
       "                <tr class=\"ignore\">\n",
       "                    <th>Missing (n)</th>\n",
       "                    <td>0</td>\n",
       "                </tr>\n",
       "                <tr class=\"ignore\">\n",
       "                    <th>Infinite (%)</th>\n",
       "                    <td>0.0%</td>\n",
       "                </tr>\n",
       "                <tr class=\"ignore\">\n",
       "                    <th>Infinite (n)</th>\n",
       "                    <td>0</td>\n",
       "                </tr>\n",
       "            </table>\n",
       "\n",
       "        </div>\n",
       "        <div class=\"col-sm-6\">\n",
       "            <table class=\"stats \">\n",
       "\n",
       "                <tr>\n",
       "                    <th>Mean</th>\n",
       "                    <td>2.8605</td>\n",
       "                </tr>\n",
       "                <tr>\n",
       "                    <th>Minimum</th>\n",
       "                    <td>1</td>\n",
       "                </tr>\n",
       "                <tr>\n",
       "                    <th>Maximum</th>\n",
       "                    <td>800</td>\n",
       "                </tr>\n",
       "                <tr class=\"ignore\">\n",
       "                    <th>Zeros (%)</th>\n",
       "                    <td>0.0%</td>\n",
       "                </tr>\n",
       "            </table>\n",
       "        </div>\n",
       "    </div>\n",
       "</div>\n",
       "<div class=\"col-md-3 collapse in\" id=\"minihistogram-6625227732699586289\">\n",
       "    <img src=\"data:image/png;base64,iVBORw0KGgoAAAANSUhEUgAAAMgAAABLCAYAAAA1fMjoAAAABHNCSVQICAgIfAhkiAAAAAlwSFlzAAAPYQAAD2EBqD%2BnaQAAADl0RVh0U29mdHdhcmUAbWF0cGxvdGxpYiB2ZXJzaW9uIDIuMi4yLCBodHRwOi8vbWF0cGxvdGxpYi5vcmcvhp/UCwAAAPtJREFUeJzt1bEJAlEQRVFXLGmLsCdje7IIexpzkQsbyN/gnHzgJZfZZmYuwE/X1QPgzG6rB3zbH6/DN%2B/n/Q9LwAeBJBAIAoEgEAgCgSAQCAKBIBAIAoEgEAgCgSAQCAKBIBAIAoEgEAgCgSAQCAKBIBAIAoEgEAgCgSAQCAKBIBAIAoEgEAgCgSAQCAKBIBAIAoEgEAgCgSAQCAKBIBAIAoEgEAgCgSAQCAKBIBAIAoEgEAjbzMzqEXBWPggEgUAQCASBQBAIBIFAEAgEgUAQCASBQBAIBIFAEAgEgUAQCASBQBAIBIFAEAgEgUAQCASBQBAIBIFAEAiED9obC49m6JdFAAAAAElFTkSuQmCC\">\n",
       "\n",
       "</div>\n",
       "<div class=\"col-md-12 text-right\">\n",
       "    <a role=\"button\" data-toggle=\"collapse\" data-target=\"#descriptives-6625227732699586289,#minihistogram-6625227732699586289\"\n",
       "       aria-expanded=\"false\" aria-controls=\"collapseExample\">\n",
       "        Toggle details\n",
       "    </a>\n",
       "</div>\n",
       "<div class=\"row collapse col-md-12\" id=\"descriptives-6625227732699586289\">\n",
       "    <ul class=\"nav nav-tabs\" role=\"tablist\">\n",
       "        <li role=\"presentation\" class=\"active\"><a href=\"#quantiles-6625227732699586289\"\n",
       "                                                  aria-controls=\"quantiles-6625227732699586289\" role=\"tab\"\n",
       "                                                  data-toggle=\"tab\">Statistics</a></li>\n",
       "        <li role=\"presentation\"><a href=\"#histogram-6625227732699586289\" aria-controls=\"histogram-6625227732699586289\"\n",
       "                                   role=\"tab\" data-toggle=\"tab\">Histogram</a></li>\n",
       "        <li role=\"presentation\"><a href=\"#common-6625227732699586289\" aria-controls=\"common-6625227732699586289\"\n",
       "                                   role=\"tab\" data-toggle=\"tab\">Common Values</a></li>\n",
       "        <li role=\"presentation\"><a href=\"#extreme-6625227732699586289\" aria-controls=\"extreme-6625227732699586289\"\n",
       "                                   role=\"tab\" data-toggle=\"tab\">Extreme Values</a></li>\n",
       "\n",
       "    </ul>\n",
       "\n",
       "    <div class=\"tab-content\">\n",
       "        <div role=\"tabpanel\" class=\"tab-pane active row\" id=\"quantiles-6625227732699586289\">\n",
       "            <div class=\"col-md-4 col-md-offset-1\">\n",
       "                <p class=\"h4\">Quantile statistics</p>\n",
       "                <table class=\"stats indent\">\n",
       "                    <tr>\n",
       "                        <th>Minimum</th>\n",
       "                        <td>1</td>\n",
       "                    </tr>\n",
       "                    <tr>\n",
       "                        <th>5-th percentile</th>\n",
       "                        <td>1</td>\n",
       "                    </tr>\n",
       "                    <tr>\n",
       "                        <th>Q1</th>\n",
       "                        <td>1</td>\n",
       "                    </tr>\n",
       "                    <tr>\n",
       "                        <th>Median</th>\n",
       "                        <td>1</td>\n",
       "                    </tr>\n",
       "                    <tr>\n",
       "                        <th>Q3</th>\n",
       "                        <td>2</td>\n",
       "                    </tr>\n",
       "                    <tr>\n",
       "                        <th>95-th percentile</th>\n",
       "                        <td>10</td>\n",
       "                    </tr>\n",
       "                    <tr>\n",
       "                        <th>Maximum</th>\n",
       "                        <td>800</td>\n",
       "                    </tr>\n",
       "                    <tr>\n",
       "                        <th>Range</th>\n",
       "                        <td>799</td>\n",
       "                    </tr>\n",
       "                    <tr>\n",
       "                        <th>Interquartile range</th>\n",
       "                        <td>1</td>\n",
       "                    </tr>\n",
       "                </table>\n",
       "            </div>\n",
       "            <div class=\"col-md-4 col-md-offset-2\">\n",
       "                <p class=\"h4\">Descriptive statistics</p>\n",
       "                <table class=\"stats indent\">\n",
       "                    <tr>\n",
       "                        <th>Standard deviation</th>\n",
       "                        <td>7.5703</td>\n",
       "                    </tr>\n",
       "                    <tr>\n",
       "                        <th>Coef of variation</th>\n",
       "                        <td>2.6465</td>\n",
       "                    </tr>\n",
       "                    <tr>\n",
       "                        <th>Kurtosis</th>\n",
       "                        <td>1080.2</td>\n",
       "                    </tr>\n",
       "                    <tr>\n",
       "                        <th>Mean</th>\n",
       "                        <td>2.8605</td>\n",
       "                    </tr>\n",
       "                    <tr>\n",
       "                        <th>MAD</th>\n",
       "                        <td>2.6938</td>\n",
       "                    </tr>\n",
       "                    <tr class=\"alert\">\n",
       "                        <th>Skewness</th>\n",
       "                        <td>21.383</td>\n",
       "                    </tr>\n",
       "                    <tr>\n",
       "                        <th>Sum</th>\n",
       "                        <td>4408823</td>\n",
       "                    </tr>\n",
       "                    <tr>\n",
       "                        <th>Variance</th>\n",
       "                        <td>57.31</td>\n",
       "                    </tr>\n",
       "                    <tr>\n",
       "                        <th>Memory size</th>\n",
       "                        <td>11.8 MiB</td>\n",
       "                    </tr>\n",
       "                </table>\n",
       "            </div>\n",
       "        </div>\n",
       "        <div role=\"tabpanel\" class=\"tab-pane col-md-8 col-md-offset-2\" id=\"histogram-6625227732699586289\">\n",
       "            <img src=\"data:image/png;base64,iVBORw0KGgoAAAANSUhEUgAAAlgAAAGQCAYAAAByNR6YAAAABHNCSVQICAgIfAhkiAAAAAlwSFlzAAAPYQAAD2EBqD%2BnaQAAADl0RVh0U29mdHdhcmUAbWF0cGxvdGxpYiB2ZXJzaW9uIDIuMi4yLCBodHRwOi8vbWF0cGxvdGxpYi5vcmcvhp/UCwAAIABJREFUeJzs3Xt0VOWh/vEnyZRgQi4TJaKIHAQkCQFEpECkhIuA5aKIQIi1VKH0GAIxUVqhRUHxiHI7FOFwkdaox2pMRJRY0HJoABHPqVZhGC4eEJB7gszkRhKYyf79wcr8HBKTQXcSZ873s5bL5X73ft/3CeB62HtnEmQYhiEAAACYJri5NwAAABBoKFgAAAAmo2ABAACYjIIFAABgMgoWAACAyShYAAAAJqNgAQAAmIyCBQAAYDIKFgAAgMkoWAAAACajYAEAAJiMggUAAGAyChYAAIDJKFgAAAAmo2ABAACYjIIFAABgMgoWAACAyShYAAAAJqNgAQAAmIyCBQAAYDIKFgAAgMkoWAAAACajYAEAAJiMggUAAGAyChYAAIDJKFgAAAAmo2ABAACYjIIFAABgMgoWAACAyShYAAAAJqNgAQAAmIyCBQAAYDIKFgAAgMkoWAAAACajYAEAAJiMggUAAGAyChYAAIDJKFgAAAAma9SCtWPHDiUlJSkrK6vW2NmzZ5WWlqbbbrtNSUlJWrJkidxutySpurpaS5Ys0ZAhQ9S7d29NmTJFx44d81zrcDj06KOPKikpSf3799fs2bNVUVHhGbfb7XrwwQfVq1cvDRs2TOvWrfNaOz8/X6NHj1bPnj01duxYbd%2B%2B3TPW0NoAAAANsTTWxC%2B99JLy8vLUvn37WmOGYWj69Onq1q2bPvroI509e1ZPPPGEkpKS1K9fP7322mt6//339dJLL6lNmzZatmyZpk%2Bfrvfee09BQUGaM2eOXC6X8vPz5XK5lJmZqUWLFumpp55SZWWlHnnkEaWkpGjt2rU6evSoJk%2BerJtuukl333239u3bp9mzZ2vFihXq27ev/va3v2nGjBnavHmzbrjhhgbX/r6Kikp/yJezluDgIMXEhOv8%2BXJVVxumzt3cAjVboOaSyOaPAjWXRDZ/1Ji5WreOMHU%2BXzXaHazQ0NDvLFj/%2BMc/9PXXX2vWrFlq1aqVOnbsqLy8PPXr10%2BSlJubq4ceekgdO3ZUeHi4MjMzdeTIEe3evVvnzp3T1q1blZWVpZiYGMXGxiotLU3vvPOOLl26pIKCArlcLqWlpSksLEwJCQkaP368cnNzJUl5eXlKTk5WcnKyQkNDNWrUKMXFxWnjxo0Nrv1jEhwcpKCgIAUHf//S92MVqNkCNZdENn8UqLkksvmjQMzVaHewJk2a9J1jn332mbp06aJly5bp7bffVqtWrfTLX/5SDz30kCorK3Xo0CElJCR4zg8PD9fNN98sm82m0tJShYSEqEuXLp7xhIQEXbhwQV999ZXsdru6dOmikJAQz3h8fLzeeustSZcfHyYnJ3vtJz4%2BXjabrcG1b7vtNp%2ByFxYWqqioyOuYxRKm2NhYn673RUhIsNe/A0mgZgvUXBLZ/FGg5pLI5o8CMVejFaz6nDlzRrt379aAAQNUUFCgf/zjH5o%2BfbratWunxMREGYahqKgor2uioqLkcDgUHR2tVq1aeT2uqznX4XDI6XQqMjLS69ro6Gg5nU5VV1fL6XTWOfehQ4dUXFxc79q%2BysnJ0YoVK7yOpaenKyMjw%2Bc5fBUZeY3pc/5YBGq2QM0lkc0fBWouiWz%2BKJByNUvBMgxDVqtVv/71ryVJAwYM0NChQ/XXv/5ViYmJ33lNQ%2B9Afdf4D7nW1%2Bu/LSUlRYMHD/Y6ZrGEyeEo93mOhoSEBCsy8hqVlFTI7a42bd4fg0DNFqi5JLL5o0DNJZHNHzVmLqs13NT5fNUsBat169aKiPB%2B6ezGG2/U7t27FR0dreDg4Fp3jIqLixUTE6OYmBiVlpbK7XZ7HgM6nU5J8owfPXq01rU181qt1lpzO51OWa3WBtf2VWxsbK3HgUVFpXK5zP/D4HZXN8q8PwaBmi1Qc0lk80eBmksimz8KpFzN8rAzPj5ex48fV3n5/7%2Bjc/LkSbVt21ahoaHq3Lmz7Ha7Z6ykpERff/21unfvrvj4eBmGoQMHDnjGbTabIiMj1aFDByUmJurgwYNyuVxe4z169JAkJSYmau/evV77qRlvaG0AAABfNEvBGjRokGJiYrRw4UJduHBBu3bt0pYtWzR27FhJUmpqql599VUdPnxYZWVlWrx4seLj49WtWzfFxMRo%2BPDhWrZsmc6fP68zZ85o5cqVGjdunCwWi5KTk9WqVSutWrVKFRUV2r17t/Ly8pSamipJmjBhgj7%2B%2BGMVFBSoqqpKeXl5Onr0qO65554G1wYAAPBFoz0irCkkNXeStmzZIuny3aKQkBCtWbNGTz31lPr27auYmBg9/fTT6t27tyRp4sSJOnfunKZOnary8nL17NnT66XxZ555RvPmzdOoUaNksVh01113eT7MtEWLFlq9erXmz5%2Bv7OxstW7dWllZWRo4cKAk6dZbb9XixYu1dOlSnThxQp06ddKaNWvUunVrn9YGAABoSJBhGIHzSWU/YmZ/0KjFEiyrNVwOR3nAPK%2BuEajZAjWXRDZ/FKi5JLL5o8bMFXAfNAoAAPB/FQULAADAZBQsAAAAk1GwAAAATEbBAgAAMFmzfJI7zDN08Y7m3oLPNmXe2dxbAACgSXAHCwAAwGQULAAAAJNRsAAAAExGwQIAADAZBQsAAMBkFCwAAACTUbAAAABMRsECAAAwGQULAADAZBQsAAAAk1GwAAAATEbBAgAAMBkFCwAAwGQULAAAAJNRsAAAAExGwQIAADAZBQsAAMBkFCwAAACTUbAAAABMRsECAAAwGQULAADAZBQsAAAAkzVqwdqxY4eSkpKUlZX1neeUl5crOTlZs2bN8hyrrq7WkiVLNGTIEPXu3VtTpkzRsWPHPOMOh0OPPvqokpKS1L9/f82ePVsVFRWecbvdrgcffFC9evXSsGHDtG7dOq818/PzNXr0aPXs2VNjx47V9u3bfV4bAACgIY1WsF566SU9%2B%2Byzat%2B%2Bfb3nvfjiiyorK/M69tprr%2Bn999/X2rVrVVBQoFtuuUXTp0%2BXYRiSpDlz5qiyslL5%2Bflav369jh07pkWLFkmSKisr9cgjj6hv377asWOHli1bpnXr1mnz5s2SpH379mn27NmaOXOmPvnkE02ePFkzZszQ6dOnfVobAACgIY1WsEJDQ5WXl1dvwTpw4IA2btyo%2B%2B67z%2Bt4bm6uHnroIXXs2FHh4eHKzMzUkSNHtHv3bp07d05bt25VVlaWYmJiFBsbq7S0NL3zzju6dOmSCgoK5HK5lJaWprCwMCUkJGj8%2BPHKzc2VJOXl5Sk5OVnJyckKDQ3VqFGjFBcXp40bNza4NgAAgC8arWBNmjRJERER3zluGIbmzZunrKwsRUVFeY5XVlbq0KFDSkhI8BwLDw/XzTffLJvNpv379yskJERdunTxjCckJOjChQv66quvZLfb1aVLF4WEhHjG4%2BPjtXfvXkmXHx9%2Be%2B6acZvN1uDaAAAAvrA018I5OTkKCgrS/fffrxUrVniOFxcXyzAMr9IlSVFRUXI4HIqOjlarVq0UFBTkNSZdfjfL6XQqMjLS69ro6Gg5nU5VV1fL6XTWOfehQ4caXNtXhYWFKioq8jpmsYQpNjbW5zkaEhLif9%2BfYLH4tueabP6YsT6Bmksimz8K1FwS2fxRIOZqloL1zTffaPny5Xr55Ze9ilJ9DMNo8NzvGv8h1/p6/bfl5OR4lUZJSk9PV0ZGhs9zBCKrNfyqzo%2BMvKaRdtK8AjWXRDZ/FKi5JLL5o0DK1SwF6/nnn9e9997r9ZivRnR0tIKDg2vdMSouLlZMTIxiYmJUWloqt9vteQzodDolyTN%2B9OjRWtfWzGu1WmvN7XQ6ZbVaG1zbVykpKRo8eLDXMYslTA5Huc9zNCQkJNjvfiP6mr8mW0lJhdzu6kbeVdMJ1FwS2fxRoOaSyOaPGjPX1f7l3izNUrDee%2B89RUZGav369ZIuv3dVXV2tv//97/rv//5vde7cWXa7XT/96U8lSSUlJfr666/VvXt3tW3bVoZh6MCBA%2BrataskyWazKTIyUh06dFBiYqLeeOMNuVwuWSwWz3iPHj0kSYmJiZ73sWrYbDaNHDlSoaGh9a7tq9jY2FqPA4uKSuVyBc4fhu/javO73dUB%2BTUL1FwS2fxRoOaSyOaPAilXszzs3LZtmzZu3Kh3331X7777riZOnKjBgwfr3XfflSSlpqbq1Vdf1eHDh1VWVqbFixcrPj5e3bp1U0xMjIYPH65ly5bp/PnzOnPmjFauXKlx48bJYrEoOTlZrVq10qpVq1RRUaHdu3crLy9PqampkqQJEybo448/VkFBgaqqqpSXl6ejR4/qnnvuaXBtAAAAXzTaHayaQuJyuSRJW7ZskXT5blGbNm28zm3VqpWuueYaz/GJEyfq3Llzmjp1qsrLy9WzZ0%2Bvd5qeeeYZzZs3T6NGjZLFYtFdd93l%2BTDTFi1aaPXq1Zo/f76ys7PVunVrZWVlaeDAgZKkW2%2B9VYsXL9bSpUt14sQJderUSWvWrFHr1q19WhsAAKAhQQafoNkkiopKTZ3PYgmW1RquO/6w2dR5G9OmzDt9Oq8mm8NRHjC3iqXAzSWRzR8Fai6JbP6oMXO1bv3dHxnVmALn%2ByEBAAB%2BJChYAAAAJqNgAQAAmIyCBQAAYDIKFgAAgMkoWAAAACajYAEAAJiMggUAAGAyChYAAIDJKFgAAAAmo2ABAACYjIIFAABgMgoWAACAyShYAAAAJqNgAQAAmIyCBQAAYDIKFgAAgMkoWAAAACajYAEAAJiMggUAAGAyChYAAIDJKFgAAAAmo2ABAACYjIIFAABgMgoWAACAyShYAAAAJqNgAQAAmIyCBQAAYDIKFgAAgMkatWDt2LFDSUlJysrKqjX24Ycf6p577lHPnj01dOhQ5eTkeI1nZ2dr%2BPDh6tWrl1JTU7Vnzx7PWFVVlZ588kkNGDBAffv21YwZM3T%2B/HnP%2BPHjxzV16lT16dNHgwYN0gsvvCC32%2B0Z37lzp8aNG6fbb79dI0eO1IYNG3xeGwAAoCGNVrBeeuklPfvss2rfvn2tMZvNppkzZyojI0Offvqp5s6dq/nz5%2BvTTz%2BVJG3ZskUrV67UwoULtXPnTg0ZMkRpaWkqLy%2BXJC1ZskT79u1TTk6OPvjgAwUFBWn27Nme%2BTMyMtSmTRtt2bJF2dnZ2rp1q7KzsyVJZ8%2BeVXp6uiZOnKhdu3Zpzpw5mjt3rqdENbQ2AABAQxqtYIWGhiovL6/OguVwOPSv//qvuuuuuxQSEqL%2B/fvr1ltv9RSs3NxcjR07Vj169FDLli01ZcoUBQcHq6CgQG63W%2BvXr9e0adN0ww03KCoqSpmZmdq2bZvOnj0rm82mgwcPaubMmYqIiFD79u318MMPKzc3V5KUn5%2BvDh06aNy4cQoNDVW/fv00ZMgQ5eXlNbg2AACALyyNNfGkSZO%2Bc2zAgAEaMGCA579dLpeKiop0/fXXS5LsdrtGjBjhGQ8KClJcXJxsNpvi4%2BNVWlqqrl27esZvueUWtWzZUna7XYWFhWrbtq2ioqI84wkJCTpy5IjKyspkt9uVkJDgtZ/4%2BHht2rSpwbVHjhzpU/bCwkIVFRV5HbNYwhQbG%2BvT9b4ICfG/1%2BcsFt/2XJPNHzPWJ1BzSWTzR4GaSyKbPwrEXI1WsK7G4sWLFRYW5ik2TqfTqyBJUlRUlBwOh5xOpyQpMjLSazwyMtIzfuVYzVw14zVFrkZ0dLQcDkeDa/sqJydHK1as8DqWnp6ujIwMn%2BcIRFZr%2BFWdHxl5TSPtpHkFai6JbP4oUHNJZPNHgZSrWQuWYRhavHix8vPz9eqrryo0NLTec4OCgr7XuGEYklTv%2BPeduy4pKSkaPHiw1zGLJUwOh3nvcYWEBPvdb0Rf89dkKympkNtd3ci7ajqBmksimz8K1FwS2fxRY%2Ba62r/cm6XZClZ1dbVmz56tPXv26I033lC7du08Y1artdYdo%2BLiYnXu3FkxMTGSLt%2BNCgsL84yXlJQoJiZGLperzmuDgoJktVpltVo9d8FqOJ1OWa3WBtf2VWxsbK3HgUVFpXK5AucPw/dxtfnd7uqA/JoFai6JbP4oUHNJZPNHgZSr2R52Pvfcc/rf//3fWuVKkhITE2W32z3/7Xa7tW/fPvXo0UPt2rVTVFSU1/iXX36pixcvKjExUYmJiTp16pTXxzbYbDZ16tRJ4eHh6tatm/bu3eu13t69e9WjR48G1wYAAPBFsxSszz77TO%2B9957Wrl2r6OjoWuOpqanasGGDvvjiC1VUVGjVqlVq0aKFBg4cqJCQEE2YMEGrV6/W6dOn5XA4tHTpUg0dOlTXXXedEhIS1L17dy1ZskRlZWU6fPiwXn75ZaWmpkqSRo8erZMnTyo3N1dVVVXatm2btm3bpgkTJjS4NgAAgC8a7RFht27dJF3%2BDkHp8udLSZfvJr399tsqLS3VoEGDvK7p3bu3/vznP2vAgAF67LHHNGvWLBUVFalr165au3atWrZsKeny51xduHBBKSkpcrlcSkpK0ty5cz3zLF%2B%2BXPPmzdPgwYMVERGhMWPG6IEHHpAkXXvttVqzZo0WLlyoBQsW6KabbtKiRYsUFxcnSQ2uDQAA0JAgo%2BYNcDSqoqJSU%2BezWIJltYbrjj9sNnXexrQp806fzqvJ5nCUB8yzeClwc0lk80eBmksimz9qzFytW0eYOp%2BvAucDJwAAAH4kKFgAAAAmo2ABAACYjIIFAABgMgoWAACAyShYAAAAJqNgAQAAmIyCBQAAYDIKFgAAgMkoWAAAACajYAEAAJiMggUAAGAyChYAAIDJKFgAAAAmo2ABAACYjIIFAABgMgoWAACAyShYAAAAJqNgAQAAmIyCBQAAYDIKFgAAgMkoWAAAACajYAEAAJiMggUAAGAyChYAAIDJKFgAAAAmo2ABAACYjIIFAABgMgoWAACAyRq1YO3YsUNJSUnKysqqNZafn6/Ro0erZ8%2BeGjt2rLZv3%2B4Zq66u1pIlSzRkyBD17t1bU6ZM0bFjxzzjDodDjz76qJKSktS/f3/Nnj1bFRUVnnG73a4HH3xQvXr10rBhw7Ru3TrT1gYAAGhIoxWsl156Sc8%2B%2B6zat29fa2zfvn2aPXu2Zs6cqU8%2B%2BUSTJ0/WjBkzdPr0aUnSa6%2B9pvfff19r165VQUGBbrnlFk2fPl2GYUiS5syZo8rKSuXn52v9%2BvU6duyYFi1aJEmqrKzUI488or59%2B2rHjh1atmyZ1q1bp82bN5uyNgAAQEMarWCFhoYqLy%2BvzoKVl5en5ORkJScnKzQ0VKNGjVJcXJw2btwoScrNzdVDDz2kjh07Kjw8XJmZmTpy5Ih2796tc%2BfOaevWrcrKylJMTIxiY2OVlpamd955R5cuXVJBQYFcLpfS0tIUFhamhIQEjR8/Xrm5uT94bQAAAF9YGmviSZMmfeeY3W5XcnKy17H4%2BHjZbDZVVlbq0KFDSkhI8IyFh4fr5ptvls1mU2lpqUJCQtSlSxfPeEJCgi5cuKCvvvpKdrtdXbp0UUhIiNfcb7311g9e%2B7bbbvMpe2FhoYqKiryOWSxhio2N9el6X4SE%2BN/rcxaLb3uuyeaPGesTqLkksvmjQM0lkc0fBWKuRitY9XE6nYqKivI6FhUVpUOHDqm4uFiGYdQ57nA4FB0drVatWikoKMhrTLr8bpbT6VRkZKTXtdHR0XI6naqurv5Ba/sqJydHK1as8DqWnp6ujIwMn%2BcIRFZr%2BFWdHxl5TSPtpHkFai6JbP4oUHNJZPNHgZSrWQrWd/l2abqSYRj1jtd3/Q%2B51tfrvy0lJUWDBw/2OmaxhMnhKPd5joaEhAT73W9EX/PXZCspqZDbXd3Iu2o6gZpLIps/CtRcEtn8UWPmutq/3JulWQqW1WqtdUfI6XTKarUqOjpawcHBtcaLi4sVExOjmJgYlZaWyu12ex4DOp1OSfKMHz16tNa1NfP%2BkLV9FRsbW%2BtxYFFRqVyuwPnD8H1cbX63uzogv2aBmksimz8K1FwS2fxRIOVqloediYmJ2rt3r9cxm82mHj16KDQ0VJ07d5bdbveMlZSU6Ouvv1b37t0VHx8vwzB04MABr2sjIyPVoUMHJSYm6uDBg3K5XLXm/qFrAwAA%2BKLOglVaWtqoi06YMEEff/yxCgoKVFVVpby8PB09elT33HOPJCk1NVWvvvqqDh8%2BrLKyMi1evFjx8fHq1q2bYmJiNHz4cC1btkznz5/XmTNntHLlSo0bN04Wi0XJyclq1aqVVq1apYqKCu3evVt5eXlKTU39wWsDAAD4os5HhP3799fdd9%2Bt8ePH64477vheE9cUkpo7SVu2bJF0%2BW7RrbfeqsWLF2vp0qU6ceKEOnXqpDVr1qh169aSpIkTJ%2BrcuXOaOnWqysvL1bNnT6%2BXxp955hnNmzdPo0aNksVi0V133eX5MNMWLVpo9erVmj9/vrKzs9W6dWtlZWVp4MCBkvSD1wYAAGhIkFHHJ2hu2LBB%2Bfn5%2BuSTT9SuXTtNmDBB995771W9hwRvRUXm3hW0WIJltYbrjj9sNnXexrQp806fzqvJ5nCUB8yzeClwc0lk80eBmksimz9qzFytW0eYOp%2Bv6nxEOGbMGK1bt07bt2/XL37xC3344YcaOHCgsrKytGvXrqbeIwAAgF%2Bp9yX3mJgYPfjgg3rjjTe0YMECffTRR5o8ebJGjBihDz/8sKn2CAAA4Ffq/ZiG8%2BfPa/369Xr77bf19ddf684771RKSooKCwv11FNP6eTJk3r44Yebaq8AAAB%2Boc6CtWPHDuXm5mrr1q2Kjo7W/fffrwkTJqht27aec7p27ar09HQKFgAAwBXqLFi/%2Bc1v1KdPHy1evFh33XWXLJbap3Xv3l0REc3z4hgAAMCPWZ0Fa/PmzWrfvr0uXrzoKVdlZWVq1aqV13l//etfG3%2BHAAAAfqbOl9yDg4M1YsQIbd261XPsrbfe0ogRI3T8%2BPEm2xwAAIA/qrNg/du//Zu6dOmiXr16eY7dc8896t69uxYsWNBkmwMAAPBHdT4i/Pzzz1VQUKBrrrnGc%2By6667TU089pUGDBjXZ5gAAAPxRnXewDMPQxYsXax0vKyuT2%2B1u9E0BAAD4szoL1s9%2B9jM98cQTOnDggMrKylRSUqJ//vOfevzxxz0/0w8AAAB1q/MR4e9//3ulp6drzJgxCgoK8hy/4447NHfu3CbbHAAAgD%2Bqs2Bde%2B21evPNN3XgwAEdO3ZMISEh%2Bpd/%2BRd16tSpqfcHAADgd%2Br9UTlxcXGKi4trqr0AAAAEhDoLls1m07PPPqsvv/xSlZWVtcb379/f6BsDAADwV3UWrCeffFJhYWGaMWOGwsLCmnpPAAAAfq3OgnX06FF99NFHtX40DgAAABpW58c03HjjjU29DwAAgIBRZ8HKysrSc889p7KysqbeDwAAgN%2Br8xHhqlWrdOLECW3YsEHR0dEKDvbuYR999FGTbA4AAMAf1VmwBg8e3NT7AAAACBh1Fqzp06c39T4AAAACRp3vYEnSP//5Tz3xxBP65S9/KUmqrq7WX//61ybbGAAAgL%2Bqs2C9//77%2BuUvf6ni4mJ98cUXkqQzZ85o7ty5ysvLa9INAgAA%2BJs6C9aaNWu0ePFirV692vPDnm%2B88UYtX75cr7zySpNuEAAAwN/UWbC%2B/vprDRs2TJI8BUuS%2BvTpoxMnTjTNzgAAAPxUnQXLarXq/PnztY4fOXJELVu2bPRNAQAA%2BLM6C1bfvn31hz/8QYcPH5YkOZ1OffTRR8rMzNTAgQObcn8AAAB%2Bp86C9cQTT6iiokIjR45UVVWV%2BvXrp1//%2Btdq27atZs2aZdri%2B/fv16RJk3THHXfozjvv1MyZMz13znbu3Klx48bp9ttv18iRI7Vhwwava7OzszV8%2BHD16tVLqamp2rNnj2esqqpKTz75pAYMGKC%2BfftqxowZXnfkjh8/rqlTp6pPnz4aNGiQXnjhBbndbs94Q2sDAADUp86CFR0drddee00bNmzQ0qVLtXLlSm3atEmrV69WVFSUKQu73W5NnTpV3bp100cffaT33ntP586d07x583T27Fmlp6dr4sSJ2rVrl%2BbMmaO5c%2Bd6StSWLVu0cuVKLVy4UDt37tSQIUOUlpam8vJySdKSJUu0b98%2B5eTk6IMPPlBQUJBmz57tWTsjI0Nt2rTRli1blJ2dra1btyo7O1uSGlwbAACgId/5OViSFBcXpxEjRmjw4MHq0KGDqQsXFhaqqKhIY8eOVcuWLXXttddq%2BPDh2r9/v/Lz89WhQweNGzdOoaGh6tevn4YMGeL5iIjc3FyNHTtWPXr0UMuWLTVlyhQFBweroKBAbrdb69ev17Rp03TDDTcoKipKmZmZ2rZtm86ePSubzaaDBw9q5syZioiIUPv27fXwww8rNzdXkhpcGwAAoCF1fpJ7XFyc13cPXmn//v0/eOHrr79e8fHxevPNN5WZmanKykp98MEHGjhwoOx2uxISErzOj4%2BP16ZNmyRJdrtdI0aM8IwFBQUpLi5ONptN8fHxKi0tVdeuXT3jt9xyi1q2bCm73a7CwkK1bdvW605cQkKCjhw5orKysgbXBgAAaEidBWvu3LleBcvtduvIkSPavn270tLSTFk4ODhYy5cv1%2BTJk/Xqq69Kknr37q3HH39c06ZN0/XXX%2B91fnR0tBwOh6TLL91f%2BagyKipKDodDTqdTkhQZGek1HhkZ6Rm/cqxmrprx%2Btb2Rc3duW%2BzWMIUGxvr8xwNCQmp9%2Bbjj5LF4tuea7L5Y8b6BGouiWz%2BKFBzSWTzR4GYq86ClZqaWufJ//M//6OcnBzdd999P3jhixcvKi0tTcOHD9cjjzyiCxcu6Omnn9bMmTPrPN8wjHrvqv2QccMwJKne8frmvlJOTo5WrFjhdSw9PV0ZGRk%2BzxGIrNbwqzo/MvKaRtpJ8wrUXBLZ/FGg5pLI5o8CKVedBeu79O7dW9OmTTNl4V27dunEiRN67LHHFBL6AQtbAAAgAElEQVQSooiICGVkZOjee%2B/Vz372M8%2BdqBpOp1NWq1XS5c/puvKOUnFxsTp37qyYmBhJl%2B9GhYWFecZLSkoUExMjl8tV57VBQUGyWq2yWq31ru2LlJQUDR482OuYxRImh6Pc5zkaEhIS7He/EX3NX5OtpKRCbnd1I%2B%2Bq6QRqLols/ihQc0lk80eNmetq/3JvlqsqWFu3bpXFclWXfCe3263q6mrP3SNJcrlckqSkpCS98847Xufv3btXPXr0kCQlJibKbrd77qS53W7t27dP48aNU7t27RQVFSW73a62bdtKkr788ktdvHhRiYmJKiws1KlTp3T%2B/HlPGbPZbOrUqZPCw8PVrVs3vf3229%2B5ti9iY2NrPQ4sKiqVyxU4fxi%2Bj6vN73ZXB%2BTXLFBzSWTzR4GaSyKbPwqkXHU%2B7Ozfv3%2Btf3r37q3p06d7vVz%2BQ/Ts2VNhYWF68cUXVVFRIYfDodWrV6t379669957dfLkSeXm5qqqqkrbtm3Ttm3bNGHCBEmXH2Fu2LBBX3zxhSoqKrRq1Sq1aNFCAwcOVEhIiCZMmKDVq1fr9OnTcjgcWrp0qYYOHarrrrtOCQkJ6t69u5YsWaKysjIdPnxYL7/8suex6OjRo%2BtdGwAAoCF13o5KSUmp9c5RaGioOnbsWOvR1/dltVr1pz/9SS%2B88IIGDBigFi1a6Kc//amWLFmia6%2B9VmvWrNHChQu1YMEC3XTTTVq0aJHi4uIkSQMGDNBjjz2mWbNmqaioSF27dtXatWs9P8YnIyNDFy5cUEpKilwul5KSkjR37lzP2suXL9e8efM0ePBgRUREaMyYMXrggQckqcG1AQAAGhJkfPsZHRpNUVGpqfNZLMGyWsN1xx82mzpvY9qUeadP59VkczjKA%2BZWsRS4uSSy%2BaNAzSWRzR81Zq7WrSNMnc9Xdd7BuvI74L5LUFCQ0tPTTd0QAACAv6uzYL3zzjs6d%2B6cqqqqdM0118hisai0tFQtW7ZUq1atvM6lYAEAAHirs2A9/vjj%2Bq//%2Bi/99re/VZs2bSRd/gHJixYt0s9//nP9/Oc/b9JNAgAA%2BJM6C9Yf//hHvfXWW16flt6uXTvNmzdPKSkpFCwAAIB61PkxDadPn1ZISEit4z/5yU907ty5Rt8UAACAP6uzYHXu3FlPPPGE7Ha7SkpKVFZWpgMHDuj3v/%2B9unTp0tR7BAAA8Ct1PiKcP3%2B%2BHn/8cd1///2ez8MyDEM33nij/uM//qNJNwgAAOBv6ixYCQkJ2rRpk/bu3avTp0/LMAy1adNGiYmJCg4OnJ90DQAA0Bjq/cGCUVFRKi0tVb9%2B/ZpqPwAAAH6vzttR58%2Bf15QpUzR06FBNnTpVklRUVKRRo0bpzJkzTbpBAAAAf1NnwXr%2B%2BedVXV2t3NxczyPBiIgIJSQk6Pnnn2/SDQIAAPibOh8Rbt%2B%2BXe%2B%2B%2B66uv/56z0vuLVu21OzZszV69Ogm3SAAAIC/qfMO1qVLlxQbG1vreMuWLVVWVtbomwIAAPBndRasjh076sMPP6x1PCcnRx06dGj0TQEAAPizOh8RTp48Wb/97W%2B1adMmud1uzZ8/X3a7XXv27NGyZcuaeo8AAAB%2Bpc47WHfffbfWrFkjl8ulm2%2B%2BWZ9//rnatm2rN998U8OGDWvqPQIAAPiVOu9g2Ww29evXj8%2B/AgAA%2BB7qvIM1adIkud3upt4LAABAQKizYI0cOVLZ2dkyDKOp9wMAAOD36nxEeO7cOW3dulUvvfSSbrzxRrVo0cJr/M0332ySzQEAAPijOguW1WpVcnJyU%2B8FAAAgIHgVrIyMDC1fvlwLFizwHFu%2BfLkyMjKafGMAAAD%2ByusdrG3bttU64U9/%2BlOTbQYAACAQ1PmS%2B7fxojsAAMDVabBg1fywZwAAAPimwYIFAACAq0PBAgAAMJnXdxFeunRJjz/%2BuBo6tmTJksbfGQAAgJ/yKli9evVSYWGhGjoGAACA7%2BZVsF577bUm38CqVav0%2Buuvq6ysTLfddpvmz5%2Bvdu3aaefOnfr3f/93ffXVV7rhhhs0depUjRkzxnNddna23njjDZ07d0633nqrZs%2Bere7du0uSqqqq9Oyzz2rbtm26ePGievfuraeffloxMTGSpOPHj%2BuZZ57Rnj17FBYWprvvvlszZ85USEiIJDW4NgAAQH2a9R2s119/XRs2bNArr7yiHTt2qGPHjsrOztbZs2eVnp6uiRMnateuXZozZ47mzp2rPXv2SJK2bNmilStXauHChdq5c6eGDBmitLQ0lZeXS7r8CHPfvn3KycnRBx98oKCgIM2ePduzbkZGhtq0aaMtW7YoOztbW7duVXZ2tiQ1uDYAAEBDmrVg/fnPf1ZWVpY6duyoiIgIPfnkk3ryySeVn5%2BvDh06aNy4cQoNDVW/fv00ZMgQ5eXlSZJyc3M1duxY9ejRQy1bttSUKVMUHBysgoICud1urV%2B/XtOmTdMNN9ygqKgoZWZmatu2bTp79qxsNpsOHjyomTNnKiIiQu3bt9fDDz%2Bs3NxcSWpwbQAAgIbU%2BbMIm8LZs2d14sQJlZWVacSIEfrmm2/Up08fzZs3T3a7XQkJCV7nx8fHa9OmTZIku92uESNGeMaCgoIUFxcnm82m%2BPh4lZaWqmvXrp7xW265RS1btpTdbldhYaHatm2rqKgoz3hCQoKOHDmisrKyBtf2RWFhoYqKiryOWSxhio2N9XmOhoSE%2BN83gFosvu25Jps/ZqxPoOaSyOaPAjWXRDZ/FIi5mq1gnTlzRpK0adMmvfzyyzIMQ5mZmXrqqad04cIFXX/99V7nR0dHy%2BFwSJKcTqdXQZKkqKgoORwOOZ1OSVJkZKTXeGRkpGf8yrGauWrG61vbFzk5OVqxYoXXsfT09P/zP9PRag2/qvMjI69ppJ00r0DNJZHNHwVqLols/iiQcjVbwar5ETy//vWvPYVm%2BvTpmjp1qvr161fn%2BfV9qvwPGa/ZS33jV/OJ9ikpKRo8eLDXMYslTA5Huc9zNCQkJNjvfiP6mr8mW0lJhdzu6kbeVdMJ1FwS2fxRoOaSyOaPGjPX1f7l3izNVrCuu%2B46Sd53mm688UZVV1fr0qVLnjtRNZxOp6xWqyTJarXWuqNUXFyszp07e75T0OFwKCwszDNeUlKimJgYuVyuOq8NCgqS1WqV1Wqtd21fxMbG1nocWFRUKpcrcP4wfB9Xm9/trg7Ir1mg5pLI5o8CNZdENn8USLma7WFnmzZtFBMTo/3793uOnTx5Uj/5yU%2BUnJysvXv3ep2/d%2B9e9ejRQ5KUmJgou93uGXO73dq3b5969Oihdu3aKSoqymv8yy%2B/1MWLF5WYmKjExESdOnVK58%2Bf94zbbDZ16tRJ4eHh6tatW71rAwAANKTZCpbFYlFKSopWr16tY8eO6ZtvvtHKlSs1evRo3XfffTp58qRyc3NVVVWlbdu2adu2bZowYYIkKTU1VRs2bNAXX3yhiooKrVq1Si1atNDAgQMVEhKiCRMmaPXq1Tp9%2BrQcDoeWLl2qoUOH6rrrrlNCQoK6d%2B%2BuJUuWqKysTIcPH9bLL7%2Bs1NRUSdLo0aPrXRsAAKAhzfaIUJKmTZum4uJijR8/XpcuXdLw4cM1Z84chYeHa82aNVq4cKEWLFigm266SYsWLVJcXJwkacCAAXrsscc0a9YsFRUVqWvXrlq7dq1atmwp6fLnXF24cEEpKSlyuVxKSkrS3LlzPesuX75c8%2BbN0%2BDBgxUREaExY8bogQcekCRde%2B219a4NAADQkCCj5g1vNKqiolJT57NYgmW1huuOP2w2dd7GtCnzTp/Oq8nmcJQHzLN4KXBzSWTzR4GaSyKbP2rMXK1bR5g6n68C5wMnAAAAfiQoWAAAACajYAEAAJiMggUAAGAyChYAAIDJKFgAAAAmo2ABAACYjIIFAABgMgoWAACAyShYAAAAJqNgAQAAmIyCBQAAYDIKFgAAgMkoWAAAACajYAEAAJiMggUAAGAyChYAAIDJKFgAAAAmo2ABAACYjIIFAABgMgoWAACAyShYAAAAJqNgAQAAmIyCBQAAYDIKFgAAgMkoWAAAACajYAEAAJiMggUAAGCyH0XBeu6559SlSxfPf%2B/cuVPjxo3T7bffrpEjR2rDhg1e52dnZ2v48OHq1auXUlNTtWfPHs9YVVWVnnzySQ0YMEB9%2B/bVjBkzdP78ec/48ePHNXXqVPXp00eDBg3SCy%2B8ILfb7fPaAAAADWn2grV//36vEnP27Fmlp6dr4sSJ2rVrl%2BbMmaO5c%2Bd6StSWLVu0cuVKLVy4UDt37tSQIUOUlpam8vJySdKSJUu0b98%2B5eTk6IMPPlBQUJBmz57tmT8jI0Nt2rTRli1blJ2dra1btyo7O9untQEAAHzRrAWrurpac%2BfO1a9%2B9SvPsfz8fHXo0EHjxo1TaGio%2BvXrpyFDhigvL0%2BSlJubq7Fjx6pHjx5q2bKlpkyZouDgYBUUFMjtdmv9%2BvWaNm2abrjhBkVFRSkzM1Pbtm3T2bNnZbPZdPDgQc2cOVMRERFq3769Hn74YeXm5vq0NgAAgC%2BatWC9%2BeabatGihe69917PMbvdroSEBK/z4uPjtXfv3jrHg4KCFBcXJ5vNpmPHjqm0tFRdu3b1jN9yyy1q2bKl7Ha77Ha72rZtq6ioKM94QkKCjhw5orKysgbXBgAA8IWluRY%2Bd%2B6cXnzxRb366qtex51Op66//nqvY9HR0XI4HJ7xbxckSYqKipLD4ZDT6ZQkRUZGeo1HRkZ6xq8cq5mrZry%2BtX1VWFiooqIir2MWS5hiY2Ovap76hIQ0%2B9Pdq2ax%2BLbnmmz%2BmLE%2BgZpLIps/CtRcEtn8USDmaraCtWDBAt1///3q3LmzTpw4Ue%2B5hmEoKCioUcYNw5Ckesfrm7suOTk5WrFihdex9PR0ZWRkXNU8gcZqDb%2Bq8yMjr2mknTSvQM0lkc0fBWouiWz%2BKJByNUvB2rVrlz7//HM9%2B%2ByztcasVqvnTlQNp9Mpq9XqGb/yjlJxcbE6d%2B6smJgYSZfvRoWFhXnGS0pKFBMTI5fLVee1QUFBslqtDa7tq5SUFA0ePNjrmMUSJoej/KrmqU9ISLDf/Ub0NX9NtpKSCrnd1Y28q6YTqLkksvmjQM0lkc0fNWauq/3LvVmapWC99957%2BuabbzRw4EBJ//8uUp8%2BfTR58mTl5%2Bd7nb9371716NFDkpSYmCi73a777rtPkuR2u7Vv3z6NGzdO7dq1U1RUlOddK0n68ssvdfHiRSUmJqqwsFCnTp3S%2BfPnPWXMZrOpU6dOCg8PV7du3fT2229/59q%2Bio2NrfU4sKioVC5X4Pxh%2BD6uNr/bXR2QX7NAzSWRzR8Fai6JbP4okHI1y8POWbNm6YMPPtC7776rd999V2vXrpUkvfvuuxo9erROnjyp3NxcVVVVadu2bdq2bZsmTJggSUpNTdWGDRv0xRdfqKKiQqtWrVKLFi00cOBAhYSEaMKECVq9erVOnz4th8OhpUuXaujQobruuuuUkJCg7t27a8mSJSorK9Phw4f18ssvKzU1VZIaXBsAAMAXzXIHKyoqyutFdZfLJUlq06aNJGnNmjVauHChFixYoJtuukmLFi1SXFycJGnAgAF67LHHNGvWLBUVFalr165au3atWrZsKeny51xduHBBKSkpcrlcSkpK0ty5cz1rLV%2B%2BXPPmzdPgwYMVERGhMWPG6IEHHpAkXXvttfWuDQAA4Isgo%2Bb5HBpVUVGpqfNZLMGyWsN1xx82mzpvY9qUeadP59VkczjKA%2BZWsRS4uSSy%2BaNAzSWRzR81Zq7WrSNMnc9XgfP9kAAAAD8SFCwAAACTUbAAAABMRsECAAAwGQULAADAZBQsAAAAk1GwAAAATEbBAgAAMBkFCwAAwGQULAAAAJNRsAAAAExGwQIAADAZBQsAAMBkFCwAAACTUbAAAABMRsECAAAwGQULAADAZBQsAAAAk1GwAAAATEbBAgAAMBkFCwAAwGQULAAAAJNRsAAAAExGwQIAADAZBQsAAMBkFCwAAACTUbAAAABMRsECAAAwGQULAADAZM1asE6ePKn09HT16dNHffv21e9%2B9zuVlJRIkux2ux588EH16tVLw4YN07p167yuzc/P1%2BjRo9WzZ0%2BNHTtW27dv94xVV1dryZIlGjJkiHr37q0pU6bo2LFjnnGHw6FHH31USUlJ6t%2B/v2bPnq2KigrPeENrAwAA1KdZC9a0adMUGRmprVu3auPGjfrqq6/0wgsvqLKyUo888oj69u2rHTt2aNmyZVq3bp02b94sSdq3b59mz56tmTNn6pNPPtHkyZM1Y8YMnT59WpL02muv6f3339fatWtVUFCgW265RdOnT5dhGJKkOXPmqLKyUvn5%2BVq/fr2OHTumRYsWSVKDawMAADSk2QpWSUmJEhIS9Pjjjys8PFytW7fWmDFj9Omnn6qgoEAul0tpaWkKCwtTQkKCxo8fr9zcXElSXl6ekpOTlZycrNDQUI0aNUpxcXHauHGjJCk3N1cPPfSQOnbsqPDwcGVmZurIkSPavXu3zp07p61btyorK0sxMTGKjY1VWlqa3nnnHV26dKnBtQEAABpiaa6FIyMjtWDBAq9jp06dUmxsrOx2u7p06aKQkBDPWHx8vN566y1Jlx/hJScne10bHx8vm82myspKHTp0SAkJCZ6x8PBw3XzzzbLZbCotLVVISIi6dOniGU9ISNCFCxf01VdfNbi2LwoLC1VUVOR1zGIJU2xsrM9zNCQkxP9en7NYfNtzTTZ/zFifQM0lkc0fBWouiWz%2BKBBzNVvBupLNZtPrr7%2BuVatWadOmTYqMjPQaj46OltPpVHV1tZxOp6KiorzGo6KidOjQIRUXF8swjDrHHQ6HoqOj1apVKwUFBXmNSZffzXI6nfWuHRzc8C9%2BTk6OVqxY4XUsPT1dGRkZDX8hApjVGn5V50dGXtNIO2legZpLIps/CtRcEtn8USDl%2BlEUrM8%2B%2B0xpaWl6/PHHlZSUpE2bNtU6xzAMr1JUl/rGf8j1vlz7bSkpKRo8eLDXMYslTA5Huc9zNCQkJNjvfiP6mr8mW0lJhdzu6kbeVdMJ1FwS2fxRoOaSyOaPGjPX1f7l3izNXrD%2B/ve/a%2BbMmXryySc1ZswYSVJMTIyOHj3qdV5xcbGio6MVHBwsq9Uqh8PhNe50OmW1Wj3nXDleXFysmJgYxcTEqLS0VG632/MY0Ol0etZtaG1fxMbG1nocWFRUKpcrcP4wfB9Xm9/trg7Ir1mg5pLI5o8CNZdENn8USLma9WHnP//5T/3ud7/TH//4R0%2B5kqTExEQdPHhQLpfLc8xms6lHjx6e8b1793rNVTMeGhqqzp07y263e8ZKSkr09ddfq3v37oqPj5dhGDpw4IDXtZGRkerQoUODawMAADSk2QqWy%2BXSnDlzNHPmTPXv399rLDk5Wa1atdKqVatUUVGh3bt3Ky8vT6mpqZKkCRMm6OOPP1ZBQYGqqqqUl5eno0eP6p577pEkpaam6tVXX9Xhw4dVVlamxYsXKz4%2BXt26dVNMTIyGDx%2BuZcuW6fz58zpz5oxWrlypcePGyWKxNLg2AABAQ4KMmg%2BHamKffvqpfvGLX6hFixa1xjZv3qzy8nLNnz9f%2B/btU%2BvWrTVp0iQ98MADnnM%2B/PBDrVixQidOnFCnTp3029/%2BVr1795Z0%2BZ2pFStW6J133lF5ebl69uypefPmqU2bNpKk0tJSzZs3T7t27ZLFYtFdd92lWbNmefby5Zdf1rv291FUVPqDrr%2BSxRIsqzVcd/zBfz6fa1PmnT6dV5PN4SgPmFvFUuDmksjmjwI1l0Q2f9SYuVq3jjB1Pl81W8H6v4aCRcEK1FwS2fxRoOaSyOaPArFgBc4HTgAAAPxIULAAAABMRsECAAAwGQULAADAZBQsAAAAk1GwAAAATEbBAgAAMBkFCwAAwGQULAAAAJNRsAAAAExGwQIAADAZBQsAAMBkFCwAAACTUbAAAABMRsECAAAwGQULAADAZBQsAAAAk1GwAAAATEbBAgAAMBkFCwAAwGQULAAAAJNRsAAAAExGwQIAADAZBQsAAMBkFCwAAACTUbAAAABMRsECAAAwGQULAADAZBQsAAAAk1Gw6nD8%2BHFNnTpVffr00aBBg/TCCy/I7XY397YAAICfoGDVISMjQ23atNGWLVuUnZ2trVu3Kjs7u7m3BQAA/AQF6wo2m00HDx7UzJkzFRERofbt2%2Bvhhx9Wbm5uc28NAAD4CUtzb%2BDHxm63q23btoqKivIcS0hI0JEjR1RWVqZWrVo1OEdhYaGKioq8jlksYYqNjTVtnyEh/teNLRbf9lyTzR8z1idQc0lk80eBmksimz8KxFwUrCs4nU5FRkZ6HaspWw6Hw6eClZOToxUrVngdmz59umbMmGHaPgsLC/XKK%2Bv010dTTC1uPwY12VJSAitboOaSyOaPAjWXRDZ/FIi5AqcqNiLDMCRJQUFBPp2fkpKi9evXe/2TkpJi6p6Kioq0YsWKWnfKAkGgZgvUXBLZ/FGg5pLI5o8CMRd3sK4QExMjh8Phday4uFhBQUGyWq0%2BzREbGxswDRwAAFw97mBdITExUadOndL58%2Bc9x2w2mzp16qTw8PBm3BkAAPAXFKwrJCQkqHv37lqyZInKysp0%2BPBhvfzyy0pNTW3urQEAAD8RMm/evHnNvYkfm5/97GfatGmTnn/%2BeX344YcaM2aMpkyZ4vM7WE0lPDxcP/3pTwPyzlqgZgvUXBLZ/FGg5pLI5o8CLVeQUfMGNwAAAEzBI0IAAACTUbAAAABMRsECAAAwGQULAADAZBQsAAAAk1GwAAAATEbBAgAAMBkFCwAAwGQULAAAAJNRsPzQ8ePHNXXqVPXp00eDBg3SCy%2B8ILfb3dzb8smOHTuUlJSkrKysWmP5%2BfkaPXq0evbsqbFjx2r79u2eserqai1ZskRDhgxR7969NWXKFB07dqwpt96gkydPKj09XX369FHfvn31u9/9TiUlJZIku92uBx98UL169dKwYcO0bt06r2vry97cDhw4oF/96lfq1auXkpKSlJmZqaKiIknSzp07NW7cON1%2B%2B%2B0aOXKkNmzY4HVtdna2hg8frl69eik1NVV79uxpjggNeu6559SlSxfPf/t7rkGDBikxMVHdunXz/DN//nxJ/p9NklatWqX%2B/fvrtttu00MPPaTjx49L8u9s//jHP7x%2BvWr%2B6dKli06ePOnX/w/Zv3%2B/Jk2apDvuuEN33nmnZs6cqfPnz0vy71%2BzBhnwO2PGjDHmzJljlJSUGEePHjWGDRtmrFu3rrm31aC1a9caw4YNMyZOnGhkZmZ6jdntdiMxMdEoKCgwKisrjY0bNxrdu3c3Tp06ZRiGYWRnZxuDBg0yDh06ZJSVlRnPPvusMWrUKKO6uro5otTpnnvuMWbNmmWUlZUZhYWFxv3332/8/ve/NyoqKoz%2B/fsbL774olFeXm7Y7XajT58%2BxqZNmwzDaDh7c6qqqjL69etnrFixwqiqqjKKioqMBx54wJg2bZpx5swZo0ePHkZubq5RWVlpfPzxx0b37t2N3bt3G4ZhGH/729%2BMO%2B64w/jiiy%2BMiooK46WXXjKSkpKMsrKyZk7lbd%2B%2BfUbv3r2NW2%2B91TAMIyBy3X777cZnn31W63ggZPvP//xPY9iwYcahQ4eMkpIS45lnnjGeeeaZgMh2pb/85S/GxIkT/fr/IS6Xy7jzzjuNhQsXGhUVFca5c%2BeMX/3qV8aMGTMC8tfs2yhYfmbPnj1GfHy84XQ6PcfeeOMNY/jw4c24K9%2B88sorRklJifHEE0/UKlhPP/20kZ6e7nVswoQJxpo1awzDMIyRI0car7zyimesrKzM6Nq1q/H55583/sZ9UFxcbMyaNcsoKiryHHvttdeMYcOGGZs2bTL69u1ruFwuz9jixYuNyZMnG4bRcPbm5HQ6jbfeesu4dOmS59grr7xiDB061Fi3bp0xZswYr/OzsrKMJ5980jAMw/jNb35jPPfcc56x6upqo3///kZ%2Bfn7TbN4HbrfbGD9%2BvLFixQpPwfL3XC6Xy%2BjSpYtx6NChWmP%2Bns0wDGPw4MGeYvFtgZDt24qKiow%2BffoY%2B/fv9%2Bv/h5w6dcq49dZbvX4//uUvfzHuuuuugPs1uxKPCP2M3W5X27ZtFRUV5TmWkJCgI0eOqKysrBl31rBJkyYpIiKizjG73a6EhASvY/Hx8bLZbKqsrNShQ4e8xsPDw3XzzTfLZrM16p59FRkZqQULFui6667zHDt16pRiY2Nlt9vVpUsXhYSEeMbi4%2BO1d%2B9eSfVnb25RUVEaP368LBaLJOnYsWPasGGDRowY8Z37/q5cQUFBiouL%2B1HkqvHmm2%2BqRYsWuvfeez3H/D1XSUmJDMPQiy%2B%2BqAEDBuhnP/uZ5s6dq/Lycr/PdvbsWZ04cUJlZWUaMWKE%2BvTpo4yMDJ0/f97vs11p%2BfLlGjZsmOLi4vz6/yHXX3%2B94uPj9eabb6q8vFzffPONPvjgAw0cODDgfs2uRMHyM06nU5GRkV7HasqWw%2BFoji2Zwul0epVG6XIuh8Oh4uJiGYbxneM/RjabTa%2B//rrS0tLq/DWLjo6W0%2BlUdXV1vdl/LE6ePKnExEQNHz5c/6%2BduwtpMorDAP539EFE0XYz6QO6UBFay635wS7UWTCKhMgkqOWNlYQhlfaBUHkRhARF8ybowhuFqAiSwkbEKgjBygWr1sAkajaRKTNhOef2dCF7UdwyaDRfeX6wi51zBufhjMOf9%2BMYjUZpampKmys576WeKxQKSUdHh1y5cmVeu9pzTU9Py7Zt28RsNovL5ZLOzk4ZGBiQtrY21WcbGRkREZHe3l7p7OyUR48eyejoqFy%2BfFn12eYaGRmRnp4eOX78uIik/0%2BqYQ/RaDTidDrF7XaL2WwWq9UqMzMz0tzcvKzWLBUWWMsAABGZre6Xmz9lArAkM%2BoXkuUAAAUTSURBVL97907q6%2BulublZrFZryjF/M/ellG3Tpk3i9Xrl6dOnMjQ0JOfOnUs5brFcS2nNrl27JjU1NZKfn7/oWDXl0uv18vDhQ6mrq5M1a9ZIXl6etLS0yJMnTyQWiy0Yr6Zsyb3u2LFjotfrJTc3V06dOiXPnz9PO14t2ebq6uqS8vJy2bJlS9oxatlDpqen5eTJk2K32%2BXt27fy6tUrWb9%2BvbS0tKQcr9Y1S4UFlsrodLoF1fvExITk5OSIVqvN0qz%2BnVarXZArHA6LVquVDRs2iEajSZlbp9P9z2kuyu12y4kTJ6S1tVXq6upEJP2aJXP9KftSkpOTI1u3bpUzZ87I48ePZcWKFRIOh%2BeNmTvvVLkmJiaWRK6%2Bvj7xeDzS2Ni4oE%2Br1ao2VzqbN2%2BWeDwuGo1G1dmSt%2BDnXvXYuHGjJBIJicViqs42V29vr%2BzevVv5ruY9pK%2BvTwKBgJw9e1bWrVsner1empqa5NmzZ6r/Py6GBZbKGAwG%2BfHjh/KKq8js7ai8vDxZu3ZtFmf2bwwGg3LfPcnr9cqOHTtk9erVkp%2BfLx8/flT6fv78Kd%2B%2BfROj0fi/p5rWwMCAnD9/Xm7duiX79%2B9X2g0Gg/j9fpmZmVHaktmS/emyZ9vr16/FbrdLIpFQ2jSa2W3DarUumPeHDx/m5Zq7ZvF4XD59%2BrQkcvX09MjY2JhUVlZKaWmpHDhwQERESktLpaCgQLW5RGaP1bh%2B/fq8ti9fvsiqVaukoqJC1dlyc3NFp9OJz%2BdT2oaHh2XlypWqz5b0%2BfNnCQQCUl5errSpeQ%2BJx%2BOSSCSUq48iouRQ8x7yV/73U/X072pra9Ha2orJyUkMDg6iqqoKXV1d2Z7WX0v1FqHf78f27dvhdrsxNTWF%2B/fvw2QyYXR0FMDsWyeVlZUYHBzE5OQkLl26hJqammxMP6VYLIY9e/bg7t27C/qi0ShsNhucTicikQjev38Pi8UCt9sNYPHs2RQOh1FWVob29nZEIhGMjY2hvr4ehw8fRigUgslkwr179zA1NYUXL17AaDTC5/MBAF6%2BfImdO3fC4/EgEomgo6MDFRUV%2BPXrV5ZTzeYKBoPKx%2BPxoKCgAMFgEMPDw6rNBcwexVBUVIQ7d%2B4gGo1iaGgI%2B/btw9WrV1W9Zkk3b97Erl278PXrV4RCIRw6dAgXL15cFtkA4MGDB7BYLPPa1LyHjI%2BPo6SkBDdu3EAkEsH4%2BDgaGxtx5MiRZbNm6bDAUqFgMIiGhgYUFxejqqoKTqdzSZ0HlY7BYIDBYEBhYSEKCwuV70kulwvV1dUwmUyora1Ff3%2B/0pdIJOB0OmGz2VBSUoKGhgYEg8FsxEjpzZs3KCgoUDLN/QQCAfj9fjgcDpjNZtjtdnR3d8/7/Z%2ByZ5vP54PD4YDRaERZWRlOnz6NkZERAEB/fz8OHjwIk8mE6upquFyueb/t7u6G3W6H2WzG0aNH4ff7sxFhUd%2B/f1eOaQDUn6u/vx%2B1tbUoKiqCzWZDe3s7otGo0qfmbNFoFG1tbSguLkZRUREuXLignIuk9mwAcPv2bezdu3dBu5r3EK/XC4fDAYvFAqvVuiz3kFRygDnX7YiIiIjon/EZLCIiIqIMY4FFRERElGEssIiIiIgyjAUWERERUYaxwCIiIiLKMBZYRERERBnGAouIiIgow1hgEREREWUYCywiIiKiDGOBRURERJRhLLCIiIiIMowFFhEREVGGscAiIiIiyrDfSQrzhSRrvFwAAAAASUVORK5CYII%3D\"/>\n",
       "        </div>\n",
       "        <div role=\"tabpanel\" class=\"tab-pane col-md-12\" id=\"common-6625227732699586289\">\n",
       "            \n",
       "<table class=\"freq table table-hover\">\n",
       "    <thead>\n",
       "    <tr>\n",
       "        <td class=\"fillremaining\">Value</td>\n",
       "        <td class=\"number\">Count</td>\n",
       "        <td class=\"number\">Frequency (%)</td>\n",
       "        <td style=\"min-width:200px\">&nbsp;</td>\n",
       "    </tr>\n",
       "    </thead>\n",
       "    <tr class=\"\">\n",
       "        <td class=\"fillremaining\">1</td>\n",
       "        <td class=\"number\">1029474</td>\n",
       "        <td class=\"number\">66.8%</td>\n",
       "        <td>\n",
       "            <div class=\"bar\" style=\"width:100%\">&nbsp;</div>\n",
       "        </td>\n",
       "</tr><tr class=\"\">\n",
       "        <td class=\"fillremaining\">2</td>\n",
       "        <td class=\"number\">186587</td>\n",
       "        <td class=\"number\">12.1%</td>\n",
       "        <td>\n",
       "            <div class=\"bar\" style=\"width:18%\">&nbsp;</div>\n",
       "        </td>\n",
       "</tr><tr class=\"\">\n",
       "        <td class=\"fillremaining\">3</td>\n",
       "        <td class=\"number\">76127</td>\n",
       "        <td class=\"number\">4.9%</td>\n",
       "        <td>\n",
       "            <div class=\"bar\" style=\"width:8%\">&nbsp;</div>\n",
       "        </td>\n",
       "</tr><tr class=\"\">\n",
       "        <td class=\"fillremaining\">4</td>\n",
       "        <td class=\"number\">60498</td>\n",
       "        <td class=\"number\">3.9%</td>\n",
       "        <td>\n",
       "            <div class=\"bar\" style=\"width:6%\">&nbsp;</div>\n",
       "        </td>\n",
       "</tr><tr class=\"\">\n",
       "        <td class=\"fillremaining\">5</td>\n",
       "        <td class=\"number\">52793</td>\n",
       "        <td class=\"number\">3.4%</td>\n",
       "        <td>\n",
       "            <div class=\"bar\" style=\"width:6%\">&nbsp;</div>\n",
       "        </td>\n",
       "</tr><tr class=\"\">\n",
       "        <td class=\"fillremaining\">6</td>\n",
       "        <td class=\"number\">33355</td>\n",
       "        <td class=\"number\">2.2%</td>\n",
       "        <td>\n",
       "            <div class=\"bar\" style=\"width:4%\">&nbsp;</div>\n",
       "        </td>\n",
       "</tr><tr class=\"\">\n",
       "        <td class=\"fillremaining\">10</td>\n",
       "        <td class=\"number\">21190</td>\n",
       "        <td class=\"number\">1.4%</td>\n",
       "        <td>\n",
       "            <div class=\"bar\" style=\"width:3%\">&nbsp;</div>\n",
       "        </td>\n",
       "</tr><tr class=\"\">\n",
       "        <td class=\"fillremaining\">8</td>\n",
       "        <td class=\"number\">11404</td>\n",
       "        <td class=\"number\">0.7%</td>\n",
       "        <td>\n",
       "            <div class=\"bar\" style=\"width:2%\">&nbsp;</div>\n",
       "        </td>\n",
       "</tr><tr class=\"\">\n",
       "        <td class=\"fillremaining\">30</td>\n",
       "        <td class=\"number\">8197</td>\n",
       "        <td class=\"number\">0.5%</td>\n",
       "        <td>\n",
       "            <div class=\"bar\" style=\"width:1%\">&nbsp;</div>\n",
       "        </td>\n",
       "</tr><tr class=\"\">\n",
       "        <td class=\"fillremaining\">20</td>\n",
       "        <td class=\"number\">7190</td>\n",
       "        <td class=\"number\">0.5%</td>\n",
       "        <td>\n",
       "            <div class=\"bar\" style=\"width:1%\">&nbsp;</div>\n",
       "        </td>\n",
       "</tr><tr class=\"other\">\n",
       "        <td class=\"fillremaining\">Other values (198)</td>\n",
       "        <td class=\"number\">54457</td>\n",
       "        <td class=\"number\">3.5%</td>\n",
       "        <td>\n",
       "            <div class=\"bar\" style=\"width:6%\">&nbsp;</div>\n",
       "        </td>\n",
       "</tr>\n",
       "</table>\n",
       "        </div>\n",
       "        <div role=\"tabpanel\" class=\"tab-pane col-md-12\"  id=\"extreme-6625227732699586289\">\n",
       "            <p class=\"h4\">Minimum 5 values</p>\n",
       "            \n",
       "<table class=\"freq table table-hover\">\n",
       "    <thead>\n",
       "    <tr>\n",
       "        <td class=\"fillremaining\">Value</td>\n",
       "        <td class=\"number\">Count</td>\n",
       "        <td class=\"number\">Frequency (%)</td>\n",
       "        <td style=\"min-width:200px\">&nbsp;</td>\n",
       "    </tr>\n",
       "    </thead>\n",
       "    <tr class=\"\">\n",
       "        <td class=\"fillremaining\">1</td>\n",
       "        <td class=\"number\">1029474</td>\n",
       "        <td class=\"number\">66.8%</td>\n",
       "        <td>\n",
       "            <div class=\"bar\" style=\"width:100%\">&nbsp;</div>\n",
       "        </td>\n",
       "</tr><tr class=\"\">\n",
       "        <td class=\"fillremaining\">2</td>\n",
       "        <td class=\"number\">186587</td>\n",
       "        <td class=\"number\">12.1%</td>\n",
       "        <td>\n",
       "            <div class=\"bar\" style=\"width:18%\">&nbsp;</div>\n",
       "        </td>\n",
       "</tr><tr class=\"\">\n",
       "        <td class=\"fillremaining\">3</td>\n",
       "        <td class=\"number\">76127</td>\n",
       "        <td class=\"number\">4.9%</td>\n",
       "        <td>\n",
       "            <div class=\"bar\" style=\"width:8%\">&nbsp;</div>\n",
       "        </td>\n",
       "</tr><tr class=\"\">\n",
       "        <td class=\"fillremaining\">4</td>\n",
       "        <td class=\"number\">60498</td>\n",
       "        <td class=\"number\">3.9%</td>\n",
       "        <td>\n",
       "            <div class=\"bar\" style=\"width:6%\">&nbsp;</div>\n",
       "        </td>\n",
       "</tr><tr class=\"\">\n",
       "        <td class=\"fillremaining\">5</td>\n",
       "        <td class=\"number\">52793</td>\n",
       "        <td class=\"number\">3.4%</td>\n",
       "        <td>\n",
       "            <div class=\"bar\" style=\"width:6%\">&nbsp;</div>\n",
       "        </td>\n",
       "</tr>\n",
       "</table>\n",
       "            <p class=\"h4\">Maximum 5 values</p>\n",
       "            \n",
       "<table class=\"freq table table-hover\">\n",
       "    <thead>\n",
       "    <tr>\n",
       "        <td class=\"fillremaining\">Value</td>\n",
       "        <td class=\"number\">Count</td>\n",
       "        <td class=\"number\">Frequency (%)</td>\n",
       "        <td style=\"min-width:200px\">&nbsp;</td>\n",
       "    </tr>\n",
       "    </thead>\n",
       "    <tr class=\"\">\n",
       "        <td class=\"fillremaining\">632</td>\n",
       "        <td class=\"number\">1</td>\n",
       "        <td class=\"number\">0.0%</td>\n",
       "        <td>\n",
       "            <div class=\"bar\" style=\"width:50%\">&nbsp;</div>\n",
       "        </td>\n",
       "</tr><tr class=\"\">\n",
       "        <td class=\"fillremaining\">650</td>\n",
       "        <td class=\"number\">1</td>\n",
       "        <td class=\"number\">0.0%</td>\n",
       "        <td>\n",
       "            <div class=\"bar\" style=\"width:50%\">&nbsp;</div>\n",
       "        </td>\n",
       "</tr><tr class=\"\">\n",
       "        <td class=\"fillremaining\">720</td>\n",
       "        <td class=\"number\">1</td>\n",
       "        <td class=\"number\">0.0%</td>\n",
       "        <td>\n",
       "            <div class=\"bar\" style=\"width:50%\">&nbsp;</div>\n",
       "        </td>\n",
       "</tr><tr class=\"\">\n",
       "        <td class=\"fillremaining\">750</td>\n",
       "        <td class=\"number\">1</td>\n",
       "        <td class=\"number\">0.0%</td>\n",
       "        <td>\n",
       "            <div class=\"bar\" style=\"width:50%\">&nbsp;</div>\n",
       "        </td>\n",
       "</tr><tr class=\"\">\n",
       "        <td class=\"fillremaining\">800</td>\n",
       "        <td class=\"number\">2</td>\n",
       "        <td class=\"number\">0.0%</td>\n",
       "        <td>\n",
       "            <div class=\"bar\" style=\"width:100%\">&nbsp;</div>\n",
       "        </td>\n",
       "</tr>\n",
       "</table>\n",
       "        </div>\n",
       "    </div>\n",
       "</div>\n",
       "</div>\n",
       "    <div class=\"row headerrow highlight\">\n",
       "        <h1>Correlations</h1>\n",
       "    </div>\n",
       "    <div class=\"row variablerow\">\n",
       "    <img src=\"data:image/png;base64,iVBORw0KGgoAAAANSUhEUgAAAmAAAAIWCAYAAADwEDEMAAAABHNCSVQICAgIfAhkiAAAAAlwSFlzAAAPYQAAD2EBqD%2BnaQAAADl0RVh0U29mdHdhcmUAbWF0cGxvdGxpYiB2ZXJzaW9uIDIuMi4yLCBodHRwOi8vbWF0cGxvdGxpYi5vcmcvhp/UCwAAIABJREFUeJzs3XtclHXe//H3gAqJgrIxrimRWqiIGphlnkrU1NJiWQ11KzXL0sDU7E5ba03LTlKtaand66ktb9Y0TfPOorJ1W3%2BVq%2BWIhzwQUqbAOpwVEOb3h7ezTaBweeE1gK/n48Fj9Xsd5jPfVvn4/n7nwuZyuVwCAACAZXy8XQAAAMDlhgYMAADAYjRgAAAAFqMBAwAAsBgNGAAAgMVowAAAACxGAwYAAGAxGjAAAACL0YABAABYjAYMAADAYg28XQAAc9q3b3/eYw0bNlSzZs0UGRmp2NhYDRo0SDabzcLqAACVsfGzIIG67VwD1qVLF4WEhHgcKy4u1pEjR3Ts2DFJUr9%2B/bRgwQI1atTI8joBAP9BAwbUcecasEWLFmnAgAGVnpOSkqLHH39cRUVFuv/%2B%2B/XEE09YWSIA4FfYAwZcBgYMGKDHHntMkrR69WoVFxd7uSIAuLyxBwy4TNx2222aO3euTp06pb179yoqKsrj%2BPbt2/XOO%2B/o22%2B/VU5Ojpo0aaIOHTro97//vYYNG1bpPXNycrR8%2BXJ98cUXSk9PV0lJiYKCgtSlSxeNGzdON910U4VrYmJi9NNPP%2Bmtt95ScXGxXn31VWVkZGjFihXq1q2bJOn777/XsmXLtGPHDp04cUINGjSQ3W7XjTfeqHvuuafSfW/5%2BflauXKlPv30U6Wnp6u0tFRXXnmloqOjNXbsWHXu3Nnj/B9//FH9%2B/eXJO3evVuHDx/Wm2%2B%2BqV27diknJ0d2u139%2B/fX1KlT1bhx44uacwA4HxIw4DLRrFkz96/z8vI8jr366qsaO3asPvnkEwUEBOimm25ScHCwtm/frunTp2vKlCkqKyvzuCYrK0txcXFavHixjhw5ooiICPXo0UONGjXS559/rjFjxmjt2rXnrefIkSOaOnWqGjZsqB49esjf31%2BS9PXXX%2Bv3v/%2B93n//fRUXF6tbt26KiopSQUGB/va3v%2Bnuu%2B/W9u3bPe71008/6Xe/%2B51ef/11HTp0SB06dFBUVJSKi4u1adMm3X333VqzZs15a9m5c6dGjx6t1NRUdejQQW3atNFPP/2kVatWKTExsdpzDADV5gJQp4WHh7vCw8Ndn3zyyQXPO3z4sPvc3bt3u8c/%2BeQTV3h4uKt79%2B6urVu3elzz9ddfu3r27OkKDw93LV%2B%2B3OPY3LlzXeHh4a5Bgwa5srOz3eNnzpxxPffcc67w8HBXt27dXAUFBR7X9evXzxUeHu6KiYlxvfnmmxXqHDFihCs8PNz1wgsvuMrKyjzu%2B%2Bqrr7rCw8NdQ4cO9bhm9OjRrvDwcFdcXJzrxIkT7vGysjLX66%2B/7goPD3dFRka6jhw54j6WkZHhno9bb73VtXTpUld5ebn7%2BOrVq93H9%2B3bd6GpBQDDSMCAy8THH38sSQoKClLHjh3d42%2B88YYk6YknntAtt9zicU337t31X//1X5KklStXyvWLz%2By0aNFCd9xxhxISEvSb3/zGPe7r66upU6fKx8dH%2Bfn5%2Bvbbbyutp7y8XBMmTKgwvm/fPklSXFycfHz%2B81eUr6%2BvJk%2BerMmTJ%2Bvee%2B9VSUmJJOm7777Tjh07JEkvvfSS7Ha7%2BxofHx8lJCSoU6dOKikp0f/8z/9UWkurVq304IMPejyiIz4%2BXsHBwe7XAICaxB4w4DLwxRdfaMmSJZKkBx54QA0anP2jn5mZqdTUVEnSwIEDK712wIABstlsOnbsmH744Qe1adNGkvTggw%2Be9/WuuOIK/eY3v1FWVpaysrIqPadHjx4eDdY5gYGBys7O1ubNm/Xoo496HPPx8dEjjzziMbZt2zZJZz8N2q5du/O%2Bh9TU1ApLl%2BfEx8dXGLPZbAoNDdXJkyfldDorvQ4ALhYNGFBPLFmyROvWrfMYKykp0Q8//KCMjAxJZ1OlBx54wH38wIED7l/PmDHjvPdu0KCBSktLPRqwc/f/4osvtGfPHmVmZiovL8%2BdkuXn50s6m3RVpkWLFpWOjxkzRklJSXrjjTe0bds2DR06VDfffPN5Hzh76NAhSdJ111133vrbtm0r6ey%2Bs8pcffXVlY77%2BflJkkpLS897bwC4GDRgQD2xe/fuCmO%2Bvr5q3ry5%2Bvfvr/j4%2BApLjLm5ue5ff/rpp1W%2BxrmmSpL279%2BvRx55RD/%2B%2BONF1RsUFFTp%2BLllySVLlsjhcMjhcEiSQkJCNHjwYI0ZM0ahoaEVagoMDDzvazVt2lTS2Ubq9OnT7g3/5/BgWgBWowED6okLPYj1fM7teWrYsKEcDke1f0zR6dOnNXHiRB07dkzXXHONJk2apJtvvlnNmzdXw4YNJf3ncRNVvXZlJkyYoJEjRyolJUVffPGF/vnPfyorK0tvv/22kpOT9dJLL2nIkCHVfp%2B/3LtW2bInAFiNBgy4jJ17NEVpaamcTqd703lV/v73v%2BvYsWOy2WxasmSJrrnmmgrn/PpRF0YFBgYqLi5OcXFxKisr0z//%2BU8tWrRIu3bt0h//%2BEf16NFDzZs3dydpF3q9c8f8/f1JuwDUCvxTELiMhYeHu3998ODBal/3ww8/SDq7d6qy5istLc1judIsX19f9enTR6tWrVKLFi1UWFjoXnI9t/fr%2B%2B%2B/P%2B/1545daJ8YAFiJBgy4jIWEhKhTp06SpL/97W%2BVnpOWlqa77rpLb775pnvs3J6q8/1Io8WLF7t//esHuF7Id999pyeffFLLli2r9HijRo3cr3369GlJcu9r%2B/777yttwsrLy92P4OjTp0%2B1awGAS4kGDLjMPfzww5KkTZs2acWKFR77pdLT0zV58mTt379fP//8s3u8Q4cOkqTjx48rJSXFPX7q1Ck9%2B%2Byzcjgc7h91dL5PHlbG19dXa9eu1YIFC7R169YKxz/55BMdPnxYDRs2VHR0tCQpIiJCvXv3liQ9%2BeSTOnnypPv8M2fO6OWXX9bhw4fVtGlTjRw5stq1AMClxB4w4DJ32223acKECVq6dKmef/55rVq1Sm3btpXT6dS%2BfftUVlam66%2B/3uMxFVFRUerdu7f%2B8Y9/KDExUV27dpWfn5/27NmjBg0aaNmyZdq8ebN27dqlVatW6cCBA5o4caK6d%2B9%2BwVoiIyOVmJio119/XQ899JBatWqlsLAw%2Bfj46Mcff3Qvfc6YMUMhISHu6%2BbNm6cxY8bI4XAoJiZG4eHh8vPz08GDB%2BV0OuXv76%2BkpKTzPvoCAKxGAwZAjz32mG6%2B%2BWb3D%2BPevn27/Pz8FBkZqdtvv12jR4%2BusHn9tdde0/z58/Xpp59qz549stvtGjRokB5%2B%2BGFdffXVatmypfbu3audO3fq4MGD1f6EZUJCgiIjI7Vu3Trt2bNHu3bt0pkzZxQSEqKhQ4fqnnvuqfCDxFu0aKH33ntPK1as0CeffKKDBw/qzJkzatGihW677TaNHz9eYWFhNTZfAGCWzfXL9QYAAABccuwBAwAAsBgNGAAAgMVowAAAACxGAwYAAOqNbdu2qWfPnpo6deoFzysvL1dSUpL69%2B%2Bv7t27a/z48UpPT3cfdzqdevTRR9WzZ0/17t1bM2fO1KlTp2qsThowAABQL7z11lt69tlnq/Wp57ffflsffvihli5dqq1bt6pt27ZKSEhwPwtx1qxZOn36tDZt2qR169YpPT1dL7/8co3VSgMGAADqBT8/P7333nvVasDWrFmjsWPHql27dgoICNCUKVOUlpam7777TtnZ2frss880depUBQcHy263a%2BLEiXr//fdVWlpaI7XyHDAAAFArZGZmKisry2MsJCREdru9Wtffd9991Trv9OnTOnTokCIiItxjAQEBuvrqq%2BVwOJSfny9fX1%2B1b9/efTwiIkJFRUU6cuSIx/jFogGrjmo%2BQBJe1KaNdPCgdN11Ulqat6vBBeTn8ejB2s5mkwICpMJCiSdF1m7/96NRveMSfG9MXrBACxcu9BhLSEhQYmJijb5Obm6uXC6XgoKCPMaDgoLkdDrVrFkzNWnSxOMB0ufOdTqdNVIDDRjqh2bNJF/fs/8LwBSb7T9fNGCwUnx8vGJiYjzGfvljxy41l8tV5U/tqO5P9agKDRgAADDOp%2Ba3kdvt9movN5rRrFkz%2Bfj4VEizcnNzFRwcrODgYOXn56usrEy%2Bvr6SpJycHElScHBwjdTAJnwAAHBZ8fPz03XXXafU1FT3WF5eno4ePaouXbqoY8eOcrlc2r9/v/u4w%2BFQYGCg2rRpUyM10IABAADjfHxq/usSOnHihAYPHqyMjAxJ0qhRo7Rq1SodPnxYBQUFmj9/vjp27KjOnTsrODhYgwYN0muvvaaTJ0/q%2BPHjWrRokYYPH64GDWpm8ZAlSAAAUC907txZknTmzBlJUkpKiqSz6VVpaanS0tJUUlIiSRo5cqSys7P14IMPqrCwUFFRUR4fAJgzZ45mz56toUOHqkGDBhowYECVD3c1wuZyscWySnwKsvaLipJ27pSio6Vdu7xdDS6AT0HWfj4%2B//kUZHm5t6vBhXj1U5B%2BfjV/z%2BLimr9nLUUCBgAAjLvES4b1HbMHAABgMRIwAABgHAmYKTRgAADAOBowU5g9AAAAi5GAAQAA40jATGH2AAAALEYCBgAAjCMBM4UGDAAAGEcDZgqzBwAAYDESMAAAYBwJmCnMHgAAgMVIwAAAgHEkYKbQgAEAAONowExh9gAAACxGAgYAAIwjATOF2QMAALAYCRgAADCOBMwUGjAAAGAcDZgpzB4AAIDFSMAAAIBxJGCmMHsAAAAWIwEDAADGkYCZQgMGAACMowEzhdkDAACwGAkYAAAwjgTMFGYPAADAYiRgAADAOBIwU2jAAACAcTRgpjB7AAAAFiMBAwAAxpGAmcLsAQAAWIwEDAAAGEcCZgoNGAAAMI4GzBRmDwAAwGIkYAAAwDgSMFOYPQAAAIuRgAEAAONIwEyhAQMAAMbRgJnC7AEAAFiMBAwAABhHAmYKswcAAGAxEjAAAGBcLUzAMjIyNGfOHO3evVuNGzfW4MGDNX36dPn6%2Bnqcd//99%2Bubb77xGCsrK9Ndd92l559/XgsWLNCbb76pBg3%2B0yb5%2Bflpx44dNVYrDRgAADCuFjZgkydPVmRkpF555RWdPHlSEyZM0JVXXqnx48d7nLds2TKP358%2BfVp33HGHhg4dKknKy8vT8OHDNXfu3EtWa%2B2bPQAAAIMcDocOHDig6dOnq2nTpgoLC9O4ceO0Zs2aKq9dtGiRIiMj1atXL0lnG7CgoKBLWi8JGAAAMO4SJGCZmZnKysryGAsJCZHdbq/y2tTUVLVq1cqjcYqIiFBaWpoKCgrUpEmTSq87duyY/vrXv2rTpk3usby8PP38888aNmyYjh8/rvbt22vGjBmKjIy8yHdWEQ0YAAAw7hI0YMnJyVq4cKHHWEJCghITE6u8NicnR4GBgR5j55oxp9N53gbsrbfe0pAhQ9SqVSv3WEhIiAICAvTCCy8oMDBQixYt0v3336%2BPPvpIwcHBRt9WpWjAAABArRAfH6%2BYmBiPsZCQkIu%2Bn8vlkiTZbLZKj%2Bfl5em9997T2rVrPcZ/vffr8ccf16ZNm/Tpp59qxIgRF13PL9GAAQAA4y5BAma326u13FiZ4OBgOZ1Oj7Hc3FzZbDY1b9680ms%2B/fRTtWzZUuHh4Re8t6%2Bvr1q2bKnMzMyLqq0ybMIHAAB1XmRkpI4dO6aTJ0%2B6xxwOh6699loFBARUek1KSor69u3rMeZyufTSSy/pwIED7rHS0lIdPXpUoaGhNVYvDRgAADDOx6fmv0yIiIhQly5dlJSUpIKCAh0%2BfFjLly/XqFGjJEmDBw%2Bu8ByvvXv3VmiqbDab0tPTNWfOHJ04cUKFhYWaP3%2B%2BGjVqpAEDBpiq8ZdowAAAgHG1rAGTpAULFujf//63YmJiNGHCBMXGxmr06NGSpLS0NBUVFXmcn5WVVemS53PPPafWrVsrLi5O/fr106FDh7Rq1So1btzYdI3n2Fzndqjh/M6zeQ%2B1SFSUtHOnFB0t7drl7WpwAfl5/JVT2/n4SAEBUmGhVF7u7WpwIU2bevHFBw2q%2BXtu2VLz96yl2IQPAACMq4VPwq9LmD0AAACLkYABAADjSMBMoQEDAADG0YCZwuwBAABYjAQMAAAYRwJmCrMHAABgMRIwAABgHAmYKTRgAADAOBowU5g9AAAAi5GAAQAA40jATGH2AAAALEYCBgAAjCMBM4UGDAAAGEcDZgqzBwAAYDESMAAAYBwJmCnMHgAAgMVIwAAAgHEkYKbQgAEAAONowExh9gAAACxGAgYAAIwjATOF2QMAALAYCRgAADCOBMwUGjAAAGAcDZgpzB4AAIDFSMAAAIBxJGCmMHsAAAAWIwEDAADGkYCZQgMGAACMowEzhdkDAACwGAkYAAAwjgTMFGYPAADAYiRgAADAOBIwU2jAAACAcTRgpjB7AAAAFiMBAwAAxpGAmUIDBgAAjKMBM4XZAwAAsBgJGAAAMI4EzBRmDwAAwGIkYAAAwDgSMFPq5Ox988036ty5s0pKSrxdCgAAlycfn5r/uozUmXf78ccfKz09XZLUvXt3ORwONWrUqMIxAABwecrIyNCDDz6om266Sf369dOLL76osrKyCuetXbtWHTp0UOfOnT2%2BsrOzJUnFxcV66qmn1LdvX/Xo0UOJiYk6efJkjdZaZxqwBQsWnLfJutAxAABwCdTCBGzy5Mn67W9/q5SUFK1YsUKfffaZVqxYUeG8/Px89ezZUw6Hw%2BPryiuvlCQlJSVp7969Sk5O1pYtW2Sz2TRz5kzT9f2S4Xe7fft23XbbberatavGjx%2Bv//7v/1ZMTIzWrVunXr16eZx77733av78%2BZIkl8ul%2BfPn65ZbblFUVJTi4uL0r3/9y%2BPcxYsX6/HHH1d0dLR69%2B6t9evXS5LuvPNOHTx4UJMmTdLMmTP11VdfqX379iouLq5wbODAgXr77bc96pg5c6amTJlieHIAAEDd4HA4dODAAU2fPl1NmzZVWFiYxo0bpzVr1lQ4Nzc3V0FBQZXep6ysTOvWrdOkSZPUsmVLBQUFacqUKfriiy904sSJGqvX0Cb8srIyPfHEE7r99ts1depUpaam6tFHH1XDhg2rvHbDhg16//33tWbNGrVo0UILFizQlClTtG3bNvc577zzjubNm6d58%2BZp8eLFmjt3ru644w598MEHat%2B%2Bvd544w317dtXX331lfuaXx9buHChNm7cqHvvvddd8%2Beff67nnnuuWu8xMzNTWVlZHmMhbdrI3qxZta6Hl3To4Pm/qLUus20eddK5/0b8t8IFXYL/g1T6PTgkRHa7vcprU1NT1apVK4/GKiIiQmlpaSooKFCTJk3c43l5eUpPT9eIESOUlpamsLAwTZs2Tb169VJ6erry8/PVqVMn9/lt27aVv7%2B/UlNT1aJFixp4pwYbMIfDoRMnTujhhx%2BWn5%2BfoqOj1b9/f/3973%2Bv8tqhQ4eqX79%2B7okZMmSIFi9erMzMTPfERkVFqU%2BfPu7jCxcuVGZmplq1alXtGu%2B66y4tXLhQ6enpCgsL09dffy2Xy6W%2BfftW6/rk5GQtXLjQYyzh0UeV%2BOij1a4BXvTuu96uAFUI8HYBqLYrrvB2BajVLkEDVun34IQEJSYmVnltTk6OAgMDPcbO9RxOp9OjAWvWrJnsdrumT5%2Buq666SsnJyXrooYe0YcMG5ebmSlKFewUGBsrpdF7U%2B6qMoQbs%2BPHjatKkiZr9Ig1q165dtRqw06dPa968edq2bZvy8vLc47/8JGPr1q3dv/b393dfZ0RoaKiio6O1ceNGJSQk6JNPPtGQIUOqldJJUnx8vGJiYjzGQoYNk1auNFQHLNahw9nma/Roaf9%2Bb1eDCyjcttPbJaAKPj5nm69Tp6Tycm9XgwsJqGf/oqn0e3BIyEXfz%2BVySZJsNpvH%2BK8bunHjxunDDz/Uxo0bzxvYuFyuCvcxw1ADVtmLl1/gT%2BcvP3nwzDPP6MCBA1q9erWuvvpqHTp0SEOHDvU436eGuunY2FgtW7ZMjzzyiFJSUvTaa69V%2B1q73V4x6kxLq5G6YIH9%2B6Vdu7xdBS6Ab%2Bh1R3k5/71wAZcgAav0e3A1BQcHV0iocnNzZbPZ1Lx58yqvb926tTIzMxUcHCzpbGrWuHFj9/G8vDz3sZpgaPbsdrsKCgo8EqyDBw9Kkvz8/DzSKpfLpR9//NH9%2B927d%2BvOO%2B9UWFiYbDabUlNTzdZ%2BXkOGDNGxY8e0evVqNWzYUNHR0ZfstQAAgPdFRkbq2LFjHo%2BLcDgcuvbaaxXwq6hw6dKlHvvJJenw4cMKDQ1VaGiogoKCPPqU77//XiUlJYqMjKyxeg01YF26dFFwcLCWLl2q4uJi7dixQ1u3bpUkhYWFqaCgQNu2bVNpaan%2B8pe/VFhedDgcKikp0c6dO7VlyxZJqvYnCvz8/HTo0CEVFBRUeaxp06aKiYlRUlKShg0bZuQtAgCA6qhlj6GIiIhQly5dlJSUpIKCAh0%2BfFjLly/XqFGjJEmDBw/Wjh07JEnZ2dl65plnlJaWpuLiYi1fvlwZGRmKi4uTr6%2Bv7r77bi1evFg///yznE6nXnnlFQ0cOND9mIqaYOjdNmzYUK%2B%2B%2Bqo%2B//xz3XjjjVq0aJH%2B8Ic/SDrbeY4dO1bTpk1T7969debMGd10003uax977DEdOnRIN954oxYuXKhnnnlGt9xyix544AHtr8aenZEjR%2BrVV1/V448/Xq1jsbGxKigo0J133mnkLQIAgOqoZQ2YdPa5oP/%2B978VExOjCRMmKDY2VqNHj5YkpaWlqaioSNLZnqRXr16677771LNnT3388cdauXKl%2BxOOkydP1vXXX6/4%2BHjdcccdatKkSbWfplBdNte5HWoXafXq1Xrrrbf02Wef1VRNNWLt2rVau3at3q2JT8XV4KY7XCJRUdLOnVJ0NHvAarn8PFN/5cACPj5nN3cXFrIHrLZr2tSLL/788zV/zxp%2B2GltVi9/GHdaWpr%2B/Oc/a%2B7cud4uBQCA%2BokHxZlS7xqwp59%2BWlu2bNHYsWN1yy23eLscAACACkwvQV4WWIKs/ViCrDNYgqz9WIKsO7y6BPnyyzV/z0r2eddX9S4BAwAAFmAJ0hRmDwAAwGIkYAAAwDgSMFOYPQAAAIuRgAEAAONIwEyhAQMAAMbRgJnC7AEAAFiMBAwAABhHAmYKswcAAGAxEjAAAGAcCZgpNGAAAMA4GjBTmD0AAACLkYABAADjSMBMYfYAAAAsRgIGAACMIwEzhQYMAAAYRwNmCrMHAABgMRIwAABgHAmYKcweAACAxUjAAACAcSRgptCAAQAA42jATGH2AAAALEYCBgAAjCMBM4XZAwAAsBgJGAAAMI4EzBQaMAAAYBwNmCnMHgAAgMVIwAAAgHEkYKbQgAEAAONowExh9gAAACxGAgYAAIwjATOF2QMAALAYCRgAADCOBMwUGjAAAGAcDZgpzB4AAIDFSMAAAIBxJGCmMHsAAAAWIwEDAADGkYCZQgMGAACMowEzhdkDAAD1QkZGhh588EHddNNN6tevn1588UWVlZVVeu7q1as1aNAgRUVFadiwYUpJSXEfW7BggTp27KjOnTu7v2644YYarZUEDAAAGFcLE7DJkycrMjJSr7zyik6ePKkJEyboyiuv1Pjx4z3OS0lJUVJSkpYsWaKuXbtq48aNmjJliv73f/9XoaGhysvL0/DhwzV37txLVmvtmz0AAACDHA6HDhw4oOnTp6tp06YKCwvTuHHjtGbNmgrnFhUVadq0aerWrZsaNGig3/3udwoICNC3334rScrLy1NQUNAlrZcEDAAAGHcJErDMzExlZWV5jIWEhMhut1d5bWpqqlq1auXROEVERCgtLU0FBQVq0qSJe/zOO%2B/0uDYvL0%2BFhYVq0aKF%2B/c///yzhg0bpuPHj6t9%2B/aaMWOGIiMjzbw9DzRgAADAuEvQgCUnJ2vhwoUeYwkJCUpMTKzy2pycHAUGBnqMnWvGnE6nRwP2Sy6XS7NmzVLXrl114403Sjrb9AUEBOiFF15QYGCgFi1apPvvv18fffSRgoODL%2BatVUADBgAAaoX4%2BHjFxMR4jIWEhFz0/VwulyTJZrNVery0tFQzZszQoUOHtGrVKvf4r/d%2BPf7449q0aZM%2B/fRTjRgx4qLr%2BSUaMAAAYNwlSMDsdnu1lhsrExwcLKfT6TGWm5srm82m5s2bVzj/9OnTmjRpkk6dOqV33nmn0nPO8fX1VcuWLZWZmXlRtVWGTfgAAKDOi4yM1LFjx3Ty5En3mMPh0LXXXquAgACPc10ul6ZOnaoGDRpoxYoVHs2Xy%2BXSSy%2B9pAMHDrjHSktLdfToUYWGhtZYvTRgAADAOB%2Bfmv8yISIiQl26dFFSUpIKCgp0%2BPBhLV%2B%2BXKNGjZIkDR48WDt27JAkbdy4UYcOHdKf//xn%2Bfn5edzHZrMpPT1dc%2BbM0YkTJ1RYWKj58%2BerUaNGGjBggKkaf4klSAAAYFwtfA7YggULNHv2bMXExKhp06aKjY3V6NGjJUlpaWkqKiqSJK1du1Y//fSTe9P9OXfddZeeffZZPffcc3r%2B%2BecVFxen0tJSde7cWatWrVLjxo1rrFab69wONZzfeTbvoRaJipJ27pSio6Vdu7xdDS4gP4%2B/cmo7Hx8pIEAqLJTKy71dDS6kaVMvvvj27TV/z5tvrvl71lIkYAAAwLhamIDVJcweAACAxUjAAACAcSRgptCAAQAA42jATGH2AAAALEYCBgAAjCMBM4XZAwAAsBgJGAAAMI4EzBQaMAAAYBwNmCnMHgAAgMVIwAAAgHEkYKYwewAAABYjAQMAAMaRgJlCAwYAAIyjATOF2QMAALAYCRgAADCOBMwUZg8AAMBiJGAAAMA4EjBTaMAAAIBxNGCmMHsAAAAWIwEDAADGkYCZQgMGAACMowEzhdkDAACwGAkYAAAwjgTMFGYPAADAYiRgAADAOBIwU2jAAACAcTRgpjB7AABY6HbnAAAgAElEQVQAFiMBAwAAxpGAmcLsAQAAWIwEDAAAGEcCZgoNGAAAMI4GzBRmDwAAwGIkYAAAwDgSMFOYPQAAAIuRgAEAAONIwEyhAQMAAMbRgJnC7AEAAFiMBAwAABhHAmYKswcAAGAxEjAAAGAcCZgpNGAAAMA4GjBTmD0AAFAvZGRk6MEHH9RNN92kfv366cUXX1RZWVml565YsUKDBg1St27dNGrUKO3evdt9rLi4WE899ZT69u2rHj16KDExUSdPnqzRWmnAAACAcT4%2BNf9l0uTJk/Xb3/5WKSkpWrFihT777DOtWLGiwnkpKSlatGiRXnrpJX355Zfq37%2B/Jk6cqMLCQklSUlKS9u7dq%2BTkZG3ZskU2m00zZ840Xd8v0YABAIA6z%2BFw6MCBA5o%2BfbqaNm2qsLAwjRs3TmvWrKlw7po1axQXF6euXbvK399f48ePl4%2BPj7Zu3aqysjKtW7dOkyZNUsuWLRUUFKQpU6boiy%2B%2B0IkTJ2qsXvaAAQAA4y7BHrDMzExlZWV5jIWEhMhut1d5bWpqqlq1aqWgoCD3WEREhNLS0lRQUKAmTZp4nHv77be7f2%2Bz2dShQwc5HA517NhR%2Bfn56tSpk/t427Zt5e/vr9TUVLVo0cLMW3SjAauG/DyXt0tAFXx8pABJhdt2qrzc29XgQpoG2rxdAqoSFSXt3KmAPtHSrl3ergYX4vLe9yeXav7PcnJyshYuXOgxlpCQoMTExCqvzcnJUWBgoMfYuWbM6XR6NGA5OTkejdq5c51Op3JyciSpwr0CAwPldDqr/2aqQAMGAABqhfj4eMXExHiMhYSEXPT9XP/XoNpsVTeLLpfrgudVddwoGjAAAGDYpVhtsNvt1VpurExwcHCFhCo3N1c2m03Nmzf3GG/evHml51533XUKDg6WdDY1a9y4sft4Xl6e%2B1hNYBM%2BAACo8yIjI3Xs2DGPx0U4HA5de%2B21CggIqHBuamqq%2B/dlZWXau3evunbtqtDQUAUFBXkc//7771VSUqLIyMgaq5cGDAAAGFZeXvNfZkRERKhLly5KSkpSQUGBDh8%2BrOXLl2vUqFGSpMGDB2vHjh2SpFGjRmn9%2BvX69ttvderUKb355ptq1KiRbr31Vvn6%2Buruu%2B/W4sWL9fPPP8vpdOqVV17RwIEDdeWVV5qdNjeWIAEAgGG18QNPCxYs0OzZsxUTE6OmTZsqNjZWo0ePliSlpaWpqKhIktS3b19NmzZNM2bMUFZWljp16qSlS5fK399f0tnniRUVFSk%2BPl5nzpxRz5499ac//alGa7W5XF78CEUdkZ/v7QpQFR8fKSBAKiysnX8p4D/4FGQd8H%2BfglQ0n4Ks9bz4Lby4uObv6edX8/esrUjAAACAYfxj1xz2gAEAAFiMBAwAABhGAmYODRgAADCMBswcliABAAAsRgIGAAAMIwEzhwQMAADAYiRgAADAMBIwc2jAAACAYTRg5rAECQAAYDESMAAAYBgJmDk0YAAAwDAaMHNYggQAALAYCRgAADCMBMwcEjAAAACLkYABAADDSMDMoQEDAACG0YCZwxIkAACAxUjAAACAYSRg5pCAAQAAWIwEDAAAGEYCZg4NGAAAMIwGzByWIAEAACxGAgYAAAwjATOHBAwAAMBiJGAAAMAwEjBzaMAAAIBhNGDmsAQJAABgMRIwAABgGAmYOSRgAAAAFiMBAwAAhpGAmUMDBgAADKMBM4clSAAAAIuRgAEAAMNIwMwhAQMAALAYCRgAADCMBMwcGjAAAGAYDZg5LEECAABYjAQMAAAYRgJmDgkYAACAxUjAAACAYSRg5tCAAQAAw2jAzGEJEgAA1HtOp1OPPvqoevbsqd69e2vmzJk6derUec//%2BOOPdeeddyoqKkoDBw5UcnKy%2B9jatWvVoUMHde7c2eMrOzu72vWQgAEAAMPqWgI2a9YsnTlzRps2bdKZM2c0ZcoUvfzyy3r66acrnOtwODR9%2BnS98sor6tevn7Zv366HH35Y7dq10w033KD8/Hz17NlTy5Ytu%2Bh6SMAAAEC9lp2drc8%2B%2B0xTp05VcHCw7Ha7Jk6cqPfff1%2BlpaUVznc6nXrooYc0YMAA%2Bfr6qnfv3goPD9eOHTskSbm5uQoKCjJVEwkYAAAw7FIkYJmZmcrKyvIYCwkJkd1uN3Xfffv2ydfXV%2B3bt3ePRUREqKioSEeOHPEYl6S%2Bffuqb9%2B%2B7t%2BfOXNGWVlZatGihSQpLy9P6enpGjFihNLS0hQWFqZp06apV69e1a6JBgwAABh2KRqw5ORkLVy40GMsISFBiYmJpu6bk5OjJk2ayGazucfOJVhOp7PK6%2BfPn6/GjRvr9ttvlyQ1a9ZMdrtd06dP11VXXaXk5GQ99NBD2rBhg9q1a1etmmjAAABArRAfH6%2BYmBiPsZCQkGpdu379ej355JOVHps3b955r/tlU/ZrLpdL8%2BfP16ZNm7Rq1Sr5%2BflJUoWGcNy4cfrwww%2B1ceNGTZkypVr10oABAADDLkUCZrfbL3q5MTY2VrGxsZUe%2B/LLL5Wfn6%2BysjL5%2BvpKOpuKSVJwcHCl15SXl2vmzJnavXu3Vq9erdDQ0Au%2BfuvWrZWZmVntetmEDwAA6rWOHTvK5XJp//797jGHw6HAwEC1adOm0mvmzZungwcPVtp8LV26VF999ZXH2OHDh6ts0n6JBgwAABhWXl7zX5dKcHCwBg0apNdee00nT57U8ePHtWjRIg0fPlwNGpxdDBwzZow2b94sSfrXv/6lDz74QEuXLlWzZs0q3C87O1vPPPOM0tLSVFxcrOXLlysjI0NxcXHVroklSAAAYFhdew7YnDlzNHv2bA0dOlQNGjTQgAEDNHXqVPfxjIwM5ebmSjr7oNX8/Hz169fP4x7du3fXsmXL9Nhjj8nlcum%2B%2B%2B5TUVGRwsPDtXLlSvenJKvD5nK5XDXz1uqv/HxvV4Cq%2BPhIAQFSYWHd%2B0vhctM08PwbXlFLREVJO3dK0dHSrl3ergYX4sVv4Vu21Pw9Bw2q%2BXvWViRgAADAMP6xaw4NGAAAMIwGzBw24QMAAFiMBAwAABhGAmYOCRgAAIDFSMAAAIBhJGDm0IABAADDaMDMYQkSAADAYiRgAADAMBIwc0jAAAAALEYCBgAADCMBM4cGDAAAGEYDZg5LkAAAABYjAQMAAIaRgJlDAgYAAGAxEjAAAGAYCZg5NGAAAMAwGjBzWIIEAACwGAkYAAAwjATMHBIwAAAAi5GAAQAAw0jAzKEBAwAAhtGAmcMSJAAAgMVIwAAAgGEkYOaQgAEAAFiMBAwAABhGAmYODRgAADCMBswcliABAAAsRgIGAAAMIwEzhwQMAADAYiRgAADAMBIwc2jAAACAYTRg5rAECQAAYDESMAAAYBgJmDkkYAAAABYjAQMAAIaRgJlDAwYAAAyjATOHJUgAAACLkYABAADDSMDMIQEDAACwWJ1IwGbNmqWSkhK99NJL3i4FAACIBMysOtGAPfvss94uAQAA/EJda8CcTqdmz56tb775Rj4%2BPurTp4%2BefvppXXHFFRXO/X//7/9pzJgxatSokcf4O%2B%2B8oy5duqi8vFyvvvqqNm/erLy8PHXp0kVPP/20wsLCql0PS5AAAKDemzVrlk6fPq1NmzZp3bp1Sk9P18svv1zpufn5%2BbrmmmvkcDg8vrp06SJJevvtt/Xhhx9q6dKl2rp1q9q2bauEhAS5XK5q1%2BOVBuzHH39U%2B/bttWXLFt1xxx3q3LmzRo8eraysLH311VeKiorSypUrFRUVpW%2B%2B%2BUYzZszQ1KlT3ddv2LBBAwcO1PXXX6%2BRI0dq37597mObN2/WXXfdpeuvv179%2B/fXpk2bvPEWAQCo18rLa/7rUsnOztZnn32mqVOnKjg4WHa7XRMnTtT777%2Bv0tLSCufn5uYqKCjovPdbs2aNxo4dq3bt2ikgIEBTpkxRWlqavvvuu2rX5NUE7K9//av%2B8pe/6B//%2BId8fX01e/ZsSVJpaal%2B%2BOEHbd%2B%2BXTfccIPHNXv27NHs2bM1d%2B5cffPNN7rllls0ceJEnTlzRrt379aTTz6pxx57TP/617/04osv6qmnntLOnTu98O4AAEBtsG/fPvn6%2Bqp9%2B/busYiICBUVFenIkSMVzs/Ly1Nubq7uvfdede/eXcOGDdMHH3wgSTp9%2BrQOHTqkiIgI9/kBAQG6%2Buqr5XA4ql2TV/eAjR49Wr/97W8lSWPHjtWUKVN0zz33qLS0VKNHj5a/v3%2BFa9avX6%2Bbb75ZPXr0kCSNGzdOYWFhKikp0fvvv69%2B/fqpb9%2B%2BkqQbbrhBQ4YM0YYNGxQdHV2tmjIzM5WVleUx1rhxiOx2u5m3ikvMx8fzf1GLRUV5uwJUpUMHz/8FKnEpEqvKvgeHhJj/HpyTk6MmTZrIZrO5x84lXE6ns8L5jRs3VosWLTRt2jR17NhRH3/8sWbMmKGQkBC1bdtWLperQkIWFBRU6b3Ox6sNWJs2bdy/btWqlUpKSpSTkyNJatmyZaXXZGRk6Oqrr3b/3t/fX7fffrsk6ejRo9q%2Bfbs6d%2B7sPu5yudS7d%2B9q15ScnKyFCxd6jD3ySIImT06s9j3gPZXspURtQyJdd7z7rrcrQC12KRqwyr4HJyQkKDGx6u/B69ev15NPPlnpsXnz5p33ul82ZeeMHDlSI0eOdP9%2B2LBhSklJ0bp16zR9%2BvRK7%2BNyuSq91/l4tQEr/8V/vXMb184V37Bhw0qvsdls593k5u/vr1GjRumpp5666Jri4%2BMVExPjMda4cYgKCy/6lrCAj8/Z5uvUqbr3yZzLTUCf6qXR8KIOHc42X6NHS/v3e7saXEg9%2BwdNZd%2BDQ0JCqnVtbGysYmNjKz325ZdfKj8/X2VlZfL19ZUkd%2BATHBxcrfu3bt1ae/bsUbNmzeTj41Mh7crNza32vSQvN2BHjx51r6H%2B9NNP8vf3V7NmzS54TWhoqMd6bUlJiVasWKHhw4dXuv56/PhxhYSEuCe8Kna7vULUmZ/PN/W64lJv5EQN2LXL2xWguvbv578XzutS/F1b2ffgmtCxY0e5XC7t379fnTp1kiQ5HA4FBgZ6rMad87e//U1BQUEaNGiQe%2Bzw4cMKDQ2Vn5%2BfrrvuOqWmpurGG2%2BUdHbP2NGjR92fkqwOr%2B6Yeeedd3TixAnl5ORoxYoVuuWWW6qM7%2BLi4vTVV1/p888/V2lpqVauXKl33nlHTZo00fDhw7Vz506tXbtWJSUl2rdvn0aMGKEtW7ZY9I4AALg81KVPQQYHB2vQoEF67bXXdPLkSR0/flyLFi3S8OHD1aDB2SxqzJgx2rx5syTp1KlTmjNnjvbs2aPS0lJt3rxZ27Zt06hRoyRJo0aN0qpVq3T48GEVFBRo/vz56tixo8cWqKp4NQGLjY3V/fffr6NHj%2Br666/Xn/70Jx06dOiC13Ts2FHz58/X3LlzdfLkSXXo0EFLlixRo0aN1K5dOyUlJWnBggV65plnZLfbNX78ePceMQAAcHmaM2eOZs%2BeraFDh6pBgwYaMGCAxyOuMjIylJubK0m67777VFBQoMmTJ8vpdKpNmzZ644033OnZyJEjlZ2drQcffFCFhYWKioqqsHetKjaXkaeG1ZAff/xR/fv31%2BbNm9WuXTurX96w/HxvV4Cq%2BPhIAQFSYSFLkLVd08Dqb1KFl0RFnd1bFB3NEmRtZ/23cLeZM2v%2Bns8/X/P3rK340D4AAIDF6sTPggQAALULqw3meKUBa926tQ4cOOCNlwYAADWABswcliABAAAsxhIkAAAwjATMHBIwAAAAi5GAAQAAw0jAzKEBAwAAhtGAmcMSJAAAgMVIwAAAgGEkYOaQgAEAAFiMBAwAABhGAmYODRgAADCMBswcliABAAAsRgIGAAAMIwEzhwQMAADAYiRgAADAMBIwc2jAAACAYTRg5rAECQAAYDESMAAAYBgJmDkkYAAAABYjAQMAAIaRgJlDAwYAAAyjATOHJUgAAACLkYABAADDSMDMIQEDAACwGAkYAAAwjATMHBowAABgGA2YOSxBAgAAWIwEDAAAGEYCZg4JGAAAgMVIwAAAgGEkYObQgAEAAMNowMxhCRIAAMBiJGAAAMAwEjBzSMAAAAAsRgIGAAAMIwEzhwYMAAAYRgNmDkuQAAAAFiMBAwAAhpGAmUMDBgAADKMBM4clSAAAAIuRgAEAAMPqWgLmdDo1e/ZsffPNN/Lx8VGfPn309NNP64orrqhw7qxZs7RhwwaPsfLyckVHR%2Bvtt9/W2rVr9cc//lENGzb0OOfzzz/XlVdeWa16SMAAAEC9N2vWLJ0%2BfVqbNm3SunXrlJ6erpdffrnSc5999lk5HA731%2B7du9W5c2cNGzZMkpSfn6%2BePXt6nONwOKrdfEk0YAAA4CKUl9f816WSnZ2tzz77TFOnTlVwcLDsdrsmTpyo999/X6WlpVVen5ycrPLyco0YMUKSlJubq6CgIFM10YABAADD6lIDtm/fPvn6%2Bqp9%2B/busYiICBUVFenIkSMXvLawsFCvvvqqZsyYIZvNJknKy8tTenq6RowYoRtuuEG///3v9eWXXxqqiT1gAACgVsjMzFRWVpbHWEhIiOx2u6n75uTkqEmTJu4GSpI7wXI6nRe8dvXq1erQoYOio6PdY82aNZPdbtf06dN11VVXKTk5WQ899JA2bNigdu3aVasmGjAAAGDYpUiskpOTtXDhQo%2BxhIQEJSYmVnnt%2BvXr9eSTT1Z6bN68eee97pdN2a%2BVl5dr5cqVmjNnjsf4r%2BsZN26cPvzwQ23cuFFTpkypslaJBgwAANQS8fHxiomJ8RgLCQmp1rWxsbGKjY2t9NiXX36p/Px8lZWVydfXV9LZVEySgoODz3vPHTt2qKCgQL169ary9Vu3bq3MzMxq1SrRgAEAgItwKRIwu91uermxMh07dpTL5dL%2B/fvVqVMnSZLD4VBgYKDatGlz3utSUlLUo0cPNWrUyGN86dKl6tq1q2666Sb32OHDh3X77bdXuyY24QMAAMPq0ib84OBgDRo0SK%2B99ppOnjyp48ePa9GiRRo%2BfLgaNDibRY0ZM0abN2/2uG7v3r0KDQ2tcL/s7Gw988wzSktLU3FxsZYvX66MjAzFxcVVuyYSMAAAUO/NmTNHs2fP1tChQ9WgQQMNGDBAU6dOdR/PyMhQbm6uxzVZWVmVJnKPPfaYXC6X7rvvPhUVFSk8PFwrV65UixYtql2PzeVyuS7%2B7Vwe8vO9XQGq4uMjBQRIhYV17%2BnMl5umgeff8IpaIipK2rlTio6Wdu3ydjW4EC9%2BC7/55pq/5/btNX/P2oolSAAAAIuxBAkAAAxjtcEcGjAAAGAYDZg5LEECAABYjAQMAAAYRgJmDgkYAACAxUjAAACAYSRg5tCAAQAAw2jAzGEJEgAAwGIkYAAAwDASMHNIwAAAACxGAgYAAAwjATOHBgwAABhGA2YOS5AAAAAWIwEDAACGkYCZQwIGAABgMRIwAABgGAmYOTRgAADAMBowc1iCBAAAsBgJGAAAMIwEzBwSMAAAAIuRgAEAAMNIwMyhAQMAAIbRgJnDEiQAAIDFSMAAAIBhJGDmkIABAABYjAQMAAAYRgJmDg0YAAAwjAbMHJYgAQAALEYCBgAADCMBM4cGDAAAGEYDZg5LkAAAABYjAQMAAIaRgJlDAgYAAGAxEjAAAGAYCZg5NGAAAMAwGjBzWIIEAACwGAkYAAAwjATMHBIwAAAAi5GAAQAAw0jAzKEBAwAAhtGAmcMSJAAAgMVowAAAgGHl5TX/dak5HA4NHDhQd999d5XnrlixQoMGDVK3bt00atQo7d69232suLhYTz31lPr27asePXooMTFRJ0%2BeNFQLDRgAAKj3PvjgAyUmJiosLKzKc1NSUrRo0SK99NJL%2BvLLL9W/f39NnDhRhYWFkqSkpCTt3btXycnJ2rJli2w2m2bOnGmoHhowAABgWF1LwIqLi5WcnKyuXbtWee6aNWsUFxenrl27yt/fX%2BPHj5ePj4%2B2bt2qsrIyrVu3TpMmTVLLli0VFBSkKVOm6IsvvtCJEyeqXQ8NGAAAMKyuNWAjRoxQixYtqnVuamqqIiIi3L%2B32Wzq0KGDHA6H0tPTlZ%2Bfr06dOrmPt23bVv7%2B/kpNTa12PXwKEgAA1AqZmZnKysryGAsJCZHdbre0jpycHAUFBXmMBQUFyel0KicnR5IUGBjocTwwMFBOp7Par0EDVg1Nm3q7AlQlMzNTy5YlKz4%2B3vI/qDDI5fJ2BahCZmamkl9/XfEffcSfJ5zXpfij/PrryVq4cKHHWEJCghITE6u8dv369XryyScrPTZv3jzFxsaaqs3lcslms1308V%2BjAUO9kJWVpYULFyomJoZvGIBJ/HmCt8THxysmJsZjLCQkpFrXxsbGmm6yzmnevHmFNCs3N1fXXXedgoODJUlOp1ONGzd2H8/Ly3Mfqw4aMAAAUCvY7fZa0fRHRkYqNTVVv/vd7yRJZWVl2rt3r4YPH67Q0FAFBQUpNTVVrVq1kiR9//33KikpUWRkZLVfg034AADgsjd48GDt2LFDkjRq1CitX79e3377rU6dOqU333xTjRo10q233ipfX1/dfffdWrx4sX7%2B%2BWc5nU698sorGjhwoK688spqvx4JGAAAqPcGDRqkY8eOqaysTOXl5ercubMk6aOPPlKrVq2UlpamoqIiSVLfvn01bdo0zZgxQ1lZWerUqZOWLl0qf39/SdLkyZNVVFSk%2BPh4nTlzRj179tSf/vQnQ/XYXC52xKLuy8zMVHIym/CBmsCfJ%2BDSowEDAACwGHvAAAAALEYDBgAAYDEaMAAAAIvRgAEAAFiMBgwAAMBiNGAAAAAWowEDAACwGA0YAACAxWjAAAAALEYDhjpr2rRp2rp1q8rKyrxdCgAAhtCAoc7y8/PTzJkz1bt3b82ZM0fffvutt0sC6rRvv/1WzzzzjCZNmiRJKi8v10cffeTlqoD6iZ8FiTqtvLxcX331lVJSUpSSkqJGjRrpzjvv1LBhw3TNNdd4uzygzvjwww/11FNPaciQIfrggw/kcDh04sQJjRgxQg888IDuu%2B8%2Bb5cI1Cs0YKhXVq9eraSkJBUWFqpbt2566KGH1KdPH2%2BXBdR6AwcO1AsvvKBu3bqpS5cu2r17tyRp3759evTRR/Xxxx97uUKgfmng7QIAszIyMrRx40Zt2rRJx44dU79%2B/RQbG6vs7GzNmjVLf/jDHzRhwgRvlwnUatnZ2YqOjpYk2Ww29/i1116rzMxMb5UF1Fs0YKiz3nnnHW3cuFG7d%2B9WVFSUxo0bpyFDhqhJkybuc6KjozVq1CgaMKAKYWFh%2Buc//6levXp5jG/atElXXXWVl6oC6i8aMNRZK1eu1J133qmXX35ZoaGhlZ7Tpk0bDRo0yOLKgLpnwoQJSkhIUExMjM6cOaNnn31WBw4c0K5du5SUlOTt8oB6hz1gqLP%2B%2BMc/6rnnnqswXlBQoCeeeEKLFi3yQlVA3bV7926tX79eR48elb%2B/v0JDQzVixAi1bdvW26UB9Q4JGOqcjIwM/fDDD/rggw90%2B%2B2369f/hjh06JD%2B8Y9/eKk6oO6KjIzUddddpyuuuEKS5HQ61bRpUy9XBdRPNGCoc/bv368FCxaotLRU48ePr3Dcz89PI0eO9EJlQN21f/9%2BTZo0Sf/1X/%2BlwYMHS5Lee%2B89vfvuu1qyZInCw8O9XCFQv7AEiTrrrrvu0oYNG7xdBlAvjBo1SrfccovGjRsnPz8/SVJpaalWrFihzz//XO%2B%2B%2B66XKwTqFxow1CmlpaVq2LChJKmkpOSC5zZq1MiKkoB6ISoqSjt27JCvr6/H%2BJkzZ9S9e3ft2rXLS5UB9RNLkKhTbrjhBn333XeSpC5dung8r%2Bgcl8slm82mffv2WV0eUGeFhIRo586d6t69u8f4l19%2BqeDgYC9VBdRfNGCoU/7yl7%2B4f71q1SovVgLUL4888ogmTJigXr16qVWrViovL1daWpq%2B/vprzZ8/39vlAfUOS5Cos3gMBVCz9uzZow0bNigjI0OSdPXVVysuLk4dOnTwcmVA/UMChjqHx1AAl0ZkZKQiIyO9XQZwWaABQ53DYyiAmjFjxgy98MILkqTHHnvsgufyNHygZtGAoc4ZOHCgBg4cyGMoAJPOfaJY4lPDgNXYA4Y6raysTJmZmTp9%2BnSFY23atPFCRUDdtGPHDt1www3eLgO4bNCAoc764IMPNHfuXBUUFFTYB8ZjKABjunXrpu3bt5OEARahAUOd1adPH8XHx2vIkCHy9/evcLxVq1ZeqAqom1atWqX09HSNHj1aLVu2VIMGnjtUaMyAmkUDhjqrW7du%2Bvrrrys8uRuAcVFRUTpz5oxKS0s9HnDMg42BS4NN%2BKiz%2Bvfvr6%2B%2B%2Bko9e/b0dilAnbdkyRJJUnl5uXJycmSz2dSsWbNKf9oEAPNowFBntWvXTjNnzlRUVJRat24tHx8fj%2BPTpk3zUmVA3dOuXTvNnj1bf//7390/Z9Xf31%2B33nqrnnrqKS9XB9Q/LEGizrr33nvPe8xms/GjigAD7rnnHvn4%2BGjs2LG66qqrJEk//vijVq5cKR8fH61cudLLFf7/9u7nFbYwjuP459xu2RhKGgsNSonkFKUsBsVKaTaTFUrNmixmYcsf4EeRjVlI1mOnlLLRpMyIsZqN8qMYFmIiE8dd3FIy153bvfccz/R%2B7eZ5nsVnN5/O95kzQGmhgKEkZTIZNTU1eR0DMIZt29rd3ZXP53u3fnt7q97eXh0eHnqUDChNjCBhvJubm7eRiSRdXV0pEokolUp5mAowS11dnR4fHz8UsHw%2Br0Ag4FEqoHRRwGCsVCqlyclJXV9ff9jr6enxIBFgromJCUWjUY2MjKihoUGO4%2Bj09FTr6%2BuKRCI6OTl5O8tLjoG/xwgSxgqHwwoGgxoYGNDQ0JDi8biOj4%2B1tbWlmZkZVVdXex0RMEZzc/On%2B5Zl8UoK4IvOOisAAAI6SURBVB%2BigMFYHR0dSiaTsixLtm3r6OhI0s8nY0tLS4rFYh4nBMxxcXFR9Flecgz8PUaQMFZFRYWy2axqamrk8/l0dnamQCCgtrY27n8Bf4hSBbiLAgZjDQ4OKhwOa3NzU8FgUOPj4wqFQkqn03yZAAC%2BNEaQMNrGxoZCoZAeHh40PT39Vr6i0ahaWlq8jgcAQEEUMAAAAJcxgoSxZmdnP93nr4gAAF8VBQzGOjg4ePfZcRydn58rn8%2Brq6vLo1QAAPweBQzGWltbK7i%2BsrIix3FcTgMAQPG4A4aS8/z8rO7ubiUSCa%2BjAABQ0DevAwD/2t7enl5eXryOAQDALzGChLGCweCHtaenJ93f32tsbMz9QAAAFIkRJIwVj8c/rJWVlam%2Bvl6tra0eJAIAoDgUMBirr69PlmUVdXZ7e/s/pwEAoHiMIGGs4eFhra6uqr%2B/X42NjXIcR5lMRjs7OxodHVVlZaXXEQEAKIgCBmMlEgktLCyovb393fr%2B/r6Wl5cVi8U8SgYAwOf4FSSMlUwmC971sm1bqVTKg0QAABSHAgZj%2Bf1%2Bzc/P6%2B7u7m0tl8tpcXFRtbW1HiYDAOBzXMKHsRKJhKamppTNZlVeXi7LspTL5VRVVaW5uTl1dnZ6HREAgIIoYDCa4zhKp9O6vLzU6%2Bur/H6/bNvW9%2B9cbwQAfF0UMAAAAJdxBwwAAMBlFDAAAACXUcAAAABcRgEDAABwGQUMAADAZRQwAAAAl1HAAAAAXEYBAwAAcNkPIBIArdt9bGAAAAAASUVORK5CYII%3D\" class=\"center-img\">\n",
       "    <img src=\"data:image/png;base64,iVBORw0KGgoAAAANSUhEUgAAAmAAAAIWCAYAAADwEDEMAAAABHNCSVQICAgIfAhkiAAAAAlwSFlzAAAPYQAAD2EBqD%2BnaQAAADl0RVh0U29mdHdhcmUAbWF0cGxvdGxpYiB2ZXJzaW9uIDIuMi4yLCBodHRwOi8vbWF0cGxvdGxpYi5vcmcvhp/UCwAAIABJREFUeJzs3XtclGX%2B//H3CAoJiqKMmpKlBYqggZmmZkm6qKmxfjXD3TzkZmlgaLZpa62HspOma1iubZ7K9cu6mqf8ZZqdc11NzQnPRkprAupwVjnN7w/X%2BTaBwu2NM2Cv5%2BPBo7juA5%2B5eth8fF/X3FgcDodDAAAAcJtani4AAADg14YGDAAAwM1owAAAANyMBgwAAMDNaMAAAADcjAYMAADAzWjAAAAA3IwGDAAAwM1owAAAANyMBgwAAMDNvD1dAIDL27dvn9asWaM9e/boxx9/1Llz5%2BTj4yOr1arw8HD169dP0dHRslgsni4VAGCAhd8FCVQ/DodDL774ot59911JUkBAgEJCQuTv76%2B8vDwdOHBAeXl5kqSePXtq/vz5qlOnjidLBgAYQAMGVEMrVqzQjBkz5Ovrq%2BnTp6t///7y9v6/wPr8%2BfP63//9X73yyisqLS1VfHy8EhISPFgxAMAI9oAB1dDKlSslScOHD1dsbKxL8yVJvr6%2BGjlypB599FFJ0t///ncVFha6vU4AwNWhAQOqoRMnTkiSQkNDr3jeyJEj9be//U0bNmxwLkFOnjxZoaGheuWVV5Sfn6%2BXXnpJ0dHRioiIUJcuXZSQkKDDhw9f9p7bt29XfHy8unfvrvDwcHXp0kUjR47Uhg0bLntNVlaW5s6dq9jYWEVGRqpdu3bq2rWrHn/8ce3YsaPca6KjoxUaGqrPP/9cW7ZsUb9%2B/RQREaFvvvlGkvTGG28oNDRUkydPVmFhod544w3FxMSoffv2uueeezRz5kwVFBRIko4cOaLx48erW7duioiI0IABA7R%2B/fpyf%2B65c%2Bf09ttv68EHH9Qdd9yhdu3aqXPnzho1apS2bNlS7jUPP/ywQkNDtXLlSuXn52vu3LnOWjp16qRHH31U33333WXnBwB%2BiQYMqIYCAwMlSXv37q3wvLvvvluNGzcucyw/P18jR47UypUr1bBhQ3Xq1EklJSX66KOPNGTIkHIbhrlz52rkyJHasmWL/Pz81LlzZwUGBmr79u2aNGmSEhMTVVJS4nJNZmamBg0apIULF%2Br7779XWFiYunTpojp16uiTTz7RiBEjtHr16su%2Bhu%2B//14TJkxQ7dq11aVLF/n6%2BpY55%2Bmnn9bixYvVvHlz3XbbbUpPT9d7772nZ555RocPH1ZcXJwOHjyoNm3aqHHjxjp8%2BLCefvppffrppy73OXfunIYNG6bZs2crJSVFrVu3VpcuXRQQEKCvv/5a8fHxeuONNy5ba2FhoUaOHKlly5apWbNmateunYqLi/X555/r4YcfdjbOAFAhB4Bq55lnnnGEhIQ4QkNDHa%2B88oojPT3d8LVRUVGO/v37u1ybk5PjGDx4sCMkJMQxePBgl%2Bu2bNniCAkJcXTq1Mnx6aefuhz797//7ejatasjJCTEsWTJEpdjM2fOdISEhDhiYmIcp0%2Bfdo4XFxc7XnzxRUdISIijY8eOjry8PJfrevbs6QgJCXFER0c73nrrrTKvY/78%2BY6QkBBH9%2B7dHQMGDHBkZmY6j23YsME5P3369HG88cYbjtLSUofD4XBcuHDB8dhjjzlCQkIco0ePdrnnkiVLHCEhIY4uXbo4UlNTyz3Wtm1bx4kTJ1yO/f73v3eEhIQ47r33XkdcXJzjzJkzzmMnTpxwdOvWzRESEuKYNWtWmdcBAOUhAQOqocTERDVr1kwOh0PvvPOO7r33Xv3%2B97/XvHnz9PXXX%2BvcuXMV3iMvL0/Tpk2T1Wp1jtWrV0%2BTJ0%2BWdPERFz/88IPz2JtvvilJeuaZZ3TPPfe43KtTp0764x//KElatmyZHD/77E6TJk10//33Kz4%2BXo0aNXKOe3l5acKECapVq5Zyc3Mvm%2BaVlpZqzJgxl30dGRkZmjx5skvK179/fwUFBcnhcMjb21tPPPGE81EcderU0e9%2B9ztJ0v79%2B13u5efnpwEDBujxxx/XzTff7HJsxIgRCgoKUklJibZv315uLenp6Zo1a5YzoZSk4OBgDRgwQJL07bffXvZ1AMDP8RwwoBpq2rSp/vGPf%2Bi1117TBx98oJKSEu3cuVM7d%2B7UW2%2B9pdq1a6tz584aOHCg7r///jKb9CXJarWqY8eOZcYjIyPl5%2Ben/Px87d27VzfffLMyMjKUkpIiSerdu3e5NfXq1UsWi0UnT57UDz/8oFtuuUWSnB8EKM8NN9ygRo0aKTMzU5mZmeWe06VLF9Wqdfm/CwYFBalr165lxps3b67MzEz17NmzzHPQmjdvLknKzs52GR8yZIiGDBlS7s%2BxWCxq0aJFhbX%2BsnGTpJtuukmSZLfbL/s6AODnaMCAaspqteq1117TM888oy1btujrr7/WN998ozNnzqioqEhffvmlvvzyS7399tt68803nU3AJSEhIeXet1atWmrevLkOHz6s//znP5KkQ4cOOY9fSsjK4%2B3traKiIpcGTLq4N%2Bqzzz7Td999p4yMDOXk5DhTstzcXEkXk67yNGnS5Irz0KJFi3LHL33o4FKzVd6x4uLiMsdKS0v11Vdfac%2BePcrIyFBWVpazttTU1CvWGhwcXO64j4%2BPJKmoqOhKLwUAnGjAgGqucePGiouLU1xcnKSLm9Z37NihdevWac%2BePTpy5IjGjBmjDRs2qHbt2s7rAgICLnvPevXqSbq4UV9yTYo%2B/vjjCmu61FRJ0sGDB/XEE0/oxx9/NPbCKlGnJJfXdDXHf%2B7kyZN64oknyixNVhYPuwVQVWjAgBqmVatWatWqleLi4rRs2TLNmjVLqamp2rRpkx544AHneVda1ruU8FxKbi4t4dWuXVs2m63Sv9ro/PnzGjt2rE6ePKmbb75Z48aN01133aWGDRs6G6Po6Ghn0lYed/4apfHjx2v//v1q3LixEhIS1KNHDzVu3NjZWD388MP697//7bZ6APx60YABNdiIESP03nvv6cSJEzp69KjLsUu/qqg8l45d2jTfoEEDSReX0Ox2u8sm8yv5/PPPdfLkSVksFv31r38td39UTk5Ope51raWkpMhms0mSZs%2BerbvuuqvMOb/cMwYA1wqfggSqmS1btuj555/XokWLKnX%2BpSW8Xy6P/bIhu6SkpMSZSF36ZOHP94sdOXKk0rVe%2BhTlTTfdVG7zlZqa6rJc6UnHjx%2BXJOfzxn4pPz9f33//vbvLAvArRQMGVDM2m03JyclatGiRTp48ecVz09PTdfDgQUnS7bff7nIsLS1NBw4cKHPNN99843yCfPv27SVd/KRhu3btJEn/%2BMc/yv1ZqampeuCBB/TWW285xy7tJbtw4UK51yxcuND57798gKu7%2Bfv7O%2Bsob7P8O%2B%2B84xwvb/M%2BAFQlGjCgmhk1apSCgoKUm5urESNGlPurfBwOh/71r3/pD3/4g4qKinT77berW7duLufUq1dPU6dO1ZkzZ5xjWVlZevnllyVdfKTCjTfe6Dz2%2BOOPS5I2btyopUuXujzr6/jx4xo/frwOHjyon376yTnepk0bSdKpU6e0detW5/i5c%2Bf0wgsvyGazKTIyUpI8ni6FhITIy8tLpaWl%2Bvvf/%2B4cLy4u1qJFi5ScnKyePXtK%2Br9PQwLAtcIeMKCaadiwoRYvXqyEhAT98MMPGj58uIKCgtSqVSvVrVtXWVlZ%2BvHHH53PqurYsaOSkpLKbLqPjo5WWlqa7rvvPkVERKh27dr69ttvlZeXJ39/fz3//PMu5//mN7/RmDFjtGjRIr300ktavny5WrVqJbvdrgMHDqikpES33367y2MqIiMj1b17d3355ZdKSEhQhw4d5OPjo%2B%2B%2B%2B07e3t5avHixNm3apD179mj58uU6dOiQxo4dq06dOl37ifyFpk2bavDgwUpOTtZLL72k9evXq0GDBjpw4IDy8/OVlJSkH3/8UZ988ok2b96shx9%2BWMOGDVPfvn3dXiuA6x8NGFANhYSEaMOGDfrggw%2B0bds2HTx4UPv27VNhYaF8fX3VpEkT3XXXXerXr5/uvffecj9JWKtWLS1evFhvvvmmPvroI508eVJ%2Bfn6KiYnRhAkTXJ7jdclTTz2lu%2B66SytWrNDevXu1fft2%2Bfj4KDw8XP369dOwYcPK7DWbN2%2BeZs%2BerY8//ljfffedrFarYmJi9Pjjj%2Bumm25Ss2bNtH//fu3evVtHjhxx66cef2nq1KkKCAjQxo0bdfjwYQUGBqpz58567LHH1LZtW50/f147duzQ559/riNHjrikgABQlSwO/g8DXFcmT56s999/X7/97W%2Bdy40AgOqFPWAAAABuRgMGAADgZjRgAAAAbkYDBgAArhtffPGFunbtqgkTJlzxvNLSUs2ZM0f33XefOnXqpNGjRzsf2CxJdrtdTz75pLp27aru3btrypQpOnfuXJXVySZ8AABwXXj77bf1z3/%2BU4GBgWratKnmzp172XOXLVumZcuW6e2331bTpk01b948/etf/9L69etlsVj0xBNPqLi4WC%2B99JKKi4uVmJioNm3alHmEz9UiAQMAANcFHx8f/fOf/1TLli0rPHfVqlUaOXKkWrduLT8/PyUmJio1NVXffvutTp8%2BrW3btmnChAkKDAyU1WrV2LFj9f7775f7mzSuBs8BAwAA1UJGRobzIdOXBAUFyWq1Vur64cOHV%2Bq88%2BfP6%2BjRowoLC3OO%2Bfn56aabbpLNZlNubq68vLwUGhrqPB4WFqaCggJ9//33LuNXiwasMjz44EhU0i23SEeOSLfdJvFrZKq19FPseqjuvLykRo2kM2ckD/8KT1SgSRMP/vBr8N6YPH%2B%2BkpKSXMbi4%2BOVkJBQpT8nOztbDodDAQEBLuMBAQGy2%2B1q0KCB/P39XR4cfelcu91eJTXQgOH60KDBxXeNBg08XQlQ41ks//cFuNPQoUMVHR3tMhYUFOS2n%2B9wOCr8bR1V9ds8aMAAAIBxtap%2BG7nVaq30cqMZDRo0UK1atcqkWdnZ2QoMDFRgYKByc3NVUlIiLy8vSVJWVpYkKTAwsEpqYBM%2BAAD4VfHx8dFtt92mlJQU51hOTo5OnDih9u3bq23btnI4HDp48KDzuM1mU/369cv9PbpXgwYMAAAYV6tW1X9dQ%2Bnp6erTp4/S0tIkSXFxcVq%2BfLmOHTumvLw8zZ49W23btlVERIQCAwMVExOjefPm6ezZszp16pQWLFigwYMHy9u7ahYPWYIEAADXhYiICElScXGxJGnr1q2SLqZXRUVFSk1NVWFhoSTpoYce0unTp/Xoo48qPz9fkZGRLh8AmDFjhqZNm6b%2B/fvL29tbvXr1qvDhrkbwINbKYCdq9RcZKe3eLUVFSXv2eLoaXAGfgqz%2BvL3/71OQ/30fQzXl0U9B%2BvhU/T0vXKj6e1ZTJGAAAMC4a7xkeL1j9gAAANyMBAwAABhHAmYKDRgAADCOBswUZg8AAMDNSMAAAIBxJGCmMHsAAABuRgIGAACMIwEzhQYMAAAYRwNmCrMHAADgZiRgAADAOBIwU5g9AAAANyMBAwAAxpGAmUIDBgAAjKMBM4XZAwAAcDMSMAAAYBwJmCnMHgAAgJuRgAEAAONIwEyhAQMAAMbRgJnC7AEAALgZCRgAADCOBMwUZg8AAMDNSMAAAIBxJGCm0IABAADjaMBMYfYAAADcjAQMAAAYRwJmCrMHAADgZiRgAADAOBIwU2jAAACAcTRgpjB7AAAAbkYCBgAAjCMBM4XZAwAAcDMSMAAAYBwJmCk0YAAAwDgaMFOYPQAAADcjAQMAAMaRgJnC7AEAALgZCRgAADCOBMwUGjAAAGAcDZgpzB4AAICbkYABAADjSMBMYfYAAADcjAQMAAAYVw0TsLS0NM2YMUP79u1T3bp11adPH02aNEleXl4u5z3yyCPauXOny1hJSYkeeOABvfTSS5o/f77eeusteXv/X5vk4%2BOjXbt2VVmtNGAAAMC4atiAjR8/XuHh4Xr99dd19uxZjRkzRo0bN9bo0aNdzlu8eLHL9%2BfPn9f999%2Bv/v37S5JycnI0ePBgzZw585rVWv1mDwAAwCCbzaZDhw5p0qRJqlevnlq2bKlRo0Zp1apVFV67YMEChYeHq1u3bpIuNmABAQHXtF4SMAAAYNw1SMAyMjKUmZnpMhYUFCSr1VrhtSkpKWrevLlL4xQWFqbU1FTl5eXJ39%2B/3OtOnjyp9957Txs3bnSO5eTk6KefftKAAQN06tQphYaGavLkyQoPD7/KV1YWDRgAADDuGjRgycnJSkpKchmLj49XQkJChddmZWWpfv36LmOXmjG73X7ZBuztt99W37591bx5c%2BdYUFCQ/Pz89PLLL6t%2B/fpasGCBHnnkEX344YcKDAw0%2BrLKRQMGAACqhaFDhyo6OtplLCgo6Krv53A4JEkWi6Xc4zk5OfrnP/%2Bp1atXu4z/cu/X008/rY0bN%2Brjjz/WkCFDrrqen6MBAwAAxl2DBMxqtVZqubE8gYGBstvtLmPZ2dmyWCxq2LBhudd8/PHHatasmUJCQq54by8vLzVr1kwZGRlXVVt52IQPAABqvPDwcJ08eVJnz551jtlsNt16663y8/Mr95qtW7eqR48eLmMOh0OvvvqqDh065BwrKirSiRMnFBwcXGX10oABAADjatWq%2Bi8TwsLC1L59e82ZM0d5eXk6duyYlixZori4OElSnz59yjzHa//%2B/WWaKovFouPHj2vGjBlKT09Xfn6%2BZs%2BerTp16qhXr16mavw5GjAAAGBcNWvAJGn%2B/Pk6c%2BaMoqOjNWbMGMXGxmrYsGGSpNTUVBUUFLicn5mZWe6S54svvqgWLVpo0KBB6tmzp44eParly5erbt26pmu8xOK4tEMNl3eZzXuoRiIjpd27pagoac8eT1eDK0g/xf9yqjtvb6lRI%2BnMGam42NPV4EqaNPHgD4%2BJqfp7bt5c9fesptiEDwAAjKuGT8KvSZg9AAAANyMBAwAAxpGAmUIDBgAAjKMBM4XZAwAAcDMSMAAAYBwJmCnMHgAAgJuRgAEAAONIwEyhAQMAAMbRgJnC7AEAALgZCRgAADCOBMwUZg8AAMDNSMAAAIBxJGCm0IABAADjaMBMYfYAAADcjAQMAAAYRwJmCrMHAADgZiRgAADAOBIwU2jAAACAcTRgpjB7AAAAbkYCBgAAjCMBM4XZAwAAcDMSMAAAYBwJmCk0YAAAwDgaMFOYPQAAADcjAQMAAMaRgJnC7AEAALgZCRgAADCOBMwUGjAAAGAcDZgpzB4AAICbkYABAADjSMBMYfYAAADcjAQMAAAYRwJmCg0YAAAwjgbMFGYPAADAzUjAAACAcSRgptCAAQAA42jATGH2AAAA3IwEDAAAGEcCZgqzBwAA4GYkYAAAwDgSMFNq5Ozt3LlTERERKiws9HQpAAD8OtWqVfVfvyI15tV%2B9NFHOn78uCSpU6dOstlsqlOnTpljAADg1yktLU2PPvqoOnfurJ49e%2BqVV15RSUlJmfNWr16tNm3aKCIiwuXr9OnTkqQLFy7oueeeU48ePdSlSxclJCTo7NmzVVprjWnA5s%2Bff9km60rHAADANVANE7Dx48eradOm2rp1q5YuXapt27Zp6dKlZc7Lzc1V165dZbPZXL4aN24sSZozZ47279%2Bv5ORkbd68WRaLRVOmTDFd388ZfrXbt2/Xb37zG3Xo0EGjR4/W3/72N0VHR2vNmjXq1q2by7kPP/ywZs%2BeLUlyOByaPXu27rnnHkVGRmrQoEH65ptvXM5duHChnn76aUVFRal79%2B5au3atJGngwIE6cuSIxo0bpylTpmjHjh0KDQ3VhQsXyhzr3bu33n33XZc6pkyZosTERMOTAwAAagabzaZDhw5p0qRJqlevnlq2bKlRo0Zp1apVZc7Nzs5WQEBAufcpKSnRmjVrNG7cODVr1kwBAQFKTEzUZ599pvT09Cqr19Am/JKSEj3zzDPq16%2BfJkyYoJSUFD355JOqXbt2hdeuW7dO77//vlatWqUmTZpo/vz5SkxM1BdffOE8Z8WKFZo1a5ZmzZqlhQsXaubMmbr//vu1fv16hYaG6s0331SPHj20Y8cO5zW/PJaUlKQNGzbo4Ycfdtb8ySef6MUXX6zUa8zIyFBmZqbLWNAtt8jaoEGlroeHtGnj%2Bk9UW9589Kfa8/Jy/SdQrmuwZ6vc9%2BCgIFmt1gqvTUlJUfPmzV0aq7CwMKWmpiovL0/%2B/v7O8ZycHB0/flxDhgxRamqqWrZsqYkTJ6pbt246fvy4cnNz1a5dO%2Bf5rVq1kq%2Bvr1JSUtSkSZMqeKUGGzCbzab09HQ9/vjj8vHxUVRUlO677z59/vnnFV7bv39/9ezZ0zkxffv21cKFC5WRkeGc2MjISN19993O40lJScrIyFDz5s0rXeMDDzygpKQkHT9%2BXC1bttS///1vORwO9ejRo1LXJycnKykpyWUs/sknlfDkk5WuAR709797ugJUoJGnC0Cl8fdOXNE1aMDKfQ%2BOj1dCQkKF12ZlZal%2B/fouY5d6Drvd7tKANWjQQFarVZMmTdKNN96o5ORkPfbYY1q3bp2ys7Mlqcy96tevL7vdflWvqzyGGrBTp07J399fDX72p7J169aVasDOnz%2BvWbNm6YsvvlBOTo5z/OefZGzRooXz3319fZ3XGREcHKyoqCht2LBB8fHx2rJli/r27VuplE6Shg4dqujoaJexoAEDpGXLDNUBN2vT5mLzNWyYdPCgp6vBFZzZstvTJaACXl4Xm6%2BsLKmc/cuoRhpdZ3%2BjKfc9OCjoqu/ncDgkSRaLxWX8lw3dqFGj9MEHH2jDhg2XDWwcDkeZ%2B5hhqAEr74eXlpZe9vyff/Jg%2BvTpOnTokFauXKmbbrpJR48eVf/%2B/V3Or1VF3XRsbKwWL16sJ554Qlu3btW8efMqfa3Vai0bdaamVkldcIODB6U9ezxdBa6guNjTFaCySkr474UruAYJWLnvwZUUGBhYJqHKzs6WxWJRw4YNK7y%2BRYsWysjIUGBgoKSLqVndunWdx3NycpzHqoKh2bNarcrLy3NJsI4cOSJJ8vHxcUmrHA6HfvzxR%2Bf3%2B/bt08CBA9WyZUtZLBalpKSYrf2y%2Bvbtq5MnT2rlypWqXbu2oqKirtnPAgAAnhceHq6TJ0%2B6PC7CZrPp1ltvlZ%2Bfn8u5ixYtctlPLknHjh1TcHCwgoODFRAQ4NKnHD58WIWFhQoPD6%2Byeg01YO3bt1dgYKAWLVqkCxcuaNeuXfr0008lSS1btlReXp6%2B%2BOILFRUV6Z133imzvGiz2VRYWKjdu3dr8%2BbNklTpTxT4%2BPjo6NGjysvLq/BYvXr1FB0drTlz5mjAgAFGXiIAAKiMavYYirCwMLVv315z5sxRXl6ejh07piVLliguLk6S1KdPH%2B3atUuSdPr0aU2fPl2pqam6cOGClixZorS0NA0aNEheXl568MEHtXDhQv3000%2By2%2B16/fXX1bt3b%2BdjKqqCoVdbu3ZtzZ07V5988onuvPNOLViwQL/73e8kXew8R44cqYkTJ6p79%2B4qLi5W586dndc%2B9dRTOnr0qO68804lJSVp%2BvTpuueee/SHP/xBByuxZ%2Behhx7S3Llz9fTTT1fqWGxsrPLy8jRw4EAjLxEAAFRGNWvApIvPBT1z5oyio6M1ZswYxcbGatiwYZKk1NRUFRQUSLrYk3Tr1k3Dhw9X165d9dFHH2nZsmXOTziOHz9et99%2Bu4YOHar7779f/v7%2BlX6aQmVZHJd2qF2llStX6u2339a2bduqqqYqsXr1aq1evVp/r4pPxVXhpjtcI5GR0u7dUlQUe8CqufRTpv6XAzfw9r64ufvMGfaAVXdV9ESEq/PSS1V/zyp%2B2Gl1dl0%2BkSc1NVV/%2BctfNHPmTE%2BXAgDA9elX9rsbq9p114A9//zz2rx5s0aOHKl77rnH0%2BUAAACUYXoJ8leBJcjqjyXIGoMlyOqPJciaw6NLkK%2B9VvX3LGef9/XqukvAAACAG7AEaQqzBwAA4GYkYAAAwDgSMFOYPQAAADcjAQMAAMaRgJlCAwYAAIyjATOF2QMAAHAzEjAAAGAcCZgpzB4AAICbkYABAADjSMBMoQEDAADG0YCZwuwBAAC4GQkYAAAwjgTMFGYPAADAzUjAAACAcSRgptCAAQAA42jATGH2AAAA3IwEDAAAGEcCZgqzBwAA4GYkYAAAwDgSMFNowAAAgHE0YKYwewAAAG5GAgYAAIwjATOF2QMAAHAzEjAAAGAcCZgpNGAAAMA4GjBTmD0AAAA3IwEDAADGkYCZQgMGAACMowEzhdkDAABwMxIwAABgHAmYKcweAACAm5GAAQAA40jATKEBAwAAxtGAmcLsAQAAuBkJGAAAMI4EzBRmDwAAwM1IwAAAgHEkYKbQgAEAAONowExh9gAAwHUhLS1Njz76qDp37qyePXvqlVdeUUlJSbnnrly5UjExMYqMjNSAAQO0detW57H58%2Berbdu2ioiIcH7dcccdVVorCRgAADCuGiZg48ePV3h4uF5//XWdPXtWY8aMUePGjTV69GiX87Zu3ao5c%2Bbor3/9qzp06KANGzYoMTFR/%2B///T8FBwcrJydHgwcP1syZM69ZrdVv9gAAAAyy2Ww6dOiQJk2apHr16qlly5YaNWqUVq1aVebcgoICTZw4UR07dpS3t7d%2B%2B9vfys/PT3v37pUk5eTkKCAg4JrWSwIGAACMuwYJWEZGhjIzM13GgoKCZLVaK7w2JSVFzZs3d2mcwsLClJqaqry8PPn7%2BzvHBw4c6HJtTk6O8vPz1aRJE%2Bf3P/30kwYMGKBTp04pNDRUkydPVnh4uJmX54IGDAAAGHcNGrDk5GQlJSW5jMXHxyshIaHCa7OyslS/fn2XsUvNmN1ud2nAfs7hcGjq1Knq0KGD7rzzTkkXmz4/Pz%2B9/PLLql%2B/vhYsWKBHHnlEH374oQIDA6/mpZVBAwYAAKqFoUOHKjo62mUsKCjoqu/ncDgkSRaLpdzjRUVFmjx5so4eParly5c7x3%2B59%2BvUsiIBAAAgAElEQVTpp5/Wxo0b9fHHH2vIkCFXXc/P0YABAADjrkECZrVaK7XcWJ7AwEDZ7XaXsezsbFksFjVs2LDM%2BefPn9e4ceN07tw5rVixotxzLvHy8lKzZs2UkZFxVbWVh034AACgxgsPD9fJkyd19uxZ55jNZtOtt94qPz8/l3MdDocmTJggb29vLV261KX5cjgcevXVV3Xo0CHnWFFRkU6cOKHg4OAqq5cGDAAAGFerVtV/mRAWFqb27dtrzpw5ysvL07Fjx7RkyRLFxcVJkvr06aNdu3ZJkjZs2KCjR4/qL3/5i3x8fFzuY7FYdPz4cc2YMUPp6enKz8/X7NmzVadOHfXq1ctUjT/HEiQAADCuGj4HbP78%2BZo2bZqio6NVr149xcbGatiwYZKk1NRUFRQUSJJWr16t//znP85N95c88MADeuGFF/Tiiy/qpZde0qBBg1RUVKSIiAgtX75cdevWrbJaLY5LO9RweZfZvIdqJDJS2r1bioqS9uzxdDW4gvRT/C%2BnuvP2lho1ks6ckYqLPV0NruS/T03wjO3bq/6ed91V9fespkjAAACAcdUwAatJmD0AAAA3IwEDAADGkYCZQgMGAACMowEzhdkDAABwMxIwAABgHAmYKcweAACAm5GAAQAA40jATKEBAwAAxtGAmcLsAQAAuBkJGAAAMI4EzBRmDwAAwM1IwAAAgHEkYKbQgAEAAONowExh9gAAANyMBAwAABhHAmYKswcAAOBmJGAAAMA4EjBTaMAAAIBxNGCmMHsAAABuRgIGAACMIwEzhQYMAAAYRwNmCrMHAADgZiRgAADAOBIwU5g9AAAANyMBAwAAxpGAmUIDBgAAjKMBM4XZAwAAcDMSMAAAYBwJmCnMHgAAgJuRgAEAAONIwEyhAQMAAMbRgJnC7AEAALgZCRgAADCOBMwUZg8AAMDNSMAAAIBxJGCm0IABAADjaMBMYfYAAADcjAQMAAAYRwJmCrMHAADgZiRgAADAOBIwU2jAAACAcTRgpjB7AADgupCWlqZHH31UnTt3Vs%2BePfXKK6%2BopKSk3HOXLl2qmJgYdezYUXFxcdq3b5/z2IULF/Tcc8%2BpR48e6tKlixISEnT27NkqrZUGDAAAGFerVtV/mTR%2B/Hg1bdpUW7du1dKlS7Vt2zYtXbq0zHlbt27VggUL9Oqrr%2Bqrr77Sfffdp7Fjxyo/P1%2BSNGfOHO3fv1/JycnavHmzLBaLpkyZYrq%2Bn6MBAwAANZ7NZtOhQ4c0adIk1atXTy1bttSoUaO0atWqMueuWrVKgwYNUocOHeTr66vRo0erVq1a%2BvTTT1VSUqI1a9Zo3LhxatasmQICApSYmKjPPvtM6enpVVYve8AAAIBx12APWEZGhjIzM13GgoKCZLVaK7w2JSVFzZs3V0BAgHMsLCxMqampysvLk7%2B/v8u5/fr1c35vsVjUpk0b2Ww2tW3bVrm5uWrXrp3zeKtWreTr66uUlBQ1adLEzEt0ogGrhPRTDk%2BXgAp4e0uNJJ3ZslvFxZ6uBlfSpKnF0yWgIpGR0u7datQ7Stqzx9PV4Eocnnt/cqjq/ywnJycrKSnJZSw%2BPl4JCQkVXpuVlaX69eu7jF1qxux2u0sDlpWV5dKoXTrXbrcrKytLksrcq379%2BrLb7ZV/MRWgAQMAANXC0KFDFR0d7TIWFBR01fdz/LdBtVgqbhYdDscVz6vouFE0YAAAwLDS0qq/p9VqrdRyY3kCAwPLJFTZ2dmyWCxq2LChy3jDhg3LPfe2225TYGCgpIupWd26dZ3Hc3JynMeqApvwAQBAjRceHq6TJ0%2B6PC7CZrPp1ltvlZ%2BfX5lzU1JSnN%2BXlJRo//796tChg4KDgxUQEOBy/PDhwyosLFR4eHiV1UsDBgAADCstrfovM8LCwtS%2BfXvNmTNHeXl5OnbsmJYsWaK4uDhJUp8%2BfbRr1y5JUlxcnNauXau9e/fq3Llzeuutt1SnTh3de%2B%2B98vLy0oMPPqiFCxfqp59%2Bkt1u1%2Buvv67evXurcePGZqfNiSVIAABg2LVYgjRr/vz5mjZtmqKjo1WvXj3FxsZq2LBhkqTU1FQVFBRIknr06KGJEydq8uTJyszMVLt27bRo0SL5%2BvpKuvg8sYKCAg0dOlTFxcXq2rWr/vznP1dprRaHw4MfoaghqvCxH7hGvL2lRo2kM2fEpyCrOT4FWQP891OQiuJTkNWeB9/CL1yo%2Bnv6%2BFT9PasrEjAAAGBYdUzAahL2gAEAALgZCRgAADCMBMwcGjAAAGAYDZg5LEECAAC4GQkYAAAwjATMHBIwAAAANyMBAwAAhpGAmUMDBgAADKMBM4clSAAAADcjAQMAAIaRgJlDAwYAAAyjATOHJUgAAAA3IwEDAACGkYCZQwIGAADgZiRgAADAMBIwc2jAAACAYTRg5rAECQAA4GYkYAAAwDASMHNIwAAAANyMBAwAABhGAmYODRgAADCMBswcliABAADcjAQMAAAYRgJmDgkYAACAm5GAAQAAw0jAzKEBAwAAhtGAmcMSJAAAgJuRgAEAAMNIwMwhAQMAAHAzEjAAAGAYCZg5NGAAAMAwGjBzWIIEAABwMxIwAABgGAmYOSRgAAAAbkYCBgAADCMBM4cGDAAAGEYDZg5LkAAAAG5GAgYAAAwjATOHBAwAAMDNSMAAAIBhJGDm0IABAADDaMDMYQkSAABc9%2Bx2u5588kl17dpV3bt315QpU3Tu3LnLnv/RRx9p4MCBioyMVO/evZWcnOw8tnr1arVp00YREREuX6dPn650PSRgAADAsJqWgE2dOlXFxcXauHGjiouLlZiYqNdee03PP/98mXNtNpsmTZqk119/XT179tT27dv1%2BOOPq3Xr1rrjjjuUm5urrl27avHixVddDwkYAAC4rp0%2BfVrbtm3ThAkTFBgYKKvVqrFjx%2Br9999XUVFRmfPtdrsee%2Bwx9erVS15eXurevbtCQkK0a9cuSVJ2drYCAgJM1UQCBgAADLsWCVhGRoYyMzNdxoKCgmS1Wk3d98CBA/Ly8lJoaKhzLCwsTAUFBfr%2B%2B%2B9dxiWpR48e6tGjh/P74uJiZWZmqkmTJpKknJwcHT9%2BXEOGDFFqaqpatmypiRMnqlu3bpWuiQYMAAAYdi0asOTkZCUlJbmMxcfHKyEhwdR9s7Ky5O/vL4vF4hy7lGDZ7fYKr589e7bq1q2rfv36SZIaNGggq9WqSZMm6cYbb1RycrIee%2BwxrVu3Tq1bt65UTTRgAACgWhg6dKiio6NdxoKCgip17dq1a/Xss8%2BWe2zWrFmXve7nTdkvORwOzZ49Wxs3btTy5cvl4%2BMjSWUawlGjRumDDz7Qhg0blJiYWKl6acAAAIBh1yIBs1qtV73cGBsbq9jY2HKPffXVV8rNzVVJSYm8vLwkXUzFJCkwMLDca0pLSzVlyhTt27dPK1euVHBw8BV/fosWLZSRkVHpetmEDwAArmtt27aVw%2BHQwYMHnWM2m03169fXLbfcUu41s2bN0pEjR8ptvhYtWqQdO3a4jB07dqzCJu3naMAAAIBhpaVV/3WtBAYGKiYmRvPmzdPZs2d16tQpLViwQIMHD5a398XFwBEjRmjTpk2SpG%2B%2B%2BUbr16/XokWL1KBBgzL3O336tKZPn67U1FRduHBBS5YsUVpamgYNGlTpmliCBAAAhtW054DNmDFD06ZNU//%2B/eXt7a1evXppwoQJzuNpaWnKzs6WdPFBq7m5uerZs6fLPTp16qTFixfrqaeeksPh0PDhw1VQUKCQkBAtW7bM%2BSnJyrA4HA5H1by061d6uqcrQEW8vaVGjaQzZ6TiYk9Xgytp0vTyG15RTURGSrt3S1FR0p49nq4GV%2BLBt/DNm6v%2BnjExVX/P6ooEDAAAGFbTErDqhgYMAAAYRgNmDpvwAQAA3IwEDAAAGEYCZg4JGAAAgJuRgAEAAMNIwMyhAQMAAIbRgJnDEiQAAICbkYABAADDSMDMIQEDAABwMxIwAABgGAmYOTRgAADAMBowc1iCBAAAcDMSMAAAYBgJmDkkYAAAAG5GAgYAAAwjATOHBgwAABhGA2YOS5AAAABuRgIGAAAMIwEzhwQMAADAzUjAAACAYSRg5tCAAQAAw2jAzGEJEgAAwM1IwAAAgGEkYOaQgAEAALgZCRgAADCMBMwcGjAAAGAYDZg5LEECAAC4GQkYAAAwjATMHBIwAAAANyMBAwAAhpGAmUMDBgAADKMBM4clSAAAADcjAQMAAIaRgJlDAgYAAOBmJGAAAMAwEjBzaMAAAIBhNGDmsAQJAADgZiRgAADAMBIwc0jAAAAA3KxGJGBTp05VYWGhXn31VU%2BXAgAARAJmVo1owF544QVPlwAAAH6mpjVgdrtd06ZN086dO1WrVi3dfffdev7553XDDTeUOfdf//qXRowYoTp16riMr1ixQu3bt1dpaanmzp2rTZs2KScnR%2B3bt9fzzz%2Bvli1bVroeliABAMB1b%2BrUqTp//rw2btyoNWvW6Pjx43rttdfKPTc3N1c333yzbDaby1f79u0lSe%2B%2B%2B64%2B%2BOADLVq0SJ9%2B%2BqlatWql%2BPh4ORyOStfjkQbsxx9/VGhoqDZv3qz7779fERERGjZsmDIzM7Vjxw5FRkZq2bJlioyM1M6dOzV58mRNmDDBef26devUu3dv3X777XrooYd04MAB57FNmzbpgQce0O2336777rtPGzdu9MRLBADgulZaWvVf18rp06e1bds2TZgwQYGBgbJarRo7dqzef/99FRUVlTk/OztbAQEBl73fqlWrNHLkSLVu3Vp%2Bfn5KTExUamqqvv3220rX5NEE7L333tM777yjL7/8Ul5eXpo2bZokqaioSD/88IO2b9%2BuO%2B64w%2BWa7777TtOmTdPMmTO1c%2BdO3XPPPRo7dqyKi4u1b98%2BPfvss3rqqaf0zTff6JVXXtFzzz2n3bt3e%2BDVAQCA6uDAgQPy8vJSaGiocywsLEwFBQX6/vvvy5yfk5Oj7OxsPfzww%2BrUqZMGDBig9evXS5LOnz%2Bvo0ePKiwszHm%2Bn5%2BfbrrpJtlstkrX5NE9YMOGDVPTpk0lSSNHjlRiYqJ%2B//vfq6ioSMOGDZOvr2%2BZa9auXau77rpLXbp0kSSNGjVKLVu2VGFhod5//3317NlTPXr0kCTdcccd6tu3r9atW6eoqKhK1ZSRkaHMzEyXMS%2BvIAUFWc28VFxjXl6u/0Q1Fhnp6QpQkTZtXP8JlONaJFblvQcHBQXJajX3HpyVlSV/f39ZLBbn2KWEy263lzm/bt26atKkiSZOnKi2bdvqo48%2B0uTJkxUUFKRWrVrJ4XCUScgCAgLKvdfleLQBu%2BWWW5z/3rx5cxUWFiorK0uS1KxZs3KvSUtL00033eT83tfXV/369ZMknThxQtu3b1dERITzuMPhUPfu3StdU3JyspKSklzGnngiXuPHJ1T6HvCcBg08XQEqRCJdc/z9756uANXYtWjAynsPjo%2BPV0JCxe/Ba9eu1bPPPlvusVmzZl32up83ZZc89NBDeuihh5zfDxgwQFu3btWaNWs0adKkcu/jcDjKvdfleLQBK/3Zf71LG9cuFV%2B7du1yr7FYLJfd5Obr66u4uDg999xzV13T0KFDFR0d7TLm5RWkM2eu%2BpZwAy%2Bvi81XVpZUUuLpanAljXpXLo2GB7Vpc7H5GjZMOnjQ09XgSq6zv9CU9x4cFBRUqWtjY2MVGxtb7rGvvvpKubm5Kikpkdd/l0ouBT6BgYGVun%2BLFi303XffqUGDBqpVq1aZtCs7O7vS95I83ICdOHHCuYb6n//8R76%2BvmpQQYQRHBzssl5bWFiopUuXavDgweWuv546dUpBQUHOCa%2BI1WotE3Wmp0vFxZW6HB5WUsJ/q2pvzx5PV4DKOniQ/164rGuRgJX3HlwV2rZtK4fDoYMHD6pdu3aSJJvNpvr167usxl3yj3/8QwEBAYqJiXGOHTt2TMHBwfLx8dFtt92mlJQU3XnnnZIu7hk7ceKE81OSleHRTfgrVqxQenq6srKytHTpUt1zzz0VxneDBg3Sjh079Mknn6ioqEjLli3TihUr5O/vr8GDB2v37t1avXq1CgsLdeDAAQ0ZMkSbN2920ysCAODXoSZ9CjIwMFAxMTGaN2%2Bezp49q1OnTmnBggUaPHiwvL0vZlEjRozQpk2bJEnnzp3TjBkz9N1336moqEibNm3SF198obi4OElSXFycli9frmPHjikvL0%2BzZ89W27ZtXbZAVcSjCVhsbKweeeQRnThxQrfffrv%2B/Oc/6%2BjRo1e8pm3btpo9e7Zmzpyps2fPqk2bNvrrX/%2BqOnXqqHXr1pozZ47mz5%2Bv6dOny2q1avTo0c49YgAA4NdpxowZmjZtmvr37y9vb2/16tXL5RFXaWlpys7OliQNHz5ceXl5Gj9%2BvOx2u2655Ra9%2BeabzvTsoYce0unTp/Xoo48qPz9fkZGRZfauVcTiMPLUsCry448/6r777tOmTZvUunVrd/94w9LTPV0BKuLtLTVqJJ05wxJkddekaeU3qcJDIiMv7i2KimIJsrpz/1u405QpVX/Pl16q%2BntWVzwJHwAAwM1qxO%2BCBAAA1UtN%2B12Q1Y1HGrAWLVro0KFDnvjRAACgCtCAmcMSJAAAgJuxBAkAAAwjATOHBAwAAMDNSMAAAIBhJGDm0IABAADDaMDMYQkSAADAzUjAAACAYSRg5pCAAQAAuBkJGAAAMIwEzBwaMAAAYBgNmDksQQIAALgZCRgAADCMBMwcEjAAAAA3IwEDAACGkYCZQwMGAAAMowEzhyVIAAAANyMBAwAAhpGAmUMCBgAA4GYkYAAAwDASMHNowAAAgGE0YOawBAkAAOBmJGAAAMAwEjBzSMAAAADcjAQMAAAYRgJmDg0YAAAwjAbMHJYgAQAA3IwEDAAAGEYCZg4JGAAAgJuRgAEAAMNIwMyhAQMAAIbRgJnDEiQAAICbkYABAADDSMDMIQEDAABwMxIwAABgGAmYOTRgAADAMBowc1iCBAAAcDMSMAAAYBgJmDk0YAAAwDAaMHNYggQAAHAzEjAAAGBYTUvA7Ha7pk2bpp07d6pWrVq6%2B%2B679fzzz%2BuGG24oc%2B7UqVO1bt06l7HS0lJFRUXp3Xff1erVq/WnP/1JtWvXdjnnk08%2BUePGjStVDwkYAAC47k2dOlXnz5/Xxo0btWbNGh0/flyvvfZauee%2B8MILstlszq99%2B/YpIiJCAwYMkCTl5uaqa9euLufYbLZKN18SDRgAALgKpaVV/3WtnD59Wtu2bdOECRMUGBgoq9WqsWPH6v3331dRUVGF1ycnJ6u0tFRDhgyRJGVnZysgIMBUTTRgAADAsJrUgB04cEBeXl4KDQ11joWFhamgoEDff//9Fa/Nz8/X3LlzNXnyZFksFklSTk6Ojh8/riFDhuiOO%2B7Q//zP/%2Birr74yVBN7wAAAQLWQkZGhzMxMl7GgoCBZrVZT983KypK/v7%2BzgZLkTLDsdvsVr125cqXatGmjqKgo51iDBg1ktVo1adIk3XjjjUpOTtZjjz2mdevWqXXr1pWqiQYMAAAYdi0Sq%2BTkZCUlJbmMxcfHKyEhocJr165dq2effbbcY7NmzbrsdT9vyn6ptLRUy5Yt04wZM1zGf1nPqFGj9MEHH2jDhg1KTEyssFaJBgwAAFQTQ4cOVXR0tMtYUFBQpa6NjY1VbGxsuce%2B%2Buor5ebmqqSkRF5eXpIupmKSFBgYeNl77tq1S3l5eerWrVuFP79FixbKyMioVK0SDRgAALgK1yIBs1qtppcby9O2bVs5HA4dPHhQ7dq1kyTZbDbVr19ft9xyy2Wv27p1q7p06aI6deq4jC9atEgdOnRQ586dnWPHjh1Tv379Kl0Tm/ABAIBhNWkTfmBgoGJiYjRv3jydPXtWp06d0oIFCzR48GB5e1/MokaMGKFNmza5XLd//34FBweXud/p06c1ffp0paam6sKFC1qyZInS0tI0aNCgStdEAgYAAK57M2bM0LRp09S/f395e3urV69emjBhgvN4WlqasrOzXa7JzMwsN5F76qmn5HA4NHz4cBUUFCgkJETLli1TkyZNKl2PxeFwOK7%2B5fw6pKd7ugJUxNtbatRIOnNGKi72dDW4kiZNL7/hFdVEZKS0e7cUFSXt2ePpanAlHnwLv%2Buuqr/n9u1Vf8/qiiVIAAAAN2MJEgAAGFbTfhdkdUMDBgAADKMBM4clSAAAADcjAQMAAIaRgJlDAgYAAOBmJGAAAMAwEjBzaMAAAIBhNGDmsAQJAADgZiRgAADAMBIwc0jAAAAA3IwEDAAAGEYCZg4NGAAAMIwGzByWIAEAANyMBAwAABhGAmYOCRgAAICbkYABAADDSMDMoQEDAACG0YCZwxIkAACAm5GAAQAAw0jAzCEBAwAAcDMSMAAAYBgJmDk0YAAAwDAaMHNYggQAAHAzEjAAAGAYCZg5JGAAAABuRgIGAAAMIwEzhwYMAAAYRgNmDkuQAAAAbkYCBgAADCMBM4cGDAAAGEYDZg5LkAAAAG5GAgYAAAwjATOHBAwAAMDNSMAAAIBhJGDm0IABAADDaMDMYQkSAADAzUjAAACAYSRg5pCAAQAAuBkJGAAAMIwEzBwaMAAAYBgNmDksQQIAALgZDRgAADCstLTqv641m82m3r1768EHH6zw3KVLlyomJkYdO3ZUXFyc9u3b5zx24cIFPffcc%2BrRo4e6dOmihIQEnT171lAtNGAAAOC6t379eiUkJKhly5YVnrt161YtWLBAr776qr766ivdd999Gjt2rPLz8yVJc%2BbM0f79%2B5WcnKzNmzfLYrFoypQphuqhAQMAAIbVtATswoULSk5OVocOHSo8d9WqVRo0aJA6dOggX19fjR49WrVq1dKnn36qkpISrVmzRuPGjVOzZs0UEBCgxMREffbZZ0pPT690PTRgAADAsJrWgA0ZMkRNmjSp1LkpKSkKCwtzfm%2BxWNSmTRvZbDYdP35cubm5ateunfN4q1at5Ovrq5SUlErXw6cgAQBAtZCRkaHMzEyXsaCgIFmtVrfWkZWVpYCAAJexgIAA2e12ZWVlSZLq16/vcrx%2B/fqy2%2B2V/hk0YJVQyYYZHpSRkaE33kjW0KFD1aSJe/%2BgwiCHw9MVoAIZGRlKfuMNDf3wQ7e/8aHmuBZ/lN94I1lJSUkuY/Hx8UpISKjw2rVr1%2BrZZ58t99isWbMUGxtrqjaHwyGLxXLVx3%2BJBgzXhczMTCUlJSk6Opo3DMAk/jzBU4YOHaro6GiXsaCgoEpdGxsba7rJuqRhw4Zl0qzs7GzddtttCgwMlCTZ7XbVrVvXeTwnJ8d5rDJowAAAQLVgtVqrRdMfHh6ulJQU/fa3v5UklZSUaP/%2B/Ro8eLCCg4MVEBCglJQUNW/eXJJ0%2BPBhFRYWKjw8vNI/g034AADgV69Pnz7atWuXJCkuLk5r167V3r17de7cOb311luqU6eO7r33Xnl5eenBBx/UwoUL9dNPP8lut%2Bv1119X79691bhx40r/PBIwAABw3YuJidHJkydVUlKi0tJSRURESJI%2B/PBDNW/eXKmpqSooKJAk9ejRQxMnTtTkyZOVmZmpdu3aadGiRfL19ZUkjR8/XgUFBRo6dKiKi4vVtWtX/fnPfzZUj8XhYEcsar6MjAwlJ1/chF8d4mugJuPPE3Dt0YABAAC4GXvAAAAA3IwGDAAAwM1owAAAANyMBgwAAMDNaMAAAADcjAYMAADAzWjAAAAA3IwGDAAAwM1owAAAANyMBgw11sSJE/Xpp5%2BqpKTE06UAAGAIDRhqLB8fH02ZMkXdu3fXjBkztHfvXk%2BXBNRoe/fu1fTp0zVu3DhJUmlpqT788EMPVwVcn/hdkKjRSktLtWPHDm3dulVbt25VnTp1NHDgQA0YMEA333yzp8sDaowPPvhAzz33nPr27av169fLZrMpPT1dQ4YM0R/%2B8AcNHz7c0yUC1xUaMFxXVq5cqTlz5ig/P18dO3bUY489prvvvtvTZQHVXu/evfXyyy%2BrY8eOat%2B%2Bvfbt2ydJOnDggJ588kl99NFHHq4QuL54e7oAwKy0tDRt2LBBGzdu1MmTJ9WzZ0/Fxsbq9OnTmjp1qn73u99pzJgxni4TqNZOnz6tqKgoSZLFYnGO33rrrcrIyPBUWcB1iwYMNdaKFSu0YcMG7du3T5GRkRo1apT69u0rf39/5zlRUVGKi4ujAQMq0LJlS3399dfq1q2by/jGjRt14403eqgq4PpFA4Yaa9myZRo4cKBee%2B01BQcHl3vOLbfcopiYGDdXBtQ8Y8aMUXx8vKKjo1VcXKwXXnhBhw4d0p49ezRnzhxPlwdcd9gDhhrrT3/6k1588cUy43l5eXrmmWe0YMECD1QF1Fz79u3T2rVrdeLECfn6%2Bio4OFhDhgxRq1atPF0acN0hAUONk5aWph9%2B%2BEHr169Xv3799Mu/Qxw9elRffvmlh6oDaq7w8HDddtttuuGGGyRJdrtd9erV83BVwPWJBgw1zsGDBzV//nwVFRVp9OjRZY77%2BPjooYce8kBlQM118OBBjRs3Tn/84x/Vp08f/f/27iYkqi6O4/jvTi%2B6yAopoyatGBAjG5h0IGrMSFwIYZBEVAqG0CaKKBe2CHrZtIheoAihgcbIVWC2CYIoAhmUccQUAjdSGtTUQmroZWa8PouHhEHzMbJ7O/N8Pys95y5%2Bu/kx/zPnStKDBw/U2dmp9vZ2lZaWupwQyC2MIGGsffv2qbu72%2B0YQE44dOiQqqurdfToUeXl5UmS0um07t69q2fPnqmzs9PlhEBuoYDBKOl0WkuWLJEkpVKpOZ9dunSpE5GAnBAIBBSLxbRo0aKs9Uwmo2AwqIGBAZeSAbmJESSMUllZqcHBQUmS3%2B/Puq/oh6mpKVmWpVevXjkdDzDW6tWrFY/HFQwGs9Z7enpUWFjoUiogd1HAYJRwODz9d0dHh4tJgNxy/JcdJ74AAATKSURBVPhxHTt2TDt37pTX65Vt2xodHVVfX5%2BuXLnidjwg5zCChLG4hgJYWMPDw%2Bru7tbY2JgkqaSkRPv371dZWZnLyYDcwzdgMA7XUAB/Rnl5ucrLy92OAfwvUMBgHK6hABZGW1ubLl%2B%2BLEk6c%2BbMnM9yGz6wsChgME5tba1qa2u5hgL4TT9%2BUSzxq2HAaZwBg9EmJyeVSCT07du3GXubNm1yIRFgplgspsrKSrdjAP8bFDAY69GjR7p06ZKSyeSMc2BcQwH8moqKCkWjUb4JAxxCAYOxqqqqdPDgQdXV1Sk/P3/GvtfrdSEVYKaOjg69fv1ahw8f1tq1a7V4cfYJFYoZsLAoYDBWRUWF%2Bvr6ZtzcDeDXBQIBZTIZpdPprAuOudgY%2BDM4hA9j1dTUqLe3Vzt27HA7CmC89vZ2SZJt25qYmJBlWVq5cuWsb5sA8PsoYDCWz%2BfT2bNnFQgEtH79enk8nqz906dPu5QMMI/P59P58%2Bf14sWL6fes5ufna/fu3Tp37pzL6YDcwwgSxmpqavrpnmVZvKoI%2BAWNjY3yeDxqbm7WunXrJEnj4%2BOKRCLyeDyKRCIuJwRyCwUMOWlkZESlpaVuxwCM4ff71dPTo4KCgqz1iYkJVVdXa3Bw0KVkQG5iBAnjffz4cXpkIknv379XS0uL4vG4i6kAs5SUlOjr168zClgqlVJxcbFLqYDcRQGDseLxuE6dOqUPHz7M2Nu1a5cLiQBznTx5Uq2trWpsbNTGjRtl27bevHmj%2B/fvq6WlRaOjo9PPcskx8PsYQcJYDQ0NCoVCqqur04EDB9TV1aXh4WE9efJEFy9e1KpVq9yOCBijrKxszn3LsriSAlhAFDAYa9u2berv75dlWfL7/Xr58qWkf78Zu3XrlsLhsMsJAXO8fft23s9yyTHw%2BxhBwljLly9XIpHQmjVrVFBQoLGxMRUXF2vr1q2c/wJ%2BEaUKcBYFDMbau3evGhoa9PjxY4VCIZ04cUL19fUaGhriwwQA8FdjBAmjPXz4UPX19fry5YsuXLgwXb5aW1u1efNmt%2BMBADArChgAAIDDGEHCWFevXp1zn1cRAQD%2BVhQwGGtgYCDrf9u2NT4%2BrlQqpe3bt7uUCgCA/0YBg7Hu3bs36/qdO3dk27bDaQAAmD/OgCHnZDIZVVVVKRqNuh0FAIBZedwOACy03t5eTU5Ouh0DAICfYgQJY4VCoRlr379/1%2BfPn9Xc3Ox8IAAA5okRJIzV1dU1Yy0vL08bNmzQli1bXEgEAMD8UMBgrD179siyrHk9%2B/Tp0z%2BcBgCA%2BWMECWMdOXJEkUhENTU18vl8sm1bIyMjev78uZqamrRixQq3IwIAMCsKGIwVjUZ148YNBQKBrPVYLKbbt28rHA67lAwAgLnxK0gYq7%2B/f9azXn6/X/F43IVEAADMDwUMxioqKtL169f16dOn6bVkMqmbN2/K6/W6mAwAgLlxCB/GikajamtrUyKR0LJly2RZlpLJpAoLC3Xt2jUFg0G3IwIAMCsKGIxm27aGhob07t07TU1NqaioSH6/X4sXc7wRAPD3ooABAAA4jDNgAAAADqOAAQAAOIwCBgAA4DAKGAAAgMMoYAAAAA6jgAEAADiMAgYAAOAwChgAAIDD/gEpytPmneGijgAAAABJRU5ErkJggg%3D%3D\" class=\"center-img\">\n",
       "</div>\n",
       "    <div class=\"row headerrow highlight\">\n",
       "        <h1>Sample</h1>\n",
       "    </div>\n",
       "    <div class=\"row variablerow\">\n",
       "    <div class=\"col-md-12\" style=\"overflow:scroll; width: 100%%; overflow-y: hidden;\">\n",
       "        <table border=\"1\" class=\"dataframe sample\">\n",
       "  <thead>\n",
       "    <tr style=\"text-align: right;\">\n",
       "      <th></th>\n",
       "      <th>quantity</th>\n",
       "      <th>price</th>\n",
       "    </tr>\n",
       "  </thead>\n",
       "  <tbody>\n",
       "    <tr>\n",
       "      <th>0</th>\n",
       "      <td>1</td>\n",
       "      <td>149.00</td>\n",
       "    </tr>\n",
       "    <tr>\n",
       "      <th>1</th>\n",
       "      <td>3</td>\n",
       "      <td>14.95</td>\n",
       "    </tr>\n",
       "    <tr>\n",
       "      <th>2</th>\n",
       "      <td>1</td>\n",
       "      <td>8.45</td>\n",
       "    </tr>\n",
       "    <tr>\n",
       "      <th>3</th>\n",
       "      <td>2</td>\n",
       "      <td>13.59</td>\n",
       "    </tr>\n",
       "    <tr>\n",
       "      <th>4</th>\n",
       "      <td>3</td>\n",
       "      <td>24.95</td>\n",
       "    </tr>\n",
       "  </tbody>\n",
       "</table>\n",
       "    </div>\n",
       "</div>\n",
       "</div>"
      ],
      "text/plain": [
       "<pandas_profiling.ProfileReport at 0x7f23f7810198>"
      ]
     },
     "execution_count": 21,
     "metadata": {},
     "output_type": "execute_result"
    }
   ],
   "source": [
    "pp.ProfileReport(resources[[\"quantity\", \"price\"]])"
   ]
  },
  {
   "cell_type": "markdown",
   "metadata": {
    "ExecuteTime": {
     "end_time": "2018-04-03T18:35:44.802243Z",
     "start_time": "2018-04-03T18:35:44.750290Z"
    }
   },
   "source": [
    "### Create Additional categories in Resources\n",
    "\n",
    "Let's create some useful additional features based on the resources\n",
    "\n",
    "* `total_cost = quantity * price`\n",
    "* Aggregate Quantities: `unique_items`, `total_quantity`, `mean_quantity`"
   ]
  },
  {
   "cell_type": "code",
   "execution_count": 22,
   "metadata": {
    "ExecuteTime": {
     "end_time": "2018-04-16T00:01:24.044347Z",
     "start_time": "2018-04-16T00:01:18.598198Z"
    }
   },
   "outputs": [
    {
     "data": {
      "text/html": [
       "<div>\n",
       "<style scoped>\n",
       "    .dataframe tbody tr th:only-of-type {\n",
       "        vertical-align: middle;\n",
       "    }\n",
       "\n",
       "    .dataframe tbody tr th {\n",
       "        vertical-align: top;\n",
       "    }\n",
       "\n",
       "    .dataframe thead th {\n",
       "        text-align: right;\n",
       "    }\n",
       "</style>\n",
       "<table border=\"1\" class=\"dataframe\">\n",
       "  <thead>\n",
       "    <tr style=\"text-align: right;\">\n",
       "      <th></th>\n",
       "      <th>id</th>\n",
       "      <th>unique_items</th>\n",
       "      <th>total_quantity</th>\n",
       "      <th>mean_cost</th>\n",
       "      <th>total_cost</th>\n",
       "    </tr>\n",
       "  </thead>\n",
       "  <tbody>\n",
       "    <tr>\n",
       "      <th>0</th>\n",
       "      <td>p000001</td>\n",
       "      <td>4</td>\n",
       "      <td>7</td>\n",
       "      <td>208.407500</td>\n",
       "      <td>833.63</td>\n",
       "    </tr>\n",
       "    <tr>\n",
       "      <th>1</th>\n",
       "      <td>p000002</td>\n",
       "      <td>14</td>\n",
       "      <td>21</td>\n",
       "      <td>45.020000</td>\n",
       "      <td>630.28</td>\n",
       "    </tr>\n",
       "    <tr>\n",
       "      <th>2</th>\n",
       "      <td>p000003</td>\n",
       "      <td>4</td>\n",
       "      <td>4</td>\n",
       "      <td>74.742500</td>\n",
       "      <td>298.97</td>\n",
       "    </tr>\n",
       "    <tr>\n",
       "      <th>3</th>\n",
       "      <td>p000004</td>\n",
       "      <td>93</td>\n",
       "      <td>98</td>\n",
       "      <td>11.854947</td>\n",
       "      <td>1126.22</td>\n",
       "    </tr>\n",
       "    <tr>\n",
       "      <th>4</th>\n",
       "      <td>p000005</td>\n",
       "      <td>2</td>\n",
       "      <td>8</td>\n",
       "      <td>175.577500</td>\n",
       "      <td>702.31</td>\n",
       "    </tr>\n",
       "  </tbody>\n",
       "</table>\n",
       "</div>"
      ],
      "text/plain": [
       "        id  unique_items  total_quantity   mean_cost  total_cost\n",
       "0  p000001             4               7  208.407500      833.63\n",
       "1  p000002            14              21   45.020000      630.28\n",
       "2  p000003             4               4   74.742500      298.97\n",
       "3  p000004            93              98   11.854947     1126.22\n",
       "4  p000005             2               8  175.577500      702.31"
      ]
     },
     "metadata": {},
     "output_type": "display_data"
    }
   ],
   "source": [
    "resources['cost'] = resources['quantity'] * resources['price']\n",
    "resources = resources.groupby('id').agg({'description': ['nunique'], \n",
    "                                                    'quantity': ['sum'], \n",
    "                                                    'cost': ['mean', 'sum']})\n",
    "resources.columns = ['unique_items', 'total_quantity', 'mean_cost', 'total_cost']\n",
    "resources.reset_index(inplace=True)\n",
    "resources.to_csv(\"resources_agg.csv\", index=False)\n",
    "display(resources.head())"
   ]
  },
  {
   "cell_type": "markdown",
   "metadata": {},
   "source": [
    "And now merge them to our train and test set so we have additional features to feed our model."
   ]
  },
  {
   "cell_type": "code",
   "execution_count": 23,
   "metadata": {
    "ExecuteTime": {
     "end_time": "2018-04-16T00:01:24.991471Z",
     "start_time": "2018-04-16T00:01:24.050412Z"
    }
   },
   "outputs": [],
   "source": [
    "train = pd.merge(train, resources, how='left', on='id')\n",
    "test = pd.merge(test, resources, how='left', on='id')"
   ]
  },
  {
   "cell_type": "code",
   "execution_count": 24,
   "metadata": {
    "ExecuteTime": {
     "end_time": "2018-04-16T00:01:25.453395Z",
     "start_time": "2018-04-16T00:01:24.994507Z"
    }
   },
   "outputs": [],
   "source": [
    "# The IDs are just identifiers for the preprocessing. Let's dump them\n",
    "train = train.drop('id', axis=1)\n",
    "test = test.drop('id', axis=1)"
   ]
  },
  {
   "cell_type": "code",
   "execution_count": 25,
   "metadata": {
    "ExecuteTime": {
     "end_time": "2018-04-16T00:01:25.517576Z",
     "start_time": "2018-04-16T00:01:25.456371Z"
    }
   },
   "outputs": [
    {
     "data": {
      "text/html": [
       "<div>\n",
       "<style scoped>\n",
       "    .dataframe tbody tr th:only-of-type {\n",
       "        vertical-align: middle;\n",
       "    }\n",
       "\n",
       "    .dataframe tbody tr th {\n",
       "        vertical-align: top;\n",
       "    }\n",
       "\n",
       "    .dataframe thead th {\n",
       "        text-align: right;\n",
       "    }\n",
       "</style>\n",
       "<table border=\"1\" class=\"dataframe\">\n",
       "  <thead>\n",
       "    <tr style=\"text-align: right;\">\n",
       "      <th></th>\n",
       "      <th>teacher_id</th>\n",
       "      <th>teacher_prefix</th>\n",
       "      <th>school_state</th>\n",
       "      <th>project_submitted_datetime</th>\n",
       "      <th>project_grade_category</th>\n",
       "      <th>project_subject_categories</th>\n",
       "      <th>project_subject_subcategories</th>\n",
       "      <th>project_title</th>\n",
       "      <th>project_essay_1</th>\n",
       "      <th>project_essay_2</th>\n",
       "      <th>project_essay_3</th>\n",
       "      <th>project_essay_4</th>\n",
       "      <th>project_resource_summary</th>\n",
       "      <th>teacher_number_of_previously_posted_projects</th>\n",
       "      <th>project_is_approved</th>\n",
       "      <th>unique_items</th>\n",
       "      <th>total_quantity</th>\n",
       "      <th>mean_cost</th>\n",
       "      <th>total_cost</th>\n",
       "    </tr>\n",
       "  </thead>\n",
       "  <tbody>\n",
       "    <tr>\n",
       "      <th>0</th>\n",
       "      <td>484aaf11257089a66cfedc9461c6bd0a</td>\n",
       "      <td>Ms.</td>\n",
       "      <td>NV</td>\n",
       "      <td>2016-11-18 14:45:59</td>\n",
       "      <td>Grades PreK-2</td>\n",
       "      <td>Literacy &amp; Language</td>\n",
       "      <td>Literacy</td>\n",
       "      <td>Super Sight Word Centers</td>\n",
       "      <td>Most of my kindergarten students come from low...</td>\n",
       "      <td>I currently have a differentiated sight word c...</td>\n",
       "      <td>NaN</td>\n",
       "      <td>NaN</td>\n",
       "      <td>My students need 6 Ipod Nano's to create and d...</td>\n",
       "      <td>26</td>\n",
       "      <td>1</td>\n",
       "      <td>2</td>\n",
       "      <td>6</td>\n",
       "      <td>449.970</td>\n",
       "      <td>899.94</td>\n",
       "    </tr>\n",
       "    <tr>\n",
       "      <th>1</th>\n",
       "      <td>df72a3ba8089423fa8a94be88060f6ed</td>\n",
       "      <td>Mrs.</td>\n",
       "      <td>GA</td>\n",
       "      <td>2017-04-26 15:57:28</td>\n",
       "      <td>Grades 3-5</td>\n",
       "      <td>Music &amp; The Arts, Health &amp; Sports</td>\n",
       "      <td>Performing Arts, Team Sports</td>\n",
       "      <td>Keep Calm and Dance On</td>\n",
       "      <td>Our elementary school is a culturally rich sch...</td>\n",
       "      <td>We strive to provide our diverse population of...</td>\n",
       "      <td>NaN</td>\n",
       "      <td>NaN</td>\n",
       "      <td>My students need matching shirts to wear for d...</td>\n",
       "      <td>1</td>\n",
       "      <td>0</td>\n",
       "      <td>1</td>\n",
       "      <td>20</td>\n",
       "      <td>400.000</td>\n",
       "      <td>400.00</td>\n",
       "    </tr>\n",
       "    <tr>\n",
       "      <th>2</th>\n",
       "      <td>a9b876a9252e08a55e3d894150f75ba3</td>\n",
       "      <td>Ms.</td>\n",
       "      <td>UT</td>\n",
       "      <td>2017-01-01 22:57:44</td>\n",
       "      <td>Grades 3-5</td>\n",
       "      <td>Math &amp; Science, Literacy &amp; Language</td>\n",
       "      <td>Applied Sciences, Literature &amp; Writing</td>\n",
       "      <td>Lets 3Doodle to Learn</td>\n",
       "      <td>Hello;\\r\\nMy name is Mrs. Brotherton. I teach ...</td>\n",
       "      <td>We are looking to add some 3Doodler to our cla...</td>\n",
       "      <td>NaN</td>\n",
       "      <td>NaN</td>\n",
       "      <td>My students need the 3doodler. We are an SEM s...</td>\n",
       "      <td>5</td>\n",
       "      <td>1</td>\n",
       "      <td>1</td>\n",
       "      <td>1</td>\n",
       "      <td>469.990</td>\n",
       "      <td>469.99</td>\n",
       "    </tr>\n",
       "    <tr>\n",
       "      <th>3</th>\n",
       "      <td>525fdbb6ec7f538a48beebaa0a51b24f</td>\n",
       "      <td>Mr.</td>\n",
       "      <td>NC</td>\n",
       "      <td>2016-08-12 15:42:11</td>\n",
       "      <td>Grades 3-5</td>\n",
       "      <td>Health &amp; Sports</td>\n",
       "      <td>Health &amp; Wellness</td>\n",
       "      <td>\\\"Kid Inspired\\\" Equipment to Increase Activit...</td>\n",
       "      <td>My students are the greatest students but are ...</td>\n",
       "      <td>The student's project which is totally \\\"kid-i...</td>\n",
       "      <td>NaN</td>\n",
       "      <td>NaN</td>\n",
       "      <td>My students need balls and other activity equi...</td>\n",
       "      <td>16</td>\n",
       "      <td>0</td>\n",
       "      <td>5</td>\n",
       "      <td>5</td>\n",
       "      <td>136.894</td>\n",
       "      <td>684.47</td>\n",
       "    </tr>\n",
       "    <tr>\n",
       "      <th>4</th>\n",
       "      <td>a63b5547a7239eae4c1872670848e61a</td>\n",
       "      <td>Mr.</td>\n",
       "      <td>CA</td>\n",
       "      <td>2016-08-06 09:09:11</td>\n",
       "      <td>Grades 6-8</td>\n",
       "      <td>Health &amp; Sports</td>\n",
       "      <td>Health &amp; Wellness</td>\n",
       "      <td>We need clean water for our culinary arts class!</td>\n",
       "      <td>My students are athletes and students who are ...</td>\n",
       "      <td>For some reason in our kitchen the water comes...</td>\n",
       "      <td>NaN</td>\n",
       "      <td>NaN</td>\n",
       "      <td>My students need a water filtration system for...</td>\n",
       "      <td>42</td>\n",
       "      <td>1</td>\n",
       "      <td>1</td>\n",
       "      <td>2</td>\n",
       "      <td>711.000</td>\n",
       "      <td>711.00</td>\n",
       "    </tr>\n",
       "  </tbody>\n",
       "</table>\n",
       "</div>"
      ],
      "text/plain": [
       "                         teacher_id teacher_prefix school_state  \\\n",
       "0  484aaf11257089a66cfedc9461c6bd0a            Ms.           NV   \n",
       "1  df72a3ba8089423fa8a94be88060f6ed           Mrs.           GA   \n",
       "2  a9b876a9252e08a55e3d894150f75ba3            Ms.           UT   \n",
       "3  525fdbb6ec7f538a48beebaa0a51b24f            Mr.           NC   \n",
       "4  a63b5547a7239eae4c1872670848e61a            Mr.           CA   \n",
       "\n",
       "  project_submitted_datetime project_grade_category  \\\n",
       "0        2016-11-18 14:45:59          Grades PreK-2   \n",
       "1        2017-04-26 15:57:28             Grades 3-5   \n",
       "2        2017-01-01 22:57:44             Grades 3-5   \n",
       "3        2016-08-12 15:42:11             Grades 3-5   \n",
       "4        2016-08-06 09:09:11             Grades 6-8   \n",
       "\n",
       "            project_subject_categories  \\\n",
       "0                  Literacy & Language   \n",
       "1    Music & The Arts, Health & Sports   \n",
       "2  Math & Science, Literacy & Language   \n",
       "3                      Health & Sports   \n",
       "4                      Health & Sports   \n",
       "\n",
       "            project_subject_subcategories  \\\n",
       "0                                Literacy   \n",
       "1            Performing Arts, Team Sports   \n",
       "2  Applied Sciences, Literature & Writing   \n",
       "3                       Health & Wellness   \n",
       "4                       Health & Wellness   \n",
       "\n",
       "                                       project_title  \\\n",
       "0                           Super Sight Word Centers   \n",
       "1                             Keep Calm and Dance On   \n",
       "2                              Lets 3Doodle to Learn   \n",
       "3  \\\"Kid Inspired\\\" Equipment to Increase Activit...   \n",
       "4   We need clean water for our culinary arts class!   \n",
       "\n",
       "                                     project_essay_1  \\\n",
       "0  Most of my kindergarten students come from low...   \n",
       "1  Our elementary school is a culturally rich sch...   \n",
       "2  Hello;\\r\\nMy name is Mrs. Brotherton. I teach ...   \n",
       "3  My students are the greatest students but are ...   \n",
       "4  My students are athletes and students who are ...   \n",
       "\n",
       "                                     project_essay_2 project_essay_3  \\\n",
       "0  I currently have a differentiated sight word c...             NaN   \n",
       "1  We strive to provide our diverse population of...             NaN   \n",
       "2  We are looking to add some 3Doodler to our cla...             NaN   \n",
       "3  The student's project which is totally \\\"kid-i...             NaN   \n",
       "4  For some reason in our kitchen the water comes...             NaN   \n",
       "\n",
       "  project_essay_4                           project_resource_summary  \\\n",
       "0             NaN  My students need 6 Ipod Nano's to create and d...   \n",
       "1             NaN  My students need matching shirts to wear for d...   \n",
       "2             NaN  My students need the 3doodler. We are an SEM s...   \n",
       "3             NaN  My students need balls and other activity equi...   \n",
       "4             NaN  My students need a water filtration system for...   \n",
       "\n",
       "   teacher_number_of_previously_posted_projects  project_is_approved  \\\n",
       "0                                            26                    1   \n",
       "1                                             1                    0   \n",
       "2                                             5                    1   \n",
       "3                                            16                    0   \n",
       "4                                            42                    1   \n",
       "\n",
       "   unique_items  total_quantity  mean_cost  total_cost  \n",
       "0             2               6    449.970      899.94  \n",
       "1             1              20    400.000      400.00  \n",
       "2             1               1    469.990      469.99  \n",
       "3             5               5    136.894      684.47  \n",
       "4             1               2    711.000      711.00  "
      ]
     },
     "execution_count": 25,
     "metadata": {},
     "output_type": "execute_result"
    }
   ],
   "source": [
    "train.head()"
   ]
  },
  {
   "cell_type": "markdown",
   "metadata": {},
   "source": [
    "### Timestamps\n",
    "\n",
    "* It's very difficult to deal and extract insight with datetime formats, since they are dense with information\n",
    "* Boosting models generally can deal with a lot of features, \n",
    "* With that in mind let's extract the atomic informations embedded in our timestamps and create additional categories.\n",
    "* We'll also keep the original datetime format as a numerical category "
   ]
  },
  {
   "cell_type": "code",
   "execution_count": 26,
   "metadata": {
    "ExecuteTime": {
     "end_time": "2018-04-16T00:01:25.575207Z",
     "start_time": "2018-04-16T00:01:25.520530Z"
    }
   },
   "outputs": [],
   "source": [
    "def extract_timestamp(df):\n",
    "    \"\"\"\n",
    "    Extract the individual information embedded in the datetime column as additional\n",
    "    columns in the DataFrame and transform the original datetime to an int\n",
    "    \"\"\"\n",
    "    \n",
    "    # First we transform the original string to a datetime format\n",
    "    df['project_submitted_datetime'] = pd.to_datetime(df['project_submitted_datetime'])    \n",
    "    df['year'] = df['project_submitted_datetime'].dt.day \n",
    "    df['month'] = df['project_submitted_datetime'].dt.month\n",
    "    df['day'] = df['project_submitted_datetime'].dt.day\n",
    "    df['day_of_week'] = df['project_submitted_datetime'].dt.weekday\n",
    "    df[\"hour\"] = df['project_submitted_datetime'].dt.hour\n",
    "    \n",
    "    df['project_submitted_datetime'] = df['project_submitted_datetime'].values.astype(np.int64)"
   ]
  },
  {
   "cell_type": "code",
   "execution_count": 27,
   "metadata": {
    "ExecuteTime": {
     "end_time": "2018-04-16T00:01:25.723545Z",
     "start_time": "2018-04-16T00:01:25.578241Z"
    }
   },
   "outputs": [],
   "source": [
    "extract_timestamp(train)\n",
    "extract_timestamp(test)"
   ]
  },
  {
   "cell_type": "markdown",
   "metadata": {},
   "source": []
  },
  {
   "cell_type": "code",
   "execution_count": 28,
   "metadata": {
    "ExecuteTime": {
     "end_time": "2018-04-16T00:01:25.797842Z",
     "start_time": "2018-04-16T00:01:25.726447Z"
    }
   },
   "outputs": [
    {
     "data": {
      "text/html": [
       "<div>\n",
       "<style scoped>\n",
       "    .dataframe tbody tr th:only-of-type {\n",
       "        vertical-align: middle;\n",
       "    }\n",
       "\n",
       "    .dataframe tbody tr th {\n",
       "        vertical-align: top;\n",
       "    }\n",
       "\n",
       "    .dataframe thead th {\n",
       "        text-align: right;\n",
       "    }\n",
       "</style>\n",
       "<table border=\"1\" class=\"dataframe\">\n",
       "  <thead>\n",
       "    <tr style=\"text-align: right;\">\n",
       "      <th></th>\n",
       "      <th>teacher_id</th>\n",
       "      <th>teacher_prefix</th>\n",
       "      <th>school_state</th>\n",
       "      <th>project_submitted_datetime</th>\n",
       "      <th>project_grade_category</th>\n",
       "      <th>project_subject_categories</th>\n",
       "      <th>project_subject_subcategories</th>\n",
       "      <th>project_title</th>\n",
       "      <th>project_essay_1</th>\n",
       "      <th>project_essay_2</th>\n",
       "      <th>project_essay_3</th>\n",
       "      <th>project_essay_4</th>\n",
       "      <th>project_resource_summary</th>\n",
       "      <th>teacher_number_of_previously_posted_projects</th>\n",
       "      <th>project_is_approved</th>\n",
       "      <th>unique_items</th>\n",
       "      <th>total_quantity</th>\n",
       "      <th>mean_cost</th>\n",
       "      <th>total_cost</th>\n",
       "      <th>year</th>\n",
       "      <th>month</th>\n",
       "      <th>day</th>\n",
       "      <th>day_of_week</th>\n",
       "      <th>hour</th>\n",
       "    </tr>\n",
       "  </thead>\n",
       "  <tbody>\n",
       "    <tr>\n",
       "      <th>0</th>\n",
       "      <td>484aaf11257089a66cfedc9461c6bd0a</td>\n",
       "      <td>Ms.</td>\n",
       "      <td>NV</td>\n",
       "      <td>1479480359000000000</td>\n",
       "      <td>Grades PreK-2</td>\n",
       "      <td>Literacy &amp; Language</td>\n",
       "      <td>Literacy</td>\n",
       "      <td>Super Sight Word Centers</td>\n",
       "      <td>Most of my kindergarten students come from low...</td>\n",
       "      <td>I currently have a differentiated sight word c...</td>\n",
       "      <td>NaN</td>\n",
       "      <td>NaN</td>\n",
       "      <td>My students need 6 Ipod Nano's to create and d...</td>\n",
       "      <td>26</td>\n",
       "      <td>1</td>\n",
       "      <td>2</td>\n",
       "      <td>6</td>\n",
       "      <td>449.970</td>\n",
       "      <td>899.94</td>\n",
       "      <td>18</td>\n",
       "      <td>11</td>\n",
       "      <td>18</td>\n",
       "      <td>4</td>\n",
       "      <td>14</td>\n",
       "    </tr>\n",
       "    <tr>\n",
       "      <th>1</th>\n",
       "      <td>df72a3ba8089423fa8a94be88060f6ed</td>\n",
       "      <td>Mrs.</td>\n",
       "      <td>GA</td>\n",
       "      <td>1493222248000000000</td>\n",
       "      <td>Grades 3-5</td>\n",
       "      <td>Music &amp; The Arts, Health &amp; Sports</td>\n",
       "      <td>Performing Arts, Team Sports</td>\n",
       "      <td>Keep Calm and Dance On</td>\n",
       "      <td>Our elementary school is a culturally rich sch...</td>\n",
       "      <td>We strive to provide our diverse population of...</td>\n",
       "      <td>NaN</td>\n",
       "      <td>NaN</td>\n",
       "      <td>My students need matching shirts to wear for d...</td>\n",
       "      <td>1</td>\n",
       "      <td>0</td>\n",
       "      <td>1</td>\n",
       "      <td>20</td>\n",
       "      <td>400.000</td>\n",
       "      <td>400.00</td>\n",
       "      <td>26</td>\n",
       "      <td>4</td>\n",
       "      <td>26</td>\n",
       "      <td>2</td>\n",
       "      <td>15</td>\n",
       "    </tr>\n",
       "    <tr>\n",
       "      <th>2</th>\n",
       "      <td>a9b876a9252e08a55e3d894150f75ba3</td>\n",
       "      <td>Ms.</td>\n",
       "      <td>UT</td>\n",
       "      <td>1483311464000000000</td>\n",
       "      <td>Grades 3-5</td>\n",
       "      <td>Math &amp; Science, Literacy &amp; Language</td>\n",
       "      <td>Applied Sciences, Literature &amp; Writing</td>\n",
       "      <td>Lets 3Doodle to Learn</td>\n",
       "      <td>Hello;\\r\\nMy name is Mrs. Brotherton. I teach ...</td>\n",
       "      <td>We are looking to add some 3Doodler to our cla...</td>\n",
       "      <td>NaN</td>\n",
       "      <td>NaN</td>\n",
       "      <td>My students need the 3doodler. We are an SEM s...</td>\n",
       "      <td>5</td>\n",
       "      <td>1</td>\n",
       "      <td>1</td>\n",
       "      <td>1</td>\n",
       "      <td>469.990</td>\n",
       "      <td>469.99</td>\n",
       "      <td>1</td>\n",
       "      <td>1</td>\n",
       "      <td>1</td>\n",
       "      <td>6</td>\n",
       "      <td>22</td>\n",
       "    </tr>\n",
       "    <tr>\n",
       "      <th>3</th>\n",
       "      <td>525fdbb6ec7f538a48beebaa0a51b24f</td>\n",
       "      <td>Mr.</td>\n",
       "      <td>NC</td>\n",
       "      <td>1471016531000000000</td>\n",
       "      <td>Grades 3-5</td>\n",
       "      <td>Health &amp; Sports</td>\n",
       "      <td>Health &amp; Wellness</td>\n",
       "      <td>\\\"Kid Inspired\\\" Equipment to Increase Activit...</td>\n",
       "      <td>My students are the greatest students but are ...</td>\n",
       "      <td>The student's project which is totally \\\"kid-i...</td>\n",
       "      <td>NaN</td>\n",
       "      <td>NaN</td>\n",
       "      <td>My students need balls and other activity equi...</td>\n",
       "      <td>16</td>\n",
       "      <td>0</td>\n",
       "      <td>5</td>\n",
       "      <td>5</td>\n",
       "      <td>136.894</td>\n",
       "      <td>684.47</td>\n",
       "      <td>12</td>\n",
       "      <td>8</td>\n",
       "      <td>12</td>\n",
       "      <td>4</td>\n",
       "      <td>15</td>\n",
       "    </tr>\n",
       "    <tr>\n",
       "      <th>4</th>\n",
       "      <td>a63b5547a7239eae4c1872670848e61a</td>\n",
       "      <td>Mr.</td>\n",
       "      <td>CA</td>\n",
       "      <td>1470474551000000000</td>\n",
       "      <td>Grades 6-8</td>\n",
       "      <td>Health &amp; Sports</td>\n",
       "      <td>Health &amp; Wellness</td>\n",
       "      <td>We need clean water for our culinary arts class!</td>\n",
       "      <td>My students are athletes and students who are ...</td>\n",
       "      <td>For some reason in our kitchen the water comes...</td>\n",
       "      <td>NaN</td>\n",
       "      <td>NaN</td>\n",
       "      <td>My students need a water filtration system for...</td>\n",
       "      <td>42</td>\n",
       "      <td>1</td>\n",
       "      <td>1</td>\n",
       "      <td>2</td>\n",
       "      <td>711.000</td>\n",
       "      <td>711.00</td>\n",
       "      <td>6</td>\n",
       "      <td>8</td>\n",
       "      <td>6</td>\n",
       "      <td>5</td>\n",
       "      <td>9</td>\n",
       "    </tr>\n",
       "  </tbody>\n",
       "</table>\n",
       "</div>"
      ],
      "text/plain": [
       "                         teacher_id teacher_prefix school_state  \\\n",
       "0  484aaf11257089a66cfedc9461c6bd0a            Ms.           NV   \n",
       "1  df72a3ba8089423fa8a94be88060f6ed           Mrs.           GA   \n",
       "2  a9b876a9252e08a55e3d894150f75ba3            Ms.           UT   \n",
       "3  525fdbb6ec7f538a48beebaa0a51b24f            Mr.           NC   \n",
       "4  a63b5547a7239eae4c1872670848e61a            Mr.           CA   \n",
       "\n",
       "   project_submitted_datetime project_grade_category  \\\n",
       "0         1479480359000000000          Grades PreK-2   \n",
       "1         1493222248000000000             Grades 3-5   \n",
       "2         1483311464000000000             Grades 3-5   \n",
       "3         1471016531000000000             Grades 3-5   \n",
       "4         1470474551000000000             Grades 6-8   \n",
       "\n",
       "            project_subject_categories  \\\n",
       "0                  Literacy & Language   \n",
       "1    Music & The Arts, Health & Sports   \n",
       "2  Math & Science, Literacy & Language   \n",
       "3                      Health & Sports   \n",
       "4                      Health & Sports   \n",
       "\n",
       "            project_subject_subcategories  \\\n",
       "0                                Literacy   \n",
       "1            Performing Arts, Team Sports   \n",
       "2  Applied Sciences, Literature & Writing   \n",
       "3                       Health & Wellness   \n",
       "4                       Health & Wellness   \n",
       "\n",
       "                                       project_title  \\\n",
       "0                           Super Sight Word Centers   \n",
       "1                             Keep Calm and Dance On   \n",
       "2                              Lets 3Doodle to Learn   \n",
       "3  \\\"Kid Inspired\\\" Equipment to Increase Activit...   \n",
       "4   We need clean water for our culinary arts class!   \n",
       "\n",
       "                                     project_essay_1  \\\n",
       "0  Most of my kindergarten students come from low...   \n",
       "1  Our elementary school is a culturally rich sch...   \n",
       "2  Hello;\\r\\nMy name is Mrs. Brotherton. I teach ...   \n",
       "3  My students are the greatest students but are ...   \n",
       "4  My students are athletes and students who are ...   \n",
       "\n",
       "                                     project_essay_2 project_essay_3  \\\n",
       "0  I currently have a differentiated sight word c...             NaN   \n",
       "1  We strive to provide our diverse population of...             NaN   \n",
       "2  We are looking to add some 3Doodler to our cla...             NaN   \n",
       "3  The student's project which is totally \\\"kid-i...             NaN   \n",
       "4  For some reason in our kitchen the water comes...             NaN   \n",
       "\n",
       "  project_essay_4                           project_resource_summary  \\\n",
       "0             NaN  My students need 6 Ipod Nano's to create and d...   \n",
       "1             NaN  My students need matching shirts to wear for d...   \n",
       "2             NaN  My students need the 3doodler. We are an SEM s...   \n",
       "3             NaN  My students need balls and other activity equi...   \n",
       "4             NaN  My students need a water filtration system for...   \n",
       "\n",
       "   teacher_number_of_previously_posted_projects  project_is_approved  \\\n",
       "0                                            26                    1   \n",
       "1                                             1                    0   \n",
       "2                                             5                    1   \n",
       "3                                            16                    0   \n",
       "4                                            42                    1   \n",
       "\n",
       "   unique_items  total_quantity  mean_cost  total_cost  year  month  day  \\\n",
       "0             2               6    449.970      899.94    18     11   18   \n",
       "1             1              20    400.000      400.00    26      4   26   \n",
       "2             1               1    469.990      469.99     1      1    1   \n",
       "3             5               5    136.894      684.47    12      8   12   \n",
       "4             1               2    711.000      711.00     6      8    6   \n",
       "\n",
       "   day_of_week  hour  \n",
       "0            4    14  \n",
       "1            2    15  \n",
       "2            6    22  \n",
       "3            4    15  \n",
       "4            5     9  "
      ]
     },
     "execution_count": 28,
     "metadata": {},
     "output_type": "execute_result"
    }
   ],
   "source": [
    "train.head()"
   ]
  },
  {
   "cell_type": "code",
   "execution_count": 29,
   "metadata": {
    "ExecuteTime": {
     "end_time": "2018-04-16T00:01:25.872067Z",
     "start_time": "2018-04-16T00:01:25.802077Z"
    }
   },
   "outputs": [
    {
     "name": "stdout",
     "output_type": "stream",
     "text": [
      "['Literacy & Language' 'Music & The Arts, Health & Sports'\n",
      " 'Math & Science, Literacy & Language' 'Health & Sports'\n",
      " 'Applied Learning, Literacy & Language' 'Math & Science'\n",
      " 'Literacy & Language, Math & Science' 'Special Needs'\n",
      " 'Applied Learning, Special Needs' 'Applied Learning, Music & The Arts']\n"
     ]
    }
   ],
   "source": [
    "print(train.project_subject_categories.unique()[:10])"
   ]
  },
  {
   "cell_type": "markdown",
   "metadata": {},
   "source": [
    "### Project Categories\n",
    "\n",
    "We have 51 distinct categories, with that much categories it's going to be dificult to derive insights due to the fact that any aggregated metrics are going to be distributed across more categories than we can hold in memory. Nevertheless we saw in the previous section that the majority of those categories are a combination of a few\n",
    "\n",
    "Let's investigate those further to determine opportunities to aggregate them into higher level categories."
   ]
  },
  {
   "cell_type": "code",
   "execution_count": 30,
   "metadata": {
    "ExecuteTime": {
     "end_time": "2018-04-16T00:01:25.921686Z",
     "start_time": "2018-04-16T00:01:25.875654Z"
    }
   },
   "outputs": [
    {
     "name": "stdout",
     "output_type": "stream",
     "text": [
      "array(['Literacy & Language', 'Music & The Arts, Health & Sports',\n",
      "       'Math & Science, Literacy & Language', 'Health & Sports',\n",
      "       'Applied Learning, Literacy & Language', 'Math & Science',\n",
      "       'Literacy & Language, Math & Science', 'Special Needs',\n",
      "       'Applied Learning, Special Needs',\n",
      "       'Applied Learning, Music & The Arts',\n",
      "       'Math & Science, Special Needs', 'Health & Sports, Special Needs',\n",
      "       'Literacy & Language, History & Civics',\n",
      "       'Health & Sports, Literacy & Language', 'Music & The Arts',\n",
      "       'Literacy & Language, Special Needs',\n",
      "       'Special Needs, Music & The Arts', 'History & Civics',\n",
      "       'Health & Sports, Applied Learning', 'Applied Learning',\n",
      "       'Math & Science, Applied Learning',\n",
      "       'Literacy & Language, Music & The Arts',\n",
      "       'Math & Science, Music & The Arts',\n",
      "       'History & Civics, Special Needs',\n",
      "       'History & Civics, Literacy & Language', 'Warmth, Care & Hunger',\n",
      "       'Math & Science, History & Civics',\n",
      "       'Applied Learning, Math & Science',\n",
      "       'Math & Science, Health & Sports',\n",
      "       'Applied Learning, Health & Sports',\n",
      "       'Music & The Arts, Special Needs',\n",
      "       'History & Civics, Math & Science',\n",
      "       'Literacy & Language, Applied Learning',\n",
      "       'History & Civics, Music & The Arts',\n",
      "       'Applied Learning, Warmth, Care & Hunger',\n",
      "       'Health & Sports, History & Civics',\n",
      "       'Health & Sports, Math & Science',\n",
      "       'Applied Learning, History & Civics',\n",
      "       'Literacy & Language, Health & Sports',\n",
      "       'Music & The Arts, Applied Learning',\n",
      "       'Health & Sports, Warmth, Care & Hunger',\n",
      "       'Math & Science, Warmth, Care & Hunger',\n",
      "       'Special Needs, Warmth, Care & Hunger',\n",
      "       'Health & Sports, Music & The Arts',\n",
      "       'History & Civics, Applied Learning',\n",
      "       'Special Needs, Health & Sports',\n",
      "       'History & Civics, Health & Sports',\n",
      "       'Literacy & Language, Warmth, Care & Hunger',\n",
      "       'Music & The Arts, Warmth, Care & Hunger',\n",
      "       'Music & The Arts, History & Civics',\n",
      "       'History & Civics, Warmth, Care & Hunger'], dtype=object)\n"
     ]
    }
   ],
   "source": [
    "pprint(train['project_subject_categories'].unique())"
   ]
  },
  {
   "cell_type": "markdown",
   "metadata": {},
   "source": [
    "We can see that many of those unique categories are in fact a composition of two or more individual categories, let's split and check those individuals.\n",
    "The set of 51 categories is a combination of 1 to 3 different categories, I suspect those 9 individual categories are more relevant than this huge granular combination of 51. "
   ]
  },
  {
   "cell_type": "code",
   "execution_count": 31,
   "metadata": {
    "ExecuteTime": {
     "end_time": "2018-04-16T00:01:27.440609Z",
     "start_time": "2018-04-16T00:01:25.924987Z"
    }
   },
   "outputs": [
    {
     "data": {
      "text/html": [
       "<div>\n",
       "<style scoped>\n",
       "    .dataframe tbody tr th:only-of-type {\n",
       "        vertical-align: middle;\n",
       "    }\n",
       "\n",
       "    .dataframe tbody tr th {\n",
       "        vertical-align: top;\n",
       "    }\n",
       "\n",
       "    .dataframe thead th {\n",
       "        text-align: right;\n",
       "    }\n",
       "</style>\n",
       "<table border=\"1\" class=\"dataframe\">\n",
       "  <thead>\n",
       "    <tr style=\"text-align: right;\">\n",
       "      <th></th>\n",
       "      <th>subj_cat_1</th>\n",
       "      <th>subj_cat_2</th>\n",
       "      <th>subj_cat_3</th>\n",
       "    </tr>\n",
       "  </thead>\n",
       "  <tbody>\n",
       "    <tr>\n",
       "      <th>0</th>\n",
       "      <td>Literacy &amp; Language</td>\n",
       "      <td>None</td>\n",
       "      <td>None</td>\n",
       "    </tr>\n",
       "    <tr>\n",
       "      <th>1</th>\n",
       "      <td>Music &amp; The Arts</td>\n",
       "      <td>Health &amp; Sports</td>\n",
       "      <td>None</td>\n",
       "    </tr>\n",
       "    <tr>\n",
       "      <th>2</th>\n",
       "      <td>Math &amp; Science</td>\n",
       "      <td>Literacy &amp; Language</td>\n",
       "      <td>None</td>\n",
       "    </tr>\n",
       "    <tr>\n",
       "      <th>3</th>\n",
       "      <td>Health &amp; Sports</td>\n",
       "      <td>None</td>\n",
       "      <td>None</td>\n",
       "    </tr>\n",
       "    <tr>\n",
       "      <th>4</th>\n",
       "      <td>Health &amp; Sports</td>\n",
       "      <td>None</td>\n",
       "      <td>None</td>\n",
       "    </tr>\n",
       "  </tbody>\n",
       "</table>\n",
       "</div>"
      ],
      "text/plain": [
       "            subj_cat_1           subj_cat_2 subj_cat_3\n",
       "0  Literacy & Language                 None       None\n",
       "1     Music & The Arts      Health & Sports       None\n",
       "2       Math & Science  Literacy & Language       None\n",
       "3      Health & Sports                 None       None\n",
       "4      Health & Sports                 None       None"
      ]
     },
     "execution_count": 31,
     "metadata": {},
     "output_type": "execute_result"
    }
   ],
   "source": [
    "train_categories = train[\"project_subject_categories\"].str.split(\", \", expand=True)\n",
    "test_categories = test[\"project_subject_categories\"].str.split(\", \", expand=True)\n",
    "\n",
    "train_categories.columns = [\"subj_cat_1\", \"subj_cat_2\", \"subj_cat_3\"]\n",
    "test_categories.columns = train_categories.columns\n",
    "\n",
    "train_categories.head()"
   ]
  },
  {
   "cell_type": "code",
   "execution_count": 32,
   "metadata": {
    "ExecuteTime": {
     "end_time": "2018-04-16T00:01:29.167476Z",
     "start_time": "2018-04-16T00:01:27.443658Z"
    }
   },
   "outputs": [
    {
     "data": {
      "text/html": [
       "<div>\n",
       "<style scoped>\n",
       "    .dataframe tbody tr th:only-of-type {\n",
       "        vertical-align: middle;\n",
       "    }\n",
       "\n",
       "    .dataframe tbody tr th {\n",
       "        vertical-align: top;\n",
       "    }\n",
       "\n",
       "    .dataframe thead th {\n",
       "        text-align: right;\n",
       "    }\n",
       "</style>\n",
       "<table border=\"1\" class=\"dataframe\">\n",
       "  <thead>\n",
       "    <tr style=\"text-align: right;\">\n",
       "      <th></th>\n",
       "      <th>subj_subcat_1</th>\n",
       "      <th>subj_subcat_2</th>\n",
       "      <th>subj_subcat_3</th>\n",
       "    </tr>\n",
       "  </thead>\n",
       "  <tbody>\n",
       "    <tr>\n",
       "      <th>0</th>\n",
       "      <td>Literacy</td>\n",
       "      <td>None</td>\n",
       "      <td>None</td>\n",
       "    </tr>\n",
       "    <tr>\n",
       "      <th>1</th>\n",
       "      <td>Performing Arts</td>\n",
       "      <td>Team Sports</td>\n",
       "      <td>None</td>\n",
       "    </tr>\n",
       "    <tr>\n",
       "      <th>2</th>\n",
       "      <td>Applied Sciences</td>\n",
       "      <td>Literature &amp; Writing</td>\n",
       "      <td>None</td>\n",
       "    </tr>\n",
       "    <tr>\n",
       "      <th>3</th>\n",
       "      <td>Health &amp; Wellness</td>\n",
       "      <td>None</td>\n",
       "      <td>None</td>\n",
       "    </tr>\n",
       "    <tr>\n",
       "      <th>4</th>\n",
       "      <td>Health &amp; Wellness</td>\n",
       "      <td>None</td>\n",
       "      <td>None</td>\n",
       "    </tr>\n",
       "  </tbody>\n",
       "</table>\n",
       "</div>"
      ],
      "text/plain": [
       "       subj_subcat_1         subj_subcat_2 subj_subcat_3\n",
       "0           Literacy                  None          None\n",
       "1    Performing Arts           Team Sports          None\n",
       "2   Applied Sciences  Literature & Writing          None\n",
       "3  Health & Wellness                  None          None\n",
       "4  Health & Wellness                  None          None"
      ]
     },
     "execution_count": 32,
     "metadata": {},
     "output_type": "execute_result"
    }
   ],
   "source": [
    "train_subcategories = train[\"project_subject_subcategories\"].str.split(\", \", expand=True)\n",
    "test_subcategories = test[\"project_subject_subcategories\"].str.split(\", \", expand=True)\n",
    "\n",
    "train_subcategories.columns = [\"subj_subcat_1\", \"subj_subcat_2\", \"subj_subcat_3\"]\n",
    "test_subcategories.columns = train_subcategories.columns\n",
    "\n",
    "train_subcategories.head()"
   ]
  },
  {
   "cell_type": "markdown",
   "metadata": {
    "cell_style": "center"
   },
   "source": [
    "Since the majority of Project Subject Categories and Subcategories are composed of 1 to 2 individual categories, let's split off just the first two of them and add to the training data."
   ]
  },
  {
   "cell_type": "code",
   "execution_count": 33,
   "metadata": {
    "ExecuteTime": {
     "end_time": "2018-04-16T00:01:30.045663Z",
     "start_time": "2018-04-16T00:01:29.170456Z"
    }
   },
   "outputs": [],
   "source": [
    "train = pd.concat([train, train_categories.iloc[:, 0:2], train_subcategories.iloc[:, 0:2]], axis=1)\n",
    "train = train.drop([\"project_subject_categories\", \"project_subject_subcategories\"], axis=1)"
   ]
  },
  {
   "cell_type": "code",
   "execution_count": 34,
   "metadata": {
    "ExecuteTime": {
     "end_time": "2018-04-16T00:01:30.527284Z",
     "start_time": "2018-04-16T00:01:30.052101Z"
    }
   },
   "outputs": [],
   "source": [
    "test = pd.concat([test, test_categories.iloc[:, 0:2], test_subcategories.iloc[:, 0:2]], axis=1)\n",
    "test = test.drop([\"project_subject_categories\", \"project_subject_subcategories\"], axis=1)"
   ]
  },
  {
   "cell_type": "code",
   "execution_count": 35,
   "metadata": {
    "ExecuteTime": {
     "end_time": "2018-04-16T00:01:30.580110Z",
     "start_time": "2018-04-16T00:01:30.535828Z"
    }
   },
   "outputs": [],
   "source": [
    "del train_categories, train_subcategories, test_categories, test_subcategories"
   ]
  },
  {
   "cell_type": "markdown",
   "metadata": {},
   "source": [
    "### Concatenating of Text Features"
   ]
  },
  {
   "cell_type": "markdown",
   "metadata": {
    "ExecuteTime": {
     "end_time": "2018-04-03T18:35:44.668030Z",
     "start_time": "2018-04-03T18:35:44.612677Z"
    }
   },
   "source": [
    "Considering what was pointed out in [3.1.1](#A-Note-on-Essay-Data). let's just join the different parts in the project essay into just one feature"
   ]
  },
  {
   "cell_type": "code",
   "execution_count": 36,
   "metadata": {
    "ExecuteTime": {
     "end_time": "2018-04-16T00:02:19.941921Z",
     "start_time": "2018-04-16T00:01:52.847360Z"
    }
   },
   "outputs": [
    {
     "data": {
      "text/plain": [
       "'Super Sight Word Centers Most of my kindergarten students come from low-income households and are considered \\\\\"at-risk\\\\\". These kids walk to school alongside their parents and most have never been further than walking distance from their house. For 80% of my students, English is not their first language or the language spoken at home. \\\\r\\\\n\\\\r\\\\nWhile my kindergarten kids have many obstacles in front of them, they come to school each day excited and ready to learn. Most students started the year out never being in a school setting. At the start of the year many had never been exposed to letters. Each day they soak up more knowledge and try their hardest to succeed. They are highly motivated to learn new things every day. We are halfway through the year and they are starting to take off. They know know all letters, some sight words, numbers to 20, and a majority of their letter sounds because of their hard work and determination. I am excited to see the places we will go from here! I currently have a differentiated sight word center that we do daily during our literacy stations. The students have activities that relate to whatever sight word list they are on. This is one of their favorite station activities. I want to continue to provide the students with engaging ways to practice their sight words. \\\\r\\\\n\\\\r\\\\nI dream of having the students use QR readers to scan the sight words that they are struggling with and the Ipods reading the sight words with them. This would help so many of my students by giving them multiple exposures to the words. My students need someone who can go over these sight words daily and I can\\'t always get around to everyone to practice their flashcards with them. With the Ipods they would still have a way to practice their sight words on a daily basis. nan nan My students need 6 Ipod Nano\\'s to create and differentiated and engaging way to practice sight words during a literacy station.'"
      ]
     },
     "execution_count": 36,
     "metadata": {},
     "output_type": "execute_result"
    }
   ],
   "source": [
    "# Thanks to opanichev for saving me a lot of time.\n",
    "# https://www.kaggle.com/opanichev/lightgbm-and-tf-idf-starter/code\n",
    "\n",
    "def join_text_data(df, idxs):\n",
    "    \n",
    "    merged_column = df.apply(lambda row: \" \".join([str(row[index]) for index in idxs]),axis=1)\n",
    "    \n",
    "    return merged_column\n",
    "\n",
    "\n",
    "idxs = [\"project_title\", \n",
    "        \"project_essay_1\", \n",
    "        \"project_essay_2\", \n",
    "        \"project_essay_3\", \n",
    "        \"project_essay_4\", \n",
    "        \"project_resource_summary\"]\n",
    "\n",
    "train['project_essay'] = join_text_data(train, idxs)\n",
    "\n",
    "test['project_essay'] = join_text_data(test, idxs)\n",
    "\n",
    "train['project_essay'][0]"
   ]
  },
  {
   "cell_type": "markdown",
   "metadata": {},
   "source": [
    "Now we drop the separate columns"
   ]
  },
  {
   "cell_type": "code",
   "execution_count": 37,
   "metadata": {
    "ExecuteTime": {
     "end_time": "2018-04-16T00:03:21.198722Z",
     "start_time": "2018-04-16T00:03:20.594047Z"
    }
   },
   "outputs": [],
   "source": [
    "train.drop(['project_title',\n",
    "            'project_essay_1', \n",
    "            'project_essay_2', \n",
    "            'project_essay_3', \n",
    "            'project_essay_4',\n",
    "            'project_resource_summary'], \n",
    "           axis=1, inplace=True)\n",
    "test.drop(['project_title',\n",
    "           'project_essay_1', \n",
    "           'project_essay_2', \n",
    "           'project_essay_3', \n",
    "           'project_essay_4',\n",
    "           'project_resource_summary'], \n",
    "           axis=1, inplace=True)"
   ]
  },
  {
   "cell_type": "code",
   "execution_count": 38,
   "metadata": {
    "ExecuteTime": {
     "end_time": "2018-04-16T00:03:22.391493Z",
     "start_time": "2018-04-16T00:03:22.071718Z"
    }
   },
   "outputs": [],
   "source": [
    "train[[\"subj_cat_2\", \"subj_subcat_2\"]] = train[[\"subj_cat_2\", \"subj_subcat_2\"]].fillna(\"unknown\")\n",
    "test[[\"subj_cat_2\", \"subj_subcat_2\"]] = test[[\"subj_cat_2\", \"subj_subcat_2\"]].fillna(\"unknown\")"
   ]
  },
  {
   "cell_type": "markdown",
   "metadata": {},
   "source": [
    "### Feature Scaling of Numerical Variables\n",
    "\n",
    "In order for algorithms to work, it's essential to proper encode the categorical variables and scale the numerical ones.\n",
    "\n",
    "For the `NANs`:\n",
    "\n",
    " * The categorical variable with the string `unknown`, because this can add some information instead of the null string `''`.\n",
    " * The Numerical variables are encoded to `0`"
   ]
  },
  {
   "cell_type": "code",
   "execution_count": 42,
   "metadata": {
    "ExecuteTime": {
     "end_time": "2018-04-16T00:07:12.618360Z",
     "start_time": "2018-04-16T00:07:11.780021Z"
    }
   },
   "outputs": [],
   "source": [
    "str_cols = ['teacher_id','teacher_prefix','school_state','project_grade_category',\n",
    "        'subj_cat_1','subj_cat_2', 'subj_subcat_1', 'subj_subcat_2']\n",
    "\n",
    "num_cols = [\"teacher_number_of_previously_posted_projects\", \"unique_items\", \"total_quantity\", \"mean_cost\", \"total_cost\"]\n",
    "\n",
    "train[str_cols] = train[str_cols].fillna(\"unknown\")\n",
    "train[num_cols] = train[num_cols].fillna(0)\n",
    "test[str_cols] = test[str_cols].fillna(\"unknown\")\n",
    "test[num_cols] = test[num_cols].fillna(0)"
   ]
  },
  {
   "cell_type": "markdown",
   "metadata": {},
   "source": [
    "Since this data is so heterogenous, instead of scaling the numerical variables with the `StandardScaler()` ( assuming normality ), we are going to adjust by the `MinMaxScaler()`"
   ]
  },
  {
   "cell_type": "code",
   "execution_count": 43,
   "metadata": {
    "ExecuteTime": {
     "end_time": "2018-04-16T00:07:25.820588Z",
     "start_time": "2018-04-16T00:07:25.407259Z"
    }
   },
   "outputs": [
    {
     "data": {
      "text/plain": [
       "242"
      ]
     },
     "execution_count": 43,
     "metadata": {},
     "output_type": "execute_result"
    }
   ],
   "source": [
    "scaler = MinMaxScaler()\n",
    "\n",
    "train[num_cols] = scaler.fit_transform(train[num_cols].values)\n",
    "test[num_cols] = scaler.fit_transform(test[num_cols].values)\n",
    "\n",
    "del scaler\n",
    "gc.collect()"
   ]
  },
  {
   "cell_type": "markdown",
   "metadata": {},
   "source": [
    "### Encoding of Categorical Variables\n",
    "Normally when there are a lot of categorical variables, we need to apply different strategies to each of them, but it's consolidated that XGBoost works best with label encoding instead of the more general One-Hot Encoding."
   ]
  },
  {
   "cell_type": "code",
   "execution_count": 44,
   "metadata": {
    "ExecuteTime": {
     "end_time": "2018-04-16T00:07:45.519607Z",
     "start_time": "2018-04-16T00:07:37.296426Z"
    }
   },
   "outputs": [
    {
     "data": {
      "application/vnd.jupyter.widget-view+json": {
       "model_id": "8fc579e6f51c443abd4e51565c1da362",
       "version_major": 2,
       "version_minor": 0
      },
      "text/html": [
       "<p>Failed to display Jupyter Widget of type <code>HBox</code>.</p>\n",
       "<p>\n",
       "  If you're reading this message in the Jupyter Notebook or JupyterLab Notebook, it may mean\n",
       "  that the widgets JavaScript is still loading. If this message persists, it\n",
       "  likely means that the widgets JavaScript library is either not installed or\n",
       "  not enabled. See the <a href=\"https://ipywidgets.readthedocs.io/en/stable/user_install.html\">Jupyter\n",
       "  Widgets Documentation</a> for setup instructions.\n",
       "</p>\n",
       "<p>\n",
       "  If you're reading this message in another frontend (for example, a static\n",
       "  rendering on GitHub or <a href=\"https://nbviewer.jupyter.org/\">NBViewer</a>),\n",
       "  it may mean that your frontend doesn't currently support widgets.\n",
       "</p>\n"
      ],
      "text/plain": [
       "HBox(children=(IntProgress(value=0, max=8), HTML(value='')))"
      ]
     },
     "metadata": {},
     "output_type": "display_data"
    },
    {
     "name": "stdout",
     "output_type": "stream",
     "text": [
      "\n"
     ]
    },
    {
     "data": {
      "text/plain": [
       "21"
      ]
     },
     "execution_count": 44,
     "metadata": {},
     "output_type": "execute_result"
    }
   ],
   "source": [
    "# we need to enlarge the dictionary with the full data set to apply the encoding\n",
    "train_cat_features = train.copy()\n",
    "test_cat_features = test.copy()\n",
    "\n",
    "# To encode our variables we need to fit to all dataset, so we'll create a temp df\n",
    "full_dataset = pd.concat([train_cat_features, test_cat_features], axis=0)\n",
    "\n",
    "\n",
    "for c in tqdm_notebook(str_cols):\n",
    "    \n",
    "    # integer encode\n",
    "    label_encoder = LabelEncoder()\n",
    "    \n",
    "    values = np.array(full_dataset[c])\n",
    "    \n",
    "    label_encoder = label_encoder.fit(values.astype(str))\n",
    "    \n",
    "    # Binary Encode    \n",
    "    train[c] = label_encoder.transform(train_cat_features[c])\n",
    "    \n",
    "    test[c] = label_encoder.transform(test_cat_features[c])\n",
    "    \n",
    "\n",
    "del full_dataset, train_cat_features, test_cat_features\n",
    "gc.collect()"
   ]
  },
  {
   "cell_type": "code",
   "execution_count": 45,
   "metadata": {
    "ExecuteTime": {
     "end_time": "2018-04-16T00:07:47.943128Z",
     "start_time": "2018-04-16T00:07:47.863889Z"
    }
   },
   "outputs": [
    {
     "data": {
      "text/html": [
       "<div>\n",
       "<style scoped>\n",
       "    .dataframe tbody tr th:only-of-type {\n",
       "        vertical-align: middle;\n",
       "    }\n",
       "\n",
       "    .dataframe tbody tr th {\n",
       "        vertical-align: top;\n",
       "    }\n",
       "\n",
       "    .dataframe thead th {\n",
       "        text-align: right;\n",
       "    }\n",
       "</style>\n",
       "<table border=\"1\" class=\"dataframe\">\n",
       "  <thead>\n",
       "    <tr style=\"text-align: right;\">\n",
       "      <th></th>\n",
       "      <th>teacher_id</th>\n",
       "      <th>teacher_prefix</th>\n",
       "      <th>school_state</th>\n",
       "      <th>project_submitted_datetime</th>\n",
       "      <th>project_grade_category</th>\n",
       "      <th>teacher_number_of_previously_posted_projects</th>\n",
       "      <th>project_is_approved</th>\n",
       "      <th>unique_items</th>\n",
       "      <th>total_quantity</th>\n",
       "      <th>mean_cost</th>\n",
       "      <th>total_cost</th>\n",
       "      <th>year</th>\n",
       "      <th>month</th>\n",
       "      <th>day</th>\n",
       "      <th>day_of_week</th>\n",
       "      <th>hour</th>\n",
       "      <th>subj_cat_1</th>\n",
       "      <th>subj_cat_2</th>\n",
       "      <th>subj_subcat_1</th>\n",
       "      <th>subj_subcat_2</th>\n",
       "      <th>project_essay</th>\n",
       "    </tr>\n",
       "  </thead>\n",
       "  <tbody>\n",
       "    <tr>\n",
       "      <th>0</th>\n",
       "      <td>37239</td>\n",
       "      <td>3</td>\n",
       "      <td>33</td>\n",
       "      <td>1479480359000000000</td>\n",
       "      <td>3</td>\n",
       "      <td>0.057650</td>\n",
       "      <td>1</td>\n",
       "      <td>0.02</td>\n",
       "      <td>0.005382</td>\n",
       "      <td>0.036316</td>\n",
       "      <td>0.052629</td>\n",
       "      <td>18</td>\n",
       "      <td>11</td>\n",
       "      <td>18</td>\n",
       "      <td>4</td>\n",
       "      <td>14</td>\n",
       "      <td>3</td>\n",
       "      <td>10</td>\n",
       "      <td>16</td>\n",
       "      <td>30</td>\n",
       "      <td>Super Sight Word Centers Most of my kindergart...</td>\n",
       "    </tr>\n",
       "    <tr>\n",
       "      <th>1</th>\n",
       "      <td>115331</td>\n",
       "      <td>2</td>\n",
       "      <td>10</td>\n",
       "      <td>1493222248000000000</td>\n",
       "      <td>0</td>\n",
       "      <td>0.002217</td>\n",
       "      <td>0</td>\n",
       "      <td>0.01</td>\n",
       "      <td>0.020452</td>\n",
       "      <td>0.032267</td>\n",
       "      <td>0.019737</td>\n",
       "      <td>26</td>\n",
       "      <td>4</td>\n",
       "      <td>26</td>\n",
       "      <td>2</td>\n",
       "      <td>15</td>\n",
       "      <td>5</td>\n",
       "      <td>2</td>\n",
       "      <td>23</td>\n",
       "      <td>26</td>\n",
       "      <td>Keep Calm and Dance On Our elementary school i...</td>\n",
       "    </tr>\n",
       "    <tr>\n",
       "      <th>2</th>\n",
       "      <td>87678</td>\n",
       "      <td>3</td>\n",
       "      <td>44</td>\n",
       "      <td>1483311464000000000</td>\n",
       "      <td>0</td>\n",
       "      <td>0.011086</td>\n",
       "      <td>1</td>\n",
       "      <td>0.01</td>\n",
       "      <td>0.000000</td>\n",
       "      <td>0.037938</td>\n",
       "      <td>0.024342</td>\n",
       "      <td>1</td>\n",
       "      <td>1</td>\n",
       "      <td>1</td>\n",
       "      <td>6</td>\n",
       "      <td>22</td>\n",
       "      <td>4</td>\n",
       "      <td>4</td>\n",
       "      <td>0</td>\n",
       "      <td>17</td>\n",
       "      <td>Lets 3Doodle to Learn Hello;\\r\\nMy name is Mrs...</td>\n",
       "    </tr>\n",
       "    <tr>\n",
       "      <th>3</th>\n",
       "      <td>42475</td>\n",
       "      <td>1</td>\n",
       "      <td>27</td>\n",
       "      <td>1471016531000000000</td>\n",
       "      <td>0</td>\n",
       "      <td>0.035477</td>\n",
       "      <td>0</td>\n",
       "      <td>0.05</td>\n",
       "      <td>0.004306</td>\n",
       "      <td>0.010950</td>\n",
       "      <td>0.038453</td>\n",
       "      <td>12</td>\n",
       "      <td>8</td>\n",
       "      <td>12</td>\n",
       "      <td>4</td>\n",
       "      <td>15</td>\n",
       "      <td>1</td>\n",
       "      <td>10</td>\n",
       "      <td>14</td>\n",
       "      <td>30</td>\n",
       "      <td>\\\"Kid Inspired\\\" Equipment to Increase Activit...</td>\n",
       "    </tr>\n",
       "    <tr>\n",
       "      <th>4</th>\n",
       "      <td>85849</td>\n",
       "      <td>1</td>\n",
       "      <td>4</td>\n",
       "      <td>1470474551000000000</td>\n",
       "      <td>1</td>\n",
       "      <td>0.093126</td>\n",
       "      <td>1</td>\n",
       "      <td>0.01</td>\n",
       "      <td>0.001076</td>\n",
       "      <td>0.057465</td>\n",
       "      <td>0.040198</td>\n",
       "      <td>6</td>\n",
       "      <td>8</td>\n",
       "      <td>6</td>\n",
       "      <td>5</td>\n",
       "      <td>9</td>\n",
       "      <td>1</td>\n",
       "      <td>10</td>\n",
       "      <td>14</td>\n",
       "      <td>30</td>\n",
       "      <td>We need clean water for our culinary arts clas...</td>\n",
       "    </tr>\n",
       "  </tbody>\n",
       "</table>\n",
       "</div>"
      ],
      "text/plain": [
       "   teacher_id  teacher_prefix  school_state  project_submitted_datetime  \\\n",
       "0       37239               3            33         1479480359000000000   \n",
       "1      115331               2            10         1493222248000000000   \n",
       "2       87678               3            44         1483311464000000000   \n",
       "3       42475               1            27         1471016531000000000   \n",
       "4       85849               1             4         1470474551000000000   \n",
       "\n",
       "   project_grade_category  teacher_number_of_previously_posted_projects  \\\n",
       "0                       3                                      0.057650   \n",
       "1                       0                                      0.002217   \n",
       "2                       0                                      0.011086   \n",
       "3                       0                                      0.035477   \n",
       "4                       1                                      0.093126   \n",
       "\n",
       "   project_is_approved  unique_items  total_quantity  mean_cost  total_cost  \\\n",
       "0                    1          0.02        0.005382   0.036316    0.052629   \n",
       "1                    0          0.01        0.020452   0.032267    0.019737   \n",
       "2                    1          0.01        0.000000   0.037938    0.024342   \n",
       "3                    0          0.05        0.004306   0.010950    0.038453   \n",
       "4                    1          0.01        0.001076   0.057465    0.040198   \n",
       "\n",
       "   year  month  day  day_of_week  hour  subj_cat_1  subj_cat_2  subj_subcat_1  \\\n",
       "0    18     11   18            4    14           3          10             16   \n",
       "1    26      4   26            2    15           5           2             23   \n",
       "2     1      1    1            6    22           4           4              0   \n",
       "3    12      8   12            4    15           1          10             14   \n",
       "4     6      8    6            5     9           1          10             14   \n",
       "\n",
       "   subj_subcat_2                                      project_essay  \n",
       "0             30  Super Sight Word Centers Most of my kindergart...  \n",
       "1             26  Keep Calm and Dance On Our elementary school i...  \n",
       "2             17  Lets 3Doodle to Learn Hello;\\r\\nMy name is Mrs...  \n",
       "3             30  \\\"Kid Inspired\\\" Equipment to Increase Activit...  \n",
       "4             30  We need clean water for our culinary arts clas...  "
      ]
     },
     "execution_count": 45,
     "metadata": {},
     "output_type": "execute_result"
    }
   ],
   "source": [
    "train.head()"
   ]
  },
  {
   "cell_type": "markdown",
   "metadata": {},
   "source": [
    "### NLP Processing on text features\n",
    "As we can see from above, our dataset is mostly numeric by now. The last feature to process are the textual ones. That's where the NLP part of our project begin."
   ]
  },
  {
   "cell_type": "markdown",
   "metadata": {},
   "source": [
    "One common first step in NLP is to apply steemming, where is extracted the root, `steem`,  of the words, another one is to extract its `lemma`, the base form encountered in the dictionaries. \n",
    "\n",
    "From [Wikipedia](https://en.wikipedia.org/wiki/Lemmatisation):\n",
    "\n",
    " > The difference is that a stemmer operates on a single word without knowledge of the context, and therefore cannot discriminate between words which have different meanings depending on part of speech.<br>\n",
    " > ...<br>\n",
    " > For instance:\n",
    "  * The word \"better\" has \"good\" as its lemma. This link is missed by stemming, as it requires a dictionary look-up.\n",
    "  * The word \"walk\" is the base form for word \"walking\", and hence this is matched in both stemming and lemmatisation.\n",
    "  * The word \"meeting\" can be either the base form of a noun or a form of a verb (\"to meet\") depending on the context; e.g., \"in our last meeting\" or \"We are meeting again tomorrow\". Unlike stemming, lemmatisation attempts to select the correct lemma depending on the context.\n",
    "\n",
    " "
   ]
  },
  {
   "cell_type": "markdown",
   "metadata": {},
   "source": [
    "Let's create a function that strip all the undesirable characters from our text and replace them for spaces, then we'll tokenize the text using those spaces as separators"
   ]
  },
  {
   "cell_type": "code",
   "execution_count": 46,
   "metadata": {
    "ExecuteTime": {
     "end_time": "2018-04-16T00:08:13.098645Z",
     "start_time": "2018-04-16T00:08:13.008406Z"
    }
   },
   "outputs": [],
   "source": [
    "# Function adapted from jmbull\n",
    "# https://www.kaggle.com/jmbull/xtra-credit-xgb-lgb-tfidf-feature-stacking\n",
    "\n",
    "import re\n",
    "\n",
    "word_tokenizer = WhitespaceTokenizer()\n",
    "lemmatizer = WordNetLemmatizer()\n",
    "\n",
    "def tokenize(text: str)-> list:\n",
    "    \"\"\"Receives a text, cleans it and tokenize\n",
    "    Args:\n",
    "        text = text as string\n",
    "    Returns:\n",
    "        list of tokens\n",
    "    \"\"\"\n",
    "    text = text.strip().lower()\n",
    "    \n",
    "    separators = [\n",
    "        ('\\W+',' '), # non-word -> space\n",
    "        (r'(\\\")', ' '), # double-quote\n",
    "        (r'(\\r)', ' '), # escape seq\n",
    "        (r'(\\n)', ' '), # newline\n",
    "        (r'(\\r\\n)', ' '), # escape + newline+\n",
    "        (r'(\\\\)', ' '), # backslash\n",
    "        (r'\\t', ' '), # tab\n",
    "        (r'\\:', ' '), # colon\n",
    "        (r'\\\"\\\"\\\"\\\"', ' '), # sequence of double quotes\n",
    "        (r'_', ' '), # underline\n",
    "        (r'\\+', ' '), # plus sign\n",
    "        (r'\\=', ' '), # equal sign\n",
    "        (' i m ',' i\\'m '), # missing contraction\n",
    "        ('n t ','n\\'t '), # missing negative contraction\n",
    "        (' re ',' are ') # expand contraction\n",
    "    ]\n",
    "    for p, repl in separators:\n",
    "        \n",
    "        text = re.sub(p, repl, text)\n",
    "    \n",
    "    text = [lemmatizer.lemmatize(w) for w in word_tokenizer.tokenize(text)]\n",
    "    \n",
    "    text = [token for token in text if token not in stop] \n",
    "    \n",
    "    return text"
   ]
  },
  {
   "cell_type": "markdown",
   "metadata": {},
   "source": [
    "Let's tokenize our text features"
   ]
  },
  {
   "cell_type": "code",
   "execution_count": 48,
   "metadata": {
    "ExecuteTime": {
     "end_time": "2018-04-16T00:20:32.931836Z",
     "start_time": "2018-04-16T00:09:49.245783Z"
    }
   },
   "outputs": [],
   "source": [
    "train['project_essay'] = train['project_essay'].apply(lambda row: tokenize(row))\n",
    "test['project_essay'] = test['project_essay'].apply(lambda row: tokenize(row))"
   ]
  },
  {
   "cell_type": "code",
   "execution_count": 52,
   "metadata": {
    "ExecuteTime": {
     "end_time": "2018-04-16T00:21:58.013800Z",
     "start_time": "2018-04-16T00:21:57.944929Z"
    }
   },
   "outputs": [
    {
     "data": {
      "text/plain": [
       "['super',\n",
       " 'sight',\n",
       " 'word',\n",
       " 'center',\n",
       " 'kindergarten',\n",
       " 'student',\n",
       " 'come',\n",
       " 'low',\n",
       " 'income',\n",
       " 'household',\n",
       " 'considered',\n",
       " 'risk',\n",
       " 'kid',\n",
       " 'walk',\n",
       " 'school',\n",
       " 'alongside',\n",
       " 'parent',\n",
       " 'never',\n",
       " 'walking',\n",
       " 'distance',\n",
       " 'house',\n",
       " '80',\n",
       " 'student',\n",
       " 'english',\n",
       " 'first',\n",
       " 'language',\n",
       " 'language',\n",
       " 'spoken',\n",
       " 'home',\n",
       " 'r',\n",
       " 'n',\n",
       " 'r',\n",
       " 'nwhile',\n",
       " 'kindergarten',\n",
       " 'kid',\n",
       " 'many',\n",
       " 'obstacle',\n",
       " 'front',\n",
       " 'come',\n",
       " 'school',\n",
       " 'day',\n",
       " 'excited',\n",
       " 'ready',\n",
       " 'learn',\n",
       " 'student',\n",
       " 'started',\n",
       " 'year',\n",
       " 'never',\n",
       " 'school',\n",
       " 'setting',\n",
       " 'start',\n",
       " 'year',\n",
       " 'many',\n",
       " 'never',\n",
       " 'exposed',\n",
       " 'letter',\n",
       " 'day',\n",
       " 'soak',\n",
       " 'knowledge',\n",
       " 'try',\n",
       " 'hardest',\n",
       " 'succeed',\n",
       " 'highly',\n",
       " 'motivated',\n",
       " 'learn',\n",
       " 'new',\n",
       " 'thing',\n",
       " 'every',\n",
       " 'day',\n",
       " 'halfway',\n",
       " 'year',\n",
       " 'starting',\n",
       " 'take',\n",
       " 'know',\n",
       " 'know',\n",
       " 'letter',\n",
       " 'sight',\n",
       " 'word',\n",
       " 'number',\n",
       " '20',\n",
       " 'majority',\n",
       " 'letter',\n",
       " 'sound',\n",
       " 'hard',\n",
       " 'work',\n",
       " 'determination',\n",
       " 'excited',\n",
       " 'see',\n",
       " 'place',\n",
       " 'go',\n",
       " 'currently',\n",
       " 'differentiated',\n",
       " 'sight',\n",
       " 'word',\n",
       " 'center',\n",
       " 'daily',\n",
       " 'literacy',\n",
       " 'station',\n",
       " 'student',\n",
       " 'activity',\n",
       " 'relate',\n",
       " 'whatever',\n",
       " 'sight',\n",
       " 'word',\n",
       " 'list',\n",
       " 'one',\n",
       " 'favorite',\n",
       " 'station',\n",
       " 'activity',\n",
       " 'want',\n",
       " 'continue',\n",
       " 'provide',\n",
       " 'student',\n",
       " 'engaging',\n",
       " 'way',\n",
       " 'practice',\n",
       " 'sight',\n",
       " 'word',\n",
       " 'r',\n",
       " 'n',\n",
       " 'r',\n",
       " 'ni',\n",
       " 'dream',\n",
       " 'student',\n",
       " 'use',\n",
       " 'qr',\n",
       " 'reader',\n",
       " 'scan',\n",
       " 'sight',\n",
       " 'word',\n",
       " 'struggling',\n",
       " 'ipod',\n",
       " 'reading',\n",
       " 'sight',\n",
       " 'word',\n",
       " 'would',\n",
       " 'help',\n",
       " 'many',\n",
       " 'student',\n",
       " 'giving',\n",
       " 'multiple',\n",
       " 'exposure',\n",
       " 'word',\n",
       " 'student',\n",
       " 'need',\n",
       " 'someone',\n",
       " 'go',\n",
       " 'sight',\n",
       " 'word',\n",
       " 'daily',\n",
       " \"can't\",\n",
       " 'always',\n",
       " 'get',\n",
       " 'around',\n",
       " 'everyone',\n",
       " 'practice',\n",
       " 'flashcard',\n",
       " 'ipod',\n",
       " 'would',\n",
       " 'still',\n",
       " 'way',\n",
       " 'practice',\n",
       " 'sight',\n",
       " 'word',\n",
       " 'daily',\n",
       " 'basis',\n",
       " 'nan',\n",
       " 'nan',\n",
       " 'student',\n",
       " 'need',\n",
       " '6',\n",
       " 'ipod',\n",
       " 'nano',\n",
       " 'create',\n",
       " 'differentiated',\n",
       " 'engaging',\n",
       " 'way',\n",
       " 'practice',\n",
       " 'sight',\n",
       " 'word',\n",
       " 'literacy',\n",
       " 'station']"
      ]
     },
     "execution_count": 52,
     "metadata": {},
     "output_type": "execute_result"
    }
   ],
   "source": [
    "train['project_essay'][0]"
   ]
  },
  {
   "cell_type": "code",
   "execution_count": 53,
   "metadata": {
    "ExecuteTime": {
     "end_time": "2018-04-16T00:33:28.387653Z",
     "start_time": "2018-04-16T00:32:54.927143Z"
    }
   },
   "outputs": [],
   "source": [
    "train.to_csv(\"train_tokenized.csv\", index=False)\n",
    "test.to_csv(\"test_tokenized.csv\", index=False)"
   ]
  },
  {
   "cell_type": "code",
   "execution_count": 63,
   "metadata": {
    "ExecuteTime": {
     "end_time": "2018-04-16T01:02:31.819436Z",
     "start_time": "2018-04-16T01:02:24.519156Z"
    }
   },
   "outputs": [],
   "source": [
    "train = pd.read_csv(\"train_tokenized.csv\")\n",
    "test = pd.read_csv(\"test_tokenized.csv\")"
   ]
  },
  {
   "cell_type": "markdown",
   "metadata": {},
   "source": [
    "#### Let's apply Term Frequency versus Inverse Document Frequency - TF-IDF"
   ]
  },
  {
   "cell_type": "code",
   "execution_count": 64,
   "metadata": {
    "ExecuteTime": {
     "end_time": "2018-04-16T01:02:52.139823Z",
     "start_time": "2018-04-16T01:02:34.461239Z"
    }
   },
   "outputs": [
    {
     "data": {
      "text/plain": [
       "657"
      ]
     },
     "execution_count": 64,
     "metadata": {},
     "output_type": "execute_result"
    }
   ],
   "source": [
    "train_text = train['project_essay'].apply(lambda row: \" \".join(row))\n",
    "test_text = test['project_essay'].apply(lambda row: \" \".join(row))\n",
    "gc.collect()"
   ]
  },
  {
   "cell_type": "code",
   "execution_count": null,
   "metadata": {
    "ExecuteTime": {
     "end_time": "2018-04-16T00:53:01.350149Z",
     "start_time": "2018-04-16T00:50:20.566Z"
    }
   },
   "outputs": [],
   "source": [
    "train_text.head()"
   ]
  },
  {
   "cell_type": "code",
   "execution_count": 7,
   "metadata": {
    "ExecuteTime": {
     "end_time": "2018-04-15T14:49:32.887426Z",
     "start_time": "2018-04-15T14:49:29.971369Z"
    }
   },
   "outputs": [],
   "source": [
    "with open(\"train_text.obj\",  'wb') as f:\n",
    "    pickle.dump(train_text, f)\n",
    "    \n",
    "with open(\"test_text.obj\", 'wb') as f:\n",
    "    pickle.dump(test_text, f)"
   ]
  },
  {
   "cell_type": "code",
   "execution_count": 3,
   "metadata": {
    "ExecuteTime": {
     "end_time": "2018-04-15T23:46:33.226287Z",
     "start_time": "2018-04-15T23:46:31.427376Z"
    }
   },
   "outputs": [],
   "source": [
    "with open(\"train_text.obj\",  'rb') as f:\n",
    "    train_text = pickle.load(f)\n",
    "    \n",
    "with open(\"test_text.obj\", 'rb') as f:\n",
    "    test_text = pickle.load(f)"
   ]
  },
  {
   "cell_type": "code",
   "execution_count": 7,
   "metadata": {
    "ExecuteTime": {
     "end_time": "2018-04-15T23:47:59.067456Z",
     "start_time": "2018-04-15T23:47:59.011952Z"
    }
   },
   "outputs": [
    {
     "data": {
      "text/plain": [
       "0         [ ' s u p e r ' ,   ' s i g h t ' ,   ' w o r ...\n",
       "1         [ ' k e e p ' ,   ' c a l m ' ,   ' d a n c e ...\n",
       "2         [ ' l e t ' ,   ' 3 d o o d l e ' ,   ' l e a ...\n",
       "3         [ ' k i d ' ,   ' i n s p i r e d ' ,   ' e q ...\n",
       "4         [ ' n e e d ' ,   ' c l e a n ' ,   ' w a t e ...\n",
       "5         [ ' n e e d ' ,   ' r e a c h ' ,   ' v i r t ...\n",
       "6         [ ' a c t i v e ' ,   ' k i n d e r g a r t n ...\n",
       "7         [ ' f a b u l o u s ' ,   ' f i r s t i e s ' ...\n",
       "8         [ ' w o b b l e ' ,   ' c h a i r ' ,   ' h e ...\n",
       "9         [ ' s n u g g l e ' ,   ' g o o d ' ,   ' b o ...\n",
       "10        [ ' w r i t i n g ' ,   ' w r i t i n g ' ,   ...\n",
       "11        [ ' t e c h n o l o g y ' ,   ' b o o s t ' , ...\n",
       "12        [ ' l i f e ' ,   ' l e s s o n ' ,   ' l i t ...\n",
       "13        [ ' e x t r a ' ,   ' e x t r a ' ,   ' r e a ...\n",
       "14        [ ' f l e x i b l e ' ,   ' s e a t i n g ' , ...\n",
       "15        [ ' c o m f y ' ,   ' s e a t ' ,   ' t h i r ...\n",
       "16        [ ' i p a d s ' ,   ' b i l i n g u a l ' ,   ...\n",
       "17        [ ' t a k i n g ' ,   ' l e a r n i n g ' ,   ...\n",
       "18        [ ' w a t c h ' ,   ' r e a d e r ' ,   ' g r ...\n",
       "19        [ ' s u c c e s s ' ,   ' c o m m u n i c a t ...\n",
       "20        [ ' m a z e ' ,   ' i n g ' ,   ' p r o b l e ...\n",
       "21        [ ' o r a l ' ,   ' l a n g u a g e ' ,   ' d ...\n",
       "22        [ ' r ' ,   ' n a b c ' ,   ' y a ' ,   ' l i ...\n",
       "23        [ ' m i n i ' ,   ' d e v i c e ' ,   ' m a n ...\n",
       "24        [ ' l e v e l e d ' ,   ' l i b r a r y ' ,   ...\n",
       "25        [ ' b a l a n c e ' ,   ' b a l l ' ,   ' s e ...\n",
       "26        [ ' p a p e r ' ,   ' p e n c i l ' ,   ' a l ...\n",
       "27        [ ' h e a r ' ,   ' c l a s s r o o m ' ,   ' ...\n",
       "28        [ ' f i n d i n g ' ,   ' v o i c e ' ,   ' l ...\n",
       "29        [ ' l e t ' ,   ' r e a d ' ,   ' b e s t ' , ...\n",
       "                                ...                        \n",
       "182050    [ ' b r i n g i n g ' ,   ' c l a s s r o o m ...\n",
       "182051    [ ' s u p p l y ' ,   ' g a l o r e ' ,   ' s ...\n",
       "182052    [ ' b a l a n c e d ' ,   ' r e a d i n g ' , ...\n",
       "182053    [ ' m a k i n g ' ,   ' c i v i c s ' ,   ' r ...\n",
       "182054    [ ' p l a c e ' ,   ' e v e r y o n e ' ,   ' ...\n",
       "182055    [ ' c u l t i v a t i n g ' ,   ' m i n d f u ...\n",
       "182056    [ ' h e l p ' ,   ' u ' ,   ' b u i l d ' ,   ...\n",
       "182057    [ ' t e c h n o l o g y ' ,   ' p a r t n e r ...\n",
       "182058    [ ' b o o k ' ,   ' s p a n i s h ' ,   ' l i ...\n",
       "182059    [ ' s e n s o r y ' ,   ' m o t o r ' ,   ' i ...\n",
       "182060    [ ' t a b l e t ' ,   ' t e a c h e r ' ,   ' ...\n",
       "182061    [ ' t i m e ' ,   ' p l a y g r o u n d ' ,   ...\n",
       "182062    [ ' r e a d i n g ' ,   ' r o o m ' ,   ' d o ...\n",
       "182063    [ ' o n e ' ,   ' f i n a l ' ,   ' p u s h ' ...\n",
       "182064    [ ' e m b r a c i n g ' ,   ' s e n s o r y ' ...\n",
       "182065    [ ' s t u d e n t ' ,   ' s e e k i n g ' ,   ...\n",
       "182066    [ ' w i g g l e ' ,   ' w o r k ' ,   ' m a n ...\n",
       "182067    [ ' g a m e ' ,   ' g e t ' ,   ' u ' ,   ' m ...\n",
       "182068    [ ' r i s k ' ,   ' s t u d e n t ' ,   ' n e ...\n",
       "182069    [ ' t r e a t ' ,   ' o f f e r ' ,   ' a l t ...\n",
       "182070    [ ' c o m f o r t a b l e ' ,   ' s e a t i n ...\n",
       "182071    [ ' r u g ' ,   ' b r i n g ' ,   ' u ' ,   ' ...\n",
       "182072    [ ' k i n d e r g a r t e n ' ,   ' w r i t i ...\n",
       "182073    [ ' b a s k e t ' ,   ' b a l l i n g ' ,   ' ...\n",
       "182074    [ ' b o o k ' ,   ' b e s t ' ,   ' s t u d e ...\n",
       "182075    [ ' m a t h ' ,   ' f u n ' ,   ' c u r r e n ...\n",
       "182076    [ ' s e w ' ,   ' t h i n k ' ,   ' d e s i g ...\n",
       "182077    [ ' s u s t a i n a b l e ' ,   ' c l a s s r ...\n",
       "182078    [ ' g o ' ,   ' l i b r a r y ' ,   ' w o r k ...\n",
       "182079    [ ' r e a d e r ' ,   ' l e a d e r ' ,   ' b ...\n",
       "Name: project_essay, Length: 182080, dtype: object"
      ]
     },
     "execution_count": 7,
     "metadata": {},
     "output_type": "execute_result"
    }
   ],
   "source": [
    "train"
   ]
  },
  {
   "cell_type": "code",
   "execution_count": 66,
   "metadata": {
    "ExecuteTime": {
     "end_time": "2018-04-16T01:02:59.581091Z",
     "start_time": "2018-04-16T01:02:59.529457Z"
    }
   },
   "outputs": [],
   "source": [
    "# Code borrowed from Abishek: \n",
    "# https://www.kaggle.com/abhishek/approaching-almost-any-nlp-problem-on-kaggle\n",
    "\n",
    "tfv = TfidfVectorizer(norm='l2', min_df=0,  max_features=8000, \n",
    "            strip_accents='unicode', analyzer='word', token_pattern=r'\\w{1,}',\n",
    "            ngram_range=(1,2), use_idf=True, smooth_idf=False, sublinear_tf=True,\n",
    "            stop_words = stop)"
   ]
  },
  {
   "cell_type": "code",
   "execution_count": 67,
   "metadata": {
    "ExecuteTime": {
     "end_time": "2018-04-16T01:09:35.572657Z",
     "start_time": "2018-04-16T01:03:03.489493Z"
    }
   },
   "outputs": [
    {
     "data": {
      "text/plain": [
       "48"
      ]
     },
     "execution_count": 67,
     "metadata": {},
     "output_type": "execute_result"
    }
   ],
   "source": [
    "tfv.fit(list(train_text.values))\n",
    "train_tfv = np.array(tfv.transform(train_text).toarray())\n",
    "\n",
    "gc.collect()"
   ]
  },
  {
   "cell_type": "code",
   "execution_count": 59,
   "metadata": {
    "ExecuteTime": {
     "end_time": "2018-04-16T00:59:14.868942Z",
     "start_time": "2018-04-16T00:59:13.473625Z"
    }
   },
   "outputs": [
    {
     "data": {
      "text/plain": [
       "393"
      ]
     },
     "execution_count": 59,
     "metadata": {},
     "output_type": "execute_result"
    }
   ],
   "source": [
    "tfv.fit(list(test_text.values))\n",
    "\n",
    "test_tfv = np.array(tfv.transform(test_text).toarray())\n",
    "\n",
    "gc.collect()"
   ]
  },
  {
   "cell_type": "code",
   "execution_count": 60,
   "metadata": {
    "ExecuteTime": {
     "end_time": "2018-04-16T00:59:31.173208Z",
     "start_time": "2018-04-16T00:59:29.785624Z"
    }
   },
   "outputs": [
    {
     "data": {
      "text/plain": [
       "103"
      ]
     },
     "execution_count": 60,
     "metadata": {},
     "output_type": "execute_result"
    }
   ],
   "source": [
    "test_tfv = np.array(test_tfv)\n",
    "\n",
    "gc.collect()"
   ]
  },
  {
   "cell_type": "code",
   "execution_count": 62,
   "metadata": {
    "ExecuteTime": {
     "end_time": "2018-04-16T00:59:55.414833Z",
     "start_time": "2018-04-16T00:59:55.367702Z"
    }
   },
   "outputs": [
    {
     "data": {
      "text/plain": [
       "()"
      ]
     },
     "execution_count": 62,
     "metadata": {},
     "output_type": "execute_result"
    }
   ],
   "source": [
    "test_tfv.shape"
   ]
  },
  {
   "cell_type": "code",
   "execution_count": null,
   "metadata": {
    "ExecuteTime": {
     "end_time": "2018-04-16T00:53:01.355851Z",
     "start_time": "2018-04-16T00:52:04.340Z"
    }
   },
   "outputs": [],
   "source": [
    "with open(\"train_tfv.obj\",  'wb') as f:\n",
    "    pickle.dump(train_tfv, f)\n",
    "    \n",
    "with open(\"test_tfv.obj\", 'wb') as f:\n",
    "    pickle.dump(test_tfv, f)\n",
    "    "
   ]
  },
  {
   "cell_type": "code",
   "execution_count": 49,
   "metadata": {
    "ExecuteTime": {
     "end_time": "2018-04-15T23:28:51.023515Z",
     "start_time": "2018-04-15T23:28:50.437701Z"
    }
   },
   "outputs": [
    {
     "data": {
      "application/vnd.jupyter.widget-view+json": {
       "model_id": "21332639eac445a587cf82b84135face",
       "version_major": 2,
       "version_minor": 0
      },
      "text/html": [
       "<p>Failed to display Jupyter Widget of type <code>HBox</code>.</p>\n",
       "<p>\n",
       "  If you're reading this message in the Jupyter Notebook or JupyterLab Notebook, it may mean\n",
       "  that the widgets JavaScript is still loading. If this message persists, it\n",
       "  likely means that the widgets JavaScript library is either not installed or\n",
       "  not enabled. See the <a href=\"https://ipywidgets.readthedocs.io/en/stable/user_install.html\">Jupyter\n",
       "  Widgets Documentation</a> for setup instructions.\n",
       "</p>\n",
       "<p>\n",
       "  If you're reading this message in another frontend (for example, a static\n",
       "  rendering on GitHub or <a href=\"https://nbviewer.jupyter.org/\">NBViewer</a>),\n",
       "  it may mean that your frontend doesn't currently support widgets.\n",
       "</p>\n"
      ],
      "text/plain": [
       "HBox(children=(IntProgress(value=0, max=297), HTML(value='')))"
      ]
     },
     "metadata": {},
     "output_type": "display_data"
    },
    {
     "ename": "MemoryError",
     "evalue": "",
     "output_type": "error",
     "traceback": [
      "\u001b[0;31m---------------------------------------------------------------------------\u001b[0m",
      "\u001b[0;31mKeyError\u001b[0m                                  Traceback (most recent call last)",
      "\u001b[0;32m~/anaconda3/envs/fastai/lib/python3.6/site-packages/pandas/core/indexes/base.py\u001b[0m in \u001b[0;36mget_loc\u001b[0;34m(self, key, method, tolerance)\u001b[0m\n\u001b[1;32m   2524\u001b[0m             \u001b[0;32mtry\u001b[0m\u001b[0;34m:\u001b[0m\u001b[0;34m\u001b[0m\u001b[0m\n\u001b[0;32m-> 2525\u001b[0;31m                 \u001b[0;32mreturn\u001b[0m \u001b[0mself\u001b[0m\u001b[0;34m.\u001b[0m\u001b[0m_engine\u001b[0m\u001b[0;34m.\u001b[0m\u001b[0mget_loc\u001b[0m\u001b[0;34m(\u001b[0m\u001b[0mkey\u001b[0m\u001b[0;34m)\u001b[0m\u001b[0;34m\u001b[0m\u001b[0m\n\u001b[0m\u001b[1;32m   2526\u001b[0m             \u001b[0;32mexcept\u001b[0m \u001b[0mKeyError\u001b[0m\u001b[0;34m:\u001b[0m\u001b[0;34m\u001b[0m\u001b[0m\n",
      "\u001b[0;32mpandas/_libs/index.pyx\u001b[0m in \u001b[0;36mpandas._libs.index.IndexEngine.get_loc\u001b[0;34m()\u001b[0m\n",
      "\u001b[0;32mpandas/_libs/index.pyx\u001b[0m in \u001b[0;36mpandas._libs.index.IndexEngine.get_loc\u001b[0;34m()\u001b[0m\n",
      "\u001b[0;32mpandas/_libs/hashtable_class_helper.pxi\u001b[0m in \u001b[0;36mpandas._libs.hashtable.PyObjectHashTable.get_item\u001b[0;34m()\u001b[0m\n",
      "\u001b[0;32mpandas/_libs/hashtable_class_helper.pxi\u001b[0m in \u001b[0;36mpandas._libs.hashtable.PyObjectHashTable.get_item\u001b[0;34m()\u001b[0m\n",
      "\u001b[0;31mKeyError\u001b[0m: 'project_essay_tfidf_588'",
      "\nDuring handling of the above exception, another exception occurred:\n",
      "\u001b[0;31mKeyError\u001b[0m                                  Traceback (most recent call last)",
      "\u001b[0;32m~/anaconda3/envs/fastai/lib/python3.6/site-packages/pandas/core/internals.py\u001b[0m in \u001b[0;36mset\u001b[0;34m(self, item, value, check)\u001b[0m\n\u001b[1;32m   3967\u001b[0m         \u001b[0;32mtry\u001b[0m\u001b[0;34m:\u001b[0m\u001b[0;34m\u001b[0m\u001b[0m\n\u001b[0;32m-> 3968\u001b[0;31m             \u001b[0mloc\u001b[0m \u001b[0;34m=\u001b[0m \u001b[0mself\u001b[0m\u001b[0;34m.\u001b[0m\u001b[0mitems\u001b[0m\u001b[0;34m.\u001b[0m\u001b[0mget_loc\u001b[0m\u001b[0;34m(\u001b[0m\u001b[0mitem\u001b[0m\u001b[0;34m)\u001b[0m\u001b[0;34m\u001b[0m\u001b[0m\n\u001b[0m\u001b[1;32m   3969\u001b[0m         \u001b[0;32mexcept\u001b[0m \u001b[0mKeyError\u001b[0m\u001b[0;34m:\u001b[0m\u001b[0;34m\u001b[0m\u001b[0m\n",
      "\u001b[0;32m~/anaconda3/envs/fastai/lib/python3.6/site-packages/pandas/core/indexes/base.py\u001b[0m in \u001b[0;36mget_loc\u001b[0;34m(self, key, method, tolerance)\u001b[0m\n\u001b[1;32m   2526\u001b[0m             \u001b[0;32mexcept\u001b[0m \u001b[0mKeyError\u001b[0m\u001b[0;34m:\u001b[0m\u001b[0;34m\u001b[0m\u001b[0m\n\u001b[0;32m-> 2527\u001b[0;31m                 \u001b[0;32mreturn\u001b[0m \u001b[0mself\u001b[0m\u001b[0;34m.\u001b[0m\u001b[0m_engine\u001b[0m\u001b[0;34m.\u001b[0m\u001b[0mget_loc\u001b[0m\u001b[0;34m(\u001b[0m\u001b[0mself\u001b[0m\u001b[0;34m.\u001b[0m\u001b[0m_maybe_cast_indexer\u001b[0m\u001b[0;34m(\u001b[0m\u001b[0mkey\u001b[0m\u001b[0;34m)\u001b[0m\u001b[0;34m)\u001b[0m\u001b[0;34m\u001b[0m\u001b[0m\n\u001b[0m\u001b[1;32m   2528\u001b[0m \u001b[0;34m\u001b[0m\u001b[0m\n",
      "\u001b[0;32mpandas/_libs/index.pyx\u001b[0m in \u001b[0;36mpandas._libs.index.IndexEngine.get_loc\u001b[0;34m()\u001b[0m\n",
      "\u001b[0;32mpandas/_libs/index.pyx\u001b[0m in \u001b[0;36mpandas._libs.index.IndexEngine.get_loc\u001b[0;34m()\u001b[0m\n",
      "\u001b[0;32mpandas/_libs/hashtable_class_helper.pxi\u001b[0m in \u001b[0;36mpandas._libs.hashtable.PyObjectHashTable.get_item\u001b[0;34m()\u001b[0m\n",
      "\u001b[0;32mpandas/_libs/hashtable_class_helper.pxi\u001b[0m in \u001b[0;36mpandas._libs.hashtable.PyObjectHashTable.get_item\u001b[0;34m()\u001b[0m\n",
      "\u001b[0;31mKeyError\u001b[0m: 'project_essay_tfidf_588'",
      "\nDuring handling of the above exception, another exception occurred:\n",
      "\u001b[0;31mMemoryError\u001b[0m                               Traceback (most recent call last)",
      "\u001b[0;32m<ipython-input-49-c2b248bf86a0>\u001b[0m in \u001b[0;36m<module>\u001b[0;34m()\u001b[0m\n\u001b[1;32m      1\u001b[0m \u001b[0;32mfor\u001b[0m \u001b[0mi\u001b[0m \u001b[0;32min\u001b[0m \u001b[0mtqdm_notebook\u001b[0m\u001b[0;34m(\u001b[0m\u001b[0mrange\u001b[0m\u001b[0;34m(\u001b[0m\u001b[0;36m587\u001b[0m\u001b[0;34m,\u001b[0m \u001b[0mtrain_tfv\u001b[0m\u001b[0;34m.\u001b[0m\u001b[0mshape\u001b[0m\u001b[0;34m[\u001b[0m\u001b[0;36m1\u001b[0m\u001b[0;34m]\u001b[0m\u001b[0;34m)\u001b[0m\u001b[0;34m)\u001b[0m\u001b[0;34m:\u001b[0m\u001b[0;34m\u001b[0m\u001b[0m\n\u001b[0;32m----> 2\u001b[0;31m     \u001b[0mtrain\u001b[0m\u001b[0;34m[\u001b[0m\u001b[0;34m'project_essay'\u001b[0m \u001b[0;34m+\u001b[0m \u001b[0;34m'_tfidf_'\u001b[0m \u001b[0;34m+\u001b[0m \u001b[0mstr\u001b[0m\u001b[0;34m(\u001b[0m\u001b[0mi\u001b[0m\u001b[0;34m)\u001b[0m\u001b[0;34m]\u001b[0m \u001b[0;34m=\u001b[0m \u001b[0mtrain_tfv\u001b[0m\u001b[0;34m[\u001b[0m\u001b[0;34m:\u001b[0m\u001b[0;34m,\u001b[0m \u001b[0mi\u001b[0m\u001b[0;34m]\u001b[0m\u001b[0;34m\u001b[0m\u001b[0m\n\u001b[0m\u001b[1;32m      3\u001b[0m \u001b[0;34m\u001b[0m\u001b[0m\n\u001b[1;32m      4\u001b[0m \u001b[0;32mfor\u001b[0m \u001b[0mi\u001b[0m \u001b[0;32min\u001b[0m \u001b[0mtqdm_notebook\u001b[0m\u001b[0;34m(\u001b[0m\u001b[0mrange\u001b[0m\u001b[0;34m(\u001b[0m\u001b[0mtest_tfv\u001b[0m\u001b[0;34m.\u001b[0m\u001b[0mshape\u001b[0m\u001b[0;34m[\u001b[0m\u001b[0;36m1\u001b[0m\u001b[0;34m]\u001b[0m\u001b[0;34m)\u001b[0m\u001b[0;34m)\u001b[0m\u001b[0;34m:\u001b[0m\u001b[0;34m\u001b[0m\u001b[0m\n\u001b[1;32m      5\u001b[0m     \u001b[0mtest\u001b[0m\u001b[0;34m[\u001b[0m\u001b[0;34m'project_essay'\u001b[0m \u001b[0;34m+\u001b[0m \u001b[0;34m'_tfidf_'\u001b[0m \u001b[0;34m+\u001b[0m \u001b[0mstr\u001b[0m\u001b[0;34m(\u001b[0m\u001b[0mi\u001b[0m\u001b[0;34m)\u001b[0m\u001b[0;34m]\u001b[0m \u001b[0;34m=\u001b[0m \u001b[0mtest_tfv\u001b[0m\u001b[0;34m[\u001b[0m\u001b[0;34m:\u001b[0m\u001b[0;34m,\u001b[0m \u001b[0mi\u001b[0m\u001b[0;34m]\u001b[0m\u001b[0;34m\u001b[0m\u001b[0m\n",
      "\u001b[0;32m~/anaconda3/envs/fastai/lib/python3.6/site-packages/pandas/core/frame.py\u001b[0m in \u001b[0;36m__setitem__\u001b[0;34m(self, key, value)\u001b[0m\n\u001b[1;32m   2517\u001b[0m         \u001b[0;32melse\u001b[0m\u001b[0;34m:\u001b[0m\u001b[0;34m\u001b[0m\u001b[0m\n\u001b[1;32m   2518\u001b[0m             \u001b[0;31m# set column\u001b[0m\u001b[0;34m\u001b[0m\u001b[0;34m\u001b[0m\u001b[0m\n\u001b[0;32m-> 2519\u001b[0;31m             \u001b[0mself\u001b[0m\u001b[0;34m.\u001b[0m\u001b[0m_set_item\u001b[0m\u001b[0;34m(\u001b[0m\u001b[0mkey\u001b[0m\u001b[0;34m,\u001b[0m \u001b[0mvalue\u001b[0m\u001b[0;34m)\u001b[0m\u001b[0;34m\u001b[0m\u001b[0m\n\u001b[0m\u001b[1;32m   2520\u001b[0m \u001b[0;34m\u001b[0m\u001b[0m\n\u001b[1;32m   2521\u001b[0m     \u001b[0;32mdef\u001b[0m \u001b[0m_setitem_slice\u001b[0m\u001b[0;34m(\u001b[0m\u001b[0mself\u001b[0m\u001b[0;34m,\u001b[0m \u001b[0mkey\u001b[0m\u001b[0;34m,\u001b[0m \u001b[0mvalue\u001b[0m\u001b[0;34m)\u001b[0m\u001b[0;34m:\u001b[0m\u001b[0;34m\u001b[0m\u001b[0m\n",
      "\u001b[0;32m~/anaconda3/envs/fastai/lib/python3.6/site-packages/pandas/core/frame.py\u001b[0m in \u001b[0;36m_set_item\u001b[0;34m(self, key, value)\u001b[0m\n\u001b[1;32m   2584\u001b[0m         \u001b[0mself\u001b[0m\u001b[0;34m.\u001b[0m\u001b[0m_ensure_valid_index\u001b[0m\u001b[0;34m(\u001b[0m\u001b[0mvalue\u001b[0m\u001b[0;34m)\u001b[0m\u001b[0;34m\u001b[0m\u001b[0m\n\u001b[1;32m   2585\u001b[0m         \u001b[0mvalue\u001b[0m \u001b[0;34m=\u001b[0m \u001b[0mself\u001b[0m\u001b[0;34m.\u001b[0m\u001b[0m_sanitize_column\u001b[0m\u001b[0;34m(\u001b[0m\u001b[0mkey\u001b[0m\u001b[0;34m,\u001b[0m \u001b[0mvalue\u001b[0m\u001b[0;34m)\u001b[0m\u001b[0;34m\u001b[0m\u001b[0m\n\u001b[0;32m-> 2586\u001b[0;31m         \u001b[0mNDFrame\u001b[0m\u001b[0;34m.\u001b[0m\u001b[0m_set_item\u001b[0m\u001b[0;34m(\u001b[0m\u001b[0mself\u001b[0m\u001b[0;34m,\u001b[0m \u001b[0mkey\u001b[0m\u001b[0;34m,\u001b[0m \u001b[0mvalue\u001b[0m\u001b[0;34m)\u001b[0m\u001b[0;34m\u001b[0m\u001b[0m\n\u001b[0m\u001b[1;32m   2587\u001b[0m \u001b[0;34m\u001b[0m\u001b[0m\n\u001b[1;32m   2588\u001b[0m         \u001b[0;31m# check if we are modifying a copy\u001b[0m\u001b[0;34m\u001b[0m\u001b[0;34m\u001b[0m\u001b[0m\n",
      "\u001b[0;32m~/anaconda3/envs/fastai/lib/python3.6/site-packages/pandas/core/generic.py\u001b[0m in \u001b[0;36m_set_item\u001b[0;34m(self, key, value)\u001b[0m\n\u001b[1;32m   1952\u001b[0m \u001b[0;34m\u001b[0m\u001b[0m\n\u001b[1;32m   1953\u001b[0m     \u001b[0;32mdef\u001b[0m \u001b[0m_set_item\u001b[0m\u001b[0;34m(\u001b[0m\u001b[0mself\u001b[0m\u001b[0;34m,\u001b[0m \u001b[0mkey\u001b[0m\u001b[0;34m,\u001b[0m \u001b[0mvalue\u001b[0m\u001b[0;34m)\u001b[0m\u001b[0;34m:\u001b[0m\u001b[0;34m\u001b[0m\u001b[0m\n\u001b[0;32m-> 1954\u001b[0;31m         \u001b[0mself\u001b[0m\u001b[0;34m.\u001b[0m\u001b[0m_data\u001b[0m\u001b[0;34m.\u001b[0m\u001b[0mset\u001b[0m\u001b[0;34m(\u001b[0m\u001b[0mkey\u001b[0m\u001b[0;34m,\u001b[0m \u001b[0mvalue\u001b[0m\u001b[0;34m)\u001b[0m\u001b[0;34m\u001b[0m\u001b[0m\n\u001b[0m\u001b[1;32m   1955\u001b[0m         \u001b[0mself\u001b[0m\u001b[0;34m.\u001b[0m\u001b[0m_clear_item_cache\u001b[0m\u001b[0;34m(\u001b[0m\u001b[0;34m)\u001b[0m\u001b[0;34m\u001b[0m\u001b[0m\n\u001b[1;32m   1956\u001b[0m \u001b[0;34m\u001b[0m\u001b[0m\n",
      "\u001b[0;32m~/anaconda3/envs/fastai/lib/python3.6/site-packages/pandas/core/internals.py\u001b[0m in \u001b[0;36mset\u001b[0;34m(self, item, value, check)\u001b[0m\n\u001b[1;32m   3969\u001b[0m         \u001b[0;32mexcept\u001b[0m \u001b[0mKeyError\u001b[0m\u001b[0;34m:\u001b[0m\u001b[0;34m\u001b[0m\u001b[0m\n\u001b[1;32m   3970\u001b[0m             \u001b[0;31m# This item wasn't present, just insert at end\u001b[0m\u001b[0;34m\u001b[0m\u001b[0;34m\u001b[0m\u001b[0m\n\u001b[0;32m-> 3971\u001b[0;31m             \u001b[0mself\u001b[0m\u001b[0;34m.\u001b[0m\u001b[0minsert\u001b[0m\u001b[0;34m(\u001b[0m\u001b[0mlen\u001b[0m\u001b[0;34m(\u001b[0m\u001b[0mself\u001b[0m\u001b[0;34m.\u001b[0m\u001b[0mitems\u001b[0m\u001b[0;34m)\u001b[0m\u001b[0;34m,\u001b[0m \u001b[0mitem\u001b[0m\u001b[0;34m,\u001b[0m \u001b[0mvalue\u001b[0m\u001b[0;34m)\u001b[0m\u001b[0;34m\u001b[0m\u001b[0m\n\u001b[0m\u001b[1;32m   3972\u001b[0m             \u001b[0;32mreturn\u001b[0m\u001b[0;34m\u001b[0m\u001b[0m\n\u001b[1;32m   3973\u001b[0m \u001b[0;34m\u001b[0m\u001b[0m\n",
      "\u001b[0;32m~/anaconda3/envs/fastai/lib/python3.6/site-packages/pandas/core/internals.py\u001b[0m in \u001b[0;36minsert\u001b[0;34m(self, loc, item, value, allow_duplicates)\u001b[0m\n\u001b[1;32m   4097\u001b[0m \u001b[0;34m\u001b[0m\u001b[0m\n\u001b[1;32m   4098\u001b[0m         \u001b[0;32mif\u001b[0m \u001b[0mlen\u001b[0m\u001b[0;34m(\u001b[0m\u001b[0mself\u001b[0m\u001b[0;34m.\u001b[0m\u001b[0mblocks\u001b[0m\u001b[0;34m)\u001b[0m \u001b[0;34m>\u001b[0m \u001b[0;36m100\u001b[0m\u001b[0;34m:\u001b[0m\u001b[0;34m\u001b[0m\u001b[0m\n\u001b[0;32m-> 4099\u001b[0;31m             \u001b[0mself\u001b[0m\u001b[0;34m.\u001b[0m\u001b[0m_consolidate_inplace\u001b[0m\u001b[0;34m(\u001b[0m\u001b[0;34m)\u001b[0m\u001b[0;34m\u001b[0m\u001b[0m\n\u001b[0m\u001b[1;32m   4100\u001b[0m \u001b[0;34m\u001b[0m\u001b[0m\n\u001b[1;32m   4101\u001b[0m     def reindex_axis(self, new_index, axis, method=None, limit=None,\n",
      "\u001b[0;32m~/anaconda3/envs/fastai/lib/python3.6/site-packages/pandas/core/internals.py\u001b[0m in \u001b[0;36m_consolidate_inplace\u001b[0;34m(self)\u001b[0m\n\u001b[1;32m   3829\u001b[0m     \u001b[0;32mdef\u001b[0m \u001b[0m_consolidate_inplace\u001b[0m\u001b[0;34m(\u001b[0m\u001b[0mself\u001b[0m\u001b[0;34m)\u001b[0m\u001b[0;34m:\u001b[0m\u001b[0;34m\u001b[0m\u001b[0m\n\u001b[1;32m   3830\u001b[0m         \u001b[0;32mif\u001b[0m \u001b[0;32mnot\u001b[0m \u001b[0mself\u001b[0m\u001b[0;34m.\u001b[0m\u001b[0mis_consolidated\u001b[0m\u001b[0;34m(\u001b[0m\u001b[0;34m)\u001b[0m\u001b[0;34m:\u001b[0m\u001b[0;34m\u001b[0m\u001b[0m\n\u001b[0;32m-> 3831\u001b[0;31m             \u001b[0mself\u001b[0m\u001b[0;34m.\u001b[0m\u001b[0mblocks\u001b[0m \u001b[0;34m=\u001b[0m \u001b[0mtuple\u001b[0m\u001b[0;34m(\u001b[0m\u001b[0m_consolidate\u001b[0m\u001b[0;34m(\u001b[0m\u001b[0mself\u001b[0m\u001b[0;34m.\u001b[0m\u001b[0mblocks\u001b[0m\u001b[0;34m)\u001b[0m\u001b[0;34m)\u001b[0m\u001b[0;34m\u001b[0m\u001b[0m\n\u001b[0m\u001b[1;32m   3832\u001b[0m             \u001b[0mself\u001b[0m\u001b[0;34m.\u001b[0m\u001b[0m_is_consolidated\u001b[0m \u001b[0;34m=\u001b[0m \u001b[0;32mTrue\u001b[0m\u001b[0;34m\u001b[0m\u001b[0m\n\u001b[1;32m   3833\u001b[0m             \u001b[0mself\u001b[0m\u001b[0;34m.\u001b[0m\u001b[0m_known_consolidated\u001b[0m \u001b[0;34m=\u001b[0m \u001b[0;32mTrue\u001b[0m\u001b[0;34m\u001b[0m\u001b[0m\n",
      "\u001b[0;32m~/anaconda3/envs/fastai/lib/python3.6/site-packages/pandas/core/internals.py\u001b[0m in \u001b[0;36m_consolidate\u001b[0;34m(blocks)\u001b[0m\n\u001b[1;32m   4851\u001b[0m     \u001b[0;32mfor\u001b[0m \u001b[0;34m(\u001b[0m\u001b[0m_can_consolidate\u001b[0m\u001b[0;34m,\u001b[0m \u001b[0mdtype\u001b[0m\u001b[0;34m)\u001b[0m\u001b[0;34m,\u001b[0m \u001b[0mgroup_blocks\u001b[0m \u001b[0;32min\u001b[0m \u001b[0mgrouper\u001b[0m\u001b[0;34m:\u001b[0m\u001b[0;34m\u001b[0m\u001b[0m\n\u001b[1;32m   4852\u001b[0m         merged_blocks = _merge_blocks(list(group_blocks), dtype=dtype,\n\u001b[0;32m-> 4853\u001b[0;31m                                       _can_consolidate=_can_consolidate)\n\u001b[0m\u001b[1;32m   4854\u001b[0m         \u001b[0mnew_blocks\u001b[0m \u001b[0;34m=\u001b[0m \u001b[0m_extend_blocks\u001b[0m\u001b[0;34m(\u001b[0m\u001b[0mmerged_blocks\u001b[0m\u001b[0;34m,\u001b[0m \u001b[0mnew_blocks\u001b[0m\u001b[0;34m)\u001b[0m\u001b[0;34m\u001b[0m\u001b[0m\n\u001b[1;32m   4855\u001b[0m     \u001b[0;32mreturn\u001b[0m \u001b[0mnew_blocks\u001b[0m\u001b[0;34m\u001b[0m\u001b[0m\n",
      "\u001b[0;32m~/anaconda3/envs/fastai/lib/python3.6/site-packages/pandas/core/internals.py\u001b[0m in \u001b[0;36m_merge_blocks\u001b[0;34m(blocks, dtype, _can_consolidate)\u001b[0m\n\u001b[1;32m   4871\u001b[0m         \u001b[0;31m# combination of those slices is a slice, too.\u001b[0m\u001b[0;34m\u001b[0m\u001b[0;34m\u001b[0m\u001b[0m\n\u001b[1;32m   4872\u001b[0m         \u001b[0mnew_mgr_locs\u001b[0m \u001b[0;34m=\u001b[0m \u001b[0mnp\u001b[0m\u001b[0;34m.\u001b[0m\u001b[0mconcatenate\u001b[0m\u001b[0;34m(\u001b[0m\u001b[0;34m[\u001b[0m\u001b[0mb\u001b[0m\u001b[0;34m.\u001b[0m\u001b[0mmgr_locs\u001b[0m\u001b[0;34m.\u001b[0m\u001b[0mas_array\u001b[0m \u001b[0;32mfor\u001b[0m \u001b[0mb\u001b[0m \u001b[0;32min\u001b[0m \u001b[0mblocks\u001b[0m\u001b[0;34m]\u001b[0m\u001b[0;34m)\u001b[0m\u001b[0;34m\u001b[0m\u001b[0m\n\u001b[0;32m-> 4873\u001b[0;31m         \u001b[0mnew_values\u001b[0m \u001b[0;34m=\u001b[0m \u001b[0m_vstack\u001b[0m\u001b[0;34m(\u001b[0m\u001b[0;34m[\u001b[0m\u001b[0mb\u001b[0m\u001b[0;34m.\u001b[0m\u001b[0mvalues\u001b[0m \u001b[0;32mfor\u001b[0m \u001b[0mb\u001b[0m \u001b[0;32min\u001b[0m \u001b[0mblocks\u001b[0m\u001b[0;34m]\u001b[0m\u001b[0;34m,\u001b[0m \u001b[0mdtype\u001b[0m\u001b[0;34m)\u001b[0m\u001b[0;34m\u001b[0m\u001b[0m\n\u001b[0m\u001b[1;32m   4874\u001b[0m \u001b[0;34m\u001b[0m\u001b[0m\n\u001b[1;32m   4875\u001b[0m         \u001b[0margsort\u001b[0m \u001b[0;34m=\u001b[0m \u001b[0mnp\u001b[0m\u001b[0;34m.\u001b[0m\u001b[0margsort\u001b[0m\u001b[0;34m(\u001b[0m\u001b[0mnew_mgr_locs\u001b[0m\u001b[0;34m)\u001b[0m\u001b[0;34m\u001b[0m\u001b[0m\n",
      "\u001b[0;32m~/anaconda3/envs/fastai/lib/python3.6/site-packages/pandas/core/internals.py\u001b[0m in \u001b[0;36m_vstack\u001b[0;34m(to_stack, dtype)\u001b[0m\n\u001b[1;32m   4917\u001b[0m \u001b[0;34m\u001b[0m\u001b[0m\n\u001b[1;32m   4918\u001b[0m     \u001b[0;32melse\u001b[0m\u001b[0;34m:\u001b[0m\u001b[0;34m\u001b[0m\u001b[0m\n\u001b[0;32m-> 4919\u001b[0;31m         \u001b[0;32mreturn\u001b[0m \u001b[0mnp\u001b[0m\u001b[0;34m.\u001b[0m\u001b[0mvstack\u001b[0m\u001b[0;34m(\u001b[0m\u001b[0mto_stack\u001b[0m\u001b[0;34m)\u001b[0m\u001b[0;34m\u001b[0m\u001b[0m\n\u001b[0m\u001b[1;32m   4920\u001b[0m \u001b[0;34m\u001b[0m\u001b[0m\n\u001b[1;32m   4921\u001b[0m \u001b[0;34m\u001b[0m\u001b[0m\n",
      "\u001b[0;32m~/anaconda3/envs/fastai/lib/python3.6/site-packages/numpy/core/shape_base.py\u001b[0m in \u001b[0;36mvstack\u001b[0;34m(tup)\u001b[0m\n\u001b[1;32m    232\u001b[0m \u001b[0;34m\u001b[0m\u001b[0m\n\u001b[1;32m    233\u001b[0m     \"\"\"\n\u001b[0;32m--> 234\u001b[0;31m     \u001b[0;32mreturn\u001b[0m \u001b[0m_nx\u001b[0m\u001b[0;34m.\u001b[0m\u001b[0mconcatenate\u001b[0m\u001b[0;34m(\u001b[0m\u001b[0;34m[\u001b[0m\u001b[0matleast_2d\u001b[0m\u001b[0;34m(\u001b[0m\u001b[0m_m\u001b[0m\u001b[0;34m)\u001b[0m \u001b[0;32mfor\u001b[0m \u001b[0m_m\u001b[0m \u001b[0;32min\u001b[0m \u001b[0mtup\u001b[0m\u001b[0;34m]\u001b[0m\u001b[0;34m,\u001b[0m \u001b[0;36m0\u001b[0m\u001b[0;34m)\u001b[0m\u001b[0;34m\u001b[0m\u001b[0m\n\u001b[0m\u001b[1;32m    235\u001b[0m \u001b[0;34m\u001b[0m\u001b[0m\n\u001b[1;32m    236\u001b[0m \u001b[0;32mdef\u001b[0m \u001b[0mhstack\u001b[0m\u001b[0;34m(\u001b[0m\u001b[0mtup\u001b[0m\u001b[0;34m)\u001b[0m\u001b[0;34m:\u001b[0m\u001b[0;34m\u001b[0m\u001b[0m\n",
      "\u001b[0;31mMemoryError\u001b[0m: "
     ]
    }
   ],
   "source": [
    "for i in tqdm_notebook(range(587, train_tfv.shape[1])):\n",
    "    train['project_essay' + '_tfidf_' + str(i)] = train_tfv[:, i]\n",
    "    \n",
    "for i in tqdm_notebook(range(test_tfv.shape[1])):\n",
    "    test['project_essay' + '_tfidf_' + str(i)] = test_tfv[:, i]    \n"
   ]
  },
  {
   "cell_type": "markdown",
   "metadata": {},
   "source": [
    "The Function above creates a Sparse Matrix of vectors with our tokens. We transformed this model back to a numpy array to make it easier to interpret. Now we'll join these vectors with our original data in place of the original text data."
   ]
  },
  {
   "cell_type": "markdown",
   "metadata": {},
   "source": [
    "Let's save our fitted models so far"
   ]
  },
  {
   "cell_type": "code",
   "execution_count": 15,
   "metadata": {
    "ExecuteTime": {
     "end_time": "2018-04-15T15:06:49.146799Z",
     "start_time": "2018-04-15T15:06:49.083063Z"
    }
   },
   "outputs": [
    {
     "ename": "NameError",
     "evalue": "name 'train_text' is not defined",
     "output_type": "error",
     "traceback": [
      "\u001b[0;31m---------------------------------------------------------------------------\u001b[0m",
      "\u001b[0;31mNameError\u001b[0m                                 Traceback (most recent call last)",
      "\u001b[0;32m<ipython-input-15-b5b83aaf644d>\u001b[0m in \u001b[0;36m<module>\u001b[0;34m()\u001b[0m\n\u001b[1;32m      2\u001b[0m \u001b[0;31m#test.to_csv(\"test_tfidf.csv\", index=False)\u001b[0m\u001b[0;34m\u001b[0m\u001b[0;34m\u001b[0m\u001b[0m\n\u001b[1;32m      3\u001b[0m \u001b[0;34m\u001b[0m\u001b[0m\n\u001b[0;32m----> 4\u001b[0;31m \u001b[0;32mdel\u001b[0m \u001b[0mtrain_text\u001b[0m\u001b[0;34m,\u001b[0m \u001b[0mtest_text\u001b[0m\u001b[0;34m,\u001b[0m \u001b[0mtrain_tfv\u001b[0m\u001b[0;34m,\u001b[0m \u001b[0mtest_tfv\u001b[0m\u001b[0;34m\u001b[0m\u001b[0m\n\u001b[0m",
      "\u001b[0;31mNameError\u001b[0m: name 'train_text' is not defined"
     ]
    }
   ],
   "source": [
    "train.to_csv(\"train_tfidf.csv\", index=False)\n",
    "test.to_csv(\"test_tfidf.csv\", index=False)\n",
    "\n",
    "del train_text, test_text, train_tfv, test_tfv"
   ]
  },
  {
   "cell_type": "code",
   "execution_count": 30,
   "metadata": {
    "ExecuteTime": {
     "end_time": "2018-04-15T23:02:24.138229Z",
     "start_time": "2018-04-15T23:02:24.097221Z"
    }
   },
   "outputs": [
    {
     "data": {
      "text/plain": [
       "<182080x903 sparse matrix of type '<class 'numpy.float64'>'\n",
       "\twith 28949713 stored elements in COOrdinate format>"
      ]
     },
     "execution_count": 30,
     "metadata": {},
     "output_type": "execute_result"
    }
   ],
   "source": [
    "train_stack"
   ]
  },
  {
   "cell_type": "code",
   "execution_count": 14,
   "metadata": {
    "ExecuteTime": {
     "end_time": "2018-04-15T15:05:52.252944Z",
     "start_time": "2018-04-15T15:05:49.640017Z"
    }
   },
   "outputs": [],
   "source": [
    "# Combine the text vectors and features\n",
    "feat_train = train.drop('project_essay', axis=1)\n",
    "feat_test = test.drop('project_essay', axis=1)\n",
    "\n",
    "feat_train = csr_matrix(feat_train.values)\n",
    "feat_test = csr_matrix(feat_test.values)\n",
    "\n",
    "train_stack = hstack([feat_train, train_tfv[0:feat_train.shape[0]]])\n",
    "test_stack = hstack([feat_test, test_tfv[0:feat_test.shape[0]]])"
   ]
  },
  {
   "cell_type": "code",
   "execution_count": 3,
   "metadata": {
    "ExecuteTime": {
     "end_time": "2018-04-15T02:33:19.997467Z",
     "start_time": "2018-04-15T02:33:17.505272Z"
    }
   },
   "outputs": [
    {
     "name": "stdout",
     "output_type": "stream",
     "text": [
      "Train Shape: (182080, 8019), Test Shape: (78035, 8019)\n"
     ]
    },
    {
     "data": {
      "text/plain": [
       "45"
      ]
     },
     "execution_count": 3,
     "metadata": {},
     "output_type": "execute_result"
    }
   ],
   "source": [
    "with open(\"train_stack.obj\", 'wb') as f:\n",
    "    pickle.dump(train_stack, f)\n",
    "    \n",
    "with open(\"test_stack.obj\", 'wb') as g:\n",
    "    pickle.dump(test_stack, g)\n",
    "\n",
    "#with open(\"train_stack.obj\",'rb') as f:\n",
    "#    train_stack = pickle.load(f)\n",
    "    \n",
    "#with open(\"test_stack.obj\", 'rb') as g:\n",
    "#    test_stack = pickle.load(g)\n",
    "    \n",
    "print(\"Train Shape: {}, Test Shape: {}\".format(train_stack.shape, test_stack.shape))\n",
    "    \n",
    "gc.collect()    "
   ]
  },
  {
   "cell_type": "markdown",
   "metadata": {},
   "source": [
    "### Fine-Tuning Model\n",
    "\n",
    "My original attempt was to follow the procedure in the article [Complete Guide to Parameter Tuning in XGBoost (with codes in Python)](https://www.analyticsvidhya.com/blog/2016/03/complete-guide-parameter-tuning-xgboost-with-codes-python/).\n",
    "Since the xgboost library has its own cross validation, the procedure was to use the sklearn wrapper `XGBClassifier` to perform hyperparameter tuning using sklearn’s `GridSearchCV` with parallel processing. \n",
    "\n",
    "Nevertheless, even after compiling xgboost with GPU support, I've failed repeatedly to make use of `GridSearchCV` or `RandomSearchCV`, even in a 8CPU, Tesla K80 GPU and 30GB RAM the code kept running out of memory.  \n",
    "\n",
    "So I decided to use values well stablished values of hyperparameters by the community. "
   ]
  },
  {
   "cell_type": "markdown",
   "metadata": {},
   "source": [
    "Since our data is very imbalanced: ~90% ratio of *approved vs non-approved*, it's important to deal with this in our cross-validation. One approach is to use `StratifiedKFold`, but the xgboost library already has embedded a Cross Validation method with stratification and preprocessing as parameters. So I used this method instead.\n",
    "\n",
    "The following function, borrowed from the [xgboost documentation](https://github.com/dmlc/xgboost/blob/master/demo/guide-python/cross_validation.py), defines the ratio of imbalance to each fold in the cross-validation"
   ]
  },
  {
   "cell_type": "code",
   "execution_count": 21,
   "metadata": {
    "ExecuteTime": {
     "end_time": "2018-04-15T15:10:03.266463Z",
     "start_time": "2018-04-15T15:10:03.219157Z"
    }
   },
   "outputs": [],
   "source": [
    "# define the preprocessing function\n",
    "# used to set the parameter to consider the imbalance of our classes\n",
    "def fpreproc(dtrain, dtest, param):\n",
    "    label = dtrain.get_label()\n",
    "    ratio = float(np.sum(label == 0)) / np.sum(label == 1)\n",
    "    param['scale_pos_weight'] = ratio\n",
    "    return (dtrain, dtest, param)"
   ]
  },
  {
   "cell_type": "code",
   "execution_count": 26,
   "metadata": {
    "ExecuteTime": {
     "end_time": "2018-04-15T22:52:24.453271Z",
     "start_time": "2018-04-15T22:52:24.354842Z"
    }
   },
   "outputs": [],
   "source": [
    "skf = StratifiedKFold(n_splits=5, random_state=42, shuffle=True)"
   ]
  },
  {
   "cell_type": "code",
   "execution_count": null,
   "metadata": {},
   "outputs": [],
   "source": []
  },
  {
   "cell_type": "code",
   "execution_count": 22,
   "metadata": {
    "ExecuteTime": {
     "end_time": "2018-04-15T15:39:26.734713Z",
     "start_time": "2018-04-15T15:10:06.259673Z"
    }
   },
   "outputs": [
    {
     "name": "stdout",
     "output_type": "stream",
     "text": [
      "[0]\ttrain-auc:0.704422+0.0192074\ttest-auc:0.677627+0.019252\n",
      "[1]\ttrain-auc:0.731776+0.00362471\ttest-auc:0.70072+0.00484336\n",
      "[2]\ttrain-auc:0.742425+0.00154927\ttest-auc:0.709831+0.00357815\n",
      "[3]\ttrain-auc:0.74828+0.00139688\ttest-auc:0.713678+0.0036082\n",
      "[4]\ttrain-auc:0.753059+0.00149732\ttest-auc:0.715432+0.00308804\n",
      "[5]\ttrain-auc:0.75683+0.00126301\ttest-auc:0.717199+0.00315157\n",
      "[6]\ttrain-auc:0.760579+0.00107131\ttest-auc:0.71833+0.00329432\n",
      "[7]\ttrain-auc:0.763278+0.00104364\ttest-auc:0.719342+0.00354603\n",
      "[8]\ttrain-auc:0.766485+0.000707931\ttest-auc:0.719998+0.00388469\n",
      "[9]\ttrain-auc:0.76963+0.00112171\ttest-auc:0.721059+0.00380505\n",
      "[10]\ttrain-auc:0.772484+0.000986491\ttest-auc:0.721947+0.00393957\n",
      "[11]\ttrain-auc:0.775034+0.00120654\ttest-auc:0.722721+0.00393777\n",
      "[12]\ttrain-auc:0.777662+0.00149287\ttest-auc:0.723512+0.00376794\n",
      "[13]\ttrain-auc:0.780542+0.00173909\ttest-auc:0.724158+0.00391808\n",
      "[14]\ttrain-auc:0.783274+0.00160121\ttest-auc:0.724679+0.00394067\n",
      "[15]\ttrain-auc:0.785863+0.00139516\ttest-auc:0.725276+0.00404226\n",
      "[16]\ttrain-auc:0.788423+0.00147681\ttest-auc:0.725795+0.0040774\n",
      "[17]\ttrain-auc:0.790862+0.00159437\ttest-auc:0.726203+0.00414672\n",
      "[18]\ttrain-auc:0.793581+0.0016962\ttest-auc:0.726494+0.00416108\n",
      "[19]\ttrain-auc:0.795845+0.00150317\ttest-auc:0.72699+0.00394784\n",
      "[20]\ttrain-auc:0.798465+0.00158761\ttest-auc:0.727374+0.00395852\n",
      "[21]\ttrain-auc:0.800455+0.00155964\ttest-auc:0.72793+0.00396646\n",
      "[22]\ttrain-auc:0.802954+0.00145457\ttest-auc:0.728196+0.00389746\n",
      "[23]\ttrain-auc:0.805452+0.00152318\ttest-auc:0.728627+0.00396988\n",
      "[24]\ttrain-auc:0.807612+0.00163168\ttest-auc:0.728916+0.00405655\n",
      "[25]\ttrain-auc:0.810009+0.00168623\ttest-auc:0.729276+0.00410764\n",
      "[26]\ttrain-auc:0.812185+0.00166016\ttest-auc:0.729697+0.00394909\n",
      "[27]\ttrain-auc:0.813781+0.00158211\ttest-auc:0.729924+0.00411083\n",
      "[28]\ttrain-auc:0.815644+0.00188777\ttest-auc:0.730069+0.00397347\n",
      "[29]\ttrain-auc:0.817751+0.00176614\ttest-auc:0.730434+0.00395171\n",
      "[30]\ttrain-auc:0.819314+0.00181486\ttest-auc:0.730631+0.00406717\n",
      "[31]\ttrain-auc:0.82115+0.00179847\ttest-auc:0.730744+0.00400965\n",
      "[32]\ttrain-auc:0.82315+0.00192495\ttest-auc:0.73098+0.00410444\n",
      "[33]\ttrain-auc:0.824865+0.00164007\ttest-auc:0.731113+0.0042018\n",
      "[34]\ttrain-auc:0.826923+0.00147537\ttest-auc:0.731173+0.00414476\n",
      "[35]\ttrain-auc:0.828727+0.0016027\ttest-auc:0.731304+0.00401506\n",
      "[36]\ttrain-auc:0.830495+0.001701\ttest-auc:0.731425+0.00401397\n",
      "[37]\ttrain-auc:0.832034+0.00178754\ttest-auc:0.731583+0.00406592\n",
      "[38]\ttrain-auc:0.833378+0.00149524\ttest-auc:0.73169+0.00408786\n",
      "[39]\ttrain-auc:0.834888+0.0012523\ttest-auc:0.732011+0.00398862\n",
      "[40]\ttrain-auc:0.836511+0.00154462\ttest-auc:0.732133+0.00409314\n",
      "[41]\ttrain-auc:0.837901+0.00141316\ttest-auc:0.732256+0.00405338\n",
      "[42]\ttrain-auc:0.839513+0.00115287\ttest-auc:0.732369+0.00386486\n",
      "[43]\ttrain-auc:0.841032+0.00135635\ttest-auc:0.732442+0.00385749\n",
      "[44]\ttrain-auc:0.842447+0.0013028\ttest-auc:0.732526+0.00386334\n",
      "[45]\ttrain-auc:0.843848+0.00165083\ttest-auc:0.732524+0.00380816\n",
      "[46]\ttrain-auc:0.845019+0.00162247\ttest-auc:0.732557+0.00377466\n",
      "[47]\ttrain-auc:0.84629+0.00165242\ttest-auc:0.732497+0.00381406\n",
      "[48]\ttrain-auc:0.847491+0.00171114\ttest-auc:0.732691+0.00382739\n",
      "[49]\ttrain-auc:0.848739+0.00148314\ttest-auc:0.73273+0.00380454\n",
      "[50]\ttrain-auc:0.85024+0.00144087\ttest-auc:0.732686+0.0038884\n",
      "[51]\ttrain-auc:0.851519+0.00139632\ttest-auc:0.732592+0.00378142\n",
      "[52]\ttrain-auc:0.852757+0.00157831\ttest-auc:0.732528+0.00381869\n",
      "[53]\ttrain-auc:0.853938+0.0018672\ttest-auc:0.732658+0.00396935\n",
      "[54]\ttrain-auc:0.854949+0.00175962\ttest-auc:0.7328+0.00392924\n",
      "[55]\ttrain-auc:0.855807+0.00195948\ttest-auc:0.732736+0.00381262\n",
      "[56]\ttrain-auc:0.856701+0.0021494\ttest-auc:0.732779+0.0038448\n",
      "[57]\ttrain-auc:0.857815+0.00227077\ttest-auc:0.732779+0.00384956\n",
      "[58]\ttrain-auc:0.858837+0.00216384\ttest-auc:0.732836+0.00381756\n",
      "[59]\ttrain-auc:0.859723+0.00227213\ttest-auc:0.73281+0.00382491\n",
      "[60]\ttrain-auc:0.860933+0.00225923\ttest-auc:0.73289+0.0038542\n",
      "[61]\ttrain-auc:0.861888+0.00231374\ttest-auc:0.732863+0.00385122\n",
      "[62]\ttrain-auc:0.862835+0.00207326\ttest-auc:0.732824+0.00389975\n",
      "[63]\ttrain-auc:0.863908+0.00218972\ttest-auc:0.732789+0.0038743\n",
      "[64]\ttrain-auc:0.864922+0.00200517\ttest-auc:0.732716+0.00393919\n",
      "[65]\ttrain-auc:0.865887+0.00189512\ttest-auc:0.732765+0.00400367\n",
      "[66]\ttrain-auc:0.866637+0.00206626\ttest-auc:0.732826+0.00405669\n",
      "[67]\ttrain-auc:0.867338+0.00194467\ttest-auc:0.732789+0.00406388\n",
      "[68]\ttrain-auc:0.868306+0.00210918\ttest-auc:0.732795+0.00405908\n",
      "[69]\ttrain-auc:0.869268+0.0021312\ttest-auc:0.732803+0.00403055\n",
      "[70]\ttrain-auc:0.870283+0.00194568\ttest-auc:0.732786+0.00407355\n",
      "[71]\ttrain-auc:0.871142+0.00192483\ttest-auc:0.732842+0.00405381\n",
      "[72]\ttrain-auc:0.872053+0.00171185\ttest-auc:0.732784+0.00398083\n",
      "[73]\ttrain-auc:0.87301+0.00173464\ttest-auc:0.732752+0.00401465\n",
      "[74]\ttrain-auc:0.874029+0.00195323\ttest-auc:0.732755+0.00385893\n",
      "[75]\ttrain-auc:0.874789+0.00199583\ttest-auc:0.732836+0.00378419\n",
      "[76]\ttrain-auc:0.875378+0.00177505\ttest-auc:0.732814+0.00379066\n",
      "[77]\ttrain-auc:0.876321+0.00185273\ttest-auc:0.732748+0.00378841\n",
      "[78]\ttrain-auc:0.877031+0.00172062\ttest-auc:0.732777+0.00384459\n",
      "[79]\ttrain-auc:0.877781+0.00189453\ttest-auc:0.732778+0.00382952\n",
      "[80]\ttrain-auc:0.87847+0.00186916\ttest-auc:0.732814+0.0038412\n",
      "[81]\ttrain-auc:0.879341+0.00172455\ttest-auc:0.732804+0.00382048\n",
      "[82]\ttrain-auc:0.880045+0.00169518\ttest-auc:0.732733+0.00373862\n",
      "[83]\ttrain-auc:0.880796+0.00187357\ttest-auc:0.732693+0.00373492\n",
      "[84]\ttrain-auc:0.881501+0.00203827\ttest-auc:0.73262+0.00384065\n",
      "[85]\ttrain-auc:0.882353+0.00200837\ttest-auc:0.732455+0.00386298\n",
      "[86]\ttrain-auc:0.883049+0.00209739\ttest-auc:0.732389+0.00375457\n",
      "[87]\ttrain-auc:0.884032+0.00181008\ttest-auc:0.732346+0.00383743\n",
      "[88]\ttrain-auc:0.88483+0.00141429\ttest-auc:0.732218+0.00389042\n",
      "[89]\ttrain-auc:0.885549+0.00162999\ttest-auc:0.732168+0.00382212\n"
     ]
    }
   ],
   "source": [
    "params = {'eta': 0.01,\n",
    "          'max_depth': 9,\n",
    "          'subsample': 0.9,\n",
    "          'colsample_bytree': 0.80,\n",
    "          'objective': 'binary:logistic',\n",
    "          'eval_metric': 'auc',\n",
    "          'seed': 42}\n",
    "          \n",
    "          #'tree_method': 'gpu_hist'} # remove this parameter if xgboost is not compiled with gpu_support\n",
    "\n",
    "cv_scores = []\n",
    "xgb_scores = []\n",
    "\n",
    "for train_index, test_index in skf.split(train_stack):\n",
    "    \n",
    "    X_train, X_valid, y_train, y_valid = train_test_split(train)\n",
    "\n",
    "dtrain = xgb.DMatrix(train_stack, target)\n",
    "dtest = xgb.DMatrix(test_stack)\n",
    "\n",
    "cv_result = xgb.cv(params=params, \n",
    "               dtrain=dtrain, \n",
    "               num_boost_round=3000, \n",
    "               early_stopping_rounds=50,\n",
    "               fpreproc=fpreproc,\n",
    "               nfold=5,\n",
    "               stratified=True,\n",
    "               verbose_eval=True)"
   ]
  },
  {
   "cell_type": "code",
   "execution_count": 23,
   "metadata": {
    "ExecuteTime": {
     "end_time": "2018-04-15T15:39:29.683756Z",
     "start_time": "2018-04-15T15:39:29.595390Z"
    }
   },
   "outputs": [
    {
     "ename": "TypeError",
     "evalue": "can't pickle module objects",
     "output_type": "error",
     "traceback": [
      "\u001b[0;31m---------------------------------------------------------------------------\u001b[0m",
      "\u001b[0;31mTypeError\u001b[0m                                 Traceback (most recent call last)",
      "\u001b[0;32m<ipython-input-23-c37bc7111d34>\u001b[0m in \u001b[0;36m<module>\u001b[0;34m()\u001b[0m\n\u001b[1;32m      2\u001b[0m \u001b[0;34m\u001b[0m\u001b[0m\n\u001b[1;32m      3\u001b[0m \u001b[0;32mwith\u001b[0m \u001b[0mopen\u001b[0m\u001b[0;34m(\u001b[0m\u001b[0;34m\"xgb_model.obj\"\u001b[0m\u001b[0;34m,\u001b[0m \u001b[0;34m\"wb\"\u001b[0m\u001b[0;34m)\u001b[0m \u001b[0;32mas\u001b[0m \u001b[0mmodel\u001b[0m\u001b[0;34m:\u001b[0m\u001b[0;34m\u001b[0m\u001b[0m\n\u001b[0;32m----> 4\u001b[0;31m     \u001b[0mpickle\u001b[0m\u001b[0;34m.\u001b[0m\u001b[0mdump\u001b[0m\u001b[0;34m(\u001b[0m\u001b[0mxgb\u001b[0m\u001b[0;34m,\u001b[0m \u001b[0mmodel\u001b[0m\u001b[0;34m)\u001b[0m\u001b[0;34m\u001b[0m\u001b[0m\n\u001b[0m",
      "\u001b[0;31mTypeError\u001b[0m: can't pickle module objects"
     ]
    }
   ],
   "source": [
    "cv_result.to_csv(\"cv_result.csv\", index=False)\n",
    "\n",
    "with open(\"xgb_model.obj\", \"wb\") as model:\n",
    "    pickle.dump(xgb, model)"
   ]
  },
  {
   "cell_type": "code",
   "execution_count": 24,
   "metadata": {
    "ExecuteTime": {
     "end_time": "2018-04-15T22:39:45.243131Z",
     "start_time": "2018-04-15T22:39:45.177442Z"
    }
   },
   "outputs": [
    {
     "data": {
      "text/html": [
       "<div>\n",
       "<style scoped>\n",
       "    .dataframe tbody tr th:only-of-type {\n",
       "        vertical-align: middle;\n",
       "    }\n",
       "\n",
       "    .dataframe tbody tr th {\n",
       "        vertical-align: top;\n",
       "    }\n",
       "\n",
       "    .dataframe thead th {\n",
       "        text-align: right;\n",
       "    }\n",
       "</style>\n",
       "<table border=\"1\" class=\"dataframe\">\n",
       "  <thead>\n",
       "    <tr style=\"text-align: right;\">\n",
       "      <th></th>\n",
       "      <th>test-auc-mean</th>\n",
       "      <th>test-auc-std</th>\n",
       "      <th>train-auc-mean</th>\n",
       "      <th>train-auc-std</th>\n",
       "    </tr>\n",
       "  </thead>\n",
       "  <tbody>\n",
       "    <tr>\n",
       "      <th>56</th>\n",
       "      <td>0.732779</td>\n",
       "      <td>0.003845</td>\n",
       "      <td>0.856701</td>\n",
       "      <td>0.002149</td>\n",
       "    </tr>\n",
       "    <tr>\n",
       "      <th>57</th>\n",
       "      <td>0.732779</td>\n",
       "      <td>0.003850</td>\n",
       "      <td>0.857815</td>\n",
       "      <td>0.002271</td>\n",
       "    </tr>\n",
       "    <tr>\n",
       "      <th>58</th>\n",
       "      <td>0.732836</td>\n",
       "      <td>0.003818</td>\n",
       "      <td>0.858837</td>\n",
       "      <td>0.002164</td>\n",
       "    </tr>\n",
       "    <tr>\n",
       "      <th>59</th>\n",
       "      <td>0.732810</td>\n",
       "      <td>0.003825</td>\n",
       "      <td>0.859723</td>\n",
       "      <td>0.002272</td>\n",
       "    </tr>\n",
       "    <tr>\n",
       "      <th>60</th>\n",
       "      <td>0.732890</td>\n",
       "      <td>0.003854</td>\n",
       "      <td>0.860933</td>\n",
       "      <td>0.002259</td>\n",
       "    </tr>\n",
       "  </tbody>\n",
       "</table>\n",
       "</div>"
      ],
      "text/plain": [
       "    test-auc-mean  test-auc-std  train-auc-mean  train-auc-std\n",
       "56       0.732779      0.003845        0.856701       0.002149\n",
       "57       0.732779      0.003850        0.857815       0.002271\n",
       "58       0.732836      0.003818        0.858837       0.002164\n",
       "59       0.732810      0.003825        0.859723       0.002272\n",
       "60       0.732890      0.003854        0.860933       0.002259"
      ]
     },
     "execution_count": 24,
     "metadata": {},
     "output_type": "execute_result"
    }
   ],
   "source": [
    "cv_result.tail()"
   ]
  },
  {
   "cell_type": "code",
   "execution_count": 25,
   "metadata": {
    "ExecuteTime": {
     "end_time": "2018-04-15T22:40:10.639944Z",
     "start_time": "2018-04-15T22:40:10.571929Z"
    }
   },
   "outputs": [
    {
     "ename": "AttributeError",
     "evalue": "module 'xgboost' has no attribute 'predict'",
     "output_type": "error",
     "traceback": [
      "\u001b[0;31m---------------------------------------------------------------------------\u001b[0m",
      "\u001b[0;31mAttributeError\u001b[0m                            Traceback (most recent call last)",
      "\u001b[0;32m<ipython-input-25-ccfa0c1cc35e>\u001b[0m in \u001b[0;36m<module>\u001b[0;34m()\u001b[0m\n\u001b[0;32m----> 1\u001b[0;31m \u001b[0mxgb_pred\u001b[0m \u001b[0;34m=\u001b[0m \u001b[0mxgb\u001b[0m\u001b[0;34m.\u001b[0m\u001b[0mpredict\u001b[0m\u001b[0;34m(\u001b[0m\u001b[0mdtest\u001b[0m\u001b[0;34m)\u001b[0m\u001b[0;34m\u001b[0m\u001b[0m\n\u001b[0m",
      "\u001b[0;31mAttributeError\u001b[0m: module 'xgboost' has no attribute 'predict'"
     ]
    }
   ],
   "source": [
    "xgb_pred = xgb. .predict(dtest)"
   ]
  },
  {
   "cell_type": "code",
   "execution_count": 95,
   "metadata": {},
   "outputs": [
    {
     "name": "stdout",
     "output_type": "stream",
     "text": [
      "Fitting 10 folds for each of 2800000 candidates, totalling 28000000 fits\n"
     ]
    },
    {
     "name": "stderr",
     "output_type": "stream",
     "text": [
      "Process ForkPoolWorker-41:\n",
      "Process ForkPoolWorker-44:\n",
      "Process ForkPoolWorker-40:\n",
      "Process ForkPoolWorker-43:\n",
      "Traceback (most recent call last):\n",
      "Traceback (most recent call last):\n",
      "Traceback (most recent call last):\n",
      "Process ForkPoolWorker-42:\n",
      "Traceback (most recent call last):\n",
      "  File \"/home/ronaldo/anaconda3/envs/fastai/lib/python3.6/multiprocessing/process.py\", line 258, in _bootstrap\n",
      "    self.run()\n",
      "  File \"/home/ronaldo/anaconda3/envs/fastai/lib/python3.6/multiprocessing/process.py\", line 258, in _bootstrap\n",
      "    self.run()\n",
      "Traceback (most recent call last):\n",
      "  File \"/home/ronaldo/anaconda3/envs/fastai/lib/python3.6/multiprocessing/process.py\", line 258, in _bootstrap\n",
      "    self.run()\n",
      "  File \"/home/ronaldo/anaconda3/envs/fastai/lib/python3.6/multiprocessing/process.py\", line 93, in run\n",
      "    self._target(*self._args, **self._kwargs)\n",
      "  File \"/home/ronaldo/anaconda3/envs/fastai/lib/python3.6/multiprocessing/process.py\", line 93, in run\n",
      "    self._target(*self._args, **self._kwargs)\n",
      "  File \"/home/ronaldo/anaconda3/envs/fastai/lib/python3.6/multiprocessing/process.py\", line 258, in _bootstrap\n",
      "    self.run()\n",
      "  File \"/home/ronaldo/anaconda3/envs/fastai/lib/python3.6/multiprocessing/process.py\", line 258, in _bootstrap\n",
      "    self.run()\n",
      "  File \"/home/ronaldo/anaconda3/envs/fastai/lib/python3.6/multiprocessing/pool.py\", line 108, in worker\n",
      "    task = get()\n",
      "  File \"/home/ronaldo/anaconda3/envs/fastai/lib/python3.6/multiprocessing/pool.py\", line 108, in worker\n",
      "    task = get()\n",
      "  File \"/home/ronaldo/anaconda3/envs/fastai/lib/python3.6/multiprocessing/process.py\", line 93, in run\n",
      "    self._target(*self._args, **self._kwargs)\n",
      "  File \"/home/ronaldo/anaconda3/envs/fastai/lib/python3.6/multiprocessing/process.py\", line 93, in run\n",
      "    self._target(*self._args, **self._kwargs)\n",
      "  File \"/home/ronaldo/anaconda3/envs/fastai/lib/python3.6/multiprocessing/process.py\", line 93, in run\n",
      "    self._target(*self._args, **self._kwargs)\n",
      "  File \"/home/ronaldo/anaconda3/envs/fastai/lib/python3.6/site-packages/sklearn/externals/joblib/pool.py\", line 362, in get\n",
      "    return recv()\n",
      "  File \"/home/ronaldo/anaconda3/envs/fastai/lib/python3.6/multiprocessing/pool.py\", line 108, in worker\n",
      "    task = get()\n",
      "  File \"/home/ronaldo/anaconda3/envs/fastai/lib/python3.6/site-packages/sklearn/externals/joblib/pool.py\", line 360, in get\n",
      "    racquire()\n",
      "  File \"/home/ronaldo/anaconda3/envs/fastai/lib/python3.6/multiprocessing/pool.py\", line 108, in worker\n",
      "    task = get()\n",
      "  File \"/home/ronaldo/anaconda3/envs/fastai/lib/python3.6/multiprocessing/connection.py\", line 250, in recv\n",
      "    buf = self._recv_bytes()\n",
      "  File \"/home/ronaldo/anaconda3/envs/fastai/lib/python3.6/multiprocessing/pool.py\", line 108, in worker\n",
      "    task = get()\n",
      "  File \"/home/ronaldo/anaconda3/envs/fastai/lib/python3.6/site-packages/sklearn/externals/joblib/pool.py\", line 360, in get\n",
      "    racquire()\n",
      "  File \"/home/ronaldo/anaconda3/envs/fastai/lib/python3.6/site-packages/sklearn/externals/joblib/pool.py\", line 360, in get\n",
      "    racquire()\n",
      "  File \"/home/ronaldo/anaconda3/envs/fastai/lib/python3.6/multiprocessing/connection.py\", line 407, in _recv_bytes\n",
      "    buf = self._recv(4)\n",
      "  File \"/home/ronaldo/anaconda3/envs/fastai/lib/python3.6/site-packages/sklearn/externals/joblib/pool.py\", line 360, in get\n",
      "    racquire()\n",
      "KeyboardInterrupt\n",
      "KeyboardInterrupt\n",
      "KeyboardInterrupt\n",
      "KeyboardInterrupt\n",
      "  File \"/home/ronaldo/anaconda3/envs/fastai/lib/python3.6/multiprocessing/connection.py\", line 379, in _recv\n",
      "    chunk = read(handle, remaining)\n",
      "KeyboardInterrupt\n",
      "Process ForkPoolWorker-39:\n",
      "Process ForkPoolWorker-37:\n",
      "Process ForkPoolWorker-38:\n",
      "Traceback (most recent call last):\n",
      "Traceback (most recent call last):\n",
      "Traceback (most recent call last):\n",
      "  File \"/home/ronaldo/anaconda3/envs/fastai/lib/python3.6/multiprocessing/process.py\", line 258, in _bootstrap\n",
      "    self.run()\n",
      "  File \"/home/ronaldo/anaconda3/envs/fastai/lib/python3.6/multiprocessing/process.py\", line 258, in _bootstrap\n",
      "    self.run()\n",
      "  File \"/home/ronaldo/anaconda3/envs/fastai/lib/python3.6/multiprocessing/process.py\", line 258, in _bootstrap\n",
      "    self.run()\n",
      "  File \"/home/ronaldo/anaconda3/envs/fastai/lib/python3.6/multiprocessing/process.py\", line 93, in run\n",
      "    self._target(*self._args, **self._kwargs)\n",
      "  File \"/home/ronaldo/anaconda3/envs/fastai/lib/python3.6/multiprocessing/process.py\", line 93, in run\n",
      "    self._target(*self._args, **self._kwargs)\n",
      "  File \"/home/ronaldo/anaconda3/envs/fastai/lib/python3.6/multiprocessing/process.py\", line 93, in run\n",
      "    self._target(*self._args, **self._kwargs)\n",
      "  File \"/home/ronaldo/anaconda3/envs/fastai/lib/python3.6/multiprocessing/pool.py\", line 108, in worker\n",
      "    task = get()\n",
      "  File \"/home/ronaldo/anaconda3/envs/fastai/lib/python3.6/site-packages/sklearn/externals/joblib/pool.py\", line 360, in get\n",
      "    racquire()\n",
      "KeyboardInterrupt\n",
      "  File \"/home/ronaldo/anaconda3/envs/fastai/lib/python3.6/multiprocessing/pool.py\", line 108, in worker\n",
      "    task = get()\n",
      "  File \"/home/ronaldo/anaconda3/envs/fastai/lib/python3.6/multiprocessing/pool.py\", line 108, in worker\n",
      "    task = get()\n",
      "  File \"/home/ronaldo/anaconda3/envs/fastai/lib/python3.6/site-packages/sklearn/externals/joblib/pool.py\", line 360, in get\n",
      "    racquire()\n",
      "  File \"/home/ronaldo/anaconda3/envs/fastai/lib/python3.6/site-packages/sklearn/externals/joblib/pool.py\", line 360, in get\n",
      "    racquire()\n",
      "KeyboardInterrupt\n",
      "KeyboardInterrupt\n"
     ]
    },
    {
     "ename": "KeyboardInterrupt",
     "evalue": "",
     "output_type": "error",
     "traceback": [
      "\u001b[0;31m---------------------------------------------------------------------------\u001b[0m",
      "\u001b[0;31mKeyboardInterrupt\u001b[0m                         Traceback (most recent call last)",
      "\u001b[0;32m~/anaconda3/envs/fastai/lib/python3.6/site-packages/sklearn/externals/joblib/parallel.py\u001b[0m in \u001b[0;36mretrieve\u001b[0;34m(self)\u001b[0m\n\u001b[1;32m    698\u001b[0m                 \u001b[0;32mif\u001b[0m \u001b[0mgetattr\u001b[0m\u001b[0;34m(\u001b[0m\u001b[0mself\u001b[0m\u001b[0;34m.\u001b[0m\u001b[0m_backend\u001b[0m\u001b[0;34m,\u001b[0m \u001b[0;34m'supports_timeout'\u001b[0m\u001b[0;34m,\u001b[0m \u001b[0;32mFalse\u001b[0m\u001b[0;34m)\u001b[0m\u001b[0;34m:\u001b[0m\u001b[0;34m\u001b[0m\u001b[0m\n\u001b[0;32m--> 699\u001b[0;31m                     \u001b[0mself\u001b[0m\u001b[0;34m.\u001b[0m\u001b[0m_output\u001b[0m\u001b[0;34m.\u001b[0m\u001b[0mextend\u001b[0m\u001b[0;34m(\u001b[0m\u001b[0mjob\u001b[0m\u001b[0;34m.\u001b[0m\u001b[0mget\u001b[0m\u001b[0;34m(\u001b[0m\u001b[0mtimeout\u001b[0m\u001b[0;34m=\u001b[0m\u001b[0mself\u001b[0m\u001b[0;34m.\u001b[0m\u001b[0mtimeout\u001b[0m\u001b[0;34m)\u001b[0m\u001b[0;34m)\u001b[0m\u001b[0;34m\u001b[0m\u001b[0m\n\u001b[0m\u001b[1;32m    700\u001b[0m                 \u001b[0;32melse\u001b[0m\u001b[0;34m:\u001b[0m\u001b[0;34m\u001b[0m\u001b[0m\n",
      "\u001b[0;32m~/anaconda3/envs/fastai/lib/python3.6/multiprocessing/pool.py\u001b[0m in \u001b[0;36mget\u001b[0;34m(self, timeout)\u001b[0m\n\u001b[1;32m    637\u001b[0m     \u001b[0;32mdef\u001b[0m \u001b[0mget\u001b[0m\u001b[0;34m(\u001b[0m\u001b[0mself\u001b[0m\u001b[0;34m,\u001b[0m \u001b[0mtimeout\u001b[0m\u001b[0;34m=\u001b[0m\u001b[0;32mNone\u001b[0m\u001b[0;34m)\u001b[0m\u001b[0;34m:\u001b[0m\u001b[0;34m\u001b[0m\u001b[0m\n\u001b[0;32m--> 638\u001b[0;31m         \u001b[0mself\u001b[0m\u001b[0;34m.\u001b[0m\u001b[0mwait\u001b[0m\u001b[0;34m(\u001b[0m\u001b[0mtimeout\u001b[0m\u001b[0;34m)\u001b[0m\u001b[0;34m\u001b[0m\u001b[0m\n\u001b[0m\u001b[1;32m    639\u001b[0m         \u001b[0;32mif\u001b[0m \u001b[0;32mnot\u001b[0m \u001b[0mself\u001b[0m\u001b[0;34m.\u001b[0m\u001b[0mready\u001b[0m\u001b[0;34m(\u001b[0m\u001b[0;34m)\u001b[0m\u001b[0;34m:\u001b[0m\u001b[0;34m\u001b[0m\u001b[0m\n",
      "\u001b[0;32m~/anaconda3/envs/fastai/lib/python3.6/multiprocessing/pool.py\u001b[0m in \u001b[0;36mwait\u001b[0;34m(self, timeout)\u001b[0m\n\u001b[1;32m    634\u001b[0m     \u001b[0;32mdef\u001b[0m \u001b[0mwait\u001b[0m\u001b[0;34m(\u001b[0m\u001b[0mself\u001b[0m\u001b[0;34m,\u001b[0m \u001b[0mtimeout\u001b[0m\u001b[0;34m=\u001b[0m\u001b[0;32mNone\u001b[0m\u001b[0;34m)\u001b[0m\u001b[0;34m:\u001b[0m\u001b[0;34m\u001b[0m\u001b[0m\n\u001b[0;32m--> 635\u001b[0;31m         \u001b[0mself\u001b[0m\u001b[0;34m.\u001b[0m\u001b[0m_event\u001b[0m\u001b[0;34m.\u001b[0m\u001b[0mwait\u001b[0m\u001b[0;34m(\u001b[0m\u001b[0mtimeout\u001b[0m\u001b[0;34m)\u001b[0m\u001b[0;34m\u001b[0m\u001b[0m\n\u001b[0m\u001b[1;32m    636\u001b[0m \u001b[0;34m\u001b[0m\u001b[0m\n",
      "\u001b[0;32m~/anaconda3/envs/fastai/lib/python3.6/threading.py\u001b[0m in \u001b[0;36mwait\u001b[0;34m(self, timeout)\u001b[0m\n\u001b[1;32m    550\u001b[0m             \u001b[0;32mif\u001b[0m \u001b[0;32mnot\u001b[0m \u001b[0msignaled\u001b[0m\u001b[0;34m:\u001b[0m\u001b[0;34m\u001b[0m\u001b[0m\n\u001b[0;32m--> 551\u001b[0;31m                 \u001b[0msignaled\u001b[0m \u001b[0;34m=\u001b[0m \u001b[0mself\u001b[0m\u001b[0;34m.\u001b[0m\u001b[0m_cond\u001b[0m\u001b[0;34m.\u001b[0m\u001b[0mwait\u001b[0m\u001b[0;34m(\u001b[0m\u001b[0mtimeout\u001b[0m\u001b[0;34m)\u001b[0m\u001b[0;34m\u001b[0m\u001b[0m\n\u001b[0m\u001b[1;32m    552\u001b[0m             \u001b[0;32mreturn\u001b[0m \u001b[0msignaled\u001b[0m\u001b[0;34m\u001b[0m\u001b[0m\n",
      "\u001b[0;32m~/anaconda3/envs/fastai/lib/python3.6/threading.py\u001b[0m in \u001b[0;36mwait\u001b[0;34m(self, timeout)\u001b[0m\n\u001b[1;32m    294\u001b[0m             \u001b[0;32mif\u001b[0m \u001b[0mtimeout\u001b[0m \u001b[0;32mis\u001b[0m \u001b[0;32mNone\u001b[0m\u001b[0;34m:\u001b[0m\u001b[0;34m\u001b[0m\u001b[0m\n\u001b[0;32m--> 295\u001b[0;31m                 \u001b[0mwaiter\u001b[0m\u001b[0;34m.\u001b[0m\u001b[0macquire\u001b[0m\u001b[0;34m(\u001b[0m\u001b[0;34m)\u001b[0m\u001b[0;34m\u001b[0m\u001b[0m\n\u001b[0m\u001b[1;32m    296\u001b[0m                 \u001b[0mgotit\u001b[0m \u001b[0;34m=\u001b[0m \u001b[0;32mTrue\u001b[0m\u001b[0;34m\u001b[0m\u001b[0m\n",
      "\u001b[0;31mKeyboardInterrupt\u001b[0m: ",
      "\nDuring handling of the above exception, another exception occurred:\n",
      "\u001b[0;31mKeyboardInterrupt\u001b[0m                         Traceback (most recent call last)",
      "\u001b[0;32m<ipython-input-95-c2f90198fb50>\u001b[0m in \u001b[0;36m<module>\u001b[0;34m()\u001b[0m\n\u001b[1;32m     27\u001b[0m \u001b[0;34m\u001b[0m\u001b[0m\n\u001b[1;32m     28\u001b[0m \u001b[0;34m\u001b[0m\u001b[0m\n\u001b[0;32m---> 29\u001b[0;31m \u001b[0mgsearch1\u001b[0m\u001b[0;34m.\u001b[0m\u001b[0mfit\u001b[0m\u001b[0;34m(\u001b[0m\u001b[0mtrain_stack\u001b[0m\u001b[0;34m,\u001b[0m\u001b[0mtarget\u001b[0m\u001b[0;34m)\u001b[0m\u001b[0;34m\u001b[0m\u001b[0m\n\u001b[0m\u001b[1;32m     30\u001b[0m \u001b[0;34m\u001b[0m\u001b[0m\n\u001b[1;32m     31\u001b[0m \u001b[0mgsearch1\u001b[0m\u001b[0;34m.\u001b[0m\u001b[0mgrid_scores_\u001b[0m\u001b[0;34m,\u001b[0m \u001b[0mgsearch1\u001b[0m\u001b[0;34m.\u001b[0m\u001b[0mbest_params_\u001b[0m\u001b[0;34m,\u001b[0m \u001b[0mgsearch1\u001b[0m\u001b[0;34m.\u001b[0m\u001b[0mbest_score_\u001b[0m\u001b[0;34m\u001b[0m\u001b[0m\n",
      "\u001b[0;32m~/anaconda3/envs/fastai/lib/python3.6/site-packages/sklearn/model_selection/_search.py\u001b[0m in \u001b[0;36mfit\u001b[0;34m(self, X, y, groups, **fit_params)\u001b[0m\n\u001b[1;32m    637\u001b[0m                                   error_score=self.error_score)\n\u001b[1;32m    638\u001b[0m           for parameters, (train, test) in product(candidate_params,\n\u001b[0;32m--> 639\u001b[0;31m                                                    cv.split(X, y, groups)))\n\u001b[0m\u001b[1;32m    640\u001b[0m \u001b[0;34m\u001b[0m\u001b[0m\n\u001b[1;32m    641\u001b[0m         \u001b[0;31m# if one choose to see train score, \"out\" will contain train score info\u001b[0m\u001b[0;34m\u001b[0m\u001b[0;34m\u001b[0m\u001b[0m\n",
      "\u001b[0;32m~/anaconda3/envs/fastai/lib/python3.6/site-packages/sklearn/externals/joblib/parallel.py\u001b[0m in \u001b[0;36m__call__\u001b[0;34m(self, iterable)\u001b[0m\n\u001b[1;32m    787\u001b[0m                 \u001b[0;31m# consumption.\u001b[0m\u001b[0;34m\u001b[0m\u001b[0;34m\u001b[0m\u001b[0m\n\u001b[1;32m    788\u001b[0m                 \u001b[0mself\u001b[0m\u001b[0;34m.\u001b[0m\u001b[0m_iterating\u001b[0m \u001b[0;34m=\u001b[0m \u001b[0;32mFalse\u001b[0m\u001b[0;34m\u001b[0m\u001b[0m\n\u001b[0;32m--> 789\u001b[0;31m             \u001b[0mself\u001b[0m\u001b[0;34m.\u001b[0m\u001b[0mretrieve\u001b[0m\u001b[0;34m(\u001b[0m\u001b[0;34m)\u001b[0m\u001b[0;34m\u001b[0m\u001b[0m\n\u001b[0m\u001b[1;32m    790\u001b[0m             \u001b[0;31m# Make sure that we get a last message telling us we are done\u001b[0m\u001b[0;34m\u001b[0m\u001b[0;34m\u001b[0m\u001b[0m\n\u001b[1;32m    791\u001b[0m             \u001b[0melapsed_time\u001b[0m \u001b[0;34m=\u001b[0m \u001b[0mtime\u001b[0m\u001b[0;34m.\u001b[0m\u001b[0mtime\u001b[0m\u001b[0;34m(\u001b[0m\u001b[0;34m)\u001b[0m \u001b[0;34m-\u001b[0m \u001b[0mself\u001b[0m\u001b[0;34m.\u001b[0m\u001b[0m_start_time\u001b[0m\u001b[0;34m\u001b[0m\u001b[0m\n",
      "\u001b[0;32m~/anaconda3/envs/fastai/lib/python3.6/site-packages/sklearn/externals/joblib/parallel.py\u001b[0m in \u001b[0;36mretrieve\u001b[0;34m(self)\u001b[0m\n\u001b[1;32m    719\u001b[0m                     \u001b[0;31m# scheduling.\u001b[0m\u001b[0;34m\u001b[0m\u001b[0;34m\u001b[0m\u001b[0m\n\u001b[1;32m    720\u001b[0m                     \u001b[0mensure_ready\u001b[0m \u001b[0;34m=\u001b[0m \u001b[0mself\u001b[0m\u001b[0;34m.\u001b[0m\u001b[0m_managed_backend\u001b[0m\u001b[0;34m\u001b[0m\u001b[0m\n\u001b[0;32m--> 721\u001b[0;31m                     \u001b[0mbackend\u001b[0m\u001b[0;34m.\u001b[0m\u001b[0mabort_everything\u001b[0m\u001b[0;34m(\u001b[0m\u001b[0mensure_ready\u001b[0m\u001b[0;34m=\u001b[0m\u001b[0mensure_ready\u001b[0m\u001b[0;34m)\u001b[0m\u001b[0;34m\u001b[0m\u001b[0m\n\u001b[0m\u001b[1;32m    722\u001b[0m \u001b[0;34m\u001b[0m\u001b[0m\n\u001b[1;32m    723\u001b[0m                 \u001b[0;32mif\u001b[0m \u001b[0;32mnot\u001b[0m \u001b[0misinstance\u001b[0m\u001b[0;34m(\u001b[0m\u001b[0mexception\u001b[0m\u001b[0;34m,\u001b[0m \u001b[0mTransportableException\u001b[0m\u001b[0;34m)\u001b[0m\u001b[0;34m:\u001b[0m\u001b[0;34m\u001b[0m\u001b[0m\n",
      "\u001b[0;32m~/anaconda3/envs/fastai/lib/python3.6/site-packages/sklearn/externals/joblib/_parallel_backends.py\u001b[0m in \u001b[0;36mabort_everything\u001b[0;34m(self, ensure_ready)\u001b[0m\n\u001b[1;32m    143\u001b[0m     \u001b[0;32mdef\u001b[0m \u001b[0mabort_everything\u001b[0m\u001b[0;34m(\u001b[0m\u001b[0mself\u001b[0m\u001b[0;34m,\u001b[0m \u001b[0mensure_ready\u001b[0m\u001b[0;34m=\u001b[0m\u001b[0;32mTrue\u001b[0m\u001b[0;34m)\u001b[0m\u001b[0;34m:\u001b[0m\u001b[0;34m\u001b[0m\u001b[0m\n\u001b[1;32m    144\u001b[0m         \u001b[0;34m\"\"\"Shutdown the pool and restart a new one with the same parameters\"\"\"\u001b[0m\u001b[0;34m\u001b[0m\u001b[0m\n\u001b[0;32m--> 145\u001b[0;31m         \u001b[0mself\u001b[0m\u001b[0;34m.\u001b[0m\u001b[0mterminate\u001b[0m\u001b[0;34m(\u001b[0m\u001b[0;34m)\u001b[0m\u001b[0;34m\u001b[0m\u001b[0m\n\u001b[0m\u001b[1;32m    146\u001b[0m         \u001b[0;32mif\u001b[0m \u001b[0mensure_ready\u001b[0m\u001b[0;34m:\u001b[0m\u001b[0;34m\u001b[0m\u001b[0m\n\u001b[1;32m    147\u001b[0m             self.configure(n_jobs=self.parallel.n_jobs, parallel=self.parallel,\n",
      "\u001b[0;32m~/anaconda3/envs/fastai/lib/python3.6/site-packages/sklearn/externals/joblib/_parallel_backends.py\u001b[0m in \u001b[0;36mterminate\u001b[0;34m(self)\u001b[0m\n\u001b[1;32m    321\u001b[0m     \u001b[0;32mdef\u001b[0m \u001b[0mterminate\u001b[0m\u001b[0;34m(\u001b[0m\u001b[0mself\u001b[0m\u001b[0;34m)\u001b[0m\u001b[0;34m:\u001b[0m\u001b[0;34m\u001b[0m\u001b[0m\n\u001b[1;32m    322\u001b[0m         \u001b[0;34m\"\"\"Shutdown the process or thread pool\"\"\"\u001b[0m\u001b[0;34m\u001b[0m\u001b[0m\n\u001b[0;32m--> 323\u001b[0;31m         \u001b[0msuper\u001b[0m\u001b[0;34m(\u001b[0m\u001b[0mMultiprocessingBackend\u001b[0m\u001b[0;34m,\u001b[0m \u001b[0mself\u001b[0m\u001b[0;34m)\u001b[0m\u001b[0;34m.\u001b[0m\u001b[0mterminate\u001b[0m\u001b[0;34m(\u001b[0m\u001b[0;34m)\u001b[0m\u001b[0;34m\u001b[0m\u001b[0m\n\u001b[0m\u001b[1;32m    324\u001b[0m         \u001b[0;32mif\u001b[0m \u001b[0mself\u001b[0m\u001b[0;34m.\u001b[0m\u001b[0mJOBLIB_SPAWNED_PROCESS\u001b[0m \u001b[0;32min\u001b[0m \u001b[0mos\u001b[0m\u001b[0;34m.\u001b[0m\u001b[0menviron\u001b[0m\u001b[0;34m:\u001b[0m\u001b[0;34m\u001b[0m\u001b[0m\n\u001b[1;32m    325\u001b[0m             \u001b[0;32mdel\u001b[0m \u001b[0mos\u001b[0m\u001b[0;34m.\u001b[0m\u001b[0menviron\u001b[0m\u001b[0;34m[\u001b[0m\u001b[0mself\u001b[0m\u001b[0;34m.\u001b[0m\u001b[0mJOBLIB_SPAWNED_PROCESS\u001b[0m\u001b[0;34m]\u001b[0m\u001b[0;34m\u001b[0m\u001b[0m\n",
      "\u001b[0;32m~/anaconda3/envs/fastai/lib/python3.6/site-packages/sklearn/externals/joblib/_parallel_backends.py\u001b[0m in \u001b[0;36mterminate\u001b[0;34m(self)\u001b[0m\n\u001b[1;32m    134\u001b[0m         \u001b[0;32mif\u001b[0m \u001b[0mself\u001b[0m\u001b[0;34m.\u001b[0m\u001b[0m_pool\u001b[0m \u001b[0;32mis\u001b[0m \u001b[0;32mnot\u001b[0m \u001b[0;32mNone\u001b[0m\u001b[0;34m:\u001b[0m\u001b[0;34m\u001b[0m\u001b[0m\n\u001b[1;32m    135\u001b[0m             \u001b[0mself\u001b[0m\u001b[0;34m.\u001b[0m\u001b[0m_pool\u001b[0m\u001b[0;34m.\u001b[0m\u001b[0mclose\u001b[0m\u001b[0;34m(\u001b[0m\u001b[0;34m)\u001b[0m\u001b[0;34m\u001b[0m\u001b[0m\n\u001b[0;32m--> 136\u001b[0;31m             \u001b[0mself\u001b[0m\u001b[0;34m.\u001b[0m\u001b[0m_pool\u001b[0m\u001b[0;34m.\u001b[0m\u001b[0mterminate\u001b[0m\u001b[0;34m(\u001b[0m\u001b[0;34m)\u001b[0m  \u001b[0;31m# terminate does a join()\u001b[0m\u001b[0;34m\u001b[0m\u001b[0m\n\u001b[0m\u001b[1;32m    137\u001b[0m             \u001b[0mself\u001b[0m\u001b[0;34m.\u001b[0m\u001b[0m_pool\u001b[0m \u001b[0;34m=\u001b[0m \u001b[0;32mNone\u001b[0m\u001b[0;34m\u001b[0m\u001b[0m\n\u001b[1;32m    138\u001b[0m \u001b[0;34m\u001b[0m\u001b[0m\n",
      "\u001b[0;32m~/anaconda3/envs/fastai/lib/python3.6/site-packages/sklearn/externals/joblib/pool.py\u001b[0m in \u001b[0;36mterminate\u001b[0;34m(self)\u001b[0m\n\u001b[1;32m    604\u001b[0m         \u001b[0;32mfor\u001b[0m \u001b[0mi\u001b[0m \u001b[0;32min\u001b[0m \u001b[0mrange\u001b[0m\u001b[0;34m(\u001b[0m\u001b[0mn_retries\u001b[0m\u001b[0;34m)\u001b[0m\u001b[0;34m:\u001b[0m\u001b[0;34m\u001b[0m\u001b[0m\n\u001b[1;32m    605\u001b[0m             \u001b[0;32mtry\u001b[0m\u001b[0;34m:\u001b[0m\u001b[0;34m\u001b[0m\u001b[0m\n\u001b[0;32m--> 606\u001b[0;31m                 \u001b[0msuper\u001b[0m\u001b[0;34m(\u001b[0m\u001b[0mMemmapingPool\u001b[0m\u001b[0;34m,\u001b[0m \u001b[0mself\u001b[0m\u001b[0;34m)\u001b[0m\u001b[0;34m.\u001b[0m\u001b[0mterminate\u001b[0m\u001b[0;34m(\u001b[0m\u001b[0;34m)\u001b[0m\u001b[0;34m\u001b[0m\u001b[0m\n\u001b[0m\u001b[1;32m    607\u001b[0m                 \u001b[0;32mbreak\u001b[0m\u001b[0;34m\u001b[0m\u001b[0m\n\u001b[1;32m    608\u001b[0m             \u001b[0;32mexcept\u001b[0m \u001b[0mOSError\u001b[0m \u001b[0;32mas\u001b[0m \u001b[0me\u001b[0m\u001b[0;34m:\u001b[0m\u001b[0;34m\u001b[0m\u001b[0m\n",
      "\u001b[0;32m~/anaconda3/envs/fastai/lib/python3.6/multiprocessing/pool.py\u001b[0m in \u001b[0;36mterminate\u001b[0;34m(self)\u001b[0m\n\u001b[1;32m    539\u001b[0m         \u001b[0mself\u001b[0m\u001b[0;34m.\u001b[0m\u001b[0m_state\u001b[0m \u001b[0;34m=\u001b[0m \u001b[0mTERMINATE\u001b[0m\u001b[0;34m\u001b[0m\u001b[0m\n\u001b[1;32m    540\u001b[0m         \u001b[0mself\u001b[0m\u001b[0;34m.\u001b[0m\u001b[0m_worker_handler\u001b[0m\u001b[0;34m.\u001b[0m\u001b[0m_state\u001b[0m \u001b[0;34m=\u001b[0m \u001b[0mTERMINATE\u001b[0m\u001b[0;34m\u001b[0m\u001b[0m\n\u001b[0;32m--> 541\u001b[0;31m         \u001b[0mself\u001b[0m\u001b[0;34m.\u001b[0m\u001b[0m_terminate\u001b[0m\u001b[0;34m(\u001b[0m\u001b[0;34m)\u001b[0m\u001b[0;34m\u001b[0m\u001b[0m\n\u001b[0m\u001b[1;32m    542\u001b[0m \u001b[0;34m\u001b[0m\u001b[0m\n\u001b[1;32m    543\u001b[0m     \u001b[0;32mdef\u001b[0m \u001b[0mjoin\u001b[0m\u001b[0;34m(\u001b[0m\u001b[0mself\u001b[0m\u001b[0;34m)\u001b[0m\u001b[0;34m:\u001b[0m\u001b[0;34m\u001b[0m\u001b[0m\n",
      "\u001b[0;32m~/anaconda3/envs/fastai/lib/python3.6/multiprocessing/util.py\u001b[0m in \u001b[0;36m__call__\u001b[0;34m(self, wr, _finalizer_registry, sub_debug, getpid)\u001b[0m\n\u001b[1;32m    184\u001b[0m                 sub_debug('finalizer calling %s with args %s and kwargs %s',\n\u001b[1;32m    185\u001b[0m                           self._callback, self._args, self._kwargs)\n\u001b[0;32m--> 186\u001b[0;31m                 \u001b[0mres\u001b[0m \u001b[0;34m=\u001b[0m \u001b[0mself\u001b[0m\u001b[0;34m.\u001b[0m\u001b[0m_callback\u001b[0m\u001b[0;34m(\u001b[0m\u001b[0;34m*\u001b[0m\u001b[0mself\u001b[0m\u001b[0;34m.\u001b[0m\u001b[0m_args\u001b[0m\u001b[0;34m,\u001b[0m \u001b[0;34m**\u001b[0m\u001b[0mself\u001b[0m\u001b[0;34m.\u001b[0m\u001b[0m_kwargs\u001b[0m\u001b[0;34m)\u001b[0m\u001b[0;34m\u001b[0m\u001b[0m\n\u001b[0m\u001b[1;32m    187\u001b[0m             \u001b[0mself\u001b[0m\u001b[0;34m.\u001b[0m\u001b[0m_weakref\u001b[0m \u001b[0;34m=\u001b[0m \u001b[0mself\u001b[0m\u001b[0;34m.\u001b[0m\u001b[0m_callback\u001b[0m \u001b[0;34m=\u001b[0m \u001b[0mself\u001b[0m\u001b[0;34m.\u001b[0m\u001b[0m_args\u001b[0m \u001b[0;34m=\u001b[0m\u001b[0;31m \u001b[0m\u001b[0;31m\\\u001b[0m\u001b[0;34m\u001b[0m\u001b[0m\n\u001b[1;32m    188\u001b[0m                             \u001b[0mself\u001b[0m\u001b[0;34m.\u001b[0m\u001b[0m_kwargs\u001b[0m \u001b[0;34m=\u001b[0m \u001b[0mself\u001b[0m\u001b[0;34m.\u001b[0m\u001b[0m_key\u001b[0m \u001b[0;34m=\u001b[0m \u001b[0;32mNone\u001b[0m\u001b[0;34m\u001b[0m\u001b[0m\n",
      "\u001b[0;32m~/anaconda3/envs/fastai/lib/python3.6/multiprocessing/pool.py\u001b[0m in \u001b[0;36m_terminate_pool\u001b[0;34m(cls, taskqueue, inqueue, outqueue, pool, worker_handler, task_handler, result_handler, cache)\u001b[0m\n\u001b[1;32m    569\u001b[0m \u001b[0;34m\u001b[0m\u001b[0m\n\u001b[1;32m    570\u001b[0m         \u001b[0mutil\u001b[0m\u001b[0;34m.\u001b[0m\u001b[0mdebug\u001b[0m\u001b[0;34m(\u001b[0m\u001b[0;34m'helping task handler/workers to finish'\u001b[0m\u001b[0;34m)\u001b[0m\u001b[0;34m\u001b[0m\u001b[0m\n\u001b[0;32m--> 571\u001b[0;31m         \u001b[0mcls\u001b[0m\u001b[0;34m.\u001b[0m\u001b[0m_help_stuff_finish\u001b[0m\u001b[0;34m(\u001b[0m\u001b[0minqueue\u001b[0m\u001b[0;34m,\u001b[0m \u001b[0mtask_handler\u001b[0m\u001b[0;34m,\u001b[0m \u001b[0mlen\u001b[0m\u001b[0;34m(\u001b[0m\u001b[0mpool\u001b[0m\u001b[0;34m)\u001b[0m\u001b[0;34m)\u001b[0m\u001b[0;34m\u001b[0m\u001b[0m\n\u001b[0m\u001b[1;32m    572\u001b[0m \u001b[0;34m\u001b[0m\u001b[0m\n\u001b[1;32m    573\u001b[0m         \u001b[0;32massert\u001b[0m \u001b[0mresult_handler\u001b[0m\u001b[0;34m.\u001b[0m\u001b[0mis_alive\u001b[0m\u001b[0;34m(\u001b[0m\u001b[0;34m)\u001b[0m \u001b[0;32mor\u001b[0m \u001b[0mlen\u001b[0m\u001b[0;34m(\u001b[0m\u001b[0mcache\u001b[0m\u001b[0;34m)\u001b[0m \u001b[0;34m==\u001b[0m \u001b[0;36m0\u001b[0m\u001b[0;34m\u001b[0m\u001b[0m\n",
      "\u001b[0;32m~/anaconda3/envs/fastai/lib/python3.6/multiprocessing/pool.py\u001b[0m in \u001b[0;36m_help_stuff_finish\u001b[0;34m(inqueue, task_handler, size)\u001b[0m\n\u001b[1;32m    554\u001b[0m         \u001b[0;31m# task_handler may be blocked trying to put items on inqueue\u001b[0m\u001b[0;34m\u001b[0m\u001b[0;34m\u001b[0m\u001b[0m\n\u001b[1;32m    555\u001b[0m         \u001b[0mutil\u001b[0m\u001b[0;34m.\u001b[0m\u001b[0mdebug\u001b[0m\u001b[0;34m(\u001b[0m\u001b[0;34m'removing tasks from inqueue until task handler finished'\u001b[0m\u001b[0;34m)\u001b[0m\u001b[0;34m\u001b[0m\u001b[0m\n\u001b[0;32m--> 556\u001b[0;31m         \u001b[0minqueue\u001b[0m\u001b[0;34m.\u001b[0m\u001b[0m_rlock\u001b[0m\u001b[0;34m.\u001b[0m\u001b[0macquire\u001b[0m\u001b[0;34m(\u001b[0m\u001b[0;34m)\u001b[0m\u001b[0;34m\u001b[0m\u001b[0m\n\u001b[0m\u001b[1;32m    557\u001b[0m         \u001b[0;32mwhile\u001b[0m \u001b[0mtask_handler\u001b[0m\u001b[0;34m.\u001b[0m\u001b[0mis_alive\u001b[0m\u001b[0;34m(\u001b[0m\u001b[0;34m)\u001b[0m \u001b[0;32mand\u001b[0m \u001b[0minqueue\u001b[0m\u001b[0;34m.\u001b[0m\u001b[0m_reader\u001b[0m\u001b[0;34m.\u001b[0m\u001b[0mpoll\u001b[0m\u001b[0;34m(\u001b[0m\u001b[0;34m)\u001b[0m\u001b[0;34m:\u001b[0m\u001b[0;34m\u001b[0m\u001b[0m\n\u001b[1;32m    558\u001b[0m             \u001b[0minqueue\u001b[0m\u001b[0;34m.\u001b[0m\u001b[0m_reader\u001b[0m\u001b[0;34m.\u001b[0m\u001b[0mrecv\u001b[0m\u001b[0;34m(\u001b[0m\u001b[0;34m)\u001b[0m\u001b[0;34m\u001b[0m\u001b[0m\n",
      "\u001b[0;31mKeyboardInterrupt\u001b[0m: "
     ]
    }
   ],
   "source": [
    "gbm_param_grid = {\"learning_rate\": [0.01, 0.015, 0.025, 0.05, 0.1],\n",
    "                  \"gamma\": [0.05, 0.1, 0.3, 0.5, 0.7, 0.9, 1.0],\n",
    "                  \"max_depth\": [3,5,7, 9, 12, 15, 17, 25],\n",
    "                  \"min_child_weight\": [1, 3, 5, 7],\n",
    "                  \"subsample\": [0.6, 0.7, 0.8, 0.9, 1.0],\n",
    "                  \"colsample_bytree\": [0.6, 0.7, 0.8, 0.9, 1.0],\n",
    "                  \"reg_lambda\": np.linspace(0.01, 1, 10),\n",
    "                  \"reg_alpha\": np.linspace(1e-5,1,10)}\n",
    "\n",
    "\n",
    "estimator = XGBClassifier(n_estimators=10000, \n",
    "                          objective= 'binary:logistic', \n",
    "                          n_jobs=8,\n",
    "                          scale_pos_weight=1,\n",
    "                          random_state=42,\n",
    "                          early_stopping=30) \n",
    "                          \n",
    "gsearch1 = GridSearchCV(estimator=estimator, \n",
    "                        param_grid=gbm_param_grid, \n",
    "                        scoring='roc_auc',\n",
    "                        n_jobs=8,\n",
    "                        iid=False, \n",
    "                        cv=cv,\n",
    "                        verbose=1)\n",
    "                        \n",
    " \n",
    "gsearch1.fit(train_stack,target)\n",
    "\n",
    "gsearch1.grid_scores_, gsearch1.best_params_, gsearch1.best_score_"
   ]
  },
  {
   "cell_type": "code",
   "execution_count": 6,
   "metadata": {},
   "outputs": [
    {
     "data": {
      "text/plain": [
       "array([0.01, 0.12, 0.23, 0.34, 0.45, 0.56, 0.67, 0.78, 0.89, 1.  ])"
      ]
     },
     "execution_count": 6,
     "metadata": {},
     "output_type": "execute_result"
    }
   ],
   "source": [
    "gbm_param_grid = {\"learning_rate\": [0.01, 0.015, 0.025, 0.05, 0.1],\n",
    "                  \"gamma\": [0.05, 0.1, 0.3, 0.5, 0.7, 0.9, 1.0],\n",
    "                  \"max_depth\": [3,5,7, 9, 12, 15, 17, 25],\n",
    "                  \"min_child_weight\": [1, 3, 5, 7],\n",
    "                  \"subsample\": [0.6, 0.7, 0.8, 0.9, 1.0],\n",
    "                  \"colsample_bytree\": [0.6, 0.7, 0.8, 0.9, 1.0],\n",
    "                  \"lambda\": np.linspace(0.01, 1, 10),\n",
    "                  \"alpha\": np.linspace(0,1,10)}\n",
    "\n",
    "scoring = 'roc_auc'\n",
    "objective =  'binary:logistic'\n",
    "n_estimators=10000\n",
    "early_stopping=30\n",
    "seed = 42\n",
    "\n",
    "xgb, cv_results\n"
   ]
  },
  {
   "cell_type": "markdown",
   "metadata": {
    "colab_type": "text",
    "id": "L5VHxUICfqVo"
   },
   "source": [
    "We can see that the minimum number of previously posted projects for a teacher is 0, the maximum number is 451, and the mean (average) number is 11.23. Let's visualize the distribution using a histogram, to get a better sense of the spread."
   ]
  },
  {
   "cell_type": "code",
   "execution_count": null,
   "metadata": {
    "ExecuteTime": {
     "end_time": "2018-04-10T17:47:46.367756Z",
     "start_time": "2018-04-10T17:47:45.996620Z"
    },
    "colab": {
     "autoexec": {
      "startup": false,
      "wait_interval": 0
     },
     "output_extras": [
      {}
     ]
    },
    "colab_type": "code",
    "id": "kiTgWUOqfqVp",
    "outputId": "62ead2bf-4b0a-467e-9977-b18b77cabc22"
   },
   "outputs": [],
   "source": [
    "train_stack"
   ]
  },
  {
   "cell_type": "markdown",
   "metadata": {
    "colab_type": "text",
    "id": "XccR-LZxfqVt"
   },
   "source": [
    "We can see that the vast majority of examples have a `teacher_number_previously_posted_projects` value between 0 and 10, with a sharp dropoff thereafter. However, if we rebucket our data into two bins (&lt; 10 and &ge; 10), we can see that there's a substantial long tail of examples with previously-posted-project values greater than 10:"
   ]
  },
  {
   "cell_type": "code",
   "execution_count": 43,
   "metadata": {
    "ExecuteTime": {
     "end_time": "2018-04-10T17:47:46.643290Z",
     "start_time": "2018-04-10T17:47:46.370290Z"
    },
    "colab": {
     "autoexec": {
      "startup": false,
      "wait_interval": 0
     },
     "output_extras": [
      {}
     ]
    },
    "colab_type": "code",
    "id": "mJWQbAf4fqVu",
    "outputId": "8fae23a0-02fe-4b35-81c9-61c4a3187791"
   },
   "outputs": [
    {
     "data": {
      "image/png": "[encoded data removed]",
      "text/plain": [
       "<Figure size 800x550 with 1 Axes>"
      ]
     },
     "metadata": {},
     "output_type": "display_data"
    }
   ],
   "source": [
    "# Plot histogram with 45 bins; each bin representing a range of 10\n",
    "plt.hist(train[\"teacher_number_of_previously_posted_projects\"], bins=[0, 10, 450])\n",
    "plt.xticks(range(0, 500, 50))\n",
    "plt.show()"
   ]
  },
  {
   "cell_type": "markdown",
   "metadata": {},
   "source": [
    "### Cross Validation"
   ]
  },
  {
   "cell_type": "markdown",
   "metadata": {},
   "source": [
    "Since we have a heavily unbalanced target variable. It's recommended to perform KFold cross validation with Stratification, since this way each fold preserves the percentages of sample in each class."
   ]
  },
  {
   "cell_type": "code",
   "execution_count": 44,
   "metadata": {
    "ExecuteTime": {
     "end_time": "2018-04-10T17:47:48.587549Z",
     "start_time": "2018-04-10T17:47:46.645671Z"
    }
   },
   "outputs": [
    {
     "name": "stdout",
     "output_type": "stream",
     "text": [
      "[ 90950  90951  90953 ... 182077 182078 182079]\n"
     ]
    },
    {
     "ename": "ValueError",
     "evalue": "could not convert string to float: \"Reader Leaders! Balanced literacy was a mystery to me until a couple of years ago, when my school district began implementing the program.  Now, a typical morning in my classroom involves a whole-group lesson, stations or assignments, and small-group teaching (based on students' reading levels). At the beginning of the school year, the reading levels of my students range from preschool to 4th or 5th grade.  Our school offers many programs and incentives to keep the kids reading all year long.  We strive to help them reach their reading potential.  In fact, we want them to become leaders through reading.  With a listening station, I can check out audio books to meet the needs of all students - whether struggling or advanced readers.  Every student will benefit on an individual level. Their fluency and comprehension will be greatly impacted by this resource!  Is there a better way to encourage reader leaders? My students will be able to listen to books read aloud to them on CD.  They will participate in literacy group or book club activities that go along with the books they read.  Students will complete journal writing, word study, and creative extension activities (as part of balanced literacy) using this convenient listening station.\"",
     "output_type": "error",
     "traceback": [
      "\u001b[0;31m---------------------------------------------------------------------------\u001b[0m",
      "\u001b[0;31mValueError\u001b[0m                                Traceback (most recent call last)",
      "\u001b[0;32m<ipython-input-44-4431c6a9ceb5>\u001b[0m in \u001b[0;36m<module>\u001b[0;34m()\u001b[0m\n\u001b[1;32m     11\u001b[0m                          random_state=random_state)\n\u001b[1;32m     12\u001b[0m \u001b[0;34m\u001b[0m\u001b[0m\n\u001b[0;32m---> 13\u001b[0;31m \u001b[0mplot_roc_crossval\u001b[0m\u001b[0;34m(\u001b[0m\u001b[0mX\u001b[0m\u001b[0;34m,\u001b[0m \u001b[0my\u001b[0m\u001b[0;34m,\u001b[0m \u001b[0mclassifier\u001b[0m\u001b[0;34m,\u001b[0m \u001b[0mn_splits\u001b[0m\u001b[0;34m=\u001b[0m\u001b[0;36m2\u001b[0m\u001b[0;34m)\u001b[0m\u001b[0;34m\u001b[0m\u001b[0m\n\u001b[0m",
      "\u001b[0;32m~/projects/machine-learning/nanodegree-ml/projects/capstone/plot_roc_crossval.py\u001b[0m in \u001b[0;36mplot_roc_crossval\u001b[0;34m(X, y, classifier, n_splits)\u001b[0m\n\u001b[1;32m     58\u001b[0m \u001b[0;34m\u001b[0m\u001b[0m\n\u001b[1;32m     59\u001b[0m         \u001b[0mprint\u001b[0m\u001b[0;34m(\u001b[0m\u001b[0mtrain\u001b[0m\u001b[0;34m)\u001b[0m\u001b[0;34m\u001b[0m\u001b[0m\n\u001b[0;32m---> 60\u001b[0;31m         \u001b[0mprobas_\u001b[0m \u001b[0;34m=\u001b[0m \u001b[0mclassifier\u001b[0m\u001b[0;34m.\u001b[0m\u001b[0mfit\u001b[0m\u001b[0;34m(\u001b[0m\u001b[0mX\u001b[0m\u001b[0;34m.\u001b[0m\u001b[0mloc\u001b[0m\u001b[0;34m[\u001b[0m\u001b[0mtrain\u001b[0m\u001b[0;34m]\u001b[0m\u001b[0;34m,\u001b[0m \u001b[0my\u001b[0m\u001b[0;34m.\u001b[0m\u001b[0mloc\u001b[0m\u001b[0;34m[\u001b[0m\u001b[0mtrain\u001b[0m\u001b[0;34m]\u001b[0m\u001b[0;34m)\u001b[0m\u001b[0;34m.\u001b[0m\u001b[0mpredict_proba\u001b[0m\u001b[0;34m(\u001b[0m\u001b[0mX\u001b[0m\u001b[0;34m.\u001b[0m\u001b[0mloc\u001b[0m\u001b[0;34m[\u001b[0m\u001b[0mtest\u001b[0m\u001b[0;34m]\u001b[0m\u001b[0;34m)\u001b[0m\u001b[0;34m\u001b[0m\u001b[0m\n\u001b[0m\u001b[1;32m     61\u001b[0m         \u001b[0;31m# Compute ROC curve and area the curve\u001b[0m\u001b[0;34m\u001b[0m\u001b[0;34m\u001b[0m\u001b[0m\n\u001b[1;32m     62\u001b[0m         \u001b[0mfpr\u001b[0m\u001b[0;34m,\u001b[0m \u001b[0mtpr\u001b[0m\u001b[0;34m,\u001b[0m \u001b[0mthresholds\u001b[0m \u001b[0;34m=\u001b[0m \u001b[0mroc_curve\u001b[0m\u001b[0;34m(\u001b[0m\u001b[0my\u001b[0m\u001b[0;34m.\u001b[0m\u001b[0mloc\u001b[0m\u001b[0;34m[\u001b[0m\u001b[0mtest\u001b[0m\u001b[0;34m]\u001b[0m\u001b[0;34m,\u001b[0m \u001b[0mprobas_\u001b[0m\u001b[0;34m[\u001b[0m\u001b[0;34m:\u001b[0m\u001b[0;34m,\u001b[0m \u001b[0;36m1\u001b[0m\u001b[0;34m]\u001b[0m\u001b[0;34m)\u001b[0m\u001b[0;34m\u001b[0m\u001b[0m\n",
      "\u001b[0;32m~/anaconda3/envs/fastai/lib/python3.6/site-packages/sklearn/svm/base.py\u001b[0m in \u001b[0;36mfit\u001b[0;34m(self, X, y, sample_weight)\u001b[0m\n\u001b[1;32m    147\u001b[0m         \u001b[0mself\u001b[0m\u001b[0;34m.\u001b[0m\u001b[0m_sparse\u001b[0m \u001b[0;34m=\u001b[0m \u001b[0msparse\u001b[0m \u001b[0;32mand\u001b[0m \u001b[0;32mnot\u001b[0m \u001b[0mcallable\u001b[0m\u001b[0;34m(\u001b[0m\u001b[0mself\u001b[0m\u001b[0;34m.\u001b[0m\u001b[0mkernel\u001b[0m\u001b[0;34m)\u001b[0m\u001b[0;34m\u001b[0m\u001b[0m\n\u001b[1;32m    148\u001b[0m \u001b[0;34m\u001b[0m\u001b[0m\n\u001b[0;32m--> 149\u001b[0;31m         \u001b[0mX\u001b[0m\u001b[0;34m,\u001b[0m \u001b[0my\u001b[0m \u001b[0;34m=\u001b[0m \u001b[0mcheck_X_y\u001b[0m\u001b[0;34m(\u001b[0m\u001b[0mX\u001b[0m\u001b[0;34m,\u001b[0m \u001b[0my\u001b[0m\u001b[0;34m,\u001b[0m \u001b[0mdtype\u001b[0m\u001b[0;34m=\u001b[0m\u001b[0mnp\u001b[0m\u001b[0;34m.\u001b[0m\u001b[0mfloat64\u001b[0m\u001b[0;34m,\u001b[0m \u001b[0morder\u001b[0m\u001b[0;34m=\u001b[0m\u001b[0;34m'C'\u001b[0m\u001b[0;34m,\u001b[0m \u001b[0maccept_sparse\u001b[0m\u001b[0;34m=\u001b[0m\u001b[0;34m'csr'\u001b[0m\u001b[0;34m)\u001b[0m\u001b[0;34m\u001b[0m\u001b[0m\n\u001b[0m\u001b[1;32m    150\u001b[0m         \u001b[0my\u001b[0m \u001b[0;34m=\u001b[0m \u001b[0mself\u001b[0m\u001b[0;34m.\u001b[0m\u001b[0m_validate_targets\u001b[0m\u001b[0;34m(\u001b[0m\u001b[0my\u001b[0m\u001b[0;34m)\u001b[0m\u001b[0;34m\u001b[0m\u001b[0m\n\u001b[1;32m    151\u001b[0m \u001b[0;34m\u001b[0m\u001b[0m\n",
      "\u001b[0;32m~/anaconda3/envs/fastai/lib/python3.6/site-packages/sklearn/utils/validation.py\u001b[0m in \u001b[0;36mcheck_X_y\u001b[0;34m(X, y, accept_sparse, dtype, order, copy, force_all_finite, ensure_2d, allow_nd, multi_output, ensure_min_samples, ensure_min_features, y_numeric, warn_on_dtype, estimator)\u001b[0m\n\u001b[1;32m    571\u001b[0m     X = check_array(X, accept_sparse, dtype, order, copy, force_all_finite,\n\u001b[1;32m    572\u001b[0m                     \u001b[0mensure_2d\u001b[0m\u001b[0;34m,\u001b[0m \u001b[0mallow_nd\u001b[0m\u001b[0;34m,\u001b[0m \u001b[0mensure_min_samples\u001b[0m\u001b[0;34m,\u001b[0m\u001b[0;34m\u001b[0m\u001b[0m\n\u001b[0;32m--> 573\u001b[0;31m                     ensure_min_features, warn_on_dtype, estimator)\n\u001b[0m\u001b[1;32m    574\u001b[0m     \u001b[0;32mif\u001b[0m \u001b[0mmulti_output\u001b[0m\u001b[0;34m:\u001b[0m\u001b[0;34m\u001b[0m\u001b[0m\n\u001b[1;32m    575\u001b[0m         y = check_array(y, 'csr', force_all_finite=True, ensure_2d=False,\n",
      "\u001b[0;32m~/anaconda3/envs/fastai/lib/python3.6/site-packages/sklearn/utils/validation.py\u001b[0m in \u001b[0;36mcheck_array\u001b[0;34m(array, accept_sparse, dtype, order, copy, force_all_finite, ensure_2d, allow_nd, ensure_min_samples, ensure_min_features, warn_on_dtype, estimator)\u001b[0m\n\u001b[1;32m    431\u001b[0m                                       force_all_finite)\n\u001b[1;32m    432\u001b[0m     \u001b[0;32melse\u001b[0m\u001b[0;34m:\u001b[0m\u001b[0;34m\u001b[0m\u001b[0m\n\u001b[0;32m--> 433\u001b[0;31m         \u001b[0marray\u001b[0m \u001b[0;34m=\u001b[0m \u001b[0mnp\u001b[0m\u001b[0;34m.\u001b[0m\u001b[0marray\u001b[0m\u001b[0;34m(\u001b[0m\u001b[0marray\u001b[0m\u001b[0;34m,\u001b[0m \u001b[0mdtype\u001b[0m\u001b[0;34m=\u001b[0m\u001b[0mdtype\u001b[0m\u001b[0;34m,\u001b[0m \u001b[0morder\u001b[0m\u001b[0;34m=\u001b[0m\u001b[0morder\u001b[0m\u001b[0;34m,\u001b[0m \u001b[0mcopy\u001b[0m\u001b[0;34m=\u001b[0m\u001b[0mcopy\u001b[0m\u001b[0;34m)\u001b[0m\u001b[0;34m\u001b[0m\u001b[0m\n\u001b[0m\u001b[1;32m    434\u001b[0m \u001b[0;34m\u001b[0m\u001b[0m\n\u001b[1;32m    435\u001b[0m         \u001b[0;32mif\u001b[0m \u001b[0mensure_2d\u001b[0m\u001b[0;34m:\u001b[0m\u001b[0;34m\u001b[0m\u001b[0m\n",
      "\u001b[0;31mValueError\u001b[0m: could not convert string to float: \"Reader Leaders! Balanced literacy was a mystery to me until a couple of years ago, when my school district began implementing the program.  Now, a typical morning in my classroom involves a whole-group lesson, stations or assignments, and small-group teaching (based on students' reading levels). At the beginning of the school year, the reading levels of my students range from preschool to 4th or 5th grade.  Our school offers many programs and incentives to keep the kids reading all year long.  We strive to help them reach their reading potential.  In fact, we want them to become leaders through reading.  With a listening station, I can check out audio books to meet the needs of all students - whether struggling or advanced readers.  Every student will benefit on an individual level. Their fluency and comprehension will be greatly impacted by this resource!  Is there a better way to encourage reader leaders? My students will be able to listen to books read aloud to them on CD.  They will participate in literacy group or book club activities that go along with the books they read.  Students will complete journal writing, word study, and creative extension activities (as part of balanced literacy) using this convenient listening station.\""
     ]
    }
   ],
   "source": [
    "from sklearn import svm\n",
    "from plot_roc_crossval import plot_roc_crossval\n",
    "\n",
    "eval_size = 0.10\n",
    "\n",
    "X = train_enc.drop('project_is_approved', axis=1)\n",
    "\n",
    "y = train_enc['project_is_approved']\n",
    "\n",
    "classifier = svm.SVC(kernel='rbf', probability=True,\n",
    "                         random_state=random_state)\n",
    "\n",
    "plot_roc_crossval(X, y, classifier, n_splits=2)    \n"
   ]
  },
  {
   "cell_type": "markdown",
   "metadata": {
    "colab_type": "text",
    "id": "VVr_OYM9fqV4"
   },
   "source": [
    "## Submitting a Kaggle Entry\n",
    "\n",
    "Once you're satisfied with your model performance, you can make predictions on the test set as follows (this may take a few minutes to run):"
   ]
  },
  {
   "cell_type": "code",
   "execution_count": null,
   "metadata": {
    "ExecuteTime": {
     "end_time": "2018-04-10T17:47:48.588935Z",
     "start_time": "2018-04-10T17:46:01.134Z"
    },
    "colab": {
     "autoexec": {
      "startup": false,
      "wait_interval": 0
     }
    },
    "colab_type": "code",
    "id": "n4X_lCZEfqV4"
   },
   "outputs": [],
   "source": [
    "# Filepath to main test dataset.\n",
    "test_file_path = '../input/test.csv'\n",
    "\n",
    "# Read data and store in DataFrame.\n",
    "test_data = pd.read_csv(test_file_path, sep=',')\n",
    "\n",
    "my_feature_name = 'teacher_number_of_previously_posted_projects'\n",
    "\n",
    "# Get test features\n",
    "test_examples = test_data[[my_feature_name]].copy()\n",
    "\n",
    "# No labels in data set, so generate some placeholder values\n",
    "placeholder_label_vals = [0 for i in range(0, 78035)]\n",
    "test_labels = pd.DataFrame({\"project_is_approved\": placeholder_label_vals})\n",
    "\n",
    "predict_test_input_fn = lambda: my_input_fn(test_examples,\n",
    "                                            test_labels, # unused for prediction\n",
    "                                            num_epochs=1, \n",
    "                                            shuffle=False)\n",
    "\n",
    "# Make predictions\n",
    "predictions_generator = linear_classifier.predict(input_fn=predict_test_input_fn)\n",
    "predictions_list = list(predictions_generator)\n",
    "\n",
    "# Extract probabilities\n",
    "probabilities = [p[\"probabilities\"][1] for p in predictions_list]\n",
    "print(\"Done extracting probabilities\")"
   ]
  },
  {
   "cell_type": "markdown",
   "metadata": {
    "colab_type": "text",
    "id": "4jIylp2yfqWC"
   },
   "source": [
    "We want to format our submission as a CSV with two fields for each example: `id` and our prediction for `project_is_approved`, e.g.:"
   ]
  },
  {
   "cell_type": "markdown",
   "metadata": {
    "colab_type": "text",
    "id": "9t6IfcdnfqWE"
   },
   "source": [
    "```\n",
    "id,project_is_approved\n",
    "p233245,0.54\n",
    "p096795,0.14\n",
    "p236235,0.94\n",
    "```"
   ]
  },
  {
   "cell_type": "markdown",
   "metadata": {
    "colab_type": "text",
    "id": "0hnQneoHfqWE"
   },
   "source": [
    "Run the following code to create a `DataFrame` in the required format:"
   ]
  },
  {
   "cell_type": "code",
   "execution_count": null,
   "metadata": {
    "ExecuteTime": {
     "end_time": "2018-04-10T17:47:48.590924Z",
     "start_time": "2018-04-10T17:46:01.142Z"
    },
    "colab": {
     "autoexec": {
      "startup": false,
      "wait_interval": 0
     }
    },
    "colab_type": "code",
    "id": "lXKsx5dAfqWG"
   },
   "outputs": [],
   "source": [
    "my_submission = pd.DataFrame({'id': test_data[\"id\"], 'project_is_approved': probabilities})\n",
    "print(my_submission.values)"
   ]
  },
  {
   "cell_type": "markdown",
   "metadata": {
    "colab_type": "text",
    "id": "iI9NxSgTfqWL"
   },
   "source": [
    "Then write your output to CSV:"
   ]
  },
  {
   "cell_type": "code",
   "execution_count": null,
   "metadata": {
    "ExecuteTime": {
     "end_time": "2018-04-10T17:47:48.593997Z",
     "start_time": "2018-04-10T17:46:01.150Z"
    },
    "colab": {
     "autoexec": {
      "startup": false,
      "wait_interval": 0
     }
    },
    "colab_type": "code",
    "id": "bk6rgnMEfqWM"
   },
   "outputs": [],
   "source": [
    "my_submission.to_csv('my_submission.csv', index=False)"
   ]
  },
  {
   "cell_type": "markdown",
   "metadata": {
    "colab_type": "text",
    "id": "yA7ID_abfqWR"
   },
   "source": [
    "Next, click the **Commit & Run** button to execute the entire Kaggle kernel. This will take ~10 minutes to run. \n",
    "\n",
    "When it's finished, you'll see the navigation bar at the top of your screen has an **Output** tab. Click on the **Output** tab, and click on the **Submit to Competition** button to submit to Kaggle."
   ]
  }
 ],
 "metadata": {
  "colab": {
   "collapsed_sections": [
    "8lcd4vxIfqVG"
   ],
   "default_view": {},
   "name": "capstone.ipynb",
   "provenance": [],
   "version": "0.3.2",
   "views": {}
  },
  "kernelspec": {
   "display_name": "Python 3",
   "language": "python",
   "name": "python3"
  },
  "language_info": {
   "codemirror_mode": {
    "name": "ipython",
    "version": 3
   },
   "file_extension": ".py",
   "mimetype": "text/x-python",
   "name": "python",
   "nbconvert_exporter": "python",
   "pygments_lexer": "ipython3",
   "version": "3.6.5"
  },
  "notify_time": "0",
  "toc": {
   "nav_menu": {
    "height": "165px",
    "width": "244px"
   },
   "number_sections": true,
   "sideBar": true,
   "skip_h1_title": true,
   "title_cell": "Table of Contents",
   "title_sidebar": "Contents",
   "toc_cell": true,
   "toc_position": {
    "height": "532px",
    "left": "705px",
    "top": "200.133px",
    "width": "267px"
   },
   "toc_section_display": true,
   "toc_window_display": true
  },
  "varInspector": {
   "cols": {
    "lenName": 16,
    "lenType": 16,
    "lenVar": 40
   },
   "kernels_config": {
    "python": {
     "delete_cmd_postfix": "",
     "delete_cmd_prefix": "del ",
     "library": "var_list.py",
     "varRefreshCmd": "print(var_dic_list())"
    },
    "r": {
     "delete_cmd_postfix": ") ",
     "delete_cmd_prefix": "rm(",
     "library": "var_list.r",
     "varRefreshCmd": "cat(var_dic_list()) "
    }
   },
   "oldHeight": 412.166666,
   "position": {
    "height": "478px",
    "left": "2020px",
    "right": "219px",
    "top": "355px",
    "width": "321px"
   },
   "types_to_exclude": [
    "module",
    "function",
    "builtin_function_or_method",
    "instance",
    "_Feature"
   ],
   "varInspector_section_display": "block",
   "window_display": true
  }
 },
 "nbformat": 4,
 "nbformat_minor": 2
}
