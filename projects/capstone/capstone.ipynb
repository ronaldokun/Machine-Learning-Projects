{
 "cells": [
  {
   "cell_type": "markdown",
   "metadata": {
    "colab_type": "text",
    "id": "Zc-4PyxpfqVD"
   },
   "source": [
    "# [DonorsChoose.org Application Screening](https://www.kaggle.com/c/donorschoose-application-screening)"
   ]
  },
  {
   "cell_type": "markdown",
   "metadata": {
    "toc": true
   },
   "source": [
    "<h1>Table of Contents<span class=\"tocSkip\"></span></h1>\n",
    "<div class=\"toc\"><ul class=\"toc-item\"><li><span><a href=\"#Introduction\" data-toc-modified-id=\"Introduction-1\"><span class=\"toc-item-num\">1&nbsp;&nbsp;</span>Introduction</a></span><ul class=\"toc-item\"><li><span><a href=\"#Background\" data-toc-modified-id=\"Background-1.1\"><span class=\"toc-item-num\">1.1&nbsp;&nbsp;</span>Background</a></span></li><li><span><a href=\"#Problem-Statement\" data-toc-modified-id=\"Problem-Statement-1.2\"><span class=\"toc-item-num\">1.2&nbsp;&nbsp;</span>Problem Statement</a></span></li></ul></li><li><span><a href=\"#Preparations\" data-toc-modified-id=\"Preparations-2\"><span class=\"toc-item-num\">2&nbsp;&nbsp;</span>Preparations</a></span><ul class=\"toc-item\"><li><span><a href=\"#Load-Libraries\" data-toc-modified-id=\"Load-Libraries-2.1\"><span class=\"toc-item-num\">2.1&nbsp;&nbsp;</span>Load Libraries</a></span></li><li><span><a href=\"#Load-Data\" data-toc-modified-id=\"Load-Data-2.2\"><span class=\"toc-item-num\">2.2&nbsp;&nbsp;</span>Load Data</a></span></li></ul></li><li><span><a href=\"#Overview:-File-Structure-and-Content\" data-toc-modified-id=\"Overview:-File-Structure-and-Content-3\"><span class=\"toc-item-num\">3&nbsp;&nbsp;</span>Overview: File Structure and Content</a></span><ul class=\"toc-item\"><li><span><a href=\"#Training-and-Test-Data\" data-toc-modified-id=\"Training-and-Test-Data-3.1\"><span class=\"toc-item-num\">3.1&nbsp;&nbsp;</span>Training and Test Data</a></span><ul class=\"toc-item\"><li><span><a href=\"#A-Note-on-Essay-Data\" data-toc-modified-id=\"A-Note-on-Essay-Data-3.1.1\"><span class=\"toc-item-num\">3.1.1&nbsp;&nbsp;</span>A Note on Essay Data</a></span></li><li><span><a href=\"#Let's-take-a-closer-look-at-the-distribution,-statistics-and-various-counts-on-the-data:\" data-toc-modified-id=\"Let's-take-a-closer-look-at-the-distribution,-statistics-and-various-counts-on-the-data:-3.1.2\"><span class=\"toc-item-num\">3.1.2&nbsp;&nbsp;</span>Let's take a closer look at the distribution, statistics and various counts on the data:</a></span></li></ul></li><li><span><a href=\"#Resources-Data\" data-toc-modified-id=\"Resources-Data-3.2\"><span class=\"toc-item-num\">3.2&nbsp;&nbsp;</span>Resources Data</a></span></li></ul></li><li><span><a href=\"#Individual-Feature-Visualizations\" data-toc-modified-id=\"Individual-Feature-Visualizations-4\"><span class=\"toc-item-num\">4&nbsp;&nbsp;</span>Individual Feature Visualizations</a></span><ul class=\"toc-item\"><li><span><a href=\"#Time-and-Space\" data-toc-modified-id=\"Time-and-Space-4.1\"><span class=\"toc-item-num\">4.1&nbsp;&nbsp;</span>Time and Space</a></span></li><li><span><a href=\"#Teachers\" data-toc-modified-id=\"Teachers-4.2\"><span class=\"toc-item-num\">4.2&nbsp;&nbsp;</span>Teachers</a></span></li><li><span><a href=\"#Cross-Validation\" data-toc-modified-id=\"Cross-Validation-4.3\"><span class=\"toc-item-num\">4.3&nbsp;&nbsp;</span>Cross Validation</a></span></li></ul></li><li><span><a href=\"#Submitting-a-Kaggle-Entry\" data-toc-modified-id=\"Submitting-a-Kaggle-Entry-5\"><span class=\"toc-item-num\">5&nbsp;&nbsp;</span>Submitting a Kaggle Entry</a></span></li></ul></div>"
   ]
  },
  {
   "cell_type": "markdown",
   "metadata": {
    "colab_type": "text",
    "heading_collapsed": true,
    "id": "8lcd4vxIfqVG"
   },
   "source": [
    "## Introduction"
   ]
  },
  {
   "cell_type": "markdown",
   "metadata": {
    "colab_type": "text",
    "hidden": true,
    "id": "WvVdkH9tfqVH"
   },
   "source": [
    "\n",
    "### Background\n",
    "\n",
    "Founded in 2000 by a high school teacher in the Bronx, [DonorsChoose.org](www.donorschoose.org) empowers public school teachers from across the country to request much-needed materials and experiences for their students. At any given time, there are thousands of classroom requests that can be brought to life with a gift of any amount.\n",
    "\n",
    "DonorsChoose.org receives hundreds of thousands of project proposals each year for classroom projects in need of funding. Right now, a large number of volunteers is needed to manually screen each submission before it's approved to be posted on the DonorsChoose.org website. \n",
    "\n",
    "I intend to apply Data Science skills to help NGO's connected to poverty alleviation that's why this project is of interest to me, we need a lot more than food to achieve a just and prosper society and education is an immensely important asset for this goal.\n",
    "\n",
    "### Problem Statement\n",
    "\n",
    "Next year, DonorsChoose.org expects to receive close to 500,000 project proposals. As a result, there are three main problems they need to solve:\n",
    "\n",
    "1. How to scale current manual processes and resources to screen 500,000 projects so that they can be posted as quickly and as efficiently as possible\n",
    "2. How to increase the consistency of project vetting across different volunteers to improve the experience for teachers\n",
    "3. How to focus volunteer time on the applications that need the most assistance\n",
    "\n",
    "The goal is to predict whether or not a DonorsChoose.org project proposal submitted by a teacher will be approved, using the text of project descriptions as well as additional metadata about the project, teacher, and school. DonorsChoose.org can then use this information to identify projects most likely to need further review before approval.\n",
    "With an algorithm to pre-screen applications, DonorsChoose.org can auto-approve some applications quickly so that volunteers can spend their time on more nuanced and detailed project ​vetting processes, including doing more to help teachers develop projects that qualify for specific funding opportunities.\n",
    "The machine learning algorithm can help more teachers get funded more quickly, and with less cost to DonorsChoose.org, allowing them to channel even more funding directly to classrooms across the country. \n"
   ]
  },
  {
   "cell_type": "markdown",
   "metadata": {
    "colab_type": "text",
    "id": "pBuazUqDfqVI"
   },
   "source": [
    "## Preparations"
   ]
  },
  {
   "cell_type": "markdown",
   "metadata": {
    "colab_type": "text",
    "id": "sO-d-_Lx6Vet"
   },
   "source": [
    "### Load Libraries"
   ]
  },
  {
   "cell_type": "code",
   "execution_count": 3,
   "metadata": {
    "ExecuteTime": {
     "end_time": "2018-03-23T11:21:27.641915Z",
     "start_time": "2018-03-23T11:21:23.418211Z"
    },
    "colab": {
     "autoexec": {
      "startup": false,
      "wait_interval": 0
     },
     "base_uri": "https://localhost:8080/",
     "height": 21,
     "output_extras": [
      {
       "item_id": 1
      }
     ]
    },
    "colab_type": "code",
    "executionInfo": {
     "elapsed": 851,
     "status": "ok",
     "timestamp": 1521071411292,
     "user": {
      "displayName": "Ronaldo da Silva Alves Batista",
      "photoUrl": "https://lh3.googleusercontent.com/a/default-user=s128",
      "userId": "109737138984022669792"
     },
     "user_tz": 180
    },
    "id": "OuVfalUNfqVI",
    "outputId": "8345fde5-e58f-44a7-d02e-cfd269ef4157"
   },
   "outputs": [
    {
     "name": "stdout",
     "output_type": "stream",
     "text": [
      "[nltk_data] Downloading package stopwords to\n",
      "[nltk_data]     /home/ronaldo/nltk_data...\n",
      "[nltk_data]   Package stopwords is already up-to-date!\n"
     ]
    },
    {
     "data": {
      "text/html": [
       "<script>requirejs.config({paths: { 'plotly': ['https://cdn.plot.ly/plotly-latest.min']},});if(!window.Plotly) {{require(['plotly'],function(plotly) {window.Plotly=plotly;});}}</script>"
      ],
      "text/vnd.plotly.v1+html": [
       "<script>requirejs.config({paths: { 'plotly': ['https://cdn.plot.ly/plotly-latest.min']},});if(!window.Plotly) {{require(['plotly'],function(plotly) {window.Plotly=plotly;});}}</script>"
      ]
     },
     "metadata": {},
     "output_type": "display_data"
    }
   ],
   "source": [
    "# Basic Libraries\n",
    "import numpy as np\n",
    "import pandas as pd\n",
    "import os\n",
    "import gc\n",
    "import datetime\n",
    "import pandas_profiling as pp\n",
    "from collections import Counter\n",
    "\n",
    "# Stats and other\n",
    "from scipy import stats\n",
    "from scipy.sparse import hstack, csr_matrix\n",
    "\n",
    "# CV and K-Fold\n",
    "from sklearn.model_selection import KFold, StratifiedKFold\n",
    "# Metric\n",
    "from sklearn.metrics import roc_auc_score\n",
    "# Preprocessing\n",
    "from sklearn.preprocessing import LabelEncoder, OneHotEncoder, StandardScaler\n",
    "\n",
    "# To visualize progress\n",
    "from tqdm import tqdm_notebook\n",
    "\n",
    "\n",
    "# nlp Libraries\n",
    "\n",
    "import nltk\n",
    "nltk.download('stopwords')\n",
    "from wordcloud import WordCloud\n",
    "from nltk.corpus import stopwords\n",
    "from nltk.util import ngrams\n",
    "from sklearn.feature_extraction.text import TfidfVectorizer\n",
    "stop = set(stopwords.words('english'))\n",
    "\n",
    "# Boosted tree libraries\n",
    "import xgboost as xgb\n",
    "import lightgbm as lgb\n",
    "\n",
    "# To make output stable across runs\n",
    "np.random.seed(42)\n",
    "\n",
    "random_state=42\n",
    "\n",
    "# To plot pretty figures\n",
    "import matplotlib.pyplot as plt\n",
    "import seaborn as sns\n",
    "plt.rcParams['axes.labelsize'] = 14\n",
    "plt.rcParams['xtick.labelsize'] = 12\n",
    "plt.rcParams['ytick.labelsize'] = 12\n",
    "\n",
    "# Plot maps\n",
    "import plotly.offline as py\n",
    "py.init_notebook_mode(connected=True)\n",
    "import plotly.graph_objs as go\n",
    "import plotly.tools as tls\n",
    "\n",
    "pd.options.mode.chained_assignment = None\n",
    "pd.options.display.max_columns = 999\n",
    "\n",
    "from IPython.display import display  # Allows the use of display() for DataFrames\n",
    "\n",
    "%reload_ext autoreload\n",
    "%autoreload 2\n",
    "%matplotlib inline"
   ]
  },
  {
   "cell_type": "markdown",
   "metadata": {
    "colab_type": "text",
    "id": "a5PoAfPSfqVQ"
   },
   "source": [
    "### Load Data"
   ]
  },
  {
   "cell_type": "code",
   "execution_count": 4,
   "metadata": {
    "ExecuteTime": {
     "end_time": "2018-03-23T11:21:41.943040Z",
     "start_time": "2018-03-23T11:21:27.655063Z"
    },
    "colab": {
     "autoexec": {
      "startup": false,
      "wait_interval": 0
     }
    },
    "colab_type": "code",
    "id": "EuWB7GL0fqVR"
   },
   "outputs": [],
   "source": [
    "PATH = \"data/\"\n",
    "\n",
    "# Load Data\n",
    "dtype = {\n",
    "    'id': str,\n",
    "    'teacher_id': str,\n",
    "    'teacher_prefix': str,\n",
    "    'school_state': str,\n",
    "    'project_submitted_datetime': str,\n",
    "    'project_grade_category': str,\n",
    "    'project_subject_categories': str,\n",
    "    'project_subject_subcategories': str,\n",
    "    'project_title': str,\n",
    "    'project_essay_1': str,\n",
    "    'project_essay_2': str,\n",
    "    'project_essay_3': str,\n",
    "    'project_essay_4': str,\n",
    "    'project_resource_summary': str,\n",
    "    'teacher_number_of_previously_posted_projects': int,\n",
    "    'project_is_approved': np.uint8,\n",
    "}\n",
    "\n",
    "# Read data and store in DataFrame.\n",
    "train = pd.read_csv(os.path.join(PATH, 'train.csv'),\n",
    "                    dtype=dtype,\n",
    "                    parse_dates=['project_submitted_datetime'],\n",
    "                    low_memory=True)\n",
    "\n",
    "test = pd.read_csv(os.path.join(PATH, 'test.csv'),\n",
    "                   dtype=dtype,\n",
    "                   parse_dates=['project_submitted_datetime'],\n",
    "                   low_memory=True)\n",
    "resources = pd.read_csv(os.path.join(PATH, 'resources.csv'))\n",
    "sample_submit = pd.read_csv(os.path.join(PATH, 'sample_submission.csv'))"
   ]
  },
  {
   "cell_type": "markdown",
   "metadata": {
    "colab_type": "text",
    "id": "2ebq3r0lfqVM"
   },
   "source": [
    "**Note:** *The following couple of cells on section 3 is an adaptation from the quick-start guide provided by the Competition Organizers for a quick initial EDA and to set a benchmark.*\n",
    "\n",
    "Reference: https://www.kaggle.com/skleinfeld/getting-started-with-the-donorschoose-data-set/notebook"
   ]
  },
  {
   "cell_type": "markdown",
   "metadata": {
    "colab_type": "text",
    "id": "QCIdwZJ9fqVN"
   },
   "source": [
    "## Overview: File Structure and Content\n",
    "\n",
    "### Training and Test Data\n",
    "\n",
    "The goal of the DonorsChoose competition is to build a model that can accurately predict whether a teacher's project proposal was accepted, based on the data they provided in their application. The `train.csv` data set provided by DonorsChoose contains the following features:\n",
    "\n",
    "Feature | Description | Data Type\n",
    "----------|---------------|------------\n",
    "**`project_id`** | A unique identifier for the proposed project. **Example:** `p036502`   | string\n",
    "**`project_title`**    | Title of the project. **Examples:**<br><ul><li><code>Art Will Make You Happy!</code></li><li><code>First Grade Fun</code></li></ul> | string\n",
    "**`project_grade_category`** | Grade level of students for which the project is targeted. One of the following enumerated values: <br/><ul><li><code>Grades PreK-2</code></li><li><code>Grades 3-5</code></li><li><code>Grades 6-8</code></li><li><code>Grades 9-12</code></li></ul>  | string\n",
    " **`project_subject_categories`** | One or more (comma-separated) subject categories for the project from the following enumerated list of values:  <br/><ul><li><code>Applied Learning</code></li><li><code>Care &amp; Hunger</code></li><li><code>Health &amp; Sports</code></li><li><code>History &amp; Civics</code></li><li><code>Literacy &amp; Language</code></li><li><code>Math &amp; Science</code></li><li><code>Music &amp; The Arts</code></li><li><code>Special Needs</code></li><li><code>Warmth</code></li></ul><br/> **Examples:** <br/><ul><li><code>Music &amp; The Arts</code></li><li><code>Literacy &amp; Language, Math &amp; Science</code></li>  | string\n",
    "  **`school_state`** | State where school is located ([Two-letter U.S. postal code](https://en.wikipedia.org/wiki/List_of_U.S._state_abbreviations#Postal_codes)). **Example:** `WY`| string\n",
    "**`project_subject_subcategories`** | One or more (comma-separated) subject subcategories for the project. **Examples:** <br/><ul><li><code>Literacy</code></li><li><code>Literature &amp; Writing, Social Sciences</code></li></ul> | string\n",
    "**`project_resource_summary`** | An explanation of the resources needed for the project. **Example:** <br/><ul><li><code>My students need hands on literacy materials to manage sensory needs!</code</li></ul> | string\n",
    "**`project_essay_1`**    | First paragraph of application essay.<sup>*</sup>  | string\n",
    "**`project_essay_2`**    | Second paragraph of application essay.<sup>*</sup> | string\n",
    "**`project_essay_3`**    | Third paragraph of application essay.<sup>*</sup> | string\n",
    "**`project_essay_4`**    | Fourth paragraph of application essay.<sup>*</sup> | string\n",
    "**`project_submitted_datetime`** | Datetime when project application was submitted. **Example:** `2016-04-28 12:43:56.245`   | int64\n",
    "**`teacher_id`** | A unique identifier for the teacher of the proposed project. **Example:** `bdf8baa8fedef6bfeec7ae4ff1c15c56`  | string\n",
    "**`teacher_prefix`** | Teacher's title. One of the following enumerated values: <br/><ul><li><code>nan</code></li><li><code>Dr.</code></li><li><code>Mr.</code></li><li><code>Mrs.</code></li><li><code>Ms.</code></li><li><code>Teacher.</code></li></ul>  | string\n",
    "**`teacher_number_of_previously_posted_projects`** | Number of project applications previously submitted by the same teacher. **Example:** `2` | int64\n",
    "\n",
    "<sup>\\*</sup> See **A Note on Essay Data** for some important details about changes to the application essay prompts in February 2010 that affect the values of `project_essay_1`, `project_essay_2`, `project_essay_3`, and `project_essay_4`.\n",
    "\n",
    "The data set contains the following label (the value you will attempt to predict):\n",
    "\n",
    "Label | Description | Data Type\n",
    "----------|---------------|------------\n",
    "`project_is_approved` | A binary flag indicating whether DonorsChoose approved the project. A value of `0` indicates the project was not approved, and a value of `1` indicates the project was approved. | int64"
   ]
  },
  {
   "cell_type": "code",
   "execution_count": 5,
   "metadata": {
    "ExecuteTime": {
     "end_time": "2018-03-23T11:21:42.334516Z",
     "start_time": "2018-03-23T11:21:41.946363Z"
    }
   },
   "outputs": [
    {
     "name": "stdout",
     "output_type": "stream",
     "text": [
      "<class 'pandas.core.frame.DataFrame'>\n",
      "RangeIndex: 182080 entries, 0 to 182079\n",
      "Data columns (total 16 columns):\n",
      "id                                              182080 non-null object\n",
      "teacher_id                                      182080 non-null object\n",
      "teacher_prefix                                  182076 non-null object\n",
      "school_state                                    182080 non-null object\n",
      "project_submitted_datetime                      182080 non-null datetime64[ns]\n",
      "project_grade_category                          182080 non-null object\n",
      "project_subject_categories                      182080 non-null object\n",
      "project_subject_subcategories                   182080 non-null object\n",
      "project_title                                   182080 non-null object\n",
      "project_essay_1                                 182080 non-null object\n",
      "project_essay_2                                 182080 non-null object\n",
      "project_essay_3                                 6374 non-null object\n",
      "project_essay_4                                 6374 non-null object\n",
      "project_resource_summary                        182080 non-null object\n",
      "teacher_number_of_previously_posted_projects    182080 non-null int64\n",
      "project_is_approved                             182080 non-null uint8\n",
      "dtypes: datetime64[ns](1), int64(1), object(13), uint8(1)\n",
      "memory usage: 21.0+ MB\n"
     ]
    },
    {
     "data": {
      "text/plain": [
       "None"
      ]
     },
     "metadata": {},
     "output_type": "display_data"
    }
   ],
   "source": [
    "display(train.info(null_counts=True))"
   ]
  },
  {
   "cell_type": "markdown",
   "metadata": {
    "colab_type": "text",
    "id": "AXc7EItwfqVO"
   },
   "source": [
    "#### A Note on Essay Data\n",
    "\n",
    "Prior to February 18th, 2010, for their DonorsChoose application, teachers had the option of writing either a free-form essay (split into `project_essay_1`, `project_essay_2`, `project_essay_3`, and `project_essay_4`) or writing free-form answers to the following four prompts:\n",
    "\n",
    "1. Introduce your classroom (`project_essay_1`)\n",
    "2. Describe the situation (`project_essay_2`)\n",
    "3. Describe the solution (`project_essay_3`)\n",
    "4. Empower your donors (`project_essay_4`) \n",
    "\n",
    "Effective February 18th, 2010, the option to write a free-form essay was removed, and all teachers were required to respond to the following four prompts:\n",
    "\n",
    "1. Open with the challenge facing your students (`project_essay_1`)\n",
    "2. Tell us more about your students (`project_essay_2`)\n",
    "3. Inspire your potential donors with an overview of the resources you're requesting (`project_essay_3`)\n",
    "4. Close by sharing why your project is so important (`project_essay_4`) \n",
    "\n",
    "When using essay data from `project_essay_1`, `project_essay_2`, `project_essay_3`, and `project_essay_4`, make sure to take into account that the nature of the text content in these fields is different for examples with a `project_submitted_datetime` prior to February 18th, 2010."
   ]
  },
  {
   "cell_type": "markdown",
   "metadata": {
    "colab_type": "text",
    "id": "JnYWb5GCfqVX"
   },
   "source": [
    "List all the fields in the data set:"
   ]
  },
  {
   "cell_type": "code",
   "execution_count": 6,
   "metadata": {
    "ExecuteTime": {
     "end_time": "2018-03-23T11:21:42.439402Z",
     "start_time": "2018-03-23T11:21:42.340184Z"
    }
   },
   "outputs": [
    {
     "data": {
      "text/html": [
       "<div>\n",
       "<style scoped>\n",
       "    .dataframe tbody tr th:only-of-type {\n",
       "        vertical-align: middle;\n",
       "    }\n",
       "\n",
       "    .dataframe tbody tr th {\n",
       "        vertical-align: top;\n",
       "    }\n",
       "\n",
       "    .dataframe thead th {\n",
       "        text-align: right;\n",
       "    }\n",
       "</style>\n",
       "<table border=\"1\" class=\"dataframe\">\n",
       "  <thead>\n",
       "    <tr style=\"text-align: right;\">\n",
       "      <th></th>\n",
       "      <th>id</th>\n",
       "      <th>teacher_id</th>\n",
       "      <th>teacher_prefix</th>\n",
       "      <th>school_state</th>\n",
       "      <th>project_submitted_datetime</th>\n",
       "      <th>project_grade_category</th>\n",
       "      <th>project_subject_categories</th>\n",
       "      <th>project_subject_subcategories</th>\n",
       "      <th>project_title</th>\n",
       "      <th>project_essay_1</th>\n",
       "      <th>project_essay_2</th>\n",
       "      <th>project_essay_3</th>\n",
       "      <th>project_essay_4</th>\n",
       "      <th>project_resource_summary</th>\n",
       "      <th>teacher_number_of_previously_posted_projects</th>\n",
       "      <th>project_is_approved</th>\n",
       "    </tr>\n",
       "  </thead>\n",
       "  <tbody>\n",
       "    <tr>\n",
       "      <th>0</th>\n",
       "      <td>p036502</td>\n",
       "      <td>484aaf11257089a66cfedc9461c6bd0a</td>\n",
       "      <td>Ms.</td>\n",
       "      <td>NV</td>\n",
       "      <td>2016-11-18 14:45:59</td>\n",
       "      <td>Grades PreK-2</td>\n",
       "      <td>Literacy &amp; Language</td>\n",
       "      <td>Literacy</td>\n",
       "      <td>Super Sight Word Centers</td>\n",
       "      <td>Most of my kindergarten students come from low...</td>\n",
       "      <td>I currently have a differentiated sight word c...</td>\n",
       "      <td>NaN</td>\n",
       "      <td>NaN</td>\n",
       "      <td>My students need 6 Ipod Nano's to create and d...</td>\n",
       "      <td>26</td>\n",
       "      <td>1</td>\n",
       "    </tr>\n",
       "    <tr>\n",
       "      <th>1</th>\n",
       "      <td>p039565</td>\n",
       "      <td>df72a3ba8089423fa8a94be88060f6ed</td>\n",
       "      <td>Mrs.</td>\n",
       "      <td>GA</td>\n",
       "      <td>2017-04-26 15:57:28</td>\n",
       "      <td>Grades 3-5</td>\n",
       "      <td>Music &amp; The Arts, Health &amp; Sports</td>\n",
       "      <td>Performing Arts, Team Sports</td>\n",
       "      <td>Keep Calm and Dance On</td>\n",
       "      <td>Our elementary school is a culturally rich sch...</td>\n",
       "      <td>We strive to provide our diverse population of...</td>\n",
       "      <td>NaN</td>\n",
       "      <td>NaN</td>\n",
       "      <td>My students need matching shirts to wear for d...</td>\n",
       "      <td>1</td>\n",
       "      <td>0</td>\n",
       "    </tr>\n",
       "    <tr>\n",
       "      <th>2</th>\n",
       "      <td>p233823</td>\n",
       "      <td>a9b876a9252e08a55e3d894150f75ba3</td>\n",
       "      <td>Ms.</td>\n",
       "      <td>UT</td>\n",
       "      <td>2017-01-01 22:57:44</td>\n",
       "      <td>Grades 3-5</td>\n",
       "      <td>Math &amp; Science, Literacy &amp; Language</td>\n",
       "      <td>Applied Sciences, Literature &amp; Writing</td>\n",
       "      <td>Lets 3Doodle to Learn</td>\n",
       "      <td>Hello;\\r\\nMy name is Mrs. Brotherton. I teach ...</td>\n",
       "      <td>We are looking to add some 3Doodler to our cla...</td>\n",
       "      <td>NaN</td>\n",
       "      <td>NaN</td>\n",
       "      <td>My students need the 3doodler. We are an SEM s...</td>\n",
       "      <td>5</td>\n",
       "      <td>1</td>\n",
       "    </tr>\n",
       "    <tr>\n",
       "      <th>3</th>\n",
       "      <td>p185307</td>\n",
       "      <td>525fdbb6ec7f538a48beebaa0a51b24f</td>\n",
       "      <td>Mr.</td>\n",
       "      <td>NC</td>\n",
       "      <td>2016-08-12 15:42:11</td>\n",
       "      <td>Grades 3-5</td>\n",
       "      <td>Health &amp; Sports</td>\n",
       "      <td>Health &amp; Wellness</td>\n",
       "      <td>\\\"Kid Inspired\\\" Equipment to Increase Activit...</td>\n",
       "      <td>My students are the greatest students but are ...</td>\n",
       "      <td>The student's project which is totally \\\"kid-i...</td>\n",
       "      <td>NaN</td>\n",
       "      <td>NaN</td>\n",
       "      <td>My students need balls and other activity equi...</td>\n",
       "      <td>16</td>\n",
       "      <td>0</td>\n",
       "    </tr>\n",
       "    <tr>\n",
       "      <th>4</th>\n",
       "      <td>p013780</td>\n",
       "      <td>a63b5547a7239eae4c1872670848e61a</td>\n",
       "      <td>Mr.</td>\n",
       "      <td>CA</td>\n",
       "      <td>2016-08-06 09:09:11</td>\n",
       "      <td>Grades 6-8</td>\n",
       "      <td>Health &amp; Sports</td>\n",
       "      <td>Health &amp; Wellness</td>\n",
       "      <td>We need clean water for our culinary arts class!</td>\n",
       "      <td>My students are athletes and students who are ...</td>\n",
       "      <td>For some reason in our kitchen the water comes...</td>\n",
       "      <td>NaN</td>\n",
       "      <td>NaN</td>\n",
       "      <td>My students need a water filtration system for...</td>\n",
       "      <td>42</td>\n",
       "      <td>1</td>\n",
       "    </tr>\n",
       "  </tbody>\n",
       "</table>\n",
       "</div>"
      ],
      "text/plain": [
       "        id                        teacher_id teacher_prefix school_state  \\\n",
       "0  p036502  484aaf11257089a66cfedc9461c6bd0a            Ms.           NV   \n",
       "1  p039565  df72a3ba8089423fa8a94be88060f6ed           Mrs.           GA   \n",
       "2  p233823  a9b876a9252e08a55e3d894150f75ba3            Ms.           UT   \n",
       "3  p185307  525fdbb6ec7f538a48beebaa0a51b24f            Mr.           NC   \n",
       "4  p013780  a63b5547a7239eae4c1872670848e61a            Mr.           CA   \n",
       "\n",
       "  project_submitted_datetime project_grade_category  \\\n",
       "0        2016-11-18 14:45:59          Grades PreK-2   \n",
       "1        2017-04-26 15:57:28             Grades 3-5   \n",
       "2        2017-01-01 22:57:44             Grades 3-5   \n",
       "3        2016-08-12 15:42:11             Grades 3-5   \n",
       "4        2016-08-06 09:09:11             Grades 6-8   \n",
       "\n",
       "            project_subject_categories  \\\n",
       "0                  Literacy & Language   \n",
       "1    Music & The Arts, Health & Sports   \n",
       "2  Math & Science, Literacy & Language   \n",
       "3                      Health & Sports   \n",
       "4                      Health & Sports   \n",
       "\n",
       "            project_subject_subcategories  \\\n",
       "0                                Literacy   \n",
       "1            Performing Arts, Team Sports   \n",
       "2  Applied Sciences, Literature & Writing   \n",
       "3                       Health & Wellness   \n",
       "4                       Health & Wellness   \n",
       "\n",
       "                                       project_title  \\\n",
       "0                           Super Sight Word Centers   \n",
       "1                             Keep Calm and Dance On   \n",
       "2                              Lets 3Doodle to Learn   \n",
       "3  \\\"Kid Inspired\\\" Equipment to Increase Activit...   \n",
       "4   We need clean water for our culinary arts class!   \n",
       "\n",
       "                                     project_essay_1  \\\n",
       "0  Most of my kindergarten students come from low...   \n",
       "1  Our elementary school is a culturally rich sch...   \n",
       "2  Hello;\\r\\nMy name is Mrs. Brotherton. I teach ...   \n",
       "3  My students are the greatest students but are ...   \n",
       "4  My students are athletes and students who are ...   \n",
       "\n",
       "                                     project_essay_2 project_essay_3  \\\n",
       "0  I currently have a differentiated sight word c...             NaN   \n",
       "1  We strive to provide our diverse population of...             NaN   \n",
       "2  We are looking to add some 3Doodler to our cla...             NaN   \n",
       "3  The student's project which is totally \\\"kid-i...             NaN   \n",
       "4  For some reason in our kitchen the water comes...             NaN   \n",
       "\n",
       "  project_essay_4                           project_resource_summary  \\\n",
       "0             NaN  My students need 6 Ipod Nano's to create and d...   \n",
       "1             NaN  My students need matching shirts to wear for d...   \n",
       "2             NaN  My students need the 3doodler. We are an SEM s...   \n",
       "3             NaN  My students need balls and other activity equi...   \n",
       "4             NaN  My students need a water filtration system for...   \n",
       "\n",
       "   teacher_number_of_previously_posted_projects  project_is_approved  \n",
       "0                                            26                    1  \n",
       "1                                             1                    0  \n",
       "2                                             5                    1  \n",
       "3                                            16                    0  \n",
       "4                                            42                    1  "
      ]
     },
     "metadata": {},
     "output_type": "display_data"
    }
   ],
   "source": [
    "display(train.head(5))"
   ]
  },
  {
   "cell_type": "markdown",
   "metadata": {
    "colab_type": "text",
    "id": "ZSL5_0JJfqVh"
   },
   "source": [
    "#### Let's take a closer look at the distribution, statistics and various counts on the data:\n",
    "\n",
    "*Huge thanks to [Andrew Lukyanenko](https://www.kaggle.com/artgor) to present the library [`pandas_profiling`](https://github.com/pandas-profiling/pandas-profiling) which handles automatically a lot of the EDA necessary for all ML projects*\n"
   ]
  },
  {
   "cell_type": "code",
   "execution_count": 7,
   "metadata": {
    "ExecuteTime": {
     "end_time": "2018-03-23T11:21:45.071121Z",
     "start_time": "2018-03-23T11:21:42.442909Z"
    }
   },
   "outputs": [
    {
     "name": "stdout",
     "output_type": "stream",
     "text": [
      "Training Data: \n",
      "\n",
      "id | 182080 | object\n",
      "teacher_id | 104414 | object\n",
      "teacher_prefix | 6 | object\n",
      "school_state | 51 | object\n",
      "project_submitted_datetime | 180439 | datetime64[ns]\n",
      "project_grade_category | 4 | object\n",
      "project_subject_categories | 51 | object\n",
      "project_subject_subcategories | 407 | object\n",
      "project_title | 164282 | object\n",
      "project_essay_1 | 147689 | object\n",
      "project_essay_2 | 180984 | object\n",
      "project_essay_3 | 6360 | object\n",
      "project_essay_4 | 6337 | object\n",
      "project_resource_summary | 179730 | object\n",
      "teacher_number_of_previously_posted_projects | 401 | int64\n",
      "project_is_approved | 2 | uint8\n",
      "================================================================================\n",
      "Test Data: \n",
      "\n",
      "id | 78035 | object\n",
      "teacher_id | 55508 | object\n",
      "teacher_prefix | 6 | object\n",
      "school_state | 51 | object\n",
      "project_submitted_datetime | 77646 | datetime64[ns]\n",
      "project_grade_category | 4 | object\n",
      "project_subject_categories | 51 | object\n",
      "project_subject_subcategories | 390 | object\n",
      "project_title | 72755 | object\n",
      "project_essay_1 | 69435 | object\n",
      "project_essay_2 | 77826 | object\n",
      "project_essay_3 | 2703 | object\n",
      "project_essay_4 | 2693 | object\n",
      "project_resource_summary | 77531 | object\n",
      "teacher_number_of_previously_posted_projects | 352 | int64\n"
     ]
    }
   ],
   "source": [
    "def unique_col_values(df):\n",
    "    for column in df:\n",
    "        print(\"{} | {} | {}\".format(df[column].name, \n",
    "                                    len(df[column].unique()),\n",
    "                                    df[column].dtype))\n",
    "\n",
    "print(\"Training Data: \\n\")\n",
    "unique_col_values(train)\n",
    "print(80 * \"=\")\n",
    "print(\"Test Data: \\n\")\n",
    "unique_col_values(test)\n",
    "\n",
    "# TODO: Distributions"
   ]
  },
  {
   "cell_type": "markdown",
   "metadata": {},
   "source": [
    "Additional Observations:\n",
    "\n",
    " * There is about 182k observations in our training set and 78k in our test set\n",
    " * **Teachers and School Information**: We have three categorical variables about the teachers and the school`teacher_id` uniquely identify an individual teacher anonimously, `teacher_prefix` is probably an important categorical feature identifying gender and `school_state` is also categorical\n",
    " * **Project Information**: 3 Categorical Variables describing the grade and subject and two textual, `project_title` and `project_resource_summary`. The former doesn't seem to be very useful in predicting the outcome, but the latter do, let's see.\n",
    " * **Project Essay**: This 4 features are the proposal's core and probably the most important variables. We'll need to make use of some nlp processing to make those useful.\n",
    " * The only numerical variable is `teacher_number_of_previously_posted_projects`\n",
    " "
   ]
  },
  {
   "cell_type": "markdown",
   "metadata": {},
   "source": [
    "### Resources Data\n",
    "\n",
    "Additionally, the `resources.csv` data set provides more data about the resources required for each project. Each line in this file represents a resource required by a project:\n",
    "\n",
    "Feature | Description | Data Type\n",
    "----------|---------------|------------\n",
    "**`id`** | A `project_id` value from the `train.csv` file.  **Example:** `p036502`   | string\n",
    "**`description`** | Desciption of the resource. **Example:** `Tenor Saxophone Reeds, Box of 25`   | string\n",
    "**`quantity`** | Quantity of the resource required. **Example:** `3`   | string\n",
    "**`price`** | Price of the resource required. **Example:** `9.95`   | string\n",
    "\n",
    "**Note:** Many projects require multiple resources. The `id` value corresponds to a `project_id` in train.csv, so you use it as a key to retrieve all resources needed for a project:"
   ]
  },
  {
   "cell_type": "code",
   "execution_count": 8,
   "metadata": {
    "ExecuteTime": {
     "end_time": "2018-03-23T11:21:46.283971Z",
     "start_time": "2018-03-23T11:21:45.075281Z"
    }
   },
   "outputs": [
    {
     "name": "stdout",
     "output_type": "stream",
     "text": [
      "Resources Data: \n",
      "\n",
      "id | 260115 | object\n",
      "description | 332929 | object\n",
      "quantity | 208 | int64\n",
      "price | 26890 | float64\n"
     ]
    }
   ],
   "source": [
    "print(\"Resources Data: \\n\")\n",
    "unique_col_values(resources)"
   ]
  },
  {
   "cell_type": "markdown",
   "metadata": {},
   "source": [
    "## Individual Feature Visualizations "
   ]
  },
  {
   "cell_type": "markdown",
   "metadata": {},
   "source": [
    "### Time and Space\n",
    "\n",
    "Let's visualize the number of proposals accros the various US states.\n",
    "\n",
    "Code for creating map from borrowed from: https://www.kaggle.com/hoonkeng/how-to-get-81-gru-att-lgbm-tf-idf-eda"
   ]
  },
  {
   "cell_type": "code",
   "execution_count": 9,
   "metadata": {
    "ExecuteTime": {
     "end_time": "2018-03-23T11:21:46.447636Z",
     "start_time": "2018-03-23T11:21:46.288032Z"
    }
   },
   "outputs": [
    {
     "data": {
      "text/html": [
       "<div>\n",
       "<style scoped>\n",
       "    .dataframe tbody tr th:only-of-type {\n",
       "        vertical-align: middle;\n",
       "    }\n",
       "\n",
       "    .dataframe tbody tr th {\n",
       "        vertical-align: top;\n",
       "    }\n",
       "\n",
       "    .dataframe thead th {\n",
       "        text-align: right;\n",
       "    }\n",
       "</style>\n",
       "<table border=\"1\" class=\"dataframe\">\n",
       "  <thead>\n",
       "    <tr style=\"text-align: right;\">\n",
       "      <th></th>\n",
       "      <th>index</th>\n",
       "      <th>school_state</th>\n",
       "      <th>total_submissions</th>\n",
       "    </tr>\n",
       "  </thead>\n",
       "  <tbody>\n",
       "    <tr>\n",
       "      <th>0</th>\n",
       "      <td>43</td>\n",
       "      <td>AK</td>\n",
       "      <td>557</td>\n",
       "    </tr>\n",
       "    <tr>\n",
       "      <th>1</th>\n",
       "      <td>21</td>\n",
       "      <td>AL</td>\n",
       "      <td>2955</td>\n",
       "    </tr>\n",
       "    <tr>\n",
       "      <th>2</th>\n",
       "      <td>32</td>\n",
       "      <td>AR</td>\n",
       "      <td>1757</td>\n",
       "    </tr>\n",
       "    <tr>\n",
       "      <th>3</th>\n",
       "      <td>18</td>\n",
       "      <td>AZ</td>\n",
       "      <td>3614</td>\n",
       "    </tr>\n",
       "    <tr>\n",
       "      <th>4</th>\n",
       "      <td>0</td>\n",
       "      <td>CA</td>\n",
       "      <td>25695</td>\n",
       "    </tr>\n",
       "  </tbody>\n",
       "</table>\n",
       "</div>"
      ],
      "text/plain": [
       "   index school_state  total_submissions\n",
       "0     43           AK                557\n",
       "1     21           AL               2955\n",
       "2     32           AR               1757\n",
       "3     18           AZ               3614\n",
       "4      0           CA              25695"
      ]
     },
     "execution_count": 9,
     "metadata": {},
     "output_type": "execute_result"
    }
   ],
   "source": [
    "# Create a DataFrame to store the sum of submissions by state \n",
    "\n",
    "submitted_by_state = train['school_state'].value_counts().reset_index()\n",
    "submitted_by_state.columns = ['school_state', \"total_submissions\"]\n",
    "submitted_by_state = submitted_by_state.sort_values('school_state').reset_index()\n",
    "submitted_by_state.head()"
   ]
  },
  {
   "cell_type": "code",
   "execution_count": 10,
   "metadata": {
    "ExecuteTime": {
     "end_time": "2018-03-23T11:21:46.541929Z",
     "start_time": "2018-03-23T11:21:46.456451Z"
    },
    "cell_style": "center"
   },
   "outputs": [
    {
     "data": {
      "text/html": [
       "<div>\n",
       "<style scoped>\n",
       "    .dataframe tbody tr th:only-of-type {\n",
       "        vertical-align: middle;\n",
       "    }\n",
       "\n",
       "    .dataframe tbody tr th {\n",
       "        vertical-align: top;\n",
       "    }\n",
       "\n",
       "    .dataframe thead th {\n",
       "        text-align: right;\n",
       "    }\n",
       "</style>\n",
       "<table border=\"1\" class=\"dataframe\">\n",
       "  <thead>\n",
       "    <tr style=\"text-align: right;\">\n",
       "      <th></th>\n",
       "      <th>index</th>\n",
       "      <th>school_state</th>\n",
       "      <th>project_is_approved</th>\n",
       "    </tr>\n",
       "  </thead>\n",
       "  <tbody>\n",
       "    <tr>\n",
       "      <th>0</th>\n",
       "      <td>0</td>\n",
       "      <td>AK</td>\n",
       "      <td>473.0</td>\n",
       "    </tr>\n",
       "    <tr>\n",
       "      <th>1</th>\n",
       "      <td>1</td>\n",
       "      <td>AL</td>\n",
       "      <td>2507.0</td>\n",
       "    </tr>\n",
       "    <tr>\n",
       "      <th>2</th>\n",
       "      <td>2</td>\n",
       "      <td>AR</td>\n",
       "      <td>1462.0</td>\n",
       "    </tr>\n",
       "    <tr>\n",
       "      <th>3</th>\n",
       "      <td>3</td>\n",
       "      <td>AZ</td>\n",
       "      <td>3042.0</td>\n",
       "    </tr>\n",
       "    <tr>\n",
       "      <th>4</th>\n",
       "      <td>4</td>\n",
       "      <td>CA</td>\n",
       "      <td>22006.0</td>\n",
       "    </tr>\n",
       "  </tbody>\n",
       "</table>\n",
       "</div>"
      ],
      "text/plain": [
       "   index school_state  project_is_approved\n",
       "0      0           AK                473.0\n",
       "1      1           AL               2507.0\n",
       "2      2           AR               1462.0\n",
       "3      3           AZ               3042.0\n",
       "4      4           CA              22006.0"
      ]
     },
     "execution_count": 10,
     "metadata": {},
     "output_type": "execute_result"
    }
   ],
   "source": [
    "# DataFrame to store the approved projects by state\n",
    "approved_by_state = train.groupby('school_state')['project_is_approved'].agg('sum').reset_index().sort_values('school_state').reset_index()\n",
    "approved_by_state.head()"
   ]
  },
  {
   "cell_type": "code",
   "execution_count": 11,
   "metadata": {
    "ExecuteTime": {
     "end_time": "2018-03-23T11:21:46.643632Z",
     "start_time": "2018-03-23T11:21:46.546180Z"
    }
   },
   "outputs": [
    {
     "data": {
      "application/vnd.plotly.v1+json": {
       "data": [
        {
         "autocolorscale": false,
         "colorbar": {
          "title": "Number of Proposals"
         },
         "colorscale": [
          [
           0,
           "rgb(242,240,247)"
          ],
          [
           0.2,
           "rgb(218,218,235)"
          ],
          [
           0.4,
           "rgb(188,189,220)"
          ],
          [
           0.6,
           "rgb(158,154,200)"
          ],
          [
           0.8,
           "rgb(117,107,177)"
          ],
          [
           1,
           "rgb(84,39,143)"
          ]
         ],
         "locationmode": "USA-states",
         "locations": [
          "AK",
          "AL",
          "AR",
          "AZ",
          "CA",
          "CO",
          "CT",
          "DC",
          "DE",
          "FL",
          "GA",
          "HI",
          "IA",
          "ID",
          "IL",
          "IN",
          "KS",
          "KY",
          "LA",
          "MA",
          "MD",
          "ME",
          "MI",
          "MN",
          "MO",
          "MS",
          "MT",
          "NC",
          "ND",
          "NE",
          "NH",
          "NJ",
          "NM",
          "NV",
          "NY",
          "OH",
          "OK",
          "OR",
          "PA",
          "RI",
          "SC",
          "SD",
          "TN",
          "TX",
          "UT",
          "VA",
          "VT",
          "WA",
          "WI",
          "WV",
          "WY"
         ],
         "marker": {
          "line": {
           "color": "rgb(255,255,255)",
           "width": 2
          }
         },
         "type": "choropleth",
         "z": [
          557,
          2955,
          1757,
          3614,
          25695,
          1887,
          2766,
          902,
          589,
          10359,
          6636,
          869,
          1079,
          1113,
          7332,
          4314,
          1060,
          2172,
          3946,
          4054,
          2480,
          827,
          5324,
          2055,
          4247,
          2222,
          384,
          8463,
          248,
          493,
          587,
          3671,
          916,
          2297,
          12157,
          4139,
          3829,
          2119,
          5093,
          475,
          6463,
          494,
          2836,
          12304,
          2814,
          3446,
          139,
          3903,
          2983,
          839,
          177
         ]
        }
       ],
       "layout": {
        "geo": {
         "lakecolor": "rgb(255, 255, 255)",
         "projection": {
          "type": "albers usa"
         },
         "scope": "usa",
         "showlakes": true
        },
        "title": "DonorChoose Submitted Proposals by State in US"
       }
      },
      "text/html": [
       "<div id=\"390ad9f3-3571-4866-a8b2-c196e16f1c16\" style=\"height: 525px; width: 100%;\" class=\"plotly-graph-div\"></div><script type=\"text/javascript\">require([\"plotly\"], function(Plotly) { window.PLOTLYENV=window.PLOTLYENV || {};window.PLOTLYENV.BASE_URL=\"https://plot.ly\";Plotly.newPlot(\"390ad9f3-3571-4866-a8b2-c196e16f1c16\", [{\"type\": \"choropleth\", \"colorscale\": [[0.0, \"rgb(242,240,247)\"], [0.2, \"rgb(218,218,235)\"], [0.4, \"rgb(188,189,220)\"], [0.6, \"rgb(158,154,200)\"], [0.8, \"rgb(117,107,177)\"], [1.0, \"rgb(84,39,143)\"]], \"autocolorscale\": false, \"locations\": [\"AK\", \"AL\", \"AR\", \"AZ\", \"CA\", \"CO\", \"CT\", \"DC\", \"DE\", \"FL\", \"GA\", \"HI\", \"IA\", \"ID\", \"IL\", \"IN\", \"KS\", \"KY\", \"LA\", \"MA\", \"MD\", \"ME\", \"MI\", \"MN\", \"MO\", \"MS\", \"MT\", \"NC\", \"ND\", \"NE\", \"NH\", \"NJ\", \"NM\", \"NV\", \"NY\", \"OH\", \"OK\", \"OR\", \"PA\", \"RI\", \"SC\", \"SD\", \"TN\", \"TX\", \"UT\", \"VA\", \"VT\", \"WA\", \"WI\", \"WV\", \"WY\"], \"z\": [557, 2955, 1757, 3614, 25695, 1887, 2766, 902, 589, 10359, 6636, 869, 1079, 1113, 7332, 4314, 1060, 2172, 3946, 4054, 2480, 827, 5324, 2055, 4247, 2222, 384, 8463, 248, 493, 587, 3671, 916, 2297, 12157, 4139, 3829, 2119, 5093, 475, 6463, 494, 2836, 12304, 2814, 3446, 139, 3903, 2983, 839, 177], \"locationmode\": \"USA-states\", \"marker\": {\"line\": {\"color\": \"rgb(255,255,255)\", \"width\": 2}}, \"colorbar\": {\"title\": \"Number of Proposals\"}}], {\"title\": \"DonorChoose Submitted Proposals by State in US\", \"geo\": {\"scope\": \"usa\", \"projection\": {\"type\": \"albers usa\"}, \"showlakes\": true, \"lakecolor\": \"rgb(255, 255, 255)\"}}, {\"showLink\": true, \"linkText\": \"Export to plot.ly\"})});</script>"
      ],
      "text/vnd.plotly.v1+html": [
       "<div id=\"390ad9f3-3571-4866-a8b2-c196e16f1c16\" style=\"height: 525px; width: 100%;\" class=\"plotly-graph-div\"></div><script type=\"text/javascript\">require([\"plotly\"], function(Plotly) { window.PLOTLYENV=window.PLOTLYENV || {};window.PLOTLYENV.BASE_URL=\"https://plot.ly\";Plotly.newPlot(\"390ad9f3-3571-4866-a8b2-c196e16f1c16\", [{\"type\": \"choropleth\", \"colorscale\": [[0.0, \"rgb(242,240,247)\"], [0.2, \"rgb(218,218,235)\"], [0.4, \"rgb(188,189,220)\"], [0.6, \"rgb(158,154,200)\"], [0.8, \"rgb(117,107,177)\"], [1.0, \"rgb(84,39,143)\"]], \"autocolorscale\": false, \"locations\": [\"AK\", \"AL\", \"AR\", \"AZ\", \"CA\", \"CO\", \"CT\", \"DC\", \"DE\", \"FL\", \"GA\", \"HI\", \"IA\", \"ID\", \"IL\", \"IN\", \"KS\", \"KY\", \"LA\", \"MA\", \"MD\", \"ME\", \"MI\", \"MN\", \"MO\", \"MS\", \"MT\", \"NC\", \"ND\", \"NE\", \"NH\", \"NJ\", \"NM\", \"NV\", \"NY\", \"OH\", \"OK\", \"OR\", \"PA\", \"RI\", \"SC\", \"SD\", \"TN\", \"TX\", \"UT\", \"VA\", \"VT\", \"WA\", \"WI\", \"WV\", \"WY\"], \"z\": [557, 2955, 1757, 3614, 25695, 1887, 2766, 902, 589, 10359, 6636, 869, 1079, 1113, 7332, 4314, 1060, 2172, 3946, 4054, 2480, 827, 5324, 2055, 4247, 2222, 384, 8463, 248, 493, 587, 3671, 916, 2297, 12157, 4139, 3829, 2119, 5093, 475, 6463, 494, 2836, 12304, 2814, 3446, 139, 3903, 2983, 839, 177], \"locationmode\": \"USA-states\", \"marker\": {\"line\": {\"color\": \"rgb(255,255,255)\", \"width\": 2}}, \"colorbar\": {\"title\": \"Number of Proposals\"}}], {\"title\": \"DonorChoose Submitted Proposals by State in US\", \"geo\": {\"scope\": \"usa\", \"projection\": {\"type\": \"albers usa\"}, \"showlakes\": true, \"lakecolor\": \"rgb(255, 255, 255)\"}}, {\"showLink\": true, \"linkText\": \"Export to plot.ly\"})});</script>"
      ]
     },
     "metadata": {},
     "output_type": "display_data"
    }
   ],
   "source": [
    "# Create map in plotly\n",
    "\n",
    "colorscale = [[0.0, 'rgb(242,240,247)'],[0.2, 'rgb(218,218,235)'],[0.4, 'rgb(188,189,220)'],\\\n",
    "              [0.6, 'rgb(158,154,200)'],[0.8, 'rgb(117,107,177)'],[1.0, 'rgb(84,39,143)']]\n",
    "\n",
    "line = {'color': 'rgb(255,255,255)', 'width': 2}\n",
    "\n",
    "data = [{'type': 'choropleth', \n",
    "         'colorscale' : colorscale, \n",
    "         'autocolorscale': False, \n",
    "         'locations': submitted_by_state['school_state'], \n",
    "         'z' : submitted_by_state['total_submissions'].astype(int),\n",
    "         'locationmode' : 'USA-states',\n",
    "         'marker' : dict(line = line),\n",
    "         'colorbar': dict(title = 'Number of Proposals')\n",
    "        }]\n",
    "\n",
    "layout = {'title': 'DonorChoose Submitted Proposals by State in US',\n",
    "          'geo': dict(scope='usa', \n",
    "                      projection=dict(type='albers usa'), \n",
    "                      showlakes=True, \n",
    "                      lakecolor='rgb(255, 255, 255)')}\n",
    "\n",
    "fig = dict(data=data, layout=layout)\n",
    "\n",
    "url = py.iplot(fig, filename='submission_distribution_by_state')"
   ]
  },
  {
   "cell_type": "markdown",
   "metadata": {},
   "source": [
    "* California (CA) has the biggest number of proposals `25.695k`, followed by Texas (TX) with `12.304k` and New York with `12.157k`    "
   ]
  },
  {
   "cell_type": "markdown",
   "metadata": {},
   "source": [
    "### Teachers"
   ]
  },
  {
   "cell_type": "code",
   "execution_count": 24,
   "metadata": {
    "ExecuteTime": {
     "end_time": "2018-03-23T11:32:55.018685Z",
     "start_time": "2018-03-23T11:32:54.184859Z"
    }
   },
   "outputs": [
    {
     "data": {
      "image/png": "[encoded data removed]",
      "text/plain": [
       "<Figure size 1152x720 with 1 Axes>"
      ]
     },
     "metadata": {},
     "output_type": "display_data"
    }
   ],
   "source": [
    "plt.figure(figsize=(16,10))\n",
    "\n",
    "\n",
    "\n",
    "plt.bar(submitted_by_state['school_state'], submitted_by_state['total_submissions'], tick_label=xlabel)\n",
    "\n",
    "plt.show()\n"
   ]
  },
  {
   "cell_type": "markdown",
   "metadata": {},
   "source": [
    "### Cross Validation"
   ]
  },
  {
   "cell_type": "markdown",
   "metadata": {},
   "source": [
    "Since we have a heavily unbalanced target variable. It's recommended to perform KFold cross validation with Stratification, since this way each fold preserves the percentages of sample in each class."
   ]
  },
  {
   "cell_type": "code",
   "execution_count": 13,
   "metadata": {
    "ExecuteTime": {
     "end_time": "2018-03-23T11:21:48.251330Z",
     "start_time": "2018-03-23T11:21:47.922833Z"
    }
   },
   "outputs": [
    {
     "ename": "TypeError",
     "evalue": "unhashable type: 'slice'",
     "output_type": "error",
     "traceback": [
      "\u001b[0;31m---------------------------------------------------------------------------\u001b[0m",
      "\u001b[0;31mTypeError\u001b[0m                                 Traceback (most recent call last)",
      "\u001b[0;32m<ipython-input-13-44a347eeb6b9>\u001b[0m in \u001b[0;36m<module>\u001b[0;34m()\u001b[0m\n\u001b[1;32m      4\u001b[0m \u001b[0meval_size\u001b[0m \u001b[0;34m=\u001b[0m \u001b[0;36m0.10\u001b[0m\u001b[0;34m\u001b[0m\u001b[0m\n\u001b[1;32m      5\u001b[0m \u001b[0;34m\u001b[0m\u001b[0m\n\u001b[0;32m----> 6\u001b[0;31m \u001b[0mX\u001b[0m\u001b[0;34m,\u001b[0m \u001b[0my\u001b[0m \u001b[0;34m=\u001b[0m \u001b[0mtrain\u001b[0m\u001b[0;34m[\u001b[0m\u001b[0;34m:\u001b[0m\u001b[0;34m,\u001b[0m\u001b[0;34m:\u001b[0m\u001b[0;34m-\u001b[0m\u001b[0;36m1\u001b[0m\u001b[0;34m]\u001b[0m\u001b[0;34m,\u001b[0m \u001b[0mtrain\u001b[0m\u001b[0;34m[\u001b[0m\u001b[0;34m:\u001b[0m\u001b[0;34m,\u001b[0m\u001b[0;34m-\u001b[0m\u001b[0;36m1\u001b[0m\u001b[0;34m]\u001b[0m \u001b[0;34m.\u001b[0m\u001b[0mdrop\u001b[0m\u001b[0;34m(\u001b[0m\u001b[0;34m'project_is_approved'\u001b[0m\u001b[0;34m,\u001b[0m \u001b[0maxis\u001b[0m\u001b[0;34m=\u001b[0m\u001b[0;36m1\u001b[0m\u001b[0;34m)\u001b[0m\u001b[0;34m\u001b[0m\u001b[0m\n\u001b[0m\u001b[1;32m      7\u001b[0m \u001b[0;34m\u001b[0m\u001b[0m\n\u001b[1;32m      8\u001b[0m classifier = svm.SVC(kernel='rbf', probability=True,\n",
      "\u001b[0;32m~/anaconda3/envs/fastai/lib/python3.6/site-packages/pandas/core/frame.py\u001b[0m in \u001b[0;36m__getitem__\u001b[0;34m(self, key)\u001b[0m\n\u001b[1;32m   2137\u001b[0m             \u001b[0;32mreturn\u001b[0m \u001b[0mself\u001b[0m\u001b[0;34m.\u001b[0m\u001b[0m_getitem_multilevel\u001b[0m\u001b[0;34m(\u001b[0m\u001b[0mkey\u001b[0m\u001b[0;34m)\u001b[0m\u001b[0;34m\u001b[0m\u001b[0m\n\u001b[1;32m   2138\u001b[0m         \u001b[0;32melse\u001b[0m\u001b[0;34m:\u001b[0m\u001b[0;34m\u001b[0m\u001b[0m\n\u001b[0;32m-> 2139\u001b[0;31m             \u001b[0;32mreturn\u001b[0m \u001b[0mself\u001b[0m\u001b[0;34m.\u001b[0m\u001b[0m_getitem_column\u001b[0m\u001b[0;34m(\u001b[0m\u001b[0mkey\u001b[0m\u001b[0;34m)\u001b[0m\u001b[0;34m\u001b[0m\u001b[0m\n\u001b[0m\u001b[1;32m   2140\u001b[0m \u001b[0;34m\u001b[0m\u001b[0m\n\u001b[1;32m   2141\u001b[0m     \u001b[0;32mdef\u001b[0m \u001b[0m_getitem_column\u001b[0m\u001b[0;34m(\u001b[0m\u001b[0mself\u001b[0m\u001b[0;34m,\u001b[0m \u001b[0mkey\u001b[0m\u001b[0;34m)\u001b[0m\u001b[0;34m:\u001b[0m\u001b[0;34m\u001b[0m\u001b[0m\n",
      "\u001b[0;32m~/anaconda3/envs/fastai/lib/python3.6/site-packages/pandas/core/frame.py\u001b[0m in \u001b[0;36m_getitem_column\u001b[0;34m(self, key)\u001b[0m\n\u001b[1;32m   2144\u001b[0m         \u001b[0;31m# get column\u001b[0m\u001b[0;34m\u001b[0m\u001b[0;34m\u001b[0m\u001b[0m\n\u001b[1;32m   2145\u001b[0m         \u001b[0;32mif\u001b[0m \u001b[0mself\u001b[0m\u001b[0;34m.\u001b[0m\u001b[0mcolumns\u001b[0m\u001b[0;34m.\u001b[0m\u001b[0mis_unique\u001b[0m\u001b[0;34m:\u001b[0m\u001b[0;34m\u001b[0m\u001b[0m\n\u001b[0;32m-> 2146\u001b[0;31m             \u001b[0;32mreturn\u001b[0m \u001b[0mself\u001b[0m\u001b[0;34m.\u001b[0m\u001b[0m_get_item_cache\u001b[0m\u001b[0;34m(\u001b[0m\u001b[0mkey\u001b[0m\u001b[0;34m)\u001b[0m\u001b[0;34m\u001b[0m\u001b[0m\n\u001b[0m\u001b[1;32m   2147\u001b[0m \u001b[0;34m\u001b[0m\u001b[0m\n\u001b[1;32m   2148\u001b[0m         \u001b[0;31m# duplicate columns & possible reduce dimensionality\u001b[0m\u001b[0;34m\u001b[0m\u001b[0;34m\u001b[0m\u001b[0m\n",
      "\u001b[0;32m~/anaconda3/envs/fastai/lib/python3.6/site-packages/pandas/core/generic.py\u001b[0m in \u001b[0;36m_get_item_cache\u001b[0;34m(self, item)\u001b[0m\n\u001b[1;32m   1838\u001b[0m         \u001b[0;34m\"\"\"Return the cached item, item represents a label indexer.\"\"\"\u001b[0m\u001b[0;34m\u001b[0m\u001b[0m\n\u001b[1;32m   1839\u001b[0m         \u001b[0mcache\u001b[0m \u001b[0;34m=\u001b[0m \u001b[0mself\u001b[0m\u001b[0;34m.\u001b[0m\u001b[0m_item_cache\u001b[0m\u001b[0;34m\u001b[0m\u001b[0m\n\u001b[0;32m-> 1840\u001b[0;31m         \u001b[0mres\u001b[0m \u001b[0;34m=\u001b[0m \u001b[0mcache\u001b[0m\u001b[0;34m.\u001b[0m\u001b[0mget\u001b[0m\u001b[0;34m(\u001b[0m\u001b[0mitem\u001b[0m\u001b[0;34m)\u001b[0m\u001b[0;34m\u001b[0m\u001b[0m\n\u001b[0m\u001b[1;32m   1841\u001b[0m         \u001b[0;32mif\u001b[0m \u001b[0mres\u001b[0m \u001b[0;32mis\u001b[0m \u001b[0;32mNone\u001b[0m\u001b[0;34m:\u001b[0m\u001b[0;34m\u001b[0m\u001b[0m\n\u001b[1;32m   1842\u001b[0m             \u001b[0mvalues\u001b[0m \u001b[0;34m=\u001b[0m \u001b[0mself\u001b[0m\u001b[0;34m.\u001b[0m\u001b[0m_data\u001b[0m\u001b[0;34m.\u001b[0m\u001b[0mget\u001b[0m\u001b[0;34m(\u001b[0m\u001b[0mitem\u001b[0m\u001b[0;34m)\u001b[0m\u001b[0;34m\u001b[0m\u001b[0m\n",
      "\u001b[0;31mTypeError\u001b[0m: unhashable type: 'slice'"
     ]
    }
   ],
   "source": [
    "from sklearn import svm\n",
    "from plot_roc_crossval import plot_roc_crossval\n",
    "\n",
    "eval_size = 0.10\n",
    "\n",
    "X, y = train[:,:-1], train[:,-1] .drop('project_is_approved', axis=1)\n",
    "\n",
    "classifier = svm.SVC(kernel='rbf', probability=True,\n",
    "                         random_state=random_state)\n",
    "\n",
    "plot_roc_crossval(X, y, classifier, n_splits=2)\n",
    "    \n"
   ]
  },
  {
   "cell_type": "code",
   "execution_count": null,
   "metadata": {
    "ExecuteTime": {
     "start_time": "2018-03-23T01:22:13.058Z"
    }
   },
   "outputs": [],
   "source": []
  },
  {
   "cell_type": "code",
   "execution_count": null,
   "metadata": {
    "ExecuteTime": {
     "end_time": "2018-03-23T11:21:48.254242Z",
     "start_time": "2018-03-23T11:21:23.585Z"
    }
   },
   "outputs": [],
   "source": [
    "# Additionaly to the Test Set I'll create a validation set\n",
    "eval_size = 0.10\n",
    "\n"
   ]
  },
  {
   "cell_type": "markdown",
   "metadata": {},
   "source": [
    "* The null values are significant only in the columns `project_essay_3` and `project_essay_4`\n",
    "* There isn't a strong correlation between the number of previously submitted projects by a teacher and the rate of approval\n",
    "* California is the leader state from where projects are submitted, followed by Texas and New York\n",
    "* "
   ]
  },
  {
   "cell_type": "code",
   "execution_count": null,
   "metadata": {
    "ExecuteTime": {
     "end_time": "2018-03-23T11:21:48.265212Z",
     "start_time": "2018-03-23T11:21:23.600Z"
    },
    "colab": {
     "autoexec": {
      "startup": false,
      "wait_interval": 0
     },
     "base_uri": "https://localhost:8080/",
     "height": 206,
     "output_extras": [
      {
       "item_id": 1
      }
     ]
    },
    "colab_type": "code",
    "executionInfo": {
     "elapsed": 514,
     "status": "ok",
     "timestamp": 1520997736141,
     "user": {
      "displayName": "Ronaldo da Silva Alves Batista",
      "photoUrl": "https://lh3.googleusercontent.com/a/default-user=s128",
      "userId": "109737138984022669792"
     },
     "user_tz": 180
    },
    "id": "EKbpgF4Eh3HC",
    "outputId": "9b9ebb9a-e374-4db7-d0a1-8b2609fd72f0"
   },
   "outputs": [],
   "source": [
    "display(resources.head())"
   ]
  },
  {
   "cell_type": "code",
   "execution_count": null,
   "metadata": {
    "ExecuteTime": {
     "end_time": "2018-03-23T11:21:48.272159Z",
     "start_time": "2018-03-23T11:21:23.644Z"
    },
    "colab": {
     "autoexec": {
      "startup": false,
      "wait_interval": 0
     },
     "base_uri": "https://localhost:8080/",
     "height": 178,
     "output_extras": [
      {
       "item_id": 1
      }
     ]
    },
    "colab_type": "code",
    "executionInfo": {
     "elapsed": 996,
     "status": "ok",
     "timestamp": 1520995767753,
     "user": {
      "displayName": "Ronaldo da Silva Alves Batista",
      "photoUrl": "https://lh3.googleusercontent.com/a/default-user=s128",
      "userId": "109737138984022669792"
     },
     "user_tz": 180
    },
    "id": "--Ib7WWe9KUZ",
    "outputId": "b1dd04c1-0595-44ab-de35-364475fc436b"
   },
   "outputs": [],
   "source": [
    "pp.ProfileReport(resources[['id', 'quantity', 'price']])"
   ]
  },
  {
   "cell_type": "code",
   "execution_count": null,
   "metadata": {
    "ExecuteTime": {
     "end_time": "2018-03-23T11:21:48.276127Z",
     "start_time": "2018-03-23T11:21:23.651Z"
    },
    "colab": {
     "autoexec": {
      "startup": false,
      "wait_interval": 0
     },
     "output_extras": [
      {}
     ]
    },
    "colab_type": "code",
    "id": "P1P0Nw-ofqVl",
    "outputId": "c089d1aa-dc82-49db-99f9-267ca1da72ee"
   },
   "outputs": [],
   "source": [
    "# TODO: Criar visualização com plotly e outras estatísticas"
   ]
  },
  {
   "cell_type": "code",
   "execution_count": null,
   "metadata": {
    "colab": {
     "autoexec": {
      "startup": false,
      "wait_interval": 0
     }
    },
    "colab_type": "code",
    "id": "dRP6e8wEab1K"
   },
   "outputs": [],
   "source": []
  },
  {
   "cell_type": "markdown",
   "metadata": {
    "colab_type": "text",
    "id": "L5VHxUICfqVo"
   },
   "source": [
    "We can see that the minimum number of previously posted projects for a teacher is 0, the maximum number is 451, and the mean (average) number is 11.23. Let's visualize the distribution using a histogram, to get a better sense of the spread."
   ]
  },
  {
   "cell_type": "code",
   "execution_count": null,
   "metadata": {
    "ExecuteTime": {
     "end_time": "2018-03-23T11:21:48.278342Z",
     "start_time": "2018-03-23T11:21:23.664Z"
    },
    "colab": {
     "autoexec": {
      "startup": false,
      "wait_interval": 0
     },
     "output_extras": [
      {}
     ]
    },
    "colab_type": "code",
    "id": "kiTgWUOqfqVp",
    "outputId": "62ead2bf-4b0a-467e-9977-b18b77cabc22"
   },
   "outputs": [],
   "source": [
    "# Plot histogram with 45 bins; each bin representing a range of 10\n",
    "plt.hist(train_data[\"teacher_number_of_previously_posted_projects\"], bins=45)\n",
    "plt.xticks(range(0, 500, 50))\n",
    "plt.show()"
   ]
  },
  {
   "cell_type": "markdown",
   "metadata": {
    "colab_type": "text",
    "id": "XccR-LZxfqVt"
   },
   "source": [
    "We can see that the vast majority of examples have a `teacher_number_previously_posted_projects` value between 0 and 10, with a sharp dropoff thereafter. However, if we rebucket our data into two bins (&lt; 10 and &ge; 10), we can see that there's a substantial long tail of examples with previously-posted-project values greater than 10:"
   ]
  },
  {
   "cell_type": "code",
   "execution_count": null,
   "metadata": {
    "ExecuteTime": {
     "end_time": "2018-03-23T11:21:48.281145Z",
     "start_time": "2018-03-23T11:21:23.674Z"
    },
    "colab": {
     "autoexec": {
      "startup": false,
      "wait_interval": 0
     },
     "output_extras": [
      {}
     ]
    },
    "colab_type": "code",
    "id": "mJWQbAf4fqVu",
    "outputId": "8fae23a0-02fe-4b35-81c9-61c4a3187791"
   },
   "outputs": [],
   "source": [
    "# Plot histogram with 45 bins; each bin representing a range of 10\n",
    "plt.hist(train_data[\"teacher_number_of_previously_posted_projects\"], bins=[0, 10, 450])\n",
    "plt.xticks(range(0, 500, 50))\n",
    "plt.show()"
   ]
  },
  {
   "cell_type": "markdown",
   "metadata": {
    "colab_type": "text",
    "id": "VVr_OYM9fqV4"
   },
   "source": [
    "## Submitting a Kaggle Entry\n",
    "\n",
    "Once you're satisfied with your model performance, you can make predictions on the test set as follows (this may take a few minutes to run):"
   ]
  },
  {
   "cell_type": "code",
   "execution_count": null,
   "metadata": {
    "ExecuteTime": {
     "end_time": "2018-03-23T11:21:48.283979Z",
     "start_time": "2018-03-23T11:21:23.683Z"
    },
    "colab": {
     "autoexec": {
      "startup": false,
      "wait_interval": 0
     }
    },
    "colab_type": "code",
    "id": "n4X_lCZEfqV4"
   },
   "outputs": [],
   "source": [
    "# Filepath to main test dataset.\n",
    "test_file_path = '../input/test.csv'\n",
    "\n",
    "# Read data and store in DataFrame.\n",
    "test_data = pd.read_csv(test_file_path, sep=',')\n",
    "\n",
    "my_feature_name = 'teacher_number_of_previously_posted_projects'\n",
    "\n",
    "# Get test features\n",
    "test_examples = test_data[[my_feature_name]].copy()\n",
    "\n",
    "# No labels in data set, so generate some placeholder values\n",
    "placeholder_label_vals = [0 for i in range(0, 78035)]\n",
    "test_labels = pd.DataFrame({\"project_is_approved\": placeholder_label_vals})\n",
    "\n",
    "predict_test_input_fn = lambda: my_input_fn(test_examples,\n",
    "                                            test_labels, # unused for prediction\n",
    "                                            num_epochs=1, \n",
    "                                            shuffle=False)\n",
    "\n",
    "# Make predictions\n",
    "predictions_generator = linear_classifier.predict(input_fn=predict_test_input_fn)\n",
    "predictions_list = list(predictions_generator)\n",
    "\n",
    "# Extract probabilities\n",
    "probabilities = [p[\"probabilities\"][1] for p in predictions_list]\n",
    "print(\"Done extracting probabilities\")"
   ]
  },
  {
   "cell_type": "markdown",
   "metadata": {
    "colab_type": "text",
    "id": "4jIylp2yfqWC"
   },
   "source": [
    "We want to format our submission as a CSV with two fields for each example: `id` and our prediction for `project_is_approved`, e.g.:"
   ]
  },
  {
   "cell_type": "markdown",
   "metadata": {
    "colab_type": "text",
    "id": "9t6IfcdnfqWE"
   },
   "source": [
    "```\n",
    "id,project_is_approved\n",
    "p233245,0.54\n",
    "p096795,0.14\n",
    "p236235,0.94\n",
    "```"
   ]
  },
  {
   "cell_type": "markdown",
   "metadata": {
    "colab_type": "text",
    "id": "0hnQneoHfqWE"
   },
   "source": [
    "Run the following code to create a `DataFrame` in the required format:"
   ]
  },
  {
   "cell_type": "code",
   "execution_count": null,
   "metadata": {
    "ExecuteTime": {
     "end_time": "2018-03-23T11:21:48.287720Z",
     "start_time": "2018-03-23T11:21:23.692Z"
    },
    "colab": {
     "autoexec": {
      "startup": false,
      "wait_interval": 0
     }
    },
    "colab_type": "code",
    "id": "lXKsx5dAfqWG"
   },
   "outputs": [],
   "source": [
    "my_submission = pd.DataFrame({'id': test_data[\"id\"], 'project_is_approved': probabilities})\n",
    "print(my_submission.values)"
   ]
  },
  {
   "cell_type": "markdown",
   "metadata": {
    "colab_type": "text",
    "id": "iI9NxSgTfqWL"
   },
   "source": [
    "Then write your output to CSV:"
   ]
  },
  {
   "cell_type": "code",
   "execution_count": null,
   "metadata": {
    "ExecuteTime": {
     "end_time": "2018-03-23T11:21:48.290793Z",
     "start_time": "2018-03-23T11:21:23.700Z"
    },
    "colab": {
     "autoexec": {
      "startup": false,
      "wait_interval": 0
     }
    },
    "colab_type": "code",
    "id": "bk6rgnMEfqWM"
   },
   "outputs": [],
   "source": [
    "my_submission.to_csv('my_submission.csv', index=False)"
   ]
  },
  {
   "cell_type": "markdown",
   "metadata": {
    "colab_type": "text",
    "id": "yA7ID_abfqWR"
   },
   "source": [
    "Next, click the **Commit & Run** button to execute the entire Kaggle kernel. This will take ~10 minutes to run. \n",
    "\n",
    "When it's finished, you'll see the navigation bar at the top of your screen has an **Output** tab. Click on the **Output** tab, and click on the **Submit to Competition** button to submit to Kaggle."
   ]
  }
 ],
 "metadata": {
  "colab": {
   "collapsed_sections": [
    "8lcd4vxIfqVG"
   ],
   "default_view": {},
   "name": "capstone.ipynb",
   "provenance": [],
   "version": "0.3.2",
   "views": {}
  },
  "kernelspec": {
   "display_name": "Python 3",
   "language": "python",
   "name": "python3"
  },
  "language_info": {
   "codemirror_mode": {
    "name": "ipython",
    "version": 3
   },
   "file_extension": ".py",
   "mimetype": "text/x-python",
   "name": "python",
   "nbconvert_exporter": "python",
   "pygments_lexer": "ipython3",
   "version": "3.6.4"
  },
  "toc": {
   "nav_menu": {
    "height": "165px",
    "width": "244px"
   },
   "number_sections": true,
   "sideBar": false,
   "skip_h1_title": true,
   "title_cell": "Table of Contents",
   "title_sidebar": "Contents",
   "toc_cell": true,
   "toc_position": {
    "height": "439px",
    "left": "1102px",
    "top": "111.133px",
    "width": "177px"
   },
   "toc_section_display": true,
   "toc_window_display": true
  },
  "varInspector": {
   "cols": {
    "lenName": 16,
    "lenType": 16,
    "lenVar": 40
   },
   "kernels_config": {
    "python": {
     "delete_cmd_postfix": "",
     "delete_cmd_prefix": "del ",
     "library": "var_list.py",
     "varRefreshCmd": "print(var_dic_list())"
    },
    "r": {
     "delete_cmd_postfix": ") ",
     "delete_cmd_prefix": "rm(",
     "library": "var_list.r",
     "varRefreshCmd": "cat(var_dic_list()) "
    }
   },
   "oldHeight": 87,
   "position": {
    "height": "40px",
    "left": "938px",
    "right": "91px",
    "top": "42px",
    "width": "250px"
   },
   "types_to_exclude": [
    "module",
    "function",
    "builtin_function_or_method",
    "instance",
    "_Feature"
   ],
   "varInspector_section_display": "none",
   "window_display": true
  }
 },
 "nbformat": 4,
 "nbformat_minor": 2
}
