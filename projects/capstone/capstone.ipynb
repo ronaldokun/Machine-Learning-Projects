{
 "cells": [
  {
   "cell_type": "markdown",
   "metadata": {
    "colab_type": "text",
    "id": "Zc-4PyxpfqVD"
   },
   "source": [
    "# [DonorsChoose.org Application Screening](https://www.kaggle.com/c/donorschoose-application-screening)"
   ]
  },
  {
   "cell_type": "markdown",
   "metadata": {
    "toc": true
   },
   "source": [
    "<h1>Table of Contents<span class=\"tocSkip\"></span></h1>\n",
    "<div class=\"toc\"><ul class=\"toc-item\"><li><span><a href=\"#Introduction\" data-toc-modified-id=\"Introduction-1\"><span class=\"toc-item-num\">1&nbsp;&nbsp;</span>Introduction</a></span><ul class=\"toc-item\"><li><span><a href=\"#Background\" data-toc-modified-id=\"Background-1.1\"><span class=\"toc-item-num\">1.1&nbsp;&nbsp;</span>Background</a></span></li><li><span><a href=\"#Problem-Statement\" data-toc-modified-id=\"Problem-Statement-1.2\"><span class=\"toc-item-num\">1.2&nbsp;&nbsp;</span>Problem Statement</a></span></li></ul></li><li><span><a href=\"#Preparations\" data-toc-modified-id=\"Preparations-2\"><span class=\"toc-item-num\">2&nbsp;&nbsp;</span>Preparations</a></span><ul class=\"toc-item\"><li><span><a href=\"#Load-Libraries\" data-toc-modified-id=\"Load-Libraries-2.1\"><span class=\"toc-item-num\">2.1&nbsp;&nbsp;</span>Load Libraries</a></span></li><li><span><a href=\"#Load-Data\" data-toc-modified-id=\"Load-Data-2.2\"><span class=\"toc-item-num\">2.2&nbsp;&nbsp;</span>Load Data</a></span></li></ul></li><li><span><a href=\"#Overview:-File-Structure-and-Content\" data-toc-modified-id=\"Overview:-File-Structure-and-Content-3\"><span class=\"toc-item-num\">3&nbsp;&nbsp;</span>Overview: File Structure and Content</a></span><ul class=\"toc-item\"><li><span><a href=\"#Training-and-Test-Data\" data-toc-modified-id=\"Training-and-Test-Data-3.1\"><span class=\"toc-item-num\">3.1&nbsp;&nbsp;</span>Training and Test Data</a></span><ul class=\"toc-item\"><li><span><a href=\"#A-Note-on-Essay-Data\" data-toc-modified-id=\"A-Note-on-Essay-Data-3.1.1\"><span class=\"toc-item-num\">3.1.1&nbsp;&nbsp;</span>A Note on Essay Data</a></span></li><li><span><a href=\"#Let's-take-a-closer-look-at-the-distribution,-statistics-and-various-counts-on-the-data:\" data-toc-modified-id=\"Let's-take-a-closer-look-at-the-distribution,-statistics-and-various-counts-on-the-data:-3.1.2\"><span class=\"toc-item-num\">3.1.2&nbsp;&nbsp;</span>Let's take a closer look at the distribution, statistics and various counts on the data:</a></span></li></ul></li><li><span><a href=\"#Resources-Data\" data-toc-modified-id=\"Resources-Data-3.2\"><span class=\"toc-item-num\">3.2&nbsp;&nbsp;</span>Resources Data</a></span></li></ul></li><li><span><a href=\"#Individual-Feature-Visualizations\" data-toc-modified-id=\"Individual-Feature-Visualizations-4\"><span class=\"toc-item-num\">4&nbsp;&nbsp;</span>Individual Feature Visualizations</a></span><ul class=\"toc-item\"><li><span><a href=\"#Space\" data-toc-modified-id=\"Space-4.1\"><span class=\"toc-item-num\">4.1&nbsp;&nbsp;</span>Space</a></span></li><li><span><a href=\"#Teachers\" data-toc-modified-id=\"Teachers-4.2\"><span class=\"toc-item-num\">4.2&nbsp;&nbsp;</span>Teachers</a></span></li><li><span><a href=\"#Project-Categories-&amp;-Grades\" data-toc-modified-id=\"Project-Categories-&amp;-Grades-4.3\"><span class=\"toc-item-num\">4.3&nbsp;&nbsp;</span>Project Categories &amp; Grades</a></span></li></ul></li><li><span><a href=\"#Feature-Engineering\" data-toc-modified-id=\"Feature-Engineering-5\"><span class=\"toc-item-num\">5&nbsp;&nbsp;</span>Feature Engineering</a></span><ul class=\"toc-item\"><li><span><a href=\"#Joining-of-Resources-Data-to-Train-Data\" data-toc-modified-id=\"Joining-of-Resources-Data-to-Train-Data-5.1\"><span class=\"toc-item-num\">5.1&nbsp;&nbsp;</span>Joining of Resources Data to Train Data</a></span></li><li><span><a href=\"#Create-Additional-categories-in-Resources\" data-toc-modified-id=\"Create-Additional-categories-in-Resources-5.2\"><span class=\"toc-item-num\">5.2&nbsp;&nbsp;</span>Create Additional categories in Resources</a></span></li><li><span><a href=\"#Timestamps\" data-toc-modified-id=\"Timestamps-5.3\"><span class=\"toc-item-num\">5.3&nbsp;&nbsp;</span>Timestamps</a></span></li><li><span><a href=\"#Project-Categories\" data-toc-modified-id=\"Project-Categories-5.4\"><span class=\"toc-item-num\">5.4&nbsp;&nbsp;</span>Project Categories</a></span></li><li><span><a href=\"#Concatenating-of-Text-Features\" data-toc-modified-id=\"Concatenating-of-Text-Features-5.5\"><span class=\"toc-item-num\">5.5&nbsp;&nbsp;</span>Concatenating of Text Features</a></span></li><li><span><a href=\"#Feature-Scaling-of-Numerical-Variables\" data-toc-modified-id=\"Feature-Scaling-of-Numerical-Variables-5.6\"><span class=\"toc-item-num\">5.6&nbsp;&nbsp;</span>Feature Scaling of Numerical Variables</a></span></li><li><span><a href=\"#Encoding-of-Categorical-Variables\" data-toc-modified-id=\"Encoding-of-Categorical-Variables-5.7\"><span class=\"toc-item-num\">5.7&nbsp;&nbsp;</span>Encoding of Categorical Variables</a></span></li><li><span><a href=\"#NLP-Processing-on-text-features\" data-toc-modified-id=\"NLP-Processing-on-text-features-5.8\"><span class=\"toc-item-num\">5.8&nbsp;&nbsp;</span>NLP Processing on text features</a></span><ul class=\"toc-item\"><li><span><a href=\"#Whitespace-tokenization-and-Lemma-Extraction\" data-toc-modified-id=\"Whitespace-tokenization-and-Lemma-Extraction-5.8.1\"><span class=\"toc-item-num\">5.8.1&nbsp;&nbsp;</span>Whitespace tokenization and Lemma Extraction</a></span></li><li><span><a href=\"#Let's-apply-Term-Frequency-versus-Inverse-Document-Frequency---TF-IDF\" data-toc-modified-id=\"Let's-apply-Term-Frequency-versus-Inverse-Document-Frequency---TF-IDF-5.8.2\"><span class=\"toc-item-num\">5.8.2&nbsp;&nbsp;</span>Let's apply Term Frequency versus Inverse Document Frequency - TF-IDF</a></span></li></ul></li><li><span><a href=\"#Fine-Tuning-Model\" data-toc-modified-id=\"Fine-Tuning-Model-5.9\"><span class=\"toc-item-num\">5.9&nbsp;&nbsp;</span>Fine-Tuning Model</a></span></li><li><span><a href=\"#Cross-Validation\" data-toc-modified-id=\"Cross-Validation-5.10\"><span class=\"toc-item-num\">5.10&nbsp;&nbsp;</span>Cross Validation</a></span></li></ul></li><li><span><a href=\"#Submitting-a-Kaggle-Entry\" data-toc-modified-id=\"Submitting-a-Kaggle-Entry-6\"><span class=\"toc-item-num\">6&nbsp;&nbsp;</span>Submitting a Kaggle Entry</a></span></li></ul></div>"
   ]
  },
  {
   "cell_type": "markdown",
   "metadata": {
    "colab_type": "text",
    "id": "8lcd4vxIfqVG"
   },
   "source": [
    "## Introduction"
   ]
  },
  {
   "cell_type": "markdown",
   "metadata": {
    "colab_type": "text",
    "id": "WvVdkH9tfqVH"
   },
   "source": [
    "\n",
    "### Background\n",
    "\n",
    "Founded in 2000 by a high school teacher in the Bronx, [DonorsChoose.org](www.donorschoose.org) empowers public school teachers from across the country to request much-needed materials and experiences for their students. At any given time, there are thousands of classroom requests that can be brought to life with a gift of any amount.\n",
    "\n",
    "DonorsChoose.org receives hundreds of thousands of project proposals each year for classroom projects in need of funding. Right now, a large number of volunteers is needed to manually screen each submission before it's approved to be posted on the DonorsChoose.org website. \n",
    "\n",
    "I intend to apply Data Science skills to help NGO's connected to poverty alleviation that's why this project is of interest to me, we need a lot more than food to achieve a just and prosper society and education is an immensely important asset for this goal.\n",
    "\n",
    "### Problem Statement\n",
    "\n",
    "Next year, DonorsChoose.org expects to receive close to 500,000 project proposals. As a result, there are three main problems they need to solve:\n",
    "\n",
    "1. How to scale current manual processes and resources to screen 500,000 projects so that they can be posted as quickly and as efficiently as possible\n",
    "2. How to increase the consistency of project vetting across different volunteers to improve the experience for teachers\n",
    "3. How to focus volunteer time on the applications that need the most assistance\n",
    "\n",
    "The goal is to predict whether or not a DonorsChoose.org project proposal submitted by a teacher will be approved, using the text of project descriptions as well as additional metadata about the project, teacher, and school. DonorsChoose.org can then use this information to identify projects most likely to need further review before approval.\n",
    "With an algorithm to pre-screen applications, DonorsChoose.org can auto-approve some applications quickly so that volunteers can spend their time on more nuanced and detailed project ​vetting processes, including doing more to help teachers develop projects that qualify for specific funding opportunities.\n",
    "The machine learning algorithm can help more teachers get funded more quickly, and with less cost to DonorsChoose.org, allowing them to channel even more funding directly to classrooms across the country. \n"
   ]
  },
  {
   "cell_type": "markdown",
   "metadata": {
    "colab_type": "text",
    "id": "pBuazUqDfqVI"
   },
   "source": [
    "## Preparations"
   ]
  },
  {
   "cell_type": "markdown",
   "metadata": {
    "colab_type": "text",
    "id": "sO-d-_Lx6Vet"
   },
   "source": [
    "### Load Libraries"
   ]
  },
  {
   "cell_type": "code",
   "execution_count": 2,
   "metadata": {
    "ExecuteTime": {
     "end_time": "2018-04-18T06:49:22.394966Z",
     "start_time": "2018-04-18T06:49:20.919363Z"
    },
    "colab": {
     "autoexec": {
      "startup": false,
      "wait_interval": 0
     },
     "base_uri": "https://localhost:8080/",
     "height": 21,
     "output_extras": [
      {
       "item_id": 1
      }
     ]
    },
    "colab_type": "code",
    "executionInfo": {
     "elapsed": 851,
     "status": "ok",
     "timestamp": 1521071411292,
     "user": {
      "displayName": "Ronaldo da Silva Alves Batista",
      "photoUrl": "https://lh3.googleusercontent.com/a/default-user=s128",
      "userId": "109737138984022669792"
     },
     "user_tz": 180
    },
    "id": "OuVfalUNfqVI",
    "outputId": "8345fde5-e58f-44a7-d02e-cfd269ef4157"
   },
   "outputs": [
    {
     "name": "stdout",
     "output_type": "stream",
     "text": [
      "[nltk_data] Downloading package stopwords to\n",
      "[nltk_data]     /home/ronaldo/nltk_data...\n",
      "[nltk_data]   Package stopwords is already up-to-date!\n",
      "[nltk_data] Downloading package wordnet to /home/ronaldo/nltk_data...\n",
      "[nltk_data]   Package wordnet is already up-to-date!\n"
     ]
    },
    {
     "data": {
      "text/html": [
       "<script>requirejs.config({paths: { 'plotly': ['https://cdn.plot.ly/plotly-latest.min']},});if(!window.Plotly) {{require(['plotly'],function(plotly) {window.Plotly=plotly;});}}</script>"
      ],
      "text/vnd.plotly.v1+html": [
       "<script>requirejs.config({paths: { 'plotly': ['https://cdn.plot.ly/plotly-latest.min']},});if(!window.Plotly) {{require(['plotly'],function(plotly) {window.Plotly=plotly;});}}</script>"
      ]
     },
     "metadata": {},
     "output_type": "display_data"
    }
   ],
   "source": [
    "# Basic Libraries\n",
    "import numpy as np\n",
    "import pandas as pd\n",
    "#import ray.dataframe as raypd # Parallel library for pandas, not yet complete\n",
    "import os\n",
    "import gc\n",
    "import datetime\n",
    "import pandas_profiling as pp\n",
    "#from collections import Counter\n",
    "from pprint import pprint \n",
    "import pickle\n",
    "\n",
    "# Stats and other\n",
    "from scipy import stats, interp\n",
    "from scipy.sparse import hstack, csr_matrix\n",
    "\n",
    "# CV and K-Fold\n",
    "from sklearn.model_selection import StratifiedKFold, GridSearchCV, train_test_split\n",
    "# Metric\n",
    "from sklearn.metrics import roc_auc_score, roc_curve, accuracy_score \n",
    "# Preprocessing\n",
    "from sklearn.preprocessing import LabelEncoder, MinMaxScaler \n",
    "                                  \n",
    "\n",
    "# To visualize progress\n",
    "from tqdm import tqdm_notebook\n",
    "\n",
    "\n",
    "# nlp Libraries\n",
    "\n",
    "import nltk\n",
    "nltk.download('stopwords')\n",
    "nltk.download('wordnet')\n",
    "# from wordcloud import WordCloud\n",
    "from nltk.tokenize import WhitespaceTokenizer\n",
    "from nltk.stem import WordNetLemmatizer\n",
    "from nltk.corpus import stopwords\n",
    "#from nltk.util import ngrams\n",
    "from sklearn.feature_extraction.text import TfidfVectorizer\n",
    "stop = set(stopwords.words('english'))\n",
    "\n",
    "# Boosted tree libraries\n",
    "import xgboost as xgb\n",
    "from xgboost.sklearn import XGBClassifier\n",
    "\n",
    "# To make output stable across runs\n",
    "np.random.seed(42)\n",
    "\n",
    "\n",
    "# To plot pretty figures\n",
    "import matplotlib.pyplot as plt\n",
    "import seaborn as sns\n",
    "sns.set(style=\"whitegrid\", color_codes=True)\n",
    "plt.rcParams['axes.labelsize'] = 14\n",
    "plt.rcParams['xtick.labelsize'] = 12\n",
    "plt.rcParams['ytick.labelsize'] = 12\n",
    "\n",
    "# Plot maps\n",
    "import plotly.offline as py\n",
    "py.init_notebook_mode(connected=True)\n",
    "import plotly.graph_objs as go\n",
    "import plotly.tools as tls\n",
    "\n",
    "#pd.options.mode.chained_assignment = None\n",
    "#pd.options.display.max_columns = 999\n",
    "\n",
    "from IPython.display import display  # Allows the use of display() for DataFrames\n",
    "\n",
    "%reload_ext autoreload\n",
    "%autoreload 2\n",
    "%matplotlib inline"
   ]
  },
  {
   "cell_type": "markdown",
   "metadata": {
    "colab_type": "text",
    "id": "a5PoAfPSfqVQ"
   },
   "source": [
    "### Load Data"
   ]
  },
  {
   "cell_type": "code",
   "execution_count": 14,
   "metadata": {
    "ExecuteTime": {
     "end_time": "2018-04-18T07:01:45.215658Z",
     "start_time": "2018-04-18T07:01:38.541514Z"
    },
    "colab": {
     "autoexec": {
      "startup": false,
      "wait_interval": 0
     }
    },
    "colab_type": "code",
    "id": "EuWB7GL0fqVR"
   },
   "outputs": [],
   "source": [
    "PATH = \"data/\"\n",
    "\n",
    "# To prevent errors in loading, we defined all data as string, except the boolean target\n",
    "dtype = {\n",
    "    'id': str,\n",
    "    'teacher_id': str,\n",
    "    'teacher_prefix': str,\n",
    "    'school_state': str,\n",
    "    'project_submitted_datetime': str,\n",
    "    'project_grade_category': str,\n",
    "    'project_subject_categories': str,\n",
    "    'project_subject_subcategories': str,\n",
    "    'project_title': str,\n",
    "    'project_essay_1': str,\n",
    "    'project_essay_2': str,\n",
    "    'project_essay_3': str,\n",
    "    'project_essay_4': str,\n",
    "    'project_resource_summary': str,\n",
    "    'teacher_number_of_previously_posted_projects': int,\n",
    "    'project_is_approved': np.uint8,\n",
    "}\n",
    "\n",
    "# Read data and store in DataFrame.\n",
    "train = pd.read_csv(os.path.join(PATH, 'train.csv'),\n",
    "                    dtype=dtype,\n",
    "                    parse_dates=['project_submitted_datetime'],\n",
    "                    low_memory=True)\n",
    "\n",
    "test = pd.read_csv(os.path.join(PATH, 'test.csv'),\n",
    "                   dtype=dtype,\n",
    "                   parse_dates=['project_submitted_datetime'],\n",
    "                   low_memory=True)\n",
    "\n",
    "target = train[\"project_is_approved\"]\n",
    "\n",
    "resources = pd.read_csv(os.path.join(PATH, 'resources.csv'))\n",
    "\n",
    "sample_submit = pd.read_csv(os.path.join(PATH, 'sample_submission.csv'))\n",
    "\n",
    "del dtype"
   ]
  },
  {
   "cell_type": "markdown",
   "metadata": {
    "colab_type": "text",
    "id": "2ebq3r0lfqVM"
   },
   "source": [
    "**Note:** *The following couple of cells on section 3 is an adaptation from the quick-start guide provided by the Competition Organizers for a quick initial EDA and to set a benchmark.*\n",
    "\n",
    "Reference: https://www.kaggle.com/skleinfeld/getting-started-with-the-donorschoose-data-set/notebook"
   ]
  },
  {
   "cell_type": "markdown",
   "metadata": {
    "colab_type": "text",
    "id": "QCIdwZJ9fqVN"
   },
   "source": [
    "## Overview: File Structure and Content\n",
    "\n",
    "### Training and Test Data\n",
    "\n",
    "The goal of the DonorsChoose competition is to build a model that can accurately predict whether a teacher's project proposal was accepted, based on the data they provided in their application. The `train.csv` data set provided by DonorsChoose contains the following features:\n",
    "\n",
    "Feature | Description | Data Type\n",
    "----------|---------------|------------\n",
    "**`project_id`** | A unique identifier for the proposed project. **Example:** `p036502`   | string\n",
    "**`project_title`**    | Title of the project. **Examples:**<br><ul><li><code>Art Will Make You Happy!</code></li><li><code>First Grade Fun</code></li></ul> | string\n",
    "**`project_grade_category`** | Grade level of students for which the project is targeted. One of the following enumerated values: <br/><ul><li><code>Grades PreK-2</code></li><li><code>Grades 3-5</code></li><li><code>Grades 6-8</code></li><li><code>Grades 9-12</code></li></ul>  | string\n",
    " **`project_subject_categories`** | One or more (comma-separated) subject categories for the project from the following enumerated list of values:  <br/><ul><li><code>Applied Learning</code></li><li><code>Care &amp; Hunger</code></li><li><code>Health &amp; Sports</code></li><li><code>History &amp; Civics</code></li><li><code>Literacy &amp; Language</code></li><li><code>Math &amp; Science</code></li><li><code>Music &amp; The Arts</code></li><li><code>Special Needs</code></li><li><code>Warmth</code></li></ul><br/> **Examples:** <br/><ul><li><code>Music &amp; The Arts</code></li><li><code>Literacy &amp; Language, Math &amp; Science</code></li>  | string\n",
    "  **`school_state`** | State where school is located ([Two-letter U.S. postal code](https://en.wikipedia.org/wiki/List_of_U.S._state_abbreviations#Postal_codes)). **Example:** `WY`| string\n",
    "**`project_subject_subcategories`** | One or more (comma-separated) subject subcategories for the project. **Examples:** <br/><ul><li><code>Literacy</code></li><li><code>Literature &amp; Writing, Social Sciences</code></li></ul> | string\n",
    "**`project_resource_summary`** | An explanation of the resources needed for the project. **Example:** <br/><ul><li><code>My students need hands on literacy materials to manage sensory needs!</code</li></ul> | string\n",
    "**`project_essay_1`**    | First paragraph of application essay.<sup>*</sup>  | string\n",
    "**`project_essay_2`**    | Second paragraph of application essay.<sup>*</sup> | string\n",
    "**`project_essay_3`**    | Third paragraph of application essay.<sup>*</sup> | string\n",
    "**`project_essay_4`**    | Fourth paragraph of application essay.<sup>*</sup> | string\n",
    "**`project_submitted_datetime`** | Datetime when project application was submitted. **Example:** `2016-04-28 12:43:56.245`   | int64\n",
    "**`teacher_id`** | A unique identifier for the teacher of the proposed project. **Example:** `bdf8baa8fedef6bfeec7ae4ff1c15c56`  | string\n",
    "**`teacher_prefix`** | Teacher's title. One of the following enumerated values: <br/><ul><li><code>nan</code></li><li><code>Dr.</code></li><li><code>Mr.</code></li><li><code>Mrs.</code></li><li><code>Ms.</code></li><li><code>Teacher.</code></li></ul>  | string\n",
    "**`teacher_number_of_previously_posted_projects`** | Number of project applications previously submitted by the same teacher. **Example:** `2` | int64\n",
    "\n",
    "<sup>\\*</sup> See **A Note on Essay Data** for some important details about changes to the application essay prompts in February 2010 that affect the values of `project_essay_1`, `project_essay_2`, `project_essay_3`, and `project_essay_4`.\n",
    "\n",
    "The data set contains the following label (the value you will attempt to predict):\n",
    "\n",
    "Label | Description | Data Type\n",
    "----------|---------------|------------\n",
    "`project_is_approved` | A binary flag indicating whether DonorsChoose approved the project. A value of `0` indicates the project was not approved, and a value of `1` indicates the project was approved. | int64"
   ]
  },
  {
   "cell_type": "code",
   "execution_count": 9,
   "metadata": {
    "ExecuteTime": {
     "end_time": "2018-04-17T22:29:18.059442Z",
     "start_time": "2018-04-17T22:29:17.853838Z"
    }
   },
   "outputs": [
    {
     "name": "stdout",
     "output_type": "stream",
     "text": [
      "<class 'pandas.core.frame.DataFrame'>\n",
      "RangeIndex: 182080 entries, 0 to 182079\n",
      "Data columns (total 16 columns):\n",
      "id                                              182080 non-null object\n",
      "teacher_id                                      182080 non-null object\n",
      "teacher_prefix                                  182076 non-null object\n",
      "school_state                                    182080 non-null object\n",
      "project_submitted_datetime                      182080 non-null datetime64[ns]\n",
      "project_grade_category                          182080 non-null object\n",
      "project_subject_categories                      182080 non-null object\n",
      "project_subject_subcategories                   182080 non-null object\n",
      "project_title                                   182080 non-null object\n",
      "project_essay_1                                 182080 non-null object\n",
      "project_essay_2                                 182080 non-null object\n",
      "project_essay_3                                 6374 non-null object\n",
      "project_essay_4                                 6374 non-null object\n",
      "project_resource_summary                        182080 non-null object\n",
      "teacher_number_of_previously_posted_projects    182080 non-null int64\n",
      "project_is_approved                             182080 non-null uint8\n",
      "dtypes: datetime64[ns](1), int64(1), object(13), uint8(1)\n",
      "memory usage: 21.0+ MB\n"
     ]
    },
    {
     "data": {
      "text/plain": [
       "None"
      ]
     },
     "metadata": {},
     "output_type": "display_data"
    }
   ],
   "source": [
    "display(train.info(null_counts=True))"
   ]
  },
  {
   "cell_type": "markdown",
   "metadata": {
    "colab_type": "text",
    "id": "AXc7EItwfqVO"
   },
   "source": [
    "#### A Note on Essay Data\n",
    "\n",
    "Prior to February 18th, 2010, for their DonorsChoose application, teachers had the option of writing either a free-form essay (split into `project_essay_1`, `project_essay_2`, `project_essay_3`, and `project_essay_4`) or writing free-form answers to the following four prompts:\n",
    "\n",
    "1. Introduce your classroom (`project_essay_1`)\n",
    "2. Describe the situation (`project_essay_2`)\n",
    "3. Describe the solution (`project_essay_3`)\n",
    "4. Empower your donors (`project_essay_4`) \n",
    "\n",
    "Effective February 18th, 2010, the option to write a free-form essay was removed, and all teachers were required to respond to the following four prompts:\n",
    "\n",
    "1. Open with the challenge facing your students (`project_essay_1`)\n",
    "2. Tell us more about your students (`project_essay_2`)\n",
    "3. Inspire your potential donors with an overview of the resources you're requesting (`project_essay_3`)\n",
    "4. Close by sharing why your project is so important (`project_essay_4`) \n",
    "\n",
    "When using essay data from `project_essay_1`, `project_essay_2`, `project_essay_3`, and `project_essay_4`, make sure to take into account that the nature of the text content in these fields is different for examples with a `project_submitted_datetime` prior to February 18th, 2010."
   ]
  },
  {
   "cell_type": "markdown",
   "metadata": {
    "colab_type": "text",
    "id": "JnYWb5GCfqVX"
   },
   "source": [
    "List all the fields in the data set:"
   ]
  },
  {
   "cell_type": "code",
   "execution_count": 10,
   "metadata": {
    "ExecuteTime": {
     "end_time": "2018-04-17T22:29:18.113427Z",
     "start_time": "2018-04-17T22:29:18.061286Z"
    }
   },
   "outputs": [
    {
     "data": {
      "text/html": [
       "<div>\n",
       "<style scoped>\n",
       "    .dataframe tbody tr th:only-of-type {\n",
       "        vertical-align: middle;\n",
       "    }\n",
       "\n",
       "    .dataframe tbody tr th {\n",
       "        vertical-align: top;\n",
       "    }\n",
       "\n",
       "    .dataframe thead th {\n",
       "        text-align: right;\n",
       "    }\n",
       "</style>\n",
       "<table border=\"1\" class=\"dataframe\">\n",
       "  <thead>\n",
       "    <tr style=\"text-align: right;\">\n",
       "      <th></th>\n",
       "      <th>id</th>\n",
       "      <th>teacher_id</th>\n",
       "      <th>teacher_prefix</th>\n",
       "      <th>school_state</th>\n",
       "      <th>project_submitted_datetime</th>\n",
       "      <th>project_grade_category</th>\n",
       "      <th>project_subject_categories</th>\n",
       "      <th>project_subject_subcategories</th>\n",
       "      <th>project_title</th>\n",
       "      <th>project_essay_1</th>\n",
       "      <th>project_essay_2</th>\n",
       "      <th>project_essay_3</th>\n",
       "      <th>project_essay_4</th>\n",
       "      <th>project_resource_summary</th>\n",
       "      <th>teacher_number_of_previously_posted_projects</th>\n",
       "      <th>project_is_approved</th>\n",
       "    </tr>\n",
       "  </thead>\n",
       "  <tbody>\n",
       "    <tr>\n",
       "      <th>0</th>\n",
       "      <td>p036502</td>\n",
       "      <td>484aaf11257089a66cfedc9461c6bd0a</td>\n",
       "      <td>Ms.</td>\n",
       "      <td>NV</td>\n",
       "      <td>2016-11-18 14:45:59</td>\n",
       "      <td>Grades PreK-2</td>\n",
       "      <td>Literacy &amp; Language</td>\n",
       "      <td>Literacy</td>\n",
       "      <td>Super Sight Word Centers</td>\n",
       "      <td>Most of my kindergarten students come from low...</td>\n",
       "      <td>I currently have a differentiated sight word c...</td>\n",
       "      <td>NaN</td>\n",
       "      <td>NaN</td>\n",
       "      <td>My students need 6 Ipod Nano's to create and d...</td>\n",
       "      <td>26</td>\n",
       "      <td>1</td>\n",
       "    </tr>\n",
       "    <tr>\n",
       "      <th>1</th>\n",
       "      <td>p039565</td>\n",
       "      <td>df72a3ba8089423fa8a94be88060f6ed</td>\n",
       "      <td>Mrs.</td>\n",
       "      <td>GA</td>\n",
       "      <td>2017-04-26 15:57:28</td>\n",
       "      <td>Grades 3-5</td>\n",
       "      <td>Music &amp; The Arts, Health &amp; Sports</td>\n",
       "      <td>Performing Arts, Team Sports</td>\n",
       "      <td>Keep Calm and Dance On</td>\n",
       "      <td>Our elementary school is a culturally rich sch...</td>\n",
       "      <td>We strive to provide our diverse population of...</td>\n",
       "      <td>NaN</td>\n",
       "      <td>NaN</td>\n",
       "      <td>My students need matching shirts to wear for d...</td>\n",
       "      <td>1</td>\n",
       "      <td>0</td>\n",
       "    </tr>\n",
       "    <tr>\n",
       "      <th>2</th>\n",
       "      <td>p233823</td>\n",
       "      <td>a9b876a9252e08a55e3d894150f75ba3</td>\n",
       "      <td>Ms.</td>\n",
       "      <td>UT</td>\n",
       "      <td>2017-01-01 22:57:44</td>\n",
       "      <td>Grades 3-5</td>\n",
       "      <td>Math &amp; Science, Literacy &amp; Language</td>\n",
       "      <td>Applied Sciences, Literature &amp; Writing</td>\n",
       "      <td>Lets 3Doodle to Learn</td>\n",
       "      <td>Hello;\\r\\nMy name is Mrs. Brotherton. I teach ...</td>\n",
       "      <td>We are looking to add some 3Doodler to our cla...</td>\n",
       "      <td>NaN</td>\n",
       "      <td>NaN</td>\n",
       "      <td>My students need the 3doodler. We are an SEM s...</td>\n",
       "      <td>5</td>\n",
       "      <td>1</td>\n",
       "    </tr>\n",
       "    <tr>\n",
       "      <th>3</th>\n",
       "      <td>p185307</td>\n",
       "      <td>525fdbb6ec7f538a48beebaa0a51b24f</td>\n",
       "      <td>Mr.</td>\n",
       "      <td>NC</td>\n",
       "      <td>2016-08-12 15:42:11</td>\n",
       "      <td>Grades 3-5</td>\n",
       "      <td>Health &amp; Sports</td>\n",
       "      <td>Health &amp; Wellness</td>\n",
       "      <td>\\\"Kid Inspired\\\" Equipment to Increase Activit...</td>\n",
       "      <td>My students are the greatest students but are ...</td>\n",
       "      <td>The student's project which is totally \\\"kid-i...</td>\n",
       "      <td>NaN</td>\n",
       "      <td>NaN</td>\n",
       "      <td>My students need balls and other activity equi...</td>\n",
       "      <td>16</td>\n",
       "      <td>0</td>\n",
       "    </tr>\n",
       "    <tr>\n",
       "      <th>4</th>\n",
       "      <td>p013780</td>\n",
       "      <td>a63b5547a7239eae4c1872670848e61a</td>\n",
       "      <td>Mr.</td>\n",
       "      <td>CA</td>\n",
       "      <td>2016-08-06 09:09:11</td>\n",
       "      <td>Grades 6-8</td>\n",
       "      <td>Health &amp; Sports</td>\n",
       "      <td>Health &amp; Wellness</td>\n",
       "      <td>We need clean water for our culinary arts class!</td>\n",
       "      <td>My students are athletes and students who are ...</td>\n",
       "      <td>For some reason in our kitchen the water comes...</td>\n",
       "      <td>NaN</td>\n",
       "      <td>NaN</td>\n",
       "      <td>My students need a water filtration system for...</td>\n",
       "      <td>42</td>\n",
       "      <td>1</td>\n",
       "    </tr>\n",
       "  </tbody>\n",
       "</table>\n",
       "</div>"
      ],
      "text/plain": [
       "        id                        teacher_id teacher_prefix school_state  \\\n",
       "0  p036502  484aaf11257089a66cfedc9461c6bd0a            Ms.           NV   \n",
       "1  p039565  df72a3ba8089423fa8a94be88060f6ed           Mrs.           GA   \n",
       "2  p233823  a9b876a9252e08a55e3d894150f75ba3            Ms.           UT   \n",
       "3  p185307  525fdbb6ec7f538a48beebaa0a51b24f            Mr.           NC   \n",
       "4  p013780  a63b5547a7239eae4c1872670848e61a            Mr.           CA   \n",
       "\n",
       "  project_submitted_datetime project_grade_category  \\\n",
       "0        2016-11-18 14:45:59          Grades PreK-2   \n",
       "1        2017-04-26 15:57:28             Grades 3-5   \n",
       "2        2017-01-01 22:57:44             Grades 3-5   \n",
       "3        2016-08-12 15:42:11             Grades 3-5   \n",
       "4        2016-08-06 09:09:11             Grades 6-8   \n",
       "\n",
       "            project_subject_categories  \\\n",
       "0                  Literacy & Language   \n",
       "1    Music & The Arts, Health & Sports   \n",
       "2  Math & Science, Literacy & Language   \n",
       "3                      Health & Sports   \n",
       "4                      Health & Sports   \n",
       "\n",
       "            project_subject_subcategories  \\\n",
       "0                                Literacy   \n",
       "1            Performing Arts, Team Sports   \n",
       "2  Applied Sciences, Literature & Writing   \n",
       "3                       Health & Wellness   \n",
       "4                       Health & Wellness   \n",
       "\n",
       "                                       project_title  \\\n",
       "0                           Super Sight Word Centers   \n",
       "1                             Keep Calm and Dance On   \n",
       "2                              Lets 3Doodle to Learn   \n",
       "3  \\\"Kid Inspired\\\" Equipment to Increase Activit...   \n",
       "4   We need clean water for our culinary arts class!   \n",
       "\n",
       "                                     project_essay_1  \\\n",
       "0  Most of my kindergarten students come from low...   \n",
       "1  Our elementary school is a culturally rich sch...   \n",
       "2  Hello;\\r\\nMy name is Mrs. Brotherton. I teach ...   \n",
       "3  My students are the greatest students but are ...   \n",
       "4  My students are athletes and students who are ...   \n",
       "\n",
       "                                     project_essay_2 project_essay_3  \\\n",
       "0  I currently have a differentiated sight word c...             NaN   \n",
       "1  We strive to provide our diverse population of...             NaN   \n",
       "2  We are looking to add some 3Doodler to our cla...             NaN   \n",
       "3  The student's project which is totally \\\"kid-i...             NaN   \n",
       "4  For some reason in our kitchen the water comes...             NaN   \n",
       "\n",
       "  project_essay_4                           project_resource_summary  \\\n",
       "0             NaN  My students need 6 Ipod Nano's to create and d...   \n",
       "1             NaN  My students need matching shirts to wear for d...   \n",
       "2             NaN  My students need the 3doodler. We are an SEM s...   \n",
       "3             NaN  My students need balls and other activity equi...   \n",
       "4             NaN  My students need a water filtration system for...   \n",
       "\n",
       "   teacher_number_of_previously_posted_projects  project_is_approved  \n",
       "0                                            26                    1  \n",
       "1                                             1                    0  \n",
       "2                                             5                    1  \n",
       "3                                            16                    0  \n",
       "4                                            42                    1  "
      ]
     },
     "metadata": {},
     "output_type": "display_data"
    }
   ],
   "source": [
    "display(train.head(5))"
   ]
  },
  {
   "cell_type": "markdown",
   "metadata": {
    "colab_type": "text",
    "id": "ZSL5_0JJfqVh"
   },
   "source": [
    "#### Let's take a closer look at the distribution, statistics and various counts on the data:\n",
    "\n",
    "*Huge thanks to [Andrew Lukyanenko](https://www.kaggle.com/artgor) to present the library [`pandas_profiling`](https://github.com/pandas-profiling/pandas-profiling) which handles automatically a lot of the EDA necessary for all ML projects*\n"
   ]
  },
  {
   "cell_type": "code",
   "execution_count": 11,
   "metadata": {
    "ExecuteTime": {
     "end_time": "2018-04-17T22:29:19.535391Z",
     "start_time": "2018-04-17T22:29:18.115205Z"
    }
   },
   "outputs": [
    {
     "name": "stdout",
     "output_type": "stream",
     "text": [
      "Training Data: \n",
      "\n",
      "id | 182080 | object\n",
      "teacher_id | 104414 | object\n",
      "teacher_prefix | 6 | object\n",
      "school_state | 51 | object\n",
      "project_submitted_datetime | 180439 | datetime64[ns]\n",
      "project_grade_category | 4 | object\n",
      "project_subject_categories | 51 | object\n",
      "project_subject_subcategories | 407 | object\n",
      "project_title | 164282 | object\n",
      "project_essay_1 | 147689 | object\n",
      "project_essay_2 | 180984 | object\n",
      "project_essay_3 | 6360 | object\n",
      "project_essay_4 | 6337 | object\n",
      "project_resource_summary | 179730 | object\n",
      "teacher_number_of_previously_posted_projects | 401 | int64\n",
      "project_is_approved | 2 | uint8\n",
      "================================================================================\n",
      "Test Data: \n",
      "\n",
      "id | 78035 | object\n",
      "teacher_id | 55508 | object\n",
      "teacher_prefix | 6 | object\n",
      "school_state | 51 | object\n",
      "project_submitted_datetime | 77646 | datetime64[ns]\n",
      "project_grade_category | 4 | object\n",
      "project_subject_categories | 51 | object\n",
      "project_subject_subcategories | 390 | object\n",
      "project_title | 72755 | object\n",
      "project_essay_1 | 69435 | object\n",
      "project_essay_2 | 77826 | object\n",
      "project_essay_3 | 2703 | object\n",
      "project_essay_4 | 2693 | object\n",
      "project_resource_summary | 77531 | object\n",
      "teacher_number_of_previously_posted_projects | 352 | int64\n"
     ]
    }
   ],
   "source": [
    "def unique_col_values(df):\n",
    "    for column in df:\n",
    "        print(\"{} | {} | {}\".format(df[column].name, \n",
    "                                    len(df[column].unique()),\n",
    "                                    df[column].dtype))\n",
    "\n",
    "print(\"Training Data: \\n\")\n",
    "unique_col_values(train)\n",
    "print(80 * \"=\")\n",
    "print(\"Test Data: \\n\")\n",
    "unique_col_values(test)\n",
    "\n",
    "# TODO: Distributions"
   ]
  },
  {
   "cell_type": "markdown",
   "metadata": {},
   "source": [
    "Additional Observations:\n",
    "\n",
    " * There is about 182k observations in our training set and 78k in our test set\n",
    " * **Teachers and School Information**: We have three categorical variables about the teachers and the school`teacher_id` uniquely identify an individual teacher anonimously, `teacher_prefix` is probably an important categorical feature identifying gender and `school_state` is also categorical\n",
    " * **Project Information**: *3 Categorical Variables*, `project_grade_subcategory`, `project_subject_categories`, `project_subject_subcategories`, describing the grade and subjects, and *2 textual ones*, `project_title` and `project_resource_summary`. The former doesn't seem to be very useful in predicting the outcome, but the latter do, let's see.\n",
    " * **Project Essay**: This 4 additional textual features are the proposal's core and probably the most important variables. We'll need to make use of some nlp processing to make those useful.\n",
    " * The only numerical variable is `teacher_number_of_previously_posted_projects`\n",
    " * The null values are significant only in the columns `project_essay_3` and `project_essay_4`\n",
    " * There isn't a strong correlation between the number of previously submitted projects by a teacher and the rate of approval\n",
    " * California is the leader state from where projects are submitted, followed by Texas and New York\n",
    " "
   ]
  },
  {
   "cell_type": "markdown",
   "metadata": {},
   "source": [
    "### Resources Data\n",
    "\n",
    "Additionally, the `resources.csv` data set provides more data about the resources required for each project. Each line in this file represents a resource required by a project:\n",
    "\n",
    "Feature | Description | Data Type\n",
    "----------|---------------|------------\n",
    "**`id`** | A `project_id` value from the `train.csv` file.  **Example:** `p036502`   | string\n",
    "**`description`** | Desciption of the resource. **Example:** `Tenor Saxophone Reeds, Box of 25`   | string\n",
    "**`quantity`** | Quantity of the resource required. **Example:** `3`   | string\n",
    "**`price`** | Price of the resource required. **Example:** `9.95`   | string\n",
    "\n",
    "**Note:** Many projects require multiple resources. The `id` value corresponds to a `project_id` in train.csv, so you use it as a key to retrieve all resources needed for a project:"
   ]
  },
  {
   "cell_type": "code",
   "execution_count": 12,
   "metadata": {
    "ExecuteTime": {
     "end_time": "2018-04-17T22:29:20.061011Z",
     "start_time": "2018-04-17T22:29:19.537200Z"
    }
   },
   "outputs": [
    {
     "name": "stdout",
     "output_type": "stream",
     "text": [
      "Resources Data: \n",
      "\n",
      "id | 260115 | object\n",
      "description | 332929 | object\n",
      "quantity | 208 | int64\n",
      "price | 26890 | float64\n"
     ]
    }
   ],
   "source": [
    "print(\"Resources Data: \\n\")\n",
    "unique_col_values(resources)"
   ]
  },
  {
   "cell_type": "code",
   "execution_count": 13,
   "metadata": {
    "ExecuteTime": {
     "end_time": "2018-04-17T22:29:20.101981Z",
     "start_time": "2018-04-17T22:29:20.062950Z"
    }
   },
   "outputs": [
    {
     "data": {
      "text/html": [
       "<div>\n",
       "<style scoped>\n",
       "    .dataframe tbody tr th:only-of-type {\n",
       "        vertical-align: middle;\n",
       "    }\n",
       "\n",
       "    .dataframe tbody tr th {\n",
       "        vertical-align: top;\n",
       "    }\n",
       "\n",
       "    .dataframe thead th {\n",
       "        text-align: right;\n",
       "    }\n",
       "</style>\n",
       "<table border=\"1\" class=\"dataframe\">\n",
       "  <thead>\n",
       "    <tr style=\"text-align: right;\">\n",
       "      <th></th>\n",
       "      <th>id</th>\n",
       "      <th>description</th>\n",
       "      <th>quantity</th>\n",
       "      <th>price</th>\n",
       "    </tr>\n",
       "  </thead>\n",
       "  <tbody>\n",
       "    <tr>\n",
       "      <th>0</th>\n",
       "      <td>p233245</td>\n",
       "      <td>LC652 - Lakeshore Double-Space Mobile Drying Rack</td>\n",
       "      <td>1</td>\n",
       "      <td>149.00</td>\n",
       "    </tr>\n",
       "    <tr>\n",
       "      <th>1</th>\n",
       "      <td>p069063</td>\n",
       "      <td>Bouncy Bands for Desks (Blue support pipes)</td>\n",
       "      <td>3</td>\n",
       "      <td>14.95</td>\n",
       "    </tr>\n",
       "    <tr>\n",
       "      <th>2</th>\n",
       "      <td>p069063</td>\n",
       "      <td>Cory Stories: A Kid's Book About Living With Adhd</td>\n",
       "      <td>1</td>\n",
       "      <td>8.45</td>\n",
       "    </tr>\n",
       "    <tr>\n",
       "      <th>3</th>\n",
       "      <td>p069063</td>\n",
       "      <td>Dixon Ticonderoga Wood-Cased #2 HB Pencils, Bo...</td>\n",
       "      <td>2</td>\n",
       "      <td>13.59</td>\n",
       "    </tr>\n",
       "    <tr>\n",
       "      <th>4</th>\n",
       "      <td>p069063</td>\n",
       "      <td>EDUCATIONAL INSIGHTS FLUORESCENT LIGHT FILTERS...</td>\n",
       "      <td>3</td>\n",
       "      <td>24.95</td>\n",
       "    </tr>\n",
       "  </tbody>\n",
       "</table>\n",
       "</div>"
      ],
      "text/plain": [
       "        id                                        description  quantity  \\\n",
       "0  p233245  LC652 - Lakeshore Double-Space Mobile Drying Rack         1   \n",
       "1  p069063        Bouncy Bands for Desks (Blue support pipes)         3   \n",
       "2  p069063  Cory Stories: A Kid's Book About Living With Adhd         1   \n",
       "3  p069063  Dixon Ticonderoga Wood-Cased #2 HB Pencils, Bo...         2   \n",
       "4  p069063  EDUCATIONAL INSIGHTS FLUORESCENT LIGHT FILTERS...         3   \n",
       "\n",
       "    price  \n",
       "0  149.00  \n",
       "1   14.95  \n",
       "2    8.45  \n",
       "3   13.59  \n",
       "4   24.95  "
      ]
     },
     "metadata": {},
     "output_type": "display_data"
    }
   ],
   "source": [
    "display(resources.head())"
   ]
  },
  {
   "cell_type": "markdown",
   "metadata": {},
   "source": [
    "## Individual Feature Visualizations "
   ]
  },
  {
   "cell_type": "code",
   "execution_count": 14,
   "metadata": {
    "ExecuteTime": {
     "end_time": "2018-04-17T22:29:20.138963Z",
     "start_time": "2018-04-17T22:29:20.104030Z"
    }
   },
   "outputs": [],
   "source": [
    "# Helper function \n",
    "\n",
    "def agg_count(df: pd.DataFrame, group_field: str)-> pd.DataFrame:\n",
    "    \"\"\"\n",
    "    Receives a DataFrame, group by the column group_field\n",
    "    aggregate it by size of each of the group field\n",
    "    \n",
    "    Returns a DataFrame with 2 columns: group_fields and counts\n",
    "    \n",
    "    \"\"\"\n",
    "    grouped = df.groupby(group_field, as_index=False).size()\n",
    "    grouped = pd.DataFrame(grouped).reset_index()\n",
    "    grouped.columns = [group_field, 'count']\n",
    "    grouped = grouped.sort_values(by='count', ascending=False)\n",
    "      \n",
    "    return grouped"
   ]
  },
  {
   "cell_type": "markdown",
   "metadata": {},
   "source": [
    "### Space\n",
    "\n",
    "Let's visualize the number of proposals accros the various US states.\n",
    "\n",
    "Code for creating map from borrowed from: https://www.kaggle.com/hoonkeng/how-to-get-81-gru-att-lgbm-tf-idf-eda"
   ]
  },
  {
   "cell_type": "code",
   "execution_count": 15,
   "metadata": {
    "ExecuteTime": {
     "end_time": "2018-04-17T22:29:20.246552Z",
     "start_time": "2018-04-17T22:29:20.140520Z"
    },
    "cell_style": "center"
   },
   "outputs": [
    {
     "data": {
      "text/html": [
       "<div>\n",
       "<style scoped>\n",
       "    .dataframe tbody tr th:only-of-type {\n",
       "        vertical-align: middle;\n",
       "    }\n",
       "\n",
       "    .dataframe tbody tr th {\n",
       "        vertical-align: top;\n",
       "    }\n",
       "\n",
       "    .dataframe thead th {\n",
       "        text-align: right;\n",
       "    }\n",
       "</style>\n",
       "<table border=\"1\" class=\"dataframe\">\n",
       "  <thead>\n",
       "    <tr style=\"text-align: right;\">\n",
       "      <th></th>\n",
       "      <th>school_state</th>\n",
       "      <th>total_approvals</th>\n",
       "    </tr>\n",
       "  </thead>\n",
       "  <tbody>\n",
       "    <tr>\n",
       "      <th>4</th>\n",
       "      <td>CA</td>\n",
       "      <td>22006</td>\n",
       "    </tr>\n",
       "    <tr>\n",
       "      <th>34</th>\n",
       "      <td>NY</td>\n",
       "      <td>10377</td>\n",
       "    </tr>\n",
       "    <tr>\n",
       "      <th>43</th>\n",
       "      <td>TX</td>\n",
       "      <td>10036</td>\n",
       "    </tr>\n",
       "    <tr>\n",
       "      <th>9</th>\n",
       "      <td>FL</td>\n",
       "      <td>8541</td>\n",
       "    </tr>\n",
       "    <tr>\n",
       "      <th>27</th>\n",
       "      <td>NC</td>\n",
       "      <td>7223</td>\n",
       "    </tr>\n",
       "  </tbody>\n",
       "</table>\n",
       "</div>"
      ],
      "text/plain": [
       "   school_state  total_approvals\n",
       "4            CA            22006\n",
       "34           NY            10377\n",
       "43           TX            10036\n",
       "9            FL             8541\n",
       "27           NC             7223"
      ]
     },
     "execution_count": 15,
     "metadata": {},
     "output_type": "execute_result"
    }
   ],
   "source": [
    "# DataFrame to store the approved projects by state\n",
    "#approved_by_state = train.groupby('school_state')['project_is_approved'].agg('sum').reset_index().sort_values('school_state').reset_index()\n",
    "\n",
    "approved_by_state = agg_count(train.loc[train[\"project_is_approved\"] == 1], \"school_state\")\n",
    "\n",
    "approved_by_state.columns = [\"school_state\", \"total_approvals\"]\n",
    "\n",
    "approved_by_state.head()\n"
   ]
  },
  {
   "cell_type": "code",
   "execution_count": 16,
   "metadata": {
    "ExecuteTime": {
     "end_time": "2018-04-17T22:29:20.294815Z",
     "start_time": "2018-04-17T22:29:20.248120Z"
    }
   },
   "outputs": [
    {
     "data": {
      "text/html": [
       "<div>\n",
       "<style scoped>\n",
       "    .dataframe tbody tr th:only-of-type {\n",
       "        vertical-align: middle;\n",
       "    }\n",
       "\n",
       "    .dataframe tbody tr th {\n",
       "        vertical-align: top;\n",
       "    }\n",
       "\n",
       "    .dataframe thead th {\n",
       "        text-align: right;\n",
       "    }\n",
       "</style>\n",
       "<table border=\"1\" class=\"dataframe\">\n",
       "  <thead>\n",
       "    <tr style=\"text-align: right;\">\n",
       "      <th></th>\n",
       "      <th>school_state</th>\n",
       "      <th>total_submissions</th>\n",
       "    </tr>\n",
       "  </thead>\n",
       "  <tbody>\n",
       "    <tr>\n",
       "      <th>4</th>\n",
       "      <td>CA</td>\n",
       "      <td>25695</td>\n",
       "    </tr>\n",
       "    <tr>\n",
       "      <th>43</th>\n",
       "      <td>TX</td>\n",
       "      <td>12304</td>\n",
       "    </tr>\n",
       "    <tr>\n",
       "      <th>34</th>\n",
       "      <td>NY</td>\n",
       "      <td>12157</td>\n",
       "    </tr>\n",
       "    <tr>\n",
       "      <th>9</th>\n",
       "      <td>FL</td>\n",
       "      <td>10359</td>\n",
       "    </tr>\n",
       "    <tr>\n",
       "      <th>27</th>\n",
       "      <td>NC</td>\n",
       "      <td>8463</td>\n",
       "    </tr>\n",
       "  </tbody>\n",
       "</table>\n",
       "</div>"
      ],
      "text/plain": [
       "   school_state  total_submissions\n",
       "4            CA              25695\n",
       "43           TX              12304\n",
       "34           NY              12157\n",
       "9            FL              10359\n",
       "27           NC               8463"
      ]
     },
     "execution_count": 16,
     "metadata": {},
     "output_type": "execute_result"
    }
   ],
   "source": [
    "# Create a DataFrame to store the sum of submissions by state\n",
    "#submitted_by_state = train['school_state'].value_counts().reset_index()\n",
    "submitted_by_state = agg_count(train, 'school_state')\n",
    "\n",
    "submitted_by_state.columns = ['school_state', \"total_submissions\"]\n",
    "\n",
    "submitted_by_state.head()"
   ]
  },
  {
   "cell_type": "code",
   "execution_count": 17,
   "metadata": {
    "ExecuteTime": {
     "end_time": "2018-04-17T22:29:20.334565Z",
     "start_time": "2018-04-17T22:29:20.296326Z"
    }
   },
   "outputs": [
    {
     "data": {
      "application/vnd.plotly.v1+json": {
       "data": [
        {
         "autocolorscale": false,
         "colorbar": {
          "title": "Number of Proposals"
         },
         "colorscale": [
          [
           0,
           "rgb(242,240,247)"
          ],
          [
           0.2,
           "rgb(218,218,235)"
          ],
          [
           0.4,
           "rgb(188,189,220)"
          ],
          [
           0.6,
           "rgb(158,154,200)"
          ],
          [
           0.8,
           "rgb(117,107,177)"
          ],
          [
           1,
           "rgb(84,39,143)"
          ]
         ],
         "locationmode": "USA-states",
         "locations": [
          "CA",
          "TX",
          "NY",
          "FL",
          "NC",
          "IL",
          "GA",
          "SC",
          "MI",
          "PA",
          "IN",
          "MO",
          "OH",
          "MA",
          "LA",
          "WA",
          "OK",
          "NJ",
          "AZ",
          "VA",
          "WI",
          "AL",
          "TN",
          "UT",
          "CT",
          "MD",
          "NV",
          "MS",
          "KY",
          "OR",
          "MN",
          "CO",
          "AR",
          "ID",
          "IA",
          "KS",
          "NM",
          "DC",
          "HI",
          "WV",
          "ME",
          "DE",
          "NH",
          "AK",
          "SD",
          "NE",
          "RI",
          "MT",
          "ND",
          "WY",
          "VT"
         ],
         "marker": {
          "line": {
           "color": "rgb(255,255,255)",
           "width": 2
          }
         },
         "type": "choropleth",
         "z": [
          25695,
          12304,
          12157,
          10359,
          8463,
          7332,
          6636,
          6463,
          5324,
          5093,
          4314,
          4247,
          4139,
          4054,
          3946,
          3903,
          3829,
          3671,
          3614,
          3446,
          2983,
          2955,
          2836,
          2814,
          2766,
          2480,
          2297,
          2222,
          2172,
          2119,
          2055,
          1887,
          1757,
          1113,
          1079,
          1060,
          916,
          902,
          869,
          839,
          827,
          589,
          587,
          557,
          494,
          493,
          475,
          384,
          248,
          177,
          139
         ]
        }
       ],
       "layout": {
        "geo": {
         "lakecolor": "rgb(255, 255, 255)",
         "projection": {
          "type": "albers usa"
         },
         "scope": "usa",
         "showlakes": true
        },
        "title": "DonorChoose Submitted Proposals by State in US"
       }
      },
      "text/html": [
       "<div id=\"001d99d6-ed9c-47bd-a833-edc062d6a2bb\" style=\"height: 525px; width: 100%;\" class=\"plotly-graph-div\"></div><script type=\"text/javascript\">require([\"plotly\"], function(Plotly) { window.PLOTLYENV=window.PLOTLYENV || {};window.PLOTLYENV.BASE_URL=\"https://plot.ly\";Plotly.newPlot(\"001d99d6-ed9c-47bd-a833-edc062d6a2bb\", [{\"type\": \"choropleth\", \"colorscale\": [[0.0, \"rgb(242,240,247)\"], [0.2, \"rgb(218,218,235)\"], [0.4, \"rgb(188,189,220)\"], [0.6, \"rgb(158,154,200)\"], [0.8, \"rgb(117,107,177)\"], [1.0, \"rgb(84,39,143)\"]], \"autocolorscale\": false, \"locations\": [\"CA\", \"TX\", \"NY\", \"FL\", \"NC\", \"IL\", \"GA\", \"SC\", \"MI\", \"PA\", \"IN\", \"MO\", \"OH\", \"MA\", \"LA\", \"WA\", \"OK\", \"NJ\", \"AZ\", \"VA\", \"WI\", \"AL\", \"TN\", \"UT\", \"CT\", \"MD\", \"NV\", \"MS\", \"KY\", \"OR\", \"MN\", \"CO\", \"AR\", \"ID\", \"IA\", \"KS\", \"NM\", \"DC\", \"HI\", \"WV\", \"ME\", \"DE\", \"NH\", \"AK\", \"SD\", \"NE\", \"RI\", \"MT\", \"ND\", \"WY\", \"VT\"], \"z\": [25695, 12304, 12157, 10359, 8463, 7332, 6636, 6463, 5324, 5093, 4314, 4247, 4139, 4054, 3946, 3903, 3829, 3671, 3614, 3446, 2983, 2955, 2836, 2814, 2766, 2480, 2297, 2222, 2172, 2119, 2055, 1887, 1757, 1113, 1079, 1060, 916, 902, 869, 839, 827, 589, 587, 557, 494, 493, 475, 384, 248, 177, 139], \"locationmode\": \"USA-states\", \"marker\": {\"line\": {\"color\": \"rgb(255,255,255)\", \"width\": 2}}, \"colorbar\": {\"title\": \"Number of Proposals\"}}], {\"title\": \"DonorChoose Submitted Proposals by State in US\", \"geo\": {\"scope\": \"usa\", \"projection\": {\"type\": \"albers usa\"}, \"showlakes\": true, \"lakecolor\": \"rgb(255, 255, 255)\"}}, {\"showLink\": true, \"linkText\": \"Export to plot.ly\"})});</script>"
      ],
      "text/vnd.plotly.v1+html": [
       "<div id=\"001d99d6-ed9c-47bd-a833-edc062d6a2bb\" style=\"height: 525px; width: 100%;\" class=\"plotly-graph-div\"></div><script type=\"text/javascript\">require([\"plotly\"], function(Plotly) { window.PLOTLYENV=window.PLOTLYENV || {};window.PLOTLYENV.BASE_URL=\"https://plot.ly\";Plotly.newPlot(\"001d99d6-ed9c-47bd-a833-edc062d6a2bb\", [{\"type\": \"choropleth\", \"colorscale\": [[0.0, \"rgb(242,240,247)\"], [0.2, \"rgb(218,218,235)\"], [0.4, \"rgb(188,189,220)\"], [0.6, \"rgb(158,154,200)\"], [0.8, \"rgb(117,107,177)\"], [1.0, \"rgb(84,39,143)\"]], \"autocolorscale\": false, \"locations\": [\"CA\", \"TX\", \"NY\", \"FL\", \"NC\", \"IL\", \"GA\", \"SC\", \"MI\", \"PA\", \"IN\", \"MO\", \"OH\", \"MA\", \"LA\", \"WA\", \"OK\", \"NJ\", \"AZ\", \"VA\", \"WI\", \"AL\", \"TN\", \"UT\", \"CT\", \"MD\", \"NV\", \"MS\", \"KY\", \"OR\", \"MN\", \"CO\", \"AR\", \"ID\", \"IA\", \"KS\", \"NM\", \"DC\", \"HI\", \"WV\", \"ME\", \"DE\", \"NH\", \"AK\", \"SD\", \"NE\", \"RI\", \"MT\", \"ND\", \"WY\", \"VT\"], \"z\": [25695, 12304, 12157, 10359, 8463, 7332, 6636, 6463, 5324, 5093, 4314, 4247, 4139, 4054, 3946, 3903, 3829, 3671, 3614, 3446, 2983, 2955, 2836, 2814, 2766, 2480, 2297, 2222, 2172, 2119, 2055, 1887, 1757, 1113, 1079, 1060, 916, 902, 869, 839, 827, 589, 587, 557, 494, 493, 475, 384, 248, 177, 139], \"locationmode\": \"USA-states\", \"marker\": {\"line\": {\"color\": \"rgb(255,255,255)\", \"width\": 2}}, \"colorbar\": {\"title\": \"Number of Proposals\"}}], {\"title\": \"DonorChoose Submitted Proposals by State in US\", \"geo\": {\"scope\": \"usa\", \"projection\": {\"type\": \"albers usa\"}, \"showlakes\": true, \"lakecolor\": \"rgb(255, 255, 255)\"}}, {\"showLink\": true, \"linkText\": \"Export to plot.ly\"})});</script>"
      ]
     },
     "metadata": {},
     "output_type": "display_data"
    }
   ],
   "source": [
    "# Create map in plotly\n",
    "colorscale = [[0.0, 'rgb(242,240,247)'],[0.2, 'rgb(218,218,235)'],[0.4, 'rgb(188,189,220)'],\\\n",
    "              [0.6, 'rgb(158,154,200)'],[0.8, 'rgb(117,107,177)'],[1.0, 'rgb(84,39,143)']]\n",
    "\n",
    "line = {'color': 'rgb(255,255,255)', 'width': 2}\n",
    "\n",
    "data = [{'type': 'choropleth', \n",
    "         'colorscale' : colorscale, \n",
    "         'autocolorscale': False, \n",
    "         'locations': submitted_by_state['school_state'], \n",
    "         'z' : submitted_by_state['total_submissions'].astype(int),\n",
    "         'locationmode' : 'USA-states',\n",
    "         'marker' : dict(line = line),\n",
    "         'colorbar': dict(title = 'Number of Proposals')\n",
    "        }]\n",
    "\n",
    "layout = {'title': 'DonorChoose Submitted Proposals by State in US',\n",
    "          'geo': dict(scope='usa', \n",
    "                      projection=dict(type='albers usa'), \n",
    "                      showlakes=True, \n",
    "                      lakecolor='rgb(255, 255, 255)')}\n",
    "\n",
    "fig = dict(data=data, layout=layout)\n",
    "\n",
    "py.iplot(fig, filename='submission_distribution_by_state')\n",
    "\n",
    "del colorscale, line, data, layout"
   ]
  },
  {
   "cell_type": "code",
   "execution_count": 18,
   "metadata": {
    "ExecuteTime": {
     "end_time": "2018-04-17T22:29:21.220605Z",
     "start_time": "2018-04-17T22:29:20.336017Z"
    }
   },
   "outputs": [
    {
     "data": {
      "image/png": "[encoded data removed]",
      "text/plain": [
       "<Figure size 1152x720 with 1 Axes>"
      ]
     },
     "metadata": {},
     "output_type": "display_data"
    }
   ],
   "source": [
    "# Initialize the figure with a logarithmic x axis\n",
    "f, ax = plt.subplots(figsize=(16, 10))\n",
    "ax.set_yscale(\"log\")\n",
    "\n",
    "ax = sns.barplot(submitted_by_state['school_state'], submitted_by_state['total_submissions'])\n",
    "\n",
    "ax.set(xlabel=\"State\", \n",
    "       ylabel=\"Total Submissions\",\n",
    "       title = \"Number of Submitted Project Proposals per US state ( log axis )\")\n",
    "\n",
    "ax.yaxis.grid(True)\n",
    "\n",
    "plt.xticks(rotation=90)\n",
    "\n",
    "plt.show()\n",
    "\n",
    "del f, ax"
   ]
  },
  {
   "cell_type": "code",
   "execution_count": 19,
   "metadata": {
    "ExecuteTime": {
     "end_time": "2018-04-17T22:29:21.993509Z",
     "start_time": "2018-04-17T22:29:21.222350Z"
    }
   },
   "outputs": [
    {
     "data": {
      "image/png": "[encoded data removed]",
      "text/plain": [
       "<Figure size 1152x720 with 1 Axes>"
      ]
     },
     "metadata": {},
     "output_type": "display_data"
    }
   ],
   "source": [
    "# Initialize the figure with a logarithmic x axis\n",
    "f, ax = plt.subplots(figsize=(16, 10))\n",
    "ax.set_yscale(\"log\")\n",
    "\n",
    "ax = sns.barplot(approved_by_state['school_state'], approved_by_state['total_approvals'])\n",
    "\n",
    "ax.set(xlabel=\"State\", \n",
    "       ylabel=\"Total Approvals\",\n",
    "       title = \"Number of Approved Project Proposals per US state ( log axis )\")\n",
    "\n",
    "ax.yaxis.grid(True)\n",
    "\n",
    "plt.xticks(rotation=90)\n",
    "\n",
    "plt.show()\n",
    "\n",
    "del f, ax"
   ]
  },
  {
   "cell_type": "markdown",
   "metadata": {},
   "source": [
    "* California (CA) has the biggest number of proposals `25.695k`, followed by Texas (TX) with `12.304k` and New York with `12.157k`    "
   ]
  },
  {
   "cell_type": "markdown",
   "metadata": {},
   "source": [
    "### Teachers"
   ]
  },
  {
   "cell_type": "code",
   "execution_count": 20,
   "metadata": {
    "ExecuteTime": {
     "end_time": "2018-04-17T22:29:22.694630Z",
     "start_time": "2018-04-17T22:29:21.995400Z"
    }
   },
   "outputs": [
    {
     "data": {
      "image/png": "[encoded data removed]",
      "text/plain": [
       "<Figure size 1152x864 with 2 Axes>"
      ]
     },
     "metadata": {},
     "output_type": "display_data"
    }
   ],
   "source": [
    "prefix_counts = agg_count(train, \"teacher_prefix\")\n",
    "\n",
    "male = [\"Mr.\"]\n",
    "female = [\"Mrs.\", \"Ms.\"]\n",
    "\n",
    "train.loc[train[\"teacher_prefix\"].isin(male), \"teacher_gender\"] = \"Male\"\n",
    "train.loc[train[\"teacher_prefix\"].isin(female), \"teacher_gender\"] = \"Female\"\n",
    "\n",
    "gender_counts = agg_count(train, \"teacher_gender\")\n",
    "\n",
    "fig, (ax1, ax2) = plt.subplots(figsize=(16,12), ncols=2)\n",
    "\n",
    "plt.subplot(221)\n",
    "\n",
    "ax1 = sns.barplot(data=prefix_counts, x=\"teacher_prefix\", y=\"count\")\n",
    "\n",
    "ax1 = ax1.set(title=\"Teachers Prefix\",\n",
    "        xlabel=\"Prefix\")\n",
    "\n",
    "plt.subplot(222)\n",
    "\n",
    "ax2 = sns.barplot(data=gender_counts, x=\"teacher_gender\", y=\"count\")\n",
    "\n",
    "ax2 = ax2.set(title=\"Teachers Gender\",\n",
    "              xlabel=\"Gender\", \n",
    "              ylabel=\"Count\")\n",
    "\n",
    "train = train.drop(\"teacher_gender\", axis=1)\n",
    "\n",
    "del prefix_counts, male, female, gender_counts, fig, ax1, ax2"
   ]
  },
  {
   "cell_type": "markdown",
   "metadata": {
    "ExecuteTime": {
     "end_time": "2018-04-03T18:35:45.541943Z",
     "start_time": "2018-04-03T18:35:44.805093Z"
    }
   },
   "source": [
    "* There is a considerate dominance by women, around 90%\n",
    "\n",
    "* Note: Since we can't determine the gender in `Dr.` and `\"Teacher` we'll left those one out.\n",
    "\n",
    "* Only 4 teachers in the `training`set doesnt have a Prefix. Let's set those 4 to the most common prefix"
   ]
  },
  {
   "cell_type": "code",
   "execution_count": 21,
   "metadata": {
    "ExecuteTime": {
     "end_time": "2018-04-17T22:29:22.744333Z",
     "start_time": "2018-04-17T22:29:22.696471Z"
    }
   },
   "outputs": [],
   "source": [
    "train['teacher_prefix'].fillna('Mrs.', inplace=True)\n",
    "test['teacher_prefix'].fillna(\"Mrs.\", inplace=True)"
   ]
  },
  {
   "cell_type": "code",
   "execution_count": 22,
   "metadata": {
    "ExecuteTime": {
     "end_time": "2018-04-17T22:29:23.026824Z",
     "start_time": "2018-04-17T22:29:22.745867Z"
    }
   },
   "outputs": [
    {
     "data": {
      "text/html": [
       "<div>\n",
       "<style scoped>\n",
       "    .dataframe tbody tr th:only-of-type {\n",
       "        vertical-align: middle;\n",
       "    }\n",
       "\n",
       "    .dataframe tbody tr th {\n",
       "        vertical-align: top;\n",
       "    }\n",
       "\n",
       "    .dataframe thead th {\n",
       "        text-align: right;\n",
       "    }\n",
       "</style>\n",
       "<table border=\"1\" class=\"dataframe\">\n",
       "  <thead>\n",
       "    <tr style=\"text-align: right;\">\n",
       "      <th>project_is_approved</th>\n",
       "      <th>0</th>\n",
       "      <th>1</th>\n",
       "    </tr>\n",
       "    <tr>\n",
       "      <th>teacher_prefix</th>\n",
       "      <th></th>\n",
       "      <th></th>\n",
       "    </tr>\n",
       "  </thead>\n",
       "  <tbody>\n",
       "    <tr>\n",
       "      <th>Dr.</th>\n",
       "      <td>0.192308</td>\n",
       "      <td>0.807692</td>\n",
       "    </tr>\n",
       "    <tr>\n",
       "      <th>Mr.</th>\n",
       "      <td>0.157978</td>\n",
       "      <td>0.842022</td>\n",
       "    </tr>\n",
       "    <tr>\n",
       "      <th>Mrs.</th>\n",
       "      <td>0.145909</td>\n",
       "      <td>0.854091</td>\n",
       "    </tr>\n",
       "    <tr>\n",
       "      <th>Ms.</th>\n",
       "      <td>0.156948</td>\n",
       "      <td>0.843052</td>\n",
       "    </tr>\n",
       "    <tr>\n",
       "      <th>Teacher</th>\n",
       "      <td>0.205777</td>\n",
       "      <td>0.794223</td>\n",
       "    </tr>\n",
       "  </tbody>\n",
       "</table>\n",
       "</div>"
      ],
      "text/plain": [
       "project_is_approved         0         1\n",
       "teacher_prefix                         \n",
       "Dr.                  0.192308  0.807692\n",
       "Mr.                  0.157978  0.842022\n",
       "Mrs.                 0.145909  0.854091\n",
       "Ms.                  0.156948  0.843052\n",
       "Teacher              0.205777  0.794223"
      ]
     },
     "execution_count": 22,
     "metadata": {},
     "output_type": "execute_result"
    }
   ],
   "source": [
    "pd.crosstab(train.teacher_prefix, train.project_is_approved, dropna=False, normalize='index')"
   ]
  },
  {
   "cell_type": "markdown",
   "metadata": {},
   "source": [
    "Ideally the approval of a project should be independent of gender, this case seems to hold on this data."
   ]
  },
  {
   "cell_type": "markdown",
   "metadata": {},
   "source": [
    "### Project Categories & Grades"
   ]
  },
  {
   "cell_type": "code",
   "execution_count": 23,
   "metadata": {
    "ExecuteTime": {
     "end_time": "2018-04-17T22:29:23.362305Z",
     "start_time": "2018-04-17T22:29:23.028929Z"
    }
   },
   "outputs": [
    {
     "data": {
      "image/png": "[encoded data removed]",
      "text/plain": [
       "<Figure size 1152x720 with 1 Axes>"
      ]
     },
     "metadata": {},
     "output_type": "display_data"
    }
   ],
   "source": [
    "categories = agg_count(train, \"project_subject_categories\")\n",
    "\n",
    "categories = categories.sort_values(by=\"count\", ascending=False)[:10]\n",
    "\n",
    "subcategories = agg_count(train, \"project_subject_subcategories\")\n",
    "\n",
    "subcategories = subcategories.sort_values(by=\"count\", ascending=False)[:10]\n",
    "\n",
    "f, ax = plt.subplots(figsize=(16, 10))\n",
    "\n",
    "\n",
    "ax = sns.barplot(data=categories, y='project_subject_categories', x=\"count\")\n",
    "_ = ax.set_title(\"Project Subject Categories\")\n",
    "_ = ax.set(xlabel=\"Count\")\n",
    "_ = ax.set(ylabel=\"Subject Categories\")\n",
    "\n",
    "del f, ax"
   ]
  },
  {
   "cell_type": "markdown",
   "metadata": {},
   "source": [
    "* We only showed the top 10 categories to keep the plot readable.\n",
    "* The `subject_categories`are dominated by `Literary & language` and `Math & Science` or a combination of one of them. `Health & Sports`, `Music & The Arts` and `Special Needs`are also numerous "
   ]
  },
  {
   "cell_type": "code",
   "execution_count": 24,
   "metadata": {
    "ExecuteTime": {
     "end_time": "2018-04-17T22:29:23.655089Z",
     "start_time": "2018-04-17T22:29:23.364272Z"
    }
   },
   "outputs": [
    {
     "data": {
      "image/png": "[encoded data removed]",
      "text/plain": [
       "<Figure size 1152x720 with 1 Axes>"
      ]
     },
     "metadata": {},
     "output_type": "display_data"
    }
   ],
   "source": [
    "f, ax = plt.subplots(figsize=(16, 10))\n",
    "\n",
    "\n",
    "ax = sns.barplot(data=subcategories, y='project_subject_subcategories', x=\"count\")\n",
    "_ = ax.set_title(\"Project Subject Subcategories\")\n",
    "_ = ax.set(xlabel=\"Count\")\n",
    "_ = ax.set(ylabel=\"Subject Subcategories\")\n",
    "\n",
    "del f, ax"
   ]
  },
  {
   "cell_type": "markdown",
   "metadata": {},
   "source": [
    "* The subcategories doesn't seem to add much information in relation to their parent category "
   ]
  },
  {
   "cell_type": "code",
   "execution_count": 25,
   "metadata": {
    "ExecuteTime": {
     "end_time": "2018-04-17T22:29:23.834571Z",
     "start_time": "2018-04-17T22:29:23.656957Z"
    }
   },
   "outputs": [
    {
     "data": {
      "image/png": "[encoded data removed]",
      "text/plain": [
       "<Figure size 576x360 with 1 Axes>"
      ]
     },
     "metadata": {},
     "output_type": "display_data"
    }
   ],
   "source": [
    "grades = agg_count(train, \"project_grade_category\")\n",
    "\n",
    "f, ax = plt.subplots(figsize=(8, 5))\n",
    "\n",
    "\n",
    "ax = sns.barplot(data=grades, x='project_grade_category', y=\"count\")\n",
    "_ = ax.set_title(\"Project Grades\")\n",
    "_ = ax.set(ylabel=\"Count\")\n",
    "_ = ax.set(xlabel=\"Grade Categories\")\n",
    "\n",
    "del f, ax"
   ]
  },
  {
   "cell_type": "markdown",
   "metadata": {},
   "source": [
    "* There are more project proposals for younger students"
   ]
  },
  {
   "cell_type": "code",
   "execution_count": 26,
   "metadata": {
    "ExecuteTime": {
     "end_time": "2018-04-17T22:29:23.868433Z",
     "start_time": "2018-04-17T22:29:23.836392Z"
    }
   },
   "outputs": [],
   "source": [
    "del approved_by_state, categories, subcategories, grades, submitted_by_state"
   ]
  },
  {
   "cell_type": "markdown",
   "metadata": {},
   "source": [
    "## Feature Engineering\n",
    "\n"
   ]
  },
  {
   "cell_type": "markdown",
   "metadata": {},
   "source": [
    "### Joining of Resources Data to Train Data\n"
   ]
  },
  {
   "cell_type": "code",
   "execution_count": 27,
   "metadata": {
    "ExecuteTime": {
     "end_time": "2018-04-17T22:29:27.195620Z",
     "start_time": "2018-04-17T22:29:23.870581Z"
    }
   },
   "outputs": [
    {
     "name": "stderr",
     "output_type": "stream",
     "text": [
      "/home/ronaldo/anaconda3/envs/fastai/lib/python3.6/site-packages/matplotlib/font_manager.py:1328: UserWarning:\n",
      "\n",
      "findfont: Font family ['sans-serif'] not found. Falling back to DejaVu Sans\n",
      "\n",
      "/home/ronaldo/anaconda3/envs/fastai/lib/python3.6/site-packages/matplotlib/font_manager.py:1328: UserWarning:\n",
      "\n",
      "findfont: Font family ['sans-serif'] not found. Falling back to DejaVu Sans\n",
      "\n",
      "/home/ronaldo/anaconda3/envs/fastai/lib/python3.6/site-packages/matplotlib/font_manager.py:1328: UserWarning:\n",
      "\n",
      "findfont: Font family ['sans-serif'] not found. Falling back to DejaVu Sans\n",
      "\n"
     ]
    },
    {
     "data": {
      "text/html": [
       "<meta charset=\"UTF-8\">\n",
       "\n",
       "<style>\n",
       "\n",
       "        .variablerow {\n",
       "            border: 1px solid #e1e1e8;\n",
       "            border-top: hidden;\n",
       "            padding-top: 2em;\n",
       "            padding-bottom: 2em;\n",
       "            padding-left: 1em;\n",
       "            padding-right: 1em;\n",
       "        }\n",
       "\n",
       "        .headerrow {\n",
       "            border: 1px solid #e1e1e8;\n",
       "            background-color: #f5f5f5;\n",
       "            padding: 2em;\n",
       "        }\n",
       "        .namecol {\n",
       "            margin-top: -1em;\n",
       "            overflow-x: auto;\n",
       "        }\n",
       "\n",
       "        .dl-horizontal dt {\n",
       "            text-align: left;\n",
       "            padding-right: 1em;\n",
       "            white-space: normal;\n",
       "        }\n",
       "\n",
       "        .dl-horizontal dd {\n",
       "            margin-left: 0;\n",
       "        }\n",
       "\n",
       "        .ignore {\n",
       "            opacity: 0.4;\n",
       "        }\n",
       "\n",
       "        .container.pandas-profiling {\n",
       "            max-width:975px;\n",
       "        }\n",
       "\n",
       "        .col-md-12 {\n",
       "            padding-left: 2em;\n",
       "        }\n",
       "\n",
       "        .indent {\n",
       "            margin-left: 1em;\n",
       "        }\n",
       "\n",
       "        .center-img {\n",
       "            margin-left: auto !important;\n",
       "            margin-right: auto !important;\n",
       "            display: block;\n",
       "        }\n",
       "\n",
       "        /* Table example_values */\n",
       "            table.example_values {\n",
       "                border: 0;\n",
       "            }\n",
       "\n",
       "            .example_values th {\n",
       "                border: 0;\n",
       "                padding: 0 ;\n",
       "                color: #555;\n",
       "                font-weight: 600;\n",
       "            }\n",
       "\n",
       "            .example_values tr, .example_values td{\n",
       "                border: 0;\n",
       "                padding: 0;\n",
       "                color: #555;\n",
       "            }\n",
       "\n",
       "        /* STATS */\n",
       "            table.stats {\n",
       "                border: 0;\n",
       "            }\n",
       "\n",
       "            .stats th {\n",
       "                border: 0;\n",
       "                padding: 0 2em 0 0;\n",
       "                color: #555;\n",
       "                font-weight: 600;\n",
       "            }\n",
       "\n",
       "            .stats tr {\n",
       "                border: 0;\n",
       "            }\n",
       "\n",
       "            .stats td{\n",
       "                color: #555;\n",
       "                padding: 1px;\n",
       "                border: 0;\n",
       "            }\n",
       "\n",
       "\n",
       "        /* Sample table */\n",
       "            table.sample {\n",
       "                border: 0;\n",
       "                margin-bottom: 2em;\n",
       "                margin-left:1em;\n",
       "            }\n",
       "            .sample tr {\n",
       "                border:0;\n",
       "            }\n",
       "            .sample td, .sample th{\n",
       "                padding: 0.5em;\n",
       "                white-space: nowrap;\n",
       "                border: none;\n",
       "\n",
       "            }\n",
       "\n",
       "            .sample thead {\n",
       "                border-top: 0;\n",
       "                border-bottom: 2px solid #ddd;\n",
       "            }\n",
       "\n",
       "            .sample td {\n",
       "                width:100%;\n",
       "            }\n",
       "\n",
       "\n",
       "        /* There is no good solution available to make the divs equal height and then center ... */\n",
       "            .histogram {\n",
       "                margin-top: 3em;\n",
       "            }\n",
       "        /* Freq table */\n",
       "\n",
       "            table.freq {\n",
       "                margin-bottom: 2em;\n",
       "                border: 0;\n",
       "            }\n",
       "            table.freq th, table.freq tr, table.freq td {\n",
       "                border: 0;\n",
       "                padding: 0;\n",
       "            }\n",
       "\n",
       "            .freq thead {\n",
       "                font-weight: 600;\n",
       "                white-space: nowrap;\n",
       "                overflow: hidden;\n",
       "                text-overflow: ellipsis;\n",
       "\n",
       "            }\n",
       "\n",
       "            td.fillremaining{\n",
       "                width:auto;\n",
       "                max-width: none;\n",
       "            }\n",
       "\n",
       "            td.number, th.number {\n",
       "                text-align:right ;\n",
       "            }\n",
       "\n",
       "        /* Freq mini */\n",
       "            .freq.mini td{\n",
       "                width: 50%;\n",
       "                padding: 1px;\n",
       "                font-size: 12px;\n",
       "\n",
       "            }\n",
       "            table.freq.mini {\n",
       "                 width:100%;\n",
       "            }\n",
       "            .freq.mini th {\n",
       "                overflow: hidden;\n",
       "                text-overflow: ellipsis;\n",
       "                white-space: nowrap;\n",
       "                max-width: 5em;\n",
       "                font-weight: 400;\n",
       "                text-align:right;\n",
       "                padding-right: 0.5em;\n",
       "            }\n",
       "\n",
       "            .missing {\n",
       "                color: #a94442;\n",
       "            }\n",
       "            .alert, .alert > th, .alert > td {\n",
       "                color: #a94442;\n",
       "            }\n",
       "\n",
       "\n",
       "        /* Bars in tables */\n",
       "            .freq .bar{\n",
       "                float: left;\n",
       "                width: 0;\n",
       "                height: 100%;\n",
       "                line-height: 20px;\n",
       "                color: #fff;\n",
       "                text-align: center;\n",
       "                background-color: #337ab7;\n",
       "                border-radius: 3px;\n",
       "                margin-right: 4px;\n",
       "            }\n",
       "            .other .bar {\n",
       "                background-color: #999;\n",
       "            }\n",
       "            .missing .bar{\n",
       "                background-color: #a94442;\n",
       "            }\n",
       "            .tooltip-inner {\n",
       "                width: 100%;\n",
       "                white-space: nowrap;\n",
       "                text-align:left;\n",
       "            }\n",
       "\n",
       "            .extrapadding{\n",
       "                padding: 2em;\n",
       "            }\n",
       "\n",
       "            .pp-anchor{\n",
       "\n",
       "            }\n",
       "\n",
       "</style>\n",
       "\n",
       "<div class=\"container pandas-profiling\">\n",
       "    <div class=\"row headerrow highlight\">\n",
       "        <h1>Overview</h1>\n",
       "    </div>\n",
       "    <div class=\"row variablerow\">\n",
       "    <div class=\"col-md-6 namecol\">\n",
       "        <p class=\"h4\">Dataset info</p>\n",
       "        <table class=\"stats\" style=\"margin-left: 1em;\">\n",
       "            <tbody>\n",
       "            <tr>\n",
       "                <th>Number of variables</th>\n",
       "                <td>2 </td>\n",
       "            </tr>\n",
       "            <tr>\n",
       "                <th>Number of observations</th>\n",
       "                <td>1541272 </td>\n",
       "            </tr>\n",
       "            <tr>\n",
       "                <th>Total Missing (%)</th>\n",
       "                <td>0.0% </td>\n",
       "            </tr>\n",
       "            <tr>\n",
       "                <th>Total size in memory</th>\n",
       "                <td>23.5 MiB </td>\n",
       "            </tr>\n",
       "            <tr>\n",
       "                <th>Average record size in memory</th>\n",
       "                <td>16.0 B </td>\n",
       "            </tr>\n",
       "            </tbody>\n",
       "        </table>\n",
       "    </div>\n",
       "    <div class=\"col-md-6 namecol\">\n",
       "        <p class=\"h4\">Variables types</p>\n",
       "        <table class=\"stats\" style=\"margin-left: 1em;\">\n",
       "            <tbody>\n",
       "            <tr>\n",
       "                <th>Numeric</th>\n",
       "                <td>2 </td>\n",
       "            </tr>\n",
       "            <tr>\n",
       "                <th>Categorical</th>\n",
       "                <td>0 </td>\n",
       "            </tr>\n",
       "            <tr>\n",
       "                <th>Boolean</th>\n",
       "                <td>0 </td>\n",
       "            </tr>\n",
       "            <tr>\n",
       "                <th>Date</th>\n",
       "                <td>0 </td>\n",
       "            </tr>\n",
       "            <tr>\n",
       "                <th>Text (Unique)</th>\n",
       "                <td>0 </td>\n",
       "            </tr>\n",
       "            <tr>\n",
       "                <th>Rejected</th>\n",
       "                <td>0 </td>\n",
       "            </tr>\n",
       "            <tr>\n",
       "                <th>Unsupported</th>\n",
       "                <td>0 </td>\n",
       "            </tr>\n",
       "            </tbody>\n",
       "        </table>\n",
       "    </div>\n",
       "    <div class=\"col-md-12\" style=\"padding-left: 1em;\">\n",
       "        \n",
       "        <p class=\"h4\">Warnings</p>\n",
       "        <ul class=\"list-unstyled\"><li><a href=\"#pp_var_price\"><code>price</code></a> is highly skewed (γ1 = 23.464)  <span class=\"label label-info\">Skewed</span></li><li><a href=\"#pp_var_quantity\"><code>quantity</code></a> is highly skewed (γ1 = 21.383)  <span class=\"label label-info\">Skewed</span></li><li>Dataset has 1451107 duplicate rows <span class=\"label label-warning\">Warning</span></li> </ul>\n",
       "    </div>\n",
       "</div>\n",
       "    <div class=\"row headerrow highlight\">\n",
       "        <h1>Variables</h1>\n",
       "    </div>\n",
       "    <div class=\"row variablerow\">\n",
       "    <div class=\"col-md-3 namecol\">\n",
       "        <p class=\"h4 pp-anchor\" id=\"pp_var_price\">price<br/>\n",
       "            <small>Numeric</small>\n",
       "        </p>\n",
       "    </div><div class=\"col-md-6\">\n",
       "    <div class=\"row\">\n",
       "        <div class=\"col-sm-6\">\n",
       "            <table class=\"stats \">\n",
       "                <tr>\n",
       "                    <th>Distinct count</th>\n",
       "                    <td>26890</td>\n",
       "                </tr>\n",
       "                <tr>\n",
       "                    <th>Unique (%)</th>\n",
       "                    <td>1.7%</td>\n",
       "                </tr>\n",
       "                <tr class=\"ignore\">\n",
       "                    <th>Missing (%)</th>\n",
       "                    <td>0.0%</td>\n",
       "                </tr>\n",
       "                <tr class=\"ignore\">\n",
       "                    <th>Missing (n)</th>\n",
       "                    <td>0</td>\n",
       "                </tr>\n",
       "                <tr class=\"ignore\">\n",
       "                    <th>Infinite (%)</th>\n",
       "                    <td>0.0%</td>\n",
       "                </tr>\n",
       "                <tr class=\"ignore\">\n",
       "                    <th>Infinite (n)</th>\n",
       "                    <td>0</td>\n",
       "                </tr>\n",
       "            </table>\n",
       "\n",
       "        </div>\n",
       "        <div class=\"col-sm-6\">\n",
       "            <table class=\"stats \">\n",
       "\n",
       "                <tr>\n",
       "                    <th>Mean</th>\n",
       "                    <td>50.284</td>\n",
       "                </tr>\n",
       "                <tr>\n",
       "                    <th>Minimum</th>\n",
       "                    <td>0</td>\n",
       "                </tr>\n",
       "                <tr>\n",
       "                    <th>Maximum</th>\n",
       "                    <td>9999</td>\n",
       "                </tr>\n",
       "                <tr class=\"ignore\">\n",
       "                    <th>Zeros (%)</th>\n",
       "                    <td>0.4%</td>\n",
       "                </tr>\n",
       "            </table>\n",
       "        </div>\n",
       "    </div>\n",
       "</div>\n",
       "<div class=\"col-md-3 collapse in\" id=\"minihistogram-7797904532438934264\">\n",
       "    <img src=\"data:image/png;base64,iVBORw0KGgoAAAANSUhEUgAAAMgAAABLCAYAAAA1fMjoAAAABHNCSVQICAgIfAhkiAAAAAlwSFlzAAAPYQAAD2EBqD%2BnaQAAADl0RVh0U29mdHdhcmUAbWF0cGxvdGxpYiB2ZXJzaW9uIDIuMi4yLCBodHRwOi8vbWF0cGxvdGxpYi5vcmcvhp/UCwAAAPtJREFUeJzt1bEJAlEQRVFXLGmLsCdje7IIexpzkQsbyN/gnHzgJZfZZmYuwE/X1QPgzG6rB3zbH6/DN%2B/n/Q9LwAeBJBAIAoEgEAgCgSAQCAKBIBAIAoEgEAgCgSAQCAKBIBAIAoEgEAgCgSAQCAKBIBAIAoEgEAgCgSAQCAKBIBAIAoEgEAgCgSAQCAKBIBAIAoEgEAgCgSAQCAKBIBAIAoEgEAgCgSAQCAKBIBAIAoEgEAjbzMzqEXBWPggEgUAQCASBQBAIBIFAEAgEgUAQCASBQBAIBIFAEAgEgUAQCASBQBAIBIFAEAgEgUAQCASBQBAIBIFAEAiED9obC49m6JdFAAAAAElFTkSuQmCC\">\n",
       "\n",
       "</div>\n",
       "<div class=\"col-md-12 text-right\">\n",
       "    <a role=\"button\" data-toggle=\"collapse\" data-target=\"#descriptives-7797904532438934264,#minihistogram-7797904532438934264\"\n",
       "       aria-expanded=\"false\" aria-controls=\"collapseExample\">\n",
       "        Toggle details\n",
       "    </a>\n",
       "</div>\n",
       "<div class=\"row collapse col-md-12\" id=\"descriptives-7797904532438934264\">\n",
       "    <ul class=\"nav nav-tabs\" role=\"tablist\">\n",
       "        <li role=\"presentation\" class=\"active\"><a href=\"#quantiles-7797904532438934264\"\n",
       "                                                  aria-controls=\"quantiles-7797904532438934264\" role=\"tab\"\n",
       "                                                  data-toggle=\"tab\">Statistics</a></li>\n",
       "        <li role=\"presentation\"><a href=\"#histogram-7797904532438934264\" aria-controls=\"histogram-7797904532438934264\"\n",
       "                                   role=\"tab\" data-toggle=\"tab\">Histogram</a></li>\n",
       "        <li role=\"presentation\"><a href=\"#common-7797904532438934264\" aria-controls=\"common-7797904532438934264\"\n",
       "                                   role=\"tab\" data-toggle=\"tab\">Common Values</a></li>\n",
       "        <li role=\"presentation\"><a href=\"#extreme-7797904532438934264\" aria-controls=\"extreme-7797904532438934264\"\n",
       "                                   role=\"tab\" data-toggle=\"tab\">Extreme Values</a></li>\n",
       "\n",
       "    </ul>\n",
       "\n",
       "    <div class=\"tab-content\">\n",
       "        <div role=\"tabpanel\" class=\"tab-pane active row\" id=\"quantiles-7797904532438934264\">\n",
       "            <div class=\"col-md-4 col-md-offset-1\">\n",
       "                <p class=\"h4\">Quantile statistics</p>\n",
       "                <table class=\"stats indent\">\n",
       "                    <tr>\n",
       "                        <th>Minimum</th>\n",
       "                        <td>0</td>\n",
       "                    </tr>\n",
       "                    <tr>\n",
       "                        <th>5-th percentile</th>\n",
       "                        <td>3.46</td>\n",
       "                    </tr>\n",
       "                    <tr>\n",
       "                        <th>Q1</th>\n",
       "                        <td>7.9</td>\n",
       "                    </tr>\n",
       "                    <tr>\n",
       "                        <th>Median</th>\n",
       "                        <td>14.99</td>\n",
       "                    </tr>\n",
       "                    <tr>\n",
       "                        <th>Q3</th>\n",
       "                        <td>39.8</td>\n",
       "                    </tr>\n",
       "                    <tr>\n",
       "                        <th>95-th percentile</th>\n",
       "                        <td>210.82</td>\n",
       "                    </tr>\n",
       "                    <tr>\n",
       "                        <th>Maximum</th>\n",
       "                        <td>9999</td>\n",
       "                    </tr>\n",
       "                    <tr>\n",
       "                        <th>Range</th>\n",
       "                        <td>9999</td>\n",
       "                    </tr>\n",
       "                    <tr>\n",
       "                        <th>Interquartile range</th>\n",
       "                        <td>31.9</td>\n",
       "                    </tr>\n",
       "                </table>\n",
       "            </div>\n",
       "            <div class=\"col-md-4 col-md-offset-2\">\n",
       "                <p class=\"h4\">Descriptive statistics</p>\n",
       "                <table class=\"stats indent\">\n",
       "                    <tr>\n",
       "                        <th>Standard deviation</th>\n",
       "                        <td>144.73</td>\n",
       "                    </tr>\n",
       "                    <tr>\n",
       "                        <th>Coef of variation</th>\n",
       "                        <td>2.8783</td>\n",
       "                    </tr>\n",
       "                    <tr>\n",
       "                        <th>Kurtosis</th>\n",
       "                        <td>1174.2</td>\n",
       "                    </tr>\n",
       "                    <tr>\n",
       "                        <th>Mean</th>\n",
       "                        <td>50.284</td>\n",
       "                    </tr>\n",
       "                    <tr>\n",
       "                        <th>MAD</th>\n",
       "                        <td>55.669</td>\n",
       "                    </tr>\n",
       "                    <tr class=\"alert\">\n",
       "                        <th>Skewness</th>\n",
       "                        <td>23.464</td>\n",
       "                    </tr>\n",
       "                    <tr>\n",
       "                        <th>Sum</th>\n",
       "                        <td>77501000</td>\n",
       "                    </tr>\n",
       "                    <tr>\n",
       "                        <th>Variance</th>\n",
       "                        <td>20948</td>\n",
       "                    </tr>\n",
       "                    <tr>\n",
       "                        <th>Memory size</th>\n",
       "                        <td>11.8 MiB</td>\n",
       "                    </tr>\n",
       "                </table>\n",
       "            </div>\n",
       "        </div>\n",
       "        <div role=\"tabpanel\" class=\"tab-pane col-md-8 col-md-offset-2\" id=\"histogram-7797904532438934264\">\n",
       "            <img src=\"data:image/png;base64,iVBORw0KGgoAAAANSUhEUgAAAlgAAAGQCAYAAAByNR6YAAAABHNCSVQICAgIfAhkiAAAAAlwSFlzAAAPYQAAD2EBqD%2BnaQAAADl0RVh0U29mdHdhcmUAbWF0cGxvdGxpYiB2ZXJzaW9uIDIuMi4yLCBodHRwOi8vbWF0cGxvdGxpYi5vcmcvhp/UCwAAIABJREFUeJzs3X1UlXW%2B//8XsEFTgThstpYyU5LoGCrEcSzcLEecmsmxY%2BqY1KgTulQaG49O4eiYTCkOkpl1ok54R9jxBpe1zOyGdGzmKDqpBbh08r6a/JJxIyHqKIjX7w9/XMctJtu8LnebeT7WaiWf670/13u/Z7AX1772JsAwDEMAAACwTKCvGwAAAGhtCFgAAAAWI2ABAABYjIAFAABgMQIWAACAxQhYAAAAFiNgAQAAWIyABQAAYDECFgAAgMUIWAAAABYjYAEAAFiMgAUAAGAxAhYAAIDFCFgAAAAWI2ABAABYjIAFAABgMQIWAACAxQhYAAAAFiNgAQAAWIyABQAAYDECFgAAgMUIWAAAABYjYAEAAFiMgAUAAGAxAhYAAIDFCFgAAAAWI2ABAABYjIAFAABgMQIWAACAxQhYAAAAFiNgAQAAWIyABQAAYDECFgAAgMUIWAAAABYjYAEAAFiMgAUAAGAxAhYAAIDFritg7dq1S%2Bnp6XK73erevbs2b97crObIkSNKT09XYmKiEhIS9NBDD6m8vNw8Xl9fr7lz56pfv36Kj49Xenq6jh8/7rFHeXm50tPTFR8fr379%2BikrK0v19fUeNTt37tTw4cPVq1cvDRo0SKtXr27Wy8qVK5WSkqJevXpp%2BPDh2r17t8dxb3oBAABoyXUFrDNnzqh79%2B7KzMy84vF//OMfeuSRR9S1a1e9/vrr2rBhg37zm9%2BoTZs2Zs28efO0adMmLVq0SKtWrdKZM2c0adIkNTY2SpIaGxs1adIknTlzRqtWrdKiRYtUVFSknJwcc48vv/xSEydOVGJiotavX6/09HTNmzdPRUVFZs27776r7OxsPfbYY1q/fr0SExM1YcIEj7DXUi8AAADeCDAMw7Bio%2B7du%2Bvll1/WT3/6U3Nt2rRpcjgcWrBgwRUfU1dXp3vuuUfPPvusBg8eLEn6%2Buuv9ZOf/ESLFy9WcnKy/vrXvyo9PV1/%2Bctf1LFjR0nSO%2B%2B8oxkzZmjHjh3q0KGDFixYoC1btui9994z987MzNSBAwdUWFgoSRo5cqR69uypZ555xqy5//779dOf/lRPPPGEV71cj8rKuut6/JUEBgbo3/6tvU6cOK0LFyz5nxH/P2ZrH2ZrL%2BZrH2ZrHztnGxUVaul%2B3rLtHqwLFy7oL3/5i2677TaNHz9e99xzj0aOHOnxMuLevXvV0NCg/v37m2sdO3ZUt27dVFJSIkkqLS1Vt27dzHAlSW63W/X19dq7d69Zc%2BkekpScnGzuX19fr3379sntdnvU9O/f3zyPN7183wQGBiggIECBgQG%2BbqXVYbb2Ybb2Yr72Ybb2aY2zddi1cXV1tc6cOaMlS5Zo6tSpevLJJ7V161Y9/vjjWrFihX784x%2BrqqpKwcHBCg8P93is0%2BlUVVWVJKmqqkpOp9PjeHh4uIKDg69aExkZqfPnz6umpkaGYaixsVGRkZHNzlNZWWnu0VIv3qqoqDD3beJwtJPL5bqmfVoSFBTo8W9Yh9nah9nai/nah9napzXO1raAdeHCBUnSoEGD9Oijj0qSfvSjH%2BmTTz7RmjVr9OMf//hbH3v5q5YBAVdOtJeuX17TtEdAQIDHny%2Bv%2Bba9v60XbxQWFio3N9djbfLkyZoyZco17%2BWNsLCbbNkXzNZOzNZezNc%2BzNY%2BrWm2tgWsiIgIORwOxcTEeKzHxMTo448/lnTx6lBDQ4Nqa2s9rhxVV1crISHBrCkrK/PYo7a2Vg0NDeYVqUuvRDU5ceKEHA6Hbr75ZhmGoaCgoGZXoqqrq80rX9704q1Ro0YpJSXFY83haKeamtPXtE9LgoICFRZ2k06e/KcaGy9Yuve/OmZrH2ZrL%2BZrH2ZrHztnGxHR3tL9vGVbwAoJCVGvXr302Wefeax//vnn6ty5syQpLi5OwcHBKi4uNm8sr6io0KFDh5SRkSFJio%2BP16uvvqqKigrzJbbi4mKFhIQoLi7OrPnwww89zrNt2zZzf0m68847VVxcrHvvvdes2b59uwYNGuR1L95yuVzNXg6srKzT%2BfP2fEM2Nl6wbe9/dczWPszWXszXPszWPq1ptkFPP/3009/1wadPn9aRI0dUVVWlNWvWqE%2BfPmrTpo0aGhoUGhqq8PBw5ebmyul0qkOHDtq4caNef/11ZWZm6tZbb1WbNm309ddfa%2BXKlerRo4fq6ur0xz/%2BUe3bt9eTTz6pwMBARUdH64MPPlBxcbFiY2N1%2BPBhPfPMM3rggQfMsPSDH/xAixcvVk1NjW699VZt2bJF//3f/60ZM2bojjvukCR16NBBL774olwul9q0aaNXX31VH330kf70pz8pLCzMq16ux5kz9S0XXaPAwADddFOIzp5t4B0tFmO29mG29mK%2B9mG29rFztu3bt2m5yAbX9TENH330kcaOHdtsfdiwYZo/f74kad26dVq8eLGOHz%2Bu22%2B/Xb/97W89Psrh3LlzevbZZ7Vx40adPXtW99xzj/74xz/qlltuMWvKy8v1zDPP6G9/%2B5vatm2rIUOG6Pe//71CQkLMmp07dyo7O1uHDh2Sy%2BXShAkT9PDDD3v0tXLlSi1btkwVFRWKjY3VzJkz1bdv32vq5buy42MaHI5ARUS0V03N6VaT%2BL8vmK19mK29mK99mK197Jytrz6mwbLPwcLVEbD8C7O1D7O1F/O1D7O1T2sMWK3n/ZAAAADfEwQsAAAAixGwAAAALEbAAgAAsBgBCwAAwGIELAAAAIvZ9knuuDH%2Bfdb7vm7Ba%2B9N7e/rFgAAuCG4ggUAAGAxAhYAAIDFCFgAAAAWI2ABAABYjIAFAABgMQIWAACAxQhYAAAAFiNgAQAAWIyABQAAYDECFgAAgMUIWAAAABYjYAEAAFiMgAUAAGAxAhYAAIDFCFgAAAAWI2ABAABYjIAFAABgMQIWAACAxQhYAAAAFiNgAQAAWIyABQAAYDECFgAAgMWuO2Dt2rVL6enpcrvd6t69uzZv3vyttZmZmerevbtee%2B01j/Xa2lplZGQoMTFRiYmJysjI0MmTJz1qDhw4oNGjR6t3795KTk5Wbm6uDMPwqCkqKtLgwYMVFxenwYMHa9OmTR7HDcPQSy%2B9JLfbrd69e2vMmDE6dOjQNfcCAABwNdcdsM6cOaPu3bsrMzPzqnWbN29WWVmZXC5Xs2NPPPGE9u/fr6VLl2rp0qXav3%2B/pk%2Bfbh4/deqUxo0bJ5fLpXXr1mn27Nlavny58vPzzZqSkhJNmzZNQ4cO1VtvvaWhQ4dq6tSpKisrM2uWLFmi/Px8ZWZmat26dXI6nUpLS9OpU6e87gUAAKAljuvdYMCAARowYMBVa77%2B%2BmvNmTNHy5Yt06RJkzyOHTlyRFu3btXatWvVp08fSdLcuXM1atQoHT16VF27dtWGDRt07tw5zZ8/XyEhIYqNjdXnn3%2Bu/Px8paWlKSAgQAUFBUpKSjL3j4mJ0c6dO1VQUKDnn39ehmFoxYoVSk9P13333SdJysnJUVJSkjZu3KjU1FSvegEAAGjJdQeslly4cEEZGRkaP368unXr1ux4SUmJQkNDzUAjSfHx8QoNDVVJSYm6du2q0tJS9e3bVyEhIWaN2%2B3WwoULdezYMUVHR6u0tFSPPvqox97JyckqKCiQJB07dkyVlZVyu93m8ZCQEPXt21clJSVKTU31qhdvVFRUqLKy0mPN4Wh3xat31yMoyL9uoXM4/Kffptn624z9AbO1F/O1D7O1T2ucre0Ba8mSJXI4HBo7duwVj1dVVSkyMrLZemRkpKqqqsyazp07NzvedCw6OvqK%2B0RGRppBp%2Bnfl9c4nU6Vl5d73Ys3CgsLlZub67E2efJkTZkyxes9WqOIiPa%2BbuGahYXd5OsWWi1may/max9ma5/WNFtbA9bevXu1YsUKvfnmmwoICLimxxqG4fGYb3v81Wou3%2BPbaq61l5aMGjVKKSkpHmsORzvV1Jz2eg9v%2BFvSt/r52ykoKFBhYTfp5Ml/qrHxgq/baVWYrb2Yr32YrX3snK2vfri3NWDt3r1b1dXVGjhwoLnW2NionJwcrVixQlu2bJHT6VR1dXWzx544ccK8muR0Opu95Nb0mEtrLr/KdOLECTmdTklSVFSUpItXqS59qa66utqs8aYXb7hcrmYvB1ZW1un8%2BX/tb0h/fP6NjRf8sm9/wGztxXztw2zt05pma%2BslkKFDh2rDhg1av369%2BY/L5dL48eO1dOlSSVJCQoLq6uq0Z88e83FlZWWqq6tTQkKCpIv3Qe3evVv19fVmzbZt2%2BRyudSlSxezpri42OP827ZtM/fo0qWLoqKiPGrq6%2Bu1a9cus8abXgAAAFpy3VewTp8%2BrX/84x/m18eOHdOnn36q8PBw3XrrrYqIiPCoDw4OltPpNG8Yj4mJUXJysp566inNmTNHkjR79mwNHDjQrHnggQf08ssva%2BbMmZo0aZK%2B%2BOIL5eXlafLkyeZLd2PHjtXo0aO1ePFiDRo0SH/%2B85%2B1Y8cOrVq1StLFlwbHjh2rvLw83XbbbfrhD3%2BovLw8tW3bVkOGDPG6FwAAgJZcd8Dau3evxw3s2dnZkqRhw4Zp/vz5Xu3x3HPPKSsrS%2BPGjZMkpaSkeHyuVmhoqJYvX645c%2BZoxIgRCg8PV1pamtLS0syau%2B66S88//7xeeOEF/dd//Zeio6O1aNEij3cETpgwQefOndMzzzyj2tpa9enTR8uXL1eHDh287gUAAKAlAYY3d3njulVW1lm%2Bp8MRqHuf22r5vnZ5b2p/X7fgNYcjUBER7VVTc7rV3A/wfcFs7cV87cNs7WPnbKOiQi3dz1v%2B9TY0AAAAP0DAAgAAsBgBCwAAwGIELAAAAIsRsAAAACxGwAIAALAYAQsAAMBiBCwAAACLEbAAAAAsRsACAACwGAELAADAYgQsAAAAixGwAAAALEbAAgAAsBgBCwAAwGIELAAAAIsRsAAAACxGwAIAALAYAQsAAMBiBCwAAACLEbAAAAAsRsACAACwGAELAADAYgQsAAAAixGwAAAALEbAAgAAsBgBCwAAwGIELAAAAIsRsAAAACx23QFr165dSk9Pl9vtVvfu3bV582bzWENDgxYsWKAHHnhA8fHxcrvdmj59ur7%2B%2BmuPPWpra5WRkaHExEQlJiYqIyNDJ0%2Be9Kg5cOCARo8erd69eys5OVm5ubkyDMOjpqioSIMHD1ZcXJwGDx6sTZs2eRw3DEMvvfSS3G63evfurTFjxujQoUPX3AsAAMDVXHfAOnPmjLp3767MzMxmx86ePau///3veuyxx/Tmm28qNzdXn3/%2BuR577DGPuieeeEL79%2B/X0qVLtXTpUu3fv1/Tp083j586dUrjxo2Ty%2BXSunXrNHv2bC1fvlz5%2BflmTUlJiaZNm6ahQ4fqrbfe0tChQzV16lSVlZWZNUuWLFF%2Bfr4yMzO1bt06OZ1OpaWl6dSpU173AgAA0BLH9W4wYMAADRgw4IrHQkNDPUKQJD311FMaOXKkysvLdeutt%2BrIkSPaunWr1q5dqz59%2BkiS5s6dq1GjRuno0aPq2rWrNmzYoHPnzmn%2B/PkKCQlRbGysPv/8c%2BXn5ystLU0BAQEqKChQUlKSJk2aJEmKiYnRzp07VVBQoOeff16GYWjFihVKT0/XfffdJ0nKyclRUlKSNm7cqNTUVK96AQAAaMl1B6xrderUKQUEBCgsLEzSxStPoaGhZqCRpPj4eIWGhqqkpERdu3ZVaWmp%2Bvbtq5CQELPG7XZr4cKFOnbsmKKjo1VaWqpHH33U41zJyckqKCiQJB07dkyVlZVyu93m8ZCQEPXt21clJSVKTU31qhdvVFRUqLKy0mPN4Wgnl8vl3ZC8FBTkX7fQORz%2B02/TbP1txv6A2dqL%2BdqH2dqnNc72hgasc%2BfO6bnnntOQIUPUoUMHSVJVVZUiIyOb1UZGRqqqqsqs6dy5c7PjTceio6OvuE9kZKQZdJr%2BfXmN0%2BlUeXm51714o7CwULm5uR5rkydP1pQpU7zeozWKiGjv6xauWVjYTb5uodVitvZivvZhtvZpTbO9YQGroaFB06ZNk2EYevrpp1usNwxDAQEB5teX/vlSV6u5fI9vq7nWXloyatQopaSkeKw5HO1UU3Pa6z284W9J3%2Brnb6egoECFhd2kkyf/qcbGC75up1VhtvZivvZhtvaxc7a%2B%2BuH%2BhgSshoYGTZ06VceOHVNBQYF59Uq6eAWpurq62WNOnDhhXk1yOp3NXnJresylNZdfZTpx4oScTqckKSoqStLFq1SXvlRXXV1t1njTizdcLlezlwMrK%2Bt0/vy/9jekPz7/xsYLftm3P2C29mK%2B9mG29mlNs7X9EkhTuPriiy/02muvKSIiwuN4QkKC6urqtGfPHnOtrKxMdXV1SkhIkHTxPqjdu3ervr7erNm2bZtcLpe6dOli1hQXF3vsvW3bNnOPLl26KCoqyqOmvr5eu3btMmu86QUAAKAl1x2wTp8%2BrU8//VSffvqppIs3k3/66acqLy/X%2BfPnNWXKFO3du1fPPfecGhsbVVlZqcrKSjMsxcTEKDk5WU899ZRKS0tVWlqqp556SgMHDjRvKn/ggQcUEhKimTNn6uDBg9q0aZPy8vLMdxBK0tixY1VcXKzFixfryJEjWrx4sXbs2KFf//rXki6%2BNDh27Fjl5eVp06ZNOnjwoGbOnKm2bdtqyJAhXvcCAADQkgDDm5uQruKjjz7S2LFjm60PGzZMjz/%2BuAYNGnTFx61YsUL9%2BvWTJH3zzTfKysrSli1bJEkpKSnKzMw032koXfyg0Tlz5mjPnj0KDw9XamqqJk%2Be7HFv1Pvvv68XXnjBfGfhtGnTzI9kkC7eS5Wbm6vCwkLV1taqT58%2ByszMVGxsrFnjTS/fRWVl3XU9/kocjkDd%2B9xWy/e1y3tT%2B/u6Ba85HIGKiGivmprTreZy9fcFs7UX87UPs7WPnbONigq1dD9vXXfAgncIWAQsXMRs7cV87cNs7dMaA5Z/vQ0NAADADxCwAAAALEbAAgAAsBgBCwAAwGIELAAAAIsRsAAAACxGwAIAALAYAQsAAMBiBCwAAACLEbAAAAAsRsACAACwGAELAADAYgQsAAAAixGwAAAALEbAAgAAsBgBCwAAwGIELAAAAIsRsAAAACxGwAIAALAYAQsAAMBiBCwAAACLEbAAAAAsRsACAACwGAELAADAYgQsAAAAixGwAAAALEbAAgAAsBgBCwAAwGLXHbB27dql9PR0ud1ude/eXZs3b/Y4bhiGXnrpJbndbvXu3VtjxozRoUOHPGpqa2uVkZGhxMREJSYmKiMjQydPnvSoOXDggEaPHq3evXsrOTlZubm5MgzDo6aoqEiDBw9WXFycBg8erE2bNtnSCwAAwNVcd8A6c%2BaMunfvrszMzCseX7JkifLz85WZmal169bJ6XQqLS1Np06dMmueeOIJ7d%2B/X0uXLtXSpUu1f/9%2BTZ8%2B3Tx%2B6tQpjRs3Ti6XS%2BvWrdPs2bO1fPly5efnmzUlJSWaNm2ahg4dqrfeektDhw7V1KlTVVZWZmkvAAAALXFc7wYDBgzQgAEDrnjMMAytWLFC6enpuu%2B%2B%2ByRJOTk5SkpK0saNG5WamqojR45o69atWrt2rfr06SNJmjt3rkaNGqWjR4%2Bqa9eu2rBhg86dO6f58%2BcrJCREsbGx%2Bvzzz5Wfn6%2B0tDQFBASooKBASUlJmjRpkiQpJiZGO3fuVEFBgZ5//nnLegEAAGiJrfdgHTt2TJWVlXK73eZaSEiI%2Bvbtq5KSEkkXrzyFhoaagUaS4uPjFRoaataUlpaqb9%2B%2BCgkJMWvcbrcqKip07Ngxs%2BbS80hScnKyuYdVvQAAALTkuq9gXU1lZaUkKTIy0mPd6XSqvLxcklRVVdXseNNjqqqqzJrOnTs3O950LDo6%2Bor7REZGmj1Y1Ys3KioqzPM1cTjayeVyeb2HN4KC/Os9Cg6H//TbNFt/m7E/YLb2Yr72Ybb2aY2ztTVgNQkICPD4%2BvKb06/EMAyPx12%2Bx5XWr3Sey9es6KUlhYWFys3N9VibPHmypkyZ4vUerVFERHtft3DNwsJu8nULrRaztRfztQ%2BztU9rmq2tASsqKkrSxStDl169qa6ultPplHTxClJ1dXWzx544ccK8muR0OptdEWp6zKU1l19lOnHihHkeq3rxxqhRo5SSkuKx5nC0U03Naa/38Ia/JX2rn7%2BdgoICFRZ2k06e/KcaGy/4up1Whdnai/nah9nax87Z%2BuqHe8dPf/pTjRgxQsOGDVOnTp0s3bxLly6KiopScXGxevbsKUmqr6/Xrl279OSTT0qSEhISVFdXpz179qh3796SpLKyMtXV1SkhIUHSxfugFi1apPr6evM%2BrG3btsnlcqlLly5mTXFxsR599FHz/Nu2bTP3sKoXb7hcrmYvB1ZW1un8%2BX/tb0h/fP6NjRf8sm9/wGztxXztw2zt05pmGzR%2B/Pin165dqyVLlqi0tFRt27bVD3/4QwUGend15PTp0zpy5Iiqqqq0Zs0a9enTR23atFFDQ4PCwsJ0/vx5LV68WLfffrsaGxuVk5Ojr7/%2BWnPmzFFISIj%2B7d/%2BTWVlZXr77bf1ox/9SMePH9fs2bPNz6mSpNtuu02rV6/WgQMHdPvtt%2BuTTz5RTk6OJk6cqLvuukvSxVDz4osvKjg4WDfffLPWrVundevWae7cuerUqZMCAgIs6eW7OnOm/roefyWBgQF6ffs/LN/XLqPv/oGvW/BaYGCAbropRGfPNujChZZfRob3mK29mK99mK197Jxt%2B/ZtLN3PWwGGYRgNDQ3685//rNdee01lZWW6%2Beab9eCDD%2BqRRx5RdHT0VTf46KOPNHbs2Gbrw4YN0/z582UYhnJzc1VYWKja2lr16dNHmZmZio2NNWu/%2BeYbZWVlacuWLZKklJQUZWZmKiwszKw5cOCA5syZoz179ig8PFypqamaPHmyx71R77//vl544QUdO3ZM0dHRmjZtmvmRDJIs6%2BW7qKysu67HX4nDEah7n9tq%2Bb52eW9qf1%2B34DWHI1AREe1VU3O61fw09X3BbO3FfO3DbO1j52yjokIt3c9bARcuXDC2bt2qN954Q1u2bFF4eLgGDBig7du3q7KyUk8//bR%2B%2Bctf%2BqS51oSARcDCRczWXszXPszWPq0xYDkGDhyoiooKJSUlaeHChUpJSZHD4dCFCxe0YMECLVq0iIAFAABwDRzDhw/XL3/5S916660eBwIDA3X//fd7/DoaAAAAtMxxtc9m6tGjhz744IMb2A4AAID/u%2BpbBUNCQvSDH/jPO78AAAC%2BD5oFrPz8fBUVFfmiFwAAgFahWcAKDg5WXl6eL3oBAABoFZoFrDvuuEOfffaZL3oBAABoFZoFrKqqKgUFBfmiFwAAgFbBI2CdPXtWy5YtU9%2B%2BfX3VDwAAgN9zzJs3Ty6XSxUVFXr//ff1z3/%2BUwsWLPB1XwAAAH7L8fbbb6u2tlbh4eFKSkrS448/rq5du/q6LwAAAL/l%2BNvf/ubrHgAAAFqVq37QKAAAAK6d44EHHlB9fX2zA3zYKAAAwHfj6NWrl4KDg33dBwAAQKvh%2BNOf/uTrHgAAAFoV7sECAACwGAELAADAYo7169crNDS02YFBgwb5oB0AAAD/55gxY0azxYCAAH366ac%2BaAcAAMD/OT744ANf9wAAANCqOH7wgx/4ugcAAIBWJTAvL09PP/20vvrqK0nSxx9/rIqKCh%2B3BQAA4L8CV6xYocLCQp04cUKSVFhYqFdffdXHbQEAAPivwL/%2B9a8yDMNcSEpK0o4dO3zYEgAAgH8LDAgI8Fi49dZbdfz4cR%2B1AwAA4P%2BafdDoyZMn5XA4fNELAABAq9AsYL333nu66667fNELAABAq%2BBYs2aNAgIC9OGHH2rZsmXavHmzVq5c6eu%2BAAAA/FZgVlaWDMPQyy%2B/rGPHjmn58uXq1auXZSc4f/68Fi1apJSUFPXu3VuDBg1Sbm6uLly4YNYYhqGXXnpJbrdbvXv31pgxY3To0CGPfWpra5WRkaHExEQlJiYqIyNDJ0%2Be9Kg5cOCARo8erd69eys5OVm5ubkeN/BLUlFRkQYPHqy4uDgNHjxYmzZt8jjuTS8AAABXE/jxxx9ry5Yt2rVrl9auXat///d/t/QES5Ys0Zo1a5SZmal3331XGRkZWrZsmV5//XWPmvz8fGVmZmrdunVyOp1KS0vTqVOnzJonnnhC%2B/fv19KlS7V06VLt379f06dPN4%2BfOnVK48aNk8vl0rp16zR79mwtX75c%2Bfn5Zk1JSYmmTZumoUOH6q233tLQoUM1depUlZWVXVMvAAAAVxPYrl073XrrrerQoYMtJygtLdWgQYP0k5/8RF26dNHPf/5zud1u7d27V9LFK0YrVqxQenq67rvvPsXGxionJ0dnz57Vxo0bJUlHjhzR1q1blZWVpYSEBCUkJGju3Ln68MMPdfToUUnShg0bdO7cOc2fP1%2BxsbG67777lJ6ervz8fPMqVkFBgZKSkjRp0iTFxMRo0qRJuvvuu1VQUOB1LwAAAC1xzJ49%2B4oH5s6da8kJEhMTtWbNGn322We6/fbbtX//fn388cf6wx/%2BIEk6duyYKisr5Xa7zceEhISob9%2B%2BKikpUWpqqkpKShQaGqo%2BffqYNfHx8QoNDVVJSYm6du2q0tJS9e3bVyEhIWaN2%2B3WwoULdezYMUVHR6u0tFSPPvqoR3/JyclmwPKmF29UVFSosrLSY83haCeXy%2BXd0LwUFNTsPQrfaw6H//TbNFt/m7E/YLb2Yr72Ybb2aY2zdezevVvSxXucTpw4ofDwcEVGRlp2ggkTJqiurk7333%2B/goKC1NjYqGnTpmnIkCGSZAaRy8/pdDpVXl4uSaqqqrpiT5GRkaqqqjJrOnfu3Ox407Ho6Ogr7hMZGWn24E0v3igsLFRubq7H2uTJkzVlyhSv92iNIiLa%2B7qFaxYWdpOvW2ipMIA8AAAgAElEQVS1mK29mK99mK19WtNsHe%2B99575RdN9Td92Veu7ePfdd7VhwwYtXLhQd9xxhz799FNlZ2fL5XJp2LBhZt3lH3h6%2Bc3pV2IYhsfjLt/jSutXOs/la9%2Bll0uNGjVKKSkpHmsORzvV1Jy%2Bpn1a4m9J3%2Brnb6egoECFhd2kkyf/qcbGCy0/AF5jtvZivvZhtvaxc7a%2B%2BuHe4xNFe/TooQkTJmjevHlav369JSd49tlnNXHiRP3iF7%2BQJHXv3l3l5eXKy8vTsGHDFBUVJeniVaZLX0Krrq6W0%2BmUdPEKUnV1dbO9T5w4YV5tcjqdzV6Wa3rMpTVNV7wu3aPpPN704g2Xy9Xs5cDKyjqdP/%2Bv/Q3pj8%2B/sfGCX/btD5itvZivfZitfVrTbJtdAgkLC9MXX3xh2QnOnj3b7IpQUFCQeVWoS5cuioqKUnFxsXm8vr5eu3btUkJCgiQpISFBdXV12rNnj1lTVlamuro6syY%2BPl67d%2B9WfX29WbNt2za5XC516dLFrLn0PE01TXt40wsAAEBLHE0fP1BfX6%2BjR4/qxRdf1B133GHZCQYOHKhXX31Vt956q/kSYX5%2BvkaMGCHp4stxY8eOVV5enm677Tb98Ic/VF5entq2bWvepxUTE6Pk5GQ99dRTmjNnjiRp9uzZGjhwoLp27SpJeuCBB/Tyyy9r5syZmjRpkr744gvl5eVp8uTJZsAbO3asRo8ercWLF2vQoEH685//rB07dmjVqlVe9wIAANCSgB49epg3GBmGIZfLpVdeeUVxcXGWnODUqVN68cUXtXnzZlVXV8vlcukXv/iFJk%2BebL7jzzAM5ebmqrCwULW1terTp48yMzMVGxtr7vPNN98oKytLW7ZskSSlpKQoMzNTYWFhZs2BAwc0Z84c7dmzR%2BHh4UpNTfUIWJL0/vvv64UXXjDfWTht2jTdd9995nFvevkuKivrruvxV%2BJwBOre57Zavq9d3pva39cteM3hCFRERHvV1JxuNZervy%2BYrb2Yr32YrX3snG1UVKil%2B3krYO3atYYktWnTRp06dVJCQoKCg4N90kxrRsAiYOEiZmsv5msfZmuf1hiwHCNHjvTJiQEAAFor/3qfPwAAgB9weHOvVdOvtQEAAEDLHCNHjjQ/Ef3DDz9UQECAUlNTFRjIxS0AAIDvwvHHP/7R/GLWrFl67LHHVFdXp4yMDB%2B2BQAA4L88LlMFBwdrzJgxevPNN33VDwAAgN9r9jrgV199pXPnzvmiFwAAgFYh8MyZM5KkM2fO6K233tLChQub/aJiAAAAeM%2BRmJioNm3a6Ny5czIMQwMHDtSl92UBAADg2jjmzJmjqqoqRUVFqXfv3tf9K2EAAAD%2B1fFJ7gAAABYLzMzM1IQJE/TFF19IuvjLkI8ePerjtgAAAPxX4P79%2B7Vt2zadOnVKkrRjxw4tWbLEx20BAAD4r8BVq1bJMAxzoV%2B/ftq9e7cPWwIAAPBvgQEBAR4LUVFRqqio8FE7AAAA/q/ZB41WVVWpXbt2vugFAACgVTADVtOVrHXr1unuu%2B/2WUMAAAD%2BzvH8888rICBAa9as0cGDB3X06FGtXbvW130BAAD4rcCmX%2BxcVFSkW265RWvXrtVtt93m264AAAD8mGPHjh2%2B7gEAAKBVaXaTOwAAAK4PAQsAAMBiBCwAAACLOZ544glFRkbq0g8cDQgI0IwZM3zYFgAAgP9yXOnX4hCwAAAAvjvHX//6V1/3AAAA0KoEnjx50tc9AAAAtCqBX375pa97AAAAaFV4FyEAAIDFbkjA%2Bvrrr/Xkk0%2BqX79%2B6tOnj4YOHaq9e/eaxw3D0EsvvSS3263evXtrzJgxOnTokMcetbW1ysjIUGJiohITE5WRkaHLX948cOCARo8erd69eys5OVm5ubkyDMOjpqioSIMHD1ZcXJwGDx6sTZs2eRz3phcAAICrCbz04xnsUFtbq4cffljBwcFasmSJ3nnnHc2YMUNhYWFmzZIlS5Sfn6/MzEytW7dOTqdTaWlpOnXqlFnzxBNPaP/%2B/Vq6dKmWLl2q/fv3a/r06ebxU6dOady4cXK5XFq3bp1mz56t5cuXKz8/36wpKSnRtGnTNHToUL311lsaOnSopk6dqrKysmvqBQAA4Gocv/rVr3R5yAoICNDHH39syQmWLFmiTp06KTs721zr0qWL%2BWfDMLRixQqlp6frvvvukyTl5OQoKSlJGzduVGpqqo4cOaKtW7dq7dq16tOnjyRp7ty5GjVqlI4ePaquXbtqw4YNOnfunObPn6%2BQkBDFxsbq888/V35%2BvtLS0hQQEKCCggIlJSVp0qRJkqSYmBjt3LlTBQUFev75573qBQAAoCWO8ePH23qCLVu2yO12a8qUKdq1a5c6duyoRx55RA899JAk6dixY6qsrJTb7TYfExISor59%2B6qkpESpqakqKSlRaGioGa4kKT4%2BXqGhoSopKVHXrl1VWlqqvn37KiQkxKxxu91auHChjh07pujoaJWWlurRRx/16C85OVkFBQVe9%2BKNiooKVVZWeqw5HO3kcrm8G5qXgoL86xY6h8N/%2Bm2arb/N2B8wW3sxX/swW/u0xtk6Hn/8cVtP8OWXX2r16tVKS0tTenq69uzZo6ysLIWEhOjBBx80g0hkZKTH45xOp8rLyyVJVVVVzY43Paaqqsqs6dy5c7PjTceio6OvuE9kZKTZgze9eKOwsFC5ubkea5MnT9aUKVO83qM1ioho7%2BsWrllY2E2%2BbqHVYrb2Yr72Ybb2aU2zddh9AsMwFBcXp9/97neSpJ49e%2Brw4cNavXq1HnzwQbPu8pcpL785/dv2vvxX/FzJ1Wou3%2BO79nKpUaNGKSUlxWPN4WinmprT17RPS/wt6Vv9/O0UFBSosLCbdPLkP9XYeMHX7bQqzNZezNc%2BzNY%2Bds7WVz/c2x6woqKiFBMT47HWtWtXFRUVmceli1eZLn0Jrbq6Wk6nU9LFK0jV1dXN9j5x4oR5tcnpdDZ7Wa7pMZfWNF3xunSPpvN404s3XC5Xs5cDKyvrdP78v/Y3pD8%2B/8bGC37Ztz9gtvZivvZhtvZpTbO1/RLIXXfdpc8%2B%2B8xj7fPPPzdfzuvSpYuioqJUXFxsHq%2Bvr9euXbuUkJAgSUpISFBdXZ327Nlj1pSVlamurs6siY%2BP1%2B7du1VfX2/WbNu2TS6Xy7ypPj4%2B3uM8TTVNe3jTCwAAQEtsD1i//vWvVVZWpldffVVffPGF3n77ba1du1aPPPKIpIsvx40dO1Z5eXnatGmTDh48qJkzZ6pt27YaMmSIpIvv9ktOTtZTTz2l0tJSlZaW6qmnntLAgQPVtWtXSdIDDzygkJAQzZw5UwcPHtSmTZuUl5dnvoNQksaOHavi4mItXrxYR44c0eLFi7Vjxw79%2Bte/9roXAACAlgQY13qD0Xfw4Ycf6vnnn9fnn3%2BuLl26KC0tzXwXoXTxHqfc3FwVFhaqtrZWffr0UWZmpmJjY82ab775RllZWdqyZYskKSUlRZmZmR6fp3XgwAHNmTNHe/bsUXh4uFJTUzV58mSPe6ref/99vfDCC%2BY7C6dNm2Z%2BJIO3vXwXlZV11/X4K3E4AnXvc1st39cu703t7%2BsWvOZwBCoior1qak63msvV3xfM1l7M1z7M1j52zjYqKtTS/bx1QwIWCFgSAQsXMVt7MV/7MFv7tMaA5V9vQwMAAPADBCwAAACLEbAAAAAsRsACAACwGAELAADAYgQsAAAAixGwAAAALEbAAgAAsBgBCwAAwGIELAAAAIsRsAAAACxGwAIAALAYAQsAAMBiBCwAAACLEbAAAAAsRsACAACwGAELAADAYgQsAAAAixGwAAAALEbAAgAAsBgBCwAAwGIELAAAAIsRsAAAACxGwAIAALAYAQsAAMBiBCwAAACLEbAAAAAsRsACAACw2A0PWHl5eerevbvmzZtnrtXX12vu3Lnq16%2Bf4uPjlZ6eruPHj3s8rry8XOnp6YqPj1e/fv2UlZWl%2Bvp6j5qdO3dq%2BPDh6tWrlwYNGqTVq1c3O//KlSuVkpKiXr16afjw4dq9e7fHcW96AQAAuJobGrD27NmjwsJCde/e3WN93rx52rRpkxYtWqRVq1bpzJkzmjRpkhobGyVJjY2NmjRpks6cOaNVq1Zp0aJFKioqUk5OjrnHl19%2BqYkTJyoxMVHr169Xenq65s2bp6KiIrPm3XffVXZ2th577DGtX79eiYmJmjBhgsrLy73uBQAAoCU3LGCdPn1aGRkZysrKUnh4uLleV1enN954QzNmzFBSUpJ69uypBQsW6ODBg9q%2Bfbskadu2bTp8%2BLAWLFignj17KikpSTNmzNDatWt16tQpSdKaNWt0yy23aNasWYqJidHIkSM1fPhwLV%2B%2B3DxXfn6%2BRowYoZEjRyomJkazZs1Sp06dzCtd3vQCAADQkhsWsObMmaMBAwYoKSnJY33v3r1qaGhQ//79zbWOHTuqW7duKikpkSSVlpaqW7du6tixo1njdrtVX1%2BvvXv3mjWX7iFJycnJ5v719fXat2%2Bf3G63R03//v3N83jTCwAAQEscN%2BIk77zzjv7%2B979r3bp1zY5VVVUpODjY46qWJDmdTlVVVZk1TqfT43h4eLiCg4OvWhMZGanz58%2BrpqZGhmGosbFRkZGRzc5TWVnpdS/eqKioMPds4nC0k8vl8noPbwQF%2Bdd7FBwO/%2Bm3abb%2BNmN/wGztxXztw2zt0xpna3vA%2BuqrrzRv3jwtX75cbdq08fpxhmF4fB0QEHDFukvXL69p2iMgIMDjz5fXfNve39ZLSwoLC5Wbm%2BuxNnnyZE2ZMuWa9mltIiLa%2B7qFaxYWdpOvW2i1mK29mK99mK19WtNsbQ9Y%2B/btU3V1tYYPH26uNTY2ateuXVq5cqWWLVumhoYG1dbWelw5qq6uVkJCgqSLV5DKyso89q2trVVDQ4N5RerSK1FNTpw4IYfDoZtvvlmGYSgoKKjZlajq6mrzypfT6WyxF2%2BMGjVKKSkpHmsORzvV1Jz2eg9v%2BFvSt/r52ykoKFBhYTfp5Ml/qrHxgq/baVWYrb2Yr32YrX3snK2vfri3PWDdfffdevvttz3WZs6cqa5du2rChAm65ZZbFBwcrOLiYg0ePFjSxZfYDh06pIyMDElSfHy8Xn31VVVUVJgvsxUXFyskJERxcXFmzYcffuhxnm3btikuLk7BwcGSpDvvvFPFxcW69957zZrt27dr0KBBkmTWXq0Xb7hcrmYvB1ZW1un8%2BX/tb0h/fP6NjRf8sm9/wGztxXztw2zt05pma3vA6tChg2JjYz3W2rVrp5tvvtlcHzFihHJychQREaHw8HDl5OQoNjbWvCHe7Xbrjjvu0PTp0zV9%2BnTV1tYqJydHDz30kDp06CBJSk1N1cqVK5Wdna2HHnpIJSUleuONN7Rw4ULzvGlpaZo%2Bfbri4uKUkJCgwsJCffXVV0pNTZUkhYaGttgLAABAS27ITe4t%2BcMf/iCHw6GpU6fq7NmzuueeezR//nwFBQVJkoKCgpSXl6dnnnlGDz/8sNq2bashQ4bo97//vblHdHS0Fi9erOzsbK1cuVIul0uzZs3Sz372M7Nm8ODBqqmp0SuvvKKKigrFxsZq8eLF6ty5s9e9AAAAtCTAuNY7uPGdVFbWWb6nwxGoe5/bavm%2Bdnlvav%2BWi74nHI5ARUS0V03N6VZzufr7gtnai/nah9nax87ZRkWFWrqft/zrLmkAAAA/QMACAACwGAELAADAYgQsAAAAixGwAAAALEbAAgAAsBgBCwAAwGIELAAAAIsRsAAAACxGwAIAALAYAQsAAMBiBCwAAACLEbAAAAAsRsACAACwGAELAADAYgQsAAAAixGwAAAALEbAAgAAsBgBCwAAwGIELAAAAIsRsAAAACxGwAIAALAYAQsAAMBiBCwAAACLEbAAAAAsRsACAACwGAELAADAYgQsAAAAixGwAAAALGZ7wMrLy9OIESOUkJCge%2B65R7/5zW909OhRj5r6%2BnrNnTtX/fr1U3x8vNLT03X8%2BHGPmvLycqWnpys%2BPl79%2BvVTVlaW6uvrPWp27typ4cOHq1evXho0aJBWr17drJ%2BVK1cqJSVFvXr10vDhw7V79%2B5r7gUAAOBqbA9YO3fu1K9%2B9SutXbtW%2Bfn5amxs1Pjx43XmzBmzZt68edq0aZMWLVqkVatW6cyZM5o0aZIaGxslSY2NjZo0aZLOnDmjVatWadGiRSoqKlJOTo65x5dffqmJEycqMTFR69evV3p6uubNm6eioiKz5t1331V2drYee%2BwxrV%2B/XomJiZowYYLKy8u97gUAAKAltgesZcuWafjw4erWrZt69Oih7OxslZeXa9%2B%2BfZKkuro6vfHGG5oxY4aSkpLUs2dPLViwQAcPHtT27dslSdu2bdPhw4e1YMEC9ezZU0lJSZoxY4bWrl2rU6dOSZLWrFmjW265RbNmzVJMTIxGjhyp4cOHa/ny5WYv%2Bfn5GjFihEaOHKmYmBjNmjVLnTp1Mq90edMLAABASxw3%2BoR1dXWSpPDwcEnS3r171dDQoP79%2B5s1HTt2VLdu3VRSUqLk5GSVlpaqW7du6tixo1njdrtVX1%2BvvXv36u6771ZpaanHHpKUnJysN954Qw0NDTIMQ/v27dPEiRM9avr376%2BSkhKve/FGRUWFKisrPdYcjnZyuVxePd5bQUH%2BdQudw%2BE//TbN1t9m7A%2BYrb2Yr32YrX1a42xvaMAyDEPZ2dlKTExUbGysJKmqqkrBwcFm4GridDpVVVVl1jidTo/j4eHhCg4OvmpNZGSkzp8/r5qaGhmGocbGRkVGRjY7T1MY8qYXbxQWFio3N9djbfLkyZoyZYrXe7RGERHtfd3CNQsLu8nXLbRazNZezNc%2BzNY%2BrWm2NzRgzZkzRwcPHtSqVatarDUMw%2BPrgICAK9Zdun55TdMeAQEBHn%2B%2BvObb9v62XloyatQopaSkeKw5HO1UU3P6mvZpib8lfaufv52CggIVFnaTTp78pxobL/i6nVaF2dqL%2BdqH2drHztn66of7Gxaw5s6dqy1btuh//ud/1KlTJ3Pd6XSqoaFBtbW1HleOqqurlZCQYNaUlZV57FdbW6uGhgbzitSlV6KanDhxQg6HQzfffLMMw1BQUFCzK1HV1dXmlS9vevGGy%2BVq9nJgZWWdzp//1/6G9Mfn39h4wS/79gfM1l7M1z7M1j6taba2XwIxDENz5szRBx98oIKCAkVHR3scj4uLU3BwsIqLi821iooKHTp0yAw18fHxOnTokCoqKsya4uJihYSEKC4uzqy5/Eb0bdu2mfuHhITozjvv9DiPJG3fvt08jze9AAAAtMT2K1jPPPOMNm7cqFdeeUXt27c3rzKFhoaqbdu2Cg0N1YgRI5STk6OIiAiFh4crJydHsbGxSkpKknTxhvY77rhD06dP1/Tp01VbW6ucnBw99NBD6tChgyQpNTVVK1euVHZ2th566CGVlJTojTfe0MKFC81e0tLSNH36dMXFxSkhIUGFhYX66quvlJqaavbUUi8AAAAtsT1gNX0EwpgxYzzWs7OzNXz4cEnSH/7wBzkcDk2dOlVnz57VPffco/nz5ysoKEiSFBQUpLy8PD3zzDN6%2BOGH1bZtWw0ZMkS///3vzf2io6O1ePFiZWdna%2BXKlXK5XJo1a5Z%2B9rOfmTWDBw9WTU2NXnnlFVVUVCg2NlaLFy9W586dzZqWegEAAGhJgHGtd3DjO6msrLN8T4cjUPc%2Bt9Xyfe3y3tT%2BLRd9TzgcgYqIaK%2BamtOt5n6A7wtmay/max9max87ZxsVFWrpft7yr7ehAQAA%2BAECFgAAgMUIWAAAABYjYAEAAFiMgAUAAGAxAhYAAIDFCFgAAAAWI2ABAABYjIAFAABgMQIWAACAxQhYAAAAFiNgAQAAWIyABQAAYDECFgAAgMUIWAAAABYjYAEAAFiMgAUAAGAxAhYAAIDFCFgAAAAWI2ABAABYjIAFAABgMQIWAACAxQhYAAAAFiNgAQAAWIyABQAAYDECFgAAgMUIWAAAABYjYAEAAFiMgAUAAGAxAta3WLlypVJSUtSrVy8NHz5cu3fv9nVLAADATxCwruDdd99Vdna2HnvsMa1fv16JiYmaMGGCysvLfd0aAADwAwSsK8jPz9eIESM0cuRIxcTEaNasWerUqZNWr17t69YAAIAfcPi6ge%2Bb%2Bvp67du3TxMnTvRY79%2B/v0pKSrzao6KiQpWVlR5rDkc7uVwuy/qUpKAg/8rH979Q7OsWrsnueT/3uxn7g6aZMlt7MF/7MFv7tMbZErAuU1NTo8bGRkVGRnqsO53OZqHp2xQWFio3N9dj7fHHH9dvf/tby/qULga5X3c6pFGjRlke3v7VVVRU6KWXXmK2NqioqFBBwVJmaxPmax9ma5/WONvWExUtFhAQ4PG1YRjN1r7NqFGj9Oabb3r8M2rUKMt7rKysVG5urtfBD95jtvZhtvZivvZhtvZpjbPlCtZlIiIiFBQUpKqqKo/16upqOZ1Or/ZwuVytJoEDAIBrxxWsy4SEhOjOO%2B9UcbHn/ULbt29XQkKCj7oCAAD%2BhCtYV5CWlqbp06crLi5OCQkJKiws1FdffaXU1FRftwYAAPxA0NNPP/20r5v4vunWrZvCw8O1ePFiLVu2TOfOndOzzz6rHj16%2BLq1Ztq3b68f//jHat%2B%2Bva9baXWYrX2Yrb2Yr32YrX1a22wDDMMwfN0EAABAa8I9WAAAABYjYAEAAFiMgAUAAGAxAhYAAIDFCFgAAAAWI2ABAABYjIAFAABgMQIWAACAxQhYAAAAFiNg%2BamVK1cqJSVFvXr10vDhw7V7925ft/S9k5eXpxEjRighIUH33HOPfvOb3%2Bjo0aMeNfX19Zo7d6769eun%2BPh4paen6/jx4x415eXlSk9PV3x8vPr166esrCzV19d71OzcuVPDhw9Xr169NGjQIK1evdr25/d9kpeXp%2B7du2vevHnmGrP97r7%2B%2Bms9%2BeST6tevn/r06aOhQ4dq79695nHDMPTSSy/J7Xard%2B/eGjNmjA4dOvSt%2BzHni86fP69FixYpJSVFvXv31qBBg5Sbm6sLFy6YNd7Mtra2VhkZGUpMTFRiYqIyMjJ08uRJj5oDBw5o9OjR6t27t5KTk5Wbm6vW9otTdu3apfT0dLndbnXv3l2bN2/2OH4jZ1lUVKTBgwcrLi5OgwcP1qZNm%2Bx50tfCgN955513jDvvvNNYu3atcfjwYSMrK8uIj483/t//%2B3%2B%2Bbu17Zdy4ccYbb7xhHDx40Pj000%2BNiRMnGj/5yU%2BM06dPmzWZmZlGcnKyUVxcbOzbt88YM2aM8R//8R/G%2BfPnDcMwjPPnzxtDhgwxxowZY%2Bzbt88oLi423G63MWfOHHOPf/zjH0afPn2MrKws4/Dhw8batWuNO%2B%2B803j//fdv%2BHP2hbKyMmPgwIHGAw88YGRlZZnrzPa7%2Beabb4yBAwcaM2bMMMrKyowvv/zS2L59u/HFF1%2BYNXl5eUZCQoJRVFRkHDhwwJg6darRv39/o66urtl%2BzPn/vPLKK8aPf/xj48MPPzS%2B/PJL47333jPi4%2BON1157zazxZrbjx483hgwZYnzyySfGJ598YgwZMsSYNGmSebyurs5ISkoypk2bZhw4cMAoKioyEhISjGXLlt3Q52u3v/zlL8bzzz9vFBUVGbGxscamTZs8jt%2BoWX7yySfGj370I%2BPVV181Dh8%2BbLz66qtGz549jdLSUvuHcBUELD/0y1/%2B0sjMzPRY%2B/nPf24899xzPurIP1RXVxuxsbHGzp07DcMwjJMnTxp33nmn8c4775g1x48fN3r06GH87//%2Br2EYF/8C6dGjh3H8%2BHGzZuPGjUZcXJz5l8Szzz5r/PznP/c41%2BzZs42HHnrI7qfkc6dOnTLuu%2B8%2Bo7i42Bg9erQZsJjtd7dgwQLj4Ycf/tbjFy5cMPr372/k5eWZa%2BfOnTMSExON1atXN6tnzv9n4sSJxsyZMz3WHn/8cePJJ580DMO72R4%2BfNiIjY31%2BI93SUmJERsbaxw5csQwDMNYuXKlkZiYaJw7d86sycvLM9xut3HhwgXbnp8vXR6wbuQs//M//9MYP368Rz/jxo0zpk2bZv0TvQa8ROhn6uvrtW/fPrndbo/1/v37q6SkxEdd%2BYe6ujpJUnh4uCRp7969amhoUP/%2B/c2ajh07qlu3buYsS0tL1a1bN3Xs2NGscbvdqq%2BvN1%2ByKS0t9dhDkpKTk839W7M5c%2BZowIABSkpK8lhntt/dli1bFBcXpylTpuiee%2B7Rgw8%2BqLVr15rHjx07psrKSo%2B/A0JCQtS3b98r/h3AnP9PYmKi/va3v%2Bmzzz6TJO3fv18ff/yxBgwYIMm72ZaUlCg0NFR9%2BvQxa%2BLj4xUaGurx/%2B2%2BffsqJCTErHG73aqoqNCxY8dsf57fBzdylqWlpc3%2Bm5icnOzz/yY6fHp2XLOamho1NjYqMjLSY93pdKqystJHXX3/GYah7OxsJSYmKjY2VpJUVVWl4OBgM3A1cTqdqqqqMmucTqfH8fDwcAUHB1%2B1JjIyUufPn1dNTY1cLpddT8un3nnnHf3973/XunXrmh1jtt/dl19%2BqdWrVystLU3p6enas2ePsrKyFBISogcffND8Pr/S3wHl5eXN9mPO/2fChAmqq6vT/fffr6CgIDU2NmratGkaMmSIJHk126qqqmbHmx5z6Tw7d%2B7c7HjTsejoaGuf2PfQjZzllfaJjIz0%2BX8TCVh%2BKiAgwONrwzCareH/zJkzRwcPHtSqVatarDUuu3ny2%2BZ66fqV/ve42mP93VdffaV58%2BZp%2BfLlatOmjdePY7YtMwxDcXFx%2Bt3vfidJ6tmzpw4fPqzVq1frwQcfNOu%2BbS5Xwpwvevfdd7VhwwYtXLhQd9xxhz799FNlZ2fL5XJp2LBhZt21zPbSmqvNs6X11upGzfL7%2BN9EXiL0MxEREbhvnK4AAATjSURBVAoKCjLTfZPq6upmP4Hiorlz52rLli0qKChQp06dzHWn06mGhgbV1tZ61F86yytdGaytrVVDQ4P5E9OVak6cOCGHw6Gbb77Zjqfkc/v27VN1dbWGDx%2Bunj17qmfPntq5c6def/119ezZk9leh6ioKMXExHisdf3/2rmf0Ca2MArgpyZNFkoRawaUKEakrcw0ZrooQjYWEQu2kGx14S7uuomgG2mTFiEuAomK2p3QagsRhQhiFt2YBIMixJWhFty0tEUNMhiC/z4XD6cd2vfIe45JXzk/GAjJzWXuIcx8uTNzDx82//V7PB4AaPgYwJzXXLt2DZFIBGfOnEF3dzdCoRDOnz%2BPO3fuAGgs27179%2BLDhw8b%2Bv748eM/5vnrO5vN2GxHzcxy/cz4%2Bj5afU5kgfU/43K5oKoqCoWC5f1isQhd11u0V1uTiCAejyOXy%2BHu3bsbpuU1TUN7e7sly9XVVczPz5tZBgIBzM/PY3V11WxTKBTgcrmgaZrZplgsWvrO5/Nm/9vR8ePHkc1m8ejRI3PTNA3Dw8Pma2b73/T19Zn3CP3y7t078zKJ1%2BuFx%2BOxZPvlyxe8ePFi02MAc15Tr9c3zGo4HA5zVqWRbHVdh2EYeP36tdmmXC7DMAzLb/vly5eWpTDy%2BTwURYHX6/1j49tKmpllIBDYcE7M5/MtPyc6xsbGxlq6B/Sv7dq1C6lUCoqiwO124/bt2yiVSrh69So6OjpavXtbRiwWQzabRTqdhqIoqNVqqNVqcDgccDqdcLvdWFlZwfT0NHp6emAYBkZHR7Fz505cvHgRO3bswIEDB5DL5VAoFNDV1YW3b98iFotheHgYp06dAgAcPHgQk5OTqFar2L9/P%2Bbm5nDr1i1cvnwZR44caXEKf4bL5UJnZ6dle/z4MbxeL8LhMLP9Dfv27cPNmzfhcDjg8Xjw7Nkz3LhxAyMjI%2Bju7kZbWxu%2BffuGyclJ%2BHw%2BfP/%2BHYlEAisrK4jH45abgQEw53UWFhbw8OFD%2BHw%2BOJ1OlEolJJNJDA0NIRgMNpTtnj17UC6Xkc1mcfToUSwvL%2BPKlSvmOk8AcOjQIdy/fx%2BVSgU%2Bnw%2BvXr1CIpFAJBJBX19fi1Owz%2BfPn7GwsID3799jZmYGx44dg9vtxtevX9HR0dG0LBVFQSqVQnt7O3bv3o1MJoNMJoPx8XHLVYuma/6Di2SHqakpGRgYEFVVJRwOm0sP0Jqurq5NtwcPHpht6vW6xONx6e/vF7/fLxcuXJClpSVLP4uLixKJRMTv90t/f7/E43HLI8MiIqVSSUKhkKiqKgMDA3Lv3r2mjHErWb9Mgwiz/R1zc3MyNDQkmqbJ4OCgzM7OWj7/8eOHpNNpCQaDommanDt3TiqVyt/2x5z/YhiGTExMyIkTJ6S3t1dOnjwpyWTSkkUj2VarVYlGo6Lruui6LtFoVD59%2BmRp8%2BbNGzl79qxomibBYFCuX7%2B%2B7ZZoeP78%2BabH2EuXLolIc7N88uSJnD59WlRVlcHBQXn69OmfHXwD2kS22dKyRERERC3Ge7CIiIiIbMYCi4iIiMhmLLCIiIiIbMYCi4iIiMhmLLCIiIiIbMYCi4iIiMhmLLCIiIiIbMYCi4iIiMhmLLCIiIiIbMYCi4iIiMhmLLCIiIiIbMYCi4iIiMhmLLCIiIiIbPYTujhZ6q5jO/wAAAAASUVORK5CYII%3D\"/>\n",
       "        </div>\n",
       "        <div role=\"tabpanel\" class=\"tab-pane col-md-12\" id=\"common-7797904532438934264\">\n",
       "            \n",
       "<table class=\"freq table table-hover\">\n",
       "    <thead>\n",
       "    <tr>\n",
       "        <td class=\"fillremaining\">Value</td>\n",
       "        <td class=\"number\">Count</td>\n",
       "        <td class=\"number\">Frequency (%)</td>\n",
       "        <td style=\"min-width:200px\">&nbsp;</td>\n",
       "    </tr>\n",
       "    </thead>\n",
       "    <tr class=\"\">\n",
       "        <td class=\"fillremaining\">29.99</td>\n",
       "        <td class=\"number\">29890</td>\n",
       "        <td class=\"number\">1.9%</td>\n",
       "        <td>\n",
       "            <div class=\"bar\" style=\"width:3%\">&nbsp;</div>\n",
       "        </td>\n",
       "</tr><tr class=\"\">\n",
       "        <td class=\"fillremaining\">19.99</td>\n",
       "        <td class=\"number\">24729</td>\n",
       "        <td class=\"number\">1.6%</td>\n",
       "        <td>\n",
       "            <div class=\"bar\" style=\"width:2%\">&nbsp;</div>\n",
       "        </td>\n",
       "</tr><tr class=\"\">\n",
       "        <td class=\"fillremaining\">9.99</td>\n",
       "        <td class=\"number\">21408</td>\n",
       "        <td class=\"number\">1.4%</td>\n",
       "        <td>\n",
       "            <div class=\"bar\" style=\"width:2%\">&nbsp;</div>\n",
       "        </td>\n",
       "</tr><tr class=\"\">\n",
       "        <td class=\"fillremaining\">49.99</td>\n",
       "        <td class=\"number\">20916</td>\n",
       "        <td class=\"number\">1.4%</td>\n",
       "        <td>\n",
       "            <div class=\"bar\" style=\"width:2%\">&nbsp;</div>\n",
       "        </td>\n",
       "</tr><tr class=\"\">\n",
       "        <td class=\"fillremaining\">14.99</td>\n",
       "        <td class=\"number\">19429</td>\n",
       "        <td class=\"number\">1.3%</td>\n",
       "        <td>\n",
       "            <div class=\"bar\" style=\"width:2%\">&nbsp;</div>\n",
       "        </td>\n",
       "</tr><tr class=\"\">\n",
       "        <td class=\"fillremaining\">6.99</td>\n",
       "        <td class=\"number\">17968</td>\n",
       "        <td class=\"number\">1.2%</td>\n",
       "        <td>\n",
       "            <div class=\"bar\" style=\"width:2%\">&nbsp;</div>\n",
       "        </td>\n",
       "</tr><tr class=\"\">\n",
       "        <td class=\"fillremaining\">7.99</td>\n",
       "        <td class=\"number\">16954</td>\n",
       "        <td class=\"number\">1.1%</td>\n",
       "        <td>\n",
       "            <div class=\"bar\" style=\"width:2%\">&nbsp;</div>\n",
       "        </td>\n",
       "</tr><tr class=\"\">\n",
       "        <td class=\"fillremaining\">39.99</td>\n",
       "        <td class=\"number\">15889</td>\n",
       "        <td class=\"number\">1.0%</td>\n",
       "        <td>\n",
       "            <div class=\"bar\" style=\"width:2%\">&nbsp;</div>\n",
       "        </td>\n",
       "</tr><tr class=\"\">\n",
       "        <td class=\"fillremaining\">12.99</td>\n",
       "        <td class=\"number\">14391</td>\n",
       "        <td class=\"number\">0.9%</td>\n",
       "        <td>\n",
       "            <div class=\"bar\" style=\"width:2%\">&nbsp;</div>\n",
       "        </td>\n",
       "</tr><tr class=\"\">\n",
       "        <td class=\"fillremaining\">3.99</td>\n",
       "        <td class=\"number\">13634</td>\n",
       "        <td class=\"number\">0.9%</td>\n",
       "        <td>\n",
       "            <div class=\"bar\" style=\"width:2%\">&nbsp;</div>\n",
       "        </td>\n",
       "</tr><tr class=\"other\">\n",
       "        <td class=\"fillremaining\">Other values (26880)</td>\n",
       "        <td class=\"number\">1346064</td>\n",
       "        <td class=\"number\">87.3%</td>\n",
       "        <td>\n",
       "            <div class=\"bar\" style=\"width:100%\">&nbsp;</div>\n",
       "        </td>\n",
       "</tr>\n",
       "</table>\n",
       "        </div>\n",
       "        <div role=\"tabpanel\" class=\"tab-pane col-md-12\"  id=\"extreme-7797904532438934264\">\n",
       "            <p class=\"h4\">Minimum 5 values</p>\n",
       "            \n",
       "<table class=\"freq table table-hover\">\n",
       "    <thead>\n",
       "    <tr>\n",
       "        <td class=\"fillremaining\">Value</td>\n",
       "        <td class=\"number\">Count</td>\n",
       "        <td class=\"number\">Frequency (%)</td>\n",
       "        <td style=\"min-width:200px\">&nbsp;</td>\n",
       "    </tr>\n",
       "    </thead>\n",
       "    <tr class=\"\">\n",
       "        <td class=\"fillremaining\">0.0</td>\n",
       "        <td class=\"number\">6802</td>\n",
       "        <td class=\"number\">0.4%</td>\n",
       "        <td>\n",
       "            <div class=\"bar\" style=\"width:100%\">&nbsp;</div>\n",
       "        </td>\n",
       "</tr><tr class=\"\">\n",
       "        <td class=\"fillremaining\">0.01</td>\n",
       "        <td class=\"number\">3</td>\n",
       "        <td class=\"number\">0.0%</td>\n",
       "        <td>\n",
       "            <div class=\"bar\" style=\"width:1%\">&nbsp;</div>\n",
       "        </td>\n",
       "</tr><tr class=\"\">\n",
       "        <td class=\"fillremaining\">0.06</td>\n",
       "        <td class=\"number\">1</td>\n",
       "        <td class=\"number\">0.0%</td>\n",
       "        <td>\n",
       "            <div class=\"bar\" style=\"width:1%\">&nbsp;</div>\n",
       "        </td>\n",
       "</tr><tr class=\"\">\n",
       "        <td class=\"fillremaining\">0.09</td>\n",
       "        <td class=\"number\">1</td>\n",
       "        <td class=\"number\">0.0%</td>\n",
       "        <td>\n",
       "            <div class=\"bar\" style=\"width:1%\">&nbsp;</div>\n",
       "        </td>\n",
       "</tr><tr class=\"\">\n",
       "        <td class=\"fillremaining\">0.16</td>\n",
       "        <td class=\"number\">1</td>\n",
       "        <td class=\"number\">0.0%</td>\n",
       "        <td>\n",
       "            <div class=\"bar\" style=\"width:1%\">&nbsp;</div>\n",
       "        </td>\n",
       "</tr>\n",
       "</table>\n",
       "            <p class=\"h4\">Maximum 5 values</p>\n",
       "            \n",
       "<table class=\"freq table table-hover\">\n",
       "    <thead>\n",
       "    <tr>\n",
       "        <td class=\"fillremaining\">Value</td>\n",
       "        <td class=\"number\">Count</td>\n",
       "        <td class=\"number\">Frequency (%)</td>\n",
       "        <td style=\"min-width:200px\">&nbsp;</td>\n",
       "    </tr>\n",
       "    </thead>\n",
       "    <tr class=\"\">\n",
       "        <td class=\"fillremaining\">8693.69</td>\n",
       "        <td class=\"number\">9</td>\n",
       "        <td class=\"number\">0.0%</td>\n",
       "        <td>\n",
       "            <div class=\"bar\" style=\"width:18%\">&nbsp;</div>\n",
       "        </td>\n",
       "</tr><tr class=\"\">\n",
       "        <td class=\"fillremaining\">8969.99</td>\n",
       "        <td class=\"number\">3</td>\n",
       "        <td class=\"number\">0.0%</td>\n",
       "        <td>\n",
       "            <div class=\"bar\" style=\"width:6%\">&nbsp;</div>\n",
       "        </td>\n",
       "</tr><tr class=\"\">\n",
       "        <td class=\"fillremaining\">9284.99</td>\n",
       "        <td class=\"number\">1</td>\n",
       "        <td class=\"number\">0.0%</td>\n",
       "        <td>\n",
       "            <div class=\"bar\" style=\"width:2%\">&nbsp;</div>\n",
       "        </td>\n",
       "</tr><tr class=\"\">\n",
       "        <td class=\"fillremaining\">9584.99</td>\n",
       "        <td class=\"number\">1</td>\n",
       "        <td class=\"number\">0.0%</td>\n",
       "        <td>\n",
       "            <div class=\"bar\" style=\"width:2%\">&nbsp;</div>\n",
       "        </td>\n",
       "</tr><tr class=\"\">\n",
       "        <td class=\"fillremaining\">9999.0</td>\n",
       "        <td class=\"number\">51</td>\n",
       "        <td class=\"number\">0.0%</td>\n",
       "        <td>\n",
       "            <div class=\"bar\" style=\"width:100%\">&nbsp;</div>\n",
       "        </td>\n",
       "</tr>\n",
       "</table>\n",
       "        </div>\n",
       "    </div>\n",
       "</div>\n",
       "</div><div class=\"row variablerow\">\n",
       "    <div class=\"col-md-3 namecol\">\n",
       "        <p class=\"h4 pp-anchor\" id=\"pp_var_quantity\">quantity<br/>\n",
       "            <small>Numeric</small>\n",
       "        </p>\n",
       "    </div><div class=\"col-md-6\">\n",
       "    <div class=\"row\">\n",
       "        <div class=\"col-sm-6\">\n",
       "            <table class=\"stats \">\n",
       "                <tr>\n",
       "                    <th>Distinct count</th>\n",
       "                    <td>208</td>\n",
       "                </tr>\n",
       "                <tr>\n",
       "                    <th>Unique (%)</th>\n",
       "                    <td>0.0%</td>\n",
       "                </tr>\n",
       "                <tr class=\"ignore\">\n",
       "                    <th>Missing (%)</th>\n",
       "                    <td>0.0%</td>\n",
       "                </tr>\n",
       "                <tr class=\"ignore\">\n",
       "                    <th>Missing (n)</th>\n",
       "                    <td>0</td>\n",
       "                </tr>\n",
       "                <tr class=\"ignore\">\n",
       "                    <th>Infinite (%)</th>\n",
       "                    <td>0.0%</td>\n",
       "                </tr>\n",
       "                <tr class=\"ignore\">\n",
       "                    <th>Infinite (n)</th>\n",
       "                    <td>0</td>\n",
       "                </tr>\n",
       "            </table>\n",
       "\n",
       "        </div>\n",
       "        <div class=\"col-sm-6\">\n",
       "            <table class=\"stats \">\n",
       "\n",
       "                <tr>\n",
       "                    <th>Mean</th>\n",
       "                    <td>2.8605</td>\n",
       "                </tr>\n",
       "                <tr>\n",
       "                    <th>Minimum</th>\n",
       "                    <td>1</td>\n",
       "                </tr>\n",
       "                <tr>\n",
       "                    <th>Maximum</th>\n",
       "                    <td>800</td>\n",
       "                </tr>\n",
       "                <tr class=\"ignore\">\n",
       "                    <th>Zeros (%)</th>\n",
       "                    <td>0.0%</td>\n",
       "                </tr>\n",
       "            </table>\n",
       "        </div>\n",
       "    </div>\n",
       "</div>\n",
       "<div class=\"col-md-3 collapse in\" id=\"minihistogram3678014330288056330\">\n",
       "    <img src=\"data:image/png;base64,iVBORw0KGgoAAAANSUhEUgAAAMgAAABLCAYAAAA1fMjoAAAABHNCSVQICAgIfAhkiAAAAAlwSFlzAAAPYQAAD2EBqD%2BnaQAAADl0RVh0U29mdHdhcmUAbWF0cGxvdGxpYiB2ZXJzaW9uIDIuMi4yLCBodHRwOi8vbWF0cGxvdGxpYi5vcmcvhp/UCwAAAPtJREFUeJzt1bEJAlEQRVFXLGmLsCdje7IIexpzkQsbyN/gnHzgJZfZZmYuwE/X1QPgzG6rB3zbH6/DN%2B/n/Q9LwAeBJBAIAoEgEAgCgSAQCAKBIBAIAoEgEAgCgSAQCAKBIBAIAoEgEAgCgSAQCAKBIBAIAoEgEAgCgSAQCAKBIBAIAoEgEAgCgSAQCAKBIBAIAoEgEAgCgSAQCAKBIBAIAoEgEAgCgSAQCAKBIBAIAoEgEAjbzMzqEXBWPggEgUAQCASBQBAIBIFAEAgEgUAQCASBQBAIBIFAEAgEgUAQCASBQBAIBIFAEAgEgUAQCASBQBAIBIFAEAiED9obC49m6JdFAAAAAElFTkSuQmCC\">\n",
       "\n",
       "</div>\n",
       "<div class=\"col-md-12 text-right\">\n",
       "    <a role=\"button\" data-toggle=\"collapse\" data-target=\"#descriptives3678014330288056330,#minihistogram3678014330288056330\"\n",
       "       aria-expanded=\"false\" aria-controls=\"collapseExample\">\n",
       "        Toggle details\n",
       "    </a>\n",
       "</div>\n",
       "<div class=\"row collapse col-md-12\" id=\"descriptives3678014330288056330\">\n",
       "    <ul class=\"nav nav-tabs\" role=\"tablist\">\n",
       "        <li role=\"presentation\" class=\"active\"><a href=\"#quantiles3678014330288056330\"\n",
       "                                                  aria-controls=\"quantiles3678014330288056330\" role=\"tab\"\n",
       "                                                  data-toggle=\"tab\">Statistics</a></li>\n",
       "        <li role=\"presentation\"><a href=\"#histogram3678014330288056330\" aria-controls=\"histogram3678014330288056330\"\n",
       "                                   role=\"tab\" data-toggle=\"tab\">Histogram</a></li>\n",
       "        <li role=\"presentation\"><a href=\"#common3678014330288056330\" aria-controls=\"common3678014330288056330\"\n",
       "                                   role=\"tab\" data-toggle=\"tab\">Common Values</a></li>\n",
       "        <li role=\"presentation\"><a href=\"#extreme3678014330288056330\" aria-controls=\"extreme3678014330288056330\"\n",
       "                                   role=\"tab\" data-toggle=\"tab\">Extreme Values</a></li>\n",
       "\n",
       "    </ul>\n",
       "\n",
       "    <div class=\"tab-content\">\n",
       "        <div role=\"tabpanel\" class=\"tab-pane active row\" id=\"quantiles3678014330288056330\">\n",
       "            <div class=\"col-md-4 col-md-offset-1\">\n",
       "                <p class=\"h4\">Quantile statistics</p>\n",
       "                <table class=\"stats indent\">\n",
       "                    <tr>\n",
       "                        <th>Minimum</th>\n",
       "                        <td>1</td>\n",
       "                    </tr>\n",
       "                    <tr>\n",
       "                        <th>5-th percentile</th>\n",
       "                        <td>1</td>\n",
       "                    </tr>\n",
       "                    <tr>\n",
       "                        <th>Q1</th>\n",
       "                        <td>1</td>\n",
       "                    </tr>\n",
       "                    <tr>\n",
       "                        <th>Median</th>\n",
       "                        <td>1</td>\n",
       "                    </tr>\n",
       "                    <tr>\n",
       "                        <th>Q3</th>\n",
       "                        <td>2</td>\n",
       "                    </tr>\n",
       "                    <tr>\n",
       "                        <th>95-th percentile</th>\n",
       "                        <td>10</td>\n",
       "                    </tr>\n",
       "                    <tr>\n",
       "                        <th>Maximum</th>\n",
       "                        <td>800</td>\n",
       "                    </tr>\n",
       "                    <tr>\n",
       "                        <th>Range</th>\n",
       "                        <td>799</td>\n",
       "                    </tr>\n",
       "                    <tr>\n",
       "                        <th>Interquartile range</th>\n",
       "                        <td>1</td>\n",
       "                    </tr>\n",
       "                </table>\n",
       "            </div>\n",
       "            <div class=\"col-md-4 col-md-offset-2\">\n",
       "                <p class=\"h4\">Descriptive statistics</p>\n",
       "                <table class=\"stats indent\">\n",
       "                    <tr>\n",
       "                        <th>Standard deviation</th>\n",
       "                        <td>7.5703</td>\n",
       "                    </tr>\n",
       "                    <tr>\n",
       "                        <th>Coef of variation</th>\n",
       "                        <td>2.6465</td>\n",
       "                    </tr>\n",
       "                    <tr>\n",
       "                        <th>Kurtosis</th>\n",
       "                        <td>1080.2</td>\n",
       "                    </tr>\n",
       "                    <tr>\n",
       "                        <th>Mean</th>\n",
       "                        <td>2.8605</td>\n",
       "                    </tr>\n",
       "                    <tr>\n",
       "                        <th>MAD</th>\n",
       "                        <td>2.6938</td>\n",
       "                    </tr>\n",
       "                    <tr class=\"alert\">\n",
       "                        <th>Skewness</th>\n",
       "                        <td>21.383</td>\n",
       "                    </tr>\n",
       "                    <tr>\n",
       "                        <th>Sum</th>\n",
       "                        <td>4408823</td>\n",
       "                    </tr>\n",
       "                    <tr>\n",
       "                        <th>Variance</th>\n",
       "                        <td>57.31</td>\n",
       "                    </tr>\n",
       "                    <tr>\n",
       "                        <th>Memory size</th>\n",
       "                        <td>11.8 MiB</td>\n",
       "                    </tr>\n",
       "                </table>\n",
       "            </div>\n",
       "        </div>\n",
       "        <div role=\"tabpanel\" class=\"tab-pane col-md-8 col-md-offset-2\" id=\"histogram3678014330288056330\">\n",
       "            <img src=\"data:image/png;base64,iVBORw0KGgoAAAANSUhEUgAAAlgAAAGQCAYAAAByNR6YAAAABHNCSVQICAgIfAhkiAAAAAlwSFlzAAAPYQAAD2EBqD%2BnaQAAADl0RVh0U29mdHdhcmUAbWF0cGxvdGxpYiB2ZXJzaW9uIDIuMi4yLCBodHRwOi8vbWF0cGxvdGxpYi5vcmcvhp/UCwAAIABJREFUeJzs3X1YVXW%2B//8XsiFHRWLYbC21aSSxY6gQw1gI44jlzDg6po5CTVrUUWhsHJmSdFSmFA%2BSqTVRE94RzniDR7vMrDRNm6Nooxbo0bxL0/SLxo2EqKMort8f/lhft6hscyHt9X0%2BrqurWOuzP/v9Quh6sfZm6WMYhiEAAABYpkljDwAAAGA3FCwAAACLUbAAAAAsRsECAACwGAULAADAYhQsAAAAi1GwAAAALEbBAgAAsBgFCwAAwGIULAAAAItRsAAAACxGwQIAALAYBQsAAMBiFCwAAACLUbAAAAAsRsECAACwGAULAADAYhQsAAAAi1GwAAAALEbBAgAAsBgFCwAAwGIULAAAAItRsAAAACxGwQIAALAYBQsAAMBiFCwAAACLUbAAAAAsRsECAACwGAULAADAYhQsAAAAi1GwAAAALEbBAgAAsBgFCwAAwGIULAAAAItRsAAAACxGwQIAALAYBQsAAMBiFCwAAACL3VTB2rp1q1JSUhQbG6uOHTtq7dq1ddYcOHBAKSkpioqKUmRkpIYMGaLi4mLzfHV1tSZPnqxu3bopIiJCKSkpOn78uNsexcXFSklJUUREhLp166aMjAxVV1e7rdmyZYsGDhyozp07q1evXlq0aFGdWRYsWKD4%2BHh17txZAwcO1LZt29zOezILAABAfRw38%2BAzZ86oY8eOGjhwoP7whz/UOf/111/rscce06BBgzRq1CgFBATowIEDuu2228w1U6ZM0fr16zVz5kzdfvvtmjp1qpKTk/XOO%2B/I19dXNTU1Sk5OVlBQkBYuXKhvv/1WL7zwggzD0MSJEyVJR44c0YgRIzR48GBNmzZNn3/%2BuV566SX98Ic/1C9%2B8QtJ0gcffKDMzEz95S9/0f3336/Fixdr%2BPDhev/993XnnXd6NMvNKC2tuqnHX6lJEx/98IfNdeLEaV28aFi6d2Ozaza75pLI5o3smksimzdqyFwhIQGW7uepmypYPXr0UI8ePa55fubMmfrZz36mtLQ081i7du3M/66qqtKyZcv08ssvKyYmRpI0bdo0/fznP9emTZsUFxenjRs36ssvv9Qnn3yiVq1aSZLGjh2rsWPHKjU1VS1atNDixYt1xx13aPz48ZKk0NBQ/e///q/mzZtnFqzc3FwNGjRIgwcPliSNHz9eGzdu1KJFi/Tcc895NMv3SZMmPvLx8VGTJj62%2BiaT7JvNrrkksnkju%2BaSyOaN7JjrpgrW9Vy8eFGffPKJ/vM//1NPP/20vvjiC7Vt21bJycl66KGHJEk7d%2B7U%2BfPn1b17d/NxrVq1UocOHVRYWKi4uDgVFRWpQ4cOZrmSpNjYWFVXV2vnzp164IEHVFRU5LaHJMXFxWnZsmU6f/68DMPQrl27NGLECLc13bt3V2FhocezeKqkpESlpaVuxxyOZnK5XB7vUR9f3yZu/7YTu2azay6JbN7IrrkksnkjO%2BZqsIJVXl6uM2fOaPbs2Ro9erSef/55bdiwQc8%2B%2B6zmz5%2Bvn/70pyorK5Ofn58CAwPdHut0OlVWViZJKisrk9PpdDsfGBgoPz%2B/664JDg7WhQsXVFFRIcMwVFNTo%2BDg4DrPU1uEPJnFU/n5%2BcrOznY7NnLkSI0aNeqG9vFEy5Y/sHzP7wu7ZrNrLols3siuuSSyeSM75WrQK1iS1KtXLz355JOSpP/4j//Q559/rsWLF%2BunP/3pNR9rGO6XB318fK667vLjV66p3cPHx8ftv69cc629rzWLJxISEhQfH%2B92zOFopoqK0ze817X4%2BjZRy5Y/0MmT/1ZNzUXL9v0%2BsGs2u%2BaSyOaN7JpLIps3ashcQUHNLd3PUw1WsIKCguRwOBQaGup2PDQ0VJ999pmkS1eHzp8/r8rKSrcrR%2BXl5YqMjDTXbN%2B%2B3W2PyspKnT9/3rwidfmVqFonTpyQw%2BHQ7bffLsMw5OvrW%2BdKVHl5uXnly5NZPOVyueq8HFhaWqULF6z/Zqipudgg%2B34f2DWbXXNJZPNGds0lkc0b2SlXg73Y6e/vr86dO%2Burr75yO37o0CG1adNGkhQeHi4/Pz8VFBSY50tKSrR//36z1ERERGj//v0qKSkx1xQUFMjf31/h4eHmmk2bNrk9z8aNG839/f39dd9997k9jyRt2rTJfB5PZgEAAPDETV3BOn36tL7%2B%2Bmvz46NHj2r37t0KDAzUnXfeqaefflqpqamKjo5Wt27dtGHDBq1fv17z58%2BXJAUEBGjQoEHKyspSUFCQAgMDlZWVpbCwMPM3%2BWJjY3XPPfcoLS1NaWlpqqysVFZWloYMGaIWLVpIkhITE7VgwQJlZmZqyJAhKiws1LJlyzR9%2BnRztqSkJKWlpSk8PFyRkZHKz8/XsWPHlJiY6PEsAAAAnvAxvsubjP5///rXvzRs2LA6xwcMGKCpU6dKkpYuXapZs2bp%2BPHj%2BvGPf6w//OEP5m8RStK5c%2Bf08ssva%2BXKlTp79qwefPBB/eUvf9Edd9xhrikuLtZLL72kTz/9VE2bNlXfvn31wgsvyN/f31yzZcsWZWZmav/%2B/XK5XBo%2BfLgeffRRt7kWLFiguXPnqqSkRGFhYRo3bpyio6NvaJbvyur7YDkcTRQU1FwVFadtczm1ll2z2TWXRDZvZNdcEtm8UUPmaqz7YN1UwYLnKFies2s2u%2BaSyOaN7JpLIps3smPBss8NJwAAAL4nKFgAAAAWo2ABAABYjIIFAABgMQoWAACAxRrsTu64NR5%2BZUNjj%2BCxD0d3r38RAAA2wBUsAAAAi1GwAAAALEbBAgAAsBgFCwAAwGIULAAAAItRsAAAACxGwQIAALAYBQsAAMBiFCwAAACLUbAAAAAsRsECAACwGAULAADAYhQsAAAAi1GwAAAALEbBAgAAsBgFCwAAwGIULAAAAItRsAAAACxGwQIAALAYBQsAAMBiFCwAAACLUbAAAAAsdtMFa%2BvWrUpJSVFsbKw6duyotWvXXnNtenq6OnbsqLffftvteGVlpcaMGaOoqChFRUVpzJgxOnnypNuavXv36vHHH1eXLl0UFxen7OxsGYbhtmb16tXq06ePwsPD1adPH61Zs8btvGEYev311xUbG6suXbpo6NCh2r9//w3PAgAAcD03XbDOnDmjjh07Kj09/brr1q5dq%2B3bt8vlctU599xzz2nPnj2aM2eO5syZoz179igtLc08f%2BrUKT311FNyuVxaunSpJk6cqHnz5ik3N9dcU1hYqNTUVPXv31/vvvuu%2Bvfvr9GjR2v79u3mmtmzZys3N1fp6elaunSpnE6nkpKSdOrUKY9nAQAAqI/jZjfo0aOHevTocd0133zzjSZNmqS5c%2BcqOTnZ7dyBAwe0YcMGLVmyRF27dpUkTZ48WQkJCTp48KDat2%2BvFStW6Ny5c5o6dar8/f0VFhamQ4cOKTc3V0lJSfLx8VFeXp5iYmLM/UNDQ7Vlyxbl5eVpxowZMgxD8%2BfPV0pKinr37i1JysrKUkxMjFauXKnExESPZgEAAKhPg78H6%2BLFixozZoyefvppdejQoc75wsJCBQQEmIVGkiIiIhQQEKDCwkJJUlFRkaKjo%2BXv72%2BuiY2NVUlJiY4ePWquiY2Ndds7Li7O3OPo0aMqLS11W%2BPv76/o6GhzjSezAAAA1Oemr2DVZ/bs2XI4HBo2bNhVz5eVlSk4OLjO8eDgYJWVlZlr2rRpU%2Bd87bl27dpddZ/g4GCVlpZKkvnvK9c4nU4VFxd7PIsnSkpKzOer5XA0u%2BrLo9%2BVr6/3/X6Cw%2BHZzLXZvDHj9dg1l0Q2b2TXXBLZvJEdczVowdq5c6fmz5%2Bvd955Rz4%2BPjf0WMMw3B5zrcdfb82Ve1xrzY3OUp/8/HxlZ2e7HRs5cqRGjRrl8R52FBTU/IbWt2z5gwaapHHZNZdENm9k11wS2byRnXI1aMHatm2bysvL1bNnT/NYTU2NsrKyNH/%2BfK1bt05Op1Pl5eV1HnvixAnzapLT6axzRaj2MZevufIq04kTJ%2BR0OiVJISEhki5dpbr8SlJ5ebm5xpNZPJGQkKD4%2BHi3Yw5HM1VUnPZ4j/r4%2Bjbxui9ET/PXZjt58t%2BqqbnYwFPdOnbNJZHNG9k1l0Q2b9SQuW70h3urNGjB6t%2B/v2JiYtyOPf300%2Brfv78GDhwoSYqMjFRVVZV27NihLl26SJK2b9%2BuqqoqRUZGSrr0PqiZM2equrrafB/Wxo0b5XK51LZtW3NNQUGBnnzySfO5Nm7caO7Rtm1bhYSEqKCgQJ06dZIkVVdXa%2BvWrXr%2B%2Bec9nsUTLperzsuBpaVVunDBPt8M38WN5q%2BpuWjLz5ldc0lk80Z2zSWRzRvZKddNF6zTp0/r66%2B/Nj8%2BevSodu/ercDAQN15550KCgpyW%2B/n5yen02n%2BRl5oaKji4uI0YcIETZo0SZI0ceJE9ezZ01zTr18/vfHGGxo3bpySk5N1%2BPBh5eTkaOTIkeZLd8OGDdPjjz%2BuWbNmqVevXvr444%2B1efNmLVy4UNKllwaHDRumnJwc3X333frRj36knJwcNW3aVH379vV4FgAAgPrcdMHauXOn2xvYMzMzJUkDBgzQ1KlTPdrjlVdeUUZGhp566ilJUnx8vNt9tQICAjRv3jxNmjRJgwYNUmBgoJKSkpSUlGSuuf/%2B%2BzVjxgy9%2Buqr%2Butf/6p27dpp5syZbr8ROHz4cJ07d04vvfSSKisr1bVrV82bN08tWrTweBYAAID6%2BBievMsbN620tMrS/RyOJgoKaq6fjF9l6b4N6cPR3T1aV5utouK0bS4VS/bNJZHNG9k1l0Q2b9SQuUJCAizdz1P2%2BX1IAACA7wkKFgAAgMUoWAAAABajYAEAAFiMggUAAGAxChYAAIDFKFgAAAAWo2ABAABYjIIFAABgMQoWAACAxShYAAAAFqNgAQAAWIyCBQAAYDEKFgAAgMUoWAAAABajYAEAAFiMggUAAGAxChYAAIDFKFgAAAAWo2ABAABYjIIFAABgMQoWAACAxShYAAAAFqNgAQAAWIyCBQAAYDEKFgAAgMUoWAAAABajYAEAAFiMggUAAGCxmy5YW7duVUpKimJjY9WxY0etXbvWPHf%2B/HlNmzZN/fr1U0REhGJjY5WWlqZvvvnGbY/KykqNGTNGUVFRioqK0pgxY3Ty5Em3NXv37tXjjz%2BuLl26KC4uTtnZ2TIMw23N6tWr1adPH4WHh6tPnz5as2aN23nDMPT6668rNjZWXbp00dChQ7V///4bngUAAOB6brpgnTlzRh07dlR6enqdc2fPntUXX3yhZ555Ru%2B8846ys7N16NAhPfPMM27rnnvuOe3Zs0dz5szRnDlztGfPHqWlpZnnT506paeeekoul0tLly7VxIkTNW/ePOXm5pprCgsLlZqaqv79%2B%2Bvdd99V//79NXr0aG3fvt1cM3v2bOXm5io9PV1Lly6V0%2BlUUlKSTp065fEsAAAA9XHc7AY9evRQjx49rnouICDArQRJ0oQJEzR48GAVFxfrzjvv1IEDB7RhwwYtWbJEXbt2lSRNnjxZCQkJOnjwoNq3b68VK1bo3Llzmjp1qvz9/RUWFqZDhw4pNzdXSUlJ8vHxUV5enmJiYpScnCxJCg0N1ZYtW5SXl6cZM2bIMAzNnz9fKSkp6t27tyQpKytLMTExWrlypRITEz2aBQAAoD43XbBu1KlTp%2BTj46OWLVtKunTlKSAgwCw0khQREaGAgAAVFhaqffv2KioqUnR0tPz9/c01sbGxmj59uo4ePap27dqpqKhITz75pNtzxcXFKS8vT5J09OhRlZaWKjY21jzv7%2B%2Bv6OhoFRYWKjEx0aNZPFFSUqLS0lK3Yw5HM7lcLs8%2BSR7w9fW%2Bt885HJ7NXJvNGzNej11zSWTzRnbNJZHNG9kx1y0tWOfOndMrr7yivn37qkWLFpKksrIyBQcH11kbHByssrIyc02bNm3qnK89165du6vuExwcbBad2n9fucbpdKq4uNjjWTyRn5%2Bv7Oxst2MjR47UqFGjPN7DjoKCmt/Q%2BpYtf9BAkzQuu%2BaSyOaN7JpLIps3slOuW1awzp8/r9TUVBmGoRdffLHe9YZhyMfHx/z48v%2B%2B3PXWXLnHtdbc6Cz1SUhIUHx8vNsxh6OZKipOe7xHfXx9m3jdF6Kn%2BWuznTz5b9XUXGzgqW4du%2BaSyOaN7JpLIps3ashcN/rDvVVuScE6f/68Ro8eraNHjyovL8%2B8eiVduoJUXl5e5zEnTpwwryY5nc46L7nVPubyNVdeZTpx4oScTqckKSQkRNKlq1SXv1RXXl5urvFkFk%2B4XK46LweWllbpwgX7fDN8Fzeav6bmoi0/Z3bNJZHNG9k1l0Q2b2SnXA3%2BYmdtuTp8%2BLDefvttBQUFuZ2PjIxUVVWVduzYYR7bvn27qqqqFBkZKenS%2B6C2bdum6upqc83GjRvlcrnUtm1bc01BQYHb3hs3bjT3aNu2rUJCQtzWVFdXa%2BvWreYaT2YBAACoz00XrNOnT2v37t3avXu3pEtvJt%2B9e7eKi4t14cIFjRo1Sjt37tQrr7yimpoalZaWqrS01CxLoaGhiouL04QJE1RUVKSioiJNmDBBPXv2NN9U3q9fP/n7%2B2vcuHHat2%2Bf1qxZo5ycHPM3CCVp2LBhKigo0KxZs3TgwAHNmjVLmzdv1hNPPCHp0kuDw4YNU05OjtasWaN9%2B/Zp3Lhxatq0qfr27evxLAAAAPXxMTx5E9J1/Otf/9KwYcPqHB8wYICeffZZ9erV66qPmz9/vrp16yZJ%2Bvbbb5WRkaF169ZJkuLj45Wenm7%2BpqF06UajkyZN0o4dOxQYGKjExESNHDnS7b1Rq1at0quvvmr%2BZmFqaqp5Swbp0nupsrOzlZ%2Bfr8rKSnXt2lXp6ekKCwsz13gyy3dRWlp1U4%2B/ksPRREFBzfWT8ass3bchfTi6u0frarNVVJy2zaViyb65JLJ5I7vmksjmjRoyV0hIgKX7eeqmCxY8Q8GiYNk1l0Q2b2TXXBLZvJEdC5Z9bjgBAADwPUHBAgAAsBgFCwAAwGIULAAAAItRsAAAACxGwQIAALAYBQsAAMBiFCwAAACLUbAAAAAsRsECAACwGAULAADAYhQsAAAAi1GwAAAALEbBAgAAsBgFCwAAwGIULAAAAItRsAAAACxGwQIAALAYBQsAAMBiFCwAAACLUbAAAAAsRsECAACwGAULAADAYhQsAAAAi1GwAAAALEbBAgAAsBgFCwAAwGIULAAAAItRsAAAACx20wVr69atSklJUWxsrDp27Ki1a9e6nTcMQ6%2B//rpiY2PVpUsXDR06VPv373dbU1lZqTFjxigqKkpRUVEaM2aMTp486bZm7969evzxx9WlSxfFxcUpOztbhmG4rVm9erX69Omj8PBw9enTR2vWrGmQWQAAAK7npgvWmTNn1LFjR6Wnp1/1/OzZs5Wbm6v09HQtXbpUTqdTSUlJOnXqlLnmueee0549ezRnzhzNmTNHe/bsUVpamnn%2B1KlTeuqpp%2BRyubR06VJNnDhR8%2BbNU25urrmmsLBQqamp6t%2B/v9599131799fo0eP1vbt2y2dBQAAoD6Om92gR48e6tGjx1XPGYah%2BfPnKyUlRb1795YkZWVlKSYmRitXrlRiYqIOHDigDRs2aMmSJerataskafLkyUpISNDBgwfVvn17rVixQufOndPUqVPl7%2B%2BvsLAwHTp0SLm5uUpKSpKPj4/y8vIUExOj5ORkSVJoaKi2bNmivLw8zZgxw7JZAAAA6uN46KGHNGjQIA0YMECtW7e2dPOjR4%2BqtLRUsbGx5jF/f39FR0ersLBQiYmJKiwsVEBAgFloJCkiIkIBAQEqLCxU%2B/btVVRUpOjoaPn7%2B5trYmNjNX36dB09elTt2rVTUVGRnnzySbfnj4uLU15enqWzeKKkpESlpaVuxxyOZnK5XB493hO%2Bvt739jmHw7OZa7N5Y8brsWsuiWzeyK65JLJ5IzvmcvTs2VN5eXnKzs5WTEyMBg8erPj4eDkcN31xyywZwcHBbsedTqeKi4slSWVlZXXO1z6mrKzMXNOmTZs652vPtWvX7qr7BAcHmzNYNYsn8vPzlZ2d7XZs5MiRGjVqlMd72FFQUPMbWt%2By5Q8aaJLGZddcEtm8kV1zSWTzRnbK5Rg/frzS0tL08ccf6%2B2339Yf//hH3X777XrkkUf02GOPqV27djf9JD4%2BPm4fX/nm9KsxDMPtcVfucbXjV3ueK49ZMUt9EhISFB8f73bM4WimiorTHu9RH1/fJl73hehp/tpsJ0/%2BWzU1Fxt4qlvHrrkksnkju%2BaSyOaNGjLXjf5wbxWHYRjavHmzPvzwQ%2B3atUvBwcHq0aOHVq1apb///e968cUX9dvf/vY7bR4SEiLp0pWhy18eKy8vl9PplHTpClJ5eXmdx544ccK8muR0Ouu85Fb7mMvXXHmV6cSJE%2BbzWDWLJ1wuV52XA0tLq3Thgn2%2BGb6LG81fU3PRlp8zu%2BaSyOaN7JpLIps3slOuJj179lRKSopOnz6t6dOn65NPPtGUKVP08ccfa%2BjQoZo5c%2BZ33rxt27YKCQlRQUGBeay6ulpbt25VZGSkJCkyMlJVVVXasWOHuWb79u2qqqoy10RERGjbtm2qrq4212zcuFEul0tt27Y111z%2BPLVravewahYAAID6NBk4cKDWrl2rOXPmqHfv3uZ7r5o0aaJf/epXV72ic7nTp09r9%2B7d2r17t6RLbybfvXu3iouL5ePjo2HDhiknJ0dr1qzRvn37NG7cODVt2lR9%2B/aVdOm3/eLi4jRhwgQVFRWpqKhIEyZMUM%2BePc03lffr10/%2B/v4aN26c9u3bpzVr1ignJ8f8DUJJGjZsmAoKCjRr1iwdOHBAs2bN0ubNm/XEE09IkmWzAAAA1MfHuM6bkKqrq3X8%2BHHddddd19zgX//6l4YNG1bn%2BIABAzR16lQZhqHs7Gzl5%2BersrJSXbt2VXp6usLCwsy13377rTIyMrRu3TpJUnx8vNLT09WyZUtzzd69ezVp0iTt2LFDgYGBSkxM1MiRI93eG7Vq1Sq9%2Buqr5m8WpqammrdkkGTZLN9FaWnVTT3%2BSg5HEwUFNddPxq%2BydN%2BG9OHo7h6tq81WUXHaNpeKJfvmksjmjeyaSyKbN2rIXCEhAZbu56nrFixYh4JFwbJrLols3siuuSSyeSM7Fqw6N5zIzc3V6tWrG2MWAAAAW6hTsPz8/JSTk9MYswAAANhCnYJ1zz336KuvvmqMWQAAAGyhTsEqKyuTr69vY8wCAABgC24F6%2BzZs5o7d66io6Mbax4AAACv55gyZYpcLpdKSkq0atUq/fvf/9a0adMaey4AAACv5XjvvfdUWVmpwMBAxcTE6Nlnn%2BWmmgAAADfB8emnnzb2DAAAALZS503uAAAAuDmOfv36uf0lyrW42SgAAMB34%2BjcubP8/Pwaew4AAADbcPzXf/1XY88AAABgK7wHCwAAwGIULAAAAIs5li9froCAgDonevXq1QjjAAAAeD/H2LFj6xz08fHR7t27G2EcAAAA7%2Bf46KOPGnsGAAAAW3HcddddjT0DAACArTTJycnRiy%2B%2BqGPHjkmSPvvsM5WUlDTyWAAAAN6ryfz585Wfn68TJ05IkvLz8/XWW2818lgAAADeq8k///lPGYZhHoiJidHmzZsbcSQAAADv1sTHx8ftwJ133qnjx4830jgAAADer86NRk%2BePCmHw9EYswAAANhCnYL14Ycf6v7772%2BMWQAAAGzBsXjxYvn4%2BGj9%2BvWaO3eu1q5dqwULFjT2XAAAAF6rSUZGhgzD0BtvvKGjR49q3rx56ty5c2PPBQAA4LUcn332mb799lu1bNlSLVq0aOx5AAAAvJ6jWbNmatasWWPPAQAAYBuOiRMnXvXE5MmTLXmCCxcu6PXXX9d7772nsrIyhYSEaMCAAfr973%2BvJk0uvcfeMAxlZ2crPz9fJ0%2BeVNeuXZWenq4OHTqY%2B1RWViojI0Pr1q2TJMXHx2vixIlq2bKluWbv3r2aPHmyduzYocDAQCUkJGjkyJG6/FYUq1ev1muvvaavv/5ad911l1JTU/Xwww%2Bb5z2ZBQAA4HqabNu2Tdu2bdPHH3%2Bs//7v/9ZHH32kzz77zLInmD17thYvXqz09HR98MEHGjNmjObOnau///3vbmtyc3OVnp6upUuXyul0KikpSadOnTLXPPfcc9qzZ4/mzJmjOXPmaM%2BePUpLSzPPnzp1Sk899ZRcLpeWLl2qiRMnat68ecrNzTXXFBYWKjU1Vf3799e7776r/v37a/To0dq%2BffsNzQIAAHA9TT788EN9%2BOGH2rRpk5YvX65WrVrppZdesuwJioqK1KtXL/385z9X27Zt9ctf/lKxsbHauXOnpEtXjObPn6%2BUlBT17t1bYWFhysrK0tmzZ7Vy5UpJ0oEDB7RhwwZlZGQoMjJSkZGRmjx5stavX6%2BDBw9KklasWKFz585p6tSpCgsLU%2B/evZWSkqLc3FzzTvV5eXmKiYlRcnKyQkNDlZycrAceeEB5eXkezwIAAFAft/tg3XvvvRo%2BfLimTJli2RNERUXp008/1VdffSVJ2rNnjz777DP16NFDknT06FGVlpYqNjbWfIy/v7%2Bio6NVWFgo6dKVp4CAAHXt2tVcExERoYCAAHNNUVGRoqOj5e/vb66JjY1VSUmJjh49aq65/HkkKS4uztzDk1kAAADqU%2BeW7S1bttThw4cte4Lhw4erqqpKv/rVr%2BTr66uamhqlpqaqb9%2B%2BkqTS0lJJUnBwsNvjnE6niouLJUllZWV1ztc%2BpqyszFzTpk2bOudrz7Vr1%2B6q%2BwQHB5szeDKLJ0pKSsy9ajkczeRyuTzeoz6%2BvnXuEfu953B4NnNtNm/MeD12zSWRzRvZNZdENm9kx1yO2vcWVVdX6%2BDBg3rttdd0zz33WPYEH3zwgVasWKHp06frnnvu0e7du5WZmSmXy6UBAwbbOI/UAAAgAElEQVSY6678OxEv/wuor8UwDLfHXbnH1Y5f7XmuPPZdZrlcfn6%2BsrOz3Y6NHDlSo0aNuqF97CYoqPkNrW/Z8gcNNEnjsmsuiWzeyK65JLJ5IzvlckRHR5sfGIYhl8ulN99807InePnllzVixAj9%2Bte/liR17NhRxcXFysnJ0YABAxQSEiLp0lWmy6/wlJeXy%2Bl0Srp0Bam8vLzO3idOnDCvNjmdzjpXjWofc/ma2itel%2B9R%2BzyezOKJhIQExcfHux1zOJqpouK0x3vUx9e3idd9IXqavzbbyZP/Vk3NxQae6taxay6JbN7Irrkksnmjhsx1oz/cW8UxadIkSdJtt92m1q1bKzIyUn5%2BfpY9wdmzZ%2BtcEfL19TWvCrVt21YhISEqKChQp06dJF26mrZ161Y9//zzkqTIyEhVVVVpx44d6tKliyRp%2B/btqqqqUmRkpKRL78maOXOmqqurzfdhbdy4US6XS23btjXXFBQU6MknnzRn2bhxo7mHJ7N4wuVy1Xk5sLS0Shcu2Oeb4bu40fw1NRdt%2BTmzay6JbN7IrrkksnkjO%2BVyDB48uEGfoGfPnnrrrbd05513mi8R5ubmatCgQZIuvRw3bNgw5eTk6O6779aPfvQj5eTkqGnTpub7tEJDQxUXF6cJEyaothBOnDhRPXv2VPv27SVJ/fr10xtvvKFx48YpOTlZhw8fVk5Ojtt9sIYNG6bHH39cs2bNUq9evfTxxx9r8%2BbNWrhwocezAAAA1MfHuNE3GN2gU6dO6bXXXtPatWtVXl4ul8ulX//61xo5cqR5penym3tWVlaaN/cMCwsz9/n222/r3Gg0PT29zo1GJ02aZN5oNDExsc6NRletWqVXX31VR48eVbt27ZSamqrevXub5z2Z5bsoLa26qcdfyeFooqCg5vrJ%2BFWW7tuQPhzd3aN1tdkqKk7b5icZyb65JLJ5I7vmksjmjRoyV0hIgKX7ecrnvvvuq7dg1d6zCt8dBYuCZddcEtm8kV1zSWTzRnYsWI7BgwebtztYv369fHx8lJiYaP41NgAAALgxjr/85S/mB%2BPHj9czzzyjqqoqjRkzphHHAgAA8F5ul6n8/Pw0dOhQvfPOO401DwAAgNer8zrgsWPHdO7cucaYBQAAwBaanDlzRpJ05swZvfvuu5o%2BfXqdm2QCAADAc46oqCjddtttOnfunAzDUM%2BePXX5%2B7IAAABwYxyTJk1SWVmZQkJC1KVLl5u%2B3xMAAMD/6xr8Tu4AAAD/r2mSnp6u4cOH6/Dhw5Iu3en84MGDjTwWAACA92qyZ88ebdy4UadOnZIkbd68WbNnz27ksQAAALxXk4ULF%2Bryv46wW7du2rZtWyOOBAAA4N2aXP4XIUtSSEiISkpKGmkcAAAA71fnRqNlZWVq1qxZY8wCAABgC2bBqr2StXTpUj3wwAONNhAAAIC3c8yYMUM%2BPj5avHix9u3bp4MHD2rJkiWNPRcAAIDXalL7FzuvXr1ad9xxh5YsWaK77767cacCAADwYo7Nmzc39gwAAAC2UudN7gAAALg5FCwAAACLUbAAAAAs5njuuecUHBysy2846uPjo7FjxzbiWAAAAN7LcbW/FoeCBQAA8N05/vnPfzb2DAAAALbS5OTJk409AwAAgK00OXLkSGPPAAAAYCv8FiEAAIDFKFgAAAAWa3L57RkAAABw8xy/%2B93vdGXJ8vHx0WeffdZIIwEAAHg3x9NPP93gT/LNN99o2rRp2rBhg86ePau7775bU6ZMUXh4uCTJMAxlZ2crPz9fJ0%2BeVNeuXZWenq4OHTqYe1RWViojI0Pr1q2TJMXHx2vixIlq2bKluWbv3r2aPHmyduzYocDAQCUkJGjkyJFuBXL16tV67bXX9PXXX%2Buuu%2B5SamqqHn74YfO8J7MAAABcj%2BPZZ59t0CeorKzUo48%2Bqm7dumn27Nn64Q9/qCNHjrgVo9mzZys3N1dTp07V3Xffrb/97W9KSkrSqlWr1KJFC0nSc889p2%2B%2B%2BUZz5syRJKWnpystLU1vvfWWJOnUqVN66qmn1K1bNy1dulSHDh3S2LFj1axZMz311FOSpMLCQqWmpuqPf/yjHnroIa1du1ajR4/WwoUL1bVrV49nAQAAuJ4Gf5P77Nmz1bp1a2VmZqpLly5q27atHnzwQd11112SLl0xmj9/vlJSUtS7d2%2BFhYUpKytLZ8%2Be1cqVKyVJBw4c0IYNG5SRkaHIyEhFRkZq8uTJWr9%2BvQ4ePChJWrFihc6dO6epU6cqLCxMvXv3VkpKinJzc2UYhiQpLy9PMTExSk5OVmhoqJKTk/XAAw8oLy/P41kAAADq42joJ1i3bp1iY2M1atQobd26Va1atdJjjz2mIUOGSJKOHj2q0tJSxcbGmo/x9/dXdHS0CgsLlZiYqMLCQgUEBJhXmSQpIiJCAQEBKiwsVPv27VVUVKTo6Gj5%2B/uba2JjYzV9%2BnQdPXpU7dq1U1FRkZ588km3%2BeLi4syC5cksnigpKVFpaanbMYejmVwul2efNA/4%2BnrfL4A6HJ7NXJvNGzNej11zSWTzRnbNJZHNG9kxV4MXrCNHjmjRokVKSkpSSkqKduzYoYyMDPn7%2B%2BuRRx4xi0hwcLDb45xOp4qLiyVJZWVldc7XPqasrMxc06ZNmzrna8%2B1a9fuqvsEBwebM3gyiyfy8/OVnZ3tdmzkyJEaNWqUx3vYUVBQ8xta37LlDxpoksZl11wS2byRXXNJZPNGdsrV4AXLMAyFh4frT3/6kySpU6dO%2BvLLL7Vo0SI98sgj5rorf5Ox9mW9%2Bva%2B/HHXuuXE9dZcucd3neVyCQkJio%2BPdzvmcDRTRcXpG9rnenx9m3jdF6Kn%2BWuznTz5b9XUXGzgqW4du%2BaSyOaN7JpLIps3ashcN/rDvVUavGCFhIQoNDTU7Vj79u21evVq87x06SrT5S%2BhlZeXy%2Bl0Srp0Bam8vLzO3idOnDCvNjmdzjovy9U%2B5vI1tVe8Lt%2Bj9nk8mcUTLperzsuBpaVVunDBPt8M38WN5q%2BpuWjLz5ldc0lk80Z2zSWRzRvZKVeDv9h5//3366uvvnI7dujQIfPlvLZt2yokJEQFBQXm%2Berqam3dulWRkZGSpMjISFVVVWnHjh3mmu3bt6uqqspcExERoW3btqm6utpcs3HjRrlcLrVt29Zcc/nz1K6p3cOTWQAAAOrT4AXriSee0Pbt2/XWW2/p8OHDeu%2B997RkyRI99thjki69HDds2DDl5ORozZo12rdvn8aNG6emTZuqb9%2B%2BkqTQ0FDFxcVpwoQJKioqUlFRkSZMmKCePXuqffv2kqR%2B/frJ399f48aN0759%2B7RmzRrl5OQoKSnJfMlv2LBhKigo0KxZs3TgwAHNmjVLmzdv1hNPPOHxLAAAAPXxMW70DUbfwfr16zVjxgwdOnRIbdu2VVJSkvlbhJL7zT0rKyvNm3uGhYWZa7799ts6NxpNT0%2Bvc6PRSZMmmTcaTUxMrHOj0VWrVunVV181f7MwNTVVvXv3vqFZvovS0qqbevyVHI4mCgpqrp%2BMX2Xpvg3pw9HdPVpXm62i4rRtLhVL9s0lkc0b2TWXRDZv1JC5QkICLN3PU7ekYIGCJVGw7JpLIps3smsuiWzeyI4Fyz43nAAAAPieoGABAABYjIIFAABgMQoWAACAxShYAAAAFqNgAQAAWIyCBQAAYDEKFgAAgMUoWAAAABajYAEAAFiMggUAAGAxChYAAIDFKFgAAAAWo2ABAABYjIIFAABgMQoWAACAxShYAAAAFqNgAQAAWIyCBQAAYDEKFgAAgMUoWAAAABajYAEAAFiMggUAAGAxChYAAIDFKFgAAAAWo2ABAABYjIIFAABgMQoWAACAxW55wcrJyVHHjh01ZcoU81h1dbUmT56sbt26KSIiQikpKTp%2B/Ljb44qLi5WSkqKIiAh169ZNGRkZqq6udluzZcsWDRw4UJ07d1avXr20aNGiOs%2B/YMECxcfHq3Pnzho4cKC2bdvmdt6TWQAAAK7nlhasHTt2KD8/Xx07dnQ7PmXKFK1Zs0YzZ87UwoULdebMGSUnJ6umpkaSVFNTo%2BTkZJ05c0YLFy7UzJkztXr1amVlZZl7HDlyRCNGjFBUVJSWL1%2BulJQUTZkyRatXrzbXfPDBB8rMzNQzzzyj5cuXKyoqSsOHD1dxcbHHswAAANTnlhWs06dPa8yYMcrIyFBgYKB5vKqqSsuWLdPYsWMVExOjTp06adq0adq3b582bdokSdq4caO%2B/PJLTZs2TZ06dVJMTIzGjh2rJUuW6NSpU5KkxYsX64477tD48eMVGhqqwYMHa%2BDAgZo3b575XLm5uRo0aJAGDx6s0NBQjR8/Xq1btzavdHkyCwAAQH1uWcGaNGmSevTooZiYGLfjO3fu1Pnz59W9e3fzWKtWrdShQwcVFhZKkoqKitShQwe1atXKXBMbG6vq6mrt3LnTXHP5HpIUFxdn7l9dXa1du3YpNjbWbU337t3N5/FkFgAAgPo4bsWTvP/%2B%2B/riiy%2B0dOnSOufKysrk5%2BfndlVLkpxOp8rKysw1TqfT7XxgYKD8/PyuuyY4OFgXLlxQRUWFDMNQTU2NgoOD6zxPaWmpx7N4oqSkxNyzlsPRTC6Xy%2BM96uPr632/n%2BBweDZzbTZvzHg9ds0lkc0b2TWXRDZvZMdcDV6wjh07pilTpmjevHm67bbbPH6cYRhuH/v4%2BFx13eXHr1xTu4ePj4/bf1%2B55lp7X2uW%2BuTn5ys7O9vt2MiRIzVq1Kgb2sdugoKa39D6li1/0ECTNC675pLI5o3smksimzeyU64GL1i7du1SeXm5Bg4caB6rqanR1q1btWDBAs2dO1fnz59XZWWl25Wj8vJyRUZGSrp0BWn79u1u%2B1ZWVur8%2BfPmFanLr0TVOnHihBwOh26//XYZhiFfX986V6LKy8vNK19Op7PeWTyRkJCg%2BPh4t2MORzNVVJz2eI/6%2BPo28bovRE/z12Y7efLfqqm52MBT3Tp2zSWRzRvZNZdENm/UkLlu9Id7qzR4wXrggQf03nvvuR0bN26c2rdvr%2BHDh%2BuOO%2B6Qn5%2BfCgoK1KdPH0mXXmLbv3%2B/xowZI0mKiIjQW2%2B9pZKSEvNltoKCAvn7%2Bys8PNxcs379erfn2bhxo8LDw%2BXn5ydJuu%2B%2B%2B1RQUKCHH37YXLNp0yb16tVLksy115vFEy6Xq87LgaWlVbpwwT7fDN/Fjeavqbloy8%2BZXXNJZPNGds0lkc0b2SlXgxesFi1aKCwszO1Ys2bNdPvtt5vHBw0apKysLAUFBSkwMFBZWVkKCwsz3xAfGxure%2B65R2lpaUpLS1NlZaWysrI0ZMgQtWjRQpKUmJioBQsWKDMzU0OGDFFhYaGWLVum6dOnm8%2BblJSktLQ0hYeHKzIyUvn5%2BTp27JgSExMlSQEBAfXOAgAAUJ9b8ib3%2Bvz5z3%2BWw%2BHQ6NGjdfbsWT344IOaOnWqfH19JUm%2Bvr7KycnRSy%2B9pEcffVRNmzZV37599cILL5h7tGvXTrNmzVJmZqYWLFggl8ul8ePH6xe/%2BIW5pk%2BfPqqoqNCbb76pkpIShYWFadasWWrTpo3HswAAANTHx7jRd3DjOyktrbJ0P4ejiYKCmusn41dZum9D%2BnB09/oX6f9mq6g4bZtLxZJ9c0lk80Z2zSWRzRs1ZK6QkABL9/OUfX4fEgAA4HuCggUAAGAxChYAAIDFKFgAAAAWo2ABAABYjIIFAABgMQoWAACAxShYAAAAFqNgAQAAWIyCBQAAYDEKFgAAgMUoWAAAABajYAEAAFiMggUAAGAxChYAAIDFKFgAAAAWo2ABAABYjIIFAABgMQoWAACAxShYAAAAFqNgAQAAWIyCBQAAYDEKFgAAgMUoWAAAABajYAEAAFiMggUAAGAxChYAAIDFKFgAAAAWo2ABAABYrMELVk5OjgYNGqTIyEg9%2BOCD%2Bv3vf6%2BDBw%2B6ramurtbkyZPVrVs3RUREKCUlRcePH3dbU1xcrJSUFEVERKhbt27KyMhQdXW125otW7Zo4MCB6ty5s3r16qVFixbVmWfBggWKj49X586dNXDgQG3btu2GZwEAALieBi9YW7Zs0e9%2B9zstWbJEubm5qqmp0dNPP60zZ86Ya6ZMmaI1a9Zo5syZWrhwoc6cOaPk5GTV1NRIkmpqapScnKwzZ85o4cKFmjlzplavXq2srCxzjyNHjmjEiBGKiorS8uXLlZKSoilTpmj16tXmmg8%2B%2BECZmZl65plntHz5ckVFRWn48OEqLi72eBYAAID6NHjBmjt3rgYOHKgOHTro3nvvVWZmpoqLi7Vr1y5JUlVVlZYtW6axY8cqJiZGnTp10rRp07Rv3z5t2rRJkrRx40Z9%2BeWXmjZtmjp16qSYmBiNHTtWS5Ys0alTpyRJixcv1h133KHx48crNDRUgwcP1sCBAzVv3jxzltzcXA0aNEiDBw9WaGioxo8fr9atW5tXujyZBQAAoD6OW/2EVVVVkqTAwEBJ0s6dO3X%2B/Hl1797dXNOqVSt16NBBhYWFiouLU1FRkTp06KBWrVqZa2JjY1VdXa2dO3fqgQceUFFRkdsekhQXF6dly5bp/PnzMgxDu3bt0ogRI9zWdO/eXYWFhR7P4omSkhKVlpa6HXM4msnlcnn0eE/4%2Bnrf2%2BccDs9mrs3mjRmvx665JLJ5I7vmksjmjeyY65YWLMMwlJmZqaioKIWFhUmSysrK5OfnZxauWk6nU2VlZeYap9Ppdj4wMFB%2Bfn7XXRMcHKwLFy6ooqJChmGopqZGwcHBdZ6ntgx5Mosn8vPzlZ2d7XZs5MiRGjVqlMd72FFQUPMbWt%2By5Q8aaJLGZddcEtm8kV1zSWTzRnbKdUsL1qRJk7Rv3z4tXLiw3rWGYbh97OPjc9V1lx%2B/ck3tHj4%2BPm7/feWaa%2B19rVnqk5CQoPj4eLdjDkczVVScvqF9rsfXt4nXfSF6mr8228mT/1ZNzcUGnurWsWsuiWzeyK65JLJ5o4bMdaM/3FvllhWsyZMna926dfrHP/6h1q1bm8edTqfOnz%2BvyspKtytH5eXlioyMNNds377dbb/KykqdP3/evCJ1%2BZWoWidOnJDD4dDtt98uwzDk6%2Btb50pUeXm5eeXLk1k84XK56rwcWFpapQsX7PPN8F3caP6amou2/JzZNZdENm9k11wS2byRnXI1%2BIudhmFo0qRJ%2Buijj5SXl6d27dq5nQ8PD5efn58KCgrMYyUlJdq/f79ZaiIiIrR//36VlJSYawoKCuTv76/w8HBzzZVvRN%2B4caO5v7%2B/v%2B677z6355GkTZs2mc/jySwAAAD1afArWC%2B99JJWrlypN998U82bNzevMgUEBKhp06YKCAjQoEGDlJWVpaCgIAUGBiorK0thYWGKiYmRdOkN7ffcc4/S0tKUlpamyspKZWVlaciQIWrRooUkKTExUQsWLFBmZqaGDBmiwsJCLVu2TNOnTzdnSUpKUlpamsLDwxUZGan8/HwdO3ZMiYmJ5kz1zQIAAFCfBi9YtbdAGDp0qNvxzMxMDRw4UJL05z//WQ6HQ6NHj9bZs2f14IMPaurUqfL19ZUk%2Bfr6KicnRy%2B99JIeffRRNW3aVH379tULL7xg7teuXTvNmjVLmZmZWrBggVwul8aPH69f/OIX5po%2BffqooqJCb775pkpKShQWFqZZs2apTZs25pr6ZgEAAKiPj3Gj7%2BDGd1JaWmXpfg5HEwUFNddPxq%2BydN%2BG9OHo7vUv0v/NVlFx2javxUv2zSWRzRvZNZdENm/UkLlCQgIs3c9T9rnhBAAAwPcEBQsAAMBiFCwAAACLUbAAAAAsRsECAACwGAULAADAYhQsAAAAi1GwAAAALEbBAgAAsBgFCwAAwGIULAAAAItRsAAAACxGwQIAALAYBQsAAMBiFCwAAACLUbAAAAAsRsECAACwGAULAADAYhQsAAAAi1GwAAAALEbBAgAAsBgFCwAAwGIULAAAAItRsAAAACxGwQIAALAYBQsAAMBiFCwAAACLUbAAAAAsRsECAACwGAXrGhYsWKD4%2BHh17txZAwcO1LZt2xp7JAAA4CUoWFfxwQcfKDMzU88884yWL1%2BuqKgoDR8%2BXMXFxY09GgAA8AIUrKvIzc3VoEGDNHjwYIWGhmr8%2BPFq3bq1Fi1a1NijAQAAL%2BBo7AG%2Bb6qrq7Vr1y6NGDHC7Xj37t1VWFjo0R4lJSUqLS11O%2BZwNJPL5bJsTl9f7%2BvGDodnM9dm88aM12PXXBLZvJFdc0lk80Z2zEXBukJFRYVqamoUHBzsdtzpdNYpTdeSn5%2Bv7Oxst2PPPvus/vCHP1g2Z0lJifLy5uiDPyZYWty%2BD2qzJSTYK5tdc0lk80Z2zSWRzRvZMZd9qqLFfHx83D42DKPOsWtJSEjQO%2B%2B84/ZPQkKCpfOVlpYqOzvb49LnTeyaza65JLJ5I7vmksjmjeyYiytYVwgKCpKvr6/KysrcjpeXl8vpdHq0h8vlsk0DBwAAN44rWFfw9/fXfffdp4KCArfjmzZtUmRkZCNNBQAAvAlXsK4iKSlJaWlpCg8PV2RkpPLz83Xs2DElJiY29mgAAMAL%2BL744osvNvYQ3zcdOnRQYGCgZs2apblz5%2BrcuXN6%2BeWXde%2B99zb2aG6aN2%2Bun/70p2revHljj2I5u2azay6JbN7Irrkksnkju%2BXyMQzDaOwhAAAA7IT3YAEAAFiMggUAAGAxChYAAIDFKFgAAAAWo2ABAABYjIIFAABgMQoWAACAxShYAAAAFqNgAQAAWIyC5aUWLFig%2BPh4de7cWQMHDtS2bdsae6Tr2rp1q1JSUhQbG6uOHTtq7dq1bucNw9Drr7%2Bu2NhYdenSRUOHDtX%2B/fvd1lRWVmrMmDGKiopSVFSUxowZo5MnT97KGHXk5ORo0KBBioyM1IMPPqjf//73OnjwoNua6upqTZ48Wd26dVNERIRSUlJ0/PhxtzXFxcVKSUlRRESEunXrpoyMDFVXV9/KKHUsXLhQ/fr10/3336/7779fCQkJ%2Buc//2me99ZcV8rJyVHHjh01ZcoU85i3Znv99dfVsWNHt3%2B6d%2B9unvfW77Na33zzjZ5//nl169ZNXbt2Vf/%2B/bVz507zvLfmi4%2BPr/Pn1rFjR7300kuSvPfr8cKFC5o5c6bi4%2BPVpUsX9erVS9nZ2bp48aK5xlv/zDxiwOu8//77xn333WcsWbLE%2BPLLL42MjAwjIiLC%2BD//5/809mjX9MknnxgzZswwVq9ebYSFhRlr1qxxO5%2BTk2NERkYaq1evNvbu3WuMHj3a6N69u1FVVWWuefrpp42%2Bffsan3/%2BufH5558bffv2NZKTk291FDdPPfWUsWzZMmPfvn3G7t27jREjRhg///nPjdOnT5tr0tPTjbi4OKOgoMDYtWuXMXToUOM3v/mNceHCBcMwDOPChQtG3759jaFDhxq7du0yCgoKjNjYWGPSpEmNFcswDMP4%2BOOPjU8%2B%2BcQ4ePCgcfDgQWPGjBnGfffdZ%2Bzbt88wDO/Ndbnt27cbPXv2NPr162dkZGSYx70121//%2Blfj17/%2BtVFSUmL%2BU15ebp731u8zwzCMb7/91ujZs6cxduxYY/v27caRI0eMTZs2GYcPHzbXeGu%2B8vJytz%2BzgoICIywszPj0008Nw/Der8c333zT%2BOlPf2qsX7/eOHLkiPHhhx8aERERxttvv22u8dY/M09QsLzQb3/7WyM9Pd3t2C9/%2BUvjlVdeaaSJbsyVBevixYtG9%2B7djZycHPPYuXPnjKioKGPRokWGYRjGl19%2BaYSFhRlFRUXmmsLCQiMsLMw4cODArRu%2BHuXl5UZYWJixZcsWwzAM4%2BTJk8Z9991nvP/%2B%2B%2Baa48ePG/fee6/xP//zP4ZhXCqf9957r3H8%2BHFzzcqVK43w8HC3/8l8H0RHRxtLliyxRa5Tp04ZvXv3NgoKCozHH3/cLFjenO2vf/2r8Zvf/Oaq57z9%2B2zatGnGo48%2Bes3z3p7vchkZGcZDDz1kXLx40au/HkeMGGGMGzfO7dizzz5rPP/884Zh2OvP7Gp4idDLVFdXa9euXYqNjXU73r17dxUWFjbSVDfn6NGjKi0tdcvk7%2B%2Bv6OhoM1NhYaECAgLUtWtXc01ERIQCAgK%2BV7mrqqokSYGBgZKknTt36vz5824v07Rq1UodOnQw5y4qKlKHDh3UqlUrc01sbKyqq6vdXv5oTDU1NXr//fd15swZRUZG2iLXpEmT1KNHD8XExLgd9/Zshw8fVmxsrOLj45WamqojR45I8v7vs3Xr1ik8PFyjRo3Sgw8%2BqEceeURLliwxz3t7vlrV1dVasWKFBg0aJB8fH6/%2BeoyKitKnn36qr776SpK0Z88effbZZ%2BrRo4ck%2B/yZXYujsQfAjamoqFBNTY2Cg4PdjjudTpWWljbSVDendu6rZSouLpYklZWV1Tlf%2B5iysrKGH9IDhmEoMzNTUVFRCgsLk3Rpbj8/P7Nw1XI6nebcZWVlcjqdbucDAwPl5%2BfX6Nn27t2rxMREnTt3Ts2aNdMbb7yhe%2B65R7t37/bqXO%2B//76%2B%2BOILLV26tM45b/4z69Kli7KysnT33XervLxcf/vb35SYmKiVK1d6/ffZkSNHtGjRIiUlJSklJUU7duxQRkaG/P399cgjj3h9vlpr165VVVWVBgwYIMm7vx6HDx%2Buqqoq/epXv5Kvr69qamqUmpqqvn37SrLP//uvhYLlpXx8fNw%2BNgyjzjFvc7VM9fk%2B5Z40aZL27dunhQsX1rv2ymzXytDY2X784x9r%2BfLlOnnypD766CO98MIL%2Bsc//nHN9d6Q69ixY5oyZYrmzZun2267zePHeUO22isDtSIiIvTwww9r%2BfLl5hUAb/0%2BMwxD4eHh%2BtOf/iRJ6tSpk7788kstWrRIjzzyiLnOW/PVWrZsmX72s5%2B5XY26Gm/4evzggw%2B0YsUKTZ8%2B3fzBLDMzUy6XyyyQV8JgQKQAAATqSURBVJvR2/7MroWXCL1MUFCQfH196zT38vLyOj/BeIuQkBBJum4mp9Op8vLyOo89ceLEVX%2B6udUmT56sdevWKS8vT61btzaPO51Onf//2rmfkCjaOA7gX1udhRIPygqRImsx2u5obgcR7KBIILSGhjcP3uwSXjaRPUg6SmCHhSTBuqUJdbCi7bSHLrbin5OBB1m39qKmKLIsiu7a/t7Di8M7GtXLO7TvxPcDA8s8w/B8eZ5n%2BTE8M5kMksmk6frT2U4/fUwmk8hkMjnPpigKKioqUFNTg0AggOrqakxOTto618rKCnZ3d3Hnzh14PB54PB4sLi5iamoKHo/H1tlOO3/%2BPFRVRSKRsP06c7lcuHz5sulcZWWl8aTD7vkAYH19HXNzc%2Bjs7DTO2Xk%2BPnr0CD09Pbh16xaqqqrQ3t6O7u5uPH36FMCfMWY/wgLLZhRFgdfrRTQaNZ2fm5uDz%2BfLUa/%2Bm7KyMrhcLlOmdDqNpaUlI5PP50MqlcKnT5%2BMa5aXl5FKpXKaW0Sg6zoikQieP3%2BO8vJyU7umaSgoKDBl297eRiwWM/pdV1eHWCyG7e1t45poNApFUaBp2u8J8otEBOl02ta5GhoaEA6H8fbtW%2BPQNA1tbW3Gb7tmOy2dTiMej8Plctl6nQHA9evXjb08JxKJBC5dugTA3v8jJ16/fo2SkhI0NTUZ5%2Bw8Hw8PD888ZXI4HMYTqj9hzH7EMTg4OJjrTtC/U1hYiMePH6O0tBROpxMTExNYWFjAw4cPUVRUlOvufdf%2B/j7i8Th2dnbw8uVLXLt2DU6nE5lMBkVFRTg%2BPsazZ8/gdrvx7ds3jI6OYmtrC7quQ1EUFBcXY3l5GeFwGFevXsXXr18xMDBgfDclV4aGhhAOhzE2NobS0lIcHBzg4OAADocD%2Bfn5cDqd2NrawvT0NKqrq5FKpfDgwQNcuHAB9%2B/fx7lz51BeXo5IJIJoNApVVbG2toahoSG0tbXh5s2bOcsWCoVQUFCAbDaLzc1NTE1N4d27d%2Bjr68OVK1dsm0tRFJSUlJiO9%2B/fo6ysDB0dHbYes9HRUSiKgmw2i0QigeHhYXz58gW6rtt6nQHAxYsXMT4%2BDofDAZfLhdnZWTx58gS9vb2oqqpCXl6erfNls1kEg0Hcvn3btOnbzvMxHo/jzZs3cLvdyM/Px8LCAkKhEPx%2BPxobG20/Zj/1u19bJGu8ePFCmpubxev1SkdHh/FZgP%2Br%2Bfl5UVX1zNHf3y8if7%2BuOzY2Jo2NjaJpmnR1dcnq6qrpHnt7exIIBMTn84nP55NAICDJZDIXcQzfy6SqqszMzBjXHB4eiq7rUl9fL7W1tXL37l3Z2Ngw3Wd9fV16enqktrZW6uvrRdd1OTo6%2Bt1xTILBoDHHGhoapLu7Wz5%2B/Gi02zXX9/zzMw0i9s128g0hr9crN27ckHv37kksFjPa7brOTnz48EH8fr9omiatra3y6tUrU7ud883OzoqqqvL58%2BczbXadj6lUSkZGRqSpqUlqamqkpaVFQqGQqV92HrOfyRP5hd1kRERERPTLuAeLiIiIyGIssIiIiIgsxgKLiIiIyGIssIiIiIgsxgKLiIiIyGIssIiIiIgsxgKLiIiIyGIssIiIiIgsxgKLiIiIyGIssIiIiIgsxgKLiIiIyGIssIiIiIgsxgKLiIiIyGJ/AYFw7khO5S5SAAAAAElFTkSuQmCC\"/>\n",
       "        </div>\n",
       "        <div role=\"tabpanel\" class=\"tab-pane col-md-12\" id=\"common3678014330288056330\">\n",
       "            \n",
       "<table class=\"freq table table-hover\">\n",
       "    <thead>\n",
       "    <tr>\n",
       "        <td class=\"fillremaining\">Value</td>\n",
       "        <td class=\"number\">Count</td>\n",
       "        <td class=\"number\">Frequency (%)</td>\n",
       "        <td style=\"min-width:200px\">&nbsp;</td>\n",
       "    </tr>\n",
       "    </thead>\n",
       "    <tr class=\"\">\n",
       "        <td class=\"fillremaining\">1</td>\n",
       "        <td class=\"number\">1029474</td>\n",
       "        <td class=\"number\">66.8%</td>\n",
       "        <td>\n",
       "            <div class=\"bar\" style=\"width:100%\">&nbsp;</div>\n",
       "        </td>\n",
       "</tr><tr class=\"\">\n",
       "        <td class=\"fillremaining\">2</td>\n",
       "        <td class=\"number\">186587</td>\n",
       "        <td class=\"number\">12.1%</td>\n",
       "        <td>\n",
       "            <div class=\"bar\" style=\"width:18%\">&nbsp;</div>\n",
       "        </td>\n",
       "</tr><tr class=\"\">\n",
       "        <td class=\"fillremaining\">3</td>\n",
       "        <td class=\"number\">76127</td>\n",
       "        <td class=\"number\">4.9%</td>\n",
       "        <td>\n",
       "            <div class=\"bar\" style=\"width:8%\">&nbsp;</div>\n",
       "        </td>\n",
       "</tr><tr class=\"\">\n",
       "        <td class=\"fillremaining\">4</td>\n",
       "        <td class=\"number\">60498</td>\n",
       "        <td class=\"number\">3.9%</td>\n",
       "        <td>\n",
       "            <div class=\"bar\" style=\"width:6%\">&nbsp;</div>\n",
       "        </td>\n",
       "</tr><tr class=\"\">\n",
       "        <td class=\"fillremaining\">5</td>\n",
       "        <td class=\"number\">52793</td>\n",
       "        <td class=\"number\">3.4%</td>\n",
       "        <td>\n",
       "            <div class=\"bar\" style=\"width:6%\">&nbsp;</div>\n",
       "        </td>\n",
       "</tr><tr class=\"\">\n",
       "        <td class=\"fillremaining\">6</td>\n",
       "        <td class=\"number\">33355</td>\n",
       "        <td class=\"number\">2.2%</td>\n",
       "        <td>\n",
       "            <div class=\"bar\" style=\"width:4%\">&nbsp;</div>\n",
       "        </td>\n",
       "</tr><tr class=\"\">\n",
       "        <td class=\"fillremaining\">10</td>\n",
       "        <td class=\"number\">21190</td>\n",
       "        <td class=\"number\">1.4%</td>\n",
       "        <td>\n",
       "            <div class=\"bar\" style=\"width:3%\">&nbsp;</div>\n",
       "        </td>\n",
       "</tr><tr class=\"\">\n",
       "        <td class=\"fillremaining\">8</td>\n",
       "        <td class=\"number\">11404</td>\n",
       "        <td class=\"number\">0.7%</td>\n",
       "        <td>\n",
       "            <div class=\"bar\" style=\"width:2%\">&nbsp;</div>\n",
       "        </td>\n",
       "</tr><tr class=\"\">\n",
       "        <td class=\"fillremaining\">30</td>\n",
       "        <td class=\"number\">8197</td>\n",
       "        <td class=\"number\">0.5%</td>\n",
       "        <td>\n",
       "            <div class=\"bar\" style=\"width:1%\">&nbsp;</div>\n",
       "        </td>\n",
       "</tr><tr class=\"\">\n",
       "        <td class=\"fillremaining\">20</td>\n",
       "        <td class=\"number\">7190</td>\n",
       "        <td class=\"number\">0.5%</td>\n",
       "        <td>\n",
       "            <div class=\"bar\" style=\"width:1%\">&nbsp;</div>\n",
       "        </td>\n",
       "</tr><tr class=\"other\">\n",
       "        <td class=\"fillremaining\">Other values (198)</td>\n",
       "        <td class=\"number\">54457</td>\n",
       "        <td class=\"number\">3.5%</td>\n",
       "        <td>\n",
       "            <div class=\"bar\" style=\"width:6%\">&nbsp;</div>\n",
       "        </td>\n",
       "</tr>\n",
       "</table>\n",
       "        </div>\n",
       "        <div role=\"tabpanel\" class=\"tab-pane col-md-12\"  id=\"extreme3678014330288056330\">\n",
       "            <p class=\"h4\">Minimum 5 values</p>\n",
       "            \n",
       "<table class=\"freq table table-hover\">\n",
       "    <thead>\n",
       "    <tr>\n",
       "        <td class=\"fillremaining\">Value</td>\n",
       "        <td class=\"number\">Count</td>\n",
       "        <td class=\"number\">Frequency (%)</td>\n",
       "        <td style=\"min-width:200px\">&nbsp;</td>\n",
       "    </tr>\n",
       "    </thead>\n",
       "    <tr class=\"\">\n",
       "        <td class=\"fillremaining\">1</td>\n",
       "        <td class=\"number\">1029474</td>\n",
       "        <td class=\"number\">66.8%</td>\n",
       "        <td>\n",
       "            <div class=\"bar\" style=\"width:100%\">&nbsp;</div>\n",
       "        </td>\n",
       "</tr><tr class=\"\">\n",
       "        <td class=\"fillremaining\">2</td>\n",
       "        <td class=\"number\">186587</td>\n",
       "        <td class=\"number\">12.1%</td>\n",
       "        <td>\n",
       "            <div class=\"bar\" style=\"width:18%\">&nbsp;</div>\n",
       "        </td>\n",
       "</tr><tr class=\"\">\n",
       "        <td class=\"fillremaining\">3</td>\n",
       "        <td class=\"number\">76127</td>\n",
       "        <td class=\"number\">4.9%</td>\n",
       "        <td>\n",
       "            <div class=\"bar\" style=\"width:8%\">&nbsp;</div>\n",
       "        </td>\n",
       "</tr><tr class=\"\">\n",
       "        <td class=\"fillremaining\">4</td>\n",
       "        <td class=\"number\">60498</td>\n",
       "        <td class=\"number\">3.9%</td>\n",
       "        <td>\n",
       "            <div class=\"bar\" style=\"width:6%\">&nbsp;</div>\n",
       "        </td>\n",
       "</tr><tr class=\"\">\n",
       "        <td class=\"fillremaining\">5</td>\n",
       "        <td class=\"number\">52793</td>\n",
       "        <td class=\"number\">3.4%</td>\n",
       "        <td>\n",
       "            <div class=\"bar\" style=\"width:6%\">&nbsp;</div>\n",
       "        </td>\n",
       "</tr>\n",
       "</table>\n",
       "            <p class=\"h4\">Maximum 5 values</p>\n",
       "            \n",
       "<table class=\"freq table table-hover\">\n",
       "    <thead>\n",
       "    <tr>\n",
       "        <td class=\"fillremaining\">Value</td>\n",
       "        <td class=\"number\">Count</td>\n",
       "        <td class=\"number\">Frequency (%)</td>\n",
       "        <td style=\"min-width:200px\">&nbsp;</td>\n",
       "    </tr>\n",
       "    </thead>\n",
       "    <tr class=\"\">\n",
       "        <td class=\"fillremaining\">632</td>\n",
       "        <td class=\"number\">1</td>\n",
       "        <td class=\"number\">0.0%</td>\n",
       "        <td>\n",
       "            <div class=\"bar\" style=\"width:50%\">&nbsp;</div>\n",
       "        </td>\n",
       "</tr><tr class=\"\">\n",
       "        <td class=\"fillremaining\">650</td>\n",
       "        <td class=\"number\">1</td>\n",
       "        <td class=\"number\">0.0%</td>\n",
       "        <td>\n",
       "            <div class=\"bar\" style=\"width:50%\">&nbsp;</div>\n",
       "        </td>\n",
       "</tr><tr class=\"\">\n",
       "        <td class=\"fillremaining\">720</td>\n",
       "        <td class=\"number\">1</td>\n",
       "        <td class=\"number\">0.0%</td>\n",
       "        <td>\n",
       "            <div class=\"bar\" style=\"width:50%\">&nbsp;</div>\n",
       "        </td>\n",
       "</tr><tr class=\"\">\n",
       "        <td class=\"fillremaining\">750</td>\n",
       "        <td class=\"number\">1</td>\n",
       "        <td class=\"number\">0.0%</td>\n",
       "        <td>\n",
       "            <div class=\"bar\" style=\"width:50%\">&nbsp;</div>\n",
       "        </td>\n",
       "</tr><tr class=\"\">\n",
       "        <td class=\"fillremaining\">800</td>\n",
       "        <td class=\"number\">2</td>\n",
       "        <td class=\"number\">0.0%</td>\n",
       "        <td>\n",
       "            <div class=\"bar\" style=\"width:100%\">&nbsp;</div>\n",
       "        </td>\n",
       "</tr>\n",
       "</table>\n",
       "        </div>\n",
       "    </div>\n",
       "</div>\n",
       "</div>\n",
       "    <div class=\"row headerrow highlight\">\n",
       "        <h1>Correlations</h1>\n",
       "    </div>\n",
       "    <div class=\"row variablerow\">\n",
       "    <img src=\"data:image/png;base64,iVBORw0KGgoAAAANSUhEUgAAAnEAAAIfCAYAAAAfc4oSAAAABHNCSVQICAgIfAhkiAAAAAlwSFlzAAAPYQAAD2EBqD%2BnaQAAADl0RVh0U29mdHdhcmUAbWF0cGxvdGxpYiB2ZXJzaW9uIDIuMi4yLCBodHRwOi8vbWF0cGxvdGxpYi5vcmcvhp/UCwAAIABJREFUeJzs3XlcVXXi//E3IEgiJLJYomU6Xdzxolam5ldyzGjXFMrU0cZKQ8txZNyiRRtqyqxAKzPNJjMMlxq1%2BrnUlMukjSBlmJY6hZIsogJqItzfH453ugEKyqfLgdfz8eAhfO7nnPu5x4W373POxcPhcDgEAAAAS/F09wIAAABQfYQ4AAAACyLEAQAAWBAhDgAAwIIIcQAAABZEiAMAALAgQhwAAIAFEeIAAAAsiBAHAABgQYQ4AAAAC2rg7gUAMCMpKUnJycnlxn18fBQYGKj27dvr9ttv18033ywPDw83rBAAcDEIcUA9EBwc7Py8sLBQhw4d0qFDh/TJJ59oxYoVmjNnjnx8fNy4QgBAdXE6FagHNm3a5PxIT0/XqlWr1LNnT0nSZ599ptmzZ7t5hQCA6iLEAfWMp6enrr76ar3yyiu68sorJUkpKSk6ffq0m1cGAKgOTqcC9VTDhg01YMAAvfbaayouLtbevXtls9mcjxcWFurtt9/Whg0btH//fp04cUJBQUHq2rWrhg8fri5dulS4371792rDhg3auHGjsrKylJOTowYNGuiKK65Qnz59NGLECDVt2rTCbaOionTgwAElJibqpptu0vz587Vu3TplZWXp%2BPHjWr9%2BvVq0aCFJ2rFjh9566y2lpaUpNzdXXl5eCgwMVFhYmHr06KFBgwbpsssuK/ccubm5WrBggT777DMdPHhQDodDYWFh6tOnj0aNGuVy6vmsrKws3XjjjZKk9evXy9fXV6%2B%2B%2Bqo2bNig3Nxc%2Bfv769prr1VcXJzatGlT7d8LALgQhDigHmvWrJnz86KiIufnO3bs0NixY5WXlydJ8vLykq%2Bvr3766SetXr1aa9as0YQJE/Tggw%2BW2%2Bcf//hHHThwQJLk4eEhf39/FRYWKjMzU5mZmVqxYoXefPNNtW7dutJ1HTlyRAMHDtT%2B/fvl7e2tSy65xOXxFStWaMqUKXI4HJLO3Kzh5eWlgwcP6uDBg9q2bZsuv/xyDRw40GW7rVu36uGHH9axY8ckSZdccok8PDz03Xff6bvvvlNqaqrmzp2rbt26Vbq27777TlOnTlV%2Bfr5zXfn5%2BVqzZo0%2B%2B%2BwzLV68WG3btq10ewCoKZxOBeqxs2FLki699FJJZ1qnP/7xj8rLy9NNN92k5cuXKyMjQ9u3b9fmzZs1duxYeXl56YUXXtC6devK7TMiIkKPPfaY1q5dq4yMDG3btk0ZGRl688031blzZx06dEh//vOfz7mupKQkFRcXKzk5WWlpadq2bZv%2B%2Bc9/KigoSCdOnNCMGTPkcDh0%2B%2B23a%2B3atfrqq6/073//W2lpaVq2bJnuv/9%2BBQUFuewzOzvbGeB%2B97vf6Z133lF6errS0tK0ePFiXXXVVTp69KgefvhhHTp0qNK1xcfH68orr1Rqaqpz%2B4ULFyokJERFRUWaMWNGdX4LAODCOQDUSS%2B//LLDZrM5bDZbhY8XFhY6evXq5bDZbI5rrrnGUVpa6nA4HI5x48Y5bDabY9KkSZXue%2BHChQ6bzea4/fbbq7WmoqIix/XXX%2B%2Bw2WyObdu2lXu8b9%2B%2BDpvN5mjXrp1j586dFe5jx44dDpvN5ujSpYujpKSkys%2BdkJDgsNlsju7duztycnLKPZ6dne2IjIx02Gw2x5NPPuny2I8//ug8lgMGDHCcOHGi3Pbr1693zsnOzq7yugDgQtHEAfXMsWPHtGXLFg0fPlw5OTmSpGHDhsnT01NHjhzR2rVrJUkPPPBApfu44447JEm7du1ynnKtCj8/P3Xv3l2StH379krn9e7dW%2B3bt6/wMX9/f0lSSUmJjhw5UqXndTgc%2BuijjyRJsbGxCgkJKTfnsssuU2xsrCRp9erVle5r1KhR8vX1LTd%2Bww03yNvbW5L07bffVmldAHAxuCYOqAfCw8Mrfez222/XmDFjJEnp6ekqKyuTJI0YMaJK%2Bz548GC5mwE%2B%2BeQTvf/%2B%2B/rqq6%2BUn5%2BvEydOlNvup59%2BqnSfkZGRlT52xRVXqHXr1tq7d6%2BGDBmi2NhY9e7dWzabTV5eXhVuk5WV5Qx8PXr0qHTfPXv21Pz583XkyBH9%2BOOPatmyZbk5nTt3rnDbBg0aqGnTpjp06JCOHj1a6XMAQE0hxAH1wC9D1tmf2NCuXTvddtttuu6665yPnW3mJFW5YftlQCsrK9OkSZO0atUq51iDBg106aWXOluqwsJC/fzzzxUGu7Mqu3tVOnOTxezZs/Xwww8rKytLs2bN0qxZs3TJJZfIbrfr97//ve666y6XmyHy8/Odn//yZo5f%2B%2BVjhw8frjDE%2Bfn5Vbp9gwZn/knl7VoA/BYIcUA9sGnTpirNKy0tlST5%2Bvpqx44d1X6e1NRUrVq1Sl5eXnrooYd0xx13qGXLlvL0/N%2BVG5MmTdIHH3zgvLO0IpU1ame1bdtWH374oT799FNt3LhRaWlp2rNnjzZv3qzNmzdr3rx5eu211ypsIKv6I8b4UWQAajtCHACns9eKnTx5Uv/5z3%2BcbwZcVWevJbv77rs1fvz4CudU5xq6c/Hx8VH//v3Vv39/SVJBQYE%2B/vhjzZ49W9nZ2Zo8ebJWrFghSS53qv7000%2B66qqrKtznL%2B9KDQwMrJF1AoAp3NgAwMlutzsbqHNd3F%2BZs9e5VXZTQnFx8QU1fFURGBio2NhY59uXfPPNNyooKJAktWjRQk2aNJEkbdmypdJ9bN68WZLUpEmTCk%2BlAkBtQogD4BQUFOT8yQRvvPGG9u3bd875v747tHHjxpLO3LVakblz56q4uPii1njq1KlzPt6wYUPn52dPy3p4eOjmm2%2BWdOZHjOXm5pbb7tChQ0pJSZEk3XrrrRe1RgD4LRDiALiYPHmymjRpoqKiIt17771KTU1VYWGh8/HDhw/r//2//6e4uDhNnDjRZdvevXtLkt577z2lpKQ4A1dubq7%2B%2Bte/av78%2Bc5G7EKtXr1asbGxevfdd/Xjjz86x0tLS/X5559r1qxZks60igEBAc7HH3roIQUEBOjIkSMaOXKky1uc/Pvf/9bIkSN17NgxNWnS5JxvrwIAtQXXxAFw0bJlSy1cuFBxcXE6cOCApk2bpunTpysgIEAlJSU6fvy4c%2B7111/vsu2oUaP08ccfa%2B/evUpISNATTzyhxo0bq7CwUA6HQzExMTp16pTzWrUL4XA4lJaWprS0NElnro1r1KiRjh075nx7lNDQUD399NMu21122WWaM2eOxo4dqz179uiee%2B5Ro0aNJMn5mgICAjRnzpxz3sEKALUFIQ5AOe3bt9eaNWu0bNkyrVu3Trt27dKxY8fk7e2tVq1aqWPHjrrxxht1ww03uGwXEBCgd999V3PmzNG6deuUk5MjLy8vXXPNNYqJidEtt9yiyZMnX9TaoqKi9Oyzz%2BqLL77QN998o9zcXB09elR%2Bfn666qqr1LdvX913330uLdxZ11xzjT788EMtWLBA//znP3XgwAF5eHioTZs26tOnj0aNGlXhGwEDQG3k4TjXff4AAAColbgmDgAAwIIIcQAAABZEiAMAALAgQhwAAKhXtm3bpoceeki9evVSeHi41q1bd95ttm7dqoEDB6pTp0668cYbtWTJknJzFi9erKioKHXq1EkDBw7Ul19%2BaWL5ToQ4AABQrxw/flzh4eFKSEio0vwff/xRDzzwgLp27aqVK1fqoYce0tNPP62PP/7YOWfNmjVKTEzUmDFjtHLlSnXt2lWjR4/WwYMHTb0M7k4FAAD1V3h4uObMmaN%2B/fpVOue5557Thg0b9OGHHzrHEhIS9O233zp/0svgwYPVvn17Pfnkk845N998s/r161fujdFrCu8TBwAALCMnJ6fcj84LCQlRaGiosedMT09Xz549XcZ69%2B6tZcuWqaSkRA6HQzt37iz301569uzpfGNyEwhxNem/PzgctdhVV0l79khXXy2d5%2BeCwr0Kj3GSoDbz8JD8/KTiYonzObWfv7%2BbntjA98WUl19WcnKyy1hcXJzGjRtX4891Vl5enoKDg13GgoKCdPr0aRUUFMjhcKi0tFRBQUEuc4KDgyv8Wc01hRCH%2BqVJE8nL68yvAC6Yh8f/Pghx%2BC3FxMQoKirKZey3%2BEkrHr8KpGevRvPw8HD5/Ndzfj1WkwhxAADADM%2Bav38yNDTU6KnTilTUqB0%2BfFgNGjRQkyZN5HA45OXlpby8PJc5%2Bfn55Rq8msTdqQAAAOfQpUsXbd682WVs48aN6tixo7y9veXj46MOHTpo06ZNLnM2b94su91ubF2EOAAAYIanZ81/1IDi4mJlZmYqMzNTkpSVlaXMzEzn24HMmjVL8fHxzvmxsbE6ePCgEhMT9f333ys1NVXLli3TqFGjnHNGjhyp1NRUpaam6vvvv9df//pXZWdnKzY2tkbWXBFOpwIAADMMnE6tCV9//bWGDx/u/DoxMVGSdNddd%2BmZZ55Rbm6usrOznY%2B3bNlS8%2BbNU2JiohYvXqzQ0FBNmzZNN910k3NOdHS0CgoKNHfuXOXk5Mhms2nevHkKCwsz9jp4n7iaxN2ptZ/dLm3fLkVGSgZv%2B8bF4%2B7U2s3T8393p5aVuXs1OB%2B33Z3asGHN7/Pnn2t%2BnxZFEwcAAMyopU1cXcHRBQAAsCCaOAAAYAZNnFGEOAAAYAYhziiOLgAAgAXRxAEAADNo4ozi6AIAAFgQTRwAADCDJs4oQhwAADCDEGcURxcAAMCCaOIAAIAZNHFGEeIAAIAZhDijOLoAAAAWRBMHAADMoIkziqMLAABgQTRxAADADJo4owhxAADADEKcURxdAAAAC6KJAwAAZtDEGcXRBQAAsCCaOAAAYAZNnFGEOAAAYAYhziiOLgAAgAXRxAEAADNo4ozi6AIAAFgQTRwAADCDJs4oQhwAADCDEGcURxcAAMCCaOIAAIAZNHFGcXQBAAAsiCYOAACYQRNnFCEOAACYQYgziqMLAABgQTRxAADADJo4ozi6AAAAFkQTBwAAzKCJM4oQBwAAzCDEGcXRBQAAsCCaOAAAYAZNnFEcXQAAAAuiiQMAAGbQxBlFiAMAAGYQ4owixAEAgHpn8eLFeuONN5Sbm6urr75aU6dOVbdu3SqcO2zYMG3durXceJ8%2BfTRv3jxJ0uTJk7VixQqXxyMiIrR06dKaX/x/EeIAAIAZtbSJW7NmjRITE/X4448rMjJS7777rkaPHq3Vq1erefPm5eYnJSWppKTE%2BfWRI0d0xx13aMCAAS7zevfurcTEROfX3t7e5l6EuLEBAADUMwsXLtSgQYM0ePBgtWnTRtOmTdNll12mJUuWVDi/SZMmCgkJcX5s2rRJvr6%2B5UKcj4%2BPy7wmTZoYfR00cQAAwAwDTVxOTo5yc3NdxkJCQhQaGlql7U%2BdOqWdO3fqgQcecBnv2bOn0tLSqrSPZcuW6ZZbblGjRo1cxrdu3aoePXooICBA3bt314QJExQUFFSlfV4IQhwAADDDQIhLSUlRcnKyy1hcXJzGjRtXpe0LCgpUWlpaLlwFBweXC4cVycjI0O7du/X000%2B7jN9www0aMGCAmjdvrqysLL300ksaMWKEli9fLh8fnyqtrboIcQAAwDJiYmIUFRXlMhYSElLt/Xh4eLh87XA4yo1VJDU1VTabTZ07d3YZj46Odn5us9nUsWNHRUVF6dNPP1X//v2rvb6qIMQBAAAzDDRxoaGhVT51WpHAwEB5eXkpLy/PZTw/P1/BwcHn3PbEiRNavXq1xo8fX6V1Nm/eXPv377/gtZ4PNzYAAIB6w8fHRx06dNCmTZtcxjdv3iy73X7ObT/88EOdOnVKt99%2B%2B3mfp6CgQNnZ2RcVOM%2BHJg4AAJhRS99iZOTIkYqPj1fHjh1lt9uVkpKi7OxsxcbGSpLi4%2BPVrFkzTZw40WW71NRU9evXT4GBgS7jxcXFSk5OVv/%2B/RUSEqIDBw5o9uzZCgwMVL9%2B/Yy9DkIcAAAwo5aGuOjoaBUUFGju3LnKycmRzWbTvHnzFBYWJknKzs6W56/Wvm/fPv373//WggULyu3Py8tLu3fv1sqVK1VYWKiQkBBde%2B21mj17tho3bmzsdXg4HA6Hsb3XN1W4IBJuZrdL27dLkZFSFW8lh3sUHuOfptrM01Py85OKi6WyMnevBufj7%2B%2BmJ77ppprf58cf1/w%2BLYomDgAAmFFLm7i6ghAHAADMIMQZxdEFAACwIJo4AABgBk2cURxdAAAAC6KJAwAAZtDEGUWIAwAAZhDijOLoAgAAWBBNHAAAMIMmziiOLgAAgAXRxAEAADNo4owixAEAADMIcUZxdAEAACyIJg4AAJhBE2cURxcAAMCCaOIAAIAZNHFGEeIAAIAZhDijOLoAAAAWRBMHAADMoIkziqMLAABgQTRxAADADJo4owhxAADADEKcURxdAAAAC6KJAwAAZtDEGcXRBQAAsCCaOAAAYAZNnFGEOAAAYAYhziiOLgAAgAXRxAEAADNo4ozi6AIAAFgQTRwAADCDJs4oQhwAADCDEGcURxcAAMCCaOIAAIAZNHFGcXQBAAAsiCYOAACYQRNnFCEOAACYQYgziqMLAABgQTRxAADADJo4ozi6AAAAFkQTBwAAzKCJM6pOHd0vvvhC4eHhOnbsmLuXAgAAPD1r/gNOlj0aw4YN09NPP%2B0yZrfbtXHjRvn7%2B0uSli9frm7durljeQAAoBZbvHixoqKi1KlTJw0cOFBffvllpXOXL1%2Bu8PDwch8///zzBe%2BzJlg2xFXEx8dHISEh8vDwcPdSAABALW3i1qxZo8TERI0ZM0YrV65U165dNXr0aB08eLDSbRo3bqyNGze6fDRs2PCi9nmxqn00jh8/rvj4eNntdvXq1UsLFixwacXCw8O1bt06l226deum5cuXO79%2B7rnndNNNNykiIkI33nijXnzxRZWUlDgfT0pK0h133KGVK1cqKipKXbt21YQJE1RUVCRJmjx5srZu3aq33nrLmYazsrJcTqd%2B8cUXmjJligoLC51zkpKSlJycrNtuu63c6xo4cKBeeuml6h4OAABgMQsXLtSgQYM0ePBgtWnTRtOmTdNll12mJUuWVLqNh4eHQkJCXD4udp8Xq9o3Nvztb3/TF198oeTkZAUHB2v27Nn6%2Buuv1bZt2yrvw8/PT4mJiQoNDdXu3bv12GOPyc/PT6NHj3bO%2BeGHH7R%2B/Xq9%2BuqrOnbsmB599FG9/vrrmjBhgqZNm6b9%2B/fr6quv1vjx4yVJTZs21YEDB5zb2%2B12TZ06VS%2B//LI%2B%2BugjSVKjRo1UWFioOXPmKCMjQ507d5Yk7dq1S9988021QlxOTo5yc3NdxkKuukqhTZpUeR9wg7N/Tqvx5xXuwaUvtdvZ3x9%2Bn2q/sjI3PrmBPyAVfv8NCVFoaGiVtj916pR27typBx54wGW8Z8%2BeSktLq3S748ePq2/fviotLVW7du30yCOPqH379he1z4tVrRBXXFys1NRU/e1vf1PPnj0lSc8884z69OlTrScdO3as8/MWLVpo7969WrNmjUuIczgcSkxMVOPGjSVJt99%2Bu7Zs2aIJEybI399f3t7e8vX1LZeEz/Lx8ZG/v78zOZ/l5%2BenXr16afny5c4Qt3z5cnXv3l0tW7as8mtISUlRcnKyy1jcI49o3COPVHkfcKN33nH3CnAefu5eAKrkkkvcvQKcT2GhG5/cQIir8PtvXJzGjRtXpe0LCgpUWlqqoKAgl/Hg4OBy4fCs1q1bKzExUeHh4SoqKtJbb72le%2B65R%2B%2B//75atWp1QfusCdUKcT/%2B%2BKNKSkrUpUsX51iTJk101VVXVetJP/roIy1atEg//PCDjh8/rtOnTzvD2llhYWEuY6GhocrPz6/W81RmyJAhmjp1qqZMmSJPT0/94x//0F/%2B8pdq7SMmJkZRUVEuYyG33SYtWlQja4QhbdueCXD33ivt2uXu1eAcij/f7u4l4Bw8Pc8EuBMn3Nz0oN6p8PtvJYXOufz6%2BnmHw1HpNfVdunRxyT6RkZG666679Pbbb2v69OkXtM%2BaUK0Q53A4zjvHw8Oj3LzTp087P09PT9ef/vQnjRs3Tr169ZK/v79Wr16thQsXui6sQfmlVeX5q6Jv377y8fHR2rVr5ePjo1OnTummm26q1j5CQ0PLV7f79tXI%2BvAb2LVLMlhx4%2BIRDKyhrIzfK5yDgSauwu%2B/1RAYGCgvLy/l5eW5jOfn5ys4OLhK%2B/D09FSnTp20f//%2BGtvnhajW0b3iiivk7e2t9PR059jRo0edL0I6c21aTk6O8%2Bv9%2B/frxIkTzq%2B3b9%2Bu5s2ba8yYMerUqZNatWp1QXdueHt7q%2Bw8/3J4e3urtLS03HiDBg105513avny5Vq%2BfLluueUWXcI5AQAAalYtvDvVx8dHHTp00KZNm1zGN2/eLLvdXqV9OBwOZWZmOhvAmtjnhahWE%2Bfn56dBgwbpueeeU2BgoIKCgjR79myXqvC6667T4sWL1aVLF5WVlen555%2BXt7e38/ErrrhC2dnZWr16tTp16qRPP/203N2sVREWFqYdO3YoKytLjRo1UpMKbigICwvT8ePHtWXLFoWHh%2BuSSy5xhrXBgwcrOjpakozeOQIAAGqXkSNHKj4%2BXh07dpTdbldKSoqys7MVGxsrSYqPj1ezZs00ceJESVJycrIiIiLUqlUr5zVxu3bt0uOPP17lfZpQ7btT4%2BPjdfz4cY0ZM0Z%2Bfn4aOXKk860/JOkvf/mLpk6dqvvuu0%2BhoaGaOnWqdu7c6Xy8X79%2BGjFihJ566imdOnVK//d//6cxY8aUu0jxfEaNGqXJkyfrlltu0cmTJ7V%2B/fpycyIjIxUbG6tHH31UR44ccbnwsVWrVrLb7Tpy5IgiIiKqexgAAMD51NLbl6Ojo1VQUKC5c%2BcqJydHNptN8%2BbNU1hYmCQpOztbnr9Y%2B7Fjx5SQkKDc3Fz5%2B/urffv2evvtt503SFZlnyZ4OGrgQrNhw4apbdu2mjZtWk2s6TfhcDg0YMAAxcbGauTIkTWzU95kuPaz26Xt26XISK6Jq%2BUKj9XMNbAww9NT8vOTiou5Js4K/vuDjH57iYk1v88pU2p%2BnxZV7SauLsjPz9f777%2BvnJwcDRw40N3LAQCgbqqlTVxdUS9D3PXXX6/AwEA99dRTuvTSS929HAAA6iZCnFE1EuL%2B/ve/18RufjPffvutu5cAAABwUeplEwcAAH4DNHFGcXQBAAAsiCYOAACYQRNnFCEOAACYQYgziqMLAABgQTRxAADADJo4ozi6AAAAFkQTBwAAzKCJM4oQBwAAzCDEGcXRBQAAsCCaOAAAYAZNnFEcXQAAAAuiiQMAAGbQxBlFiAMAAGYQ4ozi6AIAAFgQTRwAADCDJs4oji4AAIAF0cQBAAAzaOKMIsQBAAAzCHFGcXQBAAAsiCYOAACYQRNnFEcXAADAgmjiAACAGTRxRhHiAACAGYQ4ozi6AAAAFkQTBwAAzKCJM4qjCwAAYEE0cQAAwAyaOKMIcQAAwAxCnFEcXQAAAAuiiQMAAGbQxBnF0QUAALAgmjgAAGAGTZxRhDgAAGAGIc4oji4AAIAF0cQBAAAzaOKMIsQBAAAzCHFGcXQBAAAsiCYOAACYQRNnFEcXAADUO4sXL1ZUVJQ6deqkgQMH6ssvv6x07tKlS3Xvvfeqe/fu6t69u/7whz8oIyPDZc7kyZMVHh7u8jFkyBCjr4EmDgAAmFFLm7g1a9YoMTFRjz/%2BuCIjI/Xuu%2B9q9OjRWr16tZo3b15u/hdffKFbbrlFkZGR8vHx0fz58zVq1CitXr1azZo1c87r3bu3EhMTnV97e3sbfR218%2BgCAADr8/Ss%2BY8asHDhQg0aNEiDBw9WmzZtNG3aNF122WVasmRJhfNnzZqloUOHql27dmrTpo1mzpypsrIybdmyxWWej4%2BPQkJCnB9NmjSpkfVWhiYOAABYRk5OjnJzc13GQkJCFBoaWqXtT506pZ07d%2BqBBx5wGe/Zs6fS0tKqtI8TJ07o9OnTuvTSS13Gt27dqh49eiggIEDdu3fXhAkTFBQUVKV9XghCHAAAMMPA6dSUlBQlJye7jMXFxWncuHFV2r6goEClpaXlwlVwcHC5cFiZWbNmqVmzZrr%2B%2BuudYzfccIMGDBig5s2bKysrSy%2B99JJGjBih5cuXy8fHp0r7rS5CHAAAsIyYmBhFRUW5jIWEhFR7Px4eHi5fOxyOcmMVef3117V69Wq99dZbatiwoXM8Ojra%2BbnNZlPHjh0VFRWlTz/9VP3796/2%2BqqCEAcAAMww0MSFhoZW%2BdRpRQIDA%2BXl5aW8vDyX8fz8fAUHB59z2zfeeEOvvfaaFi5cqLZt2553nc2bN9f%2B/fsveK3nw40NAADAjFp4Y4OPj486dOigTZs2uYxv3rxZdru90u3mz5%2BvuXPnav78%2BerUqdN5n6egoEDZ2dkXFTjPhyYOAADUKyNHjlR8fLw6duwou92ulJQUZWdnKzY2VpIUHx%2BvZs2aaeLEiZLOnEJ96aWXNGvWLIWFhTmvnWvUqJH8/PxUXFys5ORk9e/fXyEhITpw4IBmz56twMBA9evXz9jrIMQBAAAzaun7xEVHR6ugoEBz585VTk6ObDab5s2bp7CwMElSdna2PH%2Bx9iVLlqikpETjx4932c/ZGyq8vLy0e/durVy5UoWFhQoJCdG1116r2bNnq3HjxsZeh4fD4XAY23t9U4ULIuFmdru0fbsUGSlV8VZyuEfhMf5pqs08PSU/P6m4WCorc/dqcD7%2B/m564l%2B9j1qN6NGj5vdpUTRxAADAjFraxNUVhDgAAGAGIc4oji4AAIAF0cQBAAAzaOKM4ugCAABYEE0cAAAwgybOKEIcAAAwgxBnFEcXAADAgmjiAACAGTRxRnF0AQAALIgmDgAAmEETZxQhDgAAmEGIM4qjCwAAYEE0cQAAwAyaOKM4ugAAABZEEwcAAMygiTOKEAcAAMwgxBnF0QUAALAgmjgAAGAGTZx6Bdz2AAAgAElEQVRRHF0AAAALookDAABm0MQZRYgDAABmEOKM4ugCAABYEE0cAAAwgybOKI4uAACABdHEAQAAM2jijCLEAQAAMwhxRnF0AQAALIgmDgAAmEETZxQhDgAAmEGIM4qjCwAAYEE0cQAAwAyaOKM4ugAAABZEEwcAAMygiTOKEAcAAMwgxBnF0QUAALAgmjgAAGAGTZxRHF0AAAALookDAABm0MQZRYgDAABmEOKM4ugCAABYEE0cAAAwgybOKI4uAACodxYvXqyoqCh16tRJAwcO1JdffnnO%2BR9//LGio6PVsWNHRUdHa%2B3atS6POxwOJSUlqVevXurcubOGDRumPXv2mHwJhDgAAGCIp2fNf9SANWvWKDExUWPGjNHKlSvVtWtXjR49WgcPHqxwflpamiZMmKA77rhD77//vu644w49%2Buij2rFjh3PO66%2B/roULFyohIUGpqakKDg7WyJEjVVRUVCNrrgghDgAAmFFLQ9zChQs1aNAgDR48WG3atNG0adN02WWXacmSJRXOX7Roka6//no9%2BOCDatOmjR588EFdd911WrRokaQzLdxbb72lhx56SP3795fNZtOzzz6rkydPatWqVTWy5opwTVwNKjzmcPcScB6enpKfpOLPt6uszN2rwbn4B3i4ewk4F7td2r5dfr0jpbQ0d68G5%2BOoO9%2BfcnJylJub6zIWEhKi0NDQKm1/6tQp7dy5Uw888IDLeM%2BePZVWyZ/l9PR0/eEPf3AZ6927tzPEZWVlKTc3V7169XI%2B7uPjo%2B7duystLU2xsbFVWlt1EeIAAIARDtX8f8ZSUlKUnJzsMhYXF6dx48ZVafuCggKVlpYqKCjIZTw4OLhcODwrLy%2Bv3PygoCDn/LO/VrTPyk7R1gRCHAAAsIyYmBhFRUW5jIWEhFR7Px4ergHT4XCUG6vu/IrmmESIAwAARpi4bCU0NLTKp04rEhgYKC8vL%2BXl5bmM5%2BfnKzg4uMJtgoODy80/fPiwc/7ZEJmXl%2BeytnPtsyZwYwMAADCirKzmPy6Wj4%2BPOnTooE2bNrmMb968WXa7vcJtunTpUm7%2Bxo0bnfNbtGihkJAQlzmnTp3Stm3bKt1nTaCJAwAA9crIkSMVHx%2Bvjh07ym63KyUlRdnZ2c4bEOLj49WsWTNNnDhRkjR8%2BHDdd999mjdvnm688UatX79eW7Zs0TvvvCPpzGnU4cOH67XXXlOrVq105ZVX6rXXXpOvr69uvfVWY6%2BDEAcAAIyore8CEB0drYKCAs2dO1c5OTmy2WyaN2%2BewsLCJEnZ2dny/MXbmURGRuqFF17Qiy%2B%2BqJdfflktW7bU7NmzFRER4ZwzevRo/fzzz3ryySd19OhRRUREaMGCBWrcuLGx1%2BHhMH3VXT1SWOjuFeB8PD0lPz%2BpuLj2/uOCM3iLkVruv28xokjeYsQS3PSt/uefa36fDRvW/D6tiiYOAAAYwX%2BWzSLEAQAAIwhxZnF3KgAAgAXRxAEAACNo4syiiQMAALAgmjgAAGAETZxZhDgAAGAEIc4sTqcCAABYEE0cAAAwgibOLJo4AAAAC6KJAwAARtDEmUWIAwAARhDizOJ0KgAAgAXRxAEAACNo4syiiQMAALAgmjgAAGAETZxZhDgAAGAEIc4sTqcCAABYEE0cAAAwgibOLJo4AAAAC6KJAwAARtDEmUWIAwAARhDizOJ0KgAAgAXRxAEAACNo4swixAEAACMIcWZxOhUAAMCCaOIAAIARNHFm0cQBAABYEE0cAAAwgibOLEIcAAAwghBnFqdTAQAALIgmDgAAGEETZxZNHAAAgAXRxAEAACNo4swixAEAACMIcWZxOhUAAMCCaOIAAIARNHFm0cQBAABYEE0cAAAwgibOLEIcAAAwghBnFqdTAQAALIgmDgAAGEETZxYhDgAAoAJHjx7VzJkztWHDBklSVFSUHnvsMQUEBFQ4/8iRI0pKStLGjRv1008/KTAwUP369dMjjzwif39/57zw8PBy2z7xxBO65557qrU%2BQhwAADDC6k3cxIkTdejQIc2fP1%2BSlJCQoPj4eL366qsVzs/JyVFOTo7%2B8pe/6He/%2B50OHDigJ554Qjk5OXr55Zdd5iYmJqp3797Or38Z8qqKEAcAAIwwEeJycnKUm5vrMhYSEqLQ0NAafZ7vv/9en3/%2BuZYuXaqIiAhJ0owZMxQTE6O9e/eqdevW5bax2WxKSkpyfn3FFVfo0Ucf1aRJk3T69Gk1aPC/2BUQEKCQkJCLWiM3NgAAAMtISUnRwIEDXT5SUlJq/HnS0tLk7%2B/vDHCS1KVLF/n7%2BystLa3K%2BykqKlLjxo1dApwkPfXUU7r22ms1aNAgLVmyRGUXkHhp4gAAgBEmmriYmBhFRUW5jF1so1WRvLw8BQUFlRsPCgpSXl5elfZRUFCguXPnKiYmxmX8kUceUY8ePeTr66stW7bo2WefVUFBgcaOHVutNRLiAACAZYSGhl7UqdOkpCQlJyefc05qamqljzkcDnl4eJz3eYqKivTggw%2BqTZs2iouLc3nsl2GtXbt2kqQ5c%2BYQ4gAAQO1QG29sGDp0qKKjo885p0WLFvr222%2BVn59f7rHDhw9X2ND9UlFRkf74xz%2BqUaNGmjNnjry9vc85PyIiQkVFRcrLy1NwcPD5X8R/EeIAAIARtTHENW3aVE2bNj3vPLvdrsLCQmVkZKhz586SpB07dqiwsFB2u73S7YqKinT//ffLx8dHr7zyiho2bHje58rMzFTDhg0rfeuSynBjAwAAwK%2B0adNGvXv31vTp05Wenq709HRNnz5dffv2dd6ZeujQIQ0YMEAZGRmSzgS4UaNG6fjx43r66adVVFSk3Nxc5ebmqrS0VJK0YcMGLV26VLt379YPP/yg9957T7Nnz9aQIUPk4%2BNTrTXSxAEAACNqYxNXHc8//7xmzpypUaNGSTrzZr8JCQnOx0tKSrRv3z6dOHFCkrRz507t2LFDkvT73//eZV/r169XixYt1KBBA73zzjtKTEyUw%2BFQy5YtNX78eA0dOrTa6/NwOByOC31xcFVY6O4V4Hw8PSU/P6m42Pr/uNR1/gHnv3AYbmS3S9u3S5GRUjXebgFu4qZv9R9/XPP7vOmmmt%2BnVdHEAQAAI/jPslmEOAAAYAQhzixubAAAALAgmjgAAGAETZxZNHEAAAAWRBMHAACMoIkzixAHAACMIMSZxelUAAAAC6KJAwAARtDEmUUTBwAAYEE0cQAAwAiaOLMIcQAAwAhCnFmcTgUAALAgmjgAAGAETZxZhDgAAGAEIc4sTqcCAABYEE0cAAAwgibOLJo4AAAAC6KJAwAARtDEmUWIAwAARhDizOJ0KgAAgAXRxAEAACNo4syiiQMAALAgmjgAAGAETZxZhDgAAGAEIc4sTqcCAABYEE0cAAAwgibOLJo4AAAAC6KJAwAARtDEmUWIAwAARhDizOJ0KgAAgAXRxAEAACNo4syiiQMAALAgmjgAAGAETZxZhDgAAGAEIc4sTqcCAABYEE0cAAAwgibOLJo4AAAAC6KJAwAARtDEmUWIAwAARhDizLL86dSsrCyFh4crMzPT3UsBAAD4zVg%2BxF1%2B%2BeXauHGjrr76ancvBQAA/EJZWc1//JaOHj2qSZMmqWvXruratasmTZqkY8eOnXObYcOGKTw83OVjwoQJF73filj6dOqpU6fk4%2BOjkJAQdy8FAADUMRMnTtShQ4c0f/58SVJCQoLi4%2BP16quvnnO7IUOGaPz48c6vfX19a2S/v1arQtywYcOcjdoHH3wgLy8vxcbG6tFHH5WHh4eioqJ0991364cfftDatWvVr18/jRs3TjfeeKNWrlypdu3aSZL27Nmj5557Tl9%2B%2BaUcDofatWunZ555RldccYUkadmyZZo/f76ysrIUFhamYcOGaejQoW573QAA1EVWvibu%2B%2B%2B/1%2Beff66lS5cqIiJCkjRjxgzFxMRo7969at26daXb%2Bvr6VlowXcx%2Bf61WhThJWrFihe6%2B%2B24tXbpUX3/9tRISEhQWFqYhQ4ZIkt544w2NHTtWY8aMqXD7Q4cO6b777tM111yjRYsWqXHjxtq%2BfbtOnz4tSVq6dKlefvllJSQkqF27dsrMzNRjjz2mRo0a6a677qryOnNycpSbm%2Bsy1qhRiEJDQy/wleO34Onp%2BitqMbvd3SvAubRt6/oraq%2B0NLc9tYkQV9H335CQmv/%2Bm5aWJn9/f2fQkqQuXbrI399faWlp5wxb//jHP/TBBx8oODhYN9xwgx5%2B%2BGE1btz4ovf7a7UuxF1%2B%2BeWaOnWqPDw81Lp1a%2B3evVtvvvmmM8Rdd911uv/%2B%2B53zs7KyXLZfvHixGjdurBdeeEHe3t6SpKuuusr5%2BNy5czV58mT1799fktSyZUt99913SklJqVaIS0lJUXJyssvYww/Hafz4cdV7wXCLSy5x9wpwXtu3u3sFqIp33nH3CnA%2BHh7uXkGNquj7b1xcnMaNq9nvv3l5eQoKCio3HhQUpLy8vEq3u%2B2229SiRQsFBwdrz549mjVrlnbt2qWFCxde1H4rUutCXEREhDx%2B8QeuS5cuWrhwoUpLSyVJHTt2POf2mZmZ6tatmzPA/dLhw4eVnZ2tadOm6bHHHnOOnz59Wv7%2B/tVaZ0xMjKKiolzGGjUKUXFxtXaD35in55kAd%2BKEtWv%2B%2BsCvd6S7l4Bzadv2TIC7915p1y53rwa1lIl/Zyv6/luda%2BOTkpLKhcBfS01NrfQxh8PhklN%2B7WzpJEk2m01XXnmlBg0apJ07d6pDhw4XvN%2BK1LoQdz6XnKdC%2BfXFg79U9t8/TTNmzHCpMSXJs5rn10JDQ8tVt4WFBAOrcMddTqgmN54CQjXs2sXvFX5TFX3/rY6hQ4cqOjr6nHNatGihb7/9Vvn5%2BeUeO3z4cIVNWmU6dOggb29v/ec//1GHDh0UHBxcI/uVamGI27FjR7mvr7zySnl5eVVp%2B/DwcK1YsUIlJSXl2rjg4GA1a9ZMP/74o26//fYaWzMAACivNv5nuWnTpmratOl559ntdhUWFiojI0OdO3eWdCaTFBYWyl6Na3b37NmjkpISZ1tYU/uVauH7xGVnZysxMVF79%2B7VqlWr9Pbbb2v48OFV3n7o0KEqKirSn/70J3311Vfav3%2B/Vq5cqb1790qSxo0bp3nz5mnRokXat2%2Bfvv32Wy1btsx5rhoAANQMK79PXJs2bdS7d29Nnz5d6enpSk9P1/Tp09W3b1/nzQeHDh3SgAEDlJGRIUn64YcflJycrK%2B%2B%2BkpZWVn65z//qUceeUTt27dXZGRklfdbVbWuibvzzjt18uRJDR48WF5eXrrvvvsUExNT5e0DAwO1aNEiPffccxo2bJg8PT3Vrl07de3aVZI0ePBg%2Bfr66o033tBzzz2nRo0ayWazacSIEaZeEgAAsKDnn39eM2fO1KhRoyRJUVFRSkhIcD5eUlKiffv26cSJE5Ikb29v/etf/9Lf//53FRcX6/LLL1efPn0UFxfnckbxfPutKg%2BHw%2BG4mBdYk4YNG6a2bdtq2rRp7l7KBSksdPcKcD6enpKfn1RcXDtrfvyPf0DduqOuzrHbz9xBHBnJNXFW4KZv9VOm1Pw%2BExNrfp9WVetOpwIAAOD8at3pVAAAUDdwxsOsWhXi/v73v7t7CQAAoIYQ4szidCoAAIAF1aomDgAA1B00cWYR4gAAgBGEOLM4nQoAAGBBNHEAAMAImjizaOIAAAAsiCYOAAAYQRNnFiEOAAAYQYgzi9OpAAAAFkQTBwAAjKCJM4smDgAAwIJo4gAAgBE0cWYR4gAAgBGEOLM4nQoAAGBBNHEAAMAImjizaOIAAAAsiCYOAAAYQRNnFiEOAAAYQYgzi9OpAAAAFkQTBwAAjKCJM4smDgAAwIJo4gAAgBE0cWYR4gAAgBGEOLM4nQoAAGBBNHEAAMAImjizaOIAAAAsiCYOAAAYQRNnFiEOAAAYQYgzi9OpAAAAFkQTBwAAjKCJM4smDgAAwIJo4gAAgBE0cWYR4gAAgBGEOLM4nQoAAGBBNHEAAMAImjizaOIAAAAsiCYOAAAYQRNnFiEOAAAYQYgzi9OpAAAAFkQTBwAAjLB6E3f06FHNnDlTGzZskCRFRUXpscceU0BAQIXzs7KydOONN1b42Isvvqibb75ZkhQeHl7u8SeeeEL33HNPtdZHiAMAAKjAxIkTdejQIc2fP1%2BSlJCQoPj4eL366qsVzr/88su1ceNGl7GUlBS98cYbuuGGG1zGExMT1bt3b%2BfX/v7%2B1V4fIQ4AABhh5Sbu%2B%2B%2B/1%2Beff66lS5cqIiJCkjRjxgzFxMRo7969at26dbltvLy8FBIS4jK2bt063XzzzfLz83MZDwgIKDe3urgmDgAAGFFWVvMfOTk52rlzp8tHTk5Oja89LS1N/v7%2BzgAnSV26dJG/v7/S0tKqtI%2Bvv/5amZmZuvvuu8s99tRTT%2Bnaa6/VoEGDtGTJEpVdQOKliQMAAJaRkpKi5ORkl7G4uDiNGzeuRp8nLy9PQUFB5caDgoKUl5dXpX2kpqaqTZs2ioyMdBl/5JFH1KNHD/n6%2BmrLli169tlnVVBQoLFjx1ZrjYQ4AABghInTqTExMYqKinIZq85pyaSkpHIh8NdSU1MrfczhcMjDw%2BO8z3Py5EmtWrWqwmD2y7F27dpJkubMmUOIAwAAdVdoaKhCQ0MvePuhQ4cqOjr6nHNatGihb7/9Vvn5%2BeUeO3z4cIUN3a999NFHOnnypO68887zzo2IiFBRUZHy8vIUHBx83vlnEeIAAIARtfHGhqZNm6pp06bnnWe321VYWKiMjAx17txZkrRjxw4VFhbKbrefd/tly5YpKiqqSs%2BVmZmphg0bVvrWJZXhxgYAAGCEiRsbfitt2rRR7969NX36dKWnpys9PV3Tp09X3759nXemHjp0SAMGDFBGRobLtv/5z3%2B0bdu2Cm9o2LBhg5YuXardu3frhx9%2B0HvvvafZs2dryJAh8vHxqdYaaeIAAAAq8Pzzz2vmzJkaNWqUpDNv9puQkOB8vKSkRPv27dOJEydctlu2bJmaNWumXr16ldtngwYN9M477ygxMVEOh0MtW7bU%2BPHjNXTo0Gqvz8PhcDiqvRUqVFjo7hXgfDw9JT8/qbi4dtb8%2BB//gPNfOAw3stul7dulyEipim%2B3ADdy07f6Hj1qfp9bttT8Pq2KJg4AABjBf5bN4po4AAAAC6KJAwAARtDEmUUTBwAAYEE0cQAAwAiaOLMIcQAAwAhCnFmcTgUAALAgmjgAAGAETZxZNHEAAAAWRBMHAACMoIkzixAHAACMIMSZxelUAAAAC6KJAwAARtDEmUUTBwAAYEE0cQAAwAiaOLMIcQAAwAhCnFmcTgUAALAgmjgAAGAETZxZNHEAAAAWRBMHAACMoIkzixAHAACMIMSZxelUAAAAC6KJAwAARtDEmUUTBwAAYEE0cQAAwAiaOLMIcQAAwAhCnFmcTgUAALAgmjgAAGAETZxZNHEAAAAWRBMHAACMoIkzixAHAACMIMSZxelUAAAAC6KJAwAARtDEmUUTBwAAYEE0cQAAwAiaOLMIcQAAwAhCnFmcTgUAALAgmjgAAGAETZxZNHEAAAAWRBMHAACMoIkzixAHAACMIMSZxelUAAAACyLEAQAAI8rKav7jt/TKK68oNjZWERER6tatW5W2cTgcSkpKUq9evdS5c2cNGzZMe/bscZlz9OhRTZo0SV27dlXXrl01adIkHTt2rNrrI8QBAAAjrB7iSkpKNGDAAN1zzz1V3ub111/XwoULlZCQoNTUVAUHB2vkyJEqKipyzpk4caJ27dql%2BfPna/78%2Bdq1a5fi4%2BOrvT5CHAAAQAXGjx%2BvP/zhD7LZbFWa73A49NZbb%2Bmhhx5S//79ZbPZ9Oyzz%2BrkyZNatWqVJOn777/X559/rpkzZ8put8tut2vGjBn65JNPtHfv3mqtjxsbAACAESaas5ycHOXm5rqMhYSEKDQ0tOafrJqysrKUm5urXr16Ocd8fHzUvXt3paWlKTY2VmlpafL391dERIRzTpcuXeTv76%2B0tDS1bt26ys9HiKtB/v7uXgHOJycnRwsWpCgmJqZW/IXHOTgc7l4BziEnJ0cpSUmK%2Begj/i6hUib%2BGiclpSg5OdllLC4uTuPGjav5J6ums%2BEyKCjIZTw4OFgHDx6UJOXl5ZV7/Ow2eXl51Xo%2BQhzqldzcXCUnJysqKopvPMBF4O8S3CUmJkZRUVEuYyEhIVXePikpqVwI/LXU1FR16tTpgtYnSR4eHi5fO6qQZh0OR7ntzocQBwAALCM0NPSi/uMwdOhQRUdHn3NOixYtLmjfZ8NkXl6eyxrz8/MVHBws6Uwrl5%2BfX27bw4cPV9jQnQshDgAA1BtNmzZV06ZNjey7RYsWCgkJ0aZNm9S%2BfXtJ0qlTp7Rt2zb9%2Bc9/liTZ7XYVFhYqIyNDnTt3liTt2LFDhYWFstvt1Xo%2B7k4FAACowMGDB5WZmamDBw%2BqtLRUmZmZyszMVHFxsXPOgAEDtHbtWklnTqMOHz5cr732mtauXavdu3drypQp8vX11a233ipJatOmjXr37q3p06crPT1d6enpmj59uvr27VutmxokmjjUMyEhIYqLi6vW9RMAyuPvEuqDl19%2BWStWrHB%2Bfeedd0qS3nrrLV177bWSpH379qmwsNA5Z/To0fr555/15JNP6ujRo4qIiNCCBQvUuHFj55znn39eM2fO1KhRoyRJUVFRSkhIqPb6PBxVudoOAAAAtQqnUwEAACyIEAcAAGBBhDgAAAALIsQBAABYECEOAADAgghxAAAAFkSIAwAAsCBCHAAAgAUR4gAAACyIEAcAAGBBhDgAAAALIsShTktKStKBAwfcvQwAAGocIQ512ieffKLf//73GjFihP7xj3/o559/dveSAMtbuXKlYmNj1atXL%2Bd/kt58802tW7fOzSsD6hdCHOq05cuXa/ny5QoPD1diYqJ69eqlxx9/XBkZGe5eGmBJ77zzjp555hn16dNHhYWFKisrkyQFBARo0aJFbl4dUL94OBwOh7sXAfwWTp8%2BrU8%2B%2BUTLli3Txo0bddVVV%2Bnuu%2B/WwIED5e/v7%2B7lAZYQHR2tP/3pT%2BrXr5/sdrs%2B%2BOADtWzZUrt379awYcP0xRdfuHuJQL1BE4d6o6ysTCUlJSopKZHD4dCll16qJUuWqE%2BfPlqzZo27lwdYQlZWltq1a1du3MfHRydOnHDDioD6q4G7FwCY9vXXX2v58uVavXq1vL29deeddyohIUFXXnmlJGnBggWaOXOmoqOj3bxSoPZr0aKFMjMzFRYW5jL%2B2Wef6Xe/%2B52bVgXUT4Q41Gm33Xab9u7dq549e%2Brpp59W37595eXl5TLnzjvv1N/%2B9jc3rRCwlvvvv19PPfWUTp06JUnKyMjQqlWrNG/ePM2cOdPNqwPqF66JQ502Z84c3X333WrWrJm7lwLUGUuXLtUrr7yi7OxsSVKzZs0UFxenwYMHu3llQP1CE4c6zeFwKCAgoNz4yZMnNX/%2BfMXFxblhVYC1DRkyREOGDNHhw4flcDgUFBTk7iUB9RJNHOq0du3aaePGjeW%2ByRQUFOj6669XZmamm1YGWNOPP/6o0tJStWrVymV8//79atCggVq0aOGehQH1EHenok5zOBzy8PAoN75r1y5deumlblgRYG1TpkxRWlpaufEdO3ZoypQpblgRUH9xOhV1Uvfu3eXh4SEPDw/ddNNNLkGutLRUx48fV2xsrBtXCFjTN998o6effrrceJcuXTRjxgw3rAiovwhxqJOmTp0qh8OhqVOnaty4cS5v5uvt7a2wsDDZ7XY3rhCwJg8PDxUXF5cbLywsVGlpqRtWBNRfXBOHOm3r1q2y2%2B3y9vZ291KAOuHBBx%2BUr6%2BvXnjhBefb9ZSWlmrChAk6fvy45s%2Bf7%2BYVAvUHIQ51TlFRkRo3buz8/FzOzgNQNd99952GDh2qgIAAdevWTZL05ZdfqqioSIsWLZLNZnPzCoH6gxCHOueXd6S2bdu2whsbzt7wwN2pQPUdOnRIixcv1q5du%2BTr6yubzab77rtPTZo0cffSgHqFEIc6Z%2BvWrYqMjFSDBg20devWc8695pprfqNVAQBQswhxqNMOHjyoyy%2B/vFwb53A4lJ2drebNm7tpZYB17Nq1SzabTZ6entq1a9c557Zt2/Y3WhUAQhzqNN7sF7h4bdu21aZNm1wuUajoWweXKAC/Ld5iBHVaZW/2e/z4cTVs2NANKwKsZ/369WratKnzcwC1AyEOdVJiYqKkM83Aiy%2B%2BqEsuucT5WGlpqTIyMjjtA1RRWFiYJKmkpETJyckaO3asWrZs6eZVASDEoU765ptvJJ1p4nbv3u3yPnE%2BPj5q27atRo0a5a7lAZbk7e2ttWvXauzYse5eCgBxTRzquClTpmjatGm8HxxQQ6ZMmSKbzaaRI0e6eylAvUeIAwBU2SuvvKIFCxaoR48e6tChg8ulCpI0fPhwN60MqH8IcajTjh8/rnnz5ulf//qX8vPzVVZW5vI4F2kD1RMVFVXpYx4eHvydAn5DXBOHOm369OnaunWr7rjjDoWEhFR4pyqAqtuwYYPz87MdAH%2BvAPegiUOd1q1bN7322mvq2rWru5cC1BnvvfeeFi1apP3790uSWrVqpREjRmjw4MHuXRhQz9DEoU4LCAjg5zkCNejFF1/UokWLdN9996lLly6SpPT0dP31r39VVlaWJkyY4OYVAvUHTRzqtPfff1/r16/Xs88%2BW%2B4CbADVd%2B211%2Bqxxx7Trbfe6jK%2BatUqzZgxQ1988YWbVvb/27u/UPb%2BOI7jr/H1LXahuSCllQt/GqVESSn/phTahWutuXUnNG4UJfe7NjdSIisXdqNckOKCtbjYlXZhy%2BZCwy5s/C6%2B9a391C8Nv9M5ez7uzmfn4nXh4tX7vX0ApYdJHCwtGAwqHo%2Brt7dXDf29ZvwAAANLSURBVA0N%2BvWr8E9%2Bf3/foGSAOb29vam9vf3DeVtbm/L5vAGJgNJFiYOlDQ8PGx0BsJSJiQltb2/L7/cXnO/s7Gh8fNygVEBpYp0KAPi0lZUVhUIh1dfXq6OjQ5IUiUSUSCTk8XgKpt3/LnoAvheTOADAp8ViMblcLklSPB6XJDkcDjkcDsVisb/vce0I8POYxMHS8vm8Njc3dXh4qEQiodfX14LPz8/PDUoGAMDXlBkdAPhJgUBAwWBQo6OjymQy8nq9crvdstlsmpmZMToeAABFY50KSzs4ONDq6qr6%2B/sVCAQ0NjYmp9OplpYWRSIRo%2BMBAFA0JnGwtHQ6rebmZkmS3W5XJpORJA0MDOj4%2BNjAZAAAfA0lDpZWV1enVColSXI6nTo9PZUkRaNR/f7928hoAAB8CetUWJrb7dbZ2Zk6Ojo0NTWl2dlZ7e7u6u7uTl6v1%2Bh4AAAUjV%2BnoqRcXV3p8vJSTqdTQ0NDRscBAKBolDgAAAATYp0KSwuFQv/5ucfj%2BZ%2BSAADwvZjEwdK6u7sLnnO5nLLZrCoqKlRZWcllvwAA02ISB0u7uLj4cHZ7e6vl5WVNT08bkAgAgO/BJA4lKRqNam5uTuFw2OgoAAAUhXviUJLKy8t1f39vdAwAAIrGOhWWdnR0VPD8/v6uVCqlra0tdXZ2GpQKAICvY50KS2ttbS14ttlsqqmpUU9PjxYWFlRbW2tQMgAAvoYSBwAAYEKsU2Fpa2trn37X7/f/YBIAAL4XJQ6WdnNzo%2Bvra729vamxsVHSnytGysrK5HK5/r5ns9mMiggAQFEocbC0wcFB2e12ra%2Bvq7q6WpL0%2BPgov9%2Bvrq4u%2BXw%2BgxMCAFAcvhMHS%2Bvr69PGxoaampoKzmOxmHw%2Bn05OTgxKBgDA13BPHCzt6elJ6XT6w/nDw4Oen58NSAQAwPegxMHS3G63FhcXFQ6HlUwmlUwmFQ6HtbS0pJGREaPjAQBQNNapsLRsNqv19XXt7e0pl8tJ%2BvPfGiYnJzU/P6%2BqqiqDEwIAUBxKHErCy8uL4vG4JMnpdFLeAACmR4kDAAAwIb4TBwAAYEKUOAAAABOixAEAAJgQJQ4AAMCEKHEAAAAmRIkDAAAwIUocAACACf0DzPv5R0QVxFkAAAAASUVORK5CYII%3D\" class=\"center-img\">\n",
       "    <img src=\"data:image/png;base64,iVBORw0KGgoAAAANSUhEUgAAAnEAAAIfCAYAAAAfc4oSAAAABHNCSVQICAgIfAhkiAAAAAlwSFlzAAAPYQAAD2EBqD%2BnaQAAADl0RVh0U29mdHdhcmUAbWF0cGxvdGxpYiB2ZXJzaW9uIDIuMi4yLCBodHRwOi8vbWF0cGxvdGxpYi5vcmcvhp/UCwAAIABJREFUeJzs3Xd8VFX%2B//F3SKEGgWQSJWBjd0IPE2AVAV0iixh1UVpwERRcUNwAIj%2BzUowNv9G1oBJREGVBEYMBscCqKOpXiqASQCEUKWogpBEgoabc3x8u82VMQhKZ4%2BSG1/PxmIeZc889c%2B4BnA/vW/CzLMsSAAAAbKWOrycAAACA6qOIAwAAsCGKOAAAABuiiAMAALAhijgAAAAboogDAACwIYo4AAAAG6KIAwAAsCGKOAAAABuiiAMAALChAF9PAEDlLMvShx9%2BqA8%2B%2BEBbt25VXl6e/P39FRISIofDoY4dO6pLly7q1q2bGjVq5OvpAgB%2BB37826lAzXbkyBH94x//0Pr1691tAQEBatSokQoLC1VcXOxuT0pKUv/%2B/X0xTQDA74wkDqjhEhIStH79evn7%2B%2Bv2229XXFycLr74YtWpU0fFxcX64Ycf9OWXX%2BqDDz7w9VQBAL8jkjigBtu7d6%2Buu%2B46SdLEiRM1evTos/Y/ceKE6tWr93tMDQDgYyRxQA2Wnp7u/vnaa6%2BttP%2BvC7iYmBjt27dPSUlJ6tOnj2bNmqWPP/5YmZmZql%2B/vjp37qy77rpLUVFRZx1369atev311/X1118rJydHderUUcuWLdWrVy/dfvvtatasWZl9ioqKtH79en322WfasGGDsrOzdejQIQUHB6tt27a65ZZbdMMNN8jPz6/MvuvWrdPw4cMlSdu3b9fWrVv16quv6uuvv1ZeXp6io6P1%2BuuvlznG66%2B/XnPmzNHy5cu1f/9%2BBQcHq1u3bho3bpxatmwpSTp48KBeffVVffLJJ8rMzFRwcLD%2B/Oc/a8KECQoNDTV6HD/%2B%2BKNefvllrVmzRnl5eWrWrJmuvvpqjR07VuHh4Wf9NQCAX6OIA2ziwIEDatWq1W/a98iRIxo4cKD27NmjwMBA1a1bV4cOHdKnn36qzz77TI899pgGDhxY7r4vvPCCZs6cqdOhff369VVUVKTt27dr%2B/btWrx4sWbPnq22bdt67LdhwwaNHDnS/T4oKEiBgYE6ePCgVq1apVWrVmnFihWaPn266tSp%2BEb5jz76SBMnTlRRUZEaNWokf3//cvsVFBQoLi5O27dvV926deXn56ecnBy99957Wrt2rd566y1ZlqU77rhDGRkZql%2B/vkpLS5Wbm6vU1FR98803Wrx4cZkbQ7x1HF999ZXGjBmjY8eOqWHDhrIsS1lZWXr77bf1xRdfKDU1lUIOQPVYAGqsn3/%2B2YqMjLScTqd14403Wrt3767W/r169bKcTqfVuXNnq2vXrtby5cutoqIiy7Is64cffrBuu%2B02y%2Bl0Wm3btrW%2B//77MvvPnTvXcjqdlsvlsmbNmmVlZ2dblmVZxcXF1nfffWcNHz7ccjqd1tVXX20VFhZ67Ltx40brvvvusz7//HMrJyfHKi0ttSzLsvLz86158%2BZZ0dHRltPptObNm1fmc7/66ivL6XRaTqfT6tSpkzVq1Cjrhx9%2BcG/fs2dPmWPs0qWL1atXL2vVqlVWSUmJVVxcbK1atcq64oorLKfTaY0fP94aOHCg1a9fPystLc2yLMs6deqUtWzZMisqKspyOp3Ws88%2BW2Yu3jqOrl27Wnfffbf7OE6ePGktW7bMcrlcltPptO6///6KfyEBoBwUcUANN3XqVHchEBkZad18883Www8/bL399tvW9u3b3UVFeU4XOE6n01qzZk2Z7cePH7f69OljOZ1Oa9SoUR7b8vLyrKioKCsyMrLcfS3LsoqKiqxbbrnFcjqd1ty5c6t1XP/5z38sp9Np9e7du8y2M4ufgQMHWsXFxZUeY8eOHa29e/eW2f7222%2B7x7rqqqusgwcPlunz3HPPVTgXbx3HsGHDrJKSkjJ95s%2Bf757/6QIbAKqCh/0CNdxDDz2ke%2B65Rw0aNJBlWdq6davefPNNTZkyRTfddJO6d%2B%2BupKQk5ebmVjhGdHS0unXrVqa9Xr16uvPOOyVJX375pQoKCtzb3n//fR0/flzt27cvd1/pl0ed3HjjjZKkVatWVeu4/vznP0uSfvrpJ2VnZ1fY784776zwFOqZ%2BvTpo0suuaRMe8%2BePd0/Dx48WE2bNi3Tp0ePHu65HDt2rNLPOlNVj%2BPuu%2B8u93Tr6WsdT5w4oR9//LFanw3g/MY1cUANFxAQoPHjx2vkyJFauXKlvv76a3333XfatWuXioqKlJeXp3//%2B9969913NXv2bHXs2LHMGFdeeWWF45/eVlpaqi1btrjff/vtt5KknTt3qnv37hXuf%2BLECUnS/v37y2wrLCzUW2%2B9pc8//1y7du1SQUGBioqKyvTLyspSWFhYueNHR0dX%2BNlnKu%2B4JSkkJMT9c4cOHcrtc%2BYNDQUFBWrQoIHHdm8cR0XzO7P/oUOHyu0DAOWhiANsIjg4WP369VO/fv0kSSdPntS3336r%2BfPn67PPPlN%2Bfr7Gjh2rjz/%2BWHXr1vXY92wXzJ%2B57eDBg%2B6fT6dKJ06ccBdqZ/PrPnv27NEdd9yhAwcOuNvq16%2Bv4OBgdyJ1Oj08fvx4heOeWYSdTcOGDcttDwgIqLTPmUnfr4szbx1HRf%2BSxpnzO/PBzQBQGYo4wKbq1q2rq666SldddZUeeOABvfPOOzpw4IC%2B/PJL9e7d26NveY%2B/qGxbaWmpJGnIkCF65JFHqj2/SZMm6cCBA4qIiFBCQoKuvPJKNWnSxL29pKTEfUerdZbHVVblVKpJ3joOAPA2rokDaoHBgwe7f969e3eZ7WemSGfbdubz3k6fYtyxY0e155OZmam0tDRJ0rPPPqu%2Bfft6FD6SznoNX01RW44DQO1EEQfUAmdewxUUFFRm%2B7p16yrc9/S2OnXqeDzr7fS1aJs2bdK%2BffuqNZ/MzEz3z79%2Bftxpa9asqdaYvlBbjgNA7UQRB9RgP//8s/bs2VNpv6VLl7p/bteuXZnt3377bbmF3MmTJ/Xaa69J%2BuUOzcaNG7u39evXT/Xq1VNJSYkeffRRlZSUVPj5paWlOnLkiPt9cHCw%2B%2Bdt27aV6V9YWKiXXnqpkqPyvdpyHABqJ4o4oAb74YcfFBsbq9GjR2vp0qXKyMhwbysqKtLWrVs1adIkzZ07V9Ivd0B27ty5zDjBwcEaN26cPvzwQ/fF87t27dLo0aO1e/du%2Bfv7a9y4cR77OBwOTZw4UZL0%2Beefa8SIEfr222/dxZxlWdq1a5fmzp2rG2%2B8UZ999pl73z/84Q9q3ry5JGny5Mn6/vvv3dvS0tI0fPhwHT582BtLZFRtOQ4AtRM3NgA1WEBAgEpLS/XFF1/oiy%2B%2BkCQFBgaqYcOGOnz4sMeF9O3atVNycnK5zyKLj4/XW2%2B9pfHjxysoKEh169Z1PxPOz89PDz/8cLmP3xg%2BfLhOnTqlZ599VuvWrdPf/vY39%2BcfPXrU407OM2%2BQ8PPzU2JiouLj47Vz504NGDBA9evXl/TLHZz169fXSy%2B9pDvuuMMr62RKbTkOALUTRRxQg/Xs2VMff/yxvvjiC3377bfauXOnDhw4oCNHjqh%2B/foKCwtTmzZt1KdPH/Xt27fCf7uzcePGSk1N1axZs/Txxx8rMzNTTZo0kcvl0l133SWXy1XhHP7%2B97/rL3/5i958802tXbtW%2B/btU0FBgRo1aqSLL75YV1xxhXr37q1OnTp57NerVy%2B98cYbevnll7VhwwYdP35cDodD119/vUaNGqXLL7/cq2tlSm05DgC1j5/FPfFArRUTE6N9%2B/YpKSlJ/fv39/V0AABexDVxAAAANkQRBwAAYEMUcQAAADZEEQcAAM4rX3/9te6%2B%2B2716NFDkZGR%2BuSTTyrdZ/369erfv786dOiga6%2B9VgsXLizTZ8GCBYqJiVGHDh3Uv39/ffPNNyam70YRB9RiK1eu1Pbt27mpAQDOcOzYMUVGRioxMbFK/X/%2B%2BWeNHj1anTt31tKlS3X33Xfr8ccf10cffeTus3z5ciUlJWnMmDFaunSpOnfurFGjRmn//v2mDoO7UwEAwPkrMjJSL774onr37l1hn6eeekorV67Uf/7zH3dbYmKitm/frpSUFEnSoEGD1LZtWz3yyCPuPtdff7169%2B7tfnC6t/GcOAAAYBvZ2dnKycnxaHM4HAoLCzP2mRs3blT37t092nr27KnFixerqKhIlmVpy5YtGj16tEef7t27Ky0tzdi8KOK86Ywn1qOGuuwyaedO6Y9/lKrwb5LCd7IOcJKgJvP3l0JCpLw86Sz/rC5qiPBwH32wge/FlBdeUHJyskdbfHy8xo4d6/XPOi03N1ehoaEebSEhISouLlZ%2Bfr4sy1JJSYlCQkI8%2BoSGhpYpOL2JIg7nlyZNfvn2adLE1zMBbM3P7/9ewO8pLi5OMTExHm0Oh8P45/r96jf76avR/Pz8PH7%2BdZ9ft3kTRRwAADCjgn8K8FyEhYUZPXVanvIStYMHDyogIEBNmjSRZVny9/dXbm6uR5%2B8vLwyCZ43cXcqAADAWXTq1Elr1qzxaFu1apXat2%2BvwMBABQUFqV27dlq9erVHnzVr1pz136Y%2BVxRxAADAjDp1vP/ygqNHjyo9PV3p6emSpIyMDKWnp7sfB/LMM88oISHB3X/IkCHav3%2B/kpKStGvXLqWmpmrx4sUaOXKku8%2BIESOUmpqq1NRU7dq1S//zP/%2BjzMxMDRkyxCtzLg%2BnUwEAgBkGTqd6w/fff6/hw4e73yclJUmSbrnlFj3xxBPKyclRZmame3vLli01e/ZsJSUlacGCBQoLC9OUKVN03XXXufvExsYqPz9fM2fOVHZ2tpxOp2bPnq2IiAhjx8Fz4ryJK3xrPpdL2rBBio6WDN72jXPH3ak1W0DA/92dWlzs69mgMj67O7VuXe%2BPefKk98e0KZI4AABgRg1N4moLVhcAAMCGSOIAAIAZJHFGUcQBAAAzKOKMYnUBAABsiCQOAACYQRJnFKsLAABgQyRxAADADJI4oyjiAACAGRRxRrG6AAAANkQSBwAAzCCJM4oiDgAAmEERZxSrCwAAYEMkcQAAwAySOKNYXQAAABsiiQMAAGaQxBlFEQcAAMygiDOK1QUAALAhkjgAAGAGSZxRrC4AAIANkcQBAAAzSOKMoogDAABmUMQZxeoCAADYEEkcAAAwgyTOKFYXAADAhkjiAACAGSRxRlHEAQAAMyjijGJ1AQAAbIgkDgAAmEESZxSrCwAAYEMkcQAAwAySOKMo4gAAgBkUcUaxugAAADZEEgcAAMwgiTOK1QUAALAhkjgAAGAGSZxRFHEAAMAMijijWF0AAAAbIokDAABmkMQZxeoCAADYEEkcAAAwgyTOKIo4AABgBkWcURRxAADgvLNgwQK9%2BuqrysnJ0R//%2BEdNnjxZXbp0KbfvsGHDtH79%2BjLt11xzjWbPni1JeuCBB/TOO%2B94bI%2BKitKiRYu8P/n/oogDAABm1NAkbvny5UpKStJDDz2k6OhovfXWWxo1apSWLVum5s2bl%2Bk/Y8YMFRUVud8fOnRI/fr1U9%2B%2BfT369ezZU0lJSe73gYGB5g5C3NgAAADOM3PnztWAAQM0aNAgtWrVSlOmTNGFF16ohQsXltu/SZMmcjgc7tfq1atVr169MkVcUFCQR78mTZoYPQ6SOAAAYIaBJC47O1s5OTkebQ6HQ2FhYVXa/9SpU9qyZYtGjx7t0d69e3elpaVVaYzFixfrhhtuUIMGDTza169fr27duqlx48bq2rWrJkyYoJCQkCqN%2BVtQxAEAADMMFHEpKSlKTk72aIuPj9fYsWOrtH9%2Bfr5KSkrKFFehoaFlisPybN68WTt27NDjjz/u0X711Verb9%2B%2Bat68uTIyMvT888/r9ttv15IlSxQUFFSluVUXRRwAALCNuLg4xcTEeLQ5HI5qj%2BPn5%2Bfx3rKsMm3lSU1NldPpVMeOHT3aY2Nj3T87nU61b99eMTEx%2Bvzzz9WnT59qz68qKOIAAIAZBpK4sLCwKp86LU/Tpk3l7%2B%2Bv3Nxcj/a8vDyFhoaedd/jx49r2bJlGjduXJXm2bx5c%2B3du/c3z7Uy3NgAAADOG0FBQWrXrp1Wr17t0b5mzRq5XK6z7vuf//xHp06d0l//%2BtdKPyc/P1%2BZmZnnVHBWhiQOAACYUUMfMTJixAglJCSoffv2crlcSklJUWZmpoYMGSJJSkhIUHh4uCZOnOixX2pqqnr37q2mTZt6tB89elTJycnq06ePHA6H9u3bp%2BnTp6tp06bq3bu3seOgiAMAAGbU0CIuNjZW%2Bfn5mjlzprKzs%2BV0OjV79mxFRERIkjIzM1XnV3Pfs2ePvv32W7322mtlxvP399eOHTu0dOlSFRQUyOFw6IorrtD06dPVqFEjY8fhZ1mWZWz0800VLoiEj7lc0oYNUnS0VMVbyeEbWQf4X1NNFhAghYRIeXlScbGvZ4PKhIf76IOvu877Y370kffHtCmSOAAAYEYNTeJqC4o4AABgBkWcUawuAACADZHEAQAAM0jijGJ1AQAAbIgkDgAAmEESZxRFHAAAMIMizihWFwAAwIZI4gAAgBkkcUaxugAAADZEEgcAAMwgiTOKIg4AAJhBEWcUqwsAAGBDJHEAAMAMkjijWF0AAAAbIokDAABmkMQZRREHAADMoIgzitUFAACwIZI4AABgBkmcUawuAACADZHEAQAAM0jijKKIAwAAZlDEGcXqAgAA2BBJHAAAMIMkzihWFwAAwIZI4gAAgBkkcUZRxAEAADMo4oxidQEAAGyIJA4AAJhBEmcUqwsAAGBDJHEAAMAMkjijKOIAAIAZFHFGsboAAAA2RBIHAADMIIkzitUFAACwIZI4AABgBkmcURRxAADADIo4o1hdAAAAGyKJAwAAZpDEGcXqAgAA2BBJHAAAMIMkzqhatbrr1q1TZGSkjhw54uupAACAOnW8/4KbbVdj2LBhevzxxz3aXC6XVq1apeDgYEnSkiVL1KVLF19MDwAA1GALFixQTEyMOnTooP79%2B%2Bubb76psO%2BSJUsUGRlZ5nXy5MnfPKY32LaIK09QUJAcDof8/Px8PRUAAFBDk7jly5crKSlJY8aM0dKlS9W5c2eNGjVK%2B/fvr3CfRo0aadWqVR6vunXrntOY56raq3Hs2DElJCTI5XKpR48eeu211zxSscjISH3yySce%2B3Tp0kVLlixxv3/qqad03XXXKSoqStdee62ee%2B45FRUVubfPmDFD/fr109KlSxUTE6POnTtrwoQJKiwslCQ98MADWr9%2BvebPn%2B%2BuhjMyMjxOp65bt06TJk1SQUGBu8%2BMGTOUnJysm266qcxx9e/fX88//3x1lwMAANjM3LlzNWDAAA0aNEitWrXSlClTdOGFF2rhwoUV7uPn5yeHw%2BHxOtcxz1W1b2z417/%2BpXXr1ik5OVmhoaGaPn26vv/%2Be7Vu3brKYzRs2FBJSUkKCwvTjh079OCDD6phw4YaNWqUu89PP/2kTz/9VC%2B//LKOHDmie%2B%2B9V6%2B88oomTJigKVOmaO/evfrjH/%2BocePGSZKaNWumffv2ufd3uVyaPHmyXnjhBX344YeSpAYNGqigoEAvvviiNm/erI4dO0qStm3bpq1bt1ariMvOzlZOTo5Hm%2BOyyxTWpEmVx4APnP59Wo3fr/CNAG67qtH8/T3/i5qruNiHH27gGrZyv38dDoWFhVVp/1OnTmnLli0aPXq0R3v37t2VlpZW4X7Hjh1Tr169VFJSojZt2mj8%2BPFq27btOY15rqr1v8mjR48qNTVV//rXv9S9e3dJ0hNPPKFrrrmmWh96zz33uH9u0aKFdu/ereXLl3sUcZZlKSkpSY0aNZIk/fWvf9XatWs1YcIEBQcHKzAwUPXq1StTCZ8WFBSk4OBgd%2BV8WsOGDdWjRw8tWbLEXcQtWbJEXbt2VcuWLat8DCkpKUpOTvZoix8/XmPHj6/yGPChN9/09QxQiRBfTwBVwt9ba76sLB9%2BuIEirtzv3/h4jR07tkr75%2Bfnq6SkRCEhnv%2BXCQ0NLVMcnnb55ZcrKSlJkZGRKiws1Pz583Xrrbfq3Xff1aWXXvqbxvSGahVxP//8s4qKitSpUyd3W5MmTXTZZZdV60M//PBDzZs3Tz/99JOOHTum4uJid7F2WkREhEdbWFiY8vLyqvU5FRk8eLAmT56sSZMmqU6dOnr//ff1z3/%2Bs1pjxMXFKSYmxqPNcdNN0rx5XpkjDGnd%2BpcC7m9/k7Zt8/VscBZ5Kzb4ego4C3//Xwq4Q4ekkhJfzwbnk3K/fysIdM7m19fPW5ZV4TX1nTp18qh9oqOjdcstt%2BiNN97Q1KlTf9OY3lCtIs6yrEr7%2BPn5lelXfEaWu3HjRt13330aO3asevTooeDgYC1btkxz5871nFg551Kq8vlV0atXLwUFBWnFihUKCgrSqVOndN1111VrjLCwsLLR7Z49XpkffgfbtkkGI26cO5%2BeAkKVlZTwa4WzMJDElfv9Ww1NmzaVv7%2B/cnNzPdrz8vIUGhpapTHq1KmjDh06aO/evV4b87eo1upefPHFCgwM1MaNG91thw8fdh%2BE9Mu1adnZ2e73e/fu1fHjx93vN2zYoObNm2vMmDHq0KGDLr300t9050ZgYKBKS0sr7VNSzl8RAwICdPPNN2vJkiVasmSJbrjhBtWvX7/acwAAAGdRA%2B9ODQoKUrt27bR69WqP9jVr1sjlclVpDMuylJ6e7k4AvTHmb1GtJK5hw4YaMGCAnnrqKTVt2lQhISGaPn26R1R45ZVXasGCBerUqZNKS0v19NNPKzAw0L394osvVmZmppYtW6YOHTro888/L3M3a1VERERo06ZNysjIUIMGDdSknAszIiIidOzYMa1du1aRkZGqX7%2B%2Bu1gbNGiQYmNjJcnonSMAAKBmGTFihBISEtS%2BfXu5XC6lpKQoMzNTQ4YMkSQlJCQoPDxcEydOlCQlJycrKipKl156qfuauG3btumhhx6q8pgmVPv%2Br4SEBB07dkxjxoxRw4YNNWLECPejPyTpn//8pyZPnqzbbrtNYWFhmjx5srZs2eLe3rt3b91%2B%2B%2B169NFHderUKf35z3/WmDFjylykWJmRI0fqgQce0A033KATJ07o008/LdMnOjpaQ4YM0b333qtDhw55XPh46aWXyuVy6dChQ4qKiqruMgAAgMrU0H9hITY2Vvn5%2BZo5c6ays7PldDo1e/ZsRURESJIyMzNV54y5HzlyRImJicrJyVFwcLDatm2rN954w32DZFXGNMHP8sKFZsOGDVPr1q01ZcoUb8zpd2FZlvr27ashQ4ZoxIgR3hmUhwzXfC6XtGGDFB3NNXE1XNYB71wDCzMCAqSQECkvj2vi7CA83EcfnJTk/TEnTfL%2BmDZ1Xj6JKS8vT%2B%2B%2B%2B66ys7PVv39/X08HAIDaqYYmcbXFeVnEXXXVVWratKkeffRRXXDBBb6eDgAAtRNFnFFeKeJef/11bwzzu9m%2BfbuvpwAAAHBOzsskDgAA/A5I4oxidQEAAGyIJA4AAJhBEmcURRwAADCDIs4oVhcAAMCGSOIAAIAZJHFGsboAAAA2RBIHAADMIIkziiIOAACYQRFnFKsLAABgQyRxAADADJI4o1hdAAAAGyKJAwAAZpDEGUURBwAAzKCIM4rVBQAAsCGSOAAAYAZJnFGsLgAAgA2RxAEAADNI4oyiiAMAAGZQxBnF6gIAANgQSRwAADCDJM4oVhcAAMCGSOIAAIAZJHFGUcQBAAAzKOKMYnUBAABsiCQOAACYQRJnFKsLAABgQyRxAADADJI4oyjiAACAGRRxRrG6AAAANkQSBwAAzCCJM4rVBQAAsCGSOAAAYAZJnFEUcQAAwAyKOKNYXQAAABsiiQMAAGaQxBlFEQcAAMygiDOK1QUAALAhkjgAAGAGSZxRrC4AADjvLFiwQDExMerQoYP69%2B%2Bvb775psK%2BixYt0t/%2B9jd17dpVXbt21R133KHNmzd79HnggQcUGRnp8Ro8eLDRYyCJAwAAZtTQJG758uVKSkrSQw89pOjoaL311lsaNWqUli1bpubNm5fpv27dOt1www2Kjo5WUFCQ5syZo5EjR2rZsmUKDw939%2BvZs6eSkpLc7wMDA40eR81cXQAAYH916nj/5QVz587VgAEDNGjQILVq1UpTpkzRhRdeqIULF5bb/5lnntHQoUPVpk0btWrVStOmTVNpaanWrl3r0S8oKEgOh8P9atKkiVfmWxGSOAAAYBvZ2dnKycnxaHM4HAoLC6vS/qdOndKWLVs0evRoj/bu3bsrLS2tSmMcP35cxcXFuuCCCzza169fr27duqlx48bq2rWrJkyYoJCQkCqN%2BVtQxAEAADMMnE5NSUlRcnKyR1t8fLzGjh1bpf3z8/NVUlJSprgKDQ0tUxxW5JlnnlF4eLiuuuoqd9vVV1%2Btvn37qnnz5srIyNDzzz%2Bv22%2B/XUuWLFFQUFCVxq0uijgAAGAbcXFxiomJ8WhzOBzVHsfPz8/jvWVZZdrK88orr2jZsmWaP3%2B%2B6tat626PjY11/%2Bx0OtW%2BfXvFxMTo888/V58%2Bfao9v6qgiAMAAGYYSOLCwsKqfOq0PE2bNpW/v79yc3M92vPy8hQaGnrWfV999VXNmjVLc%2BfOVevWrSudZ/PmzbV3797fPNfKcGMDAAAwowbe2BAUFKR27dpp9erVHu1r1qyRy%2BWqcL85c%2BZo5syZmjNnjjp06FDp5%2BTn5yszM/OcCs7KkMQBAIDzyogRI5SQkKD27dvL5XIpJSVFmZmZGjJkiCQpISFB4eHhmjhxoqRfTqE%2B//zzeuaZZxQREeG%2Bdq5BgwZq2LChjh49quTkZPXp00cOh0P79u3T9OnT1bRpU/Xu3dvYcVDEAQAAM2roc%2BJiY2OVn5%2BvmTNnKjs7W06nU7Nnz1ZERIQkKTMzU3XOmPvChQtVVFSkcePGeYxz%2BoYKf39/7dixQ0uXLlVBQYEcDoeuuOIKTZ8%2BXY0aNTJ2HH6WZVnGRj/fVOGCSPiYyyVt2CBFR0tVvJWnmZExAAAgAElEQVQcvpF1gP811WQBAVJIiJSXJxUX%2B3o2qMwZz6P9ff3qOWpe0a2b98e0KZI4AABgRg1N4moLijgAAGAGRZxRrC4AAIANkcQBAAAzSOKMYnUBAABsiCQOAACYQRJnFEUcAAAwgyLOKFYXAADAhkjiAACAGSRxRrG6AAAANkQSBwAAzCCJM4oiDgAAmEERZxSrCwAAYEMkcQAAwAySOKNYXQAAABsiiQMAAGaQxBlFEQcAAMygiDOK1QUAALAhkjgAAGAGSZxRrC4AAIANkcQBAAAzSOKMoogDAABmUMQZxeoCAADYEEkcAAAwgyTOKFYXAADAhkjiAACAGSRxRlHEAQAAMyjijGJ1AQAAbIgkDgAAmEESZxRFHAAAMIMizihWFwAAwIZI4gAAgBkkcUaxugAAADZEEgcAAMwgiTOKIg4AAJhBEWcUqwsAAGBDJHEAAMAMkjijWF0AAAAbIokDAABmkMQZRREHAADMoIgzitUFAACwIZI4AABgBkmcUawuAAA47yxYsEAxMTHq0KGD%2Bvfvr2%2B%2B%2Beas/T/66CPFxsaqffv2io2N1YoVKzy2W5alGTNmqEePHurYsaOGDRumnTt3mjwEijgAAGBInTref3nB8uXLlZSUpDFjxmjp0qXq3LmzRo0apf3795fbPy0tTRMmTFC/fv307rvvql%2B/frr33nu1adMmd59XXnlFc%2BfOVWJiolJTUxUaGqoRI0aosLDQK3MuD0UcAAAwo4YWcXPnztWAAQM0aNAgtWrVSlOmTNGFF16ohQsXltt/3rx5uuqqq3TXXXepVatWuuuuu3TllVdq3rx5kn5J4ebPn6%2B7775bffr0kdPp1JNPPqkTJ07ogw8%2B8Mqcy8M1cV6UdcDy9RRQiYAAKURS3ooNKi729WxwNuEX%2Bvl6Cjgbl0vasEEhf4mW0tJ8PRtUxqo930/Z2dnKycnxaHM4HAoLC6vS/qdOndKWLVs0evRoj/bu3bsrrYLfyxs3btQdd9zh0dazZ093EZeRkaGcnBz16NHDvT0oKEhdu3ZVWlqahgwZUqW5VRdFHAAAMMKS9/8ylpKSouTkZI%2B2%2BPh4jR07tkr75%2Bfnq6SkRCEhIR7toaGhZYrD03Jzc8v0DwkJcfc//d/yxqzoFK03UMQBAADbiIuLU0xMjEebw%2BGo9jh%2Bfp4FpmVZZdqq27%2B8PiZRxAEAACNKS70/ZlhYWJVPnZanadOm8vf3V25urkd7Xl6eQkNDy90nNDS0TP%2BDBw%2B6%2B58uInNzcz3mdrYxvYEbGwAAgBGlpd5/naugoCC1a9dOq1ev9mhfs2aNXC5Xuft06tSpTP9Vq1a5%2B7do0UIOh8Ojz6lTp/T1119XOKY3kMQBAIDzyogRI5SQkKD27dvL5XIpJSVFmZmZ7hsQEhISFB4erokTJ0qShg8frttuu02zZ8/Wtddeq08//VRr167Vm2%2B%2BKemX06jDhw/XrFmzdOmll%2BqSSy7RrFmzVK9ePd14443GjoMiDgAAGGHidKo3xMbGKj8/XzNnzlR2dracTqdmz56tiIgISVJmZqbqnPE4k%2BjoaD377LN67rnn9MILL6hly5aaPn26oqKi3H1GjRqlkydP6pFHHtHhw4cVFRWl1157TY0aNTJ2HH6W6avuziNZWb6eASoTECCFhEh5eeIRIzUcjxip4f77iBFF84gRW/DRV/3Jk94fs25d749pVyRxAADAiJqaxNUWFHEAAMAIijizuDsVAADAhkjiAACAESRxZpHEAQAA2BBJHAAAMIIkziyKOAAAYARFnFmcTgUAALAhkjgAAGAESZxZJHEAAAA2RBIHAACMIIkziyIOAAAYQRFnFqdTAQAAbIgkDgAAGEESZxZJHAAAgA2RxAEAACNI4syiiAMAAEZQxJnF6VQAAAAbIokDAABGkMSZRRIHAABgQyRxAADACJI4syjiAACAERRxZnE6FQAAwIZI4gAAgBEkcWZRxAEAACMo4szidCoAAIANkcQBAAAjSOLMIokDAACwIZI4AABgBEmcWRRxAADACIo4szidCgAAYEMkcQAAwAiSOLNI4gAAAGyIJA4AABhBEmcWRRwAADCCIs4sTqcCAADYEEkcAAAwgiTOLJI4AAAAGyKJAwAARpDEmUURBwAAjKCIM4vTqQAAADZEEgcAAIwgiTOLIg4AAKAchw8f1rRp07Ry5UpJUkxMjB588EE1bty43P6HDh3SjBkztGrVKh04cEBNmzZV7969NX78eAUHB7v7RUZGltn34Ycf1q233lqt%2BVHEAQAAI%2ByexE2cOFFZWVmaM2eOJCkxMVEJCQl6%2BeWXy%2B2fnZ2t7Oxs/fOf/9Qf/vAH7du3Tw8//LCys7P1wgsvePRNSkpSz5493e/PLPKqiiIOAAAYYaKIy87OVk5Ojkebw%2BFQWFiYVz9n165d%2BvLLL7Vo0SJFRUVJkh577DHFxcVp9%2B7duvzyy8vs43Q6NWPGDPf7iy%2B%2BWPfee6/uv/9%2BFRcXKyDg/8quxo0by%2BFwnNMcubEBAADYRkpKivr37%2B/xSklJ8frnpKWlKTg42F3ASVKnTp0UHBystLS0Ko9TWFioRo0aeRRwkvToo4/qiiuu0IABA7Rw4UKV/oaKlyQOAAAYYSKJi4uLU0xMjEfbuSZa5cnNzVVISEiZ9pCQEOXm5lZpjPz8fM2cOVNxcXEe7ePHj1e3bt1Ur149rV27Vk8%2B%2BaTy8/N1zz33VGuOFHEAAMA2wsLCzunU6YwZM5ScnHzWPqmpqRVusyxLfn5%2BlX5OYWGh7rrrLrVq1Urx8fEe284s1tq0aSNJevHFFyniAABAzVATb2wYOnSoYmNjz9qnRYsW2r59u/Ly8spsO3jwYLkJ3ZkKCwv197//XQ0aNNCLL76owMDAs/aPiopSYWGhcnNzFRoaWvlB/BdFHAAAMKImFnHNmjVTs2bNKu3ncrlUUFCgzZs3q2PHjpKkTZs2qaCgQC6Xq8L9CgsLdeeddyooKEgvvfSS6tatW%2Blnpaenq27duhU%2BuqQi3NgAAADwK61atVLPnj01depUbdy4URs3btTUqVPVq1cv952pWVlZ6tu3rzZv3izplwJu5MiROnbsmB5//HEVFhYqJydHOTk5KikpkSStXLlSixYt0o4dO/TTTz/p7bff1vTp0zV48GAFBQVVa44kcQAAwIiamMRVx9NPP61p06Zp5MiRkn552G9iYqJ7e1FRkfbs2aPjx49LkrZs2aJNmzZJkv7yl794jPXpp5%2BqRYsWCggI0JtvvqmkpCRZlqWWLVtq3LhxGjp0aLXn52dZlvVbDw6esrJ8PQNUJiBACgmR8vKk4mJfzwZnE35h5RcOw4dcLmnDBik6WqrG4xbgIz76qv/oI%2B%2BPed113h/TrkjiAACAEXZP4mo6ijgAAGAERZxZ3NgAAABgQyRxAADACJI4s0jiAAAAbIgkDgAAGEESZxZFHAAAMIIizixOpwIAANgQSRwAADCCJM4skjgAAAAbIokDAABGkMSZRREHAACMoIgzi9OpAAAANkQSBwAAjCCJM4siDgAAGEERZxanUwEAAGyIJA4AABhBEmcWSRwAAIANkcQBAAAjSOLMoogDAABGUMSZxelUAAAAGyKJAwAARpDEmUUSBwAAYEMkcQAAwAiSOLMo4gAAgBEUcWZxOhUAAMCGSOIAAIARJHFmkcQBAADYEEkcAAAwgiTOLIo4AABgBEWcWZxOBQAAsCGSOAAAYARJnFkkcQAAADZEEgcAAIwgiTOLIg4AABhBEWcWp1MBAABsiCQOAAAYQRJnFkkcAACADZHEAQAAI0jizKKIAwAARlDEmWX706kZGRmKjIxUenq6r6cCAADwu7F9EXfRRRdp1apV%2BuMf/%2BjrqQAAgDOUlnr/9Xs6fPiw7r//fnXu3FmdO3fW/fffryNHjpx1n2HDhikyMtLjNWHChHMetzy2Pp166tQpBQUFyeFw%2BHoqAACglpk4caKysrI0Z84cSVJiYqISEhL08ssvn3W/wYMHa9y4ce739erV88q4v1ajirhhw4a5E7X33ntP/v7%2BGjJkiO699175%2BfkpJiZGAwcO1E8//aQVK1aod%2B/eGjt2rK699lotXbpUbdq0kSTt3LlTTz31lL755htZlqU2bdroiSee0MUXXyxJWrx4sebMmaOMjAxFRERo2LBhGjp0qM%2BOGwCA2sjO18Tt2rVLX375pRYtWqSoqChJ0mOPPaa4uDjt3r1bl19%2BeYX71qtXr8KA6VzG/bUaVcRJ0jvvvKOBAwdq0aJF%2Bv7775WYmKiIiAgNHjxYkvTqq6/qnnvu0ZgxY8rdPysrS7fddpv%2B9Kc/ad68eWrUqJE2bNig4uJiSdKiRYv0wgsvKDExUW3atFF6eroefPBBNWjQQLfcckuV55mdna2cnByPNn9/hxyOsN945Pg9%2BPt7/hc1mMvl6xngbFq39vwvaq60NJ99tIkirrzvX4fDobAw737/pqWlKTg42F1oSVKnTp0UHBystLS0sxZb77//vt577z2Fhobq6quv1j/%2B8Q81atTonMf9tRpXxF100UWaPHmy/Pz8dPnll2vHjh3697//7S7irrzySt15553u/hkZGR77L1iwQI0aNdKzzz6rwMBASdJll13m3j5z5kw98MAD6tOnjySpZcuW%2BuGHH5SSklKtIi4lJUXJyckebf/4R7zGjRtbvQOGTzRp4usZoFIbNvh6BqiKN9/09QxQGT8/X8/Aq8r7/o2Pj9fYsd79/s3NzVVISEiZ9pCQEOXm5la430033aQWLVooNDRUO3fu1DPPPKNt27Zp7ty55zRueWpcERcVFSW/M37DderUSXPnzlVJSYkkqX379mfdPz09XV26dHEXcGc6ePCgMjMzNWXKFD344IPu9uLiYgUHB1drnnFxcYqJifFo8/d3KC%2BvWsPgd%2Bbv/0sBd%2BiQ9N/fUqihQv4S7esp4Gxat/6lgPvb36Rt23w9G9RQJpK48r5/q3Nt/IwZM8oUgb%2BWmppa4TbLsjzqlF87HTpJktPp1CWXXKIBAwZoy5Ytateu3W8etzw1roirTP369c%2B6/dcXD56p9L%2B/mx577DGPGFOS6tSp3o26YWFhZaLbrCzpv2dtUcOVlPBrVeP58BQQqmHbNn6t8Lsq7/u3OoYOHarY2Niz9mnRooW2b9%2BuvHKSmYMHD5abpFWkXbt2CgwM1I8//qh27dopNDTUK%2BNKNbCI27RpU5n3l1xyifyreBFTZGSk3nnnHRUVFZVJ40JDQxUeHq6ff/5Zf/3rX702ZwAAUFZNvLGhWbNmatasWaX9XC6XCgoKtHnzZnXs2FHSLzVJQUGBXNW4Znfnzp0qKipyp4XeGleqgc%2BJy8zMVFJSknbv3q0PPvhAb7zxhoYPH17l/YcOHarCwkLdd999%2Bu6777R3714tXbpUu3fvliSNHTtWs2fP1rx587Rnzx5t375dixcvdp%2BrBgAA3mHn58S1atVKPXv21NSpU7Vx40Zt3LhRU6dOVa9evdw3H2RlZalv377avHmzJOmnn35ScnKyvvvuO2VkZOiLL77Q%2BPHj1bZtW0VHR1d53KqqcUnczTffrBMnTmjQoEHy9/fXbbfdpri4uCrv37RpU82bN09PPfWUhg0bpjp16qhNmzbq3LmzJGnQoEGqV6%2BeXn31VT311FNq0KCBnE6nbr/9dlOHBAAAbOjpp5/WtGnTNHLkSElSTEyMEhMT3duLioq0Z88eHT9%2BXJIUGBior776Sq%2B//rqOHj2qiy66SNdcc43i4%2BM9zihWNm5V%2BVmWZZ3LAXrTsGHD1Lp1a02ZMsXXU/lNsrJ8PQNUJiBACgmR8vK4Jq6mC7%2Bwdt1RV%2Bu4XL/cQRwdzTVxduCjr/pJk7w/ZlKS98e0qxp3OhUAAACVq3GnUwEAQO1QE29sqE1qVBH3%2Buuv%2B3oKAADASyjizOJ0KgAAgA3VqCQOAADUHiRxZlHEAQAAIyjizOJ0KgAAgA2RxAEAACNI4swiiQMAALAhkjgAAGAESZxZFHEAAMAIijizOJ0KAABgQyRxAADACJI4s0jiAAAAbIgkDgAAGEESZxZFHAAAMIIizixOpwIAANgQSRwAADCCJM4skjgAAAAbIokDAABGkMSZRREHAACMoIgzi9OpAAAANkQSBwAAjCCJM4skDgAAwIZI4gAAgBEkcWZRxAEAACMo4szidCoAAIANkcQBAAAjSOLMIokDAACwIZI4AABgBEmcWRRxAADACIo4szidCgAAYEMkcQAAwAiSOLNI4gAAAGyIJA4AABhBEmcWRRwAADCCIs4sTqcCAADYEEkcAAAwgiTOLJI4AAAAGyKJAwAARpDEmUURBwAAjKCIM4vTqQAAADZEEgcAAIywexJ3%2BPBhTZs2TStXrpQkxcTE6MEHH1Tjxo3L7Z%2BRkaFrr7223G3PPfecrr/%2BeklSZGRkme0PP/ywbr311mrNjyIOAACgHBMnTlRWVpbmzJkjSUpMTFRCQoJefvnlcvtfdNFFWrVqlUdbSkqKXn31VV199dUe7UlJSerZs6f7fXBwcLXnRxEHAACMsHMSt2vXLn355ZdatGiRoqKiJEmPPfaY4uLitHv3bl1%2B%2BeVl9vH395fD4fBo%2B%2BSTT3T99derYcOGHu2NGzcu07e6uCYOAAAYUVrq/Vd2dra2bNni8crOzvb63NPS0hQcHOwu4CSpU6dOCg4OVlpaWpXG%2BP7775Wenq6BAweW2fboo4/qiiuu0IABA7Rw4UKV/oaKlyQOAADYRkpKipKTkz3a4uPjNXbsWK9%2BTm5urkJCQsq0h4SEKDc3t0pjpKamqlWrVoqOjvZoHz9%2BvLp166Z69epp7dq1evLJJ5Wfn6977rmnWnOkiAMAAEaYOJ0aFxenmJgYj7bqnJacMWNGmSLw11JTUyvcZlmW/Pz8Kv2cEydO6IMPPii3MDuzrU2bNpKkF198kSIOAADUXmFhYQoLC/vN%2Bw8dOlSxsbFn7dOiRQtt375deXl5ZbYdPHiw3ITu1z788EOdOHFCN998c6V9o6KiVFhYqNzcXIWGhlba/zSKOAAAYERNvLGhWbNmatasWaX9XC6XCgoKtHnzZnXs2FGStGnTJhUUFMjlclW6/%2BLFixUTE1Olz0pPT1fdunUrfHRJRbixAQAAGGHixobfS6tWrdSzZ09NnTpVGzdu1MaNGzV16lT16tXLfWdqVlaW%2Bvbtq82bN3vs%2B%2BOPP%2Brrr78u94aGlStXatGiRdqxY4d%2B%2Buknvf3225o%2BfboGDx6soKCgas2RJA4AAKAcTz/9tKZNm6aRI0dK%2BuVhv4mJie7tRUVF2rNnj44fP%2B6x3%2BLFixUeHq4ePXqUGTMgIEBvvvmmkpKSZFmWWrZsqXHjxmno0KHVnp%2BfZVlWtfdCubKyfD0DVCYgQAoJkfLypOJiX88GZxN%2BYeUXDsOHXC5pwwYpOlqq4uMW4EM%2B%2Bqrv1s37Y65d6/0x7YokDgAAGFETr4mrTbgmDgAAwIZI4gAAgBEkcWaRxAEAANgQSRwAADCCJM4sijgAAGAERZxZnE4FAACwIZI4AABgBEmcWSRxAAAANkQSBwAAjCCJM4siDgAAGEERZxanUwEAAGyIJA4AABhBEmcWSRwAAIANkcQBAAAjSOLMoogDAABGUMSZxelUAAAAGyKJAwAARpDEmUUSBwAAYEMkcQAAwAiSOLMo4gAAgBEUcWZxOhUAAMCGSOIAAIARJHFmkcQBAADYEEkcAAAwgiTOLIo4AABgBEWcWZxOBQAAsCGSOAAAYARJnFkkcQAAADZEEgcAAIwgiTOLIg4AABhBEWcWp1MBAABsiCQOAAAYQRJnFkkcAACADZHEAQAAI0jizKKIAwAARlDEmcXpVAAAABsiiQMAAEaQxJlFEgcAAGBDJHEAAMAIkjizKOIAAIARFHFmcToVAADAhijiAACAEaWl3n/9nl566SUNGTJEUVFR6tKlS5X2sSxLM2bMUI8ePdSxY0cNGzZMO3fu9Ohz%2BPBh3X///ercubM6d%2B6s%2B%2B%2B/X0eOHKn2/CjiAACAEXYv4oqKitS3b1/deuutVd7nlVde0dy5c5WYmKjU1FSFhoZqxIgRKiwsdPeZOHGitm3bpjlz5mjOnDnatm2bEhISqj0/ijgAAIByjBs3TnfccYecTmeV%2BluWpfnz5%2Bvuu%2B9Wnz595HQ69eSTT%2BrEiRP64IMPJEm7du3Sl19%2BqWnTpsnlcsnlcumxxx7TZ599pt27d1drftzYAAAAjDCRnGVnZysnJ8ejzeFwKCwszPsfVk0ZGRnKyclRjx493G1BQUHq2rWr0tLSNGTIEKWlpSk4OFhRUVHuPp06dVJwcLDS0tJ0%2BeWXV/nzKOK8KDzc1zNAZbKzszVjRori4uIUHu77P/A4C8vy9QxwFtnZ2UqZMUNxH35YI748UTOZ%2BGM8Y0aKkpOTPdri4%2BM1duxY739YNZ0uLkNCQjzaQ0NDtX//fklSbm5ume2n98nNza3W51HE4bySk5Oj5ORkxcTE8MUDnAP%2BLMFX4uLiFBMT49HmcDiqvP%2BMGTPKFIG/lpqaqg4dOvym%2BUmSn5%2Bfx3urCtWsZVll9qsMRRwAALCNsLCwc/qLw9ChQxUbG3vWPi1atPhNY58uJnNzcz3mmJeXp9DQUEm/pHJ5eXll9j148GC5Cd3ZUMQBAIDzRrNmzdSsWTMjY7do0UIOh0OrV69W27ZtJUmnTp3S119/rf/3//6fJMnlcqmgoECbN29Wx44dJUmbNm1SQUGBXC5XtT6Pu1MBAADKsX//fqWnp2v//v0qKSlRenq60tPTdfToUXefvn37asWKFZJ%2BOY06fPhwzZo1SytWrNCOHTs0adIk1atXTzfeeKMkqVWrVurZs6emTp2qjRs3auPGjZo6dap69epVrZsaJJI4nGccDofi4%2BOrdf0EgLL4s4TzwQsvvKB33nnH/f7mm2%2BWJM2fP19XXHGFJGnPnj0qKChw9xk1apROnjypRx55RIcPH1ZUVJRee%2B01NWrUyN3n6aef1rRp0zRy5EhJUkxMjBITE6s9Pz%2BrKlfbAQAAoEbhdCoAAIANUcQBAADYEEUcAACADVHEAQAA2BBFHAAAgA1RxAEAANgQRRwAAIANUcQBAADYEEUcAACADVHEAQAA2BBFHAAAgA1RxKFWmzFjhvbt2%2BfraQAA4HUUcajVPvvsM/3lL3/R7bffrvfff18nT5709ZQA21u6dKmGDBmiHj16uP%2BS9O9//1uffPKJj2cGnF8o4lCrLVmyREuWLFFkZKSSkpLUo0cPPfTQQ9q8ebOvpwbY0ptvvqknnnhC11xzjQoKClRaWipJaty4sebNm%2Bfj2QHnFz/LsixfTwL4PRQXF%2Buzzz7T4sWLtWrVKl122WUaOHCg%2Bvfvr%2BDgYF9PD7CF2NhY3Xffferdu7dcLpfee%2B89tWzZUjt27NCwYcO0bt06X08ROG%2BQxOG8UVpaqqKiIhUVFcmyLF1wwQVauHChrrnmGi1fvtzX0wNsISMjQ23atCnTHhQUpOPHj/tgRsD5K8DXEwBM%2B/7777VkyRItW7ZMgYGBuvnmm5WYmKhLLrlEkvTaa69p2rRpio2N9fFMgZqvRYsWSk9PV0REhEf7//7v/%2BoPf/iDj2YFnJ8o4lCr3XTTTdq9e7e6d%2B%2Buxx9/XL169ZK/v79Hn5tvvln/%2Bte/fDRDwF7uvPNOPfroozp16pQkafPmzfrggw80e/ZsTZs2zcezA84vXBOHWu3FF1/UwIEDFR4e7uupALXGokWL9NJLLykzM1OSFB4ervj4eA0aNMjHMwPOLyRxqNUsy1Ljxo3LtJ84cUJz5sxRfHy8D2YF2NvgwYM1ePBgHTx4UJZlKSQkxNdTAs5LJHGo1dq0aaNVq1aV%2BZLJz8/XVVddpfT0dB/NDLCnn3/%2BWSUlJbr00ks92vfu3auAgAC1aNHCNxMDzkPcnYpazbIs%2Bfn5lWnftm2bLrjgAh/MCLC3SZMmKS0trUz7pk2bNGnSJB/MCDh/cToVtVLXrl3l5%2BcnPz8/XXfddR6FXElJiY4dO6YhQ4b4cIaAPW3dulWPP/54mfZOnTrpscce88GMgPMXRRxqpcmTJ8uyLE2ePFljx471eJhvYGCgIiIi5HK5fDhDwJ78/Px09OjRMu0FBQUqKSnxwYyA8xfXxKFWW79%2BvVwulwIDA309FaBWuOuuu1SvXj09%2B%2Byz7sf1lJSUaMKECTp27JjmzJnj4xkC5w%2BKONQ6hYWFatSokfvnszndD0DV/PDDDxo6dKgaN26sLl26SJK%2B%2BeYbFRYWat68eXI6nT6eIXD%2BoIhDrXPmHamtW7cu98aG0zc8cHcqUH1ZWVlasGCBtm3bpnr16snpdOq2225TkyZNfD014LxCEYdaZ/369YqOjlZAQIDWr19/1r5/%2BtOffqdZAQDgXRRxqNX279%2Bviy66qEwaZ1mWMjMz1bx5cx/NDLCPbdu2yel0qk6dOtq2bdtZ%2B7Zu3fp3mhUAijjUajzsFzh3rVu31urVqz0uUSjvq4NLFIDfF48YQa1W0cN%2Bjx07prp16/pgRoD9fPrpp2rWrJn7ZwA1A0UcaqWkpCRJvyQDzz33nOrXr%2B/eVlJSos2bN3PaB6iiiIgISVJRUZGSk5N1zz33qGXLlj6eFQCKONRKW7dulfRLErdjxw6P58QFBQWpdevWGjlypK%2BmB9hSYGCgVqxYoXvuucfXUwEgrolDLTdp0iRNmTKF58EBXjJp0iQ5nU6NGDHC11MBznsUcQCAKnvppZf02muvqVu3bmrXrp3HpQqSNHz4cB/NDDj/UMShVjt27Jhmz56tr776Snl5eSotLfXYzkXaQPXExMRUuM3Pz48/U8DviGviUKtNnTpV69evV79%2B/eRwOMq9UxVA1a1cudL98%2BkMgD9XgG%2BQxKFW69Kli2bNmqXOnTv7eipArfH2229r3rx52rt3r13rZ6MAAAQ2SURBVKT/394dg7S1xXEc/8XWggYq6aAI5WIHa0kFpSiKUKi1EQQrDnYTDbq6lKIlilBIsWRzyNy0QykUpSkKZhE6tJTqYER0yCRBmqBxkLR1qIkdCoU84eGL%2Bg735vvZ7rl3%2BA0ZfvzPzblSXV2dhoeH9ejRI7PBgBLDJA6OdvXqVb7nCJyj2dlZvX79WoODg2pubpYkxeNxzczMaGdnR48fPzacECgdTOLgaB8%2BfNDy8rJCodCJF7AB/HdtbW2anp5Wb29vwfri4qKCwaC%2Bfv1qKBlQepjEwdEikYiSyaQ6Ojp0/fp1Xb5c%2BJN///69oWSAPeXzeTU2Np5Yv337tnK5nIFEQOmixMHRHjx4YDoC4Ch9fX16%2B/atAoFAwfq7d%2B/08OFDQ6mA0sR2KgDg1ILBoKLRqGpra9XU1CRJWl9fVyqVUn9/f8G0%2B59FD8D5YhIHADi1RCIhr9crSUomk5Ikj8cjj8ejRCLx9zmOHQEuHpM4OFoul9OrV6%2B0tLSkVCqlX79%2BFdxfWVkxlAwAgLMpMx0AuEjhcFiRSEQ9PT3KZrPy%2B/3y%2BXxyuVwaGxszHQ8AgKKxnQpHW1hY0PPnz3Xv3j2Fw2H19vbKsiw1NDRofX3ddDwAAIrGJA6OlslkdPPmTUmS2%2B1WNpuVJHV2durjx48GkwEAcDaUODhaTU2N9vb2JEmWZenz58%2BSpI2NDV25csVkNAAAzoTtVDiaz%2BfTly9f1NTUpKGhIT158kRzc3P69u2b/H6/6XgAABSNf6eipMTjca2trcmyLHV1dZmOAwBA0ShxAAAANsR2KhwtGo3%2B6/3%2B/v7/KQkAAOeLSRwcrbW1teD66OhIh4eHKi8vV0VFBYf9AgBsi0kcHG11dfXE2vb2tp49e6bR0VEDiQAAOB9M4lCSNjY2ND4%2BrlgsZjoKAABF4Zw4lKRLly5pd3fXdAwAAIrGdiocbXl5ueD6%2BPhYe3t7evPmje7cuWMoFQAAZ8d2Khzt1q1bBdcul0vXrl1Te3u7nj59qurqakPJAAA4G0ocAACADbGdCkd78eLFqZ8NBAIXmAQAgPNFiYOjbW1taXNzU/l8Xjdu3JD054iRsrIyeb3ev8%2B5XC5TEQEAKAolDo52//59ud1uhUIhVVVVSZIODg4UCATU0tKikZERwwkBACgO78TB0e7evauXL1%2Bqvr6%2BYD2RSGhkZESfPn0ylAwAgLPhnDg42vfv35XJZE6s7%2B/v68ePHwYSAQBwPihxcDSfz6fJyUnFYjGl02ml02nFYjFNTU2pu7vbdDwAAIrGdioc7fDwUKFQSPPz8zo6OpL052sNAwMDmpiYUGVlpeGEAAAUhxKHkvDz508lk0lJkmVZlDcAgO1R4gAAAGyId%2BIAAABsiBIHAABgQ5Q4AAAAG6LEAQAA2BAlDgAAwIYocQAAADZEiQMAALCh34tVgGLWVyVxAAAAAElFTkSuQmCC\" class=\"center-img\">\n",
       "</div>\n",
       "    <div class=\"row headerrow highlight\">\n",
       "        <h1>Sample</h1>\n",
       "    </div>\n",
       "    <div class=\"row variablerow\">\n",
       "    <div class=\"col-md-12\" style=\"overflow:scroll; width: 100%%; overflow-y: hidden;\">\n",
       "        <table border=\"1\" class=\"dataframe sample\">\n",
       "  <thead>\n",
       "    <tr style=\"text-align: right;\">\n",
       "      <th></th>\n",
       "      <th>quantity</th>\n",
       "      <th>price</th>\n",
       "    </tr>\n",
       "  </thead>\n",
       "  <tbody>\n",
       "    <tr>\n",
       "      <th>0</th>\n",
       "      <td>1</td>\n",
       "      <td>149.00</td>\n",
       "    </tr>\n",
       "    <tr>\n",
       "      <th>1</th>\n",
       "      <td>3</td>\n",
       "      <td>14.95</td>\n",
       "    </tr>\n",
       "    <tr>\n",
       "      <th>2</th>\n",
       "      <td>1</td>\n",
       "      <td>8.45</td>\n",
       "    </tr>\n",
       "    <tr>\n",
       "      <th>3</th>\n",
       "      <td>2</td>\n",
       "      <td>13.59</td>\n",
       "    </tr>\n",
       "    <tr>\n",
       "      <th>4</th>\n",
       "      <td>3</td>\n",
       "      <td>24.95</td>\n",
       "    </tr>\n",
       "  </tbody>\n",
       "</table>\n",
       "    </div>\n",
       "</div>\n",
       "</div>"
      ],
      "text/plain": [
       "<pandas_profiling.ProfileReport at 0x7f8c54580358>"
      ]
     },
     "execution_count": 27,
     "metadata": {},
     "output_type": "execute_result"
    }
   ],
   "source": [
    "pp.ProfileReport(resources[[\"quantity\", \"price\"]])"
   ]
  },
  {
   "cell_type": "markdown",
   "metadata": {
    "ExecuteTime": {
     "end_time": "2018-04-03T18:35:44.802243Z",
     "start_time": "2018-04-03T18:35:44.750290Z"
    }
   },
   "source": [
    "### Create Additional categories in Resources\n",
    "\n",
    "Let's create some useful additional features based on the resources\n",
    "\n",
    "* `total_cost = quantity * price`\n",
    "* Aggregate Quantities: `unique_items`, `total_quantity`, `mean_quantity`"
   ]
  },
  {
   "cell_type": "code",
   "execution_count": 28,
   "metadata": {
    "ExecuteTime": {
     "end_time": "2018-04-17T22:29:30.343834Z",
     "start_time": "2018-04-17T22:29:27.197493Z"
    }
   },
   "outputs": [
    {
     "data": {
      "text/html": [
       "<div>\n",
       "<style scoped>\n",
       "    .dataframe tbody tr th:only-of-type {\n",
       "        vertical-align: middle;\n",
       "    }\n",
       "\n",
       "    .dataframe tbody tr th {\n",
       "        vertical-align: top;\n",
       "    }\n",
       "\n",
       "    .dataframe thead th {\n",
       "        text-align: right;\n",
       "    }\n",
       "</style>\n",
       "<table border=\"1\" class=\"dataframe\">\n",
       "  <thead>\n",
       "    <tr style=\"text-align: right;\">\n",
       "      <th></th>\n",
       "      <th>id</th>\n",
       "      <th>unique_items</th>\n",
       "      <th>total_quantity</th>\n",
       "      <th>mean_cost</th>\n",
       "      <th>total_cost</th>\n",
       "    </tr>\n",
       "  </thead>\n",
       "  <tbody>\n",
       "    <tr>\n",
       "      <th>0</th>\n",
       "      <td>p000001</td>\n",
       "      <td>4</td>\n",
       "      <td>7</td>\n",
       "      <td>208.407500</td>\n",
       "      <td>833.63</td>\n",
       "    </tr>\n",
       "    <tr>\n",
       "      <th>1</th>\n",
       "      <td>p000002</td>\n",
       "      <td>14</td>\n",
       "      <td>21</td>\n",
       "      <td>45.020000</td>\n",
       "      <td>630.28</td>\n",
       "    </tr>\n",
       "    <tr>\n",
       "      <th>2</th>\n",
       "      <td>p000003</td>\n",
       "      <td>4</td>\n",
       "      <td>4</td>\n",
       "      <td>74.742500</td>\n",
       "      <td>298.97</td>\n",
       "    </tr>\n",
       "    <tr>\n",
       "      <th>3</th>\n",
       "      <td>p000004</td>\n",
       "      <td>93</td>\n",
       "      <td>98</td>\n",
       "      <td>11.854947</td>\n",
       "      <td>1126.22</td>\n",
       "    </tr>\n",
       "    <tr>\n",
       "      <th>4</th>\n",
       "      <td>p000005</td>\n",
       "      <td>2</td>\n",
       "      <td>8</td>\n",
       "      <td>175.577500</td>\n",
       "      <td>702.31</td>\n",
       "    </tr>\n",
       "  </tbody>\n",
       "</table>\n",
       "</div>"
      ],
      "text/plain": [
       "        id  unique_items  total_quantity   mean_cost  total_cost\n",
       "0  p000001             4               7  208.407500      833.63\n",
       "1  p000002            14              21   45.020000      630.28\n",
       "2  p000003             4               4   74.742500      298.97\n",
       "3  p000004            93              98   11.854947     1126.22\n",
       "4  p000005             2               8  175.577500      702.31"
      ]
     },
     "metadata": {},
     "output_type": "display_data"
    }
   ],
   "source": [
    "resources['cost'] = resources['quantity'] * resources['price']\n",
    "resources = resources.groupby('id').agg({'description': ['nunique'], \n",
    "                                                    'quantity': ['sum'], \n",
    "                                                    'cost': ['mean', 'sum']})\n",
    "resources.columns = ['unique_items', 'total_quantity', 'mean_cost', 'total_cost']\n",
    "resources.reset_index(inplace=True)\n",
    "resources.to_csv(\"resources_agg.csv\", index=False)\n",
    "display(resources.head())"
   ]
  },
  {
   "cell_type": "markdown",
   "metadata": {},
   "source": [
    "And now merge them to our train and test set so we have additional features to feed our model."
   ]
  },
  {
   "cell_type": "code",
   "execution_count": 29,
   "metadata": {
    "ExecuteTime": {
     "end_time": "2018-04-17T22:29:31.016484Z",
     "start_time": "2018-04-17T22:29:30.345830Z"
    }
   },
   "outputs": [],
   "source": [
    "train = pd.merge(train, resources, how='left', on='id')\n",
    "test = pd.merge(test, resources, how='left', on='id')"
   ]
  },
  {
   "cell_type": "code",
   "execution_count": 30,
   "metadata": {
    "ExecuteTime": {
     "end_time": "2018-04-17T22:29:31.367169Z",
     "start_time": "2018-04-17T22:29:31.018401Z"
    }
   },
   "outputs": [],
   "source": [
    "# The IDs are just identifiers for the preprocessing. Let's dump them\n",
    "train = train.drop('id', axis=1)\n",
    "test = test.drop('id', axis=1)"
   ]
  },
  {
   "cell_type": "code",
   "execution_count": 31,
   "metadata": {
    "ExecuteTime": {
     "end_time": "2018-04-17T22:29:31.422810Z",
     "start_time": "2018-04-17T22:29:31.369296Z"
    }
   },
   "outputs": [
    {
     "data": {
      "text/html": [
       "<div>\n",
       "<style scoped>\n",
       "    .dataframe tbody tr th:only-of-type {\n",
       "        vertical-align: middle;\n",
       "    }\n",
       "\n",
       "    .dataframe tbody tr th {\n",
       "        vertical-align: top;\n",
       "    }\n",
       "\n",
       "    .dataframe thead th {\n",
       "        text-align: right;\n",
       "    }\n",
       "</style>\n",
       "<table border=\"1\" class=\"dataframe\">\n",
       "  <thead>\n",
       "    <tr style=\"text-align: right;\">\n",
       "      <th></th>\n",
       "      <th>teacher_id</th>\n",
       "      <th>teacher_prefix</th>\n",
       "      <th>school_state</th>\n",
       "      <th>project_submitted_datetime</th>\n",
       "      <th>project_grade_category</th>\n",
       "      <th>project_subject_categories</th>\n",
       "      <th>project_subject_subcategories</th>\n",
       "      <th>project_title</th>\n",
       "      <th>project_essay_1</th>\n",
       "      <th>project_essay_2</th>\n",
       "      <th>project_essay_3</th>\n",
       "      <th>project_essay_4</th>\n",
       "      <th>project_resource_summary</th>\n",
       "      <th>teacher_number_of_previously_posted_projects</th>\n",
       "      <th>project_is_approved</th>\n",
       "      <th>unique_items</th>\n",
       "      <th>total_quantity</th>\n",
       "      <th>mean_cost</th>\n",
       "      <th>total_cost</th>\n",
       "    </tr>\n",
       "  </thead>\n",
       "  <tbody>\n",
       "    <tr>\n",
       "      <th>0</th>\n",
       "      <td>484aaf11257089a66cfedc9461c6bd0a</td>\n",
       "      <td>Ms.</td>\n",
       "      <td>NV</td>\n",
       "      <td>2016-11-18 14:45:59</td>\n",
       "      <td>Grades PreK-2</td>\n",
       "      <td>Literacy &amp; Language</td>\n",
       "      <td>Literacy</td>\n",
       "      <td>Super Sight Word Centers</td>\n",
       "      <td>Most of my kindergarten students come from low...</td>\n",
       "      <td>I currently have a differentiated sight word c...</td>\n",
       "      <td>NaN</td>\n",
       "      <td>NaN</td>\n",
       "      <td>My students need 6 Ipod Nano's to create and d...</td>\n",
       "      <td>26</td>\n",
       "      <td>1</td>\n",
       "      <td>2</td>\n",
       "      <td>6</td>\n",
       "      <td>449.970</td>\n",
       "      <td>899.94</td>\n",
       "    </tr>\n",
       "    <tr>\n",
       "      <th>1</th>\n",
       "      <td>df72a3ba8089423fa8a94be88060f6ed</td>\n",
       "      <td>Mrs.</td>\n",
       "      <td>GA</td>\n",
       "      <td>2017-04-26 15:57:28</td>\n",
       "      <td>Grades 3-5</td>\n",
       "      <td>Music &amp; The Arts, Health &amp; Sports</td>\n",
       "      <td>Performing Arts, Team Sports</td>\n",
       "      <td>Keep Calm and Dance On</td>\n",
       "      <td>Our elementary school is a culturally rich sch...</td>\n",
       "      <td>We strive to provide our diverse population of...</td>\n",
       "      <td>NaN</td>\n",
       "      <td>NaN</td>\n",
       "      <td>My students need matching shirts to wear for d...</td>\n",
       "      <td>1</td>\n",
       "      <td>0</td>\n",
       "      <td>1</td>\n",
       "      <td>20</td>\n",
       "      <td>400.000</td>\n",
       "      <td>400.00</td>\n",
       "    </tr>\n",
       "    <tr>\n",
       "      <th>2</th>\n",
       "      <td>a9b876a9252e08a55e3d894150f75ba3</td>\n",
       "      <td>Ms.</td>\n",
       "      <td>UT</td>\n",
       "      <td>2017-01-01 22:57:44</td>\n",
       "      <td>Grades 3-5</td>\n",
       "      <td>Math &amp; Science, Literacy &amp; Language</td>\n",
       "      <td>Applied Sciences, Literature &amp; Writing</td>\n",
       "      <td>Lets 3Doodle to Learn</td>\n",
       "      <td>Hello;\\r\\nMy name is Mrs. Brotherton. I teach ...</td>\n",
       "      <td>We are looking to add some 3Doodler to our cla...</td>\n",
       "      <td>NaN</td>\n",
       "      <td>NaN</td>\n",
       "      <td>My students need the 3doodler. We are an SEM s...</td>\n",
       "      <td>5</td>\n",
       "      <td>1</td>\n",
       "      <td>1</td>\n",
       "      <td>1</td>\n",
       "      <td>469.990</td>\n",
       "      <td>469.99</td>\n",
       "    </tr>\n",
       "    <tr>\n",
       "      <th>3</th>\n",
       "      <td>525fdbb6ec7f538a48beebaa0a51b24f</td>\n",
       "      <td>Mr.</td>\n",
       "      <td>NC</td>\n",
       "      <td>2016-08-12 15:42:11</td>\n",
       "      <td>Grades 3-5</td>\n",
       "      <td>Health &amp; Sports</td>\n",
       "      <td>Health &amp; Wellness</td>\n",
       "      <td>\\\"Kid Inspired\\\" Equipment to Increase Activit...</td>\n",
       "      <td>My students are the greatest students but are ...</td>\n",
       "      <td>The student's project which is totally \\\"kid-i...</td>\n",
       "      <td>NaN</td>\n",
       "      <td>NaN</td>\n",
       "      <td>My students need balls and other activity equi...</td>\n",
       "      <td>16</td>\n",
       "      <td>0</td>\n",
       "      <td>5</td>\n",
       "      <td>5</td>\n",
       "      <td>136.894</td>\n",
       "      <td>684.47</td>\n",
       "    </tr>\n",
       "    <tr>\n",
       "      <th>4</th>\n",
       "      <td>a63b5547a7239eae4c1872670848e61a</td>\n",
       "      <td>Mr.</td>\n",
       "      <td>CA</td>\n",
       "      <td>2016-08-06 09:09:11</td>\n",
       "      <td>Grades 6-8</td>\n",
       "      <td>Health &amp; Sports</td>\n",
       "      <td>Health &amp; Wellness</td>\n",
       "      <td>We need clean water for our culinary arts class!</td>\n",
       "      <td>My students are athletes and students who are ...</td>\n",
       "      <td>For some reason in our kitchen the water comes...</td>\n",
       "      <td>NaN</td>\n",
       "      <td>NaN</td>\n",
       "      <td>My students need a water filtration system for...</td>\n",
       "      <td>42</td>\n",
       "      <td>1</td>\n",
       "      <td>1</td>\n",
       "      <td>2</td>\n",
       "      <td>711.000</td>\n",
       "      <td>711.00</td>\n",
       "    </tr>\n",
       "  </tbody>\n",
       "</table>\n",
       "</div>"
      ],
      "text/plain": [
       "                         teacher_id teacher_prefix school_state  \\\n",
       "0  484aaf11257089a66cfedc9461c6bd0a            Ms.           NV   \n",
       "1  df72a3ba8089423fa8a94be88060f6ed           Mrs.           GA   \n",
       "2  a9b876a9252e08a55e3d894150f75ba3            Ms.           UT   \n",
       "3  525fdbb6ec7f538a48beebaa0a51b24f            Mr.           NC   \n",
       "4  a63b5547a7239eae4c1872670848e61a            Mr.           CA   \n",
       "\n",
       "  project_submitted_datetime project_grade_category  \\\n",
       "0        2016-11-18 14:45:59          Grades PreK-2   \n",
       "1        2017-04-26 15:57:28             Grades 3-5   \n",
       "2        2017-01-01 22:57:44             Grades 3-5   \n",
       "3        2016-08-12 15:42:11             Grades 3-5   \n",
       "4        2016-08-06 09:09:11             Grades 6-8   \n",
       "\n",
       "            project_subject_categories  \\\n",
       "0                  Literacy & Language   \n",
       "1    Music & The Arts, Health & Sports   \n",
       "2  Math & Science, Literacy & Language   \n",
       "3                      Health & Sports   \n",
       "4                      Health & Sports   \n",
       "\n",
       "            project_subject_subcategories  \\\n",
       "0                                Literacy   \n",
       "1            Performing Arts, Team Sports   \n",
       "2  Applied Sciences, Literature & Writing   \n",
       "3                       Health & Wellness   \n",
       "4                       Health & Wellness   \n",
       "\n",
       "                                       project_title  \\\n",
       "0                           Super Sight Word Centers   \n",
       "1                             Keep Calm and Dance On   \n",
       "2                              Lets 3Doodle to Learn   \n",
       "3  \\\"Kid Inspired\\\" Equipment to Increase Activit...   \n",
       "4   We need clean water for our culinary arts class!   \n",
       "\n",
       "                                     project_essay_1  \\\n",
       "0  Most of my kindergarten students come from low...   \n",
       "1  Our elementary school is a culturally rich sch...   \n",
       "2  Hello;\\r\\nMy name is Mrs. Brotherton. I teach ...   \n",
       "3  My students are the greatest students but are ...   \n",
       "4  My students are athletes and students who are ...   \n",
       "\n",
       "                                     project_essay_2 project_essay_3  \\\n",
       "0  I currently have a differentiated sight word c...             NaN   \n",
       "1  We strive to provide our diverse population of...             NaN   \n",
       "2  We are looking to add some 3Doodler to our cla...             NaN   \n",
       "3  The student's project which is totally \\\"kid-i...             NaN   \n",
       "4  For some reason in our kitchen the water comes...             NaN   \n",
       "\n",
       "  project_essay_4                           project_resource_summary  \\\n",
       "0             NaN  My students need 6 Ipod Nano's to create and d...   \n",
       "1             NaN  My students need matching shirts to wear for d...   \n",
       "2             NaN  My students need the 3doodler. We are an SEM s...   \n",
       "3             NaN  My students need balls and other activity equi...   \n",
       "4             NaN  My students need a water filtration system for...   \n",
       "\n",
       "   teacher_number_of_previously_posted_projects  project_is_approved  \\\n",
       "0                                            26                    1   \n",
       "1                                             1                    0   \n",
       "2                                             5                    1   \n",
       "3                                            16                    0   \n",
       "4                                            42                    1   \n",
       "\n",
       "   unique_items  total_quantity  mean_cost  total_cost  \n",
       "0             2               6    449.970      899.94  \n",
       "1             1              20    400.000      400.00  \n",
       "2             1               1    469.990      469.99  \n",
       "3             5               5    136.894      684.47  \n",
       "4             1               2    711.000      711.00  "
      ]
     },
     "execution_count": 31,
     "metadata": {},
     "output_type": "execute_result"
    }
   ],
   "source": [
    "train.head()"
   ]
  },
  {
   "cell_type": "markdown",
   "metadata": {},
   "source": [
    "### Timestamps\n",
    "\n",
    "* It's very difficult to deal and extract insight with datetime formats, since they are dense with information\n",
    "* Boosting models generally can deal with a lot of features, \n",
    "* With that in mind let's extract the atomic informations embedded in our timestamps and create additional categories.\n",
    "* We'll also keep the original datetime format as a numerical category "
   ]
  },
  {
   "cell_type": "code",
   "execution_count": 32,
   "metadata": {
    "ExecuteTime": {
     "end_time": "2018-04-17T22:29:31.456626Z",
     "start_time": "2018-04-17T22:29:31.424886Z"
    }
   },
   "outputs": [],
   "source": [
    "def extract_timestamp(df):\n",
    "    \"\"\"\n",
    "    Extract the individual information embedded in the datetime column as additional\n",
    "    columns in the DataFrame and transform the original datetime to an int\n",
    "    \"\"\"\n",
    "    \n",
    "    # First we transform the original string to a datetime format\n",
    "    df['project_submitted_datetime'] = pd.to_datetime(df['project_submitted_datetime'])    \n",
    "    df['year'] = df['project_submitted_datetime'].dt.day \n",
    "    df['month'] = df['project_submitted_datetime'].dt.month\n",
    "    df['day'] = df['project_submitted_datetime'].dt.day\n",
    "    df['day_of_week'] = df['project_submitted_datetime'].dt.weekday\n",
    "    df[\"hour\"] = df['project_submitted_datetime'].dt.hour\n",
    "    \n",
    "    df['project_submitted_datetime'] = df['project_submitted_datetime'].values.astype(np.int64)"
   ]
  },
  {
   "cell_type": "code",
   "execution_count": 33,
   "metadata": {
    "ExecuteTime": {
     "end_time": "2018-04-17T22:29:31.555317Z",
     "start_time": "2018-04-17T22:29:31.458354Z"
    }
   },
   "outputs": [],
   "source": [
    "extract_timestamp(train)\n",
    "extract_timestamp(test)"
   ]
  },
  {
   "cell_type": "markdown",
   "metadata": {},
   "source": []
  },
  {
   "cell_type": "code",
   "execution_count": 34,
   "metadata": {
    "ExecuteTime": {
     "end_time": "2018-04-17T22:29:31.608417Z",
     "start_time": "2018-04-17T22:29:31.557049Z"
    }
   },
   "outputs": [
    {
     "data": {
      "text/html": [
       "<div>\n",
       "<style scoped>\n",
       "    .dataframe tbody tr th:only-of-type {\n",
       "        vertical-align: middle;\n",
       "    }\n",
       "\n",
       "    .dataframe tbody tr th {\n",
       "        vertical-align: top;\n",
       "    }\n",
       "\n",
       "    .dataframe thead th {\n",
       "        text-align: right;\n",
       "    }\n",
       "</style>\n",
       "<table border=\"1\" class=\"dataframe\">\n",
       "  <thead>\n",
       "    <tr style=\"text-align: right;\">\n",
       "      <th></th>\n",
       "      <th>teacher_id</th>\n",
       "      <th>teacher_prefix</th>\n",
       "      <th>school_state</th>\n",
       "      <th>project_submitted_datetime</th>\n",
       "      <th>project_grade_category</th>\n",
       "      <th>project_subject_categories</th>\n",
       "      <th>project_subject_subcategories</th>\n",
       "      <th>project_title</th>\n",
       "      <th>project_essay_1</th>\n",
       "      <th>project_essay_2</th>\n",
       "      <th>...</th>\n",
       "      <th>project_is_approved</th>\n",
       "      <th>unique_items</th>\n",
       "      <th>total_quantity</th>\n",
       "      <th>mean_cost</th>\n",
       "      <th>total_cost</th>\n",
       "      <th>year</th>\n",
       "      <th>month</th>\n",
       "      <th>day</th>\n",
       "      <th>day_of_week</th>\n",
       "      <th>hour</th>\n",
       "    </tr>\n",
       "  </thead>\n",
       "  <tbody>\n",
       "    <tr>\n",
       "      <th>0</th>\n",
       "      <td>484aaf11257089a66cfedc9461c6bd0a</td>\n",
       "      <td>Ms.</td>\n",
       "      <td>NV</td>\n",
       "      <td>1479480359000000000</td>\n",
       "      <td>Grades PreK-2</td>\n",
       "      <td>Literacy &amp; Language</td>\n",
       "      <td>Literacy</td>\n",
       "      <td>Super Sight Word Centers</td>\n",
       "      <td>Most of my kindergarten students come from low...</td>\n",
       "      <td>I currently have a differentiated sight word c...</td>\n",
       "      <td>...</td>\n",
       "      <td>1</td>\n",
       "      <td>2</td>\n",
       "      <td>6</td>\n",
       "      <td>449.970</td>\n",
       "      <td>899.94</td>\n",
       "      <td>18</td>\n",
       "      <td>11</td>\n",
       "      <td>18</td>\n",
       "      <td>4</td>\n",
       "      <td>14</td>\n",
       "    </tr>\n",
       "    <tr>\n",
       "      <th>1</th>\n",
       "      <td>df72a3ba8089423fa8a94be88060f6ed</td>\n",
       "      <td>Mrs.</td>\n",
       "      <td>GA</td>\n",
       "      <td>1493222248000000000</td>\n",
       "      <td>Grades 3-5</td>\n",
       "      <td>Music &amp; The Arts, Health &amp; Sports</td>\n",
       "      <td>Performing Arts, Team Sports</td>\n",
       "      <td>Keep Calm and Dance On</td>\n",
       "      <td>Our elementary school is a culturally rich sch...</td>\n",
       "      <td>We strive to provide our diverse population of...</td>\n",
       "      <td>...</td>\n",
       "      <td>0</td>\n",
       "      <td>1</td>\n",
       "      <td>20</td>\n",
       "      <td>400.000</td>\n",
       "      <td>400.00</td>\n",
       "      <td>26</td>\n",
       "      <td>4</td>\n",
       "      <td>26</td>\n",
       "      <td>2</td>\n",
       "      <td>15</td>\n",
       "    </tr>\n",
       "    <tr>\n",
       "      <th>2</th>\n",
       "      <td>a9b876a9252e08a55e3d894150f75ba3</td>\n",
       "      <td>Ms.</td>\n",
       "      <td>UT</td>\n",
       "      <td>1483311464000000000</td>\n",
       "      <td>Grades 3-5</td>\n",
       "      <td>Math &amp; Science, Literacy &amp; Language</td>\n",
       "      <td>Applied Sciences, Literature &amp; Writing</td>\n",
       "      <td>Lets 3Doodle to Learn</td>\n",
       "      <td>Hello;\\r\\nMy name is Mrs. Brotherton. I teach ...</td>\n",
       "      <td>We are looking to add some 3Doodler to our cla...</td>\n",
       "      <td>...</td>\n",
       "      <td>1</td>\n",
       "      <td>1</td>\n",
       "      <td>1</td>\n",
       "      <td>469.990</td>\n",
       "      <td>469.99</td>\n",
       "      <td>1</td>\n",
       "      <td>1</td>\n",
       "      <td>1</td>\n",
       "      <td>6</td>\n",
       "      <td>22</td>\n",
       "    </tr>\n",
       "    <tr>\n",
       "      <th>3</th>\n",
       "      <td>525fdbb6ec7f538a48beebaa0a51b24f</td>\n",
       "      <td>Mr.</td>\n",
       "      <td>NC</td>\n",
       "      <td>1471016531000000000</td>\n",
       "      <td>Grades 3-5</td>\n",
       "      <td>Health &amp; Sports</td>\n",
       "      <td>Health &amp; Wellness</td>\n",
       "      <td>\\\"Kid Inspired\\\" Equipment to Increase Activit...</td>\n",
       "      <td>My students are the greatest students but are ...</td>\n",
       "      <td>The student's project which is totally \\\"kid-i...</td>\n",
       "      <td>...</td>\n",
       "      <td>0</td>\n",
       "      <td>5</td>\n",
       "      <td>5</td>\n",
       "      <td>136.894</td>\n",
       "      <td>684.47</td>\n",
       "      <td>12</td>\n",
       "      <td>8</td>\n",
       "      <td>12</td>\n",
       "      <td>4</td>\n",
       "      <td>15</td>\n",
       "    </tr>\n",
       "    <tr>\n",
       "      <th>4</th>\n",
       "      <td>a63b5547a7239eae4c1872670848e61a</td>\n",
       "      <td>Mr.</td>\n",
       "      <td>CA</td>\n",
       "      <td>1470474551000000000</td>\n",
       "      <td>Grades 6-8</td>\n",
       "      <td>Health &amp; Sports</td>\n",
       "      <td>Health &amp; Wellness</td>\n",
       "      <td>We need clean water for our culinary arts class!</td>\n",
       "      <td>My students are athletes and students who are ...</td>\n",
       "      <td>For some reason in our kitchen the water comes...</td>\n",
       "      <td>...</td>\n",
       "      <td>1</td>\n",
       "      <td>1</td>\n",
       "      <td>2</td>\n",
       "      <td>711.000</td>\n",
       "      <td>711.00</td>\n",
       "      <td>6</td>\n",
       "      <td>8</td>\n",
       "      <td>6</td>\n",
       "      <td>5</td>\n",
       "      <td>9</td>\n",
       "    </tr>\n",
       "  </tbody>\n",
       "</table>\n",
       "<p>5 rows × 24 columns</p>\n",
       "</div>"
      ],
      "text/plain": [
       "                         teacher_id teacher_prefix school_state  \\\n",
       "0  484aaf11257089a66cfedc9461c6bd0a            Ms.           NV   \n",
       "1  df72a3ba8089423fa8a94be88060f6ed           Mrs.           GA   \n",
       "2  a9b876a9252e08a55e3d894150f75ba3            Ms.           UT   \n",
       "3  525fdbb6ec7f538a48beebaa0a51b24f            Mr.           NC   \n",
       "4  a63b5547a7239eae4c1872670848e61a            Mr.           CA   \n",
       "\n",
       "   project_submitted_datetime project_grade_category  \\\n",
       "0         1479480359000000000          Grades PreK-2   \n",
       "1         1493222248000000000             Grades 3-5   \n",
       "2         1483311464000000000             Grades 3-5   \n",
       "3         1471016531000000000             Grades 3-5   \n",
       "4         1470474551000000000             Grades 6-8   \n",
       "\n",
       "            project_subject_categories  \\\n",
       "0                  Literacy & Language   \n",
       "1    Music & The Arts, Health & Sports   \n",
       "2  Math & Science, Literacy & Language   \n",
       "3                      Health & Sports   \n",
       "4                      Health & Sports   \n",
       "\n",
       "            project_subject_subcategories  \\\n",
       "0                                Literacy   \n",
       "1            Performing Arts, Team Sports   \n",
       "2  Applied Sciences, Literature & Writing   \n",
       "3                       Health & Wellness   \n",
       "4                       Health & Wellness   \n",
       "\n",
       "                                       project_title  \\\n",
       "0                           Super Sight Word Centers   \n",
       "1                             Keep Calm and Dance On   \n",
       "2                              Lets 3Doodle to Learn   \n",
       "3  \\\"Kid Inspired\\\" Equipment to Increase Activit...   \n",
       "4   We need clean water for our culinary arts class!   \n",
       "\n",
       "                                     project_essay_1  \\\n",
       "0  Most of my kindergarten students come from low...   \n",
       "1  Our elementary school is a culturally rich sch...   \n",
       "2  Hello;\\r\\nMy name is Mrs. Brotherton. I teach ...   \n",
       "3  My students are the greatest students but are ...   \n",
       "4  My students are athletes and students who are ...   \n",
       "\n",
       "                                     project_essay_2  ...   \\\n",
       "0  I currently have a differentiated sight word c...  ...    \n",
       "1  We strive to provide our diverse population of...  ...    \n",
       "2  We are looking to add some 3Doodler to our cla...  ...    \n",
       "3  The student's project which is totally \\\"kid-i...  ...    \n",
       "4  For some reason in our kitchen the water comes...  ...    \n",
       "\n",
       "  project_is_approved unique_items total_quantity  mean_cost  total_cost  \\\n",
       "0                   1            2              6    449.970      899.94   \n",
       "1                   0            1             20    400.000      400.00   \n",
       "2                   1            1              1    469.990      469.99   \n",
       "3                   0            5              5    136.894      684.47   \n",
       "4                   1            1              2    711.000      711.00   \n",
       "\n",
       "   year  month  day  day_of_week  hour  \n",
       "0    18     11   18            4    14  \n",
       "1    26      4   26            2    15  \n",
       "2     1      1    1            6    22  \n",
       "3    12      8   12            4    15  \n",
       "4     6      8    6            5     9  \n",
       "\n",
       "[5 rows x 24 columns]"
      ]
     },
     "execution_count": 34,
     "metadata": {},
     "output_type": "execute_result"
    }
   ],
   "source": [
    "train.head()"
   ]
  },
  {
   "cell_type": "code",
   "execution_count": 35,
   "metadata": {
    "ExecuteTime": {
     "end_time": "2018-04-17T22:29:31.650256Z",
     "start_time": "2018-04-17T22:29:31.610195Z"
    }
   },
   "outputs": [
    {
     "name": "stdout",
     "output_type": "stream",
     "text": [
      "['Literacy & Language' 'Music & The Arts, Health & Sports'\n",
      " 'Math & Science, Literacy & Language' 'Health & Sports'\n",
      " 'Applied Learning, Literacy & Language' 'Math & Science'\n",
      " 'Literacy & Language, Math & Science' 'Special Needs'\n",
      " 'Applied Learning, Special Needs' 'Applied Learning, Music & The Arts']\n"
     ]
    }
   ],
   "source": [
    "print(train.project_subject_categories.unique()[:10])"
   ]
  },
  {
   "cell_type": "markdown",
   "metadata": {},
   "source": [
    "### Project Categories\n",
    "\n",
    "We have 51 distinct categories, with that much categories it's going to be dificult to derive insights due to the fact that any aggregated metrics are going to be distributed across more categories than we can hold in memory. Nevertheless we saw in the previous section that the majority of those categories are a combination of a few\n",
    "\n",
    "Let's investigate those further to determine opportunities to aggregate them into higher level categories."
   ]
  },
  {
   "cell_type": "code",
   "execution_count": 36,
   "metadata": {
    "ExecuteTime": {
     "end_time": "2018-04-17T22:29:31.693366Z",
     "start_time": "2018-04-17T22:29:31.651861Z"
    }
   },
   "outputs": [
    {
     "name": "stdout",
     "output_type": "stream",
     "text": [
      "array(['Literacy & Language', 'Music & The Arts, Health & Sports',\n",
      "       'Math & Science, Literacy & Language', 'Health & Sports',\n",
      "       'Applied Learning, Literacy & Language', 'Math & Science',\n",
      "       'Literacy & Language, Math & Science', 'Special Needs',\n",
      "       'Applied Learning, Special Needs',\n",
      "       'Applied Learning, Music & The Arts',\n",
      "       'Math & Science, Special Needs', 'Health & Sports, Special Needs',\n",
      "       'Literacy & Language, History & Civics',\n",
      "       'Health & Sports, Literacy & Language', 'Music & The Arts',\n",
      "       'Literacy & Language, Special Needs',\n",
      "       'Special Needs, Music & The Arts', 'History & Civics',\n",
      "       'Health & Sports, Applied Learning', 'Applied Learning',\n",
      "       'Math & Science, Applied Learning',\n",
      "       'Literacy & Language, Music & The Arts',\n",
      "       'Math & Science, Music & The Arts',\n",
      "       'History & Civics, Special Needs',\n",
      "       'History & Civics, Literacy & Language', 'Warmth, Care & Hunger',\n",
      "       'Math & Science, History & Civics',\n",
      "       'Applied Learning, Math & Science',\n",
      "       'Math & Science, Health & Sports',\n",
      "       'Applied Learning, Health & Sports',\n",
      "       'Music & The Arts, Special Needs',\n",
      "       'History & Civics, Math & Science',\n",
      "       'Literacy & Language, Applied Learning',\n",
      "       'History & Civics, Music & The Arts',\n",
      "       'Applied Learning, Warmth, Care & Hunger',\n",
      "       'Health & Sports, History & Civics',\n",
      "       'Health & Sports, Math & Science',\n",
      "       'Applied Learning, History & Civics',\n",
      "       'Literacy & Language, Health & Sports',\n",
      "       'Music & The Arts, Applied Learning',\n",
      "       'Health & Sports, Warmth, Care & Hunger',\n",
      "       'Math & Science, Warmth, Care & Hunger',\n",
      "       'Special Needs, Warmth, Care & Hunger',\n",
      "       'Health & Sports, Music & The Arts',\n",
      "       'History & Civics, Applied Learning',\n",
      "       'Special Needs, Health & Sports',\n",
      "       'History & Civics, Health & Sports',\n",
      "       'Literacy & Language, Warmth, Care & Hunger',\n",
      "       'Music & The Arts, Warmth, Care & Hunger',\n",
      "       'Music & The Arts, History & Civics',\n",
      "       'History & Civics, Warmth, Care & Hunger'], dtype=object)\n"
     ]
    }
   ],
   "source": [
    "pprint(train['project_subject_categories'].unique())"
   ]
  },
  {
   "cell_type": "markdown",
   "metadata": {},
   "source": [
    "We can see that many of those unique categories are in fact a composition of two or more individual categories, let's split and check those individuals.\n",
    "The set of 51 categories is a combination of 1 to 3 different categories, I suspect those 9 individual categories are more relevant than this huge granular combination of 51. "
   ]
  },
  {
   "cell_type": "code",
   "execution_count": 37,
   "metadata": {
    "ExecuteTime": {
     "end_time": "2018-04-17T22:29:32.631383Z",
     "start_time": "2018-04-17T22:29:31.695120Z"
    }
   },
   "outputs": [
    {
     "data": {
      "text/html": [
       "<div>\n",
       "<style scoped>\n",
       "    .dataframe tbody tr th:only-of-type {\n",
       "        vertical-align: middle;\n",
       "    }\n",
       "\n",
       "    .dataframe tbody tr th {\n",
       "        vertical-align: top;\n",
       "    }\n",
       "\n",
       "    .dataframe thead th {\n",
       "        text-align: right;\n",
       "    }\n",
       "</style>\n",
       "<table border=\"1\" class=\"dataframe\">\n",
       "  <thead>\n",
       "    <tr style=\"text-align: right;\">\n",
       "      <th></th>\n",
       "      <th>subj_cat_1</th>\n",
       "      <th>subj_cat_2</th>\n",
       "      <th>subj_cat_3</th>\n",
       "    </tr>\n",
       "  </thead>\n",
       "  <tbody>\n",
       "    <tr>\n",
       "      <th>0</th>\n",
       "      <td>Literacy &amp; Language</td>\n",
       "      <td>None</td>\n",
       "      <td>None</td>\n",
       "    </tr>\n",
       "    <tr>\n",
       "      <th>1</th>\n",
       "      <td>Music &amp; The Arts</td>\n",
       "      <td>Health &amp; Sports</td>\n",
       "      <td>None</td>\n",
       "    </tr>\n",
       "    <tr>\n",
       "      <th>2</th>\n",
       "      <td>Math &amp; Science</td>\n",
       "      <td>Literacy &amp; Language</td>\n",
       "      <td>None</td>\n",
       "    </tr>\n",
       "    <tr>\n",
       "      <th>3</th>\n",
       "      <td>Health &amp; Sports</td>\n",
       "      <td>None</td>\n",
       "      <td>None</td>\n",
       "    </tr>\n",
       "    <tr>\n",
       "      <th>4</th>\n",
       "      <td>Health &amp; Sports</td>\n",
       "      <td>None</td>\n",
       "      <td>None</td>\n",
       "    </tr>\n",
       "  </tbody>\n",
       "</table>\n",
       "</div>"
      ],
      "text/plain": [
       "            subj_cat_1           subj_cat_2 subj_cat_3\n",
       "0  Literacy & Language                 None       None\n",
       "1     Music & The Arts      Health & Sports       None\n",
       "2       Math & Science  Literacy & Language       None\n",
       "3      Health & Sports                 None       None\n",
       "4      Health & Sports                 None       None"
      ]
     },
     "execution_count": 37,
     "metadata": {},
     "output_type": "execute_result"
    }
   ],
   "source": [
    "train_categories = train[\"project_subject_categories\"].str.split(\", \", expand=True)\n",
    "test_categories = test[\"project_subject_categories\"].str.split(\", \", expand=True)\n",
    "\n",
    "train_categories.columns = [\"subj_cat_1\", \"subj_cat_2\", \"subj_cat_3\"]\n",
    "test_categories.columns = train_categories.columns\n",
    "\n",
    "train_categories.head()"
   ]
  },
  {
   "cell_type": "code",
   "execution_count": 38,
   "metadata": {
    "ExecuteTime": {
     "end_time": "2018-04-17T22:29:33.541341Z",
     "start_time": "2018-04-17T22:29:32.633174Z"
    }
   },
   "outputs": [
    {
     "data": {
      "text/html": [
       "<div>\n",
       "<style scoped>\n",
       "    .dataframe tbody tr th:only-of-type {\n",
       "        vertical-align: middle;\n",
       "    }\n",
       "\n",
       "    .dataframe tbody tr th {\n",
       "        vertical-align: top;\n",
       "    }\n",
       "\n",
       "    .dataframe thead th {\n",
       "        text-align: right;\n",
       "    }\n",
       "</style>\n",
       "<table border=\"1\" class=\"dataframe\">\n",
       "  <thead>\n",
       "    <tr style=\"text-align: right;\">\n",
       "      <th></th>\n",
       "      <th>subj_subcat_1</th>\n",
       "      <th>subj_subcat_2</th>\n",
       "      <th>subj_subcat_3</th>\n",
       "    </tr>\n",
       "  </thead>\n",
       "  <tbody>\n",
       "    <tr>\n",
       "      <th>0</th>\n",
       "      <td>Literacy</td>\n",
       "      <td>None</td>\n",
       "      <td>None</td>\n",
       "    </tr>\n",
       "    <tr>\n",
       "      <th>1</th>\n",
       "      <td>Performing Arts</td>\n",
       "      <td>Team Sports</td>\n",
       "      <td>None</td>\n",
       "    </tr>\n",
       "    <tr>\n",
       "      <th>2</th>\n",
       "      <td>Applied Sciences</td>\n",
       "      <td>Literature &amp; Writing</td>\n",
       "      <td>None</td>\n",
       "    </tr>\n",
       "    <tr>\n",
       "      <th>3</th>\n",
       "      <td>Health &amp; Wellness</td>\n",
       "      <td>None</td>\n",
       "      <td>None</td>\n",
       "    </tr>\n",
       "    <tr>\n",
       "      <th>4</th>\n",
       "      <td>Health &amp; Wellness</td>\n",
       "      <td>None</td>\n",
       "      <td>None</td>\n",
       "    </tr>\n",
       "  </tbody>\n",
       "</table>\n",
       "</div>"
      ],
      "text/plain": [
       "       subj_subcat_1         subj_subcat_2 subj_subcat_3\n",
       "0           Literacy                  None          None\n",
       "1    Performing Arts           Team Sports          None\n",
       "2   Applied Sciences  Literature & Writing          None\n",
       "3  Health & Wellness                  None          None\n",
       "4  Health & Wellness                  None          None"
      ]
     },
     "execution_count": 38,
     "metadata": {},
     "output_type": "execute_result"
    }
   ],
   "source": [
    "train_subcategories = train[\"project_subject_subcategories\"].str.split(\", \", expand=True)\n",
    "test_subcategories = test[\"project_subject_subcategories\"].str.split(\", \", expand=True)\n",
    "\n",
    "train_subcategories.columns = [\"subj_subcat_1\", \"subj_subcat_2\", \"subj_subcat_3\"]\n",
    "test_subcategories.columns = train_subcategories.columns\n",
    "\n",
    "train_subcategories.head()"
   ]
  },
  {
   "cell_type": "markdown",
   "metadata": {
    "cell_style": "center"
   },
   "source": [
    "Since the majority of Project Subject Categories and Subcategories are composed of 1 to 2 individual categories, let's split off just the first two of them and add to the training data."
   ]
  },
  {
   "cell_type": "code",
   "execution_count": 39,
   "metadata": {
    "ExecuteTime": {
     "end_time": "2018-04-17T22:29:34.028102Z",
     "start_time": "2018-04-17T22:29:33.543121Z"
    }
   },
   "outputs": [],
   "source": [
    "train = pd.concat([train, train_categories.iloc[:, 0:2], train_subcategories.iloc[:, 0:2]], axis=1)\n",
    "train = train.drop([\"project_subject_categories\", \"project_subject_subcategories\"], axis=1)"
   ]
  },
  {
   "cell_type": "code",
   "execution_count": 40,
   "metadata": {
    "ExecuteTime": {
     "end_time": "2018-04-17T22:29:34.222911Z",
     "start_time": "2018-04-17T22:29:34.029866Z"
    }
   },
   "outputs": [],
   "source": [
    "test = pd.concat([test, test_categories.iloc[:, 0:2], test_subcategories.iloc[:, 0:2]], axis=1)\n",
    "test = test.drop([\"project_subject_categories\", \"project_subject_subcategories\"], axis=1)"
   ]
  },
  {
   "cell_type": "code",
   "execution_count": 41,
   "metadata": {
    "ExecuteTime": {
     "end_time": "2018-04-17T22:29:34.255725Z",
     "start_time": "2018-04-17T22:29:34.224994Z"
    }
   },
   "outputs": [],
   "source": [
    "del train_categories, train_subcategories, test_categories, test_subcategories"
   ]
  },
  {
   "cell_type": "markdown",
   "metadata": {},
   "source": [
    "### Concatenating of Text Features"
   ]
  },
  {
   "cell_type": "markdown",
   "metadata": {
    "ExecuteTime": {
     "end_time": "2018-04-03T18:35:44.668030Z",
     "start_time": "2018-04-03T18:35:44.612677Z"
    }
   },
   "source": [
    "Considering what was pointed out in [3.1.1](#A-Note-on-Essay-Data). let's just join the different parts in the project essay into just one feature"
   ]
  },
  {
   "cell_type": "code",
   "execution_count": 42,
   "metadata": {
    "ExecuteTime": {
     "end_time": "2018-04-17T22:29:49.732654Z",
     "start_time": "2018-04-17T22:29:34.257427Z"
    }
   },
   "outputs": [
    {
     "data": {
      "text/plain": [
       "'Super Sight Word Centers Most of my kindergarten students come from low-income households and are considered \\\\\"at-risk\\\\\". These kids walk to school alongside their parents and most have never been further than walking distance from their house. For 80% of my students, English is not their first language or the language spoken at home. \\\\r\\\\n\\\\r\\\\nWhile my kindergarten kids have many obstacles in front of them, they come to school each day excited and ready to learn. Most students started the year out never being in a school setting. At the start of the year many had never been exposed to letters. Each day they soak up more knowledge and try their hardest to succeed. They are highly motivated to learn new things every day. We are halfway through the year and they are starting to take off. They know know all letters, some sight words, numbers to 20, and a majority of their letter sounds because of their hard work and determination. I am excited to see the places we will go from here! I currently have a differentiated sight word center that we do daily during our literacy stations. The students have activities that relate to whatever sight word list they are on. This is one of their favorite station activities. I want to continue to provide the students with engaging ways to practice their sight words. \\\\r\\\\n\\\\r\\\\nI dream of having the students use QR readers to scan the sight words that they are struggling with and the Ipods reading the sight words with them. This would help so many of my students by giving them multiple exposures to the words. My students need someone who can go over these sight words daily and I can\\'t always get around to everyone to practice their flashcards with them. With the Ipods they would still have a way to practice their sight words on a daily basis. nan nan My students need 6 Ipod Nano\\'s to create and differentiated and engaging way to practice sight words during a literacy station.'"
      ]
     },
     "execution_count": 42,
     "metadata": {},
     "output_type": "execute_result"
    }
   ],
   "source": [
    "# Thanks to opanichev for saving me a lot of time.\n",
    "# https://www.kaggle.com/opanichev/lightgbm-and-tf-idf-starter/code\n",
    "\n",
    "def join_text_data(df, idxs):\n",
    "    \n",
    "    merged_column = df.apply(lambda row: \" \".join([str(row[index]) for index in idxs]),axis=1)\n",
    "    \n",
    "    return merged_column\n",
    "\n",
    "\n",
    "idxs = [\"project_title\", \n",
    "        \"project_essay_1\", \n",
    "        \"project_essay_2\", \n",
    "        \"project_essay_3\", \n",
    "        \"project_essay_4\", \n",
    "        \"project_resource_summary\"]\n",
    "\n",
    "train['project_essay'] = join_text_data(train, idxs)\n",
    "\n",
    "test['project_essay'] = join_text_data(test, idxs)\n",
    "\n",
    "train['project_essay'][0]"
   ]
  },
  {
   "cell_type": "code",
   "execution_count": 43,
   "metadata": {
    "ExecuteTime": {
     "end_time": "2018-04-17T22:29:55.100547Z",
     "start_time": "2018-04-17T22:29:49.734597Z"
    }
   },
   "outputs": [],
   "source": [
    "# https://www.kaggle.com/opanichev/lightgbm-and-tf-idf-starter/code\n",
    "\n",
    "# Add textual numerical features\n",
    "def add_numerical_features(df):\n",
    "    df['project_title_len'] = df['project_title'].apply(lambda x: len(str(x)))\n",
    "    df['project_essay_1_len'] = df['project_essay_1'].apply(lambda x: len(str(x)))\n",
    "    df['project_essay_2_len'] = df['project_essay_2'].apply(lambda x: len(str(x)))\n",
    "    df['project_essay_3_len'] = df['project_essay_3'].apply(lambda x: len(str(x)))\n",
    "    df['project_essay_4_len'] = df['project_essay_4'].apply(lambda x: len(str(x)))\n",
    "    df['project_resource_summary_len'] = df['project_resource_summary'].apply(lambda x: len(str(x)))\n",
    "    \n",
    "    df['project_title_wc'] = df['project_title'].apply(lambda x: len(str(x).split(' ')))\n",
    "    df['project_essay_1_wc'] = df['project_essay_1'].apply(lambda x: len(str(x).split(' ')))\n",
    "    df['project_essay_2_wc'] = df['project_essay_2'].apply(lambda x: len(str(x).split(' ')))\n",
    "    df['project_essay_3_wc'] = df['project_essay_3'].apply(lambda x: len(str(x).split(' ')))\n",
    "    df['project_essay_4_wc'] = df['project_essay_4'].apply(lambda x: len(str(x).split(' ')))\n",
    "    df['project_resource_summary_wc'] = df['project_resource_summary'].apply(lambda x: len(str(x).split(' ')))\n",
    "  \n",
    "add_numerical_features(train)\n",
    "add_numerical_features(test)"
   ]
  },
  {
   "cell_type": "markdown",
   "metadata": {},
   "source": [
    "Now we drop the separate columns"
   ]
  },
  {
   "cell_type": "code",
   "execution_count": 44,
   "metadata": {
    "ExecuteTime": {
     "end_time": "2018-04-17T22:29:55.728298Z",
     "start_time": "2018-04-17T22:29:55.102432Z"
    }
   },
   "outputs": [],
   "source": [
    "train.drop(['project_title',\n",
    "            'project_essay_1', \n",
    "            'project_essay_2', \n",
    "            'project_essay_3', \n",
    "            'project_essay_4',\n",
    "            'project_resource_summary'], \n",
    "           axis=1, inplace=True)\n",
    "test.drop(['project_title',\n",
    "           'project_essay_1', \n",
    "           'project_essay_2', \n",
    "           'project_essay_3', \n",
    "           'project_essay_4',\n",
    "           'project_resource_summary'], \n",
    "           axis=1, inplace=True)"
   ]
  },
  {
   "cell_type": "code",
   "execution_count": 45,
   "metadata": {
    "ExecuteTime": {
     "end_time": "2018-04-17T22:29:55.871070Z",
     "start_time": "2018-04-17T22:29:55.730123Z"
    }
   },
   "outputs": [],
   "source": [
    "train[[\"subj_cat_2\", \"subj_subcat_2\"]] = train[[\"subj_cat_2\", \"subj_subcat_2\"]].fillna(\"unknown\")\n",
    "test[[\"subj_cat_2\", \"subj_subcat_2\"]] = test[[\"subj_cat_2\", \"subj_subcat_2\"]].fillna(\"unknown\")"
   ]
  },
  {
   "cell_type": "markdown",
   "metadata": {},
   "source": [
    "### Feature Scaling of Numerical Variables\n",
    "\n",
    "In order for algorithms to work, it's essential to proper encode the categorical variables and scale the numerical ones.\n",
    "\n",
    "For the `NANs`:\n",
    "\n",
    " * The categorical variable with the string `unknown`, because this can add some information instead of the null string `''`.\n",
    " * The Numerical variables are encoded to `0`"
   ]
  },
  {
   "cell_type": "code",
   "execution_count": 46,
   "metadata": {
    "ExecuteTime": {
     "end_time": "2018-04-17T22:29:56.347180Z",
     "start_time": "2018-04-17T22:29:55.872721Z"
    }
   },
   "outputs": [],
   "source": [
    "str_cols = ['teacher_id','teacher_prefix','school_state','project_grade_category',\n",
    "        'subj_cat_1','subj_cat_2', 'subj_subcat_1', 'subj_subcat_2']\n",
    "\n",
    "num_cols = [\"teacher_number_of_previously_posted_projects\", \n",
    "            \"unique_items\", \n",
    "            \"total_quantity\", \n",
    "            \"mean_cost\", \n",
    "            \"total_cost\",\n",
    "            \"project_title_len\",\n",
    "            \"project_title_wc\",\n",
    "            \"project_essay_1_len\",\n",
    "            \"project_essay_1_wc\",\n",
    "            \"project_essay_2_len\",\n",
    "            \"project_essay_2_wc\",\n",
    "            \"project_essay_3_len\",\n",
    "            \"project_essay_3_wc\",\n",
    "            \"project_essay_4_len\",\n",
    "            \"project_essay_4_wc\", \n",
    "            \"project_resource_summary_len\",\n",
    "            \"project_resource_summary_wc\"]\n",
    "\n",
    "train[str_cols] = train[str_cols].fillna(\"unknown\")\n",
    "train[num_cols] = train[num_cols].fillna(0)\n",
    "test[str_cols] = test[str_cols].fillna(\"unknown\")\n",
    "test[num_cols] = test[num_cols].fillna(0)"
   ]
  },
  {
   "cell_type": "markdown",
   "metadata": {},
   "source": [
    "Since this data is so heterogenous, instead of scaling the numerical variables with the `StandardScaler()` ( assuming normality ), we are going to adjust by the `MinMaxScaler()`"
   ]
  },
  {
   "cell_type": "code",
   "execution_count": 47,
   "metadata": {
    "ExecuteTime": {
     "end_time": "2018-04-17T22:29:57.075956Z",
     "start_time": "2018-04-17T22:29:56.348951Z"
    }
   },
   "outputs": [
    {
     "data": {
      "text/plain": [
       "279"
      ]
     },
     "execution_count": 47,
     "metadata": {},
     "output_type": "execute_result"
    }
   ],
   "source": [
    "scaler = MinMaxScaler()\n",
    "\n",
    "train[num_cols] = scaler.fit_transform(train[num_cols].values)\n",
    "test[num_cols] = scaler.fit_transform(test[num_cols].values)\n",
    "\n",
    "del scaler\n",
    "gc.collect()"
   ]
  },
  {
   "cell_type": "markdown",
   "metadata": {},
   "source": [
    "### Encoding of Categorical Variables\n",
    "Normally when there are a lot of categorical variables, we need to apply different strategies to each of them, but it's consolidated that XGBoost works best with label encoding instead of the more general One-Hot Encoding."
   ]
  },
  {
   "cell_type": "code",
   "execution_count": 48,
   "metadata": {
    "ExecuteTime": {
     "end_time": "2018-04-17T22:30:01.754932Z",
     "start_time": "2018-04-17T22:29:57.077967Z"
    }
   },
   "outputs": [
    {
     "data": {
      "application/vnd.jupyter.widget-view+json": {
       "model_id": "5ee76906b50d47ef9d36800b9856f956",
       "version_major": 2,
       "version_minor": 0
      },
      "text/plain": [
       "HBox(children=(IntProgress(value=0, max=8), HTML(value='')))"
      ]
     },
     "metadata": {},
     "output_type": "display_data"
    },
    {
     "name": "stdout",
     "output_type": "stream",
     "text": [
      "\n"
     ]
    },
    {
     "data": {
      "text/plain": [
       "21"
      ]
     },
     "execution_count": 48,
     "metadata": {},
     "output_type": "execute_result"
    }
   ],
   "source": [
    "# we need to enlarge the dictionary with the full data set to apply the encoding\n",
    "train_cat_features = train.copy()\n",
    "test_cat_features = test.copy()\n",
    "\n",
    "# To encode our variables we need to fit to all dataset, so we'll create a temp df\n",
    "full_dataset = pd.concat([train_cat_features, test_cat_features], axis=0)\n",
    "\n",
    "\n",
    "for c in tqdm_notebook(str_cols):\n",
    "    \n",
    "    # integer encode\n",
    "    label_encoder = LabelEncoder()\n",
    "    \n",
    "    values = np.array(full_dataset[c])\n",
    "    \n",
    "    label_encoder = label_encoder.fit(values.astype(str))\n",
    "    \n",
    "    # Binary Encode    \n",
    "    train[c] = label_encoder.transform(train_cat_features[c])\n",
    "    \n",
    "    test[c] = label_encoder.transform(test_cat_features[c])\n",
    "    \n",
    "\n",
    "del full_dataset, train_cat_features, test_cat_features\n",
    "gc.collect()"
   ]
  },
  {
   "cell_type": "code",
   "execution_count": 49,
   "metadata": {
    "ExecuteTime": {
     "end_time": "2018-04-17T22:30:01.809990Z",
     "start_time": "2018-04-17T22:30:01.756653Z"
    }
   },
   "outputs": [
    {
     "data": {
      "text/html": [
       "<div>\n",
       "<style scoped>\n",
       "    .dataframe tbody tr th:only-of-type {\n",
       "        vertical-align: middle;\n",
       "    }\n",
       "\n",
       "    .dataframe tbody tr th {\n",
       "        vertical-align: top;\n",
       "    }\n",
       "\n",
       "    .dataframe thead th {\n",
       "        text-align: right;\n",
       "    }\n",
       "</style>\n",
       "<table border=\"1\" class=\"dataframe\">\n",
       "  <thead>\n",
       "    <tr style=\"text-align: right;\">\n",
       "      <th></th>\n",
       "      <th>teacher_id</th>\n",
       "      <th>teacher_prefix</th>\n",
       "      <th>school_state</th>\n",
       "      <th>project_submitted_datetime</th>\n",
       "      <th>project_grade_category</th>\n",
       "      <th>teacher_number_of_previously_posted_projects</th>\n",
       "      <th>project_is_approved</th>\n",
       "      <th>unique_items</th>\n",
       "      <th>total_quantity</th>\n",
       "      <th>mean_cost</th>\n",
       "      <th>...</th>\n",
       "      <th>project_essay_2_len</th>\n",
       "      <th>project_essay_3_len</th>\n",
       "      <th>project_essay_4_len</th>\n",
       "      <th>project_resource_summary_len</th>\n",
       "      <th>project_title_wc</th>\n",
       "      <th>project_essay_1_wc</th>\n",
       "      <th>project_essay_2_wc</th>\n",
       "      <th>project_essay_3_wc</th>\n",
       "      <th>project_essay_4_wc</th>\n",
       "      <th>project_resource_summary_wc</th>\n",
       "    </tr>\n",
       "  </thead>\n",
       "  <tbody>\n",
       "    <tr>\n",
       "      <th>0</th>\n",
       "      <td>37239</td>\n",
       "      <td>3</td>\n",
       "      <td>33</td>\n",
       "      <td>1479480359000000000</td>\n",
       "      <td>3</td>\n",
       "      <td>0.057650</td>\n",
       "      <td>1</td>\n",
       "      <td>0.02</td>\n",
       "      <td>0.005382</td>\n",
       "      <td>0.036316</td>\n",
       "      <td>...</td>\n",
       "      <td>0.111937</td>\n",
       "      <td>0.0</td>\n",
       "      <td>0.0</td>\n",
       "      <td>0.116306</td>\n",
       "      <td>0.052632</td>\n",
       "      <td>0.341719</td>\n",
       "      <td>0.022924</td>\n",
       "      <td>0.0</td>\n",
       "      <td>0.0</td>\n",
       "      <td>0.126866</td>\n",
       "    </tr>\n",
       "    <tr>\n",
       "      <th>1</th>\n",
       "      <td>115331</td>\n",
       "      <td>2</td>\n",
       "      <td>10</td>\n",
       "      <td>1493222248000000000</td>\n",
       "      <td>0</td>\n",
       "      <td>0.002217</td>\n",
       "      <td>0</td>\n",
       "      <td>0.01</td>\n",
       "      <td>0.020452</td>\n",
       "      <td>0.032267</td>\n",
       "      <td>...</td>\n",
       "      <td>0.078577</td>\n",
       "      <td>0.0</td>\n",
       "      <td>0.0</td>\n",
       "      <td>0.063854</td>\n",
       "      <td>0.070175</td>\n",
       "      <td>0.182390</td>\n",
       "      <td>0.014273</td>\n",
       "      <td>0.0</td>\n",
       "      <td>0.0</td>\n",
       "      <td>0.059701</td>\n",
       "    </tr>\n",
       "    <tr>\n",
       "      <th>2</th>\n",
       "      <td>87678</td>\n",
       "      <td>3</td>\n",
       "      <td>44</td>\n",
       "      <td>1483311464000000000</td>\n",
       "      <td>0</td>\n",
       "      <td>0.011086</td>\n",
       "      <td>1</td>\n",
       "      <td>0.01</td>\n",
       "      <td>0.000000</td>\n",
       "      <td>0.037938</td>\n",
       "      <td>...</td>\n",
       "      <td>0.059887</td>\n",
       "      <td>0.0</td>\n",
       "      <td>0.0</td>\n",
       "      <td>0.183580</td>\n",
       "      <td>0.052632</td>\n",
       "      <td>0.268344</td>\n",
       "      <td>0.014057</td>\n",
       "      <td>0.0</td>\n",
       "      <td>0.0</td>\n",
       "      <td>0.216418</td>\n",
       "    </tr>\n",
       "    <tr>\n",
       "      <th>3</th>\n",
       "      <td>42475</td>\n",
       "      <td>1</td>\n",
       "      <td>27</td>\n",
       "      <td>1471016531000000000</td>\n",
       "      <td>0</td>\n",
       "      <td>0.035477</td>\n",
       "      <td>0</td>\n",
       "      <td>0.05</td>\n",
       "      <td>0.004306</td>\n",
       "      <td>0.010950</td>\n",
       "      <td>...</td>\n",
       "      <td>0.193127</td>\n",
       "      <td>0.0</td>\n",
       "      <td>0.0</td>\n",
       "      <td>0.237172</td>\n",
       "      <td>0.157895</td>\n",
       "      <td>0.417191</td>\n",
       "      <td>0.035900</td>\n",
       "      <td>0.0</td>\n",
       "      <td>0.0</td>\n",
       "      <td>0.246269</td>\n",
       "    </tr>\n",
       "    <tr>\n",
       "      <th>4</th>\n",
       "      <td>85849</td>\n",
       "      <td>1</td>\n",
       "      <td>4</td>\n",
       "      <td>1470474551000000000</td>\n",
       "      <td>1</td>\n",
       "      <td>0.093126</td>\n",
       "      <td>1</td>\n",
       "      <td>0.01</td>\n",
       "      <td>0.001076</td>\n",
       "      <td>0.057465</td>\n",
       "      <td>...</td>\n",
       "      <td>0.061897</td>\n",
       "      <td>0.0</td>\n",
       "      <td>0.0</td>\n",
       "      <td>0.052452</td>\n",
       "      <td>0.140351</td>\n",
       "      <td>0.161426</td>\n",
       "      <td>0.015571</td>\n",
       "      <td>0.0</td>\n",
       "      <td>0.0</td>\n",
       "      <td>0.059701</td>\n",
       "    </tr>\n",
       "  </tbody>\n",
       "</table>\n",
       "<p>5 rows × 33 columns</p>\n",
       "</div>"
      ],
      "text/plain": [
       "   teacher_id  teacher_prefix  school_state  project_submitted_datetime  \\\n",
       "0       37239               3            33         1479480359000000000   \n",
       "1      115331               2            10         1493222248000000000   \n",
       "2       87678               3            44         1483311464000000000   \n",
       "3       42475               1            27         1471016531000000000   \n",
       "4       85849               1             4         1470474551000000000   \n",
       "\n",
       "   project_grade_category  teacher_number_of_previously_posted_projects  \\\n",
       "0                       3                                      0.057650   \n",
       "1                       0                                      0.002217   \n",
       "2                       0                                      0.011086   \n",
       "3                       0                                      0.035477   \n",
       "4                       1                                      0.093126   \n",
       "\n",
       "   project_is_approved  unique_items  total_quantity  mean_cost  \\\n",
       "0                    1          0.02        0.005382   0.036316   \n",
       "1                    0          0.01        0.020452   0.032267   \n",
       "2                    1          0.01        0.000000   0.037938   \n",
       "3                    0          0.05        0.004306   0.010950   \n",
       "4                    1          0.01        0.001076   0.057465   \n",
       "\n",
       "              ...               project_essay_2_len  project_essay_3_len  \\\n",
       "0             ...                          0.111937                  0.0   \n",
       "1             ...                          0.078577                  0.0   \n",
       "2             ...                          0.059887                  0.0   \n",
       "3             ...                          0.193127                  0.0   \n",
       "4             ...                          0.061897                  0.0   \n",
       "\n",
       "   project_essay_4_len  project_resource_summary_len  project_title_wc  \\\n",
       "0                  0.0                      0.116306          0.052632   \n",
       "1                  0.0                      0.063854          0.070175   \n",
       "2                  0.0                      0.183580          0.052632   \n",
       "3                  0.0                      0.237172          0.157895   \n",
       "4                  0.0                      0.052452          0.140351   \n",
       "\n",
       "   project_essay_1_wc  project_essay_2_wc  project_essay_3_wc  \\\n",
       "0            0.341719            0.022924                 0.0   \n",
       "1            0.182390            0.014273                 0.0   \n",
       "2            0.268344            0.014057                 0.0   \n",
       "3            0.417191            0.035900                 0.0   \n",
       "4            0.161426            0.015571                 0.0   \n",
       "\n",
       "   project_essay_4_wc  project_resource_summary_wc  \n",
       "0                 0.0                     0.126866  \n",
       "1                 0.0                     0.059701  \n",
       "2                 0.0                     0.216418  \n",
       "3                 0.0                     0.246269  \n",
       "4                 0.0                     0.059701  \n",
       "\n",
       "[5 rows x 33 columns]"
      ]
     },
     "execution_count": 49,
     "metadata": {},
     "output_type": "execute_result"
    }
   ],
   "source": [
    "train.head()"
   ]
  },
  {
   "cell_type": "markdown",
   "metadata": {},
   "source": [
    "### NLP Processing on text features\n",
    "As we can see from above, our dataset is mostly numeric by now. The last feature to process are the textual ones. That's where the NLP part of our project begin."
   ]
  },
  {
   "cell_type": "markdown",
   "metadata": {},
   "source": [
    "One common first step in NLP is to apply steemming, where is extract the root, `steem`,  of the words, another one is to extract its `lemma`, the base form encountered in the dictionaries. \n",
    "\n",
    "From [Wikipedia](https://en.wikipedia.org/wiki/Lemmatisation):\n",
    "\n",
    " > The difference is that a stemmer operates on a single word without knowledge of the context, and therefore cannot discriminate between words which have different meanings depending on part of speech.<br>\n",
    " > ...<br>\n",
    " > For instance:\n",
    "  * The word \"better\" has \"good\" as its lemma. This link is missed by stemming, as it requires a dictionary look-up.\n",
    "  * The word \"walk\" is the base form for word \"walking\", and hence this is matched in both stemming and lemmatisation.\n",
    "  * The word \"meeting\" can be either the base form of a noun or a form of a verb (\"to meet\") depending on the context; e.g., \"in our last meeting\" or \"We are meeting again tomorrow\". Unlike stemming, lemmatisation attempts to select the correct lemma depending on the context.\n",
    "\n",
    " "
   ]
  },
  {
   "cell_type": "markdown",
   "metadata": {},
   "source": [
    "Let's create a function that strip all the undesirable characters from our text and replace them for spaces, then we'll tokenize the text using those spaces as separators\n",
    "\n",
    "#### Whitespace tokenization and Lemma Extraction"
   ]
  },
  {
   "cell_type": "code",
   "execution_count": 51,
   "metadata": {
    "ExecuteTime": {
     "end_time": "2018-04-17T22:30:01.900883Z",
     "start_time": "2018-04-17T22:30:01.866224Z"
    }
   },
   "outputs": [],
   "source": [
    "# Function adapted from jmbull\n",
    "# https://www.kaggle.com/jmbull/xtra-credit-xgb-lgb-tfidf-feature-stacking\n",
    "\n",
    "import re\n",
    "\n",
    "word_tokenizer = WhitespaceTokenizer()\n",
    "lemmatizer = WordNetLemmatizer()\n",
    "\n",
    "def tokenize(text: str)-> list:\n",
    "    \"\"\"Receives a text, cleans it and tokenize\n",
    "    Args:\n",
    "        text = text as string\n",
    "    Returns:\n",
    "        list of tokens\n",
    "    \"\"\"\n",
    "    text = text.strip().lower()\n",
    "    \n",
    "    separators = [\n",
    "        ('\\W+',' '), # non-word -> space\n",
    "        (r'(\\\")', ' '), # double-quote\n",
    "        (r'(\\r)', ' '), # escape seq\n",
    "        (r'(\\n)', ' '), # newline\n",
    "        (r'(\\r\\n)', ' '), # escape + newline+\n",
    "        (r'(\\\\)', ' '), # backslash\n",
    "        (r'\\t', ' '), # tab\n",
    "        (r'\\:', ' '), # colon\n",
    "        (r'\\\"\\\"\\\"\\\"', ' '), # sequence of double quotes\n",
    "        (r'_', ' '), # underline\n",
    "        (r'\\+', ' '), # plus sign\n",
    "        (r'\\=', ' '), # equal sign\n",
    "        (' i m ',' i\\'m '), # missing contraction\n",
    "        ('n t ','n\\'t '), # missing negative contraction\n",
    "        (' re ',' are ') # expand contraction\n",
    "    ]\n",
    "    for p, repl in separators:\n",
    "        \n",
    "        text = re.sub(p, repl, text)\n",
    "    \n",
    "    text = [lemmatizer.lemmatize(w) for w in word_tokenizer.tokenize(text)]\n",
    "    \n",
    "    text = [token for token in text if token not in stop] \n",
    "    \n",
    "    return text"
   ]
  },
  {
   "cell_type": "code",
   "execution_count": 52,
   "metadata": {
    "ExecuteTime": {
     "end_time": "2018-04-17T22:36:06.328292Z",
     "start_time": "2018-04-17T22:30:01.902659Z"
    }
   },
   "outputs": [],
   "source": [
    "train['project_essay'] = train['project_essay'].apply(lambda row: tokenize(row))\n",
    "test['project_essay'] = test['project_essay'].apply(lambda row: tokenize(row))"
   ]
  },
  {
   "cell_type": "markdown",
   "metadata": {},
   "source": [
    "#### Let's apply Term Frequency versus Inverse Document Frequency - TF-IDF"
   ]
  },
  {
   "cell_type": "code",
   "execution_count": 53,
   "metadata": {
    "ExecuteTime": {
     "end_time": "2018-04-17T22:36:08.748432Z",
     "start_time": "2018-04-17T22:36:06.330142Z"
    }
   },
   "outputs": [
    {
     "data": {
      "text/plain": [
       "0"
      ]
     },
     "execution_count": 53,
     "metadata": {},
     "output_type": "execute_result"
    }
   ],
   "source": [
    "train[\"project_essay\"] = train['project_essay'].apply(lambda row: \" \".join(row))\n",
    "test[\"project_essay\"] = test['project_essay'].apply(lambda row: \" \".join(row))\n",
    "gc.collect()"
   ]
  },
  {
   "cell_type": "code",
   "execution_count": null,
   "metadata": {
    "ExecuteTime": {
     "end_time": "2018-04-17T22:40:03.672266Z",
     "start_time": "2018-04-17T22:39:47.242Z"
    }
   },
   "outputs": [],
   "source": [
    "train[\"project_essay\"]"
   ]
  },
  {
   "cell_type": "code",
   "execution_count": 57,
   "metadata": {
    "ExecuteTime": {
     "end_time": "2018-04-17T22:40:31.132143Z",
     "start_time": "2018-04-17T22:40:14.947707Z"
    }
   },
   "outputs": [],
   "source": [
    "train.to_csv(\"train_tokenized.csv\", index=False)\n",
    "test.to_csv(\"test_tokenized.csv\", index=False)"
   ]
  },
  {
   "cell_type": "code",
   "execution_count": 3,
   "metadata": {
    "ExecuteTime": {
     "end_time": "2018-04-18T06:49:35.008795Z",
     "start_time": "2018-04-18T06:49:32.041782Z"
    }
   },
   "outputs": [],
   "source": [
    "train = pd.read_csv(\"train_tokenized.csv\", low_memory=True)\n",
    "#test = pd.read_csv(\"test_tokenized.csv\", low_memory=True)"
   ]
  },
  {
   "cell_type": "code",
   "execution_count": 3,
   "metadata": {
    "ExecuteTime": {
     "end_time": "2018-04-18T04:04:57.418928Z",
     "start_time": "2018-04-18T04:04:57.378916Z"
    }
   },
   "outputs": [
    {
     "data": {
      "text/plain": [
       "\"super sight word center kindergarten student come low income household considered risk kid walk school alongside parent never walking distance house 80 student english first language language spoken home r n r nwhile kindergarten kid many obstacle front come school day excited ready learn student started year never school setting start year many never exposed letter day soak knowledge try hardest succeed highly motivated learn new thing every day halfway year starting take know know letter sight word number 20 majority letter sound hard work determination excited see place go currently differentiated sight word center daily literacy station student activity relate whatever sight word list one favorite station activity want continue provide student engaging way practice sight word r n r ni dream student use qr reader scan sight word struggling ipod reading sight word would help many student giving multiple exposure word student need someone go sight word daily can't always get around everyone practice flashcard ipod would still way practice sight word daily basis nan nan student need 6 ipod nano create differentiated engaging way practice sight word literacy station\""
      ]
     },
     "execution_count": 3,
     "metadata": {},
     "output_type": "execute_result"
    }
   ],
   "source": [
    "train[\"project_essay\"][0]"
   ]
  },
  {
   "cell_type": "code",
   "execution_count": 4,
   "metadata": {
    "ExecuteTime": {
     "end_time": "2018-04-18T06:33:17.432006Z",
     "start_time": "2018-04-18T06:33:17.413089Z"
    }
   },
   "outputs": [],
   "source": [
    "# Code borrowed from Abishek: \n",
    "# https://www.kaggle.com/abhishek/approaching-almost-any-nlp-problem-on-kaggle\n",
    "\n",
    "tfv = TfidfVectorizer(norm='l2', min_df=0, max_features=8000, strip_accents='unicode', analyzer='word', token_pattern=r'\\w{1,}',\n",
    "                      ngram_range=(1,2), use_idf=True, smooth_idf=False, sublinear_tf=True,\n",
    "                      stop_words = stop)"
   ]
  },
  {
   "cell_type": "code",
   "execution_count": 5,
   "metadata": {
    "ExecuteTime": {
     "end_time": "2018-04-18T06:34:41.205478Z",
     "start_time": "2018-04-18T06:33:21.075205Z"
    }
   },
   "outputs": [
    {
     "data": {
      "text/plain": [
       "0"
      ]
     },
     "execution_count": 5,
     "metadata": {},
     "output_type": "execute_result"
    }
   ],
   "source": [
    "tfv.fit(list(train[\"project_essay\"])) \n",
    "\n",
    "gc.collect()"
   ]
  },
  {
   "cell_type": "code",
   "execution_count": 6,
   "metadata": {
    "ExecuteTime": {
     "end_time": "2018-04-18T06:34:43.621225Z",
     "start_time": "2018-04-18T06:34:41.411707Z"
    }
   },
   "outputs": [],
   "source": [
    "with open(\"tfv_fitted_train.obj\", \"wb\") as f:\n",
    "    pickle.dump(tfv,f)"
   ]
  },
  {
   "cell_type": "code",
   "execution_count": 7,
   "metadata": {
    "ExecuteTime": {
     "end_time": "2018-04-18T06:35:36.812593Z",
     "start_time": "2018-04-18T06:34:43.833446Z"
    }
   },
   "outputs": [
    {
     "data": {
      "text/plain": [
       "152"
      ]
     },
     "execution_count": 7,
     "metadata": {},
     "output_type": "execute_result"
    }
   ],
   "source": [
    "#train_tfv = np.array(tfv.transform(train[\"project_essay\"]).toarray(), dtype=np.float16)\n",
    "\n",
    "train_tfv = tfv.transform(train[\"project_essay\"])\n",
    "\n",
    "gc.collect()"
   ]
  },
  {
   "cell_type": "code",
   "execution_count": 6,
   "metadata": {
    "ExecuteTime": {
     "end_time": "2018-04-18T06:18:49.871538Z",
     "start_time": "2018-04-18T06:18:12.221140Z"
    }
   },
   "outputs": [
    {
     "data": {
      "text/plain": [
       "0"
      ]
     },
     "execution_count": 6,
     "metadata": {},
     "output_type": "execute_result"
    }
   ],
   "source": [
    "#tfv.fit(list(test[\"project_essay\"])) \n",
    "\n",
    "#gc.collect()"
   ]
  },
  {
   "cell_type": "code",
   "execution_count": 7,
   "metadata": {
    "ExecuteTime": {
     "end_time": "2018-04-18T06:18:52.564902Z",
     "start_time": "2018-04-18T06:18:51.289939Z"
    }
   },
   "outputs": [],
   "source": [
    "#with open(\"tfv_test.obj\", \"wb\") as f:\n",
    "#    pickle.dump(tfv, f)"
   ]
  },
  {
   "cell_type": "code",
   "execution_count": 8,
   "metadata": {
    "ExecuteTime": {
     "end_time": "2018-04-18T06:36:00.476003Z",
     "start_time": "2018-04-18T06:35:37.558039Z"
    }
   },
   "outputs": [
    {
     "data": {
      "text/plain": [
       "152"
      ]
     },
     "execution_count": 8,
     "metadata": {},
     "output_type": "execute_result"
    }
   ],
   "source": [
    "#test_tfv = np.array(tfv.transform(test[\"project_essay\"]).toarray(), dtype=np.float16)\n",
    "\n",
    "test_tfv = tfv.transform(test[\"project_essay\"])\n",
    "\n",
    "gc.collect()"
   ]
  },
  {
   "cell_type": "code",
   "execution_count": 10,
   "metadata": {
    "ExecuteTime": {
     "end_time": "2018-04-18T06:36:02.479727Z",
     "start_time": "2018-04-18T06:36:02.459122Z"
    }
   },
   "outputs": [
    {
     "name": "stdout",
     "output_type": "stream",
     "text": [
      "Train TFIDF Shape: (182080, 8000), Test TFIDF Shape: (78035, 8000)\n"
     ]
    }
   ],
   "source": [
    "print(\"Train TFIDF Shape: {}, Test TFIDF Shape: {}\".format(train_tfv.shape, test_tfv.shape))"
   ]
  },
  {
   "cell_type": "code",
   "execution_count": 4,
   "metadata": {
    "ExecuteTime": {
     "end_time": "2018-04-18T06:49:44.347410Z",
     "start_time": "2018-04-18T06:49:44.208959Z"
    }
   },
   "outputs": [
    {
     "data": {
      "text/plain": [
       "354"
      ]
     },
     "execution_count": 4,
     "metadata": {},
     "output_type": "execute_result"
    }
   ],
   "source": [
    "target = train[\"project_is_approved\"]\n",
    "train = train.drop([\"project_is_approved\", \"project_essay\"], axis=1)\n",
    "#test = test.drop([\"project_essay\"], axis=1)\n",
    "gc.collect()"
   ]
  },
  {
   "cell_type": "code",
   "execution_count": 11,
   "metadata": {
    "ExecuteTime": {
     "end_time": "2018-04-18T06:19:22.582625Z",
     "start_time": "2018-04-18T06:19:22.553033Z"
    }
   },
   "outputs": [
    {
     "name": "stdout",
     "output_type": "stream",
     "text": [
      "Train Shape: (182080, 31), Test Shape: (78035, 31)\n"
     ]
    }
   ],
   "source": [
    "print(\"Train Shape: {}, Test Shape: {}\".format(train.shape, test.shape))"
   ]
  },
  {
   "cell_type": "markdown",
   "metadata": {},
   "source": [
    "The `fit` and `transform` method from the object `TfidfVectorizer` above creates a Sparse Matrix of vectors with our tokens. We transformed this model back to a numpy array to make it easier to interpret. Now we'll join these vectors with our original data in place of the original text data."
   ]
  },
  {
   "cell_type": "code",
   "execution_count": 38,
   "metadata": {
    "ExecuteTime": {
     "end_time": "2018-04-18T03:12:22.624153Z",
     "start_time": "2018-04-18T03:12:22.605422Z"
    }
   },
   "outputs": [],
   "source": [
    "skf = RepeatedStratifiedKFold(n_splits=2, n_repeats=6, random_state=42)"
   ]
  },
  {
   "cell_type": "code",
   "execution_count": 39,
   "metadata": {
    "ExecuteTime": {
     "end_time": "2018-04-18T03:12:40.499952Z",
     "start_time": "2018-04-18T03:12:40.452369Z"
    }
   },
   "outputs": [],
   "source": []
  },
  {
   "cell_type": "code",
   "execution_count": 12,
   "metadata": {
    "ExecuteTime": {
     "end_time": "2018-04-18T06:36:13.076336Z",
     "start_time": "2018-04-18T06:36:10.704519Z"
    }
   },
   "outputs": [],
   "source": [
    "train_stack = csr_matrix(train.values)\n",
    "test_stack = csr_matrix(test.values)\n",
    "\n",
    "train_stack = hstack([train_stack, train_tfv[0:train_stack.shape[0]]])\n",
    "test_stack = hstack([test_stack, test_tfv[0:test_stack.shape[0]]])"
   ]
  },
  {
   "cell_type": "code",
   "execution_count": 5,
   "metadata": {
    "ExecuteTime": {
     "end_time": "2018-04-18T06:49:48.881168Z",
     "start_time": "2018-04-18T06:49:47.959191Z"
    }
   },
   "outputs": [],
   "source": [
    "with open(\"train_stack.obj\", 'rb') as f:\n",
    "    train_stack = pickle.load(f)\n",
    "    \n",
    "with open(\"test_stack.obj\", 'rb') as g:\n",
    "    test_stack = pickle.load(g)    "
   ]
  },
  {
   "cell_type": "markdown",
   "metadata": {},
   "source": [
    "Let's save our final dataset before run the model"
   ]
  },
  {
   "cell_type": "code",
   "execution_count": 14,
   "metadata": {
    "ExecuteTime": {
     "end_time": "2018-04-18T06:37:01.729801Z",
     "start_time": "2018-04-18T06:37:01.355303Z"
    }
   },
   "outputs": [
    {
     "name": "stdout",
     "output_type": "stream",
     "text": [
      "Train Shape: (182080, 8031), Test Shape: (78035, 8031)\n"
     ]
    },
    {
     "data": {
      "text/plain": [
       "160"
      ]
     },
     "execution_count": 14,
     "metadata": {},
     "output_type": "execute_result"
    }
   ],
   "source": [
    "print(\"Train Shape: {}, Test Shape: {}\".format(train_stack.shape, test_stack.shape))\n",
    "    \n",
    "gc.collect()    "
   ]
  },
  {
   "cell_type": "markdown",
   "metadata": {},
   "source": [
    "### Fine-Tuning Model\n",
    "\n",
    "My original attempt was to follow the procedure in the article [Complete Guide to Parameter Tuning in XGBoost (with codes in Python)](https://www.analyticsvidhya.com/blog/2016/03/complete-guide-parameter-tuning-xgboost-with-codes-python/).\n",
    "Since the xgboost library has its own cross validation, the procedure was to use the sklearn wrapper `XGBClassifier` to perform hyperparameter tuning using sklearn’s `GridSearchCV` with parallel processing. \n",
    "\n",
    "Nevertheless, even after compiling xgboost with GPU support, I've failed repeatedly to make use of `GridSearchCV` or `RandomSearchCV`, even in a 8CPU, Tesla K80 GPU and 30GB RAM the code kept running out of memory.  \n",
    "\n",
    "So I decided to use values well stablished values of hyperparameters by the community. "
   ]
  },
  {
   "cell_type": "markdown",
   "metadata": {},
   "source": [
    "Since our data is very imbalanced: ~90% ratio of *approved vs non-approved*, it's important to deal with this in our cross-validation. One approach is to use `StratifiedKFold`, but the xgboost library already has embedded a Cross Validation method with stratification and preprocessing as parameters. So I used this method instead.\n",
    "\n",
    "The following function, borrowed from the [xgboost documentation](https://github.com/dmlc/xgboost/blob/master/demo/guide-python/cross_validation.py), defines the ratio of imbalance to each fold in the cross-validation"
   ]
  },
  {
   "cell_type": "code",
   "execution_count": 24,
   "metadata": {
    "ExecuteTime": {
     "end_time": "2018-04-18T05:10:37.548723Z",
     "start_time": "2018-04-18T05:10:37.528608Z"
    }
   },
   "outputs": [],
   "source": [
    "# define the preprocessing function\n",
    "# used to set the parameter to consider the imbalance of our classes\n",
    "def fpreproc(dtrain, dtest, param):\n",
    "    label = dtrain.get_label()\n",
    "    ratio = float(np.sum(label == 0)) / np.sum(label == 1)\n",
    "    param['scale_pos_weight'] = ratio\n",
    "    return (dtrain, dtest, param)"
   ]
  },
  {
   "cell_type": "code",
   "execution_count": null,
   "metadata": {},
   "outputs": [],
   "source": []
  },
  {
   "cell_type": "code",
   "execution_count": 30,
   "metadata": {
    "ExecuteTime": {
     "end_time": "2018-04-18T05:16:11.716169Z",
     "start_time": "2018-04-18T05:16:11.693509Z"
    }
   },
   "outputs": [],
   "source": [
    "def modelfit(alg, X_train, X_valid, y_train, y_valid, useTrainCV=True, cv_folds=5, early_stopping_rounds=50):\n",
    "    \n",
    "    if useTrainCV:\n",
    "        \n",
    "        xgb_param = alg.get_params()\n",
    "        \n",
    "        dtrain = xgb.DMatrix(X_train, y_train)\n",
    "        \n",
    "        cvresult = xgb.cv(xgb_param, \n",
    "                          dtrain, \n",
    "                          num_boost_round=alg.get_params()[\"n_estimators\"], \n",
    "                          nfold=cv_folds,\n",
    "                          metrics='auc', \n",
    "                          early_stopping_rounds=early_stopping_rounds, \n",
    "                          verbose_eval=True,\n",
    "                          seed=42,\n",
    "                          fpreproc=fpreproc)\n",
    "        \n",
    "        alg.set_params(n_estimators=cvresult.shape[0])\n",
    "    \n",
    "    #Fit the algorithm on the data\n",
    "    alg.fit(X_train, y_train, eval_metric='auc')\n",
    "        \n",
    "    #Predict training set:\n",
    "    dtrain_predictions = alg.predict(X_valid)\n",
    "    dtrain_predprob = alg.predict_proba(X_valid)[:,1]\n",
    "        \n",
    "    #Print model report:\n",
    "    print(\"\\nModel Report\")\n",
    "    print(\"Accuracy : %.4g\" % accuracy_score(y_valid.values, dtrain_predictions))\n",
    "    print(\"AUC Score (Train): %f\" % roc_auc_score(y_valid, dtrain_predprob))\n",
    "    \n",
    "                        \n",
    "    #feat_imp = pd.Series(alg.booster().get_fscore()).sort_values(ascending=False)\n",
    "    #feat_imp.plot(kind='bar', title='Feature Importances')\n",
    "    #plt.ylabel('Feature Importance Score')"
   ]
  },
  {
   "cell_type": "code",
   "execution_count": 19,
   "metadata": {
    "ExecuteTime": {
     "end_time": "2018-04-18T05:06:34.947986Z",
     "start_time": "2018-04-18T05:06:34.927489Z"
    }
   },
   "outputs": [],
   "source": [
    "skf = StratifiedKFold(n_splits=5, shuffle=True, random_state=42)"
   ]
  },
  {
   "cell_type": "code",
   "execution_count": 8,
   "metadata": {
    "ExecuteTime": {
     "end_time": "2018-04-18T06:50:27.663105Z",
     "start_time": "2018-04-18T06:50:24.404536Z"
    }
   },
   "outputs": [],
   "source": [
    "X_train, X_valid, y_train, y_valid = train_test_split(train_stack, target, test_size=0.1, shuffle=True)"
   ]
  },
  {
   "cell_type": "code",
   "execution_count": 10,
   "metadata": {
    "ExecuteTime": {
     "end_time": "2018-04-18T06:52:11.260082Z",
     "start_time": "2018-04-18T06:52:11.234198Z"
    }
   },
   "outputs": [],
   "source": [
    "ratio = float(np.sum(target == 0)) / np.sum(target == 1)"
   ]
  },
  {
   "cell_type": "code",
   "execution_count": 11,
   "metadata": {
    "ExecuteTime": {
     "end_time": "2018-04-18T06:59:48.181269Z",
     "start_time": "2018-04-18T06:52:13.473165Z"
    }
   },
   "outputs": [
    {
     "name": "stdout",
     "output_type": "stream",
     "text": [
      "[0]\ttrain-auc:0.726954\n",
      "[1]\ttrain-auc:0.735296\n",
      "[2]\ttrain-auc:0.739371\n",
      "[3]\ttrain-auc:0.74349\n",
      "[4]\ttrain-auc:0.746235\n",
      "[5]\ttrain-auc:0.748626\n",
      "[6]\ttrain-auc:0.750376\n",
      "[7]\ttrain-auc:0.750789\n",
      "[8]\ttrain-auc:0.751695\n",
      "[9]\ttrain-auc:0.751976\n",
      "[10]\ttrain-auc:0.752213\n",
      "[11]\ttrain-auc:0.752558\n",
      "[12]\ttrain-auc:0.752893\n",
      "[13]\ttrain-auc:0.753073\n",
      "[14]\ttrain-auc:0.753389\n",
      "[15]\ttrain-auc:0.753471\n",
      "[16]\ttrain-auc:0.753704\n",
      "[17]\ttrain-auc:0.753763\n",
      "[18]\ttrain-auc:0.753818\n",
      "[19]\ttrain-auc:0.753915\n",
      "[20]\ttrain-auc:0.754096\n",
      "[21]\ttrain-auc:0.754234\n",
      "[22]\ttrain-auc:0.754577\n",
      "[23]\ttrain-auc:0.754709\n",
      "[24]\ttrain-auc:0.754746\n",
      "[25]\ttrain-auc:0.754995\n",
      "[26]\ttrain-auc:0.755209\n",
      "[27]\ttrain-auc:0.755297\n",
      "[28]\ttrain-auc:0.755363\n",
      "[29]\ttrain-auc:0.755596\n",
      "[30]\ttrain-auc:0.755709\n",
      "[31]\ttrain-auc:0.755842\n",
      "[32]\ttrain-auc:0.756022\n",
      "[33]\ttrain-auc:0.75636\n",
      "[34]\ttrain-auc:0.756516\n",
      "[35]\ttrain-auc:0.756703\n",
      "[36]\ttrain-auc:0.756718\n",
      "[37]\ttrain-auc:0.757\n",
      "[38]\ttrain-auc:0.757171\n",
      "[39]\ttrain-auc:0.757484\n",
      "[40]\ttrain-auc:0.758087\n",
      "[41]\ttrain-auc:0.758472\n",
      "[42]\ttrain-auc:0.758637\n",
      "[43]\ttrain-auc:0.758758\n",
      "[44]\ttrain-auc:0.758915\n",
      "[45]\ttrain-auc:0.759108\n",
      "[46]\ttrain-auc:0.759511\n",
      "[47]\ttrain-auc:0.759746\n",
      "[48]\ttrain-auc:0.75996\n",
      "[49]\ttrain-auc:0.760093\n",
      "[50]\ttrain-auc:0.760301\n",
      "[51]\ttrain-auc:0.760481\n",
      "[52]\ttrain-auc:0.760605\n",
      "[53]\ttrain-auc:0.76073\n",
      "[54]\ttrain-auc:0.760819\n",
      "[55]\ttrain-auc:0.761043\n",
      "[56]\ttrain-auc:0.761149\n",
      "[57]\ttrain-auc:0.761358\n",
      "[58]\ttrain-auc:0.761481\n",
      "[59]\ttrain-auc:0.761585\n",
      "[60]\ttrain-auc:0.76173\n",
      "[61]\ttrain-auc:0.761914\n",
      "[62]\ttrain-auc:0.762134\n",
      "[63]\ttrain-auc:0.762318\n",
      "[64]\ttrain-auc:0.762566\n",
      "[65]\ttrain-auc:0.76277\n",
      "[66]\ttrain-auc:0.76297\n",
      "[67]\ttrain-auc:0.763424\n",
      "[68]\ttrain-auc:0.763597\n",
      "[69]\ttrain-auc:0.763739\n",
      "[70]\ttrain-auc:0.763887\n",
      "[71]\ttrain-auc:0.764043\n",
      "[72]\ttrain-auc:0.764186\n",
      "[73]\ttrain-auc:0.764375\n",
      "[74]\ttrain-auc:0.764562\n",
      "[75]\ttrain-auc:0.764695\n",
      "[76]\ttrain-auc:0.764844\n",
      "[77]\ttrain-auc:0.764976\n",
      "[78]\ttrain-auc:0.765106\n",
      "[79]\ttrain-auc:0.76524\n",
      "[80]\ttrain-auc:0.765402\n",
      "[81]\ttrain-auc:0.765637\n",
      "[82]\ttrain-auc:0.765777\n",
      "[83]\ttrain-auc:0.765999\n",
      "[84]\ttrain-auc:0.766148\n",
      "[85]\ttrain-auc:0.766283\n",
      "[86]\ttrain-auc:0.766412\n",
      "[87]\ttrain-auc:0.766568\n",
      "[88]\ttrain-auc:0.766741\n",
      "[89]\ttrain-auc:0.76688\n",
      "[90]\ttrain-auc:0.76704\n",
      "[91]\ttrain-auc:0.767147\n",
      "[92]\ttrain-auc:0.767356\n",
      "[93]\ttrain-auc:0.767542\n",
      "[94]\ttrain-auc:0.76771\n",
      "[95]\ttrain-auc:0.76785\n",
      "[96]\ttrain-auc:0.768028\n",
      "[97]\ttrain-auc:0.768191\n",
      "[98]\ttrain-auc:0.768331\n",
      "[99]\ttrain-auc:0.76851\n",
      "[100]\ttrain-auc:0.768633\n",
      "[101]\ttrain-auc:0.768873\n",
      "[102]\ttrain-auc:0.769051\n",
      "[103]\ttrain-auc:0.769187\n",
      "[104]\ttrain-auc:0.769383\n",
      "[105]\ttrain-auc:0.769535\n",
      "[106]\ttrain-auc:0.769717\n",
      "[107]\ttrain-auc:0.769886\n",
      "[108]\ttrain-auc:0.770056\n",
      "[109]\ttrain-auc:0.770199\n",
      "[110]\ttrain-auc:0.770361\n",
      "[111]\ttrain-auc:0.770494\n",
      "[112]\ttrain-auc:0.770622\n",
      "[113]\ttrain-auc:0.770775\n",
      "[114]\ttrain-auc:0.770894\n",
      "[115]\ttrain-auc:0.771172\n",
      "[116]\ttrain-auc:0.771308\n",
      "[117]\ttrain-auc:0.771432\n",
      "[118]\ttrain-auc:0.771567\n",
      "[119]\ttrain-auc:0.771772\n",
      "[120]\ttrain-auc:0.771954\n",
      "[121]\ttrain-auc:0.772128\n",
      "[122]\ttrain-auc:0.772262\n",
      "[123]\ttrain-auc:0.77244\n",
      "[124]\ttrain-auc:0.772647\n",
      "[125]\ttrain-auc:0.772821\n",
      "[126]\ttrain-auc:0.772979\n",
      "[127]\ttrain-auc:0.773063\n",
      "[128]\ttrain-auc:0.77322\n",
      "[129]\ttrain-auc:0.773379\n",
      "[130]\ttrain-auc:0.773659\n",
      "[131]\ttrain-auc:0.773824\n",
      "[132]\ttrain-auc:0.773981\n",
      "[133]\ttrain-auc:0.774136\n",
      "[134]\ttrain-auc:0.774291\n",
      "[135]\ttrain-auc:0.77455\n",
      "[136]\ttrain-auc:0.774709\n",
      "[137]\ttrain-auc:0.774958\n",
      "[138]\ttrain-auc:0.775088\n",
      "[139]\ttrain-auc:0.775292\n",
      "[140]\ttrain-auc:0.77549\n",
      "[141]\ttrain-auc:0.77563\n",
      "[142]\ttrain-auc:0.775807\n",
      "[143]\ttrain-auc:0.775955\n",
      "[144]\ttrain-auc:0.77615\n",
      "[145]\ttrain-auc:0.776402\n",
      "[146]\ttrain-auc:0.77667\n",
      "[147]\ttrain-auc:0.776801\n",
      "[148]\ttrain-auc:0.776929\n",
      "[149]\ttrain-auc:0.77714\n",
      "[150]\ttrain-auc:0.777305\n",
      "[151]\ttrain-auc:0.777534\n",
      "[152]\ttrain-auc:0.777654\n",
      "[153]\ttrain-auc:0.777853\n",
      "[154]\ttrain-auc:0.778054\n",
      "[155]\ttrain-auc:0.778269\n",
      "[156]\ttrain-auc:0.778455\n",
      "[157]\ttrain-auc:0.778549\n",
      "[158]\ttrain-auc:0.778762\n",
      "[159]\ttrain-auc:0.778903\n",
      "[160]\ttrain-auc:0.779078\n",
      "[161]\ttrain-auc:0.779283\n",
      "[162]\ttrain-auc:0.779502\n",
      "[163]\ttrain-auc:0.77963\n",
      "[164]\ttrain-auc:0.779833\n",
      "[165]\ttrain-auc:0.779974\n",
      "[166]\ttrain-auc:0.780096\n",
      "[167]\ttrain-auc:0.780227\n",
      "[168]\ttrain-auc:0.780425\n",
      "[169]\ttrain-auc:0.780645\n",
      "[170]\ttrain-auc:0.780798\n",
      "[171]\ttrain-auc:0.78101\n",
      "[172]\ttrain-auc:0.781143\n",
      "[173]\ttrain-auc:0.781291\n",
      "[174]\ttrain-auc:0.781421\n",
      "[175]\ttrain-auc:0.78156\n",
      "[176]\ttrain-auc:0.7817\n",
      "[177]\ttrain-auc:0.781793\n",
      "[178]\ttrain-auc:0.781987\n",
      "[179]\ttrain-auc:0.782199\n",
      "[180]\ttrain-auc:0.782316\n",
      "[181]\ttrain-auc:0.782451\n",
      "[182]\ttrain-auc:0.7826\n",
      "[183]\ttrain-auc:0.78276\n",
      "[184]\ttrain-auc:0.782874\n",
      "[185]\ttrain-auc:0.782994\n",
      "[186]\ttrain-auc:0.78313\n",
      "[187]\ttrain-auc:0.783325\n",
      "[188]\ttrain-auc:0.78349\n",
      "[189]\ttrain-auc:0.783631\n",
      "[190]\ttrain-auc:0.78379\n",
      "[191]\ttrain-auc:0.783972\n",
      "[192]\ttrain-auc:0.784137\n",
      "[193]\ttrain-auc:0.784339\n",
      "[194]\ttrain-auc:0.784509\n",
      "[195]\ttrain-auc:0.784624\n",
      "[196]\ttrain-auc:0.784784\n",
      "[197]\ttrain-auc:0.784913\n",
      "[198]\ttrain-auc:0.785013\n",
      "[199]\ttrain-auc:0.785163\n",
      "[200]\ttrain-auc:0.785337\n",
      "[201]\ttrain-auc:0.785459\n",
      "[202]\ttrain-auc:0.785585\n",
      "[203]\ttrain-auc:0.785741\n",
      "[204]\ttrain-auc:0.785929\n",
      "[205]\ttrain-auc:0.786077\n",
      "[206]\ttrain-auc:0.786244\n",
      "[207]\ttrain-auc:0.786387\n",
      "[208]\ttrain-auc:0.786566\n",
      "[209]\ttrain-auc:0.786699\n",
      "[210]\ttrain-auc:0.786895\n",
      "[211]\ttrain-auc:0.787057\n",
      "[212]\ttrain-auc:0.787191\n",
      "[213]\ttrain-auc:0.78732\n",
      "[214]\ttrain-auc:0.787446\n",
      "[215]\ttrain-auc:0.787543\n",
      "[216]\ttrain-auc:0.787708\n",
      "[217]\ttrain-auc:0.78786\n",
      "[218]\ttrain-auc:0.78802\n",
      "[219]\ttrain-auc:0.78815\n",
      "[220]\ttrain-auc:0.78834\n",
      "[221]\ttrain-auc:0.788474\n",
      "[222]\ttrain-auc:0.788597\n",
      "[223]\ttrain-auc:0.788701\n",
      "[224]\ttrain-auc:0.788806\n",
      "[225]\ttrain-auc:0.788981\n",
      "[226]\ttrain-auc:0.789145\n",
      "[227]\ttrain-auc:0.789333\n",
      "[228]\ttrain-auc:0.789517\n",
      "[229]\ttrain-auc:0.78965\n",
      "[230]\ttrain-auc:0.789814\n",
      "[231]\ttrain-auc:0.789949\n",
      "[232]\ttrain-auc:0.790062\n",
      "[233]\ttrain-auc:0.790193\n",
      "[234]\ttrain-auc:0.790351\n",
      "[235]\ttrain-auc:0.790483\n",
      "[236]\ttrain-auc:0.790635\n",
      "[237]\ttrain-auc:0.790758\n",
      "[238]\ttrain-auc:0.790869\n",
      "[239]\ttrain-auc:0.791\n",
      "[240]\ttrain-auc:0.7911\n",
      "[241]\ttrain-auc:0.791229\n",
      "[242]\ttrain-auc:0.791388\n",
      "[243]\ttrain-auc:0.791528\n",
      "[244]\ttrain-auc:0.791662\n",
      "[245]\ttrain-auc:0.791791\n",
      "[246]\ttrain-auc:0.791934\n",
      "[247]\ttrain-auc:0.792105\n",
      "[248]\ttrain-auc:0.792213\n",
      "[249]\ttrain-auc:0.792339\n",
      "[250]\ttrain-auc:0.792425\n",
      "[251]\ttrain-auc:0.792604\n",
      "[252]\ttrain-auc:0.792736\n",
      "[253]\ttrain-auc:0.792907\n",
      "[254]\ttrain-auc:0.79299\n",
      "[255]\ttrain-auc:0.793114\n",
      "[256]\ttrain-auc:0.793239\n",
      "[257]\ttrain-auc:0.793427\n",
      "[258]\ttrain-auc:0.793535\n",
      "[259]\ttrain-auc:0.793688\n",
      "[260]\ttrain-auc:0.793826\n",
      "[261]\ttrain-auc:0.793951\n",
      "[262]\ttrain-auc:0.794091\n",
      "[263]\ttrain-auc:0.79419\n",
      "[264]\ttrain-auc:0.794357\n",
      "[265]\ttrain-auc:0.794502\n",
      "[266]\ttrain-auc:0.794667\n",
      "[267]\ttrain-auc:0.794796\n",
      "[268]\ttrain-auc:0.79498\n",
      "[269]\ttrain-auc:0.795121\n",
      "[270]\ttrain-auc:0.795256\n",
      "[271]\ttrain-auc:0.795362\n",
      "[272]\ttrain-auc:0.795487\n",
      "[273]\ttrain-auc:0.79559\n",
      "[274]\ttrain-auc:0.79571\n",
      "[275]\ttrain-auc:0.795831\n",
      "[276]\ttrain-auc:0.795977\n",
      "[277]\ttrain-auc:0.796124\n",
      "[278]\ttrain-auc:0.796232\n",
      "[279]\ttrain-auc:0.796341\n",
      "[280]\ttrain-auc:0.796481\n",
      "[281]\ttrain-auc:0.796579\n",
      "[282]\ttrain-auc:0.796677\n",
      "[283]\ttrain-auc:0.796785\n",
      "[284]\ttrain-auc:0.796943\n",
      "[285]\ttrain-auc:0.797075\n",
      "[286]\ttrain-auc:0.797177\n",
      "[287]\ttrain-auc:0.797339\n",
      "[288]\ttrain-auc:0.797465\n",
      "[289]\ttrain-auc:0.79761\n",
      "[290]\ttrain-auc:0.79776\n",
      "[291]\ttrain-auc:0.797863\n",
      "[292]\ttrain-auc:0.798\n",
      "[293]\ttrain-auc:0.79812\n",
      "[294]\ttrain-auc:0.798239\n",
      "[295]\ttrain-auc:0.798352\n",
      "[296]\ttrain-auc:0.798501\n",
      "[297]\ttrain-auc:0.798639\n",
      "[298]\ttrain-auc:0.798732\n",
      "[299]\ttrain-auc:0.79885\n",
      "[300]\ttrain-auc:0.79899\n",
      "[301]\ttrain-auc:0.799114\n",
      "[302]\ttrain-auc:0.799209\n",
      "[303]\ttrain-auc:0.799337\n",
      "[304]\ttrain-auc:0.799446\n",
      "[305]\ttrain-auc:0.799541\n",
      "[306]\ttrain-auc:0.799666\n",
      "[307]\ttrain-auc:0.799793\n",
      "[308]\ttrain-auc:0.799857\n",
      "[309]\ttrain-auc:0.799973\n",
      "[310]\ttrain-auc:0.800122\n",
      "[311]\ttrain-auc:0.800164\n",
      "[312]\ttrain-auc:0.800281\n",
      "[313]\ttrain-auc:0.800439\n",
      "[314]\ttrain-auc:0.800534\n",
      "[315]\ttrain-auc:0.800638\n",
      "[316]\ttrain-auc:0.800766\n",
      "[317]\ttrain-auc:0.800856\n",
      "[318]\ttrain-auc:0.800971\n",
      "[319]\ttrain-auc:0.801035\n",
      "[320]\ttrain-auc:0.801184\n",
      "[321]\ttrain-auc:0.801292\n",
      "[322]\ttrain-auc:0.801383\n",
      "[323]\ttrain-auc:0.801528\n",
      "[324]\ttrain-auc:0.801654\n",
      "[325]\ttrain-auc:0.801776\n",
      "[326]\ttrain-auc:0.801892\n",
      "[327]\ttrain-auc:0.802014\n",
      "[328]\ttrain-auc:0.80212\n",
      "[329]\ttrain-auc:0.802264\n",
      "[330]\ttrain-auc:0.802397\n",
      "[331]\ttrain-auc:0.802493\n",
      "[332]\ttrain-auc:0.802616\n",
      "[333]\ttrain-auc:0.802715\n",
      "[334]\ttrain-auc:0.802805\n"
     ]
    },
    {
     "name": "stdout",
     "output_type": "stream",
     "text": [
      "[335]\ttrain-auc:0.802901\n",
      "[336]\ttrain-auc:0.803002\n",
      "[337]\ttrain-auc:0.803111\n",
      "[338]\ttrain-auc:0.803257\n",
      "[339]\ttrain-auc:0.803345\n",
      "[340]\ttrain-auc:0.803467\n",
      "[341]\ttrain-auc:0.80357\n",
      "[342]\ttrain-auc:0.803645\n",
      "[343]\ttrain-auc:0.803798\n",
      "[344]\ttrain-auc:0.803895\n",
      "[345]\ttrain-auc:0.804037\n",
      "[346]\ttrain-auc:0.804135\n",
      "[347]\ttrain-auc:0.804238\n",
      "[348]\ttrain-auc:0.804361\n",
      "[349]\ttrain-auc:0.80445\n",
      "[350]\ttrain-auc:0.804584\n",
      "[351]\ttrain-auc:0.804676\n",
      "[352]\ttrain-auc:0.8048\n",
      "[353]\ttrain-auc:0.804904\n",
      "[354]\ttrain-auc:0.805055\n",
      "[355]\ttrain-auc:0.805157\n",
      "[356]\ttrain-auc:0.805256\n",
      "[357]\ttrain-auc:0.805382\n",
      "[358]\ttrain-auc:0.805496\n",
      "[359]\ttrain-auc:0.805593\n",
      "[360]\ttrain-auc:0.805686\n",
      "[361]\ttrain-auc:0.805796\n",
      "[362]\ttrain-auc:0.80587\n",
      "[363]\ttrain-auc:0.805969\n",
      "[364]\ttrain-auc:0.806056\n",
      "[365]\ttrain-auc:0.80615\n",
      "[366]\ttrain-auc:0.80622\n",
      "[367]\ttrain-auc:0.806323\n",
      "[368]\ttrain-auc:0.806413\n",
      "[369]\ttrain-auc:0.806526\n",
      "[370]\ttrain-auc:0.806613\n",
      "[371]\ttrain-auc:0.8067\n",
      "[372]\ttrain-auc:0.806813\n",
      "[373]\ttrain-auc:0.806889\n",
      "[374]\ttrain-auc:0.807017\n",
      "[375]\ttrain-auc:0.807094\n",
      "[376]\ttrain-auc:0.807191\n",
      "[377]\ttrain-auc:0.807271\n",
      "[378]\ttrain-auc:0.807409\n",
      "[379]\ttrain-auc:0.807494\n",
      "[380]\ttrain-auc:0.807597\n",
      "[381]\ttrain-auc:0.807723\n",
      "[382]\ttrain-auc:0.80785\n",
      "[383]\ttrain-auc:0.807952\n",
      "[384]\ttrain-auc:0.808072\n",
      "[385]\ttrain-auc:0.808145\n",
      "[386]\ttrain-auc:0.808194\n",
      "[387]\ttrain-auc:0.808319\n",
      "[388]\ttrain-auc:0.808401\n",
      "[389]\ttrain-auc:0.808507\n",
      "[390]\ttrain-auc:0.808617\n",
      "[391]\ttrain-auc:0.808703\n",
      "[392]\ttrain-auc:0.808793\n",
      "[393]\ttrain-auc:0.808886\n",
      "[394]\ttrain-auc:0.808984\n",
      "[395]\ttrain-auc:0.809099\n",
      "[396]\ttrain-auc:0.809158\n",
      "[397]\ttrain-auc:0.809292\n",
      "[398]\ttrain-auc:0.809384\n",
      "[399]\ttrain-auc:0.809464\n",
      "[400]\ttrain-auc:0.809557\n",
      "[401]\ttrain-auc:0.809653\n",
      "[402]\ttrain-auc:0.809735\n",
      "[403]\ttrain-auc:0.809827\n",
      "[404]\ttrain-auc:0.809949\n",
      "[405]\ttrain-auc:0.810039\n",
      "[406]\ttrain-auc:0.810158\n",
      "[407]\ttrain-auc:0.810265\n",
      "[408]\ttrain-auc:0.81034\n",
      "[409]\ttrain-auc:0.810435\n",
      "[410]\ttrain-auc:0.810539\n",
      "[411]\ttrain-auc:0.810622\n",
      "[412]\ttrain-auc:0.810735\n",
      "[413]\ttrain-auc:0.810828\n",
      "[414]\ttrain-auc:0.810893\n",
      "[415]\ttrain-auc:0.810957\n",
      "[416]\ttrain-auc:0.811042\n",
      "[417]\ttrain-auc:0.811109\n",
      "[418]\ttrain-auc:0.811187\n",
      "[419]\ttrain-auc:0.811282\n",
      "[420]\ttrain-auc:0.81134\n",
      "[421]\ttrain-auc:0.811491\n",
      "[422]\ttrain-auc:0.811592\n",
      "[423]\ttrain-auc:0.81169\n",
      "[424]\ttrain-auc:0.811756\n",
      "[425]\ttrain-auc:0.811825\n",
      "[426]\ttrain-auc:0.811905\n",
      "[427]\ttrain-auc:0.811975\n",
      "[428]\ttrain-auc:0.812074\n",
      "[429]\ttrain-auc:0.812186\n",
      "[430]\ttrain-auc:0.812245\n",
      "[431]\ttrain-auc:0.812317\n",
      "[432]\ttrain-auc:0.812414\n",
      "[433]\ttrain-auc:0.812523\n",
      "[434]\ttrain-auc:0.812642\n",
      "[435]\ttrain-auc:0.812753\n",
      "[436]\ttrain-auc:0.812831\n",
      "[437]\ttrain-auc:0.812894\n",
      "[438]\ttrain-auc:0.812967\n",
      "[439]\ttrain-auc:0.813052\n",
      "[440]\ttrain-auc:0.813127\n",
      "[441]\ttrain-auc:0.813215\n",
      "[442]\ttrain-auc:0.813306\n",
      "[443]\ttrain-auc:0.813408\n",
      "[444]\ttrain-auc:0.813479\n",
      "[445]\ttrain-auc:0.813561\n",
      "[446]\ttrain-auc:0.813634\n",
      "[447]\ttrain-auc:0.813713\n",
      "[448]\ttrain-auc:0.813818\n",
      "[449]\ttrain-auc:0.813865\n",
      "[450]\ttrain-auc:0.813961\n",
      "[451]\ttrain-auc:0.814032\n",
      "[452]\ttrain-auc:0.814102\n",
      "[453]\ttrain-auc:0.814177\n",
      "[454]\ttrain-auc:0.814266\n",
      "[455]\ttrain-auc:0.814333\n",
      "[456]\ttrain-auc:0.814406\n",
      "[457]\ttrain-auc:0.814496\n",
      "[458]\ttrain-auc:0.814551\n",
      "[459]\ttrain-auc:0.814601\n",
      "[460]\ttrain-auc:0.814661\n",
      "[461]\ttrain-auc:0.814747\n",
      "[462]\ttrain-auc:0.814866\n",
      "[463]\ttrain-auc:0.814969\n",
      "[464]\ttrain-auc:0.815056\n",
      "[465]\ttrain-auc:0.815158\n",
      "[466]\ttrain-auc:0.815229\n",
      "[467]\ttrain-auc:0.815292\n",
      "[468]\ttrain-auc:0.81535\n",
      "[469]\ttrain-auc:0.815412\n",
      "[470]\ttrain-auc:0.815514\n",
      "[471]\ttrain-auc:0.815588\n",
      "[472]\ttrain-auc:0.815708\n",
      "[473]\ttrain-auc:0.815785\n",
      "[474]\ttrain-auc:0.81584\n",
      "[475]\ttrain-auc:0.815919\n",
      "[476]\ttrain-auc:0.815989\n",
      "[477]\ttrain-auc:0.816046\n",
      "[478]\ttrain-auc:0.816115\n",
      "[479]\ttrain-auc:0.816204\n",
      "[480]\ttrain-auc:0.816255\n",
      "[481]\ttrain-auc:0.81636\n",
      "[482]\ttrain-auc:0.816451\n",
      "[483]\ttrain-auc:0.816525\n",
      "[484]\ttrain-auc:0.816611\n",
      "[485]\ttrain-auc:0.816697\n",
      "[486]\ttrain-auc:0.816779\n",
      "[487]\ttrain-auc:0.816835\n",
      "[488]\ttrain-auc:0.81696\n",
      "[489]\ttrain-auc:0.817014\n",
      "[490]\ttrain-auc:0.817083\n",
      "[491]\ttrain-auc:0.817148\n",
      "[492]\ttrain-auc:0.817207\n",
      "[493]\ttrain-auc:0.817325\n",
      "[494]\ttrain-auc:0.817399\n",
      "[495]\ttrain-auc:0.817475\n",
      "[496]\ttrain-auc:0.817536\n",
      "[497]\ttrain-auc:0.817613\n",
      "[498]\ttrain-auc:0.817688\n",
      "[499]\ttrain-auc:0.81777\n",
      "[500]\ttrain-auc:0.817864\n",
      "[501]\ttrain-auc:0.817959\n",
      "[502]\ttrain-auc:0.818021\n",
      "[503]\ttrain-auc:0.81809\n",
      "[504]\ttrain-auc:0.818166\n",
      "[505]\ttrain-auc:0.81825\n",
      "[506]\ttrain-auc:0.818325\n",
      "[507]\ttrain-auc:0.818415\n",
      "[508]\ttrain-auc:0.818485\n",
      "[509]\ttrain-auc:0.818554\n",
      "[510]\ttrain-auc:0.818643\n",
      "[511]\ttrain-auc:0.818692\n",
      "[512]\ttrain-auc:0.81875\n",
      "[513]\ttrain-auc:0.818795\n",
      "[514]\ttrain-auc:0.818856\n",
      "[515]\ttrain-auc:0.818923\n",
      "[516]\ttrain-auc:0.818993\n",
      "[517]\ttrain-auc:0.819071\n",
      "[518]\ttrain-auc:0.819137\n",
      "[519]\ttrain-auc:0.819208\n",
      "[520]\ttrain-auc:0.819275\n",
      "[521]\ttrain-auc:0.819345\n",
      "[522]\ttrain-auc:0.819413\n",
      "[523]\ttrain-auc:0.819488\n",
      "[524]\ttrain-auc:0.819565\n",
      "[525]\ttrain-auc:0.819644\n",
      "[526]\ttrain-auc:0.819723\n",
      "[527]\ttrain-auc:0.819809\n",
      "[528]\ttrain-auc:0.819886\n",
      "[529]\ttrain-auc:0.819959\n",
      "[530]\ttrain-auc:0.820028\n",
      "[531]\ttrain-auc:0.820135\n",
      "[532]\ttrain-auc:0.820205\n",
      "[533]\ttrain-auc:0.820261\n",
      "[534]\ttrain-auc:0.820338\n",
      "[535]\ttrain-auc:0.820406\n",
      "[536]\ttrain-auc:0.820467\n",
      "[537]\ttrain-auc:0.82053\n",
      "[538]\ttrain-auc:0.820602\n",
      "[539]\ttrain-auc:0.820659\n",
      "[540]\ttrain-auc:0.820755\n",
      "[541]\ttrain-auc:0.820849\n",
      "[542]\ttrain-auc:0.82092\n",
      "[543]\ttrain-auc:0.821008\n",
      "[544]\ttrain-auc:0.821082\n",
      "[545]\ttrain-auc:0.821166\n",
      "[546]\ttrain-auc:0.821266\n",
      "[547]\ttrain-auc:0.821331\n",
      "[548]\ttrain-auc:0.8214\n",
      "[549]\ttrain-auc:0.821475\n",
      "[550]\ttrain-auc:0.821543\n",
      "[551]\ttrain-auc:0.821618\n",
      "[552]\ttrain-auc:0.821681\n",
      "[553]\ttrain-auc:0.82178\n",
      "[554]\ttrain-auc:0.821805\n",
      "[555]\ttrain-auc:0.821885\n",
      "[556]\ttrain-auc:0.821983\n",
      "[557]\ttrain-auc:0.822042\n",
      "[558]\ttrain-auc:0.82214\n",
      "[559]\ttrain-auc:0.822208\n",
      "[560]\ttrain-auc:0.822265\n",
      "[561]\ttrain-auc:0.822343\n",
      "[562]\ttrain-auc:0.822432\n",
      "[563]\ttrain-auc:0.822501\n",
      "[564]\ttrain-auc:0.822571\n",
      "[565]\ttrain-auc:0.822629\n",
      "[566]\ttrain-auc:0.822678\n",
      "[567]\ttrain-auc:0.822745\n",
      "[568]\ttrain-auc:0.822819\n",
      "[569]\ttrain-auc:0.822909\n",
      "[570]\ttrain-auc:0.822971\n",
      "[571]\ttrain-auc:0.82305\n",
      "[572]\ttrain-auc:0.823148\n",
      "[573]\ttrain-auc:0.82322\n",
      "[574]\ttrain-auc:0.823282\n",
      "[575]\ttrain-auc:0.823357\n",
      "[576]\ttrain-auc:0.82342\n",
      "[577]\ttrain-auc:0.823494\n",
      "[578]\ttrain-auc:0.823557\n",
      "[579]\ttrain-auc:0.823621\n",
      "[580]\ttrain-auc:0.823703\n",
      "[581]\ttrain-auc:0.82377\n",
      "[582]\ttrain-auc:0.823834\n",
      "[583]\ttrain-auc:0.823891\n",
      "[584]\ttrain-auc:0.823961\n",
      "[585]\ttrain-auc:0.824027\n",
      "[586]\ttrain-auc:0.824098\n",
      "[587]\ttrain-auc:0.824144\n",
      "[588]\ttrain-auc:0.8242\n",
      "[589]\ttrain-auc:0.824256\n",
      "[590]\ttrain-auc:0.824343\n",
      "[591]\ttrain-auc:0.824428\n",
      "[592]\ttrain-auc:0.82445\n",
      "[593]\ttrain-auc:0.824524\n",
      "[594]\ttrain-auc:0.824587\n",
      "[595]\ttrain-auc:0.824641\n",
      "[596]\ttrain-auc:0.824714\n",
      "[597]\ttrain-auc:0.824782\n",
      "[598]\ttrain-auc:0.824843\n",
      "[599]\ttrain-auc:0.824905\n",
      "[600]\ttrain-auc:0.824968\n",
      "[601]\ttrain-auc:0.825054\n",
      "[602]\ttrain-auc:0.825136\n",
      "[603]\ttrain-auc:0.825212\n",
      "[604]\ttrain-auc:0.825271\n",
      "[605]\ttrain-auc:0.825345\n",
      "[606]\ttrain-auc:0.825406\n",
      "[607]\ttrain-auc:0.825451\n",
      "[608]\ttrain-auc:0.825504\n",
      "[609]\ttrain-auc:0.825585\n",
      "[610]\ttrain-auc:0.825654\n",
      "[611]\ttrain-auc:0.825704\n",
      "[612]\ttrain-auc:0.825756\n",
      "[613]\ttrain-auc:0.825823\n",
      "[614]\ttrain-auc:0.825887\n",
      "[615]\ttrain-auc:0.825977\n",
      "[616]\ttrain-auc:0.826051\n",
      "[617]\ttrain-auc:0.826127\n",
      "[618]\ttrain-auc:0.826169\n",
      "[619]\ttrain-auc:0.826244\n",
      "[620]\ttrain-auc:0.826296\n",
      "[621]\ttrain-auc:0.826396\n",
      "[622]\ttrain-auc:0.826464\n",
      "[623]\ttrain-auc:0.826536\n",
      "[624]\ttrain-auc:0.826585\n",
      "[625]\ttrain-auc:0.826636\n",
      "[626]\ttrain-auc:0.826698\n",
      "[627]\ttrain-auc:0.826756\n",
      "[628]\ttrain-auc:0.826842\n",
      "[629]\ttrain-auc:0.826915\n",
      "[630]\ttrain-auc:0.826957\n",
      "[631]\ttrain-auc:0.827019\n",
      "[632]\ttrain-auc:0.827072\n",
      "[633]\ttrain-auc:0.827136\n",
      "[634]\ttrain-auc:0.827197\n",
      "[635]\ttrain-auc:0.827249\n",
      "[636]\ttrain-auc:0.827294\n",
      "[637]\ttrain-auc:0.827351\n",
      "[638]\ttrain-auc:0.827412\n",
      "[639]\ttrain-auc:0.827446\n",
      "[640]\ttrain-auc:0.827491\n",
      "[641]\ttrain-auc:0.82757\n",
      "[642]\ttrain-auc:0.827632\n",
      "[643]\ttrain-auc:0.827704\n",
      "[644]\ttrain-auc:0.827763\n",
      "[645]\ttrain-auc:0.827829\n",
      "[646]\ttrain-auc:0.8279\n",
      "[647]\ttrain-auc:0.827965\n",
      "[648]\ttrain-auc:0.828061\n",
      "[649]\ttrain-auc:0.828125\n",
      "[650]\ttrain-auc:0.828183\n",
      "[651]\ttrain-auc:0.828237\n",
      "[652]\ttrain-auc:0.828284\n",
      "[653]\ttrain-auc:0.828344\n",
      "[654]\ttrain-auc:0.82839\n",
      "[655]\ttrain-auc:0.828458\n",
      "[656]\ttrain-auc:0.828533\n",
      "[657]\ttrain-auc:0.828601\n",
      "[658]\ttrain-auc:0.828676\n",
      "[659]\ttrain-auc:0.828741\n",
      "[660]\ttrain-auc:0.828801\n",
      "[661]\ttrain-auc:0.828874\n",
      "[662]\ttrain-auc:0.828936\n",
      "[663]\ttrain-auc:0.828993\n",
      "[664]\ttrain-auc:0.829057\n"
     ]
    },
    {
     "name": "stdout",
     "output_type": "stream",
     "text": [
      "[665]\ttrain-auc:0.829117\n",
      "[666]\ttrain-auc:0.829183\n",
      "[667]\ttrain-auc:0.82924\n",
      "[668]\ttrain-auc:0.829301\n",
      "[669]\ttrain-auc:0.829364\n",
      "[670]\ttrain-auc:0.829424\n",
      "[671]\ttrain-auc:0.829477\n",
      "[672]\ttrain-auc:0.829522\n",
      "[673]\ttrain-auc:0.82957\n",
      "[674]\ttrain-auc:0.829606\n",
      "[675]\ttrain-auc:0.829675\n",
      "[676]\ttrain-auc:0.829764\n",
      "[677]\ttrain-auc:0.82984\n",
      "[678]\ttrain-auc:0.829896\n",
      "[679]\ttrain-auc:0.82996\n",
      "[680]\ttrain-auc:0.830011\n",
      "[681]\ttrain-auc:0.830071\n",
      "[682]\ttrain-auc:0.830155\n",
      "[683]\ttrain-auc:0.830211\n",
      "[684]\ttrain-auc:0.830284\n",
      "[685]\ttrain-auc:0.830331\n",
      "[686]\ttrain-auc:0.830386\n",
      "[687]\ttrain-auc:0.830427\n",
      "[688]\ttrain-auc:0.830499\n",
      "[689]\ttrain-auc:0.830561\n",
      "[690]\ttrain-auc:0.830616\n",
      "[691]\ttrain-auc:0.830694\n",
      "[692]\ttrain-auc:0.830764\n",
      "[693]\ttrain-auc:0.830801\n",
      "[694]\ttrain-auc:0.830849\n",
      "[695]\ttrain-auc:0.830905\n",
      "[696]\ttrain-auc:0.83098\n",
      "[697]\ttrain-auc:0.831062\n",
      "[698]\ttrain-auc:0.831115\n",
      "[699]\ttrain-auc:0.831176\n",
      "[700]\ttrain-auc:0.831221\n",
      "[701]\ttrain-auc:0.831262\n",
      "[702]\ttrain-auc:0.831321\n",
      "[703]\ttrain-auc:0.831367\n",
      "[704]\ttrain-auc:0.83145\n",
      "[705]\ttrain-auc:0.831513\n",
      "[706]\ttrain-auc:0.83156\n",
      "[707]\ttrain-auc:0.83162\n",
      "[708]\ttrain-auc:0.831695\n",
      "[709]\ttrain-auc:0.831745\n",
      "[710]\ttrain-auc:0.831798\n",
      "[711]\ttrain-auc:0.831863\n",
      "[712]\ttrain-auc:0.831905\n",
      "[713]\ttrain-auc:0.831957\n",
      "[714]\ttrain-auc:0.832016\n",
      "[715]\ttrain-auc:0.83209\n",
      "[716]\ttrain-auc:0.832169\n",
      "[717]\ttrain-auc:0.83222\n",
      "[718]\ttrain-auc:0.832258\n",
      "[719]\ttrain-auc:0.832317\n",
      "[720]\ttrain-auc:0.832367\n",
      "[721]\ttrain-auc:0.832466\n",
      "[722]\ttrain-auc:0.832518\n",
      "[723]\ttrain-auc:0.83257\n",
      "[724]\ttrain-auc:0.832645\n",
      "[725]\ttrain-auc:0.832727\n",
      "[726]\ttrain-auc:0.832783\n",
      "[727]\ttrain-auc:0.832857\n",
      "[728]\ttrain-auc:0.832914\n",
      "[729]\ttrain-auc:0.832972\n",
      "[730]\ttrain-auc:0.833029\n",
      "[731]\ttrain-auc:0.833067\n",
      "[732]\ttrain-auc:0.833109\n",
      "[733]\ttrain-auc:0.833153\n",
      "[734]\ttrain-auc:0.833205\n",
      "[735]\ttrain-auc:0.833251\n",
      "[736]\ttrain-auc:0.833321\n",
      "[737]\ttrain-auc:0.833377\n",
      "[738]\ttrain-auc:0.833429\n",
      "[739]\ttrain-auc:0.833489\n",
      "[740]\ttrain-auc:0.833522\n",
      "[741]\ttrain-auc:0.833585\n",
      "[742]\ttrain-auc:0.833652\n",
      "[743]\ttrain-auc:0.833696\n",
      "[744]\ttrain-auc:0.833752\n",
      "[745]\ttrain-auc:0.833808\n",
      "[746]\ttrain-auc:0.833854\n",
      "[747]\ttrain-auc:0.833906\n",
      "[748]\ttrain-auc:0.833952\n",
      "[749]\ttrain-auc:0.833997\n",
      "[750]\ttrain-auc:0.834055\n",
      "[751]\ttrain-auc:0.8341\n",
      "[752]\ttrain-auc:0.834148\n",
      "[753]\ttrain-auc:0.834178\n",
      "[754]\ttrain-auc:0.834233\n",
      "[755]\ttrain-auc:0.834292\n",
      "[756]\ttrain-auc:0.834344\n",
      "[757]\ttrain-auc:0.834397\n",
      "[758]\ttrain-auc:0.834445\n",
      "[759]\ttrain-auc:0.834485\n",
      "[760]\ttrain-auc:0.834534\n",
      "[761]\ttrain-auc:0.834595\n",
      "[762]\ttrain-auc:0.834656\n",
      "[763]\ttrain-auc:0.834697\n",
      "[764]\ttrain-auc:0.834742\n",
      "[765]\ttrain-auc:0.834783\n",
      "[766]\ttrain-auc:0.834828\n",
      "[767]\ttrain-auc:0.834876\n",
      "[768]\ttrain-auc:0.834927\n",
      "[769]\ttrain-auc:0.834967\n",
      "[770]\ttrain-auc:0.835003\n",
      "[771]\ttrain-auc:0.835056\n",
      "[772]\ttrain-auc:0.835091\n",
      "[773]\ttrain-auc:0.835131\n",
      "[774]\ttrain-auc:0.835189\n",
      "[775]\ttrain-auc:0.835248\n",
      "[776]\ttrain-auc:0.835314\n",
      "[777]\ttrain-auc:0.835389\n",
      "[778]\ttrain-auc:0.835464\n",
      "[779]\ttrain-auc:0.835503\n",
      "[780]\ttrain-auc:0.83555\n",
      "[781]\ttrain-auc:0.835613\n",
      "[782]\ttrain-auc:0.835671\n",
      "[783]\ttrain-auc:0.835713\n",
      "[784]\ttrain-auc:0.835777\n",
      "[785]\ttrain-auc:0.835833\n",
      "[786]\ttrain-auc:0.835877\n",
      "[787]\ttrain-auc:0.835935\n",
      "[788]\ttrain-auc:0.835977\n",
      "[789]\ttrain-auc:0.836026\n",
      "[790]\ttrain-auc:0.836084\n",
      "[791]\ttrain-auc:0.836154\n",
      "[792]\ttrain-auc:0.836207\n",
      "[793]\ttrain-auc:0.836254\n",
      "[794]\ttrain-auc:0.836316\n",
      "[795]\ttrain-auc:0.836384\n",
      "[796]\ttrain-auc:0.836425\n",
      "[797]\ttrain-auc:0.836482\n",
      "[798]\ttrain-auc:0.836539\n",
      "[799]\ttrain-auc:0.836603\n",
      "[800]\ttrain-auc:0.836649\n",
      "[801]\ttrain-auc:0.836695\n",
      "[802]\ttrain-auc:0.836747\n",
      "[803]\ttrain-auc:0.836799\n",
      "[804]\ttrain-auc:0.836856\n",
      "[805]\ttrain-auc:0.836889\n",
      "[806]\ttrain-auc:0.836934\n",
      "[807]\ttrain-auc:0.836969\n",
      "[808]\ttrain-auc:0.837007\n",
      "[809]\ttrain-auc:0.837092\n",
      "[810]\ttrain-auc:0.837147\n",
      "[811]\ttrain-auc:0.837185\n",
      "[812]\ttrain-auc:0.837225\n",
      "[813]\ttrain-auc:0.837284\n",
      "[814]\ttrain-auc:0.837328\n",
      "[815]\ttrain-auc:0.837382\n",
      "[816]\ttrain-auc:0.837442\n",
      "[817]\ttrain-auc:0.837488\n",
      "[818]\ttrain-auc:0.837543\n",
      "[819]\ttrain-auc:0.837619\n",
      "[820]\ttrain-auc:0.837685\n",
      "[821]\ttrain-auc:0.837723\n",
      "[822]\ttrain-auc:0.837752\n",
      "[823]\ttrain-auc:0.83779\n",
      "[824]\ttrain-auc:0.837842\n",
      "[825]\ttrain-auc:0.837895\n",
      "[826]\ttrain-auc:0.837952\n",
      "[827]\ttrain-auc:0.838001\n",
      "[828]\ttrain-auc:0.838043\n",
      "[829]\ttrain-auc:0.838115\n",
      "[830]\ttrain-auc:0.838188\n",
      "[831]\ttrain-auc:0.838239\n",
      "[832]\ttrain-auc:0.838277\n",
      "[833]\ttrain-auc:0.838315\n",
      "[834]\ttrain-auc:0.838379\n",
      "[835]\ttrain-auc:0.838451\n",
      "[836]\ttrain-auc:0.838505\n",
      "[837]\ttrain-auc:0.838558\n",
      "[838]\ttrain-auc:0.838614\n",
      "[839]\ttrain-auc:0.838651\n",
      "[840]\ttrain-auc:0.838695\n",
      "[841]\ttrain-auc:0.838753\n",
      "[842]\ttrain-auc:0.838832\n",
      "[843]\ttrain-auc:0.838913\n",
      "[844]\ttrain-auc:0.838949\n",
      "[845]\ttrain-auc:0.839004\n",
      "[846]\ttrain-auc:0.839053\n",
      "[847]\ttrain-auc:0.83911\n",
      "[848]\ttrain-auc:0.839165\n",
      "[849]\ttrain-auc:0.839222\n",
      "[850]\ttrain-auc:0.839286\n",
      "[851]\ttrain-auc:0.839341\n",
      "[852]\ttrain-auc:0.839426\n",
      "[853]\ttrain-auc:0.839474\n",
      "[854]\ttrain-auc:0.839518\n",
      "[855]\ttrain-auc:0.839549\n",
      "[856]\ttrain-auc:0.839623\n",
      "[857]\ttrain-auc:0.839654\n",
      "[858]\ttrain-auc:0.839729\n",
      "[859]\ttrain-auc:0.8398\n",
      "[860]\ttrain-auc:0.839847\n",
      "[861]\ttrain-auc:0.839914\n",
      "[862]\ttrain-auc:0.83995\n",
      "[863]\ttrain-auc:0.840013\n",
      "[864]\ttrain-auc:0.840055\n",
      "[865]\ttrain-auc:0.840123\n",
      "[866]\ttrain-auc:0.840165\n",
      "[867]\ttrain-auc:0.840211\n",
      "[868]\ttrain-auc:0.840248\n",
      "[869]\ttrain-auc:0.840306\n",
      "[870]\ttrain-auc:0.840349\n",
      "[871]\ttrain-auc:0.840393\n",
      "[872]\ttrain-auc:0.840431\n",
      "[873]\ttrain-auc:0.840476\n",
      "[874]\ttrain-auc:0.84052\n",
      "[875]\ttrain-auc:0.840581\n",
      "[876]\ttrain-auc:0.840631\n",
      "[877]\ttrain-auc:0.840659\n",
      "[878]\ttrain-auc:0.840689\n",
      "[879]\ttrain-auc:0.840723\n",
      "[880]\ttrain-auc:0.840799\n",
      "[881]\ttrain-auc:0.840846\n",
      "[882]\ttrain-auc:0.840879\n",
      "[883]\ttrain-auc:0.840926\n",
      "[884]\ttrain-auc:0.840974\n",
      "[885]\ttrain-auc:0.841036\n",
      "[886]\ttrain-auc:0.841075\n",
      "[887]\ttrain-auc:0.84113\n",
      "[888]\ttrain-auc:0.841176\n",
      "[889]\ttrain-auc:0.84122\n",
      "[890]\ttrain-auc:0.841273\n",
      "[891]\ttrain-auc:0.841327\n",
      "[892]\ttrain-auc:0.841371\n",
      "[893]\ttrain-auc:0.841421\n",
      "[894]\ttrain-auc:0.841461\n",
      "[895]\ttrain-auc:0.841503\n",
      "[896]\ttrain-auc:0.841555\n",
      "[897]\ttrain-auc:0.841616\n",
      "[898]\ttrain-auc:0.841677\n",
      "[899]\ttrain-auc:0.841724\n",
      "[900]\ttrain-auc:0.84179\n",
      "[901]\ttrain-auc:0.841842\n",
      "[902]\ttrain-auc:0.841877\n",
      "[903]\ttrain-auc:0.841951\n",
      "[904]\ttrain-auc:0.842007\n",
      "[905]\ttrain-auc:0.842043\n",
      "[906]\ttrain-auc:0.842087\n",
      "[907]\ttrain-auc:0.842129\n",
      "[908]\ttrain-auc:0.842195\n",
      "[909]\ttrain-auc:0.842225\n",
      "[910]\ttrain-auc:0.84228\n",
      "[911]\ttrain-auc:0.842317\n",
      "[912]\ttrain-auc:0.842387\n",
      "[913]\ttrain-auc:0.842445\n",
      "[914]\ttrain-auc:0.84249\n",
      "[915]\ttrain-auc:0.842528\n",
      "[916]\ttrain-auc:0.842554\n",
      "[917]\ttrain-auc:0.842613\n",
      "[918]\ttrain-auc:0.842661\n",
      "[919]\ttrain-auc:0.842718\n",
      "[920]\ttrain-auc:0.842753\n",
      "[921]\ttrain-auc:0.84279\n",
      "[922]\ttrain-auc:0.842825\n",
      "[923]\ttrain-auc:0.842882\n",
      "[924]\ttrain-auc:0.842921\n",
      "[925]\ttrain-auc:0.842963\n",
      "[926]\ttrain-auc:0.843019\n",
      "[927]\ttrain-auc:0.843059\n",
      "[928]\ttrain-auc:0.843098\n",
      "[929]\ttrain-auc:0.843152\n",
      "[930]\ttrain-auc:0.84319\n",
      "[931]\ttrain-auc:0.843228\n",
      "[932]\ttrain-auc:0.843269\n",
      "[933]\ttrain-auc:0.843308\n",
      "[934]\ttrain-auc:0.843344\n",
      "[935]\ttrain-auc:0.84338\n",
      "[936]\ttrain-auc:0.843418\n",
      "[937]\ttrain-auc:0.843492\n",
      "[938]\ttrain-auc:0.843536\n",
      "[939]\ttrain-auc:0.843586\n",
      "[940]\ttrain-auc:0.843627\n",
      "[941]\ttrain-auc:0.843671\n",
      "[942]\ttrain-auc:0.843726\n",
      "[943]\ttrain-auc:0.843778\n",
      "[944]\ttrain-auc:0.843817\n",
      "[945]\ttrain-auc:0.843865\n",
      "[946]\ttrain-auc:0.843898\n",
      "[947]\ttrain-auc:0.843976\n",
      "[948]\ttrain-auc:0.844017\n",
      "[949]\ttrain-auc:0.844074\n",
      "[950]\ttrain-auc:0.844128\n",
      "[951]\ttrain-auc:0.844168\n",
      "[952]\ttrain-auc:0.84422\n",
      "[953]\ttrain-auc:0.844254\n",
      "[954]\ttrain-auc:0.844287\n",
      "[955]\ttrain-auc:0.844341\n",
      "[956]\ttrain-auc:0.844416\n",
      "[957]\ttrain-auc:0.844464\n",
      "[958]\ttrain-auc:0.844511\n",
      "[959]\ttrain-auc:0.844542\n",
      "[960]\ttrain-auc:0.844599\n",
      "[961]\ttrain-auc:0.844656\n",
      "[962]\ttrain-auc:0.844688\n",
      "[963]\ttrain-auc:0.844737\n",
      "[964]\ttrain-auc:0.844771\n",
      "[965]\ttrain-auc:0.844819\n",
      "[966]\ttrain-auc:0.844855\n",
      "[967]\ttrain-auc:0.844888\n",
      "[968]\ttrain-auc:0.844925\n",
      "[969]\ttrain-auc:0.844964\n",
      "[970]\ttrain-auc:0.845008\n",
      "[971]\ttrain-auc:0.845055\n",
      "[972]\ttrain-auc:0.845094\n",
      "[973]\ttrain-auc:0.845124\n",
      "[974]\ttrain-auc:0.845173\n",
      "[975]\ttrain-auc:0.845232\n",
      "[976]\ttrain-auc:0.845255\n",
      "[977]\ttrain-auc:0.845278\n",
      "[978]\ttrain-auc:0.845348\n",
      "[979]\ttrain-auc:0.84539\n",
      "[980]\ttrain-auc:0.845429\n",
      "[981]\ttrain-auc:0.845489\n",
      "[982]\ttrain-auc:0.845514\n",
      "[983]\ttrain-auc:0.845566\n",
      "[984]\ttrain-auc:0.845608\n",
      "[985]\ttrain-auc:0.845653\n",
      "[986]\ttrain-auc:0.8457\n",
      "[987]\ttrain-auc:0.845732\n",
      "[988]\ttrain-auc:0.845769\n",
      "[989]\ttrain-auc:0.845806\n",
      "[990]\ttrain-auc:0.845846\n",
      "[991]\ttrain-auc:0.845883\n",
      "[992]\ttrain-auc:0.845912\n",
      "[993]\ttrain-auc:0.845962\n"
     ]
    },
    {
     "name": "stdout",
     "output_type": "stream",
     "text": [
      "[994]\ttrain-auc:0.845989\n",
      "[995]\ttrain-auc:0.846037\n",
      "[996]\ttrain-auc:0.84608\n",
      "[997]\ttrain-auc:0.846107\n",
      "[998]\ttrain-auc:0.846157\n",
      "[999]\ttrain-auc:0.846214\n"
     ]
    }
   ],
   "source": [
    "params = {\"eta\": 0.01, \n",
    "                  \"gamma\": 0,\n",
    "                  \"max_depth\": 7, \n",
    "                  \"min_child_weight\": 1,\n",
    "                  \"subsample\": 0.8,\n",
    "                  \"colsample_bytree\": 0.8,\n",
    "                  #\"reg_lambda\": 0.01,\n",
    "                  #\"reg_alpha\": 0.005,\n",
    "                  'objective': 'binary:logistic',\n",
    "                  'eval_metric': 'auc',\n",
    "                  'scale_pos_weight': ratio,\n",
    "                  'tree_method':'gpu_hist',\n",
    "                  'seed': 42}\n",
    "\n",
    "dtrain = xgb.DMatrix(train_stack, target)\n",
    "#dvalid = xgb.DMatrix(X_valid, y_valid)\n",
    "dtest = xgb.DMatrix(test_stack)\n",
    "\n",
    "watchlist = [(dtrain, 'train')] #, (dvalid, 'valid')]\n",
    "\n",
    "model =  xgb.train(params,\n",
    "                   dtrain,\n",
    "                   num_boost_round=1000, \n",
    "                   evals=watchlist,\n",
    "                   verbose_eval=True)\n"
   ]
  },
  {
   "cell_type": "code",
   "execution_count": 20,
   "metadata": {
    "ExecuteTime": {
     "end_time": "2018-04-18T07:06:36.571375Z",
     "start_time": "2018-04-18T07:06:33.978461Z"
    }
   },
   "outputs": [],
   "source": [
    "predictions = model.predict(dtest)"
   ]
  },
  {
   "cell_type": "code",
   "execution_count": 19,
   "metadata": {
    "ExecuteTime": {
     "end_time": "2018-04-18T07:03:47.102051Z",
     "start_time": "2018-04-18T07:03:47.081736Z"
    }
   },
   "outputs": [],
   "source": [
    "prediction = pd.DataFrame(prediction)\n",
    "prediction.columns = [\"project_is_approved\"]"
   ]
  },
  {
   "cell_type": "code",
   "execution_count": null,
   "metadata": {},
   "outputs": [],
   "source": []
  },
  {
   "cell_type": "code",
   "execution_count": 47,
   "metadata": {
    "ExecuteTime": {
     "end_time": "2018-04-18T03:37:07.028626Z",
     "start_time": "2018-04-18T03:34:26.781007Z"
    }
   },
   "outputs": [
    {
     "name": "stdout",
     "output_type": "stream",
     "text": [
      "[0]\ttrain-auc:0.709673+0.000959754\ttest-auc:0.703695+0.00261856\n",
      "[1]\ttrain-auc:0.717268+0.00238844\ttest-auc:0.710182+0.00145332\n",
      "[2]\ttrain-auc:0.722475+0.00148862\ttest-auc:0.715078+0.00207594\n",
      "[3]\ttrain-auc:0.725213+0.00222289\ttest-auc:0.716812+0.00162823\n",
      "[4]\ttrain-auc:0.727824+0.00157333\ttest-auc:0.719256+0.00174547\n",
      "[5]\ttrain-auc:0.72981+0.00137842\ttest-auc:0.721057+0.00235933\n",
      "[6]\ttrain-auc:0.731695+0.00100832\ttest-auc:0.722175+0.00241168\n",
      "[7]\ttrain-auc:0.733223+0.00097867\ttest-auc:0.723479+0.00225899\n",
      "[8]\ttrain-auc:0.735266+0.000972772\ttest-auc:0.725056+0.00266081\n",
      "[9]\ttrain-auc:0.736955+0.00102769\ttest-auc:0.726203+0.00243926\n",
      "[10]\ttrain-auc:0.738685+0.00104457\ttest-auc:0.727261+0.00255594\n",
      "[11]\ttrain-auc:0.740178+0.000704599\ttest-auc:0.728386+0.00273521\n",
      "[12]\ttrain-auc:0.741694+0.000646387\ttest-auc:0.729407+0.00283745\n",
      "[13]\ttrain-auc:0.742952+0.000929208\ttest-auc:0.730321+0.00251557\n",
      "[14]\ttrain-auc:0.744261+0.0007658\ttest-auc:0.731365+0.00258831\n",
      "[15]\ttrain-auc:0.745502+0.000760782\ttest-auc:0.732307+0.00253511\n",
      "[16]\ttrain-auc:0.746628+0.000671858\ttest-auc:0.732999+0.00246863\n",
      "[17]\ttrain-auc:0.74786+0.000601672\ttest-auc:0.733771+0.00241292\n",
      "[18]\ttrain-auc:0.749103+0.00058825\ttest-auc:0.734599+0.00239781\n",
      "[19]\ttrain-auc:0.750131+0.000582193\ttest-auc:0.735144+0.00245364\n",
      "[20]\ttrain-auc:0.751271+0.000703753\ttest-auc:0.735708+0.00242675\n",
      "[21]\ttrain-auc:0.75239+0.000481715\ttest-auc:0.736313+0.00249593\n",
      "[22]\ttrain-auc:0.753454+0.000493068\ttest-auc:0.736943+0.00252221\n",
      "[23]\ttrain-auc:0.754584+0.000556897\ttest-auc:0.737692+0.00255525\n",
      "[24]\ttrain-auc:0.755584+0.000602657\ttest-auc:0.738357+0.00252621\n",
      "[25]\ttrain-auc:0.756722+0.000482649\ttest-auc:0.73904+0.00248908\n",
      "[26]\ttrain-auc:0.757781+0.000716782\ttest-auc:0.739703+0.00237061\n",
      "[27]\ttrain-auc:0.758769+0.000767225\ttest-auc:0.740256+0.00235427\n",
      "[28]\ttrain-auc:0.759779+0.000820708\ttest-auc:0.740852+0.00232906\n",
      "[29]\ttrain-auc:0.760659+0.000791883\ttest-auc:0.741371+0.00232858\n",
      "[30]\ttrain-auc:0.761573+0.000807086\ttest-auc:0.741779+0.00240901\n",
      "[31]\ttrain-auc:0.762517+0.000814119\ttest-auc:0.742345+0.00247107\n",
      "[32]\ttrain-auc:0.763602+0.000841692\ttest-auc:0.742831+0.00248629\n",
      "[33]\ttrain-auc:0.764525+0.00078147\ttest-auc:0.743488+0.0024578\n",
      "[34]\ttrain-auc:0.765371+0.000759815\ttest-auc:0.743907+0.00245347\n",
      "[35]\ttrain-auc:0.76632+0.000741119\ttest-auc:0.744418+0.00232538\n",
      "[36]\ttrain-auc:0.767098+0.000743757\ttest-auc:0.744802+0.00232221\n",
      "[37]\ttrain-auc:0.76786+0.000715159\ttest-auc:0.745259+0.00236818\n",
      "[38]\ttrain-auc:0.768544+0.000715876\ttest-auc:0.745663+0.00242666\n",
      "[39]\ttrain-auc:0.769355+0.000756411\ttest-auc:0.746053+0.00242874\n",
      "[40]\ttrain-auc:0.7701+0.000741647\ttest-auc:0.746394+0.00243453\n",
      "[41]\ttrain-auc:0.77084+0.000650328\ttest-auc:0.746678+0.00251262\n",
      "[42]\ttrain-auc:0.771612+0.000670264\ttest-auc:0.747056+0.00256067\n",
      "[43]\ttrain-auc:0.77235+0.000618745\ttest-auc:0.74742+0.00257015\n",
      "[44]\ttrain-auc:0.773056+0.000622676\ttest-auc:0.747768+0.00260854\n",
      "[45]\ttrain-auc:0.773694+0.00059733\ttest-auc:0.748073+0.00263593\n",
      "[46]\ttrain-auc:0.774451+0.000519861\ttest-auc:0.74843+0.00257208\n",
      "[47]\ttrain-auc:0.775068+0.000511796\ttest-auc:0.748742+0.00254539\n",
      "[48]\ttrain-auc:0.775688+0.00048602\ttest-auc:0.749095+0.00258075\n",
      "[49]\ttrain-auc:0.776328+0.000504523\ttest-auc:0.749307+0.00257609\n",
      "[50]\ttrain-auc:0.776963+0.000464643\ttest-auc:0.749715+0.00256274\n",
      "[51]\ttrain-auc:0.777578+0.000515024\ttest-auc:0.750042+0.00258826\n",
      "[52]\ttrain-auc:0.778199+0.00050726\ttest-auc:0.750369+0.00259831\n",
      "[53]\ttrain-auc:0.778794+0.000534658\ttest-auc:0.750634+0.00257416\n",
      "[54]\ttrain-auc:0.779405+0.000494981\ttest-auc:0.750914+0.00259338\n",
      "[55]\ttrain-auc:0.780004+0.000524407\ttest-auc:0.751205+0.00261385\n",
      "[56]\ttrain-auc:0.780624+0.000471399\ttest-auc:0.751457+0.00261387\n",
      "[57]\ttrain-auc:0.781228+0.000463546\ttest-auc:0.751673+0.00258247\n",
      "[58]\ttrain-auc:0.781844+0.000434114\ttest-auc:0.751889+0.00263183\n",
      "[59]\ttrain-auc:0.782371+0.000367296\ttest-auc:0.752085+0.00267254\n",
      "[60]\ttrain-auc:0.78294+0.000330499\ttest-auc:0.752299+0.00275049\n",
      "[61]\ttrain-auc:0.783532+0.000339131\ttest-auc:0.752523+0.00274741\n",
      "[62]\ttrain-auc:0.784097+0.000403782\ttest-auc:0.752708+0.00266502\n",
      "[63]\ttrain-auc:0.784702+0.000366234\ttest-auc:0.752858+0.00262996\n",
      "[64]\ttrain-auc:0.785242+0.000336688\ttest-auc:0.753043+0.00261343\n",
      "[65]\ttrain-auc:0.785699+0.00030819\ttest-auc:0.753251+0.00268752\n",
      "[66]\ttrain-auc:0.786328+0.000417245\ttest-auc:0.753485+0.00269124\n",
      "[67]\ttrain-auc:0.786767+0.000424046\ttest-auc:0.753681+0.00266936\n",
      "[68]\ttrain-auc:0.787261+0.000503444\ttest-auc:0.753888+0.00271476\n",
      "[69]\ttrain-auc:0.787847+0.000521716\ttest-auc:0.75405+0.0027235\n",
      "[70]\ttrain-auc:0.788382+0.00049593\ttest-auc:0.754232+0.00273113\n",
      "[71]\ttrain-auc:0.788923+0.000468173\ttest-auc:0.754389+0.00277518\n",
      "[72]\ttrain-auc:0.789389+0.000454452\ttest-auc:0.754565+0.00277399\n",
      "[73]\ttrain-auc:0.78989+0.000446836\ttest-auc:0.75481+0.00277208\n",
      "[74]\ttrain-auc:0.790396+0.000439004\ttest-auc:0.754951+0.00271644\n",
      "[75]\ttrain-auc:0.790846+0.000445043\ttest-auc:0.755119+0.00267894\n",
      "[76]\ttrain-auc:0.791345+0.000495783\ttest-auc:0.755319+0.00268077\n",
      "[77]\ttrain-auc:0.791813+0.000519693\ttest-auc:0.755549+0.00264215\n",
      "[78]\ttrain-auc:0.792258+0.000492003\ttest-auc:0.755717+0.00266992\n",
      "[79]\ttrain-auc:0.792764+0.000465616\ttest-auc:0.755861+0.00270156\n",
      "[80]\ttrain-auc:0.79327+0.000493058\ttest-auc:0.756025+0.00271153\n",
      "[81]\ttrain-auc:0.793801+0.000508268\ttest-auc:0.756201+0.00274992\n",
      "[82]\ttrain-auc:0.794214+0.000566086\ttest-auc:0.756341+0.00271183\n",
      "[83]\ttrain-auc:0.794697+0.000594319\ttest-auc:0.756531+0.00271411\n",
      "[84]\ttrain-auc:0.79517+0.000533739\ttest-auc:0.75666+0.00271954\n",
      "[85]\ttrain-auc:0.795669+0.000607287\ttest-auc:0.756854+0.00269804\n",
      "[86]\ttrain-auc:0.796054+0.000632747\ttest-auc:0.757+0.00264517\n",
      "[87]\ttrain-auc:0.79653+0.000650508\ttest-auc:0.757142+0.0026092\n",
      "[88]\ttrain-auc:0.796963+0.00068524\ttest-auc:0.757303+0.00262585\n",
      "[89]\ttrain-auc:0.797385+0.000681536\ttest-auc:0.757489+0.00262939\n",
      "[90]\ttrain-auc:0.79781+0.000691966\ttest-auc:0.757627+0.00263662\n",
      "[91]\ttrain-auc:0.798206+0.000688724\ttest-auc:0.757779+0.00263467\n",
      "[92]\ttrain-auc:0.798598+0.000660583\ttest-auc:0.757926+0.00270145\n",
      "[93]\ttrain-auc:0.799034+0.000679509\ttest-auc:0.758041+0.00276725\n",
      "[94]\ttrain-auc:0.799465+0.000683042\ttest-auc:0.758163+0.00272828\n",
      "[95]\ttrain-auc:0.79986+0.000711265\ttest-auc:0.758295+0.00272152\n",
      "[96]\ttrain-auc:0.800254+0.000735203\ttest-auc:0.758375+0.00272715\n",
      "[97]\ttrain-auc:0.800706+0.000742923\ttest-auc:0.758511+0.00272295\n",
      "[98]\ttrain-auc:0.801075+0.000719878\ttest-auc:0.758596+0.00276656\n",
      "[99]\ttrain-auc:0.801498+0.0007099\ttest-auc:0.758659+0.00269542\n",
      "[100]\ttrain-auc:0.801934+0.000694975\ttest-auc:0.758778+0.00272632\n",
      "[101]\ttrain-auc:0.802356+0.000646949\ttest-auc:0.758889+0.00267579\n",
      "[102]\ttrain-auc:0.802734+0.000663427\ttest-auc:0.759004+0.00262616\n",
      "[103]\ttrain-auc:0.80318+0.00056089\ttest-auc:0.759124+0.00274896\n",
      "[104]\ttrain-auc:0.803503+0.000535924\ttest-auc:0.759219+0.00269008\n",
      "[105]\ttrain-auc:0.803917+0.000562536\ttest-auc:0.759357+0.00274825\n",
      "[106]\ttrain-auc:0.804283+0.000578574\ttest-auc:0.759418+0.0027427\n",
      "[107]\ttrain-auc:0.804685+0.000519626\ttest-auc:0.75958+0.00278495\n",
      "[108]\ttrain-auc:0.805103+0.000497134\ttest-auc:0.759681+0.00276775\n",
      "[109]\ttrain-auc:0.80551+0.000517051\ttest-auc:0.759783+0.00271197\n",
      "[110]\ttrain-auc:0.805937+0.000464586\ttest-auc:0.759826+0.00280345\n",
      "[111]\ttrain-auc:0.806348+0.000397184\ttest-auc:0.759913+0.00284662\n",
      "[112]\ttrain-auc:0.806743+0.000420299\ttest-auc:0.760017+0.00283897\n",
      "[113]\ttrain-auc:0.807144+0.000430663\ttest-auc:0.760105+0.00282181\n",
      "[114]\ttrain-auc:0.807539+0.000464499\ttest-auc:0.760179+0.00277607\n",
      "[115]\ttrain-auc:0.807903+0.000454877\ttest-auc:0.760249+0.00276854\n",
      "[116]\ttrain-auc:0.808251+0.000500167\ttest-auc:0.760294+0.00282953\n",
      "[117]\ttrain-auc:0.808648+0.000467811\ttest-auc:0.760392+0.00281064\n",
      "[118]\ttrain-auc:0.809031+0.000532098\ttest-auc:0.760491+0.00277879\n",
      "[119]\ttrain-auc:0.809359+0.00054054\ttest-auc:0.760636+0.00276238\n",
      "[120]\ttrain-auc:0.809678+0.000510857\ttest-auc:0.760708+0.00274341\n",
      "[121]\ttrain-auc:0.810082+0.000501284\ttest-auc:0.760802+0.00273431\n",
      "[122]\ttrain-auc:0.810363+0.000506021\ttest-auc:0.760868+0.00274854\n",
      "[123]\ttrain-auc:0.810725+0.000507725\ttest-auc:0.760996+0.00271963\n",
      "[124]\ttrain-auc:0.81102+0.000532932\ttest-auc:0.761098+0.00271586\n",
      "[125]\ttrain-auc:0.811392+0.000518319\ttest-auc:0.76119+0.00277074\n",
      "[126]\ttrain-auc:0.811677+0.000538966\ttest-auc:0.761258+0.00276291\n"
     ]
    },
    {
     "name": "stdout",
     "output_type": "stream",
     "text": [
      "[127]\ttrain-auc:0.812018+0.000474906\ttest-auc:0.76135+0.00278981\n",
      "[128]\ttrain-auc:0.812398+0.000417952\ttest-auc:0.761452+0.00283174\n",
      "[129]\ttrain-auc:0.812739+0.000429948\ttest-auc:0.761492+0.00284387\n",
      "[130]\ttrain-auc:0.813079+0.000413839\ttest-auc:0.761559+0.00285623\n",
      "[131]\ttrain-auc:0.813436+0.00044745\ttest-auc:0.761638+0.00286483\n",
      "[132]\ttrain-auc:0.81376+0.000440712\ttest-auc:0.761762+0.00288489\n",
      "[133]\ttrain-auc:0.814148+0.000458392\ttest-auc:0.761845+0.00291051\n",
      "[134]\ttrain-auc:0.81448+0.000416638\ttest-auc:0.761953+0.00290205\n",
      "[135]\ttrain-auc:0.814806+0.000450355\ttest-auc:0.762017+0.00289172\n",
      "[136]\ttrain-auc:0.815109+0.000479594\ttest-auc:0.76208+0.002884\n",
      "[137]\ttrain-auc:0.815442+0.000539385\ttest-auc:0.762119+0.00285438\n",
      "[138]\ttrain-auc:0.815762+0.000523367\ttest-auc:0.762179+0.00285162\n",
      "[139]\ttrain-auc:0.816115+0.000540493\ttest-auc:0.762279+0.00282353\n",
      "[140]\ttrain-auc:0.816399+0.000548556\ttest-auc:0.762348+0.00279801\n",
      "[141]\ttrain-auc:0.816736+0.000545939\ttest-auc:0.762376+0.0028331\n",
      "[142]\ttrain-auc:0.817079+0.000584105\ttest-auc:0.762424+0.00281117\n",
      "[143]\ttrain-auc:0.817391+0.000536202\ttest-auc:0.762484+0.00284385\n",
      "[144]\ttrain-auc:0.817678+0.000545358\ttest-auc:0.762547+0.00286219\n",
      "[145]\ttrain-auc:0.817944+0.000541567\ttest-auc:0.762596+0.0028934\n",
      "[146]\ttrain-auc:0.818284+0.00050179\ttest-auc:0.762692+0.00295404\n",
      "[147]\ttrain-auc:0.81867+0.000523137\ttest-auc:0.762768+0.00293986\n",
      "[148]\ttrain-auc:0.818965+0.000546744\ttest-auc:0.762852+0.0029222\n",
      "[149]\ttrain-auc:0.819299+0.000562397\ttest-auc:0.762953+0.00293117\n",
      "[150]\ttrain-auc:0.8196+0.00051069\ttest-auc:0.762968+0.00290499\n",
      "[151]\ttrain-auc:0.819869+0.000487054\ttest-auc:0.763046+0.00288655\n",
      "[152]\ttrain-auc:0.820271+0.000423851\ttest-auc:0.763122+0.00285817\n",
      "[153]\ttrain-auc:0.820555+0.000404128\ttest-auc:0.76318+0.00280314\n",
      "[154]\ttrain-auc:0.820863+0.000411313\ttest-auc:0.76323+0.0027805\n",
      "[155]\ttrain-auc:0.821185+0.000414743\ttest-auc:0.763275+0.002806\n",
      "[156]\ttrain-auc:0.821472+0.000388684\ttest-auc:0.763301+0.00281609\n",
      "[157]\ttrain-auc:0.821777+0.000407964\ttest-auc:0.763296+0.00280668\n",
      "[158]\ttrain-auc:0.822085+0.000428435\ttest-auc:0.763368+0.00276706\n",
      "[159]\ttrain-auc:0.82235+0.000452644\ttest-auc:0.763446+0.00280991\n",
      "[160]\ttrain-auc:0.822624+0.000494363\ttest-auc:0.763447+0.00284323\n",
      "[161]\ttrain-auc:0.822884+0.000505447\ttest-auc:0.763508+0.0028507\n",
      "[162]\ttrain-auc:0.82317+0.000527304\ttest-auc:0.763512+0.00284412\n",
      "[163]\ttrain-auc:0.823455+0.000545791\ttest-auc:0.763542+0.00286216\n",
      "[164]\ttrain-auc:0.823719+0.000521216\ttest-auc:0.763612+0.00290947\n",
      "[165]\ttrain-auc:0.824054+0.000472273\ttest-auc:0.763677+0.00288167\n",
      "[166]\ttrain-auc:0.824349+0.000500702\ttest-auc:0.76373+0.0028776\n",
      "[167]\ttrain-auc:0.824649+0.000444799\ttest-auc:0.763766+0.00283466\n",
      "[168]\ttrain-auc:0.824922+0.000437546\ttest-auc:0.763777+0.00287023\n",
      "[169]\ttrain-auc:0.825238+0.000442386\ttest-auc:0.763846+0.00283444\n",
      "[170]\ttrain-auc:0.825609+0.000426616\ttest-auc:0.76388+0.00284535\n",
      "[171]\ttrain-auc:0.825909+0.00042478\ttest-auc:0.763942+0.00281134\n",
      "[172]\ttrain-auc:0.826166+0.000492674\ttest-auc:0.763984+0.00278647\n",
      "[173]\ttrain-auc:0.826418+0.000543763\ttest-auc:0.764002+0.00279419\n",
      "[174]\ttrain-auc:0.8267+0.000553696\ttest-auc:0.764024+0.00278775\n",
      "[175]\ttrain-auc:0.826978+0.000539919\ttest-auc:0.764078+0.00272148\n",
      "[176]\ttrain-auc:0.82725+0.000540805\ttest-auc:0.764126+0.00270524\n",
      "[177]\ttrain-auc:0.827522+0.000554932\ttest-auc:0.764177+0.00272205\n",
      "[178]\ttrain-auc:0.827846+0.000519243\ttest-auc:0.764207+0.0027465\n",
      "[179]\ttrain-auc:0.828135+0.000474348\ttest-auc:0.76422+0.00276177\n",
      "[180]\ttrain-auc:0.828369+0.000525601\ttest-auc:0.764249+0.00277125\n",
      "[181]\ttrain-auc:0.828607+0.000466595\ttest-auc:0.764305+0.00277869\n",
      "[182]\ttrain-auc:0.828907+0.000476838\ttest-auc:0.764387+0.00281032\n",
      "[183]\ttrain-auc:0.829156+0.000453006\ttest-auc:0.764438+0.00282354\n",
      "[184]\ttrain-auc:0.829376+0.000461863\ttest-auc:0.764476+0.00279999\n",
      "[185]\ttrain-auc:0.829653+0.000444904\ttest-auc:0.764493+0.00283511\n",
      "[186]\ttrain-auc:0.829901+0.00043614\ttest-auc:0.764533+0.00284744\n",
      "[187]\ttrain-auc:0.830148+0.000418096\ttest-auc:0.764569+0.00285477\n",
      "[188]\ttrain-auc:0.830462+0.000435931\ttest-auc:0.764585+0.00280821\n",
      "[189]\ttrain-auc:0.830699+0.000398783\ttest-auc:0.764621+0.0027781\n",
      "[190]\ttrain-auc:0.830955+0.000407618\ttest-auc:0.764658+0.00276113\n",
      "[191]\ttrain-auc:0.8312+0.000445984\ttest-auc:0.764726+0.00276029\n",
      "[192]\ttrain-auc:0.831471+0.000436703\ttest-auc:0.764776+0.00273978\n",
      "[193]\ttrain-auc:0.831764+0.000383582\ttest-auc:0.764853+0.00276852\n",
      "[194]\ttrain-auc:0.832039+0.000381507\ttest-auc:0.764907+0.00277233\n",
      "[195]\ttrain-auc:0.832324+0.000362971\ttest-auc:0.764937+0.0027484\n",
      "[196]\ttrain-auc:0.832603+0.000327896\ttest-auc:0.764985+0.00275478\n",
      "[197]\ttrain-auc:0.832796+0.000361037\ttest-auc:0.765031+0.0027478\n",
      "[198]\ttrain-auc:0.833153+0.000385606\ttest-auc:0.765052+0.00274936\n",
      "[199]\ttrain-auc:0.833434+0.000387537\ttest-auc:0.765098+0.00275869\n",
      "[200]\ttrain-auc:0.833713+0.000431447\ttest-auc:0.765079+0.00274435\n",
      "[201]\ttrain-auc:0.834006+0.000477999\ttest-auc:0.765146+0.00271998\n",
      "[202]\ttrain-auc:0.834273+0.000479578\ttest-auc:0.765166+0.00271622\n",
      "[203]\ttrain-auc:0.834539+0.000469317\ttest-auc:0.765237+0.00270154\n",
      "[204]\ttrain-auc:0.834784+0.000493908\ttest-auc:0.765255+0.00273194\n",
      "[205]\ttrain-auc:0.835065+0.000477939\ttest-auc:0.765297+0.00272302\n",
      "[206]\ttrain-auc:0.835364+0.000472183\ttest-auc:0.765327+0.00272096\n",
      "[207]\ttrain-auc:0.835666+0.000471084\ttest-auc:0.765354+0.0027399\n",
      "[208]\ttrain-auc:0.835963+0.000462545\ttest-auc:0.765413+0.00275759\n",
      "[209]\ttrain-auc:0.836185+0.000482855\ttest-auc:0.765432+0.00274943\n",
      "[210]\ttrain-auc:0.836456+0.000443714\ttest-auc:0.76544+0.00274677\n",
      "[211]\ttrain-auc:0.836703+0.000405259\ttest-auc:0.765458+0.00274048\n",
      "[212]\ttrain-auc:0.836992+0.000398518\ttest-auc:0.765436+0.00275143\n",
      "[213]\ttrain-auc:0.837277+0.000419937\ttest-auc:0.7655+0.00280166\n",
      "[214]\ttrain-auc:0.837525+0.000438979\ttest-auc:0.765492+0.00280128\n",
      "[215]\ttrain-auc:0.837738+0.000394346\ttest-auc:0.765503+0.00285025\n",
      "[216]\ttrain-auc:0.837961+0.000380272\ttest-auc:0.765524+0.00288598\n",
      "[217]\ttrain-auc:0.838208+0.000413613\ttest-auc:0.765539+0.00285222\n",
      "[218]\ttrain-auc:0.838465+0.000486538\ttest-auc:0.765512+0.00287739\n",
      "[219]\ttrain-auc:0.83872+0.000526333\ttest-auc:0.765543+0.00285561\n",
      "[220]\ttrain-auc:0.838956+0.000520939\ttest-auc:0.765543+0.00281294\n",
      "[221]\ttrain-auc:0.839237+0.000518877\ttest-auc:0.765559+0.00282031\n",
      "[222]\ttrain-auc:0.839447+0.000489911\ttest-auc:0.765591+0.00280747\n",
      "[223]\ttrain-auc:0.839713+0.000495583\ttest-auc:0.765635+0.00284742\n",
      "[224]\ttrain-auc:0.839926+0.000522419\ttest-auc:0.765614+0.00284452\n",
      "[225]\ttrain-auc:0.840135+0.000519179\ttest-auc:0.765601+0.00281892\n",
      "[226]\ttrain-auc:0.840388+0.000512739\ttest-auc:0.765636+0.00281629\n",
      "[227]\ttrain-auc:0.840581+0.00055186\ttest-auc:0.76565+0.00279897\n",
      "[228]\ttrain-auc:0.84085+0.000556705\ttest-auc:0.765625+0.00280999\n",
      "[229]\ttrain-auc:0.841102+0.000557729\ttest-auc:0.765642+0.00282102\n",
      "[230]\ttrain-auc:0.841382+0.00058773\ttest-auc:0.765643+0.00286762\n",
      "[231]\ttrain-auc:0.841636+0.000615152\ttest-auc:0.765661+0.00285624\n",
      "[232]\ttrain-auc:0.84181+0.000582253\ttest-auc:0.765648+0.00284485\n",
      "[233]\ttrain-auc:0.842031+0.000644005\ttest-auc:0.765646+0.0028556\n",
      "[234]\ttrain-auc:0.84223+0.000645048\ttest-auc:0.765691+0.00287824\n",
      "[235]\ttrain-auc:0.84247+0.000644015\ttest-auc:0.7657+0.00289112\n",
      "[236]\ttrain-auc:0.842695+0.000641442\ttest-auc:0.765701+0.00293487\n",
      "[237]\ttrain-auc:0.842932+0.000643352\ttest-auc:0.765729+0.00297338\n",
      "[238]\ttrain-auc:0.84312+0.000600367\ttest-auc:0.765735+0.00297831\n",
      "[239]\ttrain-auc:0.843389+0.000611408\ttest-auc:0.765736+0.00302598\n",
      "[240]\ttrain-auc:0.843593+0.000612067\ttest-auc:0.765733+0.00300819\n",
      "[241]\ttrain-auc:0.843796+0.000669856\ttest-auc:0.765778+0.00303818\n",
      "[242]\ttrain-auc:0.843982+0.000661602\ttest-auc:0.765812+0.00306119\n",
      "[243]\ttrain-auc:0.844236+0.000631969\ttest-auc:0.765808+0.0030418\n",
      "[244]\ttrain-auc:0.844499+0.000638301\ttest-auc:0.76584+0.00304877\n",
      "[245]\ttrain-auc:0.844802+0.000716176\ttest-auc:0.765807+0.00306074\n",
      "[246]\ttrain-auc:0.845022+0.000726\ttest-auc:0.765821+0.00307752\n",
      "[247]\ttrain-auc:0.845306+0.000675939\ttest-auc:0.76587+0.00305426\n",
      "[248]\ttrain-auc:0.845514+0.000656017\ttest-auc:0.765873+0.00304707\n",
      "[249]\ttrain-auc:0.845738+0.000655756\ttest-auc:0.765908+0.00306957\n",
      "[250]\ttrain-auc:0.845972+0.000739499\ttest-auc:0.765933+0.00306473\n",
      "[251]\ttrain-auc:0.846237+0.000755745\ttest-auc:0.765929+0.00304668\n",
      "[252]\ttrain-auc:0.846452+0.000746005\ttest-auc:0.765957+0.00302824\n"
     ]
    },
    {
     "name": "stdout",
     "output_type": "stream",
     "text": [
      "[253]\ttrain-auc:0.846683+0.000758887\ttest-auc:0.765928+0.00303481\n",
      "[254]\ttrain-auc:0.846895+0.000767512\ttest-auc:0.765925+0.00302145\n",
      "[255]\ttrain-auc:0.847101+0.000780894\ttest-auc:0.765938+0.00302422\n",
      "[256]\ttrain-auc:0.847373+0.00073704\ttest-auc:0.765932+0.00302286\n",
      "[257]\ttrain-auc:0.847586+0.00075437\ttest-auc:0.765916+0.00302148\n",
      "[258]\ttrain-auc:0.847793+0.000746837\ttest-auc:0.76592+0.00302624\n",
      "[259]\ttrain-auc:0.847987+0.000754859\ttest-auc:0.765925+0.00298247\n",
      "[260]\ttrain-auc:0.848233+0.000705882\ttest-auc:0.765883+0.00297106\n",
      "[261]\ttrain-auc:0.84847+0.000669972\ttest-auc:0.765894+0.00295718\n",
      "[262]\ttrain-auc:0.848691+0.000665706\ttest-auc:0.765905+0.00294889\n",
      "[263]\ttrain-auc:0.84892+0.000632884\ttest-auc:0.765913+0.00295025\n",
      "[264]\ttrain-auc:0.849155+0.000645603\ttest-auc:0.765914+0.00293464\n",
      "[265]\ttrain-auc:0.849359+0.000620296\ttest-auc:0.76591+0.00296942\n",
      "[266]\ttrain-auc:0.849605+0.000632406\ttest-auc:0.765947+0.00296884\n",
      "[267]\ttrain-auc:0.849837+0.000634392\ttest-auc:0.765975+0.00295666\n",
      "[268]\ttrain-auc:0.850038+0.000603541\ttest-auc:0.765989+0.00294037\n",
      "[269]\ttrain-auc:0.850245+0.000600661\ttest-auc:0.765994+0.00297824\n",
      "[270]\ttrain-auc:0.850478+0.000585688\ttest-auc:0.765996+0.00298162\n",
      "[271]\ttrain-auc:0.850727+0.000569251\ttest-auc:0.765981+0.00299626\n",
      "[272]\ttrain-auc:0.850934+0.000547782\ttest-auc:0.765981+0.00297913\n",
      "[273]\ttrain-auc:0.85119+0.000496079\ttest-auc:0.766005+0.0029532\n",
      "[274]\ttrain-auc:0.8514+0.000507717\ttest-auc:0.766029+0.0029727\n",
      "[275]\ttrain-auc:0.8516+0.000540963\ttest-auc:0.766086+0.00300505\n",
      "[276]\ttrain-auc:0.851855+0.000527293\ttest-auc:0.766089+0.00295706\n",
      "[277]\ttrain-auc:0.852045+0.000534899\ttest-auc:0.766137+0.00293287\n",
      "[278]\ttrain-auc:0.852217+0.000545673\ttest-auc:0.766144+0.0029203\n",
      "[279]\ttrain-auc:0.852431+0.000580591\ttest-auc:0.766173+0.00287862\n",
      "[280]\ttrain-auc:0.852627+0.000591481\ttest-auc:0.766199+0.00287221\n",
      "[281]\ttrain-auc:0.85282+0.00065028\ttest-auc:0.766195+0.00287515\n",
      "[282]\ttrain-auc:0.853076+0.000671461\ttest-auc:0.766224+0.0028581\n",
      "[283]\ttrain-auc:0.853328+0.000621595\ttest-auc:0.766215+0.00286575\n",
      "[284]\ttrain-auc:0.853518+0.000613551\ttest-auc:0.766218+0.00287494\n",
      "[285]\ttrain-auc:0.853724+0.000586899\ttest-auc:0.766264+0.00286108\n",
      "[286]\ttrain-auc:0.853958+0.000618391\ttest-auc:0.766313+0.00289979\n",
      "[287]\ttrain-auc:0.854175+0.000620198\ttest-auc:0.766298+0.00287348\n",
      "[288]\ttrain-auc:0.854413+0.000650519\ttest-auc:0.766318+0.00288553\n",
      "[289]\ttrain-auc:0.854634+0.000668875\ttest-auc:0.766315+0.00287833\n",
      "[290]\ttrain-auc:0.854858+0.00070384\ttest-auc:0.76635+0.00289018\n",
      "[291]\ttrain-auc:0.855052+0.000690049\ttest-auc:0.766373+0.00284767\n",
      "[292]\ttrain-auc:0.855268+0.000691644\ttest-auc:0.766367+0.00280793\n",
      "[293]\ttrain-auc:0.85551+0.000660057\ttest-auc:0.766356+0.00277758\n",
      "[294]\ttrain-auc:0.855668+0.000684204\ttest-auc:0.76639+0.00276062\n",
      "[295]\ttrain-auc:0.85583+0.000733455\ttest-auc:0.766425+0.00276552\n",
      "[296]\ttrain-auc:0.856046+0.000725009\ttest-auc:0.766408+0.00279348\n",
      "[297]\ttrain-auc:0.856225+0.000711801\ttest-auc:0.766427+0.00279602\n",
      "[298]\ttrain-auc:0.856425+0.000697757\ttest-auc:0.766432+0.0028042\n",
      "[299]\ttrain-auc:0.856658+0.000694049\ttest-auc:0.766415+0.00278384\n",
      "[300]\ttrain-auc:0.856848+0.000709009\ttest-auc:0.766432+0.00277969\n",
      "[301]\ttrain-auc:0.857043+0.000710027\ttest-auc:0.766401+0.00281716\n",
      "[302]\ttrain-auc:0.857236+0.000697053\ttest-auc:0.766387+0.00281542\n",
      "[303]\ttrain-auc:0.857416+0.000704719\ttest-auc:0.766392+0.00284058\n",
      "[304]\ttrain-auc:0.857604+0.000636944\ttest-auc:0.766408+0.00282826\n",
      "[305]\ttrain-auc:0.857791+0.000719911\ttest-auc:0.766399+0.00279049\n",
      "[306]\ttrain-auc:0.857992+0.00068594\ttest-auc:0.76639+0.00280091\n",
      "[307]\ttrain-auc:0.858184+0.000704871\ttest-auc:0.7664+0.00280012\n",
      "[308]\ttrain-auc:0.858344+0.000671493\ttest-auc:0.766428+0.00280084\n",
      "[309]\ttrain-auc:0.858539+0.000646535\ttest-auc:0.766405+0.00278557\n",
      "[310]\ttrain-auc:0.858755+0.000632715\ttest-auc:0.766403+0.0028097\n",
      "[311]\ttrain-auc:0.858932+0.000619067\ttest-auc:0.766396+0.00281915\n",
      "[312]\ttrain-auc:0.859045+0.000584441\ttest-auc:0.766388+0.00282391\n",
      "[313]\ttrain-auc:0.859257+0.000557513\ttest-auc:0.766368+0.00281529\n",
      "[314]\ttrain-auc:0.859467+0.000574375\ttest-auc:0.766354+0.0028273\n",
      "[315]\ttrain-auc:0.859693+0.000567439\ttest-auc:0.766385+0.00283531\n",
      "[316]\ttrain-auc:0.85989+0.000549872\ttest-auc:0.766374+0.00282534\n",
      "[317]\ttrain-auc:0.860097+0.000557979\ttest-auc:0.766382+0.00278623\n",
      "[318]\ttrain-auc:0.860257+0.000503218\ttest-auc:0.766354+0.0027752\n",
      "[319]\ttrain-auc:0.860485+0.000534772\ttest-auc:0.766398+0.00279161\n",
      "[320]\ttrain-auc:0.860683+0.000533318\ttest-auc:0.766442+0.00278564\n",
      "[321]\ttrain-auc:0.86086+0.000581185\ttest-auc:0.766456+0.00278471\n",
      "[322]\ttrain-auc:0.861084+0.00058251\ttest-auc:0.766449+0.00279308\n",
      "[323]\ttrain-auc:0.861212+0.000543473\ttest-auc:0.766475+0.0027792\n",
      "[324]\ttrain-auc:0.861353+0.00056423\ttest-auc:0.766474+0.00275267\n",
      "[325]\ttrain-auc:0.861561+0.000538069\ttest-auc:0.766468+0.00277002\n",
      "[326]\ttrain-auc:0.861779+0.000482981\ttest-auc:0.766474+0.00278478\n",
      "[327]\ttrain-auc:0.861941+0.000505166\ttest-auc:0.766488+0.00280117\n",
      "[328]\ttrain-auc:0.86214+0.000484182\ttest-auc:0.766483+0.00277959\n",
      "[329]\ttrain-auc:0.862321+0.00046861\ttest-auc:0.766457+0.00280774\n",
      "[330]\ttrain-auc:0.862513+0.000499345\ttest-auc:0.766441+0.00283228\n",
      "[331]\ttrain-auc:0.86274+0.000533524\ttest-auc:0.766443+0.0028382\n",
      "[332]\ttrain-auc:0.8629+0.000538067\ttest-auc:0.766407+0.00285827\n",
      "[333]\ttrain-auc:0.863079+0.000549398\ttest-auc:0.766401+0.00282718\n",
      "[334]\ttrain-auc:0.863278+0.000522366\ttest-auc:0.766433+0.00281141\n",
      "[335]\ttrain-auc:0.863453+0.000522104\ttest-auc:0.76645+0.0027992\n"
     ]
    },
    {
     "ename": "TypeError",
     "evalue": "fit() missing 1 required positional argument: 'y'",
     "output_type": "error",
     "traceback": [
      "\u001b[0;31m---------------------------------------------------------------------------\u001b[0m",
      "\u001b[0;31mTypeError\u001b[0m                                 Traceback (most recent call last)",
      "\u001b[0;32m<ipython-input-47-dd491bdb0c4e>\u001b[0m in \u001b[0;36m<module>\u001b[0;34m()\u001b[0m\n\u001b[1;32m     12\u001b[0m                      tree_method=\"gpu_hist\")\n\u001b[1;32m     13\u001b[0m \u001b[0;34m\u001b[0m\u001b[0m\n\u001b[0;32m---> 14\u001b[0;31m \u001b[0mmodelfit\u001b[0m\u001b[0;34m(\u001b[0m\u001b[0mxgb1\u001b[0m\u001b[0;34m,\u001b[0m \u001b[0mtrain_stack\u001b[0m\u001b[0;34m,\u001b[0m \u001b[0mtarget\u001b[0m\u001b[0;34m)\u001b[0m\u001b[0;34m\u001b[0m\u001b[0m\n\u001b[0m",
      "\u001b[0;32m<ipython-input-46-3bc488c863c4>\u001b[0m in \u001b[0;36mmodelfit\u001b[0;34m(alg, X_train, y_train, useTrainCV, cv_folds, early_stopping_rounds)\u001b[0m\n\u001b[1;32m     19\u001b[0m \u001b[0;34m\u001b[0m\u001b[0m\n\u001b[1;32m     20\u001b[0m     \u001b[0;31m#Fit the algorithm on the data\u001b[0m\u001b[0;34m\u001b[0m\u001b[0;34m\u001b[0m\u001b[0m\n\u001b[0;32m---> 21\u001b[0;31m     \u001b[0malg\u001b[0m\u001b[0;34m.\u001b[0m\u001b[0mfit\u001b[0m\u001b[0;34m(\u001b[0m\u001b[0mdtrain\u001b[0m\u001b[0;34m,\u001b[0m\u001b[0meval_metric\u001b[0m\u001b[0;34m=\u001b[0m\u001b[0;34m'auc'\u001b[0m\u001b[0;34m)\u001b[0m\u001b[0;34m\u001b[0m\u001b[0m\n\u001b[0m\u001b[1;32m     22\u001b[0m \u001b[0;34m\u001b[0m\u001b[0m\n\u001b[1;32m     23\u001b[0m     \u001b[0;31m#Predict training set:\u001b[0m\u001b[0;34m\u001b[0m\u001b[0;34m\u001b[0m\u001b[0m\n",
      "\u001b[0;31mTypeError\u001b[0m: fit() missing 1 required positional argument: 'y'"
     ]
    }
   ],
   "source": [
    "xgb1 = XGBClassifier(\n",
    "                     learning_rate =0.1,\n",
    "                     n_estimators=336,\n",
    "                     max_depth=5,\n",
    "                     min_child_weight=1,\n",
    "                     gamma=0,\n",
    "                     subsample=0.8,\n",
    "                     colsample_bytree=0.8,\n",
    "                     objective= 'binary:logistic',\n",
    "                     nthread=4,\n",
    "                     scale_pos_weight=1,\n",
    "                     seed=27, \n",
    "                     tree_method=\"gpu_hist\")\n",
    "\n",
    "modelfit(xgb1, train_stack, target)"
   ]
  },
  {
   "cell_type": "code",
   "execution_count": 51,
   "metadata": {
    "ExecuteTime": {
     "end_time": "2018-04-18T03:48:52.387769Z",
     "start_time": "2018-04-18T03:48:43.215000Z"
    }
   },
   "outputs": [
    {
     "name": "stdout",
     "output_type": "stream",
     "text": [
      "\n",
      "Model Report\n",
      "Accuracy : 0.8639\n",
      "AUC Score (Train): 0.858410\n"
     ]
    }
   ],
   "source": [
    "#Fit the algorithm on the data\n",
    "xgb1.fit(train_stack, target, eval_metric='auc')\n",
    "\n",
    "#Predict training set:\n",
    "dtrain_predictions = xgb1.predict(train_stack)\n",
    "dtrain_predprob = xgb1.predict_proba(train_stack)[:,1]\n",
    "\n",
    "#Print model report:\n",
    "print(\"\\nModel Report\")\n",
    "print(\"Accuracy : %.4g\" % accuracy_score(target.values, dtrain_predictions))\n",
    "print(\"AUC Score (Train): %f\" % roc_auc_score(target, dtrain_predprob))\n",
    "\n",
    "#feat_imp = pd.Series(alg.booster().get_fscore()).sort_values(ascending=False)\n",
    "#feat_imp.plot(kind='bar', title='Feature Importances')\n",
    "#plt.ylabel('Feature Importance Score')"
   ]
  },
  {
   "cell_type": "code",
   "execution_count": 13,
   "metadata": {
    "ExecuteTime": {
     "end_time": "2018-04-18T04:45:12.728637Z",
     "start_time": "2018-04-18T04:20:39.222127Z"
    }
   },
   "outputs": [
    {
     "name": "stdout",
     "output_type": "stream",
     "text": [
      "Fitting 2 folds for each of 12 candidates, totalling 24 fits\n"
     ]
    },
    {
     "name": "stderr",
     "output_type": "stream",
     "text": [
      "Process ForkPoolWorker-3:\n",
      "Process ForkPoolWorker-4:\n",
      "Process ForkPoolWorker-8:\n",
      "Process ForkPoolWorker-7:\n",
      "Traceback (most recent call last):\n",
      "Traceback (most recent call last):\n",
      "Traceback (most recent call last):\n",
      "Traceback (most recent call last):\n",
      "  File \"/home/ronaldo/anaconda3/envs/fastai/lib/python3.6/multiprocessing/process.py\", line 258, in _bootstrap\n",
      "    self.run()\n",
      "  File \"/home/ronaldo/anaconda3/envs/fastai/lib/python3.6/multiprocessing/process.py\", line 258, in _bootstrap\n",
      "    self.run()\n",
      "  File \"/home/ronaldo/anaconda3/envs/fastai/lib/python3.6/multiprocessing/process.py\", line 258, in _bootstrap\n",
      "    self.run()\n",
      "  File \"/home/ronaldo/anaconda3/envs/fastai/lib/python3.6/multiprocessing/process.py\", line 93, in run\n",
      "    self._target(*self._args, **self._kwargs)\n",
      "  File \"/home/ronaldo/anaconda3/envs/fastai/lib/python3.6/multiprocessing/process.py\", line 93, in run\n",
      "    self._target(*self._args, **self._kwargs)\n",
      "  File \"/home/ronaldo/anaconda3/envs/fastai/lib/python3.6/multiprocessing/process.py\", line 93, in run\n",
      "    self._target(*self._args, **self._kwargs)\n",
      "  File \"/home/ronaldo/anaconda3/envs/fastai/lib/python3.6/multiprocessing/pool.py\", line 108, in worker\n",
      "    task = get()\n",
      "  File \"/home/ronaldo/anaconda3/envs/fastai/lib/python3.6/multiprocessing/pool.py\", line 108, in worker\n",
      "    task = get()\n",
      "  File \"/home/ronaldo/anaconda3/envs/fastai/lib/python3.6/site-packages/sklearn/externals/joblib/pool.py\", line 360, in get\n",
      "    racquire()\n",
      "  File \"/home/ronaldo/anaconda3/envs/fastai/lib/python3.6/multiprocessing/pool.py\", line 108, in worker\n",
      "    task = get()\n",
      "  File \"/home/ronaldo/anaconda3/envs/fastai/lib/python3.6/site-packages/sklearn/externals/joblib/pool.py\", line 360, in get\n",
      "    racquire()\n",
      "  File \"/home/ronaldo/anaconda3/envs/fastai/lib/python3.6/multiprocessing/process.py\", line 258, in _bootstrap\n",
      "    self.run()\n",
      "  File \"/home/ronaldo/anaconda3/envs/fastai/lib/python3.6/site-packages/sklearn/externals/joblib/pool.py\", line 362, in get\n",
      "    return recv()\n",
      "KeyboardInterrupt\n",
      "KeyboardInterrupt\n",
      "  File \"/home/ronaldo/anaconda3/envs/fastai/lib/python3.6/multiprocessing/process.py\", line 93, in run\n",
      "    self._target(*self._args, **self._kwargs)\n",
      "  File \"/home/ronaldo/anaconda3/envs/fastai/lib/python3.6/multiprocessing/connection.py\", line 250, in recv\n",
      "    buf = self._recv_bytes()\n",
      "  File \"/home/ronaldo/anaconda3/envs/fastai/lib/python3.6/multiprocessing/pool.py\", line 108, in worker\n",
      "    task = get()\n",
      "  File \"/home/ronaldo/anaconda3/envs/fastai/lib/python3.6/multiprocessing/connection.py\", line 407, in _recv_bytes\n",
      "    buf = self._recv(4)\n",
      "  File \"/home/ronaldo/anaconda3/envs/fastai/lib/python3.6/site-packages/sklearn/externals/joblib/pool.py\", line 360, in get\n",
      "    racquire()\n",
      "KeyboardInterrupt\n",
      "  File \"/home/ronaldo/anaconda3/envs/fastai/lib/python3.6/multiprocessing/connection.py\", line 379, in _recv\n",
      "    chunk = read(handle, remaining)\n",
      "KeyboardInterrupt\n"
     ]
    },
    {
     "ename": "KeyboardInterrupt",
     "evalue": "",
     "output_type": "error",
     "traceback": [
      "\u001b[0;31m---------------------------------------------------------------------------\u001b[0m",
      "\u001b[0;31mKeyboardInterrupt\u001b[0m                         Traceback (most recent call last)",
      "\u001b[0;32m<ipython-input-13-fcc303c23ee2>\u001b[0m in \u001b[0;36m<module>\u001b[0;34m()\u001b[0m\n\u001b[1;32m     27\u001b[0m                         verbose=True)\n\u001b[1;32m     28\u001b[0m \u001b[0;34m\u001b[0m\u001b[0m\n\u001b[0;32m---> 29\u001b[0;31m \u001b[0mgsearch1\u001b[0m\u001b[0;34m.\u001b[0m\u001b[0mfit\u001b[0m\u001b[0;34m(\u001b[0m\u001b[0mtrain_stack\u001b[0m\u001b[0;34m,\u001b[0m \u001b[0mtarget\u001b[0m\u001b[0;34m)\u001b[0m\u001b[0;34m\u001b[0m\u001b[0m\n\u001b[0m\u001b[1;32m     30\u001b[0m \u001b[0;34m\u001b[0m\u001b[0m\n\u001b[1;32m     31\u001b[0m \u001b[0mgsearch1\u001b[0m\u001b[0;34m.\u001b[0m\u001b[0mgrid_scores_\u001b[0m\u001b[0;34m,\u001b[0m \u001b[0mgsearch1\u001b[0m\u001b[0;34m.\u001b[0m\u001b[0mbest_params_\u001b[0m\u001b[0;34m,\u001b[0m \u001b[0mgsearch1\u001b[0m\u001b[0;34m.\u001b[0m\u001b[0mbest_score_\u001b[0m\u001b[0;34m\u001b[0m\u001b[0m\n",
      "\u001b[0;32m~/anaconda3/envs/fastai/lib/python3.6/site-packages/sklearn/model_selection/_search.py\u001b[0m in \u001b[0;36mfit\u001b[0;34m(self, X, y, groups, **fit_params)\u001b[0m\n\u001b[1;32m    637\u001b[0m                                   error_score=self.error_score)\n\u001b[1;32m    638\u001b[0m           for parameters, (train, test) in product(candidate_params,\n\u001b[0;32m--> 639\u001b[0;31m                                                    cv.split(X, y, groups)))\n\u001b[0m\u001b[1;32m    640\u001b[0m \u001b[0;34m\u001b[0m\u001b[0m\n\u001b[1;32m    641\u001b[0m         \u001b[0;31m# if one choose to see train score, \"out\" will contain train score info\u001b[0m\u001b[0;34m\u001b[0m\u001b[0;34m\u001b[0m\u001b[0m\n",
      "\u001b[0;32m~/anaconda3/envs/fastai/lib/python3.6/site-packages/sklearn/externals/joblib/parallel.py\u001b[0m in \u001b[0;36m__call__\u001b[0;34m(self, iterable)\u001b[0m\n\u001b[1;32m    787\u001b[0m                 \u001b[0;31m# consumption.\u001b[0m\u001b[0;34m\u001b[0m\u001b[0;34m\u001b[0m\u001b[0m\n\u001b[1;32m    788\u001b[0m                 \u001b[0mself\u001b[0m\u001b[0;34m.\u001b[0m\u001b[0m_iterating\u001b[0m \u001b[0;34m=\u001b[0m \u001b[0;32mFalse\u001b[0m\u001b[0;34m\u001b[0m\u001b[0m\n\u001b[0;32m--> 789\u001b[0;31m             \u001b[0mself\u001b[0m\u001b[0;34m.\u001b[0m\u001b[0mretrieve\u001b[0m\u001b[0;34m(\u001b[0m\u001b[0;34m)\u001b[0m\u001b[0;34m\u001b[0m\u001b[0m\n\u001b[0m\u001b[1;32m    790\u001b[0m             \u001b[0;31m# Make sure that we get a last message telling us we are done\u001b[0m\u001b[0;34m\u001b[0m\u001b[0;34m\u001b[0m\u001b[0m\n\u001b[1;32m    791\u001b[0m             \u001b[0melapsed_time\u001b[0m \u001b[0;34m=\u001b[0m \u001b[0mtime\u001b[0m\u001b[0;34m.\u001b[0m\u001b[0mtime\u001b[0m\u001b[0;34m(\u001b[0m\u001b[0;34m)\u001b[0m \u001b[0;34m-\u001b[0m \u001b[0mself\u001b[0m\u001b[0;34m.\u001b[0m\u001b[0m_start_time\u001b[0m\u001b[0;34m\u001b[0m\u001b[0m\n",
      "\u001b[0;32m~/anaconda3/envs/fastai/lib/python3.6/site-packages/sklearn/externals/joblib/parallel.py\u001b[0m in \u001b[0;36mretrieve\u001b[0;34m(self)\u001b[0m\n\u001b[1;32m    697\u001b[0m             \u001b[0;32mtry\u001b[0m\u001b[0;34m:\u001b[0m\u001b[0;34m\u001b[0m\u001b[0m\n\u001b[1;32m    698\u001b[0m                 \u001b[0;32mif\u001b[0m \u001b[0mgetattr\u001b[0m\u001b[0;34m(\u001b[0m\u001b[0mself\u001b[0m\u001b[0;34m.\u001b[0m\u001b[0m_backend\u001b[0m\u001b[0;34m,\u001b[0m \u001b[0;34m'supports_timeout'\u001b[0m\u001b[0;34m,\u001b[0m \u001b[0;32mFalse\u001b[0m\u001b[0;34m)\u001b[0m\u001b[0;34m:\u001b[0m\u001b[0;34m\u001b[0m\u001b[0m\n\u001b[0;32m--> 699\u001b[0;31m                     \u001b[0mself\u001b[0m\u001b[0;34m.\u001b[0m\u001b[0m_output\u001b[0m\u001b[0;34m.\u001b[0m\u001b[0mextend\u001b[0m\u001b[0;34m(\u001b[0m\u001b[0mjob\u001b[0m\u001b[0;34m.\u001b[0m\u001b[0mget\u001b[0m\u001b[0;34m(\u001b[0m\u001b[0mtimeout\u001b[0m\u001b[0;34m=\u001b[0m\u001b[0mself\u001b[0m\u001b[0;34m.\u001b[0m\u001b[0mtimeout\u001b[0m\u001b[0;34m)\u001b[0m\u001b[0;34m)\u001b[0m\u001b[0;34m\u001b[0m\u001b[0m\n\u001b[0m\u001b[1;32m    700\u001b[0m                 \u001b[0;32melse\u001b[0m\u001b[0;34m:\u001b[0m\u001b[0;34m\u001b[0m\u001b[0m\n\u001b[1;32m    701\u001b[0m                     \u001b[0mself\u001b[0m\u001b[0;34m.\u001b[0m\u001b[0m_output\u001b[0m\u001b[0;34m.\u001b[0m\u001b[0mextend\u001b[0m\u001b[0;34m(\u001b[0m\u001b[0mjob\u001b[0m\u001b[0;34m.\u001b[0m\u001b[0mget\u001b[0m\u001b[0;34m(\u001b[0m\u001b[0;34m)\u001b[0m\u001b[0;34m)\u001b[0m\u001b[0;34m\u001b[0m\u001b[0m\n",
      "\u001b[0;32m~/anaconda3/envs/fastai/lib/python3.6/multiprocessing/pool.py\u001b[0m in \u001b[0;36mget\u001b[0;34m(self, timeout)\u001b[0m\n\u001b[1;32m    636\u001b[0m \u001b[0;34m\u001b[0m\u001b[0m\n\u001b[1;32m    637\u001b[0m     \u001b[0;32mdef\u001b[0m \u001b[0mget\u001b[0m\u001b[0;34m(\u001b[0m\u001b[0mself\u001b[0m\u001b[0;34m,\u001b[0m \u001b[0mtimeout\u001b[0m\u001b[0;34m=\u001b[0m\u001b[0;32mNone\u001b[0m\u001b[0;34m)\u001b[0m\u001b[0;34m:\u001b[0m\u001b[0;34m\u001b[0m\u001b[0m\n\u001b[0;32m--> 638\u001b[0;31m         \u001b[0mself\u001b[0m\u001b[0;34m.\u001b[0m\u001b[0mwait\u001b[0m\u001b[0;34m(\u001b[0m\u001b[0mtimeout\u001b[0m\u001b[0;34m)\u001b[0m\u001b[0;34m\u001b[0m\u001b[0m\n\u001b[0m\u001b[1;32m    639\u001b[0m         \u001b[0;32mif\u001b[0m \u001b[0;32mnot\u001b[0m \u001b[0mself\u001b[0m\u001b[0;34m.\u001b[0m\u001b[0mready\u001b[0m\u001b[0;34m(\u001b[0m\u001b[0;34m)\u001b[0m\u001b[0;34m:\u001b[0m\u001b[0;34m\u001b[0m\u001b[0m\n\u001b[1;32m    640\u001b[0m             \u001b[0;32mraise\u001b[0m \u001b[0mTimeoutError\u001b[0m\u001b[0;34m\u001b[0m\u001b[0m\n",
      "\u001b[0;32m~/anaconda3/envs/fastai/lib/python3.6/multiprocessing/pool.py\u001b[0m in \u001b[0;36mwait\u001b[0;34m(self, timeout)\u001b[0m\n\u001b[1;32m    633\u001b[0m \u001b[0;34m\u001b[0m\u001b[0m\n\u001b[1;32m    634\u001b[0m     \u001b[0;32mdef\u001b[0m \u001b[0mwait\u001b[0m\u001b[0;34m(\u001b[0m\u001b[0mself\u001b[0m\u001b[0;34m,\u001b[0m \u001b[0mtimeout\u001b[0m\u001b[0;34m=\u001b[0m\u001b[0;32mNone\u001b[0m\u001b[0;34m)\u001b[0m\u001b[0;34m:\u001b[0m\u001b[0;34m\u001b[0m\u001b[0m\n\u001b[0;32m--> 635\u001b[0;31m         \u001b[0mself\u001b[0m\u001b[0;34m.\u001b[0m\u001b[0m_event\u001b[0m\u001b[0;34m.\u001b[0m\u001b[0mwait\u001b[0m\u001b[0;34m(\u001b[0m\u001b[0mtimeout\u001b[0m\u001b[0;34m)\u001b[0m\u001b[0;34m\u001b[0m\u001b[0m\n\u001b[0m\u001b[1;32m    636\u001b[0m \u001b[0;34m\u001b[0m\u001b[0m\n\u001b[1;32m    637\u001b[0m     \u001b[0;32mdef\u001b[0m \u001b[0mget\u001b[0m\u001b[0;34m(\u001b[0m\u001b[0mself\u001b[0m\u001b[0;34m,\u001b[0m \u001b[0mtimeout\u001b[0m\u001b[0;34m=\u001b[0m\u001b[0;32mNone\u001b[0m\u001b[0;34m)\u001b[0m\u001b[0;34m:\u001b[0m\u001b[0;34m\u001b[0m\u001b[0m\n",
      "\u001b[0;32m~/anaconda3/envs/fastai/lib/python3.6/threading.py\u001b[0m in \u001b[0;36mwait\u001b[0;34m(self, timeout)\u001b[0m\n\u001b[1;32m    549\u001b[0m             \u001b[0msignaled\u001b[0m \u001b[0;34m=\u001b[0m \u001b[0mself\u001b[0m\u001b[0;34m.\u001b[0m\u001b[0m_flag\u001b[0m\u001b[0;34m\u001b[0m\u001b[0m\n\u001b[1;32m    550\u001b[0m             \u001b[0;32mif\u001b[0m \u001b[0;32mnot\u001b[0m \u001b[0msignaled\u001b[0m\u001b[0;34m:\u001b[0m\u001b[0;34m\u001b[0m\u001b[0m\n\u001b[0;32m--> 551\u001b[0;31m                 \u001b[0msignaled\u001b[0m \u001b[0;34m=\u001b[0m \u001b[0mself\u001b[0m\u001b[0;34m.\u001b[0m\u001b[0m_cond\u001b[0m\u001b[0;34m.\u001b[0m\u001b[0mwait\u001b[0m\u001b[0;34m(\u001b[0m\u001b[0mtimeout\u001b[0m\u001b[0;34m)\u001b[0m\u001b[0;34m\u001b[0m\u001b[0m\n\u001b[0m\u001b[1;32m    552\u001b[0m             \u001b[0;32mreturn\u001b[0m \u001b[0msignaled\u001b[0m\u001b[0;34m\u001b[0m\u001b[0m\n\u001b[1;32m    553\u001b[0m \u001b[0;34m\u001b[0m\u001b[0m\n",
      "\u001b[0;32m~/anaconda3/envs/fastai/lib/python3.6/threading.py\u001b[0m in \u001b[0;36mwait\u001b[0;34m(self, timeout)\u001b[0m\n\u001b[1;32m    293\u001b[0m         \u001b[0;32mtry\u001b[0m\u001b[0;34m:\u001b[0m    \u001b[0;31m# restore state no matter what (e.g., KeyboardInterrupt)\u001b[0m\u001b[0;34m\u001b[0m\u001b[0m\n\u001b[1;32m    294\u001b[0m             \u001b[0;32mif\u001b[0m \u001b[0mtimeout\u001b[0m \u001b[0;32mis\u001b[0m \u001b[0;32mNone\u001b[0m\u001b[0;34m:\u001b[0m\u001b[0;34m\u001b[0m\u001b[0m\n\u001b[0;32m--> 295\u001b[0;31m                 \u001b[0mwaiter\u001b[0m\u001b[0;34m.\u001b[0m\u001b[0macquire\u001b[0m\u001b[0;34m(\u001b[0m\u001b[0;34m)\u001b[0m\u001b[0;34m\u001b[0m\u001b[0m\n\u001b[0m\u001b[1;32m    296\u001b[0m                 \u001b[0mgotit\u001b[0m \u001b[0;34m=\u001b[0m \u001b[0;32mTrue\u001b[0m\u001b[0;34m\u001b[0m\u001b[0m\n\u001b[1;32m    297\u001b[0m             \u001b[0;32melse\u001b[0m\u001b[0;34m:\u001b[0m\u001b[0;34m\u001b[0m\u001b[0m\n",
      "\u001b[0;31mKeyboardInterrupt\u001b[0m: "
     ]
    }
   ],
   "source": [
    "param_test1 = {\n",
    " 'max_depth':range(3,10,2),\n",
    " 'min_child_weight':range(1,6,2)\n",
    "}\n",
    "\n",
    "estimator = XGBClassifier(learning_rate =0.1, \n",
    "                          n_estimators=336, \n",
    "                          max_depth=5,\n",
    "                          min_child_weight=1, \n",
    "                          gamma=0, \n",
    "                          subsample=0.8, \n",
    "                          colsample_bytree=0.8,\n",
    "                          objective= 'binary:logistic', \n",
    "                          scale_pos_weight=ratio,\n",
    "                          nthreads=4,\n",
    "                          random_state=42,\n",
    "                          tree_method=\"gpu_hist\", \n",
    "                          verbose=True)\n",
    "\n",
    "\n",
    "gsearch1 = GridSearchCV(estimator=estimator, \n",
    "                        param_grid=param_test1, \n",
    "                        scoring='roc_auc', \n",
    "                        iid=False,\n",
    "                        n_jobs=4,\n",
    "                        cv=2,\n",
    "                        verbose=True)\n",
    "\n",
    "gsearch1.fit(train_stack, target)\n",
    "\n",
    "gsearch1.grid_scores_, gsearch1.best_params_, gsearch1.best_score_"
   ]
  },
  {
   "cell_type": "code",
   "execution_count": null,
   "metadata": {},
   "outputs": [],
   "source": [
    "    alg.set_params(n_estimators=cvresult.shape[0])\n",
    "    \n",
    "    #Fit the algorithm on the data\n",
    "    alg.fit(dtrain,eval_metric='auc')\n",
    "        \n",
    "    #Predict training set:\n",
    "    dtrain_predictions = alg.predict(X_train)\n",
    "    dtrain_predprob = alg.predict_proba(X_train)[:,1]\n",
    "        \n",
    "    #Print model report:\n",
    "    print(\"\\nModel Report\")\n",
    "    print(\"Accuracy : %.4g\" % accuracy_score(y_train.values, dtrain_predictions))\n",
    "    print(\"AUC Score (Train): %f\" % roc_auc_score(y_train, dtrain_predprob))"
   ]
  },
  {
   "cell_type": "code",
   "execution_count": 20,
   "metadata": {
    "ExecuteTime": {
     "end_time": "2018-04-18T00:14:06.106968Z",
     "start_time": "2018-04-18T00:14:00.643503Z"
    }
   },
   "outputs": [
    {
     "ename": "MemoryError",
     "evalue": "",
     "output_type": "error",
     "traceback": [
      "\u001b[0;31m---------------------------------------------------------------------------\u001b[0m",
      "\u001b[0;31mMemoryError\u001b[0m                               Traceback (most recent call last)",
      "\u001b[0;32m<ipython-input-20-b38dc049b43f>\u001b[0m in \u001b[0;36m<module>\u001b[0;34m()\u001b[0m\n\u001b[1;32m     16\u001b[0m \u001b[0;34m\u001b[0m\u001b[0m\n\u001b[1;32m     17\u001b[0m     \u001b[0mdtest\u001b[0m \u001b[0;34m=\u001b[0m \u001b[0mxgb\u001b[0m\u001b[0;34m.\u001b[0m\u001b[0mDMatrix\u001b[0m\u001b[0;34m(\u001b[0m\u001b[0mtest_stack\u001b[0m\u001b[0;34m)\u001b[0m\u001b[0;34m\u001b[0m\u001b[0m\n\u001b[0;32m---> 18\u001b[0;31m     \u001b[0mdtrain\u001b[0m \u001b[0;34m=\u001b[0m \u001b[0mxgb\u001b[0m\u001b[0;34m.\u001b[0m\u001b[0mDMatrix\u001b[0m\u001b[0;34m(\u001b[0m\u001b[0mtrain_stack\u001b[0m\u001b[0;34m[\u001b[0m\u001b[0mtrain_index\u001b[0m\u001b[0;34m]\u001b[0m\u001b[0;34m,\u001b[0m \u001b[0mtarget\u001b[0m\u001b[0;34m[\u001b[0m\u001b[0mtrain_index\u001b[0m\u001b[0;34m]\u001b[0m\u001b[0;34m)\u001b[0m\u001b[0;34m\u001b[0m\u001b[0m\n\u001b[0m\u001b[1;32m     19\u001b[0m     \u001b[0mdvalid\u001b[0m \u001b[0;34m=\u001b[0m \u001b[0mxgb\u001b[0m\u001b[0;34m.\u001b[0m\u001b[0mDMatrix\u001b[0m\u001b[0;34m(\u001b[0m\u001b[0mtrain_stack\u001b[0m\u001b[0;34m[\u001b[0m\u001b[0mvalid_index\u001b[0m\u001b[0;34m]\u001b[0m\u001b[0;34m,\u001b[0m \u001b[0mtarge\u001b[0m\u001b[0;34m[\u001b[0m\u001b[0mvalid_index\u001b[0m\u001b[0;34m]\u001b[0m\u001b[0;34m)\u001b[0m\u001b[0;34m\u001b[0m\u001b[0m\n\u001b[1;32m     20\u001b[0m \u001b[0;34m\u001b[0m\u001b[0m\n",
      "\u001b[0;31mMemoryError\u001b[0m: "
     ]
    }
   ],
   "source": [
    "\n",
    "params = {'eta': 0.03,\n",
    "          'max_depth': 7,\n",
    "          'subsample': 0.85,\n",
    "          'colsample_bytree': 0.85,\n",
    "          'objective': 'binary:logistic',\n",
    "          'eval_metric': 'auc',\n",
    "          'seed': 42,\n",
    "          'tree_method': 'gpu_hist'}\n",
    "\n",
    "cv_scores = []\n",
    "predictions = []\n",
    "          \n",
    "          #'tree_method': 'gpu_hist'} # remove this parameter if xgboost is not compiled with gpu_support\n",
    "for train_index, valid_index in skf.split(train_stack, target):\n",
    "    \n",
    "    dtest = xgb.DMatrix(test_stack)\n",
    "    dtrain = xgb.DMatrix(train_stack[train_index], target[train_index])\n",
    "    dvalid = xgb.DMatrix(train_stack[valid_index], targe[valid_index])\n",
    "    \n",
    "    watchlist = [(dtrain, 'train'), (dvalid, 'valid')]\n",
    "\n",
    "    model = xgb.train(params, \n",
    "                      dtrain, \n",
    "                      num_boost_round=10000,\n",
    "                      evals=watchlist,\n",
    "                      early_stopping_rounds=100, \n",
    "                      verbose_eval=True)\n",
    "    \n",
    "    cv_scores.append(float(model.attributes()['best_score']))\n",
    "    xgb_pred = model.predict(dtest)\n",
    "    predictions.append(list(xgb_pred)) "
   ]
  },
  {
   "cell_type": "code",
   "execution_count": null,
   "metadata": {},
   "outputs": [],
   "source": []
  },
  {
   "cell_type": "code",
   "execution_count": 18,
   "metadata": {
    "ExecuteTime": {
     "end_time": "2018-04-17T23:12:43.386075Z",
     "start_time": "2018-04-17T23:12:43.330968Z"
    }
   },
   "outputs": [
    {
     "name": "stdout",
     "output_type": "stream",
     "text": [
      "AUC: 0.5005064419691753\n"
     ]
    }
   ],
   "source": [
    "validation_pred = model.predict(dvalid, ntree_limit=model.best_iteration)\n",
    "\n",
    "auc = roc_auc_score(y_valid, validation_pred)\n",
    "\n",
    "print('AUC: {}'.format(auc))\n"
   ]
  },
  {
   "cell_type": "code",
   "execution_count": 21,
   "metadata": {
    "ExecuteTime": {
     "end_time": "2018-04-18T07:07:13.811152Z",
     "start_time": "2018-04-18T07:07:13.628753Z"
    }
   },
   "outputs": [],
   "source": [
    "# Prepare submission\n",
    "subm = pd.DataFrame()\n",
    "\n",
    "subm['id'] = test['id'].values\n",
    "\n",
    "subm['project_is_approved'] = prediction\n",
    "\n",
    "subm.to_csv('submission.csv', index=False)   "
   ]
  },
  {
   "cell_type": "code",
   "execution_count": 32,
   "metadata": {
    "ExecuteTime": {
     "end_time": "2018-04-17T04:51:57.051345Z",
     "start_time": "2018-04-17T04:51:57.030989Z"
    }
   },
   "outputs": [],
   "source": [
    "skf = StratifiedKFold(n_splits=5, random_state=42, shuffle=True)"
   ]
  },
  {
   "cell_type": "code",
   "execution_count": 95,
   "metadata": {},
   "outputs": [
    {
     "name": "stdout",
     "output_type": "stream",
     "text": [
      "Fitting 10 folds for each of 2800000 candidates, totalling 28000000 fits\n"
     ]
    },
    {
     "name": "stderr",
     "output_type": "stream",
     "text": [
      "Process ForkPoolWorker-41:\n",
      "Process ForkPoolWorker-44:\n",
      "Process ForkPoolWorker-40:\n",
      "Process ForkPoolWorker-43:\n",
      "Traceback (most recent call last):\n",
      "Traceback (most recent call last):\n",
      "Traceback (most recent call last):\n",
      "Process ForkPoolWorker-42:\n",
      "Traceback (most recent call last):\n",
      "  File \"/home/ronaldo/anaconda3/envs/fastai/lib/python3.6/multiprocessing/process.py\", line 258, in _bootstrap\n",
      "    self.run()\n",
      "  File \"/home/ronaldo/anaconda3/envs/fastai/lib/python3.6/multiprocessing/process.py\", line 258, in _bootstrap\n",
      "    self.run()\n",
      "Traceback (most recent call last):\n",
      "  File \"/home/ronaldo/anaconda3/envs/fastai/lib/python3.6/multiprocessing/process.py\", line 258, in _bootstrap\n",
      "    self.run()\n",
      "  File \"/home/ronaldo/anaconda3/envs/fastai/lib/python3.6/multiprocessing/process.py\", line 93, in run\n",
      "    self._target(*self._args, **self._kwargs)\n",
      "  File \"/home/ronaldo/anaconda3/envs/fastai/lib/python3.6/multiprocessing/process.py\", line 93, in run\n",
      "    self._target(*self._args, **self._kwargs)\n",
      "  File \"/home/ronaldo/anaconda3/envs/fastai/lib/python3.6/multiprocessing/process.py\", line 258, in _bootstrap\n",
      "    self.run()\n",
      "  File \"/home/ronaldo/anaconda3/envs/fastai/lib/python3.6/multiprocessing/process.py\", line 258, in _bootstrap\n",
      "    self.run()\n",
      "  File \"/home/ronaldo/anaconda3/envs/fastai/lib/python3.6/multiprocessing/pool.py\", line 108, in worker\n",
      "    task = get()\n",
      "  File \"/home/ronaldo/anaconda3/envs/fastai/lib/python3.6/multiprocessing/pool.py\", line 108, in worker\n",
      "    task = get()\n",
      "  File \"/home/ronaldo/anaconda3/envs/fastai/lib/python3.6/multiprocessing/process.py\", line 93, in run\n",
      "    self._target(*self._args, **self._kwargs)\n",
      "  File \"/home/ronaldo/anaconda3/envs/fastai/lib/python3.6/multiprocessing/process.py\", line 93, in run\n",
      "    self._target(*self._args, **self._kwargs)\n",
      "  File \"/home/ronaldo/anaconda3/envs/fastai/lib/python3.6/multiprocessing/process.py\", line 93, in run\n",
      "    self._target(*self._args, **self._kwargs)\n",
      "  File \"/home/ronaldo/anaconda3/envs/fastai/lib/python3.6/site-packages/sklearn/externals/joblib/pool.py\", line 362, in get\n",
      "    return recv()\n",
      "  File \"/home/ronaldo/anaconda3/envs/fastai/lib/python3.6/multiprocessing/pool.py\", line 108, in worker\n",
      "    task = get()\n",
      "  File \"/home/ronaldo/anaconda3/envs/fastai/lib/python3.6/site-packages/sklearn/externals/joblib/pool.py\", line 360, in get\n",
      "    racquire()\n",
      "  File \"/home/ronaldo/anaconda3/envs/fastai/lib/python3.6/multiprocessing/pool.py\", line 108, in worker\n",
      "    task = get()\n",
      "  File \"/home/ronaldo/anaconda3/envs/fastai/lib/python3.6/multiprocessing/connection.py\", line 250, in recv\n",
      "    buf = self._recv_bytes()\n",
      "  File \"/home/ronaldo/anaconda3/envs/fastai/lib/python3.6/multiprocessing/pool.py\", line 108, in worker\n",
      "    task = get()\n",
      "  File \"/home/ronaldo/anaconda3/envs/fastai/lib/python3.6/site-packages/sklearn/externals/joblib/pool.py\", line 360, in get\n",
      "    racquire()\n",
      "  File \"/home/ronaldo/anaconda3/envs/fastai/lib/python3.6/site-packages/sklearn/externals/joblib/pool.py\", line 360, in get\n",
      "    racquire()\n",
      "  File \"/home/ronaldo/anaconda3/envs/fastai/lib/python3.6/multiprocessing/connection.py\", line 407, in _recv_bytes\n",
      "    buf = self._recv(4)\n",
      "  File \"/home/ronaldo/anaconda3/envs/fastai/lib/python3.6/site-packages/sklearn/externals/joblib/pool.py\", line 360, in get\n",
      "    racquire()\n",
      "KeyboardInterrupt\n",
      "KeyboardInterrupt\n",
      "KeyboardInterrupt\n",
      "KeyboardInterrupt\n",
      "  File \"/home/ronaldo/anaconda3/envs/fastai/lib/python3.6/multiprocessing/connection.py\", line 379, in _recv\n",
      "    chunk = read(handle, remaining)\n",
      "KeyboardInterrupt\n",
      "Process ForkPoolWorker-39:\n",
      "Process ForkPoolWorker-37:\n",
      "Process ForkPoolWorker-38:\n",
      "Traceback (most recent call last):\n",
      "Traceback (most recent call last):\n",
      "Traceback (most recent call last):\n",
      "  File \"/home/ronaldo/anaconda3/envs/fastai/lib/python3.6/multiprocessing/process.py\", line 258, in _bootstrap\n",
      "    self.run()\n",
      "  File \"/home/ronaldo/anaconda3/envs/fastai/lib/python3.6/multiprocessing/process.py\", line 258, in _bootstrap\n",
      "    self.run()\n",
      "  File \"/home/ronaldo/anaconda3/envs/fastai/lib/python3.6/multiprocessing/process.py\", line 258, in _bootstrap\n",
      "    self.run()\n",
      "  File \"/home/ronaldo/anaconda3/envs/fastai/lib/python3.6/multiprocessing/process.py\", line 93, in run\n",
      "    self._target(*self._args, **self._kwargs)\n",
      "  File \"/home/ronaldo/anaconda3/envs/fastai/lib/python3.6/multiprocessing/process.py\", line 93, in run\n",
      "    self._target(*self._args, **self._kwargs)\n",
      "  File \"/home/ronaldo/anaconda3/envs/fastai/lib/python3.6/multiprocessing/process.py\", line 93, in run\n",
      "    self._target(*self._args, **self._kwargs)\n",
      "  File \"/home/ronaldo/anaconda3/envs/fastai/lib/python3.6/multiprocessing/pool.py\", line 108, in worker\n",
      "    task = get()\n",
      "  File \"/home/ronaldo/anaconda3/envs/fastai/lib/python3.6/site-packages/sklearn/externals/joblib/pool.py\", line 360, in get\n",
      "    racquire()\n",
      "KeyboardInterrupt\n",
      "  File \"/home/ronaldo/anaconda3/envs/fastai/lib/python3.6/multiprocessing/pool.py\", line 108, in worker\n",
      "    task = get()\n",
      "  File \"/home/ronaldo/anaconda3/envs/fastai/lib/python3.6/multiprocessing/pool.py\", line 108, in worker\n",
      "    task = get()\n",
      "  File \"/home/ronaldo/anaconda3/envs/fastai/lib/python3.6/site-packages/sklearn/externals/joblib/pool.py\", line 360, in get\n",
      "    racquire()\n",
      "  File \"/home/ronaldo/anaconda3/envs/fastai/lib/python3.6/site-packages/sklearn/externals/joblib/pool.py\", line 360, in get\n",
      "    racquire()\n",
      "KeyboardInterrupt\n",
      "KeyboardInterrupt\n"
     ]
    },
    {
     "ename": "KeyboardInterrupt",
     "evalue": "",
     "output_type": "error",
     "traceback": [
      "\u001b[0;31m---------------------------------------------------------------------------\u001b[0m",
      "\u001b[0;31mKeyboardInterrupt\u001b[0m                         Traceback (most recent call last)",
      "\u001b[0;32m~/anaconda3/envs/fastai/lib/python3.6/site-packages/sklearn/externals/joblib/parallel.py\u001b[0m in \u001b[0;36mretrieve\u001b[0;34m(self)\u001b[0m\n\u001b[1;32m    698\u001b[0m                 \u001b[0;32mif\u001b[0m \u001b[0mgetattr\u001b[0m\u001b[0;34m(\u001b[0m\u001b[0mself\u001b[0m\u001b[0;34m.\u001b[0m\u001b[0m_backend\u001b[0m\u001b[0;34m,\u001b[0m \u001b[0;34m'supports_timeout'\u001b[0m\u001b[0;34m,\u001b[0m \u001b[0;32mFalse\u001b[0m\u001b[0;34m)\u001b[0m\u001b[0;34m:\u001b[0m\u001b[0;34m\u001b[0m\u001b[0m\n\u001b[0;32m--> 699\u001b[0;31m                     \u001b[0mself\u001b[0m\u001b[0;34m.\u001b[0m\u001b[0m_output\u001b[0m\u001b[0;34m.\u001b[0m\u001b[0mextend\u001b[0m\u001b[0;34m(\u001b[0m\u001b[0mjob\u001b[0m\u001b[0;34m.\u001b[0m\u001b[0mget\u001b[0m\u001b[0;34m(\u001b[0m\u001b[0mtimeout\u001b[0m\u001b[0;34m=\u001b[0m\u001b[0mself\u001b[0m\u001b[0;34m.\u001b[0m\u001b[0mtimeout\u001b[0m\u001b[0;34m)\u001b[0m\u001b[0;34m)\u001b[0m\u001b[0;34m\u001b[0m\u001b[0m\n\u001b[0m\u001b[1;32m    700\u001b[0m                 \u001b[0;32melse\u001b[0m\u001b[0;34m:\u001b[0m\u001b[0;34m\u001b[0m\u001b[0m\n",
      "\u001b[0;32m~/anaconda3/envs/fastai/lib/python3.6/multiprocessing/pool.py\u001b[0m in \u001b[0;36mget\u001b[0;34m(self, timeout)\u001b[0m\n\u001b[1;32m    637\u001b[0m     \u001b[0;32mdef\u001b[0m \u001b[0mget\u001b[0m\u001b[0;34m(\u001b[0m\u001b[0mself\u001b[0m\u001b[0;34m,\u001b[0m \u001b[0mtimeout\u001b[0m\u001b[0;34m=\u001b[0m\u001b[0;32mNone\u001b[0m\u001b[0;34m)\u001b[0m\u001b[0;34m:\u001b[0m\u001b[0;34m\u001b[0m\u001b[0m\n\u001b[0;32m--> 638\u001b[0;31m         \u001b[0mself\u001b[0m\u001b[0;34m.\u001b[0m\u001b[0mwait\u001b[0m\u001b[0;34m(\u001b[0m\u001b[0mtimeout\u001b[0m\u001b[0;34m)\u001b[0m\u001b[0;34m\u001b[0m\u001b[0m\n\u001b[0m\u001b[1;32m    639\u001b[0m         \u001b[0;32mif\u001b[0m \u001b[0;32mnot\u001b[0m \u001b[0mself\u001b[0m\u001b[0;34m.\u001b[0m\u001b[0mready\u001b[0m\u001b[0;34m(\u001b[0m\u001b[0;34m)\u001b[0m\u001b[0;34m:\u001b[0m\u001b[0;34m\u001b[0m\u001b[0m\n",
      "\u001b[0;32m~/anaconda3/envs/fastai/lib/python3.6/multiprocessing/pool.py\u001b[0m in \u001b[0;36mwait\u001b[0;34m(self, timeout)\u001b[0m\n\u001b[1;32m    634\u001b[0m     \u001b[0;32mdef\u001b[0m \u001b[0mwait\u001b[0m\u001b[0;34m(\u001b[0m\u001b[0mself\u001b[0m\u001b[0;34m,\u001b[0m \u001b[0mtimeout\u001b[0m\u001b[0;34m=\u001b[0m\u001b[0;32mNone\u001b[0m\u001b[0;34m)\u001b[0m\u001b[0;34m:\u001b[0m\u001b[0;34m\u001b[0m\u001b[0m\n\u001b[0;32m--> 635\u001b[0;31m         \u001b[0mself\u001b[0m\u001b[0;34m.\u001b[0m\u001b[0m_event\u001b[0m\u001b[0;34m.\u001b[0m\u001b[0mwait\u001b[0m\u001b[0;34m(\u001b[0m\u001b[0mtimeout\u001b[0m\u001b[0;34m)\u001b[0m\u001b[0;34m\u001b[0m\u001b[0m\n\u001b[0m\u001b[1;32m    636\u001b[0m \u001b[0;34m\u001b[0m\u001b[0m\n",
      "\u001b[0;32m~/anaconda3/envs/fastai/lib/python3.6/threading.py\u001b[0m in \u001b[0;36mwait\u001b[0;34m(self, timeout)\u001b[0m\n\u001b[1;32m    550\u001b[0m             \u001b[0;32mif\u001b[0m \u001b[0;32mnot\u001b[0m \u001b[0msignaled\u001b[0m\u001b[0;34m:\u001b[0m\u001b[0;34m\u001b[0m\u001b[0m\n\u001b[0;32m--> 551\u001b[0;31m                 \u001b[0msignaled\u001b[0m \u001b[0;34m=\u001b[0m \u001b[0mself\u001b[0m\u001b[0;34m.\u001b[0m\u001b[0m_cond\u001b[0m\u001b[0;34m.\u001b[0m\u001b[0mwait\u001b[0m\u001b[0;34m(\u001b[0m\u001b[0mtimeout\u001b[0m\u001b[0;34m)\u001b[0m\u001b[0;34m\u001b[0m\u001b[0m\n\u001b[0m\u001b[1;32m    552\u001b[0m             \u001b[0;32mreturn\u001b[0m \u001b[0msignaled\u001b[0m\u001b[0;34m\u001b[0m\u001b[0m\n",
      "\u001b[0;32m~/anaconda3/envs/fastai/lib/python3.6/threading.py\u001b[0m in \u001b[0;36mwait\u001b[0;34m(self, timeout)\u001b[0m\n\u001b[1;32m    294\u001b[0m             \u001b[0;32mif\u001b[0m \u001b[0mtimeout\u001b[0m \u001b[0;32mis\u001b[0m \u001b[0;32mNone\u001b[0m\u001b[0;34m:\u001b[0m\u001b[0;34m\u001b[0m\u001b[0m\n\u001b[0;32m--> 295\u001b[0;31m                 \u001b[0mwaiter\u001b[0m\u001b[0;34m.\u001b[0m\u001b[0macquire\u001b[0m\u001b[0;34m(\u001b[0m\u001b[0;34m)\u001b[0m\u001b[0;34m\u001b[0m\u001b[0m\n\u001b[0m\u001b[1;32m    296\u001b[0m                 \u001b[0mgotit\u001b[0m \u001b[0;34m=\u001b[0m \u001b[0;32mTrue\u001b[0m\u001b[0;34m\u001b[0m\u001b[0m\n",
      "\u001b[0;31mKeyboardInterrupt\u001b[0m: ",
      "\nDuring handling of the above exception, another exception occurred:\n",
      "\u001b[0;31mKeyboardInterrupt\u001b[0m                         Traceback (most recent call last)",
      "\u001b[0;32m<ipython-input-95-c2f90198fb50>\u001b[0m in \u001b[0;36m<module>\u001b[0;34m()\u001b[0m\n\u001b[1;32m     27\u001b[0m \u001b[0;34m\u001b[0m\u001b[0m\n\u001b[1;32m     28\u001b[0m \u001b[0;34m\u001b[0m\u001b[0m\n\u001b[0;32m---> 29\u001b[0;31m \u001b[0mgsearch1\u001b[0m\u001b[0;34m.\u001b[0m\u001b[0mfit\u001b[0m\u001b[0;34m(\u001b[0m\u001b[0mtrain_stack\u001b[0m\u001b[0;34m,\u001b[0m\u001b[0mtarget\u001b[0m\u001b[0;34m)\u001b[0m\u001b[0;34m\u001b[0m\u001b[0m\n\u001b[0m\u001b[1;32m     30\u001b[0m \u001b[0;34m\u001b[0m\u001b[0m\n\u001b[1;32m     31\u001b[0m \u001b[0mgsearch1\u001b[0m\u001b[0;34m.\u001b[0m\u001b[0mgrid_scores_\u001b[0m\u001b[0;34m,\u001b[0m \u001b[0mgsearch1\u001b[0m\u001b[0;34m.\u001b[0m\u001b[0mbest_params_\u001b[0m\u001b[0;34m,\u001b[0m \u001b[0mgsearch1\u001b[0m\u001b[0;34m.\u001b[0m\u001b[0mbest_score_\u001b[0m\u001b[0;34m\u001b[0m\u001b[0m\n",
      "\u001b[0;32m~/anaconda3/envs/fastai/lib/python3.6/site-packages/sklearn/model_selection/_search.py\u001b[0m in \u001b[0;36mfit\u001b[0;34m(self, X, y, groups, **fit_params)\u001b[0m\n\u001b[1;32m    637\u001b[0m                                   error_score=self.error_score)\n\u001b[1;32m    638\u001b[0m           for parameters, (train, test) in product(candidate_params,\n\u001b[0;32m--> 639\u001b[0;31m                                                    cv.split(X, y, groups)))\n\u001b[0m\u001b[1;32m    640\u001b[0m \u001b[0;34m\u001b[0m\u001b[0m\n\u001b[1;32m    641\u001b[0m         \u001b[0;31m# if one choose to see train score, \"out\" will contain train score info\u001b[0m\u001b[0;34m\u001b[0m\u001b[0;34m\u001b[0m\u001b[0m\n",
      "\u001b[0;32m~/anaconda3/envs/fastai/lib/python3.6/site-packages/sklearn/externals/joblib/parallel.py\u001b[0m in \u001b[0;36m__call__\u001b[0;34m(self, iterable)\u001b[0m\n\u001b[1;32m    787\u001b[0m                 \u001b[0;31m# consumption.\u001b[0m\u001b[0;34m\u001b[0m\u001b[0;34m\u001b[0m\u001b[0m\n\u001b[1;32m    788\u001b[0m                 \u001b[0mself\u001b[0m\u001b[0;34m.\u001b[0m\u001b[0m_iterating\u001b[0m \u001b[0;34m=\u001b[0m \u001b[0;32mFalse\u001b[0m\u001b[0;34m\u001b[0m\u001b[0m\n\u001b[0;32m--> 789\u001b[0;31m             \u001b[0mself\u001b[0m\u001b[0;34m.\u001b[0m\u001b[0mretrieve\u001b[0m\u001b[0;34m(\u001b[0m\u001b[0;34m)\u001b[0m\u001b[0;34m\u001b[0m\u001b[0m\n\u001b[0m\u001b[1;32m    790\u001b[0m             \u001b[0;31m# Make sure that we get a last message telling us we are done\u001b[0m\u001b[0;34m\u001b[0m\u001b[0;34m\u001b[0m\u001b[0m\n\u001b[1;32m    791\u001b[0m             \u001b[0melapsed_time\u001b[0m \u001b[0;34m=\u001b[0m \u001b[0mtime\u001b[0m\u001b[0;34m.\u001b[0m\u001b[0mtime\u001b[0m\u001b[0;34m(\u001b[0m\u001b[0;34m)\u001b[0m \u001b[0;34m-\u001b[0m \u001b[0mself\u001b[0m\u001b[0;34m.\u001b[0m\u001b[0m_start_time\u001b[0m\u001b[0;34m\u001b[0m\u001b[0m\n",
      "\u001b[0;32m~/anaconda3/envs/fastai/lib/python3.6/site-packages/sklearn/externals/joblib/parallel.py\u001b[0m in \u001b[0;36mretrieve\u001b[0;34m(self)\u001b[0m\n\u001b[1;32m    719\u001b[0m                     \u001b[0;31m# scheduling.\u001b[0m\u001b[0;34m\u001b[0m\u001b[0;34m\u001b[0m\u001b[0m\n\u001b[1;32m    720\u001b[0m                     \u001b[0mensure_ready\u001b[0m \u001b[0;34m=\u001b[0m \u001b[0mself\u001b[0m\u001b[0;34m.\u001b[0m\u001b[0m_managed_backend\u001b[0m\u001b[0;34m\u001b[0m\u001b[0m\n\u001b[0;32m--> 721\u001b[0;31m                     \u001b[0mbackend\u001b[0m\u001b[0;34m.\u001b[0m\u001b[0mabort_everything\u001b[0m\u001b[0;34m(\u001b[0m\u001b[0mensure_ready\u001b[0m\u001b[0;34m=\u001b[0m\u001b[0mensure_ready\u001b[0m\u001b[0;34m)\u001b[0m\u001b[0;34m\u001b[0m\u001b[0m\n\u001b[0m\u001b[1;32m    722\u001b[0m \u001b[0;34m\u001b[0m\u001b[0m\n\u001b[1;32m    723\u001b[0m                 \u001b[0;32mif\u001b[0m \u001b[0;32mnot\u001b[0m \u001b[0misinstance\u001b[0m\u001b[0;34m(\u001b[0m\u001b[0mexception\u001b[0m\u001b[0;34m,\u001b[0m \u001b[0mTransportableException\u001b[0m\u001b[0;34m)\u001b[0m\u001b[0;34m:\u001b[0m\u001b[0;34m\u001b[0m\u001b[0m\n",
      "\u001b[0;32m~/anaconda3/envs/fastai/lib/python3.6/site-packages/sklearn/externals/joblib/_parallel_backends.py\u001b[0m in \u001b[0;36mabort_everything\u001b[0;34m(self, ensure_ready)\u001b[0m\n\u001b[1;32m    143\u001b[0m     \u001b[0;32mdef\u001b[0m \u001b[0mabort_everything\u001b[0m\u001b[0;34m(\u001b[0m\u001b[0mself\u001b[0m\u001b[0;34m,\u001b[0m \u001b[0mensure_ready\u001b[0m\u001b[0;34m=\u001b[0m\u001b[0;32mTrue\u001b[0m\u001b[0;34m)\u001b[0m\u001b[0;34m:\u001b[0m\u001b[0;34m\u001b[0m\u001b[0m\n\u001b[1;32m    144\u001b[0m         \u001b[0;34m\"\"\"Shutdown the pool and restart a new one with the same parameters\"\"\"\u001b[0m\u001b[0;34m\u001b[0m\u001b[0m\n\u001b[0;32m--> 145\u001b[0;31m         \u001b[0mself\u001b[0m\u001b[0;34m.\u001b[0m\u001b[0mterminate\u001b[0m\u001b[0;34m(\u001b[0m\u001b[0;34m)\u001b[0m\u001b[0;34m\u001b[0m\u001b[0m\n\u001b[0m\u001b[1;32m    146\u001b[0m         \u001b[0;32mif\u001b[0m \u001b[0mensure_ready\u001b[0m\u001b[0;34m:\u001b[0m\u001b[0;34m\u001b[0m\u001b[0m\n\u001b[1;32m    147\u001b[0m             self.configure(n_jobs=self.parallel.n_jobs, parallel=self.parallel,\n",
      "\u001b[0;32m~/anaconda3/envs/fastai/lib/python3.6/site-packages/sklearn/externals/joblib/_parallel_backends.py\u001b[0m in \u001b[0;36mterminate\u001b[0;34m(self)\u001b[0m\n\u001b[1;32m    321\u001b[0m     \u001b[0;32mdef\u001b[0m \u001b[0mterminate\u001b[0m\u001b[0;34m(\u001b[0m\u001b[0mself\u001b[0m\u001b[0;34m)\u001b[0m\u001b[0;34m:\u001b[0m\u001b[0;34m\u001b[0m\u001b[0m\n\u001b[1;32m    322\u001b[0m         \u001b[0;34m\"\"\"Shutdown the process or thread pool\"\"\"\u001b[0m\u001b[0;34m\u001b[0m\u001b[0m\n\u001b[0;32m--> 323\u001b[0;31m         \u001b[0msuper\u001b[0m\u001b[0;34m(\u001b[0m\u001b[0mMultiprocessingBackend\u001b[0m\u001b[0;34m,\u001b[0m \u001b[0mself\u001b[0m\u001b[0;34m)\u001b[0m\u001b[0;34m.\u001b[0m\u001b[0mterminate\u001b[0m\u001b[0;34m(\u001b[0m\u001b[0;34m)\u001b[0m\u001b[0;34m\u001b[0m\u001b[0m\n\u001b[0m\u001b[1;32m    324\u001b[0m         \u001b[0;32mif\u001b[0m \u001b[0mself\u001b[0m\u001b[0;34m.\u001b[0m\u001b[0mJOBLIB_SPAWNED_PROCESS\u001b[0m \u001b[0;32min\u001b[0m \u001b[0mos\u001b[0m\u001b[0;34m.\u001b[0m\u001b[0menviron\u001b[0m\u001b[0;34m:\u001b[0m\u001b[0;34m\u001b[0m\u001b[0m\n\u001b[1;32m    325\u001b[0m             \u001b[0;32mdel\u001b[0m \u001b[0mos\u001b[0m\u001b[0;34m.\u001b[0m\u001b[0menviron\u001b[0m\u001b[0;34m[\u001b[0m\u001b[0mself\u001b[0m\u001b[0;34m.\u001b[0m\u001b[0mJOBLIB_SPAWNED_PROCESS\u001b[0m\u001b[0;34m]\u001b[0m\u001b[0;34m\u001b[0m\u001b[0m\n",
      "\u001b[0;32m~/anaconda3/envs/fastai/lib/python3.6/site-packages/sklearn/externals/joblib/_parallel_backends.py\u001b[0m in \u001b[0;36mterminate\u001b[0;34m(self)\u001b[0m\n\u001b[1;32m    134\u001b[0m         \u001b[0;32mif\u001b[0m \u001b[0mself\u001b[0m\u001b[0;34m.\u001b[0m\u001b[0m_pool\u001b[0m \u001b[0;32mis\u001b[0m \u001b[0;32mnot\u001b[0m \u001b[0;32mNone\u001b[0m\u001b[0;34m:\u001b[0m\u001b[0;34m\u001b[0m\u001b[0m\n\u001b[1;32m    135\u001b[0m             \u001b[0mself\u001b[0m\u001b[0;34m.\u001b[0m\u001b[0m_pool\u001b[0m\u001b[0;34m.\u001b[0m\u001b[0mclose\u001b[0m\u001b[0;34m(\u001b[0m\u001b[0;34m)\u001b[0m\u001b[0;34m\u001b[0m\u001b[0m\n\u001b[0;32m--> 136\u001b[0;31m             \u001b[0mself\u001b[0m\u001b[0;34m.\u001b[0m\u001b[0m_pool\u001b[0m\u001b[0;34m.\u001b[0m\u001b[0mterminate\u001b[0m\u001b[0;34m(\u001b[0m\u001b[0;34m)\u001b[0m  \u001b[0;31m# terminate does a join()\u001b[0m\u001b[0;34m\u001b[0m\u001b[0m\n\u001b[0m\u001b[1;32m    137\u001b[0m             \u001b[0mself\u001b[0m\u001b[0;34m.\u001b[0m\u001b[0m_pool\u001b[0m \u001b[0;34m=\u001b[0m \u001b[0;32mNone\u001b[0m\u001b[0;34m\u001b[0m\u001b[0m\n\u001b[1;32m    138\u001b[0m \u001b[0;34m\u001b[0m\u001b[0m\n",
      "\u001b[0;32m~/anaconda3/envs/fastai/lib/python3.6/site-packages/sklearn/externals/joblib/pool.py\u001b[0m in \u001b[0;36mterminate\u001b[0;34m(self)\u001b[0m\n\u001b[1;32m    604\u001b[0m         \u001b[0;32mfor\u001b[0m \u001b[0mi\u001b[0m \u001b[0;32min\u001b[0m \u001b[0mrange\u001b[0m\u001b[0;34m(\u001b[0m\u001b[0mn_retries\u001b[0m\u001b[0;34m)\u001b[0m\u001b[0;34m:\u001b[0m\u001b[0;34m\u001b[0m\u001b[0m\n\u001b[1;32m    605\u001b[0m             \u001b[0;32mtry\u001b[0m\u001b[0;34m:\u001b[0m\u001b[0;34m\u001b[0m\u001b[0m\n\u001b[0;32m--> 606\u001b[0;31m                 \u001b[0msuper\u001b[0m\u001b[0;34m(\u001b[0m\u001b[0mMemmapingPool\u001b[0m\u001b[0;34m,\u001b[0m \u001b[0mself\u001b[0m\u001b[0;34m)\u001b[0m\u001b[0;34m.\u001b[0m\u001b[0mterminate\u001b[0m\u001b[0;34m(\u001b[0m\u001b[0;34m)\u001b[0m\u001b[0;34m\u001b[0m\u001b[0m\n\u001b[0m\u001b[1;32m    607\u001b[0m                 \u001b[0;32mbreak\u001b[0m\u001b[0;34m\u001b[0m\u001b[0m\n\u001b[1;32m    608\u001b[0m             \u001b[0;32mexcept\u001b[0m \u001b[0mOSError\u001b[0m \u001b[0;32mas\u001b[0m \u001b[0me\u001b[0m\u001b[0;34m:\u001b[0m\u001b[0;34m\u001b[0m\u001b[0m\n",
      "\u001b[0;32m~/anaconda3/envs/fastai/lib/python3.6/multiprocessing/pool.py\u001b[0m in \u001b[0;36mterminate\u001b[0;34m(self)\u001b[0m\n\u001b[1;32m    539\u001b[0m         \u001b[0mself\u001b[0m\u001b[0;34m.\u001b[0m\u001b[0m_state\u001b[0m \u001b[0;34m=\u001b[0m \u001b[0mTERMINATE\u001b[0m\u001b[0;34m\u001b[0m\u001b[0m\n\u001b[1;32m    540\u001b[0m         \u001b[0mself\u001b[0m\u001b[0;34m.\u001b[0m\u001b[0m_worker_handler\u001b[0m\u001b[0;34m.\u001b[0m\u001b[0m_state\u001b[0m \u001b[0;34m=\u001b[0m \u001b[0mTERMINATE\u001b[0m\u001b[0;34m\u001b[0m\u001b[0m\n\u001b[0;32m--> 541\u001b[0;31m         \u001b[0mself\u001b[0m\u001b[0;34m.\u001b[0m\u001b[0m_terminate\u001b[0m\u001b[0;34m(\u001b[0m\u001b[0;34m)\u001b[0m\u001b[0;34m\u001b[0m\u001b[0m\n\u001b[0m\u001b[1;32m    542\u001b[0m \u001b[0;34m\u001b[0m\u001b[0m\n\u001b[1;32m    543\u001b[0m     \u001b[0;32mdef\u001b[0m \u001b[0mjoin\u001b[0m\u001b[0;34m(\u001b[0m\u001b[0mself\u001b[0m\u001b[0;34m)\u001b[0m\u001b[0;34m:\u001b[0m\u001b[0;34m\u001b[0m\u001b[0m\n",
      "\u001b[0;32m~/anaconda3/envs/fastai/lib/python3.6/multiprocessing/util.py\u001b[0m in \u001b[0;36m__call__\u001b[0;34m(self, wr, _finalizer_registry, sub_debug, getpid)\u001b[0m\n\u001b[1;32m    184\u001b[0m                 sub_debug('finalizer calling %s with args %s and kwargs %s',\n\u001b[1;32m    185\u001b[0m                           self._callback, self._args, self._kwargs)\n\u001b[0;32m--> 186\u001b[0;31m                 \u001b[0mres\u001b[0m \u001b[0;34m=\u001b[0m \u001b[0mself\u001b[0m\u001b[0;34m.\u001b[0m\u001b[0m_callback\u001b[0m\u001b[0;34m(\u001b[0m\u001b[0;34m*\u001b[0m\u001b[0mself\u001b[0m\u001b[0;34m.\u001b[0m\u001b[0m_args\u001b[0m\u001b[0;34m,\u001b[0m \u001b[0;34m**\u001b[0m\u001b[0mself\u001b[0m\u001b[0;34m.\u001b[0m\u001b[0m_kwargs\u001b[0m\u001b[0;34m)\u001b[0m\u001b[0;34m\u001b[0m\u001b[0m\n\u001b[0m\u001b[1;32m    187\u001b[0m             \u001b[0mself\u001b[0m\u001b[0;34m.\u001b[0m\u001b[0m_weakref\u001b[0m \u001b[0;34m=\u001b[0m \u001b[0mself\u001b[0m\u001b[0;34m.\u001b[0m\u001b[0m_callback\u001b[0m \u001b[0;34m=\u001b[0m \u001b[0mself\u001b[0m\u001b[0;34m.\u001b[0m\u001b[0m_args\u001b[0m \u001b[0;34m=\u001b[0m\u001b[0;31m \u001b[0m\u001b[0;31m\\\u001b[0m\u001b[0;34m\u001b[0m\u001b[0m\n\u001b[1;32m    188\u001b[0m                             \u001b[0mself\u001b[0m\u001b[0;34m.\u001b[0m\u001b[0m_kwargs\u001b[0m \u001b[0;34m=\u001b[0m \u001b[0mself\u001b[0m\u001b[0;34m.\u001b[0m\u001b[0m_key\u001b[0m \u001b[0;34m=\u001b[0m \u001b[0;32mNone\u001b[0m\u001b[0;34m\u001b[0m\u001b[0m\n",
      "\u001b[0;32m~/anaconda3/envs/fastai/lib/python3.6/multiprocessing/pool.py\u001b[0m in \u001b[0;36m_terminate_pool\u001b[0;34m(cls, taskqueue, inqueue, outqueue, pool, worker_handler, task_handler, result_handler, cache)\u001b[0m\n\u001b[1;32m    569\u001b[0m \u001b[0;34m\u001b[0m\u001b[0m\n\u001b[1;32m    570\u001b[0m         \u001b[0mutil\u001b[0m\u001b[0;34m.\u001b[0m\u001b[0mdebug\u001b[0m\u001b[0;34m(\u001b[0m\u001b[0;34m'helping task handler/workers to finish'\u001b[0m\u001b[0;34m)\u001b[0m\u001b[0;34m\u001b[0m\u001b[0m\n\u001b[0;32m--> 571\u001b[0;31m         \u001b[0mcls\u001b[0m\u001b[0;34m.\u001b[0m\u001b[0m_help_stuff_finish\u001b[0m\u001b[0;34m(\u001b[0m\u001b[0minqueue\u001b[0m\u001b[0;34m,\u001b[0m \u001b[0mtask_handler\u001b[0m\u001b[0;34m,\u001b[0m \u001b[0mlen\u001b[0m\u001b[0;34m(\u001b[0m\u001b[0mpool\u001b[0m\u001b[0;34m)\u001b[0m\u001b[0;34m)\u001b[0m\u001b[0;34m\u001b[0m\u001b[0m\n\u001b[0m\u001b[1;32m    572\u001b[0m \u001b[0;34m\u001b[0m\u001b[0m\n\u001b[1;32m    573\u001b[0m         \u001b[0;32massert\u001b[0m \u001b[0mresult_handler\u001b[0m\u001b[0;34m.\u001b[0m\u001b[0mis_alive\u001b[0m\u001b[0;34m(\u001b[0m\u001b[0;34m)\u001b[0m \u001b[0;32mor\u001b[0m \u001b[0mlen\u001b[0m\u001b[0;34m(\u001b[0m\u001b[0mcache\u001b[0m\u001b[0;34m)\u001b[0m \u001b[0;34m==\u001b[0m \u001b[0;36m0\u001b[0m\u001b[0;34m\u001b[0m\u001b[0m\n",
      "\u001b[0;32m~/anaconda3/envs/fastai/lib/python3.6/multiprocessing/pool.py\u001b[0m in \u001b[0;36m_help_stuff_finish\u001b[0;34m(inqueue, task_handler, size)\u001b[0m\n\u001b[1;32m    554\u001b[0m         \u001b[0;31m# task_handler may be blocked trying to put items on inqueue\u001b[0m\u001b[0;34m\u001b[0m\u001b[0;34m\u001b[0m\u001b[0m\n\u001b[1;32m    555\u001b[0m         \u001b[0mutil\u001b[0m\u001b[0;34m.\u001b[0m\u001b[0mdebug\u001b[0m\u001b[0;34m(\u001b[0m\u001b[0;34m'removing tasks from inqueue until task handler finished'\u001b[0m\u001b[0;34m)\u001b[0m\u001b[0;34m\u001b[0m\u001b[0m\n\u001b[0;32m--> 556\u001b[0;31m         \u001b[0minqueue\u001b[0m\u001b[0;34m.\u001b[0m\u001b[0m_rlock\u001b[0m\u001b[0;34m.\u001b[0m\u001b[0macquire\u001b[0m\u001b[0;34m(\u001b[0m\u001b[0;34m)\u001b[0m\u001b[0;34m\u001b[0m\u001b[0m\n\u001b[0m\u001b[1;32m    557\u001b[0m         \u001b[0;32mwhile\u001b[0m \u001b[0mtask_handler\u001b[0m\u001b[0;34m.\u001b[0m\u001b[0mis_alive\u001b[0m\u001b[0;34m(\u001b[0m\u001b[0;34m)\u001b[0m \u001b[0;32mand\u001b[0m \u001b[0minqueue\u001b[0m\u001b[0;34m.\u001b[0m\u001b[0m_reader\u001b[0m\u001b[0;34m.\u001b[0m\u001b[0mpoll\u001b[0m\u001b[0;34m(\u001b[0m\u001b[0;34m)\u001b[0m\u001b[0;34m:\u001b[0m\u001b[0;34m\u001b[0m\u001b[0m\n\u001b[1;32m    558\u001b[0m             \u001b[0minqueue\u001b[0m\u001b[0;34m.\u001b[0m\u001b[0m_reader\u001b[0m\u001b[0;34m.\u001b[0m\u001b[0mrecv\u001b[0m\u001b[0;34m(\u001b[0m\u001b[0;34m)\u001b[0m\u001b[0;34m\u001b[0m\u001b[0m\n",
      "\u001b[0;31mKeyboardInterrupt\u001b[0m: "
     ]
    }
   ],
   "source": [
    "gbm_param_grid = {\"learning_rate\": [0.01, 0.015, 0.025, 0.05, 0.1],\n",
    "                  \"gamma\": [0.05, 0.1, 0.3, 0.5, 0.7, 0.9, 1.0],\n",
    "                  \"max_depth\": [3,5,7, 9, 12, 15, 17, 25],\n",
    "                  \"min_child_weight\": [1, 3, 5, 7],\n",
    "                  \"subsample\": [0.6, 0.7, 0.8, 0.9, 1.0],\n",
    "                  \"colsample_bytree\": [0.6, 0.7, 0.8, 0.9, 1.0],\n",
    "                  \"reg_lambda\": np.linspace(0.01, 1, 10),\n",
    "                  \"reg_alpha\": np.linspace(1e-5,1,10)}\n",
    "\n",
    "\n",
    "estimator = XGBClassifier(n_estimators=10000, \n",
    "                          objective= 'binary:logistic', \n",
    "                          n_jobs=8,\n",
    "                          scale_pos_weight=1,\n",
    "                          random_state=42,\n",
    "                          early_stopping=30) \n",
    "                          \n",
    "gsearch1 = GridSearchCV(estimator=estimator, \n",
    "                        param_grid=gbm_param_grid, \n",
    "                        scoring='roc_auc',\n",
    "                        n_jobs=8,\n",
    "                        iid=False, \n",
    "                        cv=cv,\n",
    "                        verbose=1)\n",
    "                        \n",
    " \n",
    "gsearch1.fit(train_stack,target)\n",
    "\n",
    "gsearch1.grid_scores_, gsearch1.best_params_, gsearch1.best_score_"
   ]
  },
  {
   "cell_type": "code",
   "execution_count": 6,
   "metadata": {},
   "outputs": [
    {
     "data": {
      "text/plain": [
       "array([0.01, 0.12, 0.23, 0.34, 0.45, 0.56, 0.67, 0.78, 0.89, 1.  ])"
      ]
     },
     "execution_count": 6,
     "metadata": {},
     "output_type": "execute_result"
    }
   ],
   "source": [
    "gbm_param_grid = {\"learning_rate\": [0.01, 0.015, 0.025, 0.05, 0.1],\n",
    "                  \"gamma\": [0.05, 0.1, 0.3, 0.5, 0.7, 0.9, 1.0],\n",
    "                  \"max_depth\": [3,5,7, 9, 12, 15, 17, 25],\n",
    "                  \"min_child_weight\": [1, 3, 5, 7],\n",
    "                  \"subsample\": [0.6, 0.7, 0.8, 0.9, 1.0],\n",
    "                  \"colsample_bytree\": [0.6, 0.7, 0.8, 0.9, 1.0],\n",
    "                  \"lambda\": np.linspace(0.01, 1, 10),\n",
    "                  \"alpha\": np.linspace(0,1,10)}\n",
    "\n",
    "scoring = 'roc_auc'\n",
    "objective =  'binary:logistic'\n",
    "n_estimators=10000\n",
    "early_stopping=30\n",
    "seed = 42\n",
    "\n",
    "xgb, cv_results\n"
   ]
  },
  {
   "cell_type": "markdown",
   "metadata": {
    "colab_type": "text",
    "id": "L5VHxUICfqVo"
   },
   "source": [
    "We can see that the minimum number of previously posted projects for a teacher is 0, the maximum number is 451, and the mean (average) number is 11.23. Let's visualize the distribution using a histogram, to get a better sense of the spread."
   ]
  },
  {
   "cell_type": "code",
   "execution_count": null,
   "metadata": {
    "ExecuteTime": {
     "end_time": "2018-04-10T17:47:46.367756Z",
     "start_time": "2018-04-10T17:47:45.996620Z"
    },
    "colab": {
     "autoexec": {
      "startup": false,
      "wait_interval": 0
     },
     "output_extras": [
      {}
     ]
    },
    "colab_type": "code",
    "id": "kiTgWUOqfqVp",
    "outputId": "62ead2bf-4b0a-467e-9977-b18b77cabc22"
   },
   "outputs": [],
   "source": [
    "train_stack"
   ]
  },
  {
   "cell_type": "markdown",
   "metadata": {
    "colab_type": "text",
    "id": "XccR-LZxfqVt"
   },
   "source": [
    "We can see that the vast majority of examples have a `teacher_number_previously_posted_projects` value between 0 and 10, with a sharp dropoff thereafter. However, if we rebucket our data into two bins (&lt; 10 and &ge; 10), we can see that there's a substantial long tail of examples with previously-posted-project values greater than 10:"
   ]
  },
  {
   "cell_type": "code",
   "execution_count": 43,
   "metadata": {
    "ExecuteTime": {
     "end_time": "2018-04-10T17:47:46.643290Z",
     "start_time": "2018-04-10T17:47:46.370290Z"
    },
    "colab": {
     "autoexec": {
      "startup": false,
      "wait_interval": 0
     },
     "output_extras": [
      {}
     ]
    },
    "colab_type": "code",
    "id": "mJWQbAf4fqVu",
    "outputId": "8fae23a0-02fe-4b35-81c9-61c4a3187791"
   },
   "outputs": [
    {
     "data": {
      "image/png": "[encoded data removed]",
      "text/plain": [
       "<Figure size 800x550 with 1 Axes>"
      ]
     },
     "metadata": {},
     "output_type": "display_data"
    }
   ],
   "source": [
    "# Plot histogram with 45 bins; each bin representing a range of 10\n",
    "plt.hist(train[\"teacher_number_of_previously_posted_projects\"], bins=[0, 10, 450])\n",
    "plt.xticks(range(0, 500, 50))\n",
    "plt.show()"
   ]
  },
  {
   "cell_type": "markdown",
   "metadata": {},
   "source": [
    "### Cross Validation"
   ]
  },
  {
   "cell_type": "markdown",
   "metadata": {},
   "source": [
    "Since we have a heavily unbalanced target variable. It's recommended to perform KFold cross validation with Stratification, since this way each fold preserves the percentages of sample in each class."
   ]
  },
  {
   "cell_type": "code",
   "execution_count": 44,
   "metadata": {
    "ExecuteTime": {
     "end_time": "2018-04-10T17:47:48.587549Z",
     "start_time": "2018-04-10T17:47:46.645671Z"
    }
   },
   "outputs": [
    {
     "name": "stdout",
     "output_type": "stream",
     "text": [
      "[ 90950  90951  90953 ... 182077 182078 182079]\n"
     ]
    },
    {
     "ename": "ValueError",
     "evalue": "could not convert string to float: \"Reader Leaders! Balanced literacy was a mystery to me until a couple of years ago, when my school district began implementing the program.  Now, a typical morning in my classroom involves a whole-group lesson, stations or assignments, and small-group teaching (based on students' reading levels). At the beginning of the school year, the reading levels of my students range from preschool to 4th or 5th grade.  Our school offers many programs and incentives to keep the kids reading all year long.  We strive to help them reach their reading potential.  In fact, we want them to become leaders through reading.  With a listening station, I can check out audio books to meet the needs of all students - whether struggling or advanced readers.  Every student will benefit on an individual level. Their fluency and comprehension will be greatly impacted by this resource!  Is there a better way to encourage reader leaders? My students will be able to listen to books read aloud to them on CD.  They will participate in literacy group or book club activities that go along with the books they read.  Students will complete journal writing, word study, and creative extension activities (as part of balanced literacy) using this convenient listening station.\"",
     "output_type": "error",
     "traceback": [
      "\u001b[0;31m---------------------------------------------------------------------------\u001b[0m",
      "\u001b[0;31mValueError\u001b[0m                                Traceback (most recent call last)",
      "\u001b[0;32m<ipython-input-44-4431c6a9ceb5>\u001b[0m in \u001b[0;36m<module>\u001b[0;34m()\u001b[0m\n\u001b[1;32m     11\u001b[0m                          random_state=random_state)\n\u001b[1;32m     12\u001b[0m \u001b[0;34m\u001b[0m\u001b[0m\n\u001b[0;32m---> 13\u001b[0;31m \u001b[0mplot_roc_crossval\u001b[0m\u001b[0;34m(\u001b[0m\u001b[0mX\u001b[0m\u001b[0;34m,\u001b[0m \u001b[0my\u001b[0m\u001b[0;34m,\u001b[0m \u001b[0mclassifier\u001b[0m\u001b[0;34m,\u001b[0m \u001b[0mn_splits\u001b[0m\u001b[0;34m=\u001b[0m\u001b[0;36m2\u001b[0m\u001b[0;34m)\u001b[0m\u001b[0;34m\u001b[0m\u001b[0m\n\u001b[0m",
      "\u001b[0;32m~/projects/machine-learning/nanodegree-ml/projects/capstone/plot_roc_crossval.py\u001b[0m in \u001b[0;36mplot_roc_crossval\u001b[0;34m(X, y, classifier, n_splits)\u001b[0m\n\u001b[1;32m     58\u001b[0m \u001b[0;34m\u001b[0m\u001b[0m\n\u001b[1;32m     59\u001b[0m         \u001b[0mprint\u001b[0m\u001b[0;34m(\u001b[0m\u001b[0mtrain\u001b[0m\u001b[0;34m)\u001b[0m\u001b[0;34m\u001b[0m\u001b[0m\n\u001b[0;32m---> 60\u001b[0;31m         \u001b[0mprobas_\u001b[0m \u001b[0;34m=\u001b[0m \u001b[0mclassifier\u001b[0m\u001b[0;34m.\u001b[0m\u001b[0mfit\u001b[0m\u001b[0;34m(\u001b[0m\u001b[0mX\u001b[0m\u001b[0;34m.\u001b[0m\u001b[0mloc\u001b[0m\u001b[0;34m[\u001b[0m\u001b[0mtrain\u001b[0m\u001b[0;34m]\u001b[0m\u001b[0;34m,\u001b[0m \u001b[0my\u001b[0m\u001b[0;34m.\u001b[0m\u001b[0mloc\u001b[0m\u001b[0;34m[\u001b[0m\u001b[0mtrain\u001b[0m\u001b[0;34m]\u001b[0m\u001b[0;34m)\u001b[0m\u001b[0;34m.\u001b[0m\u001b[0mpredict_proba\u001b[0m\u001b[0;34m(\u001b[0m\u001b[0mX\u001b[0m\u001b[0;34m.\u001b[0m\u001b[0mloc\u001b[0m\u001b[0;34m[\u001b[0m\u001b[0mtest\u001b[0m\u001b[0;34m]\u001b[0m\u001b[0;34m)\u001b[0m\u001b[0;34m\u001b[0m\u001b[0m\n\u001b[0m\u001b[1;32m     61\u001b[0m         \u001b[0;31m# Compute ROC curve and area the curve\u001b[0m\u001b[0;34m\u001b[0m\u001b[0;34m\u001b[0m\u001b[0m\n\u001b[1;32m     62\u001b[0m         \u001b[0mfpr\u001b[0m\u001b[0;34m,\u001b[0m \u001b[0mtpr\u001b[0m\u001b[0;34m,\u001b[0m \u001b[0mthresholds\u001b[0m \u001b[0;34m=\u001b[0m \u001b[0mroc_curve\u001b[0m\u001b[0;34m(\u001b[0m\u001b[0my\u001b[0m\u001b[0;34m.\u001b[0m\u001b[0mloc\u001b[0m\u001b[0;34m[\u001b[0m\u001b[0mtest\u001b[0m\u001b[0;34m]\u001b[0m\u001b[0;34m,\u001b[0m \u001b[0mprobas_\u001b[0m\u001b[0;34m[\u001b[0m\u001b[0;34m:\u001b[0m\u001b[0;34m,\u001b[0m \u001b[0;36m1\u001b[0m\u001b[0;34m]\u001b[0m\u001b[0;34m)\u001b[0m\u001b[0;34m\u001b[0m\u001b[0m\n",
      "\u001b[0;32m~/anaconda3/envs/fastai/lib/python3.6/site-packages/sklearn/svm/base.py\u001b[0m in \u001b[0;36mfit\u001b[0;34m(self, X, y, sample_weight)\u001b[0m\n\u001b[1;32m    147\u001b[0m         \u001b[0mself\u001b[0m\u001b[0;34m.\u001b[0m\u001b[0m_sparse\u001b[0m \u001b[0;34m=\u001b[0m \u001b[0msparse\u001b[0m \u001b[0;32mand\u001b[0m \u001b[0;32mnot\u001b[0m \u001b[0mcallable\u001b[0m\u001b[0;34m(\u001b[0m\u001b[0mself\u001b[0m\u001b[0;34m.\u001b[0m\u001b[0mkernel\u001b[0m\u001b[0;34m)\u001b[0m\u001b[0;34m\u001b[0m\u001b[0m\n\u001b[1;32m    148\u001b[0m \u001b[0;34m\u001b[0m\u001b[0m\n\u001b[0;32m--> 149\u001b[0;31m         \u001b[0mX\u001b[0m\u001b[0;34m,\u001b[0m \u001b[0my\u001b[0m \u001b[0;34m=\u001b[0m \u001b[0mcheck_X_y\u001b[0m\u001b[0;34m(\u001b[0m\u001b[0mX\u001b[0m\u001b[0;34m,\u001b[0m \u001b[0my\u001b[0m\u001b[0;34m,\u001b[0m \u001b[0mdtype\u001b[0m\u001b[0;34m=\u001b[0m\u001b[0mnp\u001b[0m\u001b[0;34m.\u001b[0m\u001b[0mfloat64\u001b[0m\u001b[0;34m,\u001b[0m \u001b[0morder\u001b[0m\u001b[0;34m=\u001b[0m\u001b[0;34m'C'\u001b[0m\u001b[0;34m,\u001b[0m \u001b[0maccept_sparse\u001b[0m\u001b[0;34m=\u001b[0m\u001b[0;34m'csr'\u001b[0m\u001b[0;34m)\u001b[0m\u001b[0;34m\u001b[0m\u001b[0m\n\u001b[0m\u001b[1;32m    150\u001b[0m         \u001b[0my\u001b[0m \u001b[0;34m=\u001b[0m \u001b[0mself\u001b[0m\u001b[0;34m.\u001b[0m\u001b[0m_validate_targets\u001b[0m\u001b[0;34m(\u001b[0m\u001b[0my\u001b[0m\u001b[0;34m)\u001b[0m\u001b[0;34m\u001b[0m\u001b[0m\n\u001b[1;32m    151\u001b[0m \u001b[0;34m\u001b[0m\u001b[0m\n",
      "\u001b[0;32m~/anaconda3/envs/fastai/lib/python3.6/site-packages/sklearn/utils/validation.py\u001b[0m in \u001b[0;36mcheck_X_y\u001b[0;34m(X, y, accept_sparse, dtype, order, copy, force_all_finite, ensure_2d, allow_nd, multi_output, ensure_min_samples, ensure_min_features, y_numeric, warn_on_dtype, estimator)\u001b[0m\n\u001b[1;32m    571\u001b[0m     X = check_array(X, accept_sparse, dtype, order, copy, force_all_finite,\n\u001b[1;32m    572\u001b[0m                     \u001b[0mensure_2d\u001b[0m\u001b[0;34m,\u001b[0m \u001b[0mallow_nd\u001b[0m\u001b[0;34m,\u001b[0m \u001b[0mensure_min_samples\u001b[0m\u001b[0;34m,\u001b[0m\u001b[0;34m\u001b[0m\u001b[0m\n\u001b[0;32m--> 573\u001b[0;31m                     ensure_min_features, warn_on_dtype, estimator)\n\u001b[0m\u001b[1;32m    574\u001b[0m     \u001b[0;32mif\u001b[0m \u001b[0mmulti_output\u001b[0m\u001b[0;34m:\u001b[0m\u001b[0;34m\u001b[0m\u001b[0m\n\u001b[1;32m    575\u001b[0m         y = check_array(y, 'csr', force_all_finite=True, ensure_2d=False,\n",
      "\u001b[0;32m~/anaconda3/envs/fastai/lib/python3.6/site-packages/sklearn/utils/validation.py\u001b[0m in \u001b[0;36mcheck_array\u001b[0;34m(array, accept_sparse, dtype, order, copy, force_all_finite, ensure_2d, allow_nd, ensure_min_samples, ensure_min_features, warn_on_dtype, estimator)\u001b[0m\n\u001b[1;32m    431\u001b[0m                                       force_all_finite)\n\u001b[1;32m    432\u001b[0m     \u001b[0;32melse\u001b[0m\u001b[0;34m:\u001b[0m\u001b[0;34m\u001b[0m\u001b[0m\n\u001b[0;32m--> 433\u001b[0;31m         \u001b[0marray\u001b[0m \u001b[0;34m=\u001b[0m \u001b[0mnp\u001b[0m\u001b[0;34m.\u001b[0m\u001b[0marray\u001b[0m\u001b[0;34m(\u001b[0m\u001b[0marray\u001b[0m\u001b[0;34m,\u001b[0m \u001b[0mdtype\u001b[0m\u001b[0;34m=\u001b[0m\u001b[0mdtype\u001b[0m\u001b[0;34m,\u001b[0m \u001b[0morder\u001b[0m\u001b[0;34m=\u001b[0m\u001b[0morder\u001b[0m\u001b[0;34m,\u001b[0m \u001b[0mcopy\u001b[0m\u001b[0;34m=\u001b[0m\u001b[0mcopy\u001b[0m\u001b[0;34m)\u001b[0m\u001b[0;34m\u001b[0m\u001b[0m\n\u001b[0m\u001b[1;32m    434\u001b[0m \u001b[0;34m\u001b[0m\u001b[0m\n\u001b[1;32m    435\u001b[0m         \u001b[0;32mif\u001b[0m \u001b[0mensure_2d\u001b[0m\u001b[0;34m:\u001b[0m\u001b[0;34m\u001b[0m\u001b[0m\n",
      "\u001b[0;31mValueError\u001b[0m: could not convert string to float: \"Reader Leaders! Balanced literacy was a mystery to me until a couple of years ago, when my school district began implementing the program.  Now, a typical morning in my classroom involves a whole-group lesson, stations or assignments, and small-group teaching (based on students' reading levels). At the beginning of the school year, the reading levels of my students range from preschool to 4th or 5th grade.  Our school offers many programs and incentives to keep the kids reading all year long.  We strive to help them reach their reading potential.  In fact, we want them to become leaders through reading.  With a listening station, I can check out audio books to meet the needs of all students - whether struggling or advanced readers.  Every student will benefit on an individual level. Their fluency and comprehension will be greatly impacted by this resource!  Is there a better way to encourage reader leaders? My students will be able to listen to books read aloud to them on CD.  They will participate in literacy group or book club activities that go along with the books they read.  Students will complete journal writing, word study, and creative extension activities (as part of balanced literacy) using this convenient listening station.\""
     ]
    }
   ],
   "source": [
    "from sklearn import svm\n",
    "from plot_roc_crossval import plot_roc_crossval\n",
    "\n",
    "eval_size = 0.10\n",
    "\n",
    "X = train_enc.drop('project_is_approved', axis=1)\n",
    "\n",
    "y = train_enc['project_is_approved']\n",
    "\n",
    "classifier = svm.SVC(kernel='rbf', probability=True,\n",
    "                         random_state=random_state)\n",
    "\n",
    "plot_roc_crossval(X, y, classifier, n_splits=2)    \n"
   ]
  },
  {
   "cell_type": "markdown",
   "metadata": {
    "colab_type": "text",
    "id": "VVr_OYM9fqV4"
   },
   "source": [
    "## Submitting a Kaggle Entry\n",
    "\n",
    "Once you're satisfied with your model performance, you can make predictions on the test set as follows (this may take a few minutes to run):"
   ]
  },
  {
   "cell_type": "code",
   "execution_count": null,
   "metadata": {
    "ExecuteTime": {
     "end_time": "2018-04-10T17:47:48.588935Z",
     "start_time": "2018-04-10T17:46:01.134Z"
    },
    "colab": {
     "autoexec": {
      "startup": false,
      "wait_interval": 0
     }
    },
    "colab_type": "code",
    "id": "n4X_lCZEfqV4"
   },
   "outputs": [],
   "source": [
    "# Filepath to main test dataset.\n",
    "test_file_path = '../input/test.csv'\n",
    "\n",
    "# Read data and store in DataFrame.\n",
    "test_data = pd.read_csv(test_file_path, sep=',')\n",
    "\n",
    "my_feature_name = 'teacher_number_of_previously_posted_projects'\n",
    "\n",
    "# Get test features\n",
    "test_examples = test_data[[my_feature_name]].copy()\n",
    "\n",
    "# No labels in data set, so generate some placeholder values\n",
    "placeholder_label_vals = [0 for i in range(0, 78035)]\n",
    "test_labels = pd.DataFrame({\"project_is_approved\": placeholder_label_vals})\n",
    "\n",
    "predict_test_input_fn = lambda: my_input_fn(test_examples,\n",
    "                                            test_labels, # unused for prediction\n",
    "                                            num_epochs=1, \n",
    "                                            shuffle=False)\n",
    "\n",
    "# Make predictions\n",
    "predictions_generator = linear_classifier.predict(input_fn=predict_test_input_fn)\n",
    "predictions_list = list(predictions_generator)\n",
    "\n",
    "# Extract probabilities\n",
    "probabilities = [p[\"probabilities\"][1] for p in predictions_list]\n",
    "print(\"Done extracting probabilities\")"
   ]
  },
  {
   "cell_type": "markdown",
   "metadata": {
    "colab_type": "text",
    "id": "4jIylp2yfqWC"
   },
   "source": [
    "We want to format our submission as a CSV with two fields for each example: `id` and our prediction for `project_is_approved`, e.g.:"
   ]
  },
  {
   "cell_type": "markdown",
   "metadata": {
    "colab_type": "text",
    "id": "9t6IfcdnfqWE"
   },
   "source": [
    "```\n",
    "id,project_is_approved\n",
    "p233245,0.54\n",
    "p096795,0.14\n",
    "p236235,0.94\n",
    "```"
   ]
  },
  {
   "cell_type": "markdown",
   "metadata": {
    "colab_type": "text",
    "id": "0hnQneoHfqWE"
   },
   "source": [
    "Run the following code to create a `DataFrame` in the required format:"
   ]
  },
  {
   "cell_type": "code",
   "execution_count": null,
   "metadata": {
    "ExecuteTime": {
     "end_time": "2018-04-10T17:47:48.590924Z",
     "start_time": "2018-04-10T17:46:01.142Z"
    },
    "colab": {
     "autoexec": {
      "startup": false,
      "wait_interval": 0
     }
    },
    "colab_type": "code",
    "id": "lXKsx5dAfqWG"
   },
   "outputs": [],
   "source": [
    "my_submission = pd.DataFrame({'id': test_data[\"id\"], 'project_is_approved': probabilities})\n",
    "print(my_submission.values)"
   ]
  },
  {
   "cell_type": "markdown",
   "metadata": {
    "colab_type": "text",
    "id": "iI9NxSgTfqWL"
   },
   "source": [
    "Then write your output to CSV:"
   ]
  },
  {
   "cell_type": "code",
   "execution_count": null,
   "metadata": {
    "ExecuteTime": {
     "end_time": "2018-04-10T17:47:48.593997Z",
     "start_time": "2018-04-10T17:46:01.150Z"
    },
    "colab": {
     "autoexec": {
      "startup": false,
      "wait_interval": 0
     }
    },
    "colab_type": "code",
    "id": "bk6rgnMEfqWM"
   },
   "outputs": [],
   "source": [
    "my_submission.to_csv('my_submission.csv', index=False)"
   ]
  },
  {
   "cell_type": "markdown",
   "metadata": {
    "colab_type": "text",
    "id": "yA7ID_abfqWR"
   },
   "source": [
    "Next, click the **Commit & Run** button to execute the entire Kaggle kernel. This will take ~10 minutes to run. \n",
    "\n",
    "When it's finished, you'll see the navigation bar at the top of your screen has an **Output** tab. Click on the **Output** tab, and click on the **Submit to Competition** button to submit to Kaggle."
   ]
  }
 ],
 "metadata": {
  "colab": {
   "collapsed_sections": [
    "8lcd4vxIfqVG"
   ],
   "default_view": {},
   "name": "capstone.ipynb",
   "provenance": [],
   "version": "0.3.2",
   "views": {}
  },
  "kernelspec": {
   "display_name": "Python 3",
   "language": "python",
   "name": "python3"
  },
  "language_info": {
   "codemirror_mode": {
    "name": "ipython",
    "version": 3
   },
   "file_extension": ".py",
   "mimetype": "text/x-python",
   "name": "python",
   "nbconvert_exporter": "python",
   "pygments_lexer": "ipython3",
   "version": "3.6.5"
  },
  "notify_time": "0",
  "toc": {
   "base_numbering": 1,
   "nav_menu": {
    "height": "165px",
    "width": "244px"
   },
   "number_sections": true,
   "sideBar": true,
   "skip_h1_title": true,
   "title_cell": "Table of Contents",
   "title_sidebar": "Contents",
   "toc_cell": true,
   "toc_position": {
    "height": "532px",
    "left": "705px",
    "top": "200.133px",
    "width": "267px"
   },
   "toc_section_display": true,
   "toc_window_display": true
  },
  "varInspector": {
   "cols": {
    "lenName": 16,
    "lenType": 16,
    "lenVar": 40
   },
   "kernels_config": {
    "python": {
     "delete_cmd_postfix": "",
     "delete_cmd_prefix": "del ",
     "library": "var_list.py",
     "varRefreshCmd": "print(var_dic_list())"
    },
    "r": {
     "delete_cmd_postfix": ") ",
     "delete_cmd_prefix": "rm(",
     "library": "var_list.r",
     "varRefreshCmd": "cat(var_dic_list()) "
    }
   },
   "oldHeight": 412.166666,
   "position": {
    "height": "615px",
    "left": "2020px",
    "right": "49px",
    "top": "355px",
    "width": "491px"
   },
   "types_to_exclude": [
    "module",
    "function",
    "builtin_function_or_method",
    "instance",
    "_Feature"
   ],
   "varInspector_section_display": "block",
   "window_display": true
  }
 },
 "nbformat": 4,
 "nbformat_minor": 2
}
